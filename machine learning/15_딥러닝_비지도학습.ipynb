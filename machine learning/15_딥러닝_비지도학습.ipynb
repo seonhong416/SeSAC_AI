{
 "cells": [
  {
   "cell_type": "code",
   "execution_count": 1,
   "metadata": {},
   "outputs": [],
   "source": [
    "# Auto_encoder\n",
    "\n",
    "import numpy as np\n",
    "import pandas as pd\n",
    "import matplotlib.pyplot as plt\n",
    "\n",
    "import keras\n",
    "from keras import layers\n",
    "\n",
    "# mnist 데이터 불러오기\n",
    "from keras.datasets import mnist"
   ]
  },
  {
   "cell_type": "code",
   "execution_count": 2,
   "metadata": {},
   "outputs": [],
   "source": [
    "(x_train,_),(x_test,_) = mnist.load_data() # 이미지만 사용\n",
    "\n",
    "# 0과 1사이로 정규화\n",
    "x_train = x_train.astype('float32') / 255\n",
    "x_test = x_test.astype('float32') / 255"
   ]
  },
  {
   "cell_type": "code",
   "execution_count": 4,
   "metadata": {},
   "outputs": [
    {
     "name": "stdout",
     "output_type": "stream",
     "text": [
      "60000\n",
      "10000\n"
     ]
    }
   ],
   "source": [
    "print(len(x_train))\n",
    "print(len(x_test))"
   ]
  },
  {
   "cell_type": "code",
   "execution_count": 5,
   "metadata": {},
   "outputs": [
    {
     "data": {
      "text/plain": [
       "(60000, 28, 28)"
      ]
     },
     "execution_count": 5,
     "metadata": {},
     "output_type": "execute_result"
    }
   ],
   "source": [
    "x_train.shape"
   ]
  },
  {
   "cell_type": "code",
   "execution_count": 6,
   "metadata": {},
   "outputs": [
    {
     "data": {
      "text/plain": [
       "(10000, 28, 28)"
      ]
     },
     "execution_count": 6,
     "metadata": {},
     "output_type": "execute_result"
    }
   ],
   "source": [
    "x_test.shape"
   ]
  },
  {
   "cell_type": "code",
   "execution_count": 7,
   "metadata": {},
   "outputs": [
    {
     "data": {
      "text/plain": [
       "(28, 28)"
      ]
     },
     "execution_count": 7,
     "metadata": {},
     "output_type": "execute_result"
    }
   ],
   "source": [
    "x_train.shape[1:]"
   ]
  },
  {
   "cell_type": "code",
   "execution_count": 8,
   "metadata": {},
   "outputs": [
    {
     "data": {
      "text/plain": [
       "784"
      ]
     },
     "execution_count": 8,
     "metadata": {},
     "output_type": "execute_result"
    }
   ],
   "source": [
    "np.prod(x_train.shape[1:])"
   ]
  },
  {
   "cell_type": "code",
   "execution_count": 12,
   "metadata": {},
   "outputs": [],
   "source": [
    "x_train = x_train.reshape((len(x_train), np.prod(x_train.shape[1:])))"
   ]
  },
  {
   "cell_type": "code",
   "execution_count": 13,
   "metadata": {},
   "outputs": [],
   "source": [
    "x_test = x_test.reshape((len(x_test), np.prod(x_test.shape[1:])))"
   ]
  },
  {
   "cell_type": "code",
   "execution_count": 14,
   "metadata": {},
   "outputs": [
    {
     "name": "stdout",
     "output_type": "stream",
     "text": [
      "(60000, 784)\n",
      "(10000, 784)\n"
     ]
    }
   ],
   "source": [
    "print(x_train.shape)\n",
    "print(x_test.shape)"
   ]
  },
  {
   "cell_type": "code",
   "execution_count": 15,
   "metadata": {},
   "outputs": [],
   "source": [
    "# Auto_encoder\n",
    "\n",
    "# encoding 되는 차원의 수\n",
    "encoding_dim = 32\n",
    "\n",
    "# input layer\n",
    "input_img = keras.Input(shape=(784,))\n",
    "\n",
    "# hidden layer (784 dimensions >> 32 dim)\n",
    "encoded = layers.Dense(encoding_dim, activation='relu')(input_img)\n",
    "\n",
    "# output layer (32 dimensions >> 784 dimensions)\n",
    "decoded = layers.Dense(784, activation = 'sigmoid')(encoded)\n",
    "\n",
    "# autoencoder 모델\n",
    "autoencoder = keras.Model(input_img, decoded)"
   ]
  },
  {
   "cell_type": "code",
   "execution_count": 16,
   "metadata": {},
   "outputs": [
    {
     "name": "stdout",
     "output_type": "stream",
     "text": [
      "Epoch 1/20\n",
      "235/235 [==============================] - 2s 2ms/step - loss: 0.2782 - val_loss: 0.1872\n",
      "Epoch 2/20\n",
      "235/235 [==============================] - 0s 2ms/step - loss: 0.1661 - val_loss: 0.1499\n",
      "Epoch 3/20\n",
      "235/235 [==============================] - 0s 2ms/step - loss: 0.1416 - val_loss: 0.1320\n",
      "Epoch 4/20\n",
      "235/235 [==============================] - 0s 2ms/step - loss: 0.1273 - val_loss: 0.1203\n",
      "Epoch 5/20\n",
      "235/235 [==============================] - 0s 2ms/step - loss: 0.1174 - val_loss: 0.1121\n",
      "Epoch 6/20\n",
      "235/235 [==============================] - 0s 2ms/step - loss: 0.1103 - val_loss: 0.1062\n",
      "Epoch 7/20\n",
      "235/235 [==============================] - 0s 2ms/step - loss: 0.1052 - val_loss: 0.1019\n",
      "Epoch 8/20\n",
      "235/235 [==============================] - 0s 2ms/step - loss: 0.1015 - val_loss: 0.0987\n",
      "Epoch 9/20\n",
      "235/235 [==============================] - 0s 2ms/step - loss: 0.0989 - val_loss: 0.0967\n",
      "Epoch 10/20\n",
      "235/235 [==============================] - 0s 2ms/step - loss: 0.0972 - val_loss: 0.0953\n",
      "Epoch 11/20\n",
      "235/235 [==============================] - 0s 2ms/step - loss: 0.0961 - val_loss: 0.0944\n",
      "Epoch 12/20\n",
      "235/235 [==============================] - 0s 2ms/step - loss: 0.0954 - val_loss: 0.0938\n",
      "Epoch 13/20\n",
      "235/235 [==============================] - 0s 2ms/step - loss: 0.0949 - val_loss: 0.0933\n",
      "Epoch 14/20\n",
      "235/235 [==============================] - 0s 2ms/step - loss: 0.0945 - val_loss: 0.0930\n",
      "Epoch 15/20\n",
      "235/235 [==============================] - 0s 2ms/step - loss: 0.0942 - val_loss: 0.0928\n",
      "Epoch 16/20\n",
      "235/235 [==============================] - 0s 2ms/step - loss: 0.0940 - val_loss: 0.0928\n",
      "Epoch 17/20\n",
      "235/235 [==============================] - 0s 2ms/step - loss: 0.0939 - val_loss: 0.0925\n",
      "Epoch 18/20\n",
      "235/235 [==============================] - 0s 2ms/step - loss: 0.0937 - val_loss: 0.0924\n",
      "Epoch 19/20\n",
      "235/235 [==============================] - 0s 2ms/step - loss: 0.0936 - val_loss: 0.0923\n",
      "Epoch 20/20\n",
      "235/235 [==============================] - 0s 2ms/step - loss: 0.0935 - val_loss: 0.0924\n"
     ]
    },
    {
     "data": {
      "text/plain": [
       "<keras.callbacks.History at 0x2029dd651c0>"
      ]
     },
     "execution_count": 16,
     "metadata": {},
     "output_type": "execute_result"
    }
   ],
   "source": [
    "# auto_encoder 학습\n",
    "autoencoder.compile(loss = 'binary_crossentropy', optimizer='adam')\n",
    "\n",
    "# 적합(훈련용 데이터 활용)\n",
    "\n",
    "autoencoder.fit(x_train, x_train,\n",
    "                epochs=20,\n",
    "                batch_size = 256,\n",
    "                shuffle=True,\n",
    "                validation_data = (x_test, x_test))\n",
    "\n"
   ]
  },
  {
   "cell_type": "code",
   "execution_count": 17,
   "metadata": {},
   "outputs": [
    {
     "name": "stdout",
     "output_type": "stream",
     "text": [
      "313/313 [==============================] - 0s 510us/step\n"
     ]
    }
   ],
   "source": [
    "# 학습결과 확인\n",
    "decoded_img = autoencoder.predict(x_test)\n"
   ]
  },
  {
   "cell_type": "code",
   "execution_count": 19,
   "metadata": {},
   "outputs": [
    {
     "data": {
      "image/png": "[encoded data removed]",
      "text/plain": [
       "<Figure size 2000x400 with 20 Axes>"
      ]
     },
     "metadata": {},
     "output_type": "display_data"
    }
   ],
   "source": [
    "n = 10 # 보여주고싶은 그림의 수\n",
    "\n",
    "plt.figure(figsize = (20, 4))\n",
    "for i in range(n) :\n",
    "    # 원래 이미지\n",
    "    ax = plt.subplot(2, n, i+1)\n",
    "    plt.imshow(x_test[i].reshape(28,28))\n",
    "    plt.gray()\n",
    "    ax.get_xaxis().set_visible(False)\n",
    "    ax.get_yaxis().set_visible(False)\n",
    "    \n",
    "    # decoded 이미지\n",
    "    ax = plt.subplot(2, n, i+1+n)\n",
    "    plt.imshow(decoded_img[i].reshape(28,28))\n",
    "    plt.gray()\n",
    "    ax.get_xaxis().set_visible(False)\n",
    "    ax.get_yaxis().set_visible(False)\n",
    "\n",
    "plt.show()"
   ]
  },
  {
   "cell_type": "code",
   "execution_count": null,
   "metadata": {},
   "outputs": [],
   "source": []
  }
 ],
 "metadata": {
  "kernelspec": {
   "display_name": "base",
   "language": "python",
   "name": "python3"
  },
  "language_info": {
   "codemirror_mode": {
    "name": "ipython",
    "version": 3
   },
   "file_extension": ".py",
   "mimetype": "text/x-python",
   "name": "python",
   "nbconvert_exporter": "python",
   "pygments_lexer": "ipython3",
   "version": "3.9.13"
  },
  "orig_nbformat": 4
 },
 "nbformat": 4,
 "nbformat_minor": 2
}
