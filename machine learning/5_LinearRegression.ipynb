{
 "cells": [
  {
   "cell_type": "code",
   "execution_count": 1,
   "metadata": {},
   "outputs": [],
   "source": [
    "# 단순선형회귀분석\n",
    "\n",
    "import numpy as np\n",
    "import pandas as pd\n",
    "import matplotlib.pyplot as plt\n",
    "import seaborn as sns"
   ]
  },
  {
   "cell_type": "code",
   "execution_count": 56,
   "metadata": {},
   "outputs": [],
   "source": [
    "# 선형회귀 관련 sklearn 라이브러리 불러오기\n",
    "\n",
    "from sklearn import datasets, linear_model\n",
    "from sklearn.metrics import mean_squared_error, r2_score\n",
    "\n",
    "# 선형회귀 관련 statsmodels 라이브러리\n",
    "\n",
    "import statsmodels.api as sm"
   ]
  },
  {
   "cell_type": "code",
   "execution_count": 8,
   "metadata": {},
   "outputs": [],
   "source": [
    "# 간단한 예제 \n",
    "X = np.array([[0],[1],[2]])\n",
    "\n"
   ]
  },
  {
   "cell_type": "code",
   "execution_count": 9,
   "metadata": {},
   "outputs": [],
   "source": [
    "y =np.array([0, 1.2, 1.6])"
   ]
  },
  {
   "cell_type": "code",
   "execution_count": 10,
   "metadata": {},
   "outputs": [],
   "source": [
    "# 선형회귀 객체 생성\n",
    "reg = linear_model.LinearRegression()"
   ]
  },
  {
   "cell_type": "code",
   "execution_count": 11,
   "metadata": {},
   "outputs": [
    {
     "data": {
      "text/plain": [
       "LinearRegression()"
      ]
     },
     "execution_count": 11,
     "metadata": {},
     "output_type": "execute_result"
    }
   ],
   "source": [
    "# training >> fit : 모델에 적합하게 데이터 정렬\n",
    "reg.fit(X, y)"
   ]
  },
  {
   "cell_type": "code",
   "execution_count": 17,
   "metadata": {},
   "outputs": [
    {
     "data": {
      "text/plain": [
       "array([0.13333333, 0.93333333, 1.73333333])"
      ]
     },
     "execution_count": 17,
     "metadata": {},
     "output_type": "execute_result"
    }
   ],
   "source": [
    "# training data로 예측\n",
    "\n",
    "pred_train = reg.predict(X)\n",
    "pred_train"
   ]
  },
  {
   "cell_type": "code",
   "execution_count": 19,
   "metadata": {},
   "outputs": [
    {
     "data": {
      "text/plain": [
       "array([1.33333333])"
      ]
     },
     "execution_count": 19,
     "metadata": {},
     "output_type": "execute_result"
    }
   ],
   "source": [
    "# test data로 예측\n",
    "\n",
    "pred_test = reg.predict([[1.5]])\n",
    "pred_test"
   ]
  },
  {
   "cell_type": "code",
   "execution_count": 21,
   "metadata": {},
   "outputs": [
    {
     "data": {
      "image/png": "[encoded data removed]",
      "text/plain": [
       "<Figure size 640x480 with 1 Axes>"
      ]
     },
     "metadata": {},
     "output_type": "display_data"
    }
   ],
   "source": [
    "# plot outputs\n",
    "\n",
    "plt.scatter(X, y, color = 'black')\n",
    "plt.scatter(1.5, pred_test, color = 'red') # 예측한 값\n",
    "plt.plot(X, pred_train, color = 'blue', linewidth = 3)\n",
    "\n",
    "plt.xlabel('X')\n",
    "plt.ylabel('y')\n",
    "\n",
    "plt.grid()\n",
    "plt.show()"
   ]
  },
  {
   "cell_type": "code",
   "execution_count": 22,
   "metadata": {},
   "outputs": [
    {
     "data": {
      "text/plain": [
       "array([1.33333333])"
      ]
     },
     "execution_count": 22,
     "metadata": {},
     "output_type": "execute_result"
    }
   ],
   "source": [
    "# test data 예측값\n",
    "\n",
    "pred_test"
   ]
  },
  {
   "cell_type": "code",
   "execution_count": 23,
   "metadata": {},
   "outputs": [
    {
     "data": {
      "text/plain": [
       "array([0.8])"
      ]
     },
     "execution_count": 23,
     "metadata": {},
     "output_type": "execute_result"
    }
   ],
   "source": [
    "# coefficient(회귀계수, 기울기 : weight)\n",
    "reg.coef_"
   ]
  },
  {
   "cell_type": "code",
   "execution_count": 26,
   "metadata": {},
   "outputs": [
    {
     "data": {
      "text/html": [
       "<div>\n",
       "<style scoped>\n",
       "    .dataframe tbody tr th:only-of-type {\n",
       "        vertical-align: middle;\n",
       "    }\n",
       "\n",
       "    .dataframe tbody tr th {\n",
       "        vertical-align: top;\n",
       "    }\n",
       "\n",
       "    .dataframe thead th {\n",
       "        text-align: right;\n",
       "    }\n",
       "</style>\n",
       "<table border=\"1\" class=\"dataframe\">\n",
       "  <thead>\n",
       "    <tr style=\"text-align: right;\">\n",
       "      <th></th>\n",
       "      <th>TV</th>\n",
       "      <th>Radio</th>\n",
       "      <th>Newspaper</th>\n",
       "      <th>Sales</th>\n",
       "    </tr>\n",
       "  </thead>\n",
       "  <tbody>\n",
       "    <tr>\n",
       "      <th>1</th>\n",
       "      <td>230.1</td>\n",
       "      <td>37.8</td>\n",
       "      <td>69.2</td>\n",
       "      <td>22.1</td>\n",
       "    </tr>\n",
       "    <tr>\n",
       "      <th>2</th>\n",
       "      <td>44.5</td>\n",
       "      <td>39.3</td>\n",
       "      <td>45.1</td>\n",
       "      <td>10.4</td>\n",
       "    </tr>\n",
       "    <tr>\n",
       "      <th>3</th>\n",
       "      <td>17.2</td>\n",
       "      <td>45.9</td>\n",
       "      <td>69.3</td>\n",
       "      <td>9.3</td>\n",
       "    </tr>\n",
       "    <tr>\n",
       "      <th>4</th>\n",
       "      <td>151.5</td>\n",
       "      <td>41.3</td>\n",
       "      <td>58.5</td>\n",
       "      <td>18.5</td>\n",
       "    </tr>\n",
       "    <tr>\n",
       "      <th>5</th>\n",
       "      <td>180.8</td>\n",
       "      <td>10.8</td>\n",
       "      <td>58.4</td>\n",
       "      <td>12.9</td>\n",
       "    </tr>\n",
       "    <tr>\n",
       "      <th>...</th>\n",
       "      <td>...</td>\n",
       "      <td>...</td>\n",
       "      <td>...</td>\n",
       "      <td>...</td>\n",
       "    </tr>\n",
       "    <tr>\n",
       "      <th>196</th>\n",
       "      <td>38.2</td>\n",
       "      <td>3.7</td>\n",
       "      <td>13.8</td>\n",
       "      <td>7.6</td>\n",
       "    </tr>\n",
       "    <tr>\n",
       "      <th>197</th>\n",
       "      <td>94.2</td>\n",
       "      <td>4.9</td>\n",
       "      <td>8.1</td>\n",
       "      <td>9.7</td>\n",
       "    </tr>\n",
       "    <tr>\n",
       "      <th>198</th>\n",
       "      <td>177.0</td>\n",
       "      <td>9.3</td>\n",
       "      <td>6.4</td>\n",
       "      <td>12.8</td>\n",
       "    </tr>\n",
       "    <tr>\n",
       "      <th>199</th>\n",
       "      <td>283.6</td>\n",
       "      <td>42.0</td>\n",
       "      <td>66.2</td>\n",
       "      <td>25.5</td>\n",
       "    </tr>\n",
       "    <tr>\n",
       "      <th>200</th>\n",
       "      <td>232.1</td>\n",
       "      <td>8.6</td>\n",
       "      <td>8.7</td>\n",
       "      <td>13.4</td>\n",
       "    </tr>\n",
       "  </tbody>\n",
       "</table>\n",
       "<p>200 rows × 4 columns</p>\n",
       "</div>"
      ],
      "text/plain": [
       "        TV  Radio  Newspaper  Sales\n",
       "1    230.1   37.8       69.2   22.1\n",
       "2     44.5   39.3       45.1   10.4\n",
       "3     17.2   45.9       69.3    9.3\n",
       "4    151.5   41.3       58.5   18.5\n",
       "5    180.8   10.8       58.4   12.9\n",
       "..     ...    ...        ...    ...\n",
       "196   38.2    3.7       13.8    7.6\n",
       "197   94.2    4.9        8.1    9.7\n",
       "198  177.0    9.3        6.4   12.8\n",
       "199  283.6   42.0       66.2   25.5\n",
       "200  232.1    8.6        8.7   13.4\n",
       "\n",
       "[200 rows x 4 columns]"
      ]
     },
     "execution_count": 26,
     "metadata": {},
     "output_type": "execute_result"
    }
   ],
   "source": [
    "# 실데이터 사용 분석해 보기\n",
    "\n",
    "ad = pd.read_csv('./Advertising.csv', index_col = 0)\n",
    "ad"
   ]
  },
  {
   "cell_type": "code",
   "execution_count": 27,
   "metadata": {},
   "outputs": [],
   "source": [
    "# advertising data 활용 선형회귀 분석\n",
    "\n",
    "# train data / test data 분리 >> 과적합 방지\n",
    "\n",
    "train = ad[:-20]\n",
    "test = ad[-20 : ]"
   ]
  },
  {
   "cell_type": "code",
   "execution_count": 31,
   "metadata": {},
   "outputs": [],
   "source": [
    "# train data의 feature와 response 분리\n",
    "train_X = train.drop('Sales', axis = 1)\n",
    "train_y = train['Sales']\n",
    "\n",
    "# test data의 feature와 response 분리\n",
    "test_X = test.drop('Sales', axis = 1)\n",
    "test_y = test['Sales']"
   ]
  },
  {
   "cell_type": "code",
   "execution_count": 35,
   "metadata": {},
   "outputs": [],
   "source": [
    "# 선형회귀 객체 생성\n",
    "\n",
    "reg = linear_model.LinearRegression()\n"
   ]
  },
  {
   "cell_type": "code",
   "execution_count": 39,
   "metadata": {},
   "outputs": [
    {
     "data": {
      "text/plain": [
       "LinearRegression()"
      ]
     },
     "execution_count": 39,
     "metadata": {},
     "output_type": "execute_result"
    }
   ],
   "source": [
    "# train data 활용 적합(fit)\n",
    "\n",
    "reg.fit(train_X[['TV']], train_y) # train data 중 TV 만 사용"
   ]
  },
  {
   "cell_type": "code",
   "execution_count": 45,
   "metadata": {},
   "outputs": [
    {
     "data": {
      "text/plain": [
       "array([17.95508512,  9.25168867,  7.97150159, 14.26927176, 15.64324544,\n",
       "        7.57290854,  9.86130157, 12.80151147,  7.56821921, 16.53421814,\n",
       "       10.26458395, 17.23292831,  8.28099737, 11.73703357, 16.73585933,\n",
       "       16.32788762, 10.34430256, 20.36071141, 10.40995318, 14.0723199 ,\n",
       "       17.40643352, 18.29740621,  7.78392839, 17.87067718, 10.08638941,\n",
       "       19.49318536, 13.86598938, 18.42401812, 18.83198983, 10.4756038 ,\n",
       "       20.89998435, 12.45919038, 11.72296558, 19.61979727, 11.65262563,\n",
       "       20.79681909, 19.68075856, 10.66786633,  9.18603805, 17.85660919,\n",
       "       16.66083005, 15.4650509 , 20.93280966, 16.86716057,  8.34195866,\n",
       "       15.37595363, 11.37126583, 18.41463946, 17.81909455, 10.30209859,\n",
       "       16.53421814, 11.87302414, 17.31264692, 15.72765338, 19.4838067 ,\n",
       "       16.49201417,  7.50725792, 13.55180427, 17.05004444, 17.04535511,\n",
       "        9.67372837, 19.41815608, 18.38650348, 11.98087872, 13.31264844,\n",
       "       10.40057452,  8.64207578, 13.6971735 , 18.29740621, 17.33140424,\n",
       "       16.50139283, 12.31382115,  8.42167727, 13.23292983, 17.17196702,\n",
       "        7.9574336 ,  8.45450258, 12.81557946,  7.41816065, 12.60455961,\n",
       "       10.74758494, 18.40995013, 10.69600231, 10.37243854, 17.17665635,\n",
       "       16.22472236, 10.74289561, 12.35602512, 11.30561521, 12.31382115,\n",
       "       13.462707  ,  8.50608521, 17.37360821, 18.93046576, 12.20127723,\n",
       "       14.82261269, 16.43105288, 15.83550797, 20.74992579, 13.50491097,\n",
       "       17.59400672, 21.0641109 , 20.30443945, 15.97618787, 18.33492085,\n",
       "       13.63152288,  8.33726933, 11.40409114,  7.77923906, 19.14148561,\n",
       "       17.75344393, 18.4990474 , 15.40408961, 16.99377248, 10.83199288,\n",
       "       10.68662365, 13.69248417, 10.74758494, 13.05942462,  8.07466685,\n",
       "       13.7909601 ,  8.04653087, 17.669036  , 12.93750204, 17.92694914,\n",
       "       11.25403258,  7.53070457, 10.92577948, 17.49553079,  9.9597775 ,\n",
       "        7.19776214, 19.60103995,  7.55884055, 17.47208414,  8.8952996 ,\n",
       "        9.42988321,  8.36540531, 19.999633  ,  9.18134872, 15.83550797,\n",
       "       10.60690504, 16.24816901, 17.50490945, 12.06997599, 11.67607228,\n",
       "       13.7440668 , 18.42401812, 18.56938735,  8.94688223,  9.26106733,\n",
       "       20.3278861 , 12.83902611, 16.43105288, 15.19775909, 15.97149854,\n",
       "        7.35719936, 11.56821769, 14.18955315,  7.71358844, 13.34078442,\n",
       "       15.25403105, 11.18369263, 15.99963452, 14.83199135, 12.66083157,\n",
       "       18.16141564,  8.0043269 , 16.86247124, 17.26575362, 20.49670198,\n",
       "        9.50960182, 14.87888465,  8.08404551, 15.06176852, 17.59400672,\n",
       "       20.14969156, 18.81323251, 15.14617646, 20.1403129 , 14.93046728])"
      ]
     },
     "execution_count": 45,
     "metadata": {},
     "output_type": "execute_result"
    }
   ],
   "source": [
    "train_y_pred = reg.predict(train_X[['TV']])\n",
    "train_y_pred"
   ]
  },
  {
   "cell_type": "code",
   "execution_count": 41,
   "metadata": {},
   "outputs": [
    {
     "data": {
      "text/plain": [
       "array([14.50842759, 17.41112285,  9.80034028, 20.65144986, 19.06645633,\n",
       "       16.7780633 , 13.70655216, 16.12624643, 20.57642058,  8.04184154,\n",
       "        9.01722218, 10.70538097,  7.97150159, 14.98673924, 14.18486382,\n",
       "        8.95626089, 11.58228568, 15.4650509 , 20.46387667, 18.04887172])"
      ]
     },
     "execution_count": 41,
     "metadata": {},
     "output_type": "execute_result"
    }
   ],
   "source": [
    "test_y_pred = reg.predict(test_X[['TV']])\n",
    "test_y_pred"
   ]
  },
  {
   "cell_type": "code",
   "execution_count": 48,
   "metadata": {},
   "outputs": [
    {
     "name": "stdout",
     "output_type": "stream",
     "text": [
      "Coefficients : 0.046893299836478976\n",
      "\n",
      "MSE : 10.316\n",
      "\n",
      "MSE : 12.324\n",
      "\n",
      "R^2 : 0.607\n",
      "\n",
      "R^2 : 0.642\n",
      "\n"
     ]
    }
   ],
   "source": [
    "# 회귀계수(기울기) coefficient\n",
    "print('Coefficients :' , reg.coef_[0])\n",
    "print()\n",
    "\n",
    "# train data의 MSE\n",
    "print('MSE : %.3f'%mean_squared_error(train_y, train_y_pred))\n",
    "print()\n",
    "\n",
    "# testn data의 MSE\n",
    "print('MSE : %.3f'%mean_squared_error(test_y, test_y_pred))\n",
    "print()\n",
    "\n",
    "# train data의 r_square\n",
    "print(\"R^2 : %.3f\"%(r2_score(train_y, train_y_pred)))\n",
    "print()\n",
    "\n",
    "# test data의 r_square\n",
    "print(\"R^2 : %.3f\"%(r2_score(test_y, test_y_pred)))\n",
    "print()"
   ]
  },
  {
   "cell_type": "code",
   "execution_count": 49,
   "metadata": {},
   "outputs": [],
   "source": [
    "# statsmodels 선형회귀 분석\n",
    "\n",
    "# statsmodels 사용을 위한 X0 feature(intercpet) 추가\n",
    "\n",
    "# statsmodels의 OLS 함수 : 데이터 내에 intercept 해당하는 변수 필요"
   ]
  },
  {
   "cell_type": "code",
   "execution_count": 51,
   "metadata": {},
   "outputs": [],
   "source": [
    "sm_train_X = train_X\n",
    "sm_train_X['X0'] = 1\n",
    "\n",
    "sm_test_X = test_X\n",
    "sm_test_X['X0'] = 1"
   ]
  },
  {
   "cell_type": "code",
   "execution_count": 57,
   "metadata": {},
   "outputs": [
    {
     "data": {
      "text/html": [
       "<table class=\"simpletable\">\n",
       "<caption>OLS Regression Results</caption>\n",
       "<tr>\n",
       "  <th>Dep. Variable:</th>          <td>Sales</td>      <th>  R-squared:         </th> <td>   0.607</td>\n",
       "</tr>\n",
       "<tr>\n",
       "  <th>Model:</th>                   <td>OLS</td>       <th>  Adj. R-squared:    </th> <td>   0.605</td>\n",
       "</tr>\n",
       "<tr>\n",
       "  <th>Method:</th>             <td>Least Squares</td>  <th>  F-statistic:       </th> <td>   275.2</td>\n",
       "</tr>\n",
       "<tr>\n",
       "  <th>Date:</th>             <td>Tue, 14 Feb 2023</td> <th>  Prob (F-statistic):</th> <td>5.76e-38</td>\n",
       "</tr>\n",
       "<tr>\n",
       "  <th>Time:</th>                 <td>11:39:55</td>     <th>  Log-Likelihood:    </th> <td> -465.44</td>\n",
       "</tr>\n",
       "<tr>\n",
       "  <th>No. Observations:</th>      <td>   180</td>      <th>  AIC:               </th> <td>   934.9</td>\n",
       "</tr>\n",
       "<tr>\n",
       "  <th>Df Residuals:</th>          <td>   178</td>      <th>  BIC:               </th> <td>   941.3</td>\n",
       "</tr>\n",
       "<tr>\n",
       "  <th>Df Model:</th>              <td>     1</td>      <th>                     </th>     <td> </td>   \n",
       "</tr>\n",
       "<tr>\n",
       "  <th>Covariance Type:</th>      <td>nonrobust</td>    <th>                     </th>     <td> </td>   \n",
       "</tr>\n",
       "</table>\n",
       "<table class=\"simpletable\">\n",
       "<tr>\n",
       "   <td></td>     <th>coef</th>     <th>std err</th>      <th>t</th>      <th>P>|t|</th>  <th>[0.025</th>    <th>0.975]</th>  \n",
       "</tr>\n",
       "<tr>\n",
       "  <th>X0</th> <td>    7.1649</td> <td>    0.478</td> <td>   14.978</td> <td> 0.000</td> <td>    6.221</td> <td>    8.109</td>\n",
       "</tr>\n",
       "<tr>\n",
       "  <th>TV</th> <td>    0.0469</td> <td>    0.003</td> <td>   16.589</td> <td> 0.000</td> <td>    0.041</td> <td>    0.052</td>\n",
       "</tr>\n",
       "</table>\n",
       "<table class=\"simpletable\">\n",
       "<tr>\n",
       "  <th>Omnibus:</th>       <td> 0.515</td> <th>  Durbin-Watson:     </th> <td>   1.890</td>\n",
       "</tr>\n",
       "<tr>\n",
       "  <th>Prob(Omnibus):</th> <td> 0.773</td> <th>  Jarque-Bera (JB):  </th> <td>   0.547</td>\n",
       "</tr>\n",
       "<tr>\n",
       "  <th>Skew:</th>          <td>-0.127</td> <th>  Prob(JB):          </th> <td>   0.761</td>\n",
       "</tr>\n",
       "<tr>\n",
       "  <th>Kurtosis:</th>      <td> 2.906</td> <th>  Cond. No.          </th> <td>    336.</td>\n",
       "</tr>\n",
       "</table><br/><br/>Notes:<br/>[1] Standard Errors assume that the covariance matrix of the errors is correctly specified."
      ],
      "text/plain": [
       "<class 'statsmodels.iolib.summary.Summary'>\n",
       "\"\"\"\n",
       "                            OLS Regression Results                            \n",
       "==============================================================================\n",
       "Dep. Variable:                  Sales   R-squared:                       0.607\n",
       "Model:                            OLS   Adj. R-squared:                  0.605\n",
       "Method:                 Least Squares   F-statistic:                     275.2\n",
       "Date:                Tue, 14 Feb 2023   Prob (F-statistic):           5.76e-38\n",
       "Time:                        11:39:55   Log-Likelihood:                -465.44\n",
       "No. Observations:                 180   AIC:                             934.9\n",
       "Df Residuals:                     178   BIC:                             941.3\n",
       "Df Model:                           1                                         \n",
       "Covariance Type:            nonrobust                                         \n",
       "==============================================================================\n",
       "                 coef    std err          t      P>|t|      [0.025      0.975]\n",
       "------------------------------------------------------------------------------\n",
       "X0             7.1649      0.478     14.978      0.000       6.221       8.109\n",
       "TV             0.0469      0.003     16.589      0.000       0.041       0.052\n",
       "==============================================================================\n",
       "Omnibus:                        0.515   Durbin-Watson:                   1.890\n",
       "Prob(Omnibus):                  0.773   Jarque-Bera (JB):                0.547\n",
       "Skew:                          -0.127   Prob(JB):                        0.761\n",
       "Kurtosis:                       2.906   Cond. No.                         336.\n",
       "==============================================================================\n",
       "\n",
       "Notes:\n",
       "[1] Standard Errors assume that the covariance matrix of the errors is correctly specified.\n",
       "\"\"\""
      ]
     },
     "execution_count": 57,
     "metadata": {},
     "output_type": "execute_result"
    }
   ],
   "source": [
    "# 훈련\n",
    "\n",
    "result = sm.OLS(train_y, sm_train_X[['X0', 'TV']]).fit()\n",
    "# 결과변수(종속변수)인 train_y를 먼저 적어줌.\n",
    "\n",
    "# 훈련결과 확인\n",
    "result.summary()"
   ]
  },
  {
   "cell_type": "code",
   "execution_count": 62,
   "metadata": {},
   "outputs": [
    {
     "data": {
      "image/png": "[encoded data removed]",
      "text/plain": [
       "<Figure size 640x480 with 1 Axes>"
      ]
     },
     "metadata": {},
     "output_type": "display_data"
    }
   ],
   "source": [
    "# 데이터 시각화\n",
    "\n",
    "plt.scatter(train_X['TV'], train_y, color = 'gray') # trian data\n",
    "plt.scatter(test_X['TV'], test_y, color = 'red') # test data\n",
    "\n",
    "plt.plot(train_X['TV'], train_y_pred, color = 'green', linewidth = 2)\n",
    "plt.scatter(test_X['TV'], test_y_pred, color = 'blue', marker = '^')\n",
    "plt.xlabel('TV')\n",
    "plt.ylabel('Sales')\n",
    "plt.grid()\n",
    "plt.show()"
   ]
  },
  {
   "cell_type": "code",
   "execution_count": null,
   "metadata": {},
   "outputs": [],
   "source": []
  }
 ],
 "metadata": {
  "kernelspec": {
   "display_name": "base",
   "language": "python",
   "name": "python3"
  },
  "language_info": {
   "codemirror_mode": {
    "name": "ipython",
    "version": 3
   },
   "file_extension": ".py",
   "mimetype": "text/x-python",
   "name": "python",
   "nbconvert_exporter": "python",
   "pygments_lexer": "ipython3",
   "version": "3.9.13"
  },
  "orig_nbformat": 4,
  "vscode": {
   "interpreter": {
    "hash": "1284a11239f1c582240c95e9b63f464998ce3454084d16e746adc349338fd12e"
   }
  }
 },
 "nbformat": 4,
 "nbformat_minor": 2
}
