{
 "cells": [
  {
   "cell_type": "code",
   "execution_count": 1,
   "metadata": {},
   "outputs": [],
   "source": [
    "import numpy as np\n",
    "import pandas as pd\n",
    "\n",
    "# 선형회귀, ridge, lasso 관련 sklearn 라이브러리 불러오기\n",
    "from sklearn.linear_model import LinearRegression, Lasso, Ridge\n",
    "from sklearn.metrics import mean_squared_error\n",
    "\n",
    "# K-Fold 교차검증 관련 라이브러리\n",
    "from sklearn.model_selection import KFold"
   ]
  },
  {
   "cell_type": "code",
   "execution_count": 2,
   "metadata": {},
   "outputs": [],
   "source": [
    "# Ridge regression 객체 생성\n",
    "\n",
    "reg = Ridge(alpha = 0.1)\n",
    "# alpha : tuning parameter(lambda)"
   ]
  },
  {
   "cell_type": "code",
   "execution_count": 4,
   "metadata": {},
   "outputs": [
    {
     "data": {
      "text/plain": [
       "Ridge(alpha=0.1)"
      ]
     },
     "execution_count": 4,
     "metadata": {},
     "output_type": "execute_result"
    }
   ],
   "source": [
    "# 훈련\n",
    "\n",
    "train_data = [[0,0], [0,0], [1,1],[0, .1, 1]]\n",
    "\n",
    "reg.fit(train_data[:3], train_data[-1])"
   ]
  },
  {
   "cell_type": "code",
   "execution_count": 7,
   "metadata": {},
   "outputs": [
    {
     "data": {
      "text/plain": [
       "array([0.51395349])"
      ]
     },
     "execution_count": 7,
     "metadata": {},
     "output_type": "execute_result"
    }
   ],
   "source": [
    "# test data > 예측\n",
    "\n",
    "pred_test = reg.predict([[0,1]])\n",
    "pred_test"
   ]
  },
  {
   "cell_type": "code",
   "execution_count": 8,
   "metadata": {},
   "outputs": [
    {
     "data": {
      "text/plain": [
       "array([0.44186047, 0.44186047])"
      ]
     },
     "execution_count": 8,
     "metadata": {},
     "output_type": "execute_result"
    }
   ],
   "source": [
    "reg.coef_"
   ]
  },
  {
   "cell_type": "code",
   "execution_count": 14,
   "metadata": {},
   "outputs": [
    {
     "name": "stdout",
     "output_type": "stream",
     "text": [
      "[0.45714286]\n"
     ]
    },
    {
     "data": {
      "text/plain": [
       "array([0.27142857, 0.27142857])"
      ]
     },
     "execution_count": 14,
     "metadata": {},
     "output_type": "execute_result"
    }
   ],
   "source": [
    "# Ridge regression 객체 생성\n",
    "\n",
    "reg = Ridge(alpha = 1)\n",
    "# alpha : tuning parameter(lambda)\n",
    "\n",
    "# 훈련\n",
    "\n",
    "train_data = [[0,0], [0,0], [1,1],[0, .1, 1]]\n",
    "\n",
    "reg.fit(train_data[:3], train_data[-1])\n",
    "\n",
    "# test data > 예측\n",
    "\n",
    "pred_test = reg.predict([[0,1]])\n",
    "print(pred_test)\n",
    "reg.coef_\n",
    "\n",
    "# alpha(lambda 조절 변수)값이 커지면 coefficient 값이 작아짐.\n"
   ]
  },
  {
   "cell_type": "code",
   "execution_count": 15,
   "metadata": {},
   "outputs": [],
   "source": [
    "# 라쏘 L1 맛보기\n",
    "\n",
    "reg = Lasso(alpha = 0.1)"
   ]
  },
  {
   "cell_type": "code",
   "execution_count": 16,
   "metadata": {},
   "outputs": [
    {
     "data": {
      "text/plain": [
       "Lasso(alpha=0.1)"
      ]
     },
     "execution_count": 16,
     "metadata": {},
     "output_type": "execute_result"
    }
   ],
   "source": [
    "# 훈련\n",
    "\n",
    "train_data = [[0,0], [0,0], [1,1],[0, .1, 1]]\n",
    "\n",
    "reg.fit(train_data[:3], train_data[-1])"
   ]
  },
  {
   "cell_type": "code",
   "execution_count": 17,
   "metadata": {},
   "outputs": [
    {
     "data": {
      "text/plain": [
       "array([0.2])"
      ]
     },
     "execution_count": 17,
     "metadata": {},
     "output_type": "execute_result"
    }
   ],
   "source": [
    "# test\n",
    "\n",
    "pred_test = reg.predict([[0,1]])\n",
    "pred_test"
   ]
  },
  {
   "cell_type": "code",
   "execution_count": 18,
   "metadata": {},
   "outputs": [
    {
     "data": {
      "text/plain": [
       "array([0.5, 0. ])"
      ]
     },
     "execution_count": 18,
     "metadata": {},
     "output_type": "execute_result"
    }
   ],
   "source": [
    "reg.coef_\n",
    "\n",
    "# 두 번째 coefficient값이 0이 되는 것을 확인"
   ]
  },
  {
   "cell_type": "code",
   "execution_count": 19,
   "metadata": {},
   "outputs": [
    {
     "name": "stdout",
     "output_type": "stream",
     "text": [
      "[0.36666667]\n"
     ]
    },
    {
     "data": {
      "text/plain": [
       "array([0., 0.])"
      ]
     },
     "execution_count": 19,
     "metadata": {},
     "output_type": "execute_result"
    }
   ],
   "source": [
    "reg = Lasso(alpha = 1)\n",
    "# alpha : tuning parameter(lambda)\n",
    "\n",
    "# 훈련\n",
    "\n",
    "train_data = [[0,0], [0,0], [1,1],[0, .1, 1]]\n",
    "\n",
    "reg.fit(train_data[:3], train_data[-1])\n",
    "\n",
    "# test data > 예측\n",
    "\n",
    "pred_test = reg.predict([[0,1]])\n",
    "print(pred_test)\n",
    "reg.coef_\n",
    "\n",
    "\n"
   ]
  },
  {
   "cell_type": "code",
   "execution_count": 21,
   "metadata": {},
   "outputs": [
    {
     "data": {
      "text/html": [
       "<div>\n",
       "<style scoped>\n",
       "    .dataframe tbody tr th:only-of-type {\n",
       "        vertical-align: middle;\n",
       "    }\n",
       "\n",
       "    .dataframe tbody tr th {\n",
       "        vertical-align: top;\n",
       "    }\n",
       "\n",
       "    .dataframe thead th {\n",
       "        text-align: right;\n",
       "    }\n",
       "</style>\n",
       "<table border=\"1\" class=\"dataframe\">\n",
       "  <thead>\n",
       "    <tr style=\"text-align: right;\">\n",
       "      <th></th>\n",
       "      <th>TV</th>\n",
       "      <th>Radio</th>\n",
       "      <th>Newspaper</th>\n",
       "      <th>Sales</th>\n",
       "    </tr>\n",
       "  </thead>\n",
       "  <tbody>\n",
       "    <tr>\n",
       "      <th>1</th>\n",
       "      <td>230.1</td>\n",
       "      <td>37.8</td>\n",
       "      <td>69.2</td>\n",
       "      <td>22.1</td>\n",
       "    </tr>\n",
       "    <tr>\n",
       "      <th>2</th>\n",
       "      <td>44.5</td>\n",
       "      <td>39.3</td>\n",
       "      <td>45.1</td>\n",
       "      <td>10.4</td>\n",
       "    </tr>\n",
       "    <tr>\n",
       "      <th>3</th>\n",
       "      <td>17.2</td>\n",
       "      <td>45.9</td>\n",
       "      <td>69.3</td>\n",
       "      <td>9.3</td>\n",
       "    </tr>\n",
       "    <tr>\n",
       "      <th>4</th>\n",
       "      <td>151.5</td>\n",
       "      <td>41.3</td>\n",
       "      <td>58.5</td>\n",
       "      <td>18.5</td>\n",
       "    </tr>\n",
       "    <tr>\n",
       "      <th>5</th>\n",
       "      <td>180.8</td>\n",
       "      <td>10.8</td>\n",
       "      <td>58.4</td>\n",
       "      <td>12.9</td>\n",
       "    </tr>\n",
       "    <tr>\n",
       "      <th>...</th>\n",
       "      <td>...</td>\n",
       "      <td>...</td>\n",
       "      <td>...</td>\n",
       "      <td>...</td>\n",
       "    </tr>\n",
       "    <tr>\n",
       "      <th>196</th>\n",
       "      <td>38.2</td>\n",
       "      <td>3.7</td>\n",
       "      <td>13.8</td>\n",
       "      <td>7.6</td>\n",
       "    </tr>\n",
       "    <tr>\n",
       "      <th>197</th>\n",
       "      <td>94.2</td>\n",
       "      <td>4.9</td>\n",
       "      <td>8.1</td>\n",
       "      <td>9.7</td>\n",
       "    </tr>\n",
       "    <tr>\n",
       "      <th>198</th>\n",
       "      <td>177.0</td>\n",
       "      <td>9.3</td>\n",
       "      <td>6.4</td>\n",
       "      <td>12.8</td>\n",
       "    </tr>\n",
       "    <tr>\n",
       "      <th>199</th>\n",
       "      <td>283.6</td>\n",
       "      <td>42.0</td>\n",
       "      <td>66.2</td>\n",
       "      <td>25.5</td>\n",
       "    </tr>\n",
       "    <tr>\n",
       "      <th>200</th>\n",
       "      <td>232.1</td>\n",
       "      <td>8.6</td>\n",
       "      <td>8.7</td>\n",
       "      <td>13.4</td>\n",
       "    </tr>\n",
       "  </tbody>\n",
       "</table>\n",
       "<p>200 rows × 4 columns</p>\n",
       "</div>"
      ],
      "text/plain": [
       "        TV  Radio  Newspaper  Sales\n",
       "1    230.1   37.8       69.2   22.1\n",
       "2     44.5   39.3       45.1   10.4\n",
       "3     17.2   45.9       69.3    9.3\n",
       "4    151.5   41.3       58.5   18.5\n",
       "5    180.8   10.8       58.4   12.9\n",
       "..     ...    ...        ...    ...\n",
       "196   38.2    3.7       13.8    7.6\n",
       "197   94.2    4.9        8.1    9.7\n",
       "198  177.0    9.3        6.4   12.8\n",
       "199  283.6   42.0       66.2   25.5\n",
       "200  232.1    8.6        8.7   13.4\n",
       "\n",
       "[200 rows x 4 columns]"
      ]
     },
     "execution_count": 21,
     "metadata": {},
     "output_type": "execute_result"
    }
   ],
   "source": [
    "# advertising 데이터 불러오기\n",
    "\n",
    "ad = pd.read_csv('./Advertising.csv', index_col = 0)\n",
    "ad"
   ]
  },
  {
   "cell_type": "code",
   "execution_count": 26,
   "metadata": {},
   "outputs": [
    {
     "name": "stdout",
     "output_type": "stream",
     "text": [
      "Lambda : 0.01\n",
      "Fold : 1\n"
     ]
    },
    {
     "data": {
      "text/plain": [
       "Lasso(alpha=0.01)"
      ]
     },
     "execution_count": 26,
     "metadata": {},
     "output_type": "execute_result"
    },
    {
     "name": "stdout",
     "output_type": "stream",
     "text": [
      "Coefficients : [0.04585721 0.18786616 0.0035984 ]\n",
      "----------------------------------------------------------------------------------------------------\n",
      "Fold : 2\n"
     ]
    },
    {
     "data": {
      "text/plain": [
       "Lasso(alpha=0.01)"
      ]
     },
     "execution_count": 26,
     "metadata": {},
     "output_type": "execute_result"
    },
    {
     "name": "stdout",
     "output_type": "stream",
     "text": [
      "Coefficients : [0.04513011 0.18790415 0.00140072]\n",
      "----------------------------------------------------------------------------------------------------\n",
      "Fold : 3\n"
     ]
    },
    {
     "data": {
      "text/plain": [
       "Lasso(alpha=0.01)"
      ]
     },
     "execution_count": 26,
     "metadata": {},
     "output_type": "execute_result"
    },
    {
     "name": "stdout",
     "output_type": "stream",
     "text": [
      "Coefficients : [ 0.04697919  0.18866641 -0.00232364]\n",
      "----------------------------------------------------------------------------------------------------\n",
      "Fold : 4\n"
     ]
    },
    {
     "data": {
      "text/plain": [
       "Lasso(alpha=0.01)"
      ]
     },
     "execution_count": 26,
     "metadata": {},
     "output_type": "execute_result"
    },
    {
     "name": "stdout",
     "output_type": "stream",
     "text": [
      "Coefficients : [ 0.0431589   0.20006652 -0.00754594]\n",
      "----------------------------------------------------------------------------------------------------\n",
      "Fold : 5\n"
     ]
    },
    {
     "data": {
      "text/plain": [
       "Lasso(alpha=0.01)"
      ]
     },
     "execution_count": 26,
     "metadata": {},
     "output_type": "execute_result"
    },
    {
     "name": "stdout",
     "output_type": "stream",
     "text": [
      "Coefficients : [ 0.04725115  0.17985369 -0.00090631]\n",
      "----------------------------------------------------------------------------------------------------\n",
      "Average Validation MSE : 3.073\n",
      "****************************************************************************************************\n",
      "Lambda : 1\n",
      "Fold : 1\n"
     ]
    },
    {
     "data": {
      "text/plain": [
       "Lasso(alpha=1)"
      ]
     },
     "execution_count": 26,
     "metadata": {},
     "output_type": "execute_result"
    },
    {
     "name": "stdout",
     "output_type": "stream",
     "text": [
      "Coefficients : [0.04582866 0.18396308 0.00216856]\n",
      "----------------------------------------------------------------------------------------------------\n",
      "Fold : 2\n"
     ]
    },
    {
     "data": {
      "text/plain": [
       "Lasso(alpha=1)"
      ]
     },
     "execution_count": 26,
     "metadata": {},
     "output_type": "execute_result"
    },
    {
     "name": "stdout",
     "output_type": "stream",
     "text": [
      "Coefficients : [0.04501995 0.1840591  0.00038057]\n",
      "----------------------------------------------------------------------------------------------------\n",
      "Fold : 3\n"
     ]
    },
    {
     "data": {
      "text/plain": [
       "Lasso(alpha=1)"
      ]
     },
     "execution_count": 26,
     "metadata": {},
     "output_type": "execute_result"
    },
    {
     "name": "stdout",
     "output_type": "stream",
     "text": [
      "Coefficients : [ 0.04686138  0.18301965 -0.        ]\n",
      "----------------------------------------------------------------------------------------------------\n",
      "Fold : 4\n"
     ]
    },
    {
     "data": {
      "text/plain": [
       "Lasso(alpha=1)"
      ]
     },
     "execution_count": 26,
     "metadata": {},
     "output_type": "execute_result"
    },
    {
     "name": "stdout",
     "output_type": "stream",
     "text": [
      "Coefficients : [ 0.04313154  0.19314056 -0.0035882 ]\n",
      "----------------------------------------------------------------------------------------------------\n",
      "Fold : 5\n"
     ]
    },
    {
     "data": {
      "text/plain": [
       "Lasso(alpha=1)"
      ]
     },
     "execution_count": 26,
     "metadata": {},
     "output_type": "execute_result"
    },
    {
     "name": "stdout",
     "output_type": "stream",
     "text": [
      "Coefficients : [0.04715708 0.17475785 0.        ]\n",
      "----------------------------------------------------------------------------------------------------\n",
      "Average Validation MSE : 3.041\n",
      "****************************************************************************************************\n",
      "Lambda : 1000\n",
      "Fold : 1\n"
     ]
    },
    {
     "data": {
      "text/plain": [
       "Lasso(alpha=1000)"
      ]
     },
     "execution_count": 26,
     "metadata": {},
     "output_type": "execute_result"
    },
    {
     "name": "stdout",
     "output_type": "stream",
     "text": [
      "Coefficients : [0. 0. 0.]\n",
      "----------------------------------------------------------------------------------------------------\n",
      "Fold : 2\n"
     ]
    },
    {
     "data": {
      "text/plain": [
       "Lasso(alpha=1000)"
      ]
     },
     "execution_count": 26,
     "metadata": {},
     "output_type": "execute_result"
    },
    {
     "name": "stdout",
     "output_type": "stream",
     "text": [
      "Coefficients : [0. 0. 0.]\n",
      "----------------------------------------------------------------------------------------------------\n",
      "Fold : 3\n"
     ]
    },
    {
     "data": {
      "text/plain": [
       "Lasso(alpha=1000)"
      ]
     },
     "execution_count": 26,
     "metadata": {},
     "output_type": "execute_result"
    },
    {
     "name": "stdout",
     "output_type": "stream",
     "text": [
      "Coefficients : [0. 0. 0.]\n",
      "----------------------------------------------------------------------------------------------------\n",
      "Fold : 4\n"
     ]
    },
    {
     "data": {
      "text/plain": [
       "Lasso(alpha=1000)"
      ]
     },
     "execution_count": 26,
     "metadata": {},
     "output_type": "execute_result"
    },
    {
     "name": "stdout",
     "output_type": "stream",
     "text": [
      "Coefficients : [0. 0. 0.]\n",
      "----------------------------------------------------------------------------------------------------\n",
      "Fold : 5\n"
     ]
    },
    {
     "data": {
      "text/plain": [
       "Lasso(alpha=1000)"
      ]
     },
     "execution_count": 26,
     "metadata": {},
     "output_type": "execute_result"
    },
    {
     "name": "stdout",
     "output_type": "stream",
     "text": [
      "Coefficients : [0. 0. 0.]\n",
      "----------------------------------------------------------------------------------------------------\n",
      "Average Validation MSE : 27.283\n",
      "****************************************************************************************************\n"
     ]
    }
   ],
   "source": [
    "# 라쏘 적용 >> 최적의 람다(lambda) 선정\n",
    "\n",
    "# k-fold CV의 fold 수 지정\n",
    "\n",
    "n_fold = 5\n",
    "\n",
    "for t_param in (0.01, 1, 1000) : # lambda 값 설정 : 0.01, 1, 1000\n",
    "    \n",
    "    print('Lambda :', t_param)\n",
    "    \n",
    "    kf = KFold(n_splits = n_fold)\n",
    "    \n",
    "    idx = 1\n",
    "    \n",
    "    sum_val_mse = 0\n",
    "    for train, val in kf.split(ad) :\n",
    "        print('Fold :', idx)\n",
    "        \n",
    "        # training set >> features, response 분리\n",
    "        X = [['TV', 'Radio', 'Newspaper']]\n",
    "        y = [['Sales']]\n",
    "        \n",
    "        train_X = ad.iloc[train, :-1]\n",
    "        train_y = ad.iloc[train, -1]\n",
    "        \n",
    "        # validation set >> features, response 분리\n",
    "        \n",
    "        val_X = ad.iloc[val, :-1]\n",
    "        val_y = ad.iloc[val, -1]\n",
    "        \n",
    "        # Lasso 객체 생성\n",
    "        regr = Lasso(alpha = t_param)\n",
    "        \n",
    "        # train data 활용 model 적합\n",
    "        regr.fit(train_X, train_y)\n",
    "        \n",
    "        # validation data, 예측\n",
    "        pred_y = regr.predict(val_X)\n",
    "        \n",
    "        # coefficients 출력\n",
    "        print('Coefficients :', regr.coef_)\n",
    "        \n",
    "        # validation MSE\n",
    "        val_mse = mean_squared_error(val_y, pred_y)\n",
    "              \n",
    "        # validation MSE 합계\n",
    "        sum_val_mse += val_mse\n",
    "        \n",
    "        print('-'*100)\n",
    "        \n",
    "        \n",
    "        idx += 1       \n",
    "        \n",
    "    print('Average Validation MSE : %.3f'%(sum_val_mse / n_fold))\n",
    "    print('*'*100)"
   ]
  },
  {
   "cell_type": "code",
   "execution_count": null,
   "metadata": {},
   "outputs": [],
   "source": []
  }
 ],
 "metadata": {
  "kernelspec": {
   "display_name": "base",
   "language": "python",
   "name": "python3"
  },
  "language_info": {
   "codemirror_mode": {
    "name": "ipython",
    "version": 3
   },
   "file_extension": ".py",
   "mimetype": "text/x-python",
   "name": "python",
   "nbconvert_exporter": "python",
   "pygments_lexer": "ipython3",
   "version": "3.9.13"
  },
  "orig_nbformat": 4,
  "vscode": {
   "interpreter": {
    "hash": "1284a11239f1c582240c95e9b63f464998ce3454084d16e746adc349338fd12e"
   }
  }
 },
 "nbformat": 4,
 "nbformat_minor": 2
}
