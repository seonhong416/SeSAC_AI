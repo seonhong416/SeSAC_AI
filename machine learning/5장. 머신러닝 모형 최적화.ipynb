{
 "cells": [
  {
   "cell_type": "markdown",
   "metadata": {},
   "source": [
    "# iris 데이터 주성분 분석 후 분류하기"
   ]
  },
  {
   "cell_type": "code",
   "execution_count": 43,
   "metadata": {},
   "outputs": [],
   "source": [
    "import seaborn as sns\n",
    "iris = sns.load_dataset(\"iris\")"
   ]
  },
  {
   "cell_type": "code",
   "execution_count": 44,
   "metadata": {},
   "outputs": [],
   "source": [
    "from sklearn.model_selection import train_test_split\n",
    "X, y = iris.iloc[:, :-1].values, iris.iloc[:, -1].values\n",
    "X_train, X_test, y_train, y_test = train_test_split(X, y, test_size=0.3, \n",
    "                                                    random_state=0)  "
   ]
  },
  {
   "cell_type": "code",
   "execution_count": 45,
   "metadata": {},
   "outputs": [],
   "source": [
    "from sklearn.preprocessing import StandardScaler\n",
    "sc = StandardScaler()\n",
    "X_train_std = sc.fit_transform(X_train)\n",
    "X_test_std = sc.transform(X_test)"
   ]
  },
  {
   "cell_type": "code",
   "execution_count": 46,
   "metadata": {},
   "outputs": [],
   "source": [
    "import numpy as np\n",
    "cov_mat = np.cov(X_train_std.T)"
   ]
  },
  {
   "cell_type": "code",
   "execution_count": 47,
   "metadata": {},
   "outputs": [
    {
     "name": "stdout",
     "output_type": "stream",
     "text": [
      "Eigenvalues : [2.8998938  0.98708902 0.13466453 0.01681419]\n"
     ]
    }
   ],
   "source": [
    "eigen_vals, eigen_vecs = np.linalg.eig(cov_mat)\n",
    "print('Eigenvalues : %s' % eigen_vals)"
   ]
  },
  {
   "cell_type": "code",
   "execution_count": 48,
   "metadata": {},
   "outputs": [
    {
     "data": {
      "text/plain": [
       "[0.71806894055277,\n",
       " 0.24442204363321526,\n",
       " 0.03334550252484883,\n",
       " 0.004163513289165912]"
      ]
     },
     "execution_count": 48,
     "metadata": {},
     "output_type": "execute_result"
    }
   ],
   "source": [
    "tot = sum(eigen_vals)\n",
    "var_exp = [(i / tot) for i in sorted(eigen_vals, reverse=True)]\n",
    "var_exp"
   ]
  },
  {
   "cell_type": "code",
   "execution_count": 49,
   "metadata": {},
   "outputs": [
    {
     "data": {
      "text/plain": [
       "array([0.71806894, 0.96249098, 0.99583649, 1.        ])"
      ]
     },
     "execution_count": 49,
     "metadata": {},
     "output_type": "execute_result"
    }
   ],
   "source": [
    "cum_var_exp = np.cumsum(var_exp)\n",
    "cum_var_exp"
   ]
  },
  {
   "cell_type": "code",
   "execution_count": 50,
   "metadata": {},
   "outputs": [
    {
     "data": {
      "image/png": "[encoded data removed]",
      "text/plain": [
       "<Figure size 432x288 with 1 Axes>"
      ]
     },
     "metadata": {
      "needs_background": "light"
     },
     "output_type": "display_data"
    }
   ],
   "source": [
    "import matplotlib.pyplot as plt\n",
    "%matplotlib inline\n",
    "plt.bar(range(1, 5), var_exp, alpha=0.5, align='center', label='individual explained variance')\n",
    "plt.step(range(1, 5), cum_var_exp, where='mid', label='cumulative explained variance')\n",
    "plt.ylabel('Explained variance ratio')\n",
    "plt.xlabel('Principal components')\n",
    "plt.legend(loc='best')\n",
    "plt.tight_layout()\n",
    "# plt.savefig('./figures/pca1.png', dpi=300)\n",
    "plt.show()"
   ]
  },
  {
   "cell_type": "code",
   "execution_count": 51,
   "metadata": {},
   "outputs": [
    {
     "data": {
      "text/plain": [
       "[(2.899893798386186,\n",
       "  array([ 0.53547007, -0.20428207,  0.58615942,  0.57267597])),\n",
       " (0.9870890223649076,\n",
       "  array([-3.25785192e-01, -9.44860554e-01,  7.51890810e-04, -3.31960469e-02])),\n",
       " (0.13466452942727408,\n",
       "  array([-0.73207448,  0.23052807,  0.13736953,  0.62614166])),\n",
       " (0.016814188283170026,\n",
       "  array([ 0.26683847, -0.11119432, -0.79846489,  0.52809741]))]"
      ]
     },
     "execution_count": 51,
     "metadata": {},
     "output_type": "execute_result"
    }
   ],
   "source": [
    "eigen_pairs = [(np.abs(eigen_vals[i]), eigen_vecs[:,i]) for i in range(len(eigen_vals))]\n",
    "eigen_pairs.sort(reverse=True)\n",
    "eigen_pairs"
   ]
  },
  {
   "cell_type": "code",
   "execution_count": 52,
   "metadata": {},
   "outputs": [
    {
     "name": "stdout",
     "output_type": "stream",
     "text": [
      "Matrix W:\n",
      " [[ 5.35470073e-01 -3.25785192e-01]\n",
      " [-2.04282071e-01 -9.44860554e-01]\n",
      " [ 5.86159424e-01  7.51890810e-04]\n",
      " [ 5.72675970e-01 -3.31960469e-02]]\n"
     ]
    }
   ],
   "source": [
    "w = np.hstack((eigen_pairs[0][1][:, np.newaxis],\n",
    "               eigen_pairs[1][1][:, np.newaxis]))\n",
    "print('Matrix W:\\n', w)"
   ]
  },
  {
   "cell_type": "code",
   "execution_count": 53,
   "metadata": {},
   "outputs": [],
   "source": [
    "X_train_pca = X_train_std.dot(w)"
   ]
  },
  {
   "cell_type": "code",
   "execution_count": 54,
   "metadata": {},
   "outputs": [],
   "source": [
    "colors = ['r', 'b', 'g']\n",
    "markers = ['s', 'x', 'o']"
   ]
  },
  {
   "cell_type": "code",
   "execution_count": 55,
   "metadata": {},
   "outputs": [
    {
     "data": {
      "image/png": "[encoded data removed]",
      "text/plain": [
       "<Figure size 432x288 with 1 Axes>"
      ]
     },
     "metadata": {
      "needs_background": "light"
     },
     "output_type": "display_data"
    }
   ],
   "source": [
    "for l, c, m in zip(np.unique(y_train), colors, markers):\n",
    "    plt.scatter(X_train_pca[y_train==l, 0], X_train_pca[y_train==l, 1], \n",
    "                c=c, label=l, marker=m)\n",
    "plt.xlabel('PC 1')\n",
    "plt.ylabel('PC 2')\n",
    "plt.legend(loc='lower left')\n",
    "plt.tight_layout()\n",
    "# plt.savefig('./figures/pca2.png', dpi=300)\n",
    "plt.show()"
   ]
  },
  {
   "cell_type": "code",
   "execution_count": 56,
   "metadata": {},
   "outputs": [
    {
     "name": "stderr",
     "output_type": "stream",
     "text": [
      "C:\\Users\\COM\\anaconda3\\lib\\site-packages\\sklearn\\neural_network\\_multilayer_perceptron.py:614: ConvergenceWarning: Stochastic Optimizer: Maximum iterations (200) reached and the optimization hasn't converged yet.\n",
      "  warnings.warn(\n"
     ]
    },
    {
     "data": {
      "text/plain": [
       "MLPClassifier(hidden_layer_sizes=(50, 30))"
      ]
     },
     "execution_count": 56,
     "metadata": {},
     "output_type": "execute_result"
    }
   ],
   "source": [
    "from sklearn.neural_network import MLPClassifier\n",
    "mlp = MLPClassifier(hidden_layer_sizes=(50,30))\n",
    "mlp.fit(X_train_pca, y_train)"
   ]
  },
  {
   "cell_type": "code",
   "execution_count": 57,
   "metadata": {},
   "outputs": [
    {
     "name": "stdout",
     "output_type": "stream",
     "text": [
      "0.9333333333333333\n"
     ]
    }
   ],
   "source": [
    "print(mlp.score(X_train_pca, y_train))"
   ]
  },
  {
   "cell_type": "code",
   "execution_count": 58,
   "metadata": {},
   "outputs": [
    {
     "data": {
      "text/plain": [
       "array(['virginica', 'versicolor', 'setosa', 'virginica', 'setosa',\n",
       "       'virginica', 'setosa', 'versicolor', 'virginica', 'versicolor',\n",
       "       'virginica', 'versicolor', 'versicolor', 'virginica', 'versicolor',\n",
       "       'setosa', 'versicolor', 'versicolor', 'setosa', 'setosa',\n",
       "       'virginica', 'versicolor', 'setosa', 'setosa', 'virginica',\n",
       "       'setosa', 'setosa', 'versicolor', 'versicolor', 'setosa',\n",
       "       'virginica', 'versicolor', 'setosa', 'virginica', 'virginica',\n",
       "       'versicolor', 'setosa', 'virginica', 'versicolor', 'versicolor',\n",
       "       'virginica', 'setosa', 'virginica', 'setosa', 'setosa'],\n",
       "      dtype='<U10')"
      ]
     },
     "execution_count": 58,
     "metadata": {},
     "output_type": "execute_result"
    }
   ],
   "source": [
    "X_test_pca = X_test_std.dot(w)\n",
    "pred = mlp.predict(X_test_pca)\n",
    "pred"
   ]
  },
  {
   "cell_type": "code",
   "execution_count": 59,
   "metadata": {},
   "outputs": [
    {
     "data": {
      "text/html": [
       "<div>\n",
       "<style scoped>\n",
       "    .dataframe tbody tr th:only-of-type {\n",
       "        vertical-align: middle;\n",
       "    }\n",
       "\n",
       "    .dataframe tbody tr th {\n",
       "        vertical-align: top;\n",
       "    }\n",
       "\n",
       "    .dataframe thead th {\n",
       "        text-align: right;\n",
       "    }\n",
       "</style>\n",
       "<table border=\"1\" class=\"dataframe\">\n",
       "  <thead>\n",
       "    <tr style=\"text-align: right;\">\n",
       "      <th>Pred</th>\n",
       "      <th>setosa</th>\n",
       "      <th>versicolor</th>\n",
       "      <th>virginica</th>\n",
       "      <th>All</th>\n",
       "    </tr>\n",
       "    <tr>\n",
       "      <th>True</th>\n",
       "      <th></th>\n",
       "      <th></th>\n",
       "      <th></th>\n",
       "      <th></th>\n",
       "    </tr>\n",
       "  </thead>\n",
       "  <tbody>\n",
       "    <tr>\n",
       "      <th>setosa</th>\n",
       "      <td>16</td>\n",
       "      <td>0</td>\n",
       "      <td>0</td>\n",
       "      <td>16</td>\n",
       "    </tr>\n",
       "    <tr>\n",
       "      <th>versicolor</th>\n",
       "      <td>0</td>\n",
       "      <td>15</td>\n",
       "      <td>3</td>\n",
       "      <td>18</td>\n",
       "    </tr>\n",
       "    <tr>\n",
       "      <th>virginica</th>\n",
       "      <td>0</td>\n",
       "      <td>0</td>\n",
       "      <td>11</td>\n",
       "      <td>11</td>\n",
       "    </tr>\n",
       "    <tr>\n",
       "      <th>All</th>\n",
       "      <td>16</td>\n",
       "      <td>15</td>\n",
       "      <td>14</td>\n",
       "      <td>45</td>\n",
       "    </tr>\n",
       "  </tbody>\n",
       "</table>\n",
       "</div>"
      ],
      "text/plain": [
       "Pred        setosa  versicolor  virginica  All\n",
       "True                                          \n",
       "setosa          16           0          0   16\n",
       "versicolor       0          15          3   18\n",
       "virginica        0           0         11   11\n",
       "All             16          15         14   45"
      ]
     },
     "execution_count": 59,
     "metadata": {},
     "output_type": "execute_result"
    }
   ],
   "source": [
    "import pandas as pd\n",
    "confusion_matrix = pd.crosstab(y_test, pred, margins=True,\n",
    "                               rownames=['True'], colnames=['Pred'])\n",
    "confusion_matrix"
   ]
  },
  {
   "cell_type": "code",
   "execution_count": 60,
   "metadata": {},
   "outputs": [
    {
     "name": "stdout",
     "output_type": "stream",
     "text": [
      "0.9333333333333333\n"
     ]
    }
   ],
   "source": [
    "print(mlp.score(X_test_pca, y_test))"
   ]
  },
  {
   "cell_type": "markdown",
   "metadata": {},
   "source": [
    "# PCA를 이용해서 얼굴 주성분 분석하기"
   ]
  },
  {
   "cell_type": "code",
   "execution_count": 12,
   "metadata": {},
   "outputs": [],
   "source": [
    "# from imageio import imread\n",
    "from skimage import io\n",
    "import glob\n",
    "imgs = []\n",
    "for image_path in glob.glob(\"../../data/image/image/korean_beauty/*.png\"):\n",
    "#     image = imread(image_path)\n",
    "    image = io.imread(image_path, as_gray=True)\n",
    "    imgs.append(image)"
   ]
  },
  {
   "cell_type": "code",
   "execution_count": 13,
   "metadata": {},
   "outputs": [],
   "source": [
    "import numpy as np\n",
    "N = len(imgs) #이미지의 개수\n",
    "images = np.array(imgs)"
   ]
  },
  {
   "cell_type": "code",
   "execution_count": 14,
   "metadata": {},
   "outputs": [],
   "source": [
    "origin_shape = images.shape"
   ]
  },
  {
   "cell_type": "code",
   "execution_count": 15,
   "metadata": {},
   "outputs": [
    {
     "data": {
      "text/plain": [
       "(20, 35, 30)"
      ]
     },
     "execution_count": 15,
     "metadata": {},
     "output_type": "execute_result"
    }
   ],
   "source": [
    "origin_shape"
   ]
  },
  {
   "cell_type": "code",
   "execution_count": 5,
   "metadata": {},
   "outputs": [
    {
     "data": {
      "text/plain": [
       "(30, 35)"
      ]
     },
     "execution_count": 5,
     "metadata": {},
     "output_type": "execute_result"
    }
   ],
   "source": [
    "fig_size = (origin_shape[2], origin_shape[1])\n",
    "fig_size"
   ]
  },
  {
   "cell_type": "code",
   "execution_count": 6,
   "metadata": {},
   "outputs": [
    {
     "data": {
      "text/plain": [
       "(20, 1050)"
      ]
     },
     "execution_count": 6,
     "metadata": {},
     "output_type": "execute_result"
    }
   ],
   "source": [
    "images.shape = (N, -1)\n",
    "images.shape"
   ]
  },
  {
   "cell_type": "code",
   "execution_count": 7,
   "metadata": {},
   "outputs": [
    {
     "data": {
      "text/plain": [
       "array([[-0.34846806, -0.64595379,  0.31760955, ..., -1.39434474,\n",
       "        -1.18364742, -1.11041408],\n",
       "       [ 0.67771125,  1.94825646,  1.77498085, ..., -1.50651352,\n",
       "        -1.49234078, -1.39898864],\n",
       "       [-0.08074358, -0.51207572, -0.73079353, ...,  0.82449157,\n",
       "         0.73738828,  0.9538411 ],\n",
       "       ...,\n",
       "       [-0.64968146, -0.6966082 , -0.99570981, ..., -0.61142541,\n",
       "        -1.36434192, -1.43529639],\n",
       "       [ 0.28960996, -0.21467105, -0.66305684, ...,  0.84051043,\n",
       "         0.71770162,  0.34472421],\n",
       "       [-0.67518412, -0.73399219, -1.02074743, ...,  0.20354346,\n",
       "        -1.03574422, -1.58445642]])"
      ]
     },
     "execution_count": 7,
     "metadata": {},
     "output_type": "execute_result"
    }
   ],
   "source": [
    "from sklearn.preprocessing import StandardScaler\n",
    "sc = StandardScaler()\n",
    "images_std = sc.fit_transform(images)\n",
    "images_std"
   ]
  },
  {
   "cell_type": "code",
   "execution_count": 8,
   "metadata": {},
   "outputs": [],
   "source": [
    "import numpy as np\n",
    "cov_mat = np.cov(images_std)\n",
    "eigen_vals, eigen_vecs = np.linalg.eig(cov_mat)"
   ]
  },
  {
   "cell_type": "code",
   "execution_count": 9,
   "metadata": {},
   "outputs": [],
   "source": [
    "tot = sum(eigen_vals)\n",
    "var_exp = [(i / tot) for i in sorted(eigen_vals, reverse=True)]\n",
    "cum_var_exp = np.cumsum(var_exp)"
   ]
  },
  {
   "cell_type": "code",
   "execution_count": 10,
   "metadata": {},
   "outputs": [
    {
     "data": {
      "image/png": "[encoded data removed]",
      "text/plain": [
       "<Figure size 432x288 with 1 Axes>"
      ]
     },
     "metadata": {
      "needs_background": "light"
     },
     "output_type": "display_data"
    }
   ],
   "source": [
    "import matplotlib.pyplot as plt\n",
    "%matplotlib inline\n",
    "plt.bar(range(1, N+1), var_exp, alpha=0.5, align='center', \n",
    "        label='individual explained variance')\n",
    "plt.step(range(1, N+1), cum_var_exp, where='mid', \n",
    "         label='cumulative explained variance')\n",
    "plt.ylabel('Explained variance ratio')\n",
    "plt.xlabel('Principal components')\n",
    "plt.legend(loc='best')\n",
    "plt.tight_layout()\n",
    "plt.show()"
   ]
  },
  {
   "cell_type": "code",
   "execution_count": 11,
   "metadata": {},
   "outputs": [],
   "source": [
    "eigen_pairs = [(np.abs(eigen_vals[i]), \n",
    "                eigen_vecs[:,i]) for i in range(len(eigen_vals))]\n",
    "eigen_pairs.sort(reverse=False)"
   ]
  },
  {
   "cell_type": "code",
   "execution_count": 12,
   "metadata": {},
   "outputs": [],
   "source": [
    "w = eigen_pairs[0][1][:, np.newaxis]\n",
    "for i in range(1,N):\n",
    "    w = np.hstack((w,eigen_pairs[i][1][:, np.newaxis]))\n"
   ]
  },
  {
   "cell_type": "code",
   "execution_count": 13,
   "metadata": {},
   "outputs": [
    {
     "name": "stdout",
     "output_type": "stream",
     "text": [
      "Matrix W:\n",
      " [[ 2.23606798e-01 -2.30446865e-01  2.11017560e-01  2.03412770e-01\n",
      "   2.47971446e-02 -5.54192500e-01  1.33845339e-02 -8.53830817e-02\n",
      "   1.73199093e-03  2.03607514e-01  1.82260567e-01 -1.96257933e-02\n",
      "   5.75528038e-02  1.78009974e-01  2.54568256e-01 -2.25789263e-01\n",
      "   4.79072093e-01  1.89632082e-01  1.78412928e-02 -6.43269432e-02]\n",
      " [ 2.23606798e-01 -1.46150839e-01  1.39068237e-01  4.78264540e-02\n",
      "   8.69062065e-02  1.41575840e-01  3.64276739e-01 -2.23630634e-01\n",
      "   7.91599885e-03  2.81333614e-01 -3.17054694e-01 -1.58989180e-01\n",
      "   7.43483446e-02 -3.24528568e-01  2.28132852e-01  2.44611058e-01\n",
      "  -3.06669911e-02  1.28478738e-01  1.00970256e-02  5.01418625e-01]\n",
      " [ 2.23606798e-01 -2.86693730e-01 -6.63908273e-02  4.69685230e-02\n",
      "   4.63098400e-02  2.40602117e-01 -1.33638050e-01  4.84139447e-01\n",
      "   3.90841448e-01  1.84249017e-01 -3.66632239e-02 -2.96945066e-01\n",
      "   2.37907737e-02  1.89080989e-01  2.75593874e-01 -1.96135233e-02\n",
      "  -2.40987291e-02 -3.93555221e-01 -3.77334605e-02 -5.60262082e-02]\n",
      " [ 2.23606798e-01  4.13584480e-02  6.15869157e-01  1.69689863e-01\n",
      "   7.58014272e-02  1.01924313e-01 -6.37302612e-02  9.42773295e-03\n",
      "   4.99080946e-02 -5.03494942e-01 -6.66575960e-02  2.57357289e-01\n",
      "  -2.58049504e-01  2.05044981e-01  1.24179783e-01  1.94765007e-02\n",
      "  -9.54993777e-02 -1.18287143e-01  1.11661724e-01  1.82285253e-01]\n",
      " [ 2.23606798e-01  7.06270225e-01  2.19226700e-01 -2.58563687e-01\n",
      "  -9.65851325e-03 -2.04970519e-01  2.27740892e-01  1.08436712e-01\n",
      "  -2.58982395e-02  1.93310289e-01  2.57175419e-02 -1.09091623e-01\n",
      "   8.72181139e-02 -1.03445320e-01  1.17290421e-01 -1.87622207e-01\n",
      "  -7.90350802e-02 -3.14128198e-01 -3.83327137e-02 -7.92130843e-02]\n",
      " [ 2.23606798e-01  1.87557975e-01 -5.96160807e-01 -2.85866024e-03\n",
      "  -1.22477628e-01 -2.82599831e-01 -6.48077441e-02 -1.30791449e-01\n",
      "   6.41631324e-02 -2.38791543e-01 -1.71535477e-01 -7.94317987e-02\n",
      "  -4.28000112e-01  1.25554593e-01  1.84576427e-01  5.33778799e-02\n",
      "   7.49977374e-02 -1.03454668e-01  1.40887669e-01  2.72619765e-01]\n",
      " [ 2.23606798e-01 -1.21915879e-02 -6.09301416e-02  2.34463933e-02\n",
      "   1.72452373e-01 -1.97769608e-01  8.49562564e-02 -5.16615259e-02\n",
      "   7.29492595e-01 -1.12670740e-01  4.18461136e-03  1.69640758e-01\n",
      "   5.03199413e-03 -3.27503426e-01 -2.25437631e-01 -9.24465540e-02\n",
      "  -2.07997693e-01  2.28519032e-01 -1.90285602e-02 -1.75219897e-01]\n",
      " [ 2.23606798e-01 -4.67628936e-03 -1.25582142e-01  1.47529543e-01\n",
      "  -1.03405849e-02 -6.13031507e-02  2.58019020e-03 -1.54311568e-01\n",
      "  -9.01043012e-03 -9.57716572e-03 -3.02936281e-01  1.36291766e-01\n",
      "   5.59600346e-01  4.19093479e-01 -3.87771460e-01 -1.80934961e-01\n",
      "  -7.87326722e-02 -1.94295774e-01 -8.82140260e-02  2.24971936e-01]\n",
      " [ 2.23606798e-01 -5.54817567e-02  5.72432509e-03  1.57276909e-01\n",
      "  -5.89216352e-01  8.67198071e-02  2.73390533e-01  3.81503125e-01\n",
      "  -1.51630038e-01  6.26454322e-02 -2.07364802e-01  6.62903270e-02\n",
      "  -2.30659606e-01 -7.46645084e-03 -1.49487613e-01 -2.67120624e-01\n",
      "  -1.00532663e-01  3.12646707e-01 -1.05938179e-01 -8.25941083e-02]\n",
      " [ 2.23606798e-01  1.63899067e-01 -4.66247322e-02 -8.03057772e-02\n",
      "  -3.21907981e-01  5.08667630e-01 -9.64547922e-02 -4.72529593e-01\n",
      "   1.88192963e-01  3.53963243e-02  1.00275185e-02  1.35444467e-01\n",
      "   1.21509905e-01  9.09438875e-02  2.63071063e-01 -2.57383710e-02\n",
      "   2.59270934e-01  9.26968087e-02  2.77909707e-02 -3.08144393e-01]\n",
      " [ 2.23606798e-01  1.86722017e-02  1.19113400e-01 -1.92578938e-01\n",
      "   2.37910288e-01 -8.04934136e-02 -5.08477316e-01 -7.74620957e-02\n",
      "  -1.56290462e-01  3.55033053e-01 -4.22267479e-01  1.48591649e-03\n",
      "  -2.54457584e-01  1.20618271e-01 -7.17121479e-02  9.05811321e-02\n",
      "  -2.05500215e-01  2.17768901e-01 -1.10630576e-01 -2.17765191e-01]\n",
      " [ 2.23606798e-01  6.74355773e-02  4.96525436e-02 -1.92064480e-01\n",
      "   1.77055499e-01  2.16306200e-01 -1.75698634e-01  9.27554975e-02\n",
      "  -6.58457471e-02 -3.22413879e-01  8.56341962e-05 -5.04138374e-01\n",
      "   3.44085407e-02 -1.67992751e-01 -3.10962832e-01 -2.58333138e-01\n",
      "   4.06283892e-01  2.11339233e-01 -3.58201894e-02  1.48971291e-01]\n",
      " [ 2.23606798e-01  1.61941437e-01 -1.04902296e-01  1.28125475e-02\n",
      "  -1.06146654e-01  6.25549995e-03 -4.21532023e-01  2.74652784e-01\n",
      "  -5.29538311e-02  3.34878019e-02  3.65086222e-01  3.11988155e-01\n",
      "   2.43856696e-01 -1.62418793e-01  1.71207422e-01  1.56899905e-01\n",
      "  -6.34415033e-02  2.18924072e-01 -2.75090547e-01  3.82392050e-01]\n",
      " [ 2.23606798e-01 -2.94446723e-02 -2.99166780e-01 -6.40059188e-02\n",
      "   5.77955349e-01  2.40456236e-01  3.38855458e-01  1.39924055e-01\n",
      "  -2.70789864e-01 -3.15723872e-02  9.55229642e-02  3.12546455e-01\n",
      "  -2.73881902e-02  1.24800291e-01  1.89659889e-01 -2.32052896e-01\n",
      "  -3.64455106e-02  1.51436477e-01  5.77903557e-02 -1.20010831e-01]\n",
      " [ 2.23606798e-01 -4.46989033e-02 -8.03024346e-02  5.83479090e-01\n",
      "   4.89451204e-02  4.78693338e-02 -1.81854856e-01 -2.41865369e-01\n",
      "  -2.80745674e-01 -5.47235766e-03  1.33289581e-01 -1.32605568e-01\n",
      "  -5.92380380e-02 -4.16253204e-01 -1.60422120e-02 -1.98003755e-01\n",
      "  -1.97530286e-01 -3.11766364e-01 -7.21757597e-02 -1.81619306e-01]\n",
      " [ 2.23606798e-01 -4.87501392e-01  2.62092514e-02 -6.12327104e-01\n",
      "  -2.04618846e-01 -1.51847936e-01  1.72241342e-02 -1.75495447e-01\n",
      "  -1.65676910e-01 -1.93597615e-01  1.19050697e-01  5.44913090e-02\n",
      "   4.75131162e-02 -1.46994750e-01  7.43573025e-02 -1.45551267e-01\n",
      "  -2.16531523e-01 -2.24054524e-01 -1.03077471e-01 -1.80920242e-02]\n",
      " [ 2.23606798e-01 -4.24529801e-02  3.37573461e-02 -7.52911113e-02\n",
      "  -6.53090526e-02  1.08061540e-01 -5.62488817e-02 -1.83870710e-02\n",
      "   1.03945620e-03  3.64034895e-01  3.66573232e-01  8.80794330e-02\n",
      "  -1.60912240e-01  4.14973060e-02 -3.85927237e-01  2.40557975e-02\n",
      "  -2.10336474e-02 -7.89295364e-02  6.57943717e-01  1.74908341e-01]\n",
      " [ 2.23606798e-01 -3.62286399e-02 -3.76284161e-03 -9.67225929e-03\n",
      "   5.61304219e-02  2.79330167e-02  2.14215783e-01 -2.84236975e-03\n",
      "  -1.83911551e-02  7.03609685e-02  1.14113053e-01  1.80260011e-01\n",
      "  -2.59115270e-01  1.11310960e-02 -3.57929282e-01  4.42843363e-01\n",
      "   3.82114876e-01 -2.79068320e-01 -4.72629879e-01 -9.58640012e-02]\n",
      " [ 2.23606798e-01 -1.98534696e-02 -4.22170311e-02  2.47312387e-02\n",
      "  -5.29298261e-02 -1.51116412e-01 -1.65069717e-02  2.64743318e-01\n",
      "  -1.88345433e-01 -2.35646589e-01 -2.53565620e-01  5.45651676e-02\n",
      "   3.48713432e-01 -2.20127086e-01  3.35817524e-02  4.53088853e-01\n",
      "   1.48061609e-01 -1.37562386e-02  4.15916949e-01 -3.48373178e-01]\n",
      " [ 2.23606798e-01  4.86861947e-02  6.40151285e-03  7.04946038e-02\n",
      "  -2.16582333e-02 -4.20781629e-02  1.82325011e-01 -1.21222467e-01\n",
      "  -4.77078955e-02 -1.30221692e-01  3.62133550e-01 -4.67613652e-01\n",
      "   7.42764776e-02  3.70955482e-01 -1.09486273e-02  3.48272071e-01\n",
      "  -3.92755250e-01  2.79853937e-01 -8.12583434e-02 -1.40318095e-01]]\n"
     ]
    }
   ],
   "source": [
    "print('Matrix W:\\n', w)"
   ]
  },
  {
   "cell_type": "code",
   "execution_count": 137,
   "metadata": {},
   "outputs": [
    {
     "data": {
      "text/plain": [
       "(1050, 20)"
      ]
     },
     "execution_count": 137,
     "metadata": {},
     "output_type": "execute_result"
    }
   ],
   "source": [
    "images_pca = images_std.T @ w\n",
    "images_pca.shape"
   ]
  },
  {
   "cell_type": "code",
   "execution_count": 138,
   "metadata": {},
   "outputs": [
    {
     "data": {
      "text/plain": [
       "array([[ 1.40988134e-15, -1.44317886e-16, -1.25841272e-15, ...,\n",
       "        -4.70887239e-16, -2.64901642e-16,  1.89966836e-15],\n",
       "       [ 1.79356711e-01,  2.23372832e-02,  6.07306229e-03, ...,\n",
       "        -4.05934131e-02, -4.56183971e-02, -1.11519402e-01],\n",
       "       [ 8.39842208e-01,  2.95128229e-01,  1.98750934e-01, ...,\n",
       "         7.55725338e-01,  6.91592851e-01,  6.94554169e-01],\n",
       "       ...,\n",
       "       [ 1.79941549e+00,  1.66416412e+00,  1.79132166e+00, ...,\n",
       "        -2.07016564e+00, -2.03417259e+00, -1.93797791e+00],\n",
       "       [ 2.67281261e-01, -4.28811844e-01, -5.37148222e-01, ...,\n",
       "         1.21727181e+00,  1.57974752e+00,  1.38464373e+00],\n",
       "       [ 2.62195025e-01,  3.22855379e+00,  3.22610750e+00, ...,\n",
       "        -2.14626146e+00, -1.78128238e+00, -1.68331120e+00]])"
      ]
     },
     "execution_count": 138,
     "metadata": {},
     "output_type": "execute_result"
    }
   ],
   "source": [
    "result = images_pca.T\n",
    "result"
   ]
  },
  {
   "cell_type": "code",
   "execution_count": 139,
   "metadata": {},
   "outputs": [
    {
     "data": {
      "text/plain": [
       "(20, 1050)"
      ]
     },
     "execution_count": 139,
     "metadata": {},
     "output_type": "execute_result"
    }
   ],
   "source": [
    "result_img = sc.inverse_transform(result)\n",
    "result_img.shape"
   ]
  },
  {
   "cell_type": "code",
   "execution_count": 140,
   "metadata": {},
   "outputs": [
    {
     "data": {
      "text/plain": [
       "(20, 35, 30)"
      ]
     },
     "execution_count": 140,
     "metadata": {},
     "output_type": "execute_result"
    }
   ],
   "source": [
    "result_img.shape = origin_shape\n",
    "result_img.shape"
   ]
  },
  {
   "cell_type": "code",
   "execution_count": 141,
   "metadata": {},
   "outputs": [],
   "source": [
    "# result_img = result_img.astype(np.uint8)"
   ]
  },
  {
   "cell_type": "code",
   "execution_count": 142,
   "metadata": {},
   "outputs": [
    {
     "data": {
      "image/png": "[encoded data removed]",
      "text/plain": [
       "<Figure size 2160x2520 with 10 Axes>"
      ]
     },
     "metadata": {
      "needs_background": "light"
     },
     "output_type": "display_data"
    },
    {
     "data": {
      "image/png": "[encoded data removed]",
      "text/plain": [
       "<Figure size 2160x2520 with 10 Axes>"
      ]
     },
     "metadata": {
      "needs_background": "light"
     },
     "output_type": "display_data"
    }
   ],
   "source": [
    "import matplotlib.pyplot as plt\n",
    "%matplotlib inline\n",
    "images.shape = origin_shape\n",
    "nrows = (N//10)\n",
    "for row in range(nrows):\n",
    "    plt.figure(figsize=fig_size)\n",
    "    for i in range(10):\n",
    "        plt.subplot(1, 10, i+1)\n",
    "        plt.imshow(images[i + row*10], cmap=\"gray\")\n",
    "        plt.axis(\"off\")\n",
    "    plt.show()"
   ]
  },
  {
   "cell_type": "code",
   "execution_count": 144,
   "metadata": {},
   "outputs": [
    {
     "data": {
      "image/png": "[encoded data removed]",
      "text/plain": [
       "<Figure size 2160x2520 with 10 Axes>"
      ]
     },
     "metadata": {
      "needs_background": "light"
     },
     "output_type": "display_data"
    },
    {
     "data": {
      "image/png": "[encoded data removed]",
      "text/plain": [
       "<Figure size 2160x2520 with 10 Axes>"
      ]
     },
     "metadata": {
      "needs_background": "light"
     },
     "output_type": "display_data"
    }
   ],
   "source": [
    "import matplotlib.pyplot as plt\n",
    "%matplotlib inline\n",
    "nrows = (N//10)\n",
    "for row in range(nrows):\n",
    "    plt.figure(figsize=fig_size)\n",
    "    for i in range(10):\n",
    "        plt.subplot(1, 10, i+1)\n",
    "        plt.imshow(result_img[i + row*10], cmap=\"gray\")\n",
    "        plt.axis(\"off\")\n",
    "    plt.show()"
   ]
  },
  {
   "cell_type": "markdown",
   "metadata": {},
   "source": [
    "# 특잇값 분해"
   ]
  },
  {
   "cell_type": "code",
   "execution_count": null,
   "metadata": {},
   "outputs": [],
   "source": []
  },
  {
   "cell_type": "code",
   "execution_count": null,
   "metadata": {},
   "outputs": [],
   "source": []
  },
  {
   "cell_type": "code",
   "execution_count": null,
   "metadata": {},
   "outputs": [],
   "source": []
  },
  {
   "cell_type": "code",
   "execution_count": null,
   "metadata": {},
   "outputs": [],
   "source": []
  },
  {
   "cell_type": "markdown",
   "metadata": {},
   "source": [
    "# 분류 모형의 변수 선택"
   ]
  },
  {
   "cell_type": "code",
   "execution_count": 16,
   "metadata": {},
   "outputs": [
    {
     "data": {
      "text/html": [
       "<div>\n",
       "<style scoped>\n",
       "    .dataframe tbody tr th:only-of-type {\n",
       "        vertical-align: middle;\n",
       "    }\n",
       "\n",
       "    .dataframe tbody tr th {\n",
       "        vertical-align: top;\n",
       "    }\n",
       "\n",
       "    .dataframe thead th {\n",
       "        text-align: right;\n",
       "    }\n",
       "</style>\n",
       "<table border=\"1\" class=\"dataframe\">\n",
       "  <thead>\n",
       "    <tr style=\"text-align: right;\">\n",
       "      <th></th>\n",
       "      <th>fixed acidity</th>\n",
       "      <th>volatile acidity</th>\n",
       "      <th>citric acid</th>\n",
       "      <th>residual sugar</th>\n",
       "      <th>chlorides</th>\n",
       "      <th>free sulfur dioxide</th>\n",
       "      <th>total sulfur dioxide</th>\n",
       "      <th>density</th>\n",
       "      <th>pH</th>\n",
       "      <th>sulphates</th>\n",
       "      <th>alcohol</th>\n",
       "      <th>quality</th>\n",
       "    </tr>\n",
       "  </thead>\n",
       "  <tbody>\n",
       "    <tr>\n",
       "      <th>0</th>\n",
       "      <td>7.4</td>\n",
       "      <td>0.70</td>\n",
       "      <td>0.00</td>\n",
       "      <td>1.9</td>\n",
       "      <td>0.076</td>\n",
       "      <td>11.0</td>\n",
       "      <td>34.0</td>\n",
       "      <td>0.9978</td>\n",
       "      <td>3.51</td>\n",
       "      <td>0.56</td>\n",
       "      <td>9.4</td>\n",
       "      <td>5</td>\n",
       "    </tr>\n",
       "    <tr>\n",
       "      <th>1</th>\n",
       "      <td>7.8</td>\n",
       "      <td>0.88</td>\n",
       "      <td>0.00</td>\n",
       "      <td>2.6</td>\n",
       "      <td>0.098</td>\n",
       "      <td>25.0</td>\n",
       "      <td>67.0</td>\n",
       "      <td>0.9968</td>\n",
       "      <td>3.20</td>\n",
       "      <td>0.68</td>\n",
       "      <td>9.8</td>\n",
       "      <td>5</td>\n",
       "    </tr>\n",
       "    <tr>\n",
       "      <th>2</th>\n",
       "      <td>7.8</td>\n",
       "      <td>0.76</td>\n",
       "      <td>0.04</td>\n",
       "      <td>2.3</td>\n",
       "      <td>0.092</td>\n",
       "      <td>15.0</td>\n",
       "      <td>54.0</td>\n",
       "      <td>0.9970</td>\n",
       "      <td>3.26</td>\n",
       "      <td>0.65</td>\n",
       "      <td>9.8</td>\n",
       "      <td>5</td>\n",
       "    </tr>\n",
       "    <tr>\n",
       "      <th>3</th>\n",
       "      <td>11.2</td>\n",
       "      <td>0.28</td>\n",
       "      <td>0.56</td>\n",
       "      <td>1.9</td>\n",
       "      <td>0.075</td>\n",
       "      <td>17.0</td>\n",
       "      <td>60.0</td>\n",
       "      <td>0.9980</td>\n",
       "      <td>3.16</td>\n",
       "      <td>0.58</td>\n",
       "      <td>9.8</td>\n",
       "      <td>6</td>\n",
       "    </tr>\n",
       "    <tr>\n",
       "      <th>4</th>\n",
       "      <td>7.4</td>\n",
       "      <td>0.70</td>\n",
       "      <td>0.00</td>\n",
       "      <td>1.9</td>\n",
       "      <td>0.076</td>\n",
       "      <td>11.0</td>\n",
       "      <td>34.0</td>\n",
       "      <td>0.9978</td>\n",
       "      <td>3.51</td>\n",
       "      <td>0.56</td>\n",
       "      <td>9.4</td>\n",
       "      <td>5</td>\n",
       "    </tr>\n",
       "  </tbody>\n",
       "</table>\n",
       "</div>"
      ],
      "text/plain": [
       "   fixed acidity  volatile acidity  citric acid  residual sugar  chlorides  \\\n",
       "0            7.4              0.70         0.00             1.9      0.076   \n",
       "1            7.8              0.88         0.00             2.6      0.098   \n",
       "2            7.8              0.76         0.04             2.3      0.092   \n",
       "3           11.2              0.28         0.56             1.9      0.075   \n",
       "4            7.4              0.70         0.00             1.9      0.076   \n",
       "\n",
       "   free sulfur dioxide  total sulfur dioxide  density    pH  sulphates  \\\n",
       "0                 11.0                  34.0   0.9978  3.51       0.56   \n",
       "1                 25.0                  67.0   0.9968  3.20       0.68   \n",
       "2                 15.0                  54.0   0.9970  3.26       0.65   \n",
       "3                 17.0                  60.0   0.9980  3.16       0.58   \n",
       "4                 11.0                  34.0   0.9978  3.51       0.56   \n",
       "\n",
       "   alcohol  quality  \n",
       "0      9.4        5  \n",
       "1      9.8        5  \n",
       "2      9.8        5  \n",
       "3      9.8        6  \n",
       "4      9.4        5  "
      ]
     },
     "execution_count": 16,
     "metadata": {},
     "output_type": "execute_result"
    }
   ],
   "source": [
    "import pandas as pd\n",
    "redwine = pd.read_csv('winequality-red.csv', delimiter=';')\n",
    "redwine.head()"
   ]
  },
  {
   "cell_type": "code",
   "execution_count": 17,
   "metadata": {},
   "outputs": [],
   "source": [
    "X = redwine.iloc[:, :-1];\n",
    "y = redwine.iloc[:, -1]\n",
    "from sklearn.model_selection import train_test_split\n",
    "train_X, test_X, train_y, test_y = train_test_split(X, y, test_size=0.3,\n",
    "                                                    random_state=1)"
   ]
  },
  {
   "cell_type": "code",
   "execution_count": 18,
   "metadata": {},
   "outputs": [
    {
     "data": {
      "image/png": "[encoded data removed]",
      "text/plain": [
       "<Figure size 1200x1000 with 2 Axes>"
      ]
     },
     "metadata": {},
     "output_type": "display_data"
    }
   ],
   "source": [
    "import seaborn as sns\n",
    "import matplotlib.pyplot as plt\n",
    "%matplotlib inline\n",
    "plt.figure(figsize=(12,10))\n",
    "sns.heatmap(redwine.corr(), annot=True, \n",
    "            vmin=-1, vmax=1, cmap=\"coolwarm_r\")\n",
    "plt.show()"
   ]
  },
  {
   "cell_type": "code",
   "execution_count": 19,
   "metadata": {},
   "outputs": [
    {
     "data": {
      "text/plain": [
       "RandomForestClassifier(n_estimators=10, random_state=10)"
      ]
     },
     "execution_count": 19,
     "metadata": {},
     "output_type": "execute_result"
    }
   ],
   "source": [
    "from sklearn.ensemble import RandomForestClassifier\n",
    "rf_model = RandomForestClassifier(n_estimators=10, random_state=10)\n",
    "rf_model.fit(train_X, train_y)"
   ]
  },
  {
   "cell_type": "code",
   "execution_count": 20,
   "metadata": {},
   "outputs": [
    {
     "data": {
      "text/plain": [
       "array([0.07679351, 0.10421786, 0.07802557, 0.06573503, 0.07706915,\n",
       "       0.06138852, 0.10841369, 0.09313385, 0.07038339, 0.10917441,\n",
       "       0.15566503])"
      ]
     },
     "execution_count": 20,
     "metadata": {},
     "output_type": "execute_result"
    }
   ],
   "source": [
    "rf_model.feature_importances_"
   ]
  },
  {
   "cell_type": "code",
   "execution_count": 21,
   "metadata": {},
   "outputs": [
    {
     "data": {
      "text/plain": [
       "1.0000000000000002"
      ]
     },
     "execution_count": 21,
     "metadata": {},
     "output_type": "execute_result"
    }
   ],
   "source": [
    "import numpy as np\n",
    "np.sum(rf_model.feature_importances_)"
   ]
  },
  {
   "cell_type": "code",
   "execution_count": 22,
   "metadata": {},
   "outputs": [],
   "source": [
    "features = pd.DataFrame(data=np.c_[X.columns,\n",
    "                                   rf_model.feature_importances_],\n",
    "                        columns=[\"feature\", \"importance\"])"
   ]
  },
  {
   "cell_type": "code",
   "execution_count": 23,
   "metadata": {},
   "outputs": [
    {
     "data": {
      "text/html": [
       "<div>\n",
       "<style scoped>\n",
       "    .dataframe tbody tr th:only-of-type {\n",
       "        vertical-align: middle;\n",
       "    }\n",
       "\n",
       "    .dataframe tbody tr th {\n",
       "        vertical-align: top;\n",
       "    }\n",
       "\n",
       "    .dataframe thead th {\n",
       "        text-align: right;\n",
       "    }\n",
       "</style>\n",
       "<table border=\"1\" class=\"dataframe\">\n",
       "  <thead>\n",
       "    <tr style=\"text-align: right;\">\n",
       "      <th></th>\n",
       "      <th>feature</th>\n",
       "      <th>importance</th>\n",
       "    </tr>\n",
       "  </thead>\n",
       "  <tbody>\n",
       "    <tr>\n",
       "      <th>0</th>\n",
       "      <td>alcohol</td>\n",
       "      <td>0.155665</td>\n",
       "    </tr>\n",
       "    <tr>\n",
       "      <th>1</th>\n",
       "      <td>sulphates</td>\n",
       "      <td>0.109174</td>\n",
       "    </tr>\n",
       "    <tr>\n",
       "      <th>2</th>\n",
       "      <td>total sulfur dioxide</td>\n",
       "      <td>0.108414</td>\n",
       "    </tr>\n",
       "    <tr>\n",
       "      <th>3</th>\n",
       "      <td>volatile acidity</td>\n",
       "      <td>0.104218</td>\n",
       "    </tr>\n",
       "    <tr>\n",
       "      <th>4</th>\n",
       "      <td>density</td>\n",
       "      <td>0.093134</td>\n",
       "    </tr>\n",
       "    <tr>\n",
       "      <th>5</th>\n",
       "      <td>citric acid</td>\n",
       "      <td>0.078026</td>\n",
       "    </tr>\n",
       "    <tr>\n",
       "      <th>6</th>\n",
       "      <td>chlorides</td>\n",
       "      <td>0.077069</td>\n",
       "    </tr>\n",
       "    <tr>\n",
       "      <th>7</th>\n",
       "      <td>fixed acidity</td>\n",
       "      <td>0.076794</td>\n",
       "    </tr>\n",
       "    <tr>\n",
       "      <th>8</th>\n",
       "      <td>pH</td>\n",
       "      <td>0.070383</td>\n",
       "    </tr>\n",
       "    <tr>\n",
       "      <th>9</th>\n",
       "      <td>residual sugar</td>\n",
       "      <td>0.065735</td>\n",
       "    </tr>\n",
       "    <tr>\n",
       "      <th>10</th>\n",
       "      <td>free sulfur dioxide</td>\n",
       "      <td>0.061389</td>\n",
       "    </tr>\n",
       "  </tbody>\n",
       "</table>\n",
       "</div>"
      ],
      "text/plain": [
       "                 feature importance\n",
       "0                alcohol   0.155665\n",
       "1              sulphates   0.109174\n",
       "2   total sulfur dioxide   0.108414\n",
       "3       volatile acidity   0.104218\n",
       "4                density   0.093134\n",
       "5            citric acid   0.078026\n",
       "6              chlorides   0.077069\n",
       "7          fixed acidity   0.076794\n",
       "8                     pH   0.070383\n",
       "9         residual sugar   0.065735\n",
       "10   free sulfur dioxide   0.061389"
      ]
     },
     "execution_count": 23,
     "metadata": {},
     "output_type": "execute_result"
    }
   ],
   "source": [
    "features.sort_values(by=\"importance\", ascending=False, inplace=True)\n",
    "features.reset_index(drop=True, inplace=True)\n",
    "features"
   ]
  },
  {
   "cell_type": "code",
   "execution_count": 24,
   "metadata": {
    "scrolled": true
   },
   "outputs": [
    {
     "data": {
      "image/png": "[encoded data removed]",
      "text/plain": [
       "<Figure size 1200x800 with 1 Axes>"
      ]
     },
     "metadata": {},
     "output_type": "display_data"
    }
   ],
   "source": [
    "plt.figure(figsize=(12, 8))\n",
    "plt.bar(features.feature, features.importance)\n",
    "plt.xticks(features.feature, fontsize=12, rotation=45)\n",
    "plt.show()"
   ]
  },
  {
   "cell_type": "code",
   "execution_count": 25,
   "metadata": {
    "scrolled": true
   },
   "outputs": [
    {
     "data": {
      "image/png": "[encoded data removed]",
      "text/plain": [
       "<Figure size 1200x800 with 1 Axes>"
      ]
     },
     "metadata": {},
     "output_type": "display_data"
    }
   ],
   "source": [
    "y_stack = np.cumsum(features.importance, axis=0)\n",
    "plt.figure(figsize=(12, 8))\n",
    "plt.bar(features.feature, y_stack)\n",
    "plt.xticks(features.feature, fontsize=12, rotation=45)\n",
    "plt.show()"
   ]
  },
  {
   "cell_type": "code",
   "execution_count": 26,
   "metadata": {},
   "outputs": [
    {
     "data": {
      "text/plain": [
       "RFE(estimator=RandomForestClassifier(n_estimators=10, random_state=10),\n",
       "    n_features_to_select=5)"
      ]
     },
     "execution_count": 26,
     "metadata": {},
     "output_type": "execute_result"
    }
   ],
   "source": [
    "from sklearn.ensemble import RandomForestClassifier\n",
    "from sklearn.feature_selection import RFE\n",
    "rf_model = RandomForestClassifier(n_estimators=10, random_state=10)\n",
    "rfe_model = RFE(rf_model, n_features_to_select=5)\n",
    "rfe_model.fit(train_X, train_y)"
   ]
  },
  {
   "cell_type": "code",
   "execution_count": 27,
   "metadata": {},
   "outputs": [
    {
     "data": {
      "text/plain": [
       "array([False,  True, False, False, False, False,  True, False,  True,\n",
       "        True,  True])"
      ]
     },
     "execution_count": 27,
     "metadata": {},
     "output_type": "execute_result"
    }
   ],
   "source": [
    "rfe_model.get_support()"
   ]
  },
  {
   "cell_type": "code",
   "execution_count": 28,
   "metadata": {
    "scrolled": true
   },
   "outputs": [
    {
     "data": {
      "text/html": [
       "<div>\n",
       "<style scoped>\n",
       "    .dataframe tbody tr th:only-of-type {\n",
       "        vertical-align: middle;\n",
       "    }\n",
       "\n",
       "    .dataframe tbody tr th {\n",
       "        vertical-align: top;\n",
       "    }\n",
       "\n",
       "    .dataframe thead th {\n",
       "        text-align: right;\n",
       "    }\n",
       "</style>\n",
       "<table border=\"1\" class=\"dataframe\">\n",
       "  <thead>\n",
       "    <tr style=\"text-align: right;\">\n",
       "      <th></th>\n",
       "      <th>feature</th>\n",
       "      <th>selected</th>\n",
       "    </tr>\n",
       "  </thead>\n",
       "  <tbody>\n",
       "    <tr>\n",
       "      <th>1</th>\n",
       "      <td>volatile acidity</td>\n",
       "      <td>True</td>\n",
       "    </tr>\n",
       "    <tr>\n",
       "      <th>6</th>\n",
       "      <td>total sulfur dioxide</td>\n",
       "      <td>True</td>\n",
       "    </tr>\n",
       "    <tr>\n",
       "      <th>8</th>\n",
       "      <td>pH</td>\n",
       "      <td>True</td>\n",
       "    </tr>\n",
       "    <tr>\n",
       "      <th>9</th>\n",
       "      <td>sulphates</td>\n",
       "      <td>True</td>\n",
       "    </tr>\n",
       "    <tr>\n",
       "      <th>10</th>\n",
       "      <td>alcohol</td>\n",
       "      <td>True</td>\n",
       "    </tr>\n",
       "    <tr>\n",
       "      <th>0</th>\n",
       "      <td>fixed acidity</td>\n",
       "      <td>False</td>\n",
       "    </tr>\n",
       "    <tr>\n",
       "      <th>2</th>\n",
       "      <td>citric acid</td>\n",
       "      <td>False</td>\n",
       "    </tr>\n",
       "    <tr>\n",
       "      <th>3</th>\n",
       "      <td>residual sugar</td>\n",
       "      <td>False</td>\n",
       "    </tr>\n",
       "    <tr>\n",
       "      <th>4</th>\n",
       "      <td>chlorides</td>\n",
       "      <td>False</td>\n",
       "    </tr>\n",
       "    <tr>\n",
       "      <th>5</th>\n",
       "      <td>free sulfur dioxide</td>\n",
       "      <td>False</td>\n",
       "    </tr>\n",
       "    <tr>\n",
       "      <th>7</th>\n",
       "      <td>density</td>\n",
       "      <td>False</td>\n",
       "    </tr>\n",
       "  </tbody>\n",
       "</table>\n",
       "</div>"
      ],
      "text/plain": [
       "                 feature selected\n",
       "1       volatile acidity     True\n",
       "6   total sulfur dioxide     True\n",
       "8                     pH     True\n",
       "9              sulphates     True\n",
       "10               alcohol     True\n",
       "0          fixed acidity    False\n",
       "2            citric acid    False\n",
       "3         residual sugar    False\n",
       "4              chlorides    False\n",
       "5    free sulfur dioxide    False\n",
       "7                density    False"
      ]
     },
     "execution_count": 28,
     "metadata": {},
     "output_type": "execute_result"
    }
   ],
   "source": [
    "import numpy as np\n",
    "import pandas as pd\n",
    "features_rfe = pd.DataFrame(data=np.c_[X.columns.values, \n",
    "                                       rfe_model.get_support()],\n",
    "                            columns=[\"feature\", \"selected\"])\n",
    "features_rfe.sort_values(by=\"selected\", ascending=False)"
   ]
  },
  {
   "cell_type": "code",
   "execution_count": 29,
   "metadata": {
    "scrolled": true
   },
   "outputs": [
    {
     "data": {
      "text/html": [
       "<div>\n",
       "<style scoped>\n",
       "    .dataframe tbody tr th:only-of-type {\n",
       "        vertical-align: middle;\n",
       "    }\n",
       "\n",
       "    .dataframe tbody tr th {\n",
       "        vertical-align: top;\n",
       "    }\n",
       "\n",
       "    .dataframe thead th {\n",
       "        text-align: right;\n",
       "    }\n",
       "</style>\n",
       "<table border=\"1\" class=\"dataframe\">\n",
       "  <thead>\n",
       "    <tr style=\"text-align: right;\">\n",
       "      <th></th>\n",
       "      <th>feature</th>\n",
       "      <th>importance</th>\n",
       "      <th>selected</th>\n",
       "    </tr>\n",
       "  </thead>\n",
       "  <tbody>\n",
       "    <tr>\n",
       "      <th>0</th>\n",
       "      <td>alcohol</td>\n",
       "      <td>0.155665</td>\n",
       "      <td>True</td>\n",
       "    </tr>\n",
       "    <tr>\n",
       "      <th>1</th>\n",
       "      <td>sulphates</td>\n",
       "      <td>0.109174</td>\n",
       "      <td>True</td>\n",
       "    </tr>\n",
       "    <tr>\n",
       "      <th>2</th>\n",
       "      <td>total sulfur dioxide</td>\n",
       "      <td>0.108414</td>\n",
       "      <td>True</td>\n",
       "    </tr>\n",
       "    <tr>\n",
       "      <th>3</th>\n",
       "      <td>volatile acidity</td>\n",
       "      <td>0.104218</td>\n",
       "      <td>True</td>\n",
       "    </tr>\n",
       "    <tr>\n",
       "      <th>4</th>\n",
       "      <td>density</td>\n",
       "      <td>0.093134</td>\n",
       "      <td>False</td>\n",
       "    </tr>\n",
       "    <tr>\n",
       "      <th>5</th>\n",
       "      <td>citric acid</td>\n",
       "      <td>0.078026</td>\n",
       "      <td>False</td>\n",
       "    </tr>\n",
       "    <tr>\n",
       "      <th>6</th>\n",
       "      <td>chlorides</td>\n",
       "      <td>0.077069</td>\n",
       "      <td>False</td>\n",
       "    </tr>\n",
       "    <tr>\n",
       "      <th>7</th>\n",
       "      <td>fixed acidity</td>\n",
       "      <td>0.076794</td>\n",
       "      <td>False</td>\n",
       "    </tr>\n",
       "    <tr>\n",
       "      <th>8</th>\n",
       "      <td>pH</td>\n",
       "      <td>0.070383</td>\n",
       "      <td>True</td>\n",
       "    </tr>\n",
       "    <tr>\n",
       "      <th>9</th>\n",
       "      <td>residual sugar</td>\n",
       "      <td>0.065735</td>\n",
       "      <td>False</td>\n",
       "    </tr>\n",
       "    <tr>\n",
       "      <th>10</th>\n",
       "      <td>free sulfur dioxide</td>\n",
       "      <td>0.061389</td>\n",
       "      <td>False</td>\n",
       "    </tr>\n",
       "  </tbody>\n",
       "</table>\n",
       "</div>"
      ],
      "text/plain": [
       "                 feature importance selected\n",
       "0                alcohol   0.155665     True\n",
       "1              sulphates   0.109174     True\n",
       "2   total sulfur dioxide   0.108414     True\n",
       "3       volatile acidity   0.104218     True\n",
       "4                density   0.093134    False\n",
       "5            citric acid   0.078026    False\n",
       "6              chlorides   0.077069    False\n",
       "7          fixed acidity   0.076794    False\n",
       "8                     pH   0.070383     True\n",
       "9         residual sugar   0.065735    False\n",
       "10   free sulfur dioxide   0.061389    False"
      ]
     },
     "execution_count": 29,
     "metadata": {},
     "output_type": "execute_result"
    }
   ],
   "source": [
    "features.merge(features_rfe)"
   ]
  },
  {
   "cell_type": "code",
   "execution_count": 30,
   "metadata": {},
   "outputs": [],
   "source": [
    "import pickle\n",
    "with open(\"rfe.model\", \"wb\") as f:\n",
    "    pickle.dump(rfe_model, f)"
   ]
  },
  {
   "cell_type": "code",
   "execution_count": 31,
   "metadata": {},
   "outputs": [],
   "source": [
    "import pickle\n",
    "with open(\"rfe.model\", \"rb\") as f:\n",
    "    rfe_model = pickle.load(f)"
   ]
  },
  {
   "cell_type": "code",
   "execution_count": 32,
   "metadata": {},
   "outputs": [
    {
     "data": {
      "text/plain": [
       "array([5, 6, 8, 6, 6, 6, 6, 5, 5, 6], dtype=int64)"
      ]
     },
     "execution_count": 32,
     "metadata": {},
     "output_type": "execute_result"
    }
   ],
   "source": [
    "rfe_model.predict(test_X[:10])"
   ]
  },
  {
   "cell_type": "code",
   "execution_count": 33,
   "metadata": {},
   "outputs": [
    {
     "data": {
      "text/plain": [
       "array([5, 6, 6, 6, 6, 6, 6, 5, 5, 5], dtype=int64)"
      ]
     },
     "execution_count": 33,
     "metadata": {},
     "output_type": "execute_result"
    }
   ],
   "source": [
    "test_y[:10].values"
   ]
  },
  {
   "cell_type": "markdown",
   "metadata": {},
   "source": [
    "# 회귀모형의 변수 선택"
   ]
  },
  {
   "cell_type": "code",
   "execution_count": 34,
   "metadata": {},
   "outputs": [
    {
     "name": "stderr",
     "output_type": "stream",
     "text": [
      "c:\\Users\\SBAUser\\anaconda3\\lib\\site-packages\\sklearn\\utils\\deprecation.py:87: FutureWarning: Function load_boston is deprecated; `load_boston` is deprecated in 1.0 and will be removed in 1.2.\n",
      "\n",
      "    The Boston housing prices dataset has an ethical problem. You can refer to\n",
      "    the documentation of this function for further details.\n",
      "\n",
      "    The scikit-learn maintainers therefore strongly discourage the use of this\n",
      "    dataset unless the purpose of the code is to study and educate about\n",
      "    ethical issues in data science and machine learning.\n",
      "\n",
      "    In this special case, you can fetch the dataset from the original\n",
      "    source::\n",
      "\n",
      "        import pandas as pd\n",
      "        import numpy as np\n",
      "\n",
      "\n",
      "        data_url = \"http://lib.stat.cmu.edu/datasets/boston\"\n",
      "        raw_df = pd.read_csv(data_url, sep=\"\\s+\", skiprows=22, header=None)\n",
      "        data = np.hstack([raw_df.values[::2, :], raw_df.values[1::2, :2]])\n",
      "        target = raw_df.values[1::2, 2]\n",
      "\n",
      "    Alternative datasets include the California housing dataset (i.e.\n",
      "    :func:`~sklearn.datasets.fetch_california_housing`) and the Ames housing\n",
      "    dataset. You can load the datasets as follows::\n",
      "\n",
      "        from sklearn.datasets import fetch_california_housing\n",
      "        housing = fetch_california_housing()\n",
      "\n",
      "    for the California housing dataset and::\n",
      "\n",
      "        from sklearn.datasets import fetch_openml\n",
      "        housing = fetch_openml(name=\"house_prices\", as_frame=True)\n",
      "\n",
      "    for the Ames housing dataset.\n",
      "    \n",
      "  warnings.warn(msg, category=FutureWarning)\n"
     ]
    }
   ],
   "source": [
    "from sklearn.datasets import load_boston\n",
    "boston = load_boston()\n",
    "X = boston.data\n",
    "y = boston.target\n",
    "\n",
    "from sklearn.model_selection import train_test_split\n",
    "X_train, X_test, y_train, y_test = train_test_split(X, y, test_size=0.3,\n",
    "                                                    random_state=1)"
   ]
  },
  {
   "cell_type": "code",
   "execution_count": 35,
   "metadata": {},
   "outputs": [],
   "source": [
    "from sklearn.preprocessing import MinMaxScaler\n",
    "scaler = MinMaxScaler(feature_range=(0,1))\n",
    "scaler.fit(X_train)\n",
    "X_train_scaled = scaler.transform(X_train)\n",
    "X_test_scaled = scaler.transform(X_test)"
   ]
  },
  {
   "cell_type": "code",
   "execution_count": 36,
   "metadata": {},
   "outputs": [
    {
     "data": {
      "text/plain": [
       "array([ -7.24560918,   6.07841138,   1.61419961,   2.43955988,\n",
       "       -10.43440297,  14.59135251,   0.33601219, -16.67429358,\n",
       "         7.07346015,  -5.91072872,  -9.45138418,   2.55801415,\n",
       "       -20.61456368])"
      ]
     },
     "execution_count": 36,
     "metadata": {},
     "output_type": "execute_result"
    }
   ],
   "source": [
    "from sklearn.linear_model import LinearRegression\n",
    "lr = LinearRegression()\n",
    "lr.fit(X_train_scaled, y_train)\n",
    "lr.coef_"
   ]
  },
  {
   "cell_type": "code",
   "execution_count": 37,
   "metadata": {},
   "outputs": [],
   "source": [
    "import pandas as pd\n",
    "import numpy as np\n",
    "features = pd.DataFrame(np.c_[boston.feature_names, lr.coef_],\n",
    "                        columns = ['feature', 'coef'])"
   ]
  },
  {
   "cell_type": "code",
   "execution_count": 38,
   "metadata": {
    "scrolled": true
   },
   "outputs": [
    {
     "data": {
      "text/html": [
       "<div>\n",
       "<style scoped>\n",
       "    .dataframe tbody tr th:only-of-type {\n",
       "        vertical-align: middle;\n",
       "    }\n",
       "\n",
       "    .dataframe tbody tr th {\n",
       "        vertical-align: top;\n",
       "    }\n",
       "\n",
       "    .dataframe thead th {\n",
       "        text-align: right;\n",
       "    }\n",
       "</style>\n",
       "<table border=\"1\" class=\"dataframe\">\n",
       "  <thead>\n",
       "    <tr style=\"text-align: right;\">\n",
       "      <th></th>\n",
       "      <th>feature</th>\n",
       "      <th>coef</th>\n",
       "    </tr>\n",
       "  </thead>\n",
       "  <tbody>\n",
       "    <tr>\n",
       "      <th>8</th>\n",
       "      <td>RAD</td>\n",
       "      <td>7.073460145683998</td>\n",
       "    </tr>\n",
       "    <tr>\n",
       "      <th>1</th>\n",
       "      <td>ZN</td>\n",
       "      <td>6.078411384243512</td>\n",
       "    </tr>\n",
       "    <tr>\n",
       "      <th>11</th>\n",
       "      <td>B</td>\n",
       "      <td>2.5580141534966128</td>\n",
       "    </tr>\n",
       "    <tr>\n",
       "      <th>3</th>\n",
       "      <td>CHAS</td>\n",
       "      <td>2.4395598751548504</td>\n",
       "    </tr>\n",
       "    <tr>\n",
       "      <th>5</th>\n",
       "      <td>RM</td>\n",
       "      <td>14.591352506822624</td>\n",
       "    </tr>\n",
       "    <tr>\n",
       "      <th>2</th>\n",
       "      <td>INDUS</td>\n",
       "      <td>1.6141996129903846</td>\n",
       "    </tr>\n",
       "    <tr>\n",
       "      <th>6</th>\n",
       "      <td>AGE</td>\n",
       "      <td>0.3360121909384357</td>\n",
       "    </tr>\n",
       "    <tr>\n",
       "      <th>10</th>\n",
       "      <td>PTRATIO</td>\n",
       "      <td>-9.451384184058607</td>\n",
       "    </tr>\n",
       "    <tr>\n",
       "      <th>0</th>\n",
       "      <td>CRIM</td>\n",
       "      <td>-7.245609178578958</td>\n",
       "    </tr>\n",
       "    <tr>\n",
       "      <th>9</th>\n",
       "      <td>TAX</td>\n",
       "      <td>-5.91072871694803</td>\n",
       "    </tr>\n",
       "    <tr>\n",
       "      <th>12</th>\n",
       "      <td>LSTAT</td>\n",
       "      <td>-20.614563676453436</td>\n",
       "    </tr>\n",
       "    <tr>\n",
       "      <th>7</th>\n",
       "      <td>DIS</td>\n",
       "      <td>-16.67429358286719</td>\n",
       "    </tr>\n",
       "    <tr>\n",
       "      <th>4</th>\n",
       "      <td>NOX</td>\n",
       "      <td>-10.434402972121894</td>\n",
       "    </tr>\n",
       "  </tbody>\n",
       "</table>\n",
       "</div>"
      ],
      "text/plain": [
       "    feature                 coef\n",
       "8       RAD    7.073460145683998\n",
       "1        ZN    6.078411384243512\n",
       "11        B   2.5580141534966128\n",
       "3      CHAS   2.4395598751548504\n",
       "5        RM   14.591352506822624\n",
       "2     INDUS   1.6141996129903846\n",
       "6       AGE   0.3360121909384357\n",
       "10  PTRATIO   -9.451384184058607\n",
       "0      CRIM   -7.245609178578958\n",
       "9       TAX    -5.91072871694803\n",
       "12    LSTAT  -20.614563676453436\n",
       "7       DIS   -16.67429358286719\n",
       "4       NOX  -10.434402972121894"
      ]
     },
     "execution_count": 38,
     "metadata": {},
     "output_type": "execute_result"
    }
   ],
   "source": [
    "features.sort_values(\"coef\", ascending=False, inplace=True)\n",
    "features"
   ]
  },
  {
   "cell_type": "markdown",
   "metadata": {},
   "source": [
    "# SelectKBest"
   ]
  },
  {
   "cell_type": "code",
   "execution_count": 39,
   "metadata": {},
   "outputs": [
    {
     "data": {
      "text/plain": [
       "(150, 4)"
      ]
     },
     "execution_count": 39,
     "metadata": {},
     "output_type": "execute_result"
    }
   ],
   "source": [
    "from sklearn.datasets import load_iris\n",
    "from sklearn.feature_selection import SelectKBest, chi2\n",
    "X, y = load_iris(return_X_y=True)\n",
    "X.shape"
   ]
  },
  {
   "cell_type": "code",
   "execution_count": 40,
   "metadata": {},
   "outputs": [
    {
     "data": {
      "text/plain": [
       "(150, 1)"
      ]
     },
     "execution_count": 40,
     "metadata": {},
     "output_type": "execute_result"
    }
   ],
   "source": [
    "X_new = SelectKBest(chi2, k=1).fit_transform(X, y)\n",
    "X_new.shape"
   ]
  },
  {
   "cell_type": "code",
   "execution_count": 41,
   "metadata": {},
   "outputs": [
    {
     "data": {
      "text/plain": [
       "(1797, 64)"
      ]
     },
     "execution_count": 41,
     "metadata": {},
     "output_type": "execute_result"
    }
   ],
   "source": [
    "from sklearn.datasets import load_digits\n",
    "from sklearn.feature_selection import SelectKBest, chi2\n",
    "\n",
    "X, y = load_digits(return_X_y=True)\n",
    "X.shape"
   ]
  },
  {
   "cell_type": "code",
   "execution_count": 42,
   "metadata": {},
   "outputs": [
    {
     "data": {
      "text/plain": [
       "(1797, 20)"
      ]
     },
     "execution_count": 42,
     "metadata": {},
     "output_type": "execute_result"
    }
   ],
   "source": [
    "X_new = SelectKBest(chi2, k=20).fit_transform(X, y)\n",
    "X_new.shape"
   ]
  },
  {
   "cell_type": "markdown",
   "metadata": {},
   "source": [
    "# 평균값 인코딩의 오버피팅 해결"
   ]
  },
  {
   "cell_type": "code",
   "execution_count": 43,
   "metadata": {},
   "outputs": [],
   "source": [
    "import seaborn as sns\n",
    "titanic = sns.load_dataset(\"titanic\")\n",
    "sex_mean = titanic.groupby(\"sex\")[\"survived\"].mean()\n",
    "titanic['sex_mean'] = titanic['sex'].map(sex_mean) "
   ]
  },
  {
   "cell_type": "code",
   "execution_count": 44,
   "metadata": {},
   "outputs": [
    {
     "data": {
      "text/html": [
       "<div>\n",
       "<style scoped>\n",
       "    .dataframe tbody tr th:only-of-type {\n",
       "        vertical-align: middle;\n",
       "    }\n",
       "\n",
       "    .dataframe tbody tr th {\n",
       "        vertical-align: top;\n",
       "    }\n",
       "\n",
       "    .dataframe thead th {\n",
       "        text-align: right;\n",
       "    }\n",
       "</style>\n",
       "<table border=\"1\" class=\"dataframe\">\n",
       "  <thead>\n",
       "    <tr style=\"text-align: right;\">\n",
       "      <th></th>\n",
       "      <th>sex_mean</th>\n",
       "      <th>sex_mean_smoothing</th>\n",
       "    </tr>\n",
       "  </thead>\n",
       "  <tbody>\n",
       "    <tr>\n",
       "      <th>0</th>\n",
       "      <td>0.188908</td>\n",
       "      <td>0.189144</td>\n",
       "    </tr>\n",
       "    <tr>\n",
       "      <th>1</th>\n",
       "      <td>0.742038</td>\n",
       "      <td>0.741241</td>\n",
       "    </tr>\n",
       "    <tr>\n",
       "      <th>2</th>\n",
       "      <td>0.742038</td>\n",
       "      <td>0.741241</td>\n",
       "    </tr>\n",
       "    <tr>\n",
       "      <th>3</th>\n",
       "      <td>0.742038</td>\n",
       "      <td>0.741241</td>\n",
       "    </tr>\n",
       "    <tr>\n",
       "      <th>4</th>\n",
       "      <td>0.188908</td>\n",
       "      <td>0.189144</td>\n",
       "    </tr>\n",
       "  </tbody>\n",
       "</table>\n",
       "</div>"
      ],
      "text/plain": [
       "   sex_mean  sex_mean_smoothing\n",
       "0  0.188908            0.189144\n",
       "1  0.742038            0.741241\n",
       "2  0.742038            0.741241\n",
       "3  0.742038            0.741241\n",
       "4  0.188908            0.189144"
      ]
     },
     "execution_count": 44,
     "metadata": {},
     "output_type": "execute_result"
    }
   ],
   "source": [
    "titanic['sex_n_rows'] = titanic['sex'].map(titanic.groupby('sex').size())\n",
    "global_mean = titanic[\"survived\"].mean()\n",
    "alpha = 0.7\n",
    "def smoothing(n_rows, target_mean):\n",
    "    return (target_mean*n_rows + global_mean*alpha) / (n_rows + alpha)\n",
    "titanic['sex_mean_smoothing'] = titanic.apply(\n",
    "    lambda x:smoothing(x['sex_n_rows'], \n",
    "                       x['sex_mean']), axis=1)\n",
    "titanic[['sex_mean', 'sex_mean_smoothing']].head()"
   ]
  },
  {
   "cell_type": "code",
   "execution_count": 45,
   "metadata": {},
   "outputs": [
    {
     "name": "stderr",
     "output_type": "stream",
     "text": [
      "C:\\Users\\SBAUser\\AppData\\Local\\Temp\\ipykernel_11680\\3349723014.py:24: SettingWithCopyWarning: \n",
      "A value is trying to be set on a copy of a slice from a DataFrame.\n",
      "Try using .loc[row_indexer,col_indexer] = value instead\n",
      "\n",
      "See the caveats in the documentation: https://pandas.pydata.org/pandas-docs/stable/user_guide/indexing.html#returning-a-view-versus-a-copy\n",
      "  X_val['sex_mean'] = means\n",
      "C:\\Users\\SBAUser\\AppData\\Local\\Temp\\ipykernel_11680\\3349723014.py:24: SettingWithCopyWarning: \n",
      "A value is trying to be set on a copy of a slice from a DataFrame.\n",
      "Try using .loc[row_indexer,col_indexer] = value instead\n",
      "\n",
      "See the caveats in the documentation: https://pandas.pydata.org/pandas-docs/stable/user_guide/indexing.html#returning-a-view-versus-a-copy\n",
      "  X_val['sex_mean'] = means\n",
      "C:\\Users\\SBAUser\\AppData\\Local\\Temp\\ipykernel_11680\\3349723014.py:24: SettingWithCopyWarning: \n",
      "A value is trying to be set on a copy of a slice from a DataFrame.\n",
      "Try using .loc[row_indexer,col_indexer] = value instead\n",
      "\n",
      "See the caveats in the documentation: https://pandas.pydata.org/pandas-docs/stable/user_guide/indexing.html#returning-a-view-versus-a-copy\n",
      "  X_val['sex_mean'] = means\n",
      "C:\\Users\\SBAUser\\AppData\\Local\\Temp\\ipykernel_11680\\3349723014.py:24: SettingWithCopyWarning: \n",
      "A value is trying to be set on a copy of a slice from a DataFrame.\n",
      "Try using .loc[row_indexer,col_indexer] = value instead\n",
      "\n",
      "See the caveats in the documentation: https://pandas.pydata.org/pandas-docs/stable/user_guide/indexing.html#returning-a-view-versus-a-copy\n",
      "  X_val['sex_mean'] = means\n",
      "C:\\Users\\SBAUser\\AppData\\Local\\Temp\\ipykernel_11680\\3349723014.py:24: SettingWithCopyWarning: \n",
      "A value is trying to be set on a copy of a slice from a DataFrame.\n",
      "Try using .loc[row_indexer,col_indexer] = value instead\n",
      "\n",
      "See the caveats in the documentation: https://pandas.pydata.org/pandas-docs/stable/user_guide/indexing.html#returning-a-view-versus-a-copy\n",
      "  X_val['sex_mean'] = means\n"
     ]
    },
    {
     "data": {
      "text/html": [
       "<div>\n",
       "<style scoped>\n",
       "    .dataframe tbody tr th:only-of-type {\n",
       "        vertical-align: middle;\n",
       "    }\n",
       "\n",
       "    .dataframe tbody tr th {\n",
       "        vertical-align: top;\n",
       "    }\n",
       "\n",
       "    .dataframe thead th {\n",
       "        text-align: right;\n",
       "    }\n",
       "</style>\n",
       "<table border=\"1\" class=\"dataframe\">\n",
       "  <thead>\n",
       "    <tr style=\"text-align: right;\">\n",
       "      <th></th>\n",
       "      <th>sex</th>\n",
       "      <th>sex_mean</th>\n",
       "    </tr>\n",
       "  </thead>\n",
       "  <tbody>\n",
       "    <tr>\n",
       "      <th>331</th>\n",
       "      <td>male</td>\n",
       "      <td>0.184987</td>\n",
       "    </tr>\n",
       "    <tr>\n",
       "      <th>733</th>\n",
       "      <td>male</td>\n",
       "      <td>0.193029</td>\n",
       "    </tr>\n",
       "    <tr>\n",
       "      <th>382</th>\n",
       "      <td>male</td>\n",
       "      <td>0.177419</td>\n",
       "    </tr>\n",
       "    <tr>\n",
       "      <th>704</th>\n",
       "      <td>male</td>\n",
       "      <td>0.184000</td>\n",
       "    </tr>\n",
       "    <tr>\n",
       "      <th>813</th>\n",
       "      <td>female</td>\n",
       "      <td>0.751269</td>\n",
       "    </tr>\n",
       "  </tbody>\n",
       "</table>\n",
       "</div>"
      ],
      "text/plain": [
       "        sex  sex_mean\n",
       "331    male  0.184987\n",
       "733    male  0.193029\n",
       "382    male  0.177419\n",
       "704    male  0.184000\n",
       "813  female  0.751269"
      ]
     },
     "execution_count": 45,
     "metadata": {},
     "output_type": "execute_result"
    }
   ],
   "source": [
    "from sklearn.model_selection import train_test_split\n",
    "import numpy as np\n",
    "\n",
    "train, test = train_test_split(titanic, test_size=0.2, \n",
    "                               random_state=42, shuffle=True)\n",
    "\n",
    "# train -> train_new 로 될 예정. 미리 데이터프레임 만들어주기.\n",
    "train_new = train.copy()\n",
    "train_new[:] = np.nan\n",
    "train_new['sex_mean'] = np.nan\n",
    "from sklearn.model_selection import StratifiedKFold\n",
    "\n",
    "# Kfold 만들어 주기.\n",
    "X_train = train.drop(\"survived\", axis=1)\n",
    "Y_train = train[\"survived\"]\n",
    "skf = StratifiedKFold(n_splits=5, shuffle=True, random_state=42)\n",
    "\n",
    "# 각 Fold iteration.\n",
    "for tr_idx, val_idx in skf.split(X_train, Y_train):\n",
    "    X_train, X_val = train.iloc[tr_idx], train.iloc[val_idx]\n",
    "\n",
    "    # train set 에서 구한 mean encoded 값을 validation set 에 매핑해줌.\n",
    "    means = X_val['sex'].map(X_train.groupby('sex')[\"survived\"].mean())\n",
    "    X_val['sex_mean'] = means\n",
    "    train_new.iloc[val_idx] = X_val\n",
    "\n",
    "# 폴드에 속하지못한 데이터들은 글로벌 평균으로 채워주기.\n",
    "global_mean = train[\"survived\"].mean()\n",
    "train_new['sex'] = train_new['sex'].fillna(global_mean)\n",
    "train_new[['sex', 'sex_mean']].head()"
   ]
  },
  {
   "cell_type": "code",
   "execution_count": 46,
   "metadata": {},
   "outputs": [
    {
     "data": {
      "text/plain": [
       "array([[<AxesSubplot:title={'center':'0.0'}>,\n",
       "        <AxesSubplot:title={'center':'1.0'}>]], dtype=object)"
      ]
     },
     "execution_count": 46,
     "metadata": {},
     "output_type": "execute_result"
    },
    {
     "data": {
      "image/png": "[encoded data removed]",
      "text/plain": [
       "<Figure size 640x480 with 2 Axes>"
      ]
     },
     "metadata": {},
     "output_type": "display_data"
    }
   ],
   "source": [
    "train_new.pivot_table(columns=\"survived\", \n",
    "                      index=train_new.index, \n",
    "                      values='sex_mean').hist(bins=100)"
   ]
  },
  {
   "cell_type": "code",
   "execution_count": 47,
   "metadata": {},
   "outputs": [],
   "source": [
    "cumsum = train.groupby('sex')[\"survived\"].cumsum() - train[\"survived\"] \n",
    "cumcnt = train.groupby('sex').cumcount() + 1 \n",
    "train_new['sex_mean'] = cumsum / cumcnt"
   ]
  },
  {
   "cell_type": "code",
   "execution_count": 48,
   "metadata": {},
   "outputs": [
    {
     "data": {
      "text/html": [
       "<div>\n",
       "<style scoped>\n",
       "    .dataframe tbody tr th:only-of-type {\n",
       "        vertical-align: middle;\n",
       "    }\n",
       "\n",
       "    .dataframe tbody tr th {\n",
       "        vertical-align: top;\n",
       "    }\n",
       "\n",
       "    .dataframe thead th {\n",
       "        text-align: right;\n",
       "    }\n",
       "</style>\n",
       "<table border=\"1\" class=\"dataframe\">\n",
       "  <thead>\n",
       "    <tr style=\"text-align: right;\">\n",
       "      <th></th>\n",
       "      <th>sex</th>\n",
       "      <th>sex_mean</th>\n",
       "    </tr>\n",
       "  </thead>\n",
       "  <tbody>\n",
       "    <tr>\n",
       "      <th>106</th>\n",
       "      <td>female</td>\n",
       "      <td>0.733607</td>\n",
       "    </tr>\n",
       "    <tr>\n",
       "      <th>270</th>\n",
       "      <td>male</td>\n",
       "      <td>0.187097</td>\n",
       "    </tr>\n",
       "    <tr>\n",
       "      <th>860</th>\n",
       "      <td>male</td>\n",
       "      <td>0.186695</td>\n",
       "    </tr>\n",
       "    <tr>\n",
       "      <th>435</th>\n",
       "      <td>female</td>\n",
       "      <td>0.734694</td>\n",
       "    </tr>\n",
       "    <tr>\n",
       "      <th>102</th>\n",
       "      <td>male</td>\n",
       "      <td>0.186296</td>\n",
       "    </tr>\n",
       "  </tbody>\n",
       "</table>\n",
       "</div>"
      ],
      "text/plain": [
       "        sex  sex_mean\n",
       "106  female  0.733607\n",
       "270    male  0.187097\n",
       "860    male  0.186695\n",
       "435  female  0.734694\n",
       "102    male  0.186296"
      ]
     },
     "execution_count": 48,
     "metadata": {},
     "output_type": "execute_result"
    }
   ],
   "source": [
    "train_new[['sex','sex_mean']].tail()"
   ]
  },
  {
   "cell_type": "code",
   "execution_count": 49,
   "metadata": {},
   "outputs": [
    {
     "data": {
      "text/plain": [
       "array([[<AxesSubplot:title={'center':'0.0'}>,\n",
       "        <AxesSubplot:title={'center':'1.0'}>]], dtype=object)"
      ]
     },
     "execution_count": 49,
     "metadata": {},
     "output_type": "execute_result"
    },
    {
     "data": {
      "image/png": "[encoded data removed]",
      "text/plain": [
       "<Figure size 640x480 with 2 Axes>"
      ]
     },
     "metadata": {},
     "output_type": "display_data"
    }
   ],
   "source": [
    "train_new.pivot_table(columns=\"survived\", \n",
    "                      index=train_new.index, \n",
    "                      values='sex_mean').hist(bins=100)"
   ]
  },
  {
   "cell_type": "code",
   "execution_count": null,
   "metadata": {},
   "outputs": [],
   "source": []
  },
  {
   "cell_type": "markdown",
   "metadata": {},
   "source": [
    "### validation_curve"
   ]
  },
  {
   "cell_type": "code",
   "execution_count": 50,
   "metadata": {},
   "outputs": [],
   "source": [
    "# red wine 데이터를 사용\n",
    "import pandas as pd\n",
    "redwine = pd.read_csv(\"http://javaspecialist.co.kr/pds/297\", delimiter=';')\n",
    "redwine_x = redwine.iloc[:,:-1]\n",
    "redwine_y = redwine.iloc[:,-1]"
   ]
  },
  {
   "cell_type": "code",
   "execution_count": 51,
   "metadata": {},
   "outputs": [],
   "source": [
    "from sklearn.model_selection import train_test_split\n",
    "X_train, X_test, y_train, y_test = train_test_split(redwine_x, redwine_y, \n",
    "                                                    test_size=0.3)"
   ]
  },
  {
   "cell_type": "code",
   "execution_count": 52,
   "metadata": {},
   "outputs": [
    {
     "data": {
      "text/plain": [
       "(1119, 11)"
      ]
     },
     "execution_count": 52,
     "metadata": {},
     "output_type": "execute_result"
    }
   ],
   "source": [
    "X_train.shape"
   ]
  },
  {
   "cell_type": "code",
   "execution_count": 53,
   "metadata": {},
   "outputs": [
    {
     "name": "stderr",
     "output_type": "stream",
     "text": [
      "c:\\Users\\SBAUser\\anaconda3\\lib\\site-packages\\sklearn\\neural_network\\_multilayer_perceptron.py:692: ConvergenceWarning: Stochastic Optimizer: Maximum iterations (200) reached and the optimization hasn't converged yet.\n",
      "  warnings.warn(\n"
     ]
    },
    {
     "data": {
      "text/plain": [
       "MLPClassifier(random_state=1, shuffle=False)"
      ]
     },
     "execution_count": 53,
     "metadata": {},
     "output_type": "execute_result"
    }
   ],
   "source": [
    "from sklearn.neural_network import MLPClassifier\n",
    "model = MLPClassifier(shuffle=False, random_state=1)\n",
    "model.fit(X_train, y_train)"
   ]
  },
  {
   "cell_type": "code",
   "execution_count": 54,
   "metadata": {},
   "outputs": [
    {
     "data": {
      "text/plain": [
       "0.5854166666666667"
      ]
     },
     "execution_count": 54,
     "metadata": {},
     "output_type": "execute_result"
    }
   ],
   "source": [
    "model.score(X_test, y_test)"
   ]
  },
  {
   "cell_type": "code",
   "execution_count": 55,
   "metadata": {},
   "outputs": [
    {
     "name": "stderr",
     "output_type": "stream",
     "text": [
      "c:\\Users\\SBAUser\\anaconda3\\lib\\site-packages\\sklearn\\neural_network\\_multilayer_perceptron.py:692: ConvergenceWarning: Stochastic Optimizer: Maximum iterations (200) reached and the optimization hasn't converged yet.\n",
      "  warnings.warn(\n"
     ]
    },
    {
     "data": {
      "text/plain": [
       "0.5791666666666667"
      ]
     },
     "execution_count": 55,
     "metadata": {},
     "output_type": "execute_result"
    }
   ],
   "source": [
    "from sklearn.neural_network import MLPClassifier\n",
    "model = MLPClassifier(shuffle=False, random_state=1,\n",
    "                      hidden_layer_sizes=(50,30))\n",
    "model.fit(X_train, y_train)\n",
    "model.score(X_test, y_test)"
   ]
  },
  {
   "cell_type": "code",
   "execution_count": 56,
   "metadata": {},
   "outputs": [
    {
     "name": "stderr",
     "output_type": "stream",
     "text": [
      "c:\\Users\\SBAUser\\anaconda3\\lib\\site-packages\\sklearn\\neural_network\\_multilayer_perceptron.py:692: ConvergenceWarning: Stochastic Optimizer: Maximum iterations (200) reached and the optimization hasn't converged yet.\n",
      "  warnings.warn(\n"
     ]
    },
    {
     "data": {
      "text/plain": [
       "0.6020833333333333"
      ]
     },
     "execution_count": 56,
     "metadata": {},
     "output_type": "execute_result"
    }
   ],
   "source": [
    "from sklearn.neural_network import MLPClassifier\n",
    "model = MLPClassifier(shuffle=False, \n",
    "                      hidden_layer_sizes=(50,30,10), random_state=1)\n",
    "model.fit(X_train, y_train)\n",
    "model.score(X_test, y_test)"
   ]
  },
  {
   "cell_type": "code",
   "execution_count": 57,
   "metadata": {},
   "outputs": [
    {
     "name": "stderr",
     "output_type": "stream",
     "text": [
      "c:\\Users\\SBAUser\\anaconda3\\lib\\site-packages\\sklearn\\neural_network\\_multilayer_perceptron.py:692: ConvergenceWarning: Stochastic Optimizer: Maximum iterations (200) reached and the optimization hasn't converged yet.\n",
      "  warnings.warn(\n"
     ]
    },
    {
     "data": {
      "text/plain": [
       "0.5854166666666667"
      ]
     },
     "execution_count": 57,
     "metadata": {},
     "output_type": "execute_result"
    }
   ],
   "source": [
    "from sklearn.neural_network import MLPClassifier\n",
    "model = MLPClassifier(hidden_layer_sizes=(50,), shuffle=False, random_state=1)\n",
    "model.fit(X_train, y_train)\n",
    "model.score(X_test, y_test)"
   ]
  },
  {
   "cell_type": "code",
   "execution_count": 58,
   "metadata": {},
   "outputs": [
    {
     "name": "stderr",
     "output_type": "stream",
     "text": [
      "C:\\Users\\SBAUser\\AppData\\Local\\Temp\\ipykernel_11680\\486238426.py:1: DeprecationWarning: Importing display from IPython.core.display is deprecated since IPython 7.14, please import from IPython display\n",
      "  from IPython.core.display import display, HTML\n"
     ]
    },
    {
     "data": {
      "text/html": [
       "<style>\n",
       "div.container { width:100% !important; }\n",
       "div.CodeMirror {font-family: Consolas; font-size: 16pt;}\n",
       "div.output { font-size: 16pt; font-weight: bold;}\n",
       "div.input { font-family: Consolas; font-size: 16pt;}\n",
       "div.prompt { min-width: 100px;}\n",
       "</style>\n"
      ],
      "text/plain": [
       "<IPython.core.display.HTML object>"
      ]
     },
     "metadata": {},
     "output_type": "display_data"
    }
   ],
   "source": [
    "from IPython.core.display import display, HTML\n",
    "display(HTML(\n",
    "\"\"\"<style>\n",
    "div.container { width:100% !important; }\n",
    "div.CodeMirror {font-family: Consolas; font-size: 16pt;}\n",
    "div.output { font-size: 16pt; font-weight: bold;}\n",
    "div.input { font-family: Consolas; font-size: 16pt;}\n",
    "div.prompt { min-width: 100px;}\n",
    "</style>\n",
    "\"\"\"))"
   ]
  },
  {
   "cell_type": "code",
   "execution_count": 59,
   "metadata": {},
   "outputs": [],
   "source": [
    "import numpy as np\n",
    "param_range = np.logspace(-6, -1, 10)"
   ]
  },
  {
   "cell_type": "code",
   "execution_count": 60,
   "metadata": {},
   "outputs": [
    {
     "name": "stdout",
     "output_type": "stream",
     "text": [
      "CPU times: total: 41.8 s\n",
      "Wall time: 43.3 s\n"
     ]
    }
   ],
   "source": [
    "%%time\n",
    "from sklearn.svm import SVC\n",
    "from sklearn.model_selection import validation_curve\n",
    "train_scores, test_scores = validation_curve(\n",
    "    SVC(), X, y, param_name=\"gamma\", \n",
    "    param_range=param_range,\n",
    "    cv=10, scoring=\"accuracy\", n_jobs=1)"
   ]
  },
  {
   "cell_type": "code",
   "execution_count": 61,
   "metadata": {},
   "outputs": [],
   "source": [
    "import numpy as np\n",
    "train_scores_mean = np.mean(train_scores, axis=1)\n",
    "train_scores_std = np.std(train_scores, axis=1)\n",
    "test_scores_mean = np.mean(test_scores, axis=1)\n",
    "test_scores_std = np.std(test_scores, axis=1)"
   ]
  },
  {
   "cell_type": "code",
   "execution_count": 62,
   "metadata": {},
   "outputs": [
    {
     "data": {
      "image/png": "[encoded data removed]",
      "text/plain": [
       "<Figure size 640x480 with 1 Axes>"
      ]
     },
     "metadata": {},
     "output_type": "display_data"
    }
   ],
   "source": [
    "%matplotlib inline\n",
    "import matplotlib.pyplot as plt\n",
    "\n",
    "plt.title(\"Validation Curve with SVM\")\n",
    "plt.xlabel(\"$\\gamma$\")\n",
    "plt.ylabel(\"Score\")\n",
    "plt.ylim(0.0, 1.1)\n",
    "lw = 2\n",
    "plt.semilogx(param_range, train_scores_mean, label=\"Training score\",\n",
    "             color=\"darkorange\", lw=lw)\n",
    "plt.fill_between(param_range, train_scores_mean - train_scores_std,\n",
    "                 train_scores_mean + train_scores_std, alpha=0.2,\n",
    "                 color=\"darkorange\", lw=lw)\n",
    "plt.semilogx(param_range, test_scores_mean, label=\"Cross-validation score\",\n",
    "             color=\"navy\", lw=lw)\n",
    "plt.fill_between(param_range, test_scores_mean - test_scores_std,\n",
    "                 test_scores_mean + test_scores_std, alpha=0.2,\n",
    "                 color=\"navy\", lw=lw)\n",
    "plt.legend(loc=\"best\")\n",
    "plt.show()"
   ]
  },
  {
   "cell_type": "code",
   "execution_count": 63,
   "metadata": {},
   "outputs": [
    {
     "data": {
      "text/plain": [
       "SVC(gamma=0.0021544346900318843)"
      ]
     },
     "execution_count": 63,
     "metadata": {},
     "output_type": "execute_result"
    }
   ],
   "source": [
    "gamma = param_range[test_scores_mean.argmax()]\n",
    "from sklearn.svm import SVC\n",
    "model = SVC(gamma=gamma).fit(X, y)\n",
    "model"
   ]
  },
  {
   "cell_type": "code",
   "execution_count": 64,
   "metadata": {},
   "outputs": [
    {
     "data": {
      "text/plain": [
       "1.0"
      ]
     },
     "execution_count": 64,
     "metadata": {},
     "output_type": "execute_result"
    }
   ],
   "source": [
    "model.score(X, y)"
   ]
  },
  {
   "cell_type": "code",
   "execution_count": 65,
   "metadata": {},
   "outputs": [
    {
     "data": {
      "text/plain": [
       "array([0.95833333, 0.94444444, 0.98050139, 0.99164345, 0.95264624])"
      ]
     },
     "execution_count": 65,
     "metadata": {},
     "output_type": "execute_result"
    }
   ],
   "source": [
    "from sklearn.model_selection import cross_val_score\n",
    "cross_val_score(model, X, y, cv=5)"
   ]
  },
  {
   "cell_type": "markdown",
   "metadata": {},
   "source": [
    "# GridSearchCV"
   ]
  },
  {
   "cell_type": "code",
   "execution_count": 66,
   "metadata": {},
   "outputs": [],
   "source": [
    "from __future__ import print_function\n",
    "from sklearn.pipeline import Pipeline, FeatureUnion\n",
    "from sklearn.model_selection import GridSearchCV\n",
    "from sklearn.svm import SVC\n",
    "from sklearn.datasets import load_iris\n",
    "from sklearn.decomposition import PCA\n",
    "from sklearn.feature_selection import SelectKBest\n",
    "\n",
    "iris = load_iris()\n",
    "X, y = iris.data, iris.target\n",
    "\n",
    "pca = PCA(n_components=2)\n",
    "selection = SelectKBest(k=1)\n",
    "combined_features = FeatureUnion([(\"pca\", pca), \n",
    "                                  (\"univ_select\", selection)])\n",
    "\n",
    "# 결합한 특징들을 transform() 데이터셋으로 사용합니다.\n",
    "X_features = combined_features.fit(X, y).transform(X)\n",
    "# print(\"Combined space has\", X_features.shape[1], \"features\")\n",
    "\n",
    "svm = SVC(kernel=\"linear\")\n"
   ]
  },
  {
   "cell_type": "code",
   "execution_count": 67,
   "metadata": {
    "scrolled": false
   },
   "outputs": [
    {
     "name": "stdout",
     "output_type": "stream",
     "text": [
      "Fitting 5 folds for each of 15 candidates, totalling 75 fits\n",
      "[CV 1/5; 1/15] START svm__C=0.1, univ_select__k=1...............................\n",
      "[CV 1/5; 1/15] END svm__C=0.1, univ_select__k=1;, score=0.967 total time=   0.0s\n",
      "[CV 2/5; 1/15] START svm__C=0.1, univ_select__k=1...............................\n",
      "[CV 2/5; 1/15] END svm__C=0.1, univ_select__k=1;, score=1.000 total time=   0.0s\n",
      "[CV 3/5; 1/15] START svm__C=0.1, univ_select__k=1...............................\n",
      "[CV 3/5; 1/15] END svm__C=0.1, univ_select__k=1;, score=0.833 total time=   0.0s\n",
      "[CV 4/5; 1/15] START svm__C=0.1, univ_select__k=1...............................\n",
      "[CV 4/5; 1/15] END svm__C=0.1, univ_select__k=1;, score=0.933 total time=   0.0s\n",
      "[CV 5/5; 1/15] START svm__C=0.1, univ_select__k=1...............................\n",
      "[CV 5/5; 1/15] END svm__C=0.1, univ_select__k=1;, score=1.000 total time=   0.0s\n",
      "[CV 1/5; 2/15] START svm__C=0.1, univ_select__k=2...............................\n",
      "[CV 1/5; 2/15] END svm__C=0.1, univ_select__k=2;, score=0.967 total time=   0.0s\n",
      "[CV 2/5; 2/15] START svm__C=0.1, univ_select__k=2...............................\n",
      "[CV 2/5; 2/15] END svm__C=0.1, univ_select__k=2;, score=0.967 total time=   0.0s\n",
      "[CV 3/5; 2/15] START svm__C=0.1, univ_select__k=2...............................\n",
      "[CV 3/5; 2/15] END svm__C=0.1, univ_select__k=2;, score=0.933 total time=   0.0s\n",
      "[CV 4/5; 2/15] START svm__C=0.1, univ_select__k=2...............................\n",
      "[CV 4/5; 2/15] END svm__C=0.1, univ_select__k=2;, score=0.933 total time=   0.0s\n",
      "[CV 5/5; 2/15] START svm__C=0.1, univ_select__k=2...............................\n",
      "[CV 5/5; 2/15] END svm__C=0.1, univ_select__k=2;, score=1.000 total time=   0.0s\n",
      "[CV 1/5; 3/15] START svm__C=0.1, univ_select__k=3...............................\n",
      "[CV 1/5; 3/15] END svm__C=0.1, univ_select__k=3;, score=0.967 total time=   0.0s\n",
      "[CV 2/5; 3/15] START svm__C=0.1, univ_select__k=3...............................\n",
      "[CV 2/5; 3/15] END svm__C=0.1, univ_select__k=3;, score=0.967 total time=   0.0s\n",
      "[CV 3/5; 3/15] START svm__C=0.1, univ_select__k=3...............................\n",
      "[CV 3/5; 3/15] END svm__C=0.1, univ_select__k=3;, score=0.933 total time=   0.0s\n",
      "[CV 4/5; 3/15] START svm__C=0.1, univ_select__k=3...............................\n",
      "[CV 4/5; 3/15] END svm__C=0.1, univ_select__k=3;, score=0.967 total time=   0.0s\n",
      "[CV 5/5; 3/15] START svm__C=0.1, univ_select__k=3...............................\n",
      "[CV 5/5; 3/15] END svm__C=0.1, univ_select__k=3;, score=1.000 total time=   0.0s\n",
      "[CV 1/5; 4/15] START svm__C=0.1, univ_select__k=4...............................\n",
      "[CV 1/5; 4/15] END svm__C=0.1, univ_select__k=4;, score=0.967 total time=   0.0s\n",
      "[CV 2/5; 4/15] START svm__C=0.1, univ_select__k=4...............................\n",
      "[CV 2/5; 4/15] END svm__C=0.1, univ_select__k=4;, score=0.967 total time=   0.0s\n",
      "[CV 3/5; 4/15] START svm__C=0.1, univ_select__k=4...............................\n",
      "[CV 3/5; 4/15] END svm__C=0.1, univ_select__k=4;, score=0.967 total time=   0.0s\n",
      "[CV 4/5; 4/15] START svm__C=0.1, univ_select__k=4...............................\n",
      "[CV 4/5; 4/15] END svm__C=0.1, univ_select__k=4;, score=0.967 total time=   0.0s\n",
      "[CV 5/5; 4/15] START svm__C=0.1, univ_select__k=4...............................\n",
      "[CV 5/5; 4/15] END svm__C=0.1, univ_select__k=4;, score=1.000 total time=   0.0s\n",
      "[CV 1/5; 5/15] START svm__C=0.1, univ_select__k=5...............................\n",
      "[CV 1/5; 5/15] END ..svm__C=0.1, univ_select__k=5;, score=nan total time=   0.0s\n",
      "[CV 2/5; 5/15] START svm__C=0.1, univ_select__k=5...............................\n",
      "[CV 2/5; 5/15] END ..svm__C=0.1, univ_select__k=5;, score=nan total time=   0.0s\n",
      "[CV 3/5; 5/15] START svm__C=0.1, univ_select__k=5...............................\n",
      "[CV 3/5; 5/15] END ..svm__C=0.1, univ_select__k=5;, score=nan total time=   0.0s\n",
      "[CV 4/5; 5/15] START svm__C=0.1, univ_select__k=5...............................\n",
      "[CV 4/5; 5/15] END ..svm__C=0.1, univ_select__k=5;, score=nan total time=   0.0s\n",
      "[CV 5/5; 5/15] START svm__C=0.1, univ_select__k=5...............................\n",
      "[CV 5/5; 5/15] END ..svm__C=0.1, univ_select__k=5;, score=nan total time=   0.0s\n",
      "[CV 1/5; 6/15] START svm__C=1, univ_select__k=1.................................\n",
      "[CV 1/5; 6/15] END ..svm__C=1, univ_select__k=1;, score=0.933 total time=   0.0s\n",
      "[CV 2/5; 6/15] START svm__C=1, univ_select__k=1.................................\n",
      "[CV 2/5; 6/15] END ..svm__C=1, univ_select__k=1;, score=1.000 total time=   0.0s\n",
      "[CV 3/5; 6/15] START svm__C=1, univ_select__k=1.................................\n",
      "[CV 3/5; 6/15] END ..svm__C=1, univ_select__k=1;, score=0.900 total time=   0.0s\n",
      "[CV 4/5; 6/15] START svm__C=1, univ_select__k=1.................................\n",
      "[CV 4/5; 6/15] END ..svm__C=1, univ_select__k=1;, score=0.933 total time=   0.0s\n",
      "[CV 5/5; 6/15] START svm__C=1, univ_select__k=1.................................\n",
      "[CV 5/5; 6/15] END ..svm__C=1, univ_select__k=1;, score=1.000 total time=   0.0s\n",
      "[CV 1/5; 7/15] START svm__C=1, univ_select__k=2.................................\n",
      "[CV 1/5; 7/15] END ..svm__C=1, univ_select__k=2;, score=0.967 total time=   0.0s\n",
      "[CV 2/5; 7/15] START svm__C=1, univ_select__k=2.................................\n",
      "[CV 2/5; 7/15] END ..svm__C=1, univ_select__k=2;, score=0.967 total time=   0.0s\n",
      "[CV 3/5; 7/15] START svm__C=1, univ_select__k=2.................................\n",
      "[CV 3/5; 7/15] END ..svm__C=1, univ_select__k=2;, score=0.933 total time=   0.0s\n",
      "[CV 4/5; 7/15] START svm__C=1, univ_select__k=2.................................\n",
      "[CV 4/5; 7/15] END ..svm__C=1, univ_select__k=2;, score=0.933 total time=   0.0s\n",
      "[CV 5/5; 7/15] START svm__C=1, univ_select__k=2.................................\n",
      "[CV 5/5; 7/15] END ..svm__C=1, univ_select__k=2;, score=1.000 total time=   0.0s\n",
      "[CV 1/5; 8/15] START svm__C=1, univ_select__k=3.................................\n",
      "[CV 1/5; 8/15] END ..svm__C=1, univ_select__k=3;, score=0.967 total time=   0.0s\n",
      "[CV 2/5; 8/15] START svm__C=1, univ_select__k=3.................................\n",
      "[CV 2/5; 8/15] END ..svm__C=1, univ_select__k=3;, score=1.000 total time=   0.0s\n",
      "[CV 3/5; 8/15] START svm__C=1, univ_select__k=3.................................\n",
      "[CV 3/5; 8/15] END ..svm__C=1, univ_select__k=3;, score=0.967 total time=   0.0s\n",
      "[CV 4/5; 8/15] START svm__C=1, univ_select__k=3.................................\n",
      "[CV 4/5; 8/15] END ..svm__C=1, univ_select__k=3;, score=0.967 total time=   0.0s\n",
      "[CV 5/5; 8/15] START svm__C=1, univ_select__k=3.................................\n",
      "[CV 5/5; 8/15] END ..svm__C=1, univ_select__k=3;, score=1.000 total time=   0.0s\n",
      "[CV 1/5; 9/15] START svm__C=1, univ_select__k=4.................................\n",
      "[CV 1/5; 9/15] END ..svm__C=1, univ_select__k=4;, score=0.967 total time=   0.0s\n",
      "[CV 2/5; 9/15] START svm__C=1, univ_select__k=4.................................\n",
      "[CV 2/5; 9/15] END ..svm__C=1, univ_select__k=4;, score=1.000 total time=   0.0s\n",
      "[CV 3/5; 9/15] START svm__C=1, univ_select__k=4.................................\n",
      "[CV 3/5; 9/15] END ..svm__C=1, univ_select__k=4;, score=0.967 total time=   0.0s\n",
      "[CV 4/5; 9/15] START svm__C=1, univ_select__k=4.................................\n",
      "[CV 4/5; 9/15] END ..svm__C=1, univ_select__k=4;, score=0.967 total time=   0.0s\n",
      "[CV 5/5; 9/15] START svm__C=1, univ_select__k=4.................................\n",
      "[CV 5/5; 9/15] END ..svm__C=1, univ_select__k=4;, score=1.000 total time=   0.0s\n",
      "[CV 1/5; 10/15] START svm__C=1, univ_select__k=5................................\n",
      "[CV 1/5; 10/15] END ...svm__C=1, univ_select__k=5;, score=nan total time=   0.0s\n",
      "[CV 2/5; 10/15] START svm__C=1, univ_select__k=5................................\n",
      "[CV 2/5; 10/15] END ...svm__C=1, univ_select__k=5;, score=nan total time=   0.0s\n",
      "[CV 3/5; 10/15] START svm__C=1, univ_select__k=5................................\n",
      "[CV 3/5; 10/15] END ...svm__C=1, univ_select__k=5;, score=nan total time=   0.0s\n",
      "[CV 4/5; 10/15] START svm__C=1, univ_select__k=5................................\n",
      "[CV 4/5; 10/15] END ...svm__C=1, univ_select__k=5;, score=nan total time=   0.0s\n",
      "[CV 5/5; 10/15] START svm__C=1, univ_select__k=5................................\n",
      "[CV 5/5; 10/15] END ...svm__C=1, univ_select__k=5;, score=nan total time=   0.0s\n",
      "[CV 1/5; 11/15] START svm__C=10, univ_select__k=1...............................\n",
      "[CV 1/5; 11/15] END svm__C=10, univ_select__k=1;, score=0.933 total time=   0.0s\n",
      "[CV 2/5; 11/15] START svm__C=10, univ_select__k=1...............................\n",
      "[CV 2/5; 11/15] END svm__C=10, univ_select__k=1;, score=1.000 total time=   0.0s\n",
      "[CV 3/5; 11/15] START svm__C=10, univ_select__k=1...............................\n",
      "[CV 3/5; 11/15] END svm__C=10, univ_select__k=1;, score=0.833 total time=   0.0s\n",
      "[CV 4/5; 11/15] START svm__C=10, univ_select__k=1...............................\n",
      "[CV 4/5; 11/15] END svm__C=10, univ_select__k=1;, score=0.933 total time=   0.0s\n",
      "[CV 5/5; 11/15] START svm__C=10, univ_select__k=1...............................\n",
      "[CV 5/5; 11/15] END svm__C=10, univ_select__k=1;, score=1.000 total time=   0.0s\n",
      "[CV 1/5; 12/15] START svm__C=10, univ_select__k=2...............................\n",
      "[CV 1/5; 12/15] END svm__C=10, univ_select__k=2;, score=0.967 total time=   0.0s\n",
      "[CV 2/5; 12/15] START svm__C=10, univ_select__k=2...............................\n",
      "[CV 2/5; 12/15] END svm__C=10, univ_select__k=2;, score=0.967 total time=   0.0s\n",
      "[CV 3/5; 12/15] START svm__C=10, univ_select__k=2...............................\n",
      "[CV 3/5; 12/15] END svm__C=10, univ_select__k=2;, score=0.933 total time=   0.0s\n",
      "[CV 4/5; 12/15] START svm__C=10, univ_select__k=2...............................\n",
      "[CV 4/5; 12/15] END svm__C=10, univ_select__k=2;, score=0.900 total time=   0.0s\n",
      "[CV 5/5; 12/15] START svm__C=10, univ_select__k=2...............................\n",
      "[CV 5/5; 12/15] END svm__C=10, univ_select__k=2;, score=1.000 total time=   0.0s\n",
      "[CV 1/5; 13/15] START svm__C=10, univ_select__k=3...............................\n",
      "[CV 1/5; 13/15] END svm__C=10, univ_select__k=3;, score=0.967 total time=   0.0s\n",
      "[CV 2/5; 13/15] START svm__C=10, univ_select__k=3...............................\n",
      "[CV 2/5; 13/15] END svm__C=10, univ_select__k=3;, score=0.967 total time=   0.0s\n",
      "[CV 3/5; 13/15] START svm__C=10, univ_select__k=3...............................\n",
      "[CV 3/5; 13/15] END svm__C=10, univ_select__k=3;, score=0.933 total time=   0.0s\n",
      "[CV 4/5; 13/15] START svm__C=10, univ_select__k=3...............................\n",
      "[CV 4/5; 13/15] END svm__C=10, univ_select__k=3;, score=0.967 total time=   0.0s\n",
      "[CV 5/5; 13/15] START svm__C=10, univ_select__k=3...............................\n",
      "[CV 5/5; 13/15] END svm__C=10, univ_select__k=3;, score=1.000 total time=   0.0s\n",
      "[CV 1/5; 14/15] START svm__C=10, univ_select__k=4...............................\n",
      "[CV 1/5; 14/15] END svm__C=10, univ_select__k=4;, score=1.000 total time=   0.0s\n",
      "[CV 2/5; 14/15] START svm__C=10, univ_select__k=4...............................\n",
      "[CV 2/5; 14/15] END svm__C=10, univ_select__k=4;, score=1.000 total time=   0.0s\n",
      "[CV 3/5; 14/15] START svm__C=10, univ_select__k=4...............................\n",
      "[CV 3/5; 14/15] END svm__C=10, univ_select__k=4;, score=0.900 total time=   0.0s\n",
      "[CV 4/5; 14/15] START svm__C=10, univ_select__k=4...............................\n",
      "[CV 4/5; 14/15] END svm__C=10, univ_select__k=4;, score=0.967 total time=   0.0s\n",
      "[CV 5/5; 14/15] START svm__C=10, univ_select__k=4...............................\n",
      "[CV 5/5; 14/15] END svm__C=10, univ_select__k=4;, score=1.000 total time=   0.0s\n",
      "[CV 1/5; 15/15] START svm__C=10, univ_select__k=5...............................\n",
      "[CV 1/5; 15/15] END ..svm__C=10, univ_select__k=5;, score=nan total time=   0.0s\n",
      "[CV 2/5; 15/15] START svm__C=10, univ_select__k=5...............................\n",
      "[CV 2/5; 15/15] END ..svm__C=10, univ_select__k=5;, score=nan total time=   0.0s\n",
      "[CV 3/5; 15/15] START svm__C=10, univ_select__k=5...............................\n",
      "[CV 3/5; 15/15] END ..svm__C=10, univ_select__k=5;, score=nan total time=   0.0s\n",
      "[CV 4/5; 15/15] START svm__C=10, univ_select__k=5...............................\n",
      "[CV 4/5; 15/15] END ..svm__C=10, univ_select__k=5;, score=nan total time=   0.0s\n",
      "[CV 5/5; 15/15] START svm__C=10, univ_select__k=5...............................\n",
      "[CV 5/5; 15/15] END ..svm__C=10, univ_select__k=5;, score=nan total time=   0.0s\n",
      "Pipeline(steps=[('univ_select', SelectKBest(k=3)),\n",
      "                ('svm', SVC(C=1, kernel='linear'))])\n",
      "CPU times: total: 156 ms\n",
      "Wall time: 182 ms\n"
     ]
    },
    {
     "name": "stderr",
     "output_type": "stream",
     "text": [
      "c:\\Users\\SBAUser\\anaconda3\\lib\\site-packages\\sklearn\\model_selection\\_validation.py:372: FitFailedWarning: \n",
      "15 fits failed out of a total of 75.\n",
      "The score on these train-test partitions for these parameters will be set to nan.\n",
      "If these failures are not expected, you can try to debug them by setting error_score='raise'.\n",
      "\n",
      "Below are more details about the failures:\n",
      "--------------------------------------------------------------------------------\n",
      "15 fits failed with the following error:\n",
      "Traceback (most recent call last):\n",
      "  File \"c:\\Users\\SBAUser\\anaconda3\\lib\\site-packages\\sklearn\\model_selection\\_validation.py\", line 680, in _fit_and_score\n",
      "    estimator.fit(X_train, y_train, **fit_params)\n",
      "  File \"c:\\Users\\SBAUser\\anaconda3\\lib\\site-packages\\sklearn\\pipeline.py\", line 390, in fit\n",
      "    Xt = self._fit(X, y, **fit_params_steps)\n",
      "  File \"c:\\Users\\SBAUser\\anaconda3\\lib\\site-packages\\sklearn\\pipeline.py\", line 348, in _fit\n",
      "    X, fitted_transformer = fit_transform_one_cached(\n",
      "  File \"c:\\Users\\SBAUser\\anaconda3\\lib\\site-packages\\joblib\\memory.py\", line 349, in __call__\n",
      "    return self.func(*args, **kwargs)\n",
      "  File \"c:\\Users\\SBAUser\\anaconda3\\lib\\site-packages\\sklearn\\pipeline.py\", line 893, in _fit_transform_one\n",
      "    res = transformer.fit_transform(X, y, **fit_params)\n",
      "  File \"c:\\Users\\SBAUser\\anaconda3\\lib\\site-packages\\sklearn\\base.py\", line 855, in fit_transform\n",
      "    return self.fit(X, y, **fit_params).transform(X)\n",
      "  File \"c:\\Users\\SBAUser\\anaconda3\\lib\\site-packages\\sklearn\\feature_selection\\_univariate_selection.py\", line 407, in fit\n",
      "    self._check_params(X, y)\n",
      "  File \"c:\\Users\\SBAUser\\anaconda3\\lib\\site-packages\\sklearn\\feature_selection\\_univariate_selection.py\", line 604, in _check_params\n",
      "    raise ValueError(\n",
      "ValueError: k should be >=0, <= n_features = 4; got 5. Use k='all' to return all features.\n",
      "\n",
      "  warnings.warn(some_fits_failed_message, FitFailedWarning)\n",
      "c:\\Users\\SBAUser\\anaconda3\\lib\\site-packages\\sklearn\\model_selection\\_search.py:969: UserWarning: One or more of the test scores are non-finite: [0.94666667 0.96       0.96666667 0.97333333        nan 0.95333333\n",
      " 0.96       0.98       0.98              nan 0.94       0.95333333\n",
      " 0.96666667 0.97333333        nan]\n",
      "  warnings.warn(\n"
     ]
    }
   ],
   "source": [
    "%%time\n",
    "pipeline = Pipeline([(\"univ_select\", selection), (\"svm\", svm)])\n",
    "\n",
    "param_grid = dict(univ_select__k=[1, 2, 3, 4, 5],\n",
    "                  svm__C=[0.1, 1, 10])\n",
    "\n",
    "grid_search = GridSearchCV(pipeline, param_grid=param_grid, \n",
    "                           cv=5, verbose=10)\n",
    "grid_search.fit(X, y)\n",
    "print(grid_search.best_estimator_)"
   ]
  },
  {
   "cell_type": "code",
   "execution_count": 68,
   "metadata": {},
   "outputs": [],
   "source": [
    "model = grid_search.best_estimator_"
   ]
  },
  {
   "cell_type": "code",
   "execution_count": 69,
   "metadata": {},
   "outputs": [
    {
     "data": {
      "text/plain": [
       "array([0, 0, 0, 0, 0, 0, 0, 0, 0, 0, 0, 0, 0, 0, 0, 0, 0, 0, 0, 0, 0, 0,\n",
       "       0, 0, 0, 0, 0, 0, 0, 0, 0, 0, 0, 0, 0, 0, 0, 0, 0, 0, 0, 0, 0, 0,\n",
       "       0, 0, 0, 0, 0, 0, 1, 1, 1, 1, 1, 1, 1, 1, 1, 1, 1, 1, 1, 1, 1, 1,\n",
       "       1, 1, 1, 1, 2, 1, 1, 1, 1, 1, 1, 1, 1, 1, 1, 1, 1, 2, 1, 1, 1, 1,\n",
       "       1, 1, 1, 1, 1, 1, 1, 1, 1, 1, 1, 1, 2, 2, 2, 2, 2, 2, 2, 2, 2, 2,\n",
       "       2, 2, 2, 2, 2, 2, 2, 2, 2, 2, 2, 2, 2, 2, 2, 2, 2, 2, 2, 2, 2, 2,\n",
       "       2, 2, 2, 2, 2, 2, 2, 2, 2, 2, 2, 2, 2, 2, 2, 2, 2, 2])"
      ]
     },
     "execution_count": 69,
     "metadata": {},
     "output_type": "execute_result"
    }
   ],
   "source": [
    "pred = model.predict(X)\n",
    "pred"
   ]
  },
  {
   "cell_type": "code",
   "execution_count": 70,
   "metadata": {},
   "outputs": [
    {
     "data": {
      "text/plain": [
       "{'memory': None,\n",
       " 'steps': [('univ_select', SelectKBest(k=3)),\n",
       "  ('svm', SVC(C=1, kernel='linear'))],\n",
       " 'verbose': False,\n",
       " 'univ_select': SelectKBest(k=3),\n",
       " 'svm': SVC(C=1, kernel='linear'),\n",
       " 'univ_select__k': 3,\n",
       " 'univ_select__score_func': <function sklearn.feature_selection._univariate_selection.f_classif(X, y)>,\n",
       " 'svm__C': 1,\n",
       " 'svm__break_ties': False,\n",
       " 'svm__cache_size': 200,\n",
       " 'svm__class_weight': None,\n",
       " 'svm__coef0': 0.0,\n",
       " 'svm__decision_function_shape': 'ovr',\n",
       " 'svm__degree': 3,\n",
       " 'svm__gamma': 'scale',\n",
       " 'svm__kernel': 'linear',\n",
       " 'svm__max_iter': -1,\n",
       " 'svm__probability': False,\n",
       " 'svm__random_state': None,\n",
       " 'svm__shrinking': True,\n",
       " 'svm__tol': 0.001,\n",
       " 'svm__verbose': False}"
      ]
     },
     "execution_count": 70,
     "metadata": {},
     "output_type": "execute_result"
    }
   ],
   "source": [
    "model.get_params()"
   ]
  },
  {
   "cell_type": "code",
   "execution_count": 71,
   "metadata": {},
   "outputs": [],
   "source": [
    "from __future__ import print_function\n",
    "from sklearn.pipeline import Pipeline\n",
    "from sklearn.model_selection import GridSearchCV\n",
    "from sklearn.svm import SVC\n",
    "from sklearn.feature_selection import SelectKBest\n",
    "import pandas as pd\n",
    "\n",
    "redwine = pd.read_csv(\"winequality-red.csv\", sep=\";\")\n",
    "X, y = redwine.iloc[:,:-1], redwine.iloc[:,-1]\n",
    "\n",
    "selection = SelectKBest(k=1)\n",
    "svm = SVC(kernel=\"linear\")"
   ]
  },
  {
   "cell_type": "code",
   "execution_count": null,
   "metadata": {
    "scrolled": true
   },
   "outputs": [],
   "source": [
    "%%time\n",
    "pipeline = Pipeline([(\"univ_select\", selection), (\"svm\", svm)])\n",
    "\n",
    "param_grid = dict(univ_select__k=[4, 5, 6, 7, 8, 9, 10, 11],\n",
    "                  svm__C=[0.1, 1, 10])\n",
    "\n",
    "grid_search = GridSearchCV(pipeline, param_grid=param_grid, \n",
    "                           cv=5, verbose=10, n_jobs=-1)\n",
    "grid_search.fit(X, y)\n",
    "print(grid_search.best_estimator_)"
   ]
  },
  {
   "cell_type": "code",
   "execution_count": null,
   "metadata": {},
   "outputs": [],
   "source": []
  },
  {
   "cell_type": "markdown",
   "metadata": {},
   "source": [
    "### ParameterGrid"
   ]
  },
  {
   "cell_type": "code",
   "execution_count": null,
   "metadata": {},
   "outputs": [],
   "source": [
    "# red wine 데이터를 사용\n",
    "import pandas as pd\n",
    "redwine = pd.read_csv(\"http://javaspecialist.co.kr/pds/297\", delimiter=';')\n",
    "redwine_x = redwine.iloc[:,:-1]\n",
    "redwine_y = redwine.iloc[:,-1]"
   ]
  },
  {
   "cell_type": "code",
   "execution_count": null,
   "metadata": {},
   "outputs": [],
   "source": [
    "from sklearn.model_selection import train_test_split\n",
    "X_train, X_test, y_train, y_test = train_test_split(redwine_x, redwine_y, \n",
    "                                                    test_size=0.3)"
   ]
  },
  {
   "cell_type": "code",
   "execution_count": null,
   "metadata": {},
   "outputs": [],
   "source": [
    "from sklearn.neural_network import MLPClassifier\n",
    "model_mlp = MLPClassifier()"
   ]
  },
  {
   "cell_type": "code",
   "execution_count": null,
   "metadata": {},
   "outputs": [],
   "source": [
    "params = {\"mlp__hidden_layer_sizes\":[(20,), (50,), (50, 30), (50, 30, 10)],\n",
    "          \"mlp__activation\": [\"tanh\", \"relu\"]}"
   ]
  },
  {
   "cell_type": "code",
   "execution_count": null,
   "metadata": {},
   "outputs": [],
   "source": [
    "from sklearn.model_selection import ParameterGrid\n",
    "param_grid = ParameterGrid(params)"
   ]
  },
  {
   "cell_type": "code",
   "execution_count": null,
   "metadata": {},
   "outputs": [],
   "source": [
    "list(param_grid)"
   ]
  },
  {
   "cell_type": "markdown",
   "metadata": {},
   "source": [
    "### GridSearchCV"
   ]
  },
  {
   "cell_type": "code",
   "execution_count": null,
   "metadata": {},
   "outputs": [],
   "source": [
    "# red wine 데이터를 사용\n",
    "import pandas as pd\n",
    "redwine = pd.read_csv(\"http://javaspecialist.co.kr/pds/297\", delimiter=';')\n",
    "redwine_x = redwine.iloc[:,:-1]\n",
    "redwine_y = redwine.iloc[:,-1]"
   ]
  },
  {
   "cell_type": "code",
   "execution_count": null,
   "metadata": {},
   "outputs": [],
   "source": [
    "from sklearn.model_selection import train_test_split\n",
    "X_train, X_test, y_train, y_test = train_test_split(redwine_x, redwine_y, \n",
    "                                                    test_size=0.3)"
   ]
  },
  {
   "cell_type": "code",
   "execution_count": null,
   "metadata": {},
   "outputs": [],
   "source": [
    "from sklearn.neural_network import MLPClassifier\n",
    "model_mlp = MLPClassifier()\n",
    "# model_mlp.fit(redwine_x, redwine_y)"
   ]
  },
  {
   "cell_type": "code",
   "execution_count": null,
   "metadata": {},
   "outputs": [],
   "source": [
    "from sklearn.decomposition import PCA\n",
    "model_pca = PCA()"
   ]
  },
  {
   "cell_type": "code",
   "execution_count": null,
   "metadata": {},
   "outputs": [],
   "source": [
    "from sklearn.feature_selection import SelectKBest\n",
    "model_kbest = SelectKBest()"
   ]
  },
  {
   "cell_type": "code",
   "execution_count": null,
   "metadata": {},
   "outputs": [],
   "source": [
    "from sklearn.pipeline import FeatureUnion\n",
    "model_combined_features = FeatureUnion([(\"pca\", model_pca),\n",
    "                                        (\"kbest\", model_kbest)])"
   ]
  },
  {
   "cell_type": "code",
   "execution_count": null,
   "metadata": {},
   "outputs": [],
   "source": [
    "from sklearn.pipeline import Pipeline\n",
    "pipe = Pipeline([(\"combined_features\", model_combined_features),\n",
    "                 (\"mlp\", model_mlp)])"
   ]
  },
  {
   "cell_type": "code",
   "execution_count": null,
   "metadata": {},
   "outputs": [],
   "source": [
    "params = {\"combined_features__pca__n_components\": [2,4,6,8,10],\n",
    "          \"combined_features__kbest__k\": [1,3,5,7,9],\n",
    "          \"mlp__hidden_layer_sizes\":[(20,), (50,), (50, 30), (50, 30, 10)],\n",
    "          \"mlp__activation\": [\"tanh\", \"relu\"]}"
   ]
  },
  {
   "cell_type": "code",
   "execution_count": null,
   "metadata": {},
   "outputs": [],
   "source": [
    "from sklearn.model_selection import GridSearchCV\n",
    "grid_search = GridSearchCV(pipe, param_grid=params, \n",
    "                           cv=5, n_jobs=-1, verbose=10)"
   ]
  },
  {
   "cell_type": "code",
   "execution_count": null,
   "metadata": {
    "scrolled": false
   },
   "outputs": [],
   "source": [
    "grid_search.fit(redwine_x, redwine_y)"
   ]
  },
  {
   "cell_type": "code",
   "execution_count": null,
   "metadata": {},
   "outputs": [],
   "source": [
    "model = grid_search.best_estimator_"
   ]
  },
  {
   "cell_type": "code",
   "execution_count": null,
   "metadata": {},
   "outputs": [],
   "source": [
    "model.get_params()"
   ]
  },
  {
   "cell_type": "code",
   "execution_count": null,
   "metadata": {},
   "outputs": [],
   "source": [
    "pred = model.predict(X_test)"
   ]
  },
  {
   "cell_type": "code",
   "execution_count": null,
   "metadata": {},
   "outputs": [],
   "source": [
    "pred"
   ]
  },
  {
   "cell_type": "code",
   "execution_count": null,
   "metadata": {},
   "outputs": [],
   "source": [
    "pd.crosstab(y_test, pred)"
   ]
  },
  {
   "cell_type": "code",
   "execution_count": null,
   "metadata": {},
   "outputs": [],
   "source": [
    "model.score(X_test, y_test)"
   ]
  },
  {
   "cell_type": "markdown",
   "metadata": {},
   "source": [
    "### Over sampling"
   ]
  },
  {
   "cell_type": "code",
   "execution_count": null,
   "metadata": {},
   "outputs": [],
   "source": [
    "import numpy as np\n",
    "import matplotlib.pyplot as plt\n",
    "%matplotlib inline\n",
    "%config InlineBackend.figure_format = 'retina'\n",
    "from IPython.core.display import display, HTML\n",
    "display(HTML(\"<style>.container { width:100% !important; }</style>\"))"
   ]
  },
  {
   "cell_type": "code",
   "execution_count": null,
   "metadata": {},
   "outputs": [],
   "source": [
    "from sklearn.datasets import make_classification"
   ]
  },
  {
   "cell_type": "code",
   "execution_count": null,
   "metadata": {},
   "outputs": [],
   "source": [
    "X, y = make_classification(n_samples=10000, n_features=10, n_informative=5,\n",
    "                           n_redundant=0, n_clusters_per_class=1, n_classes=2,\n",
    "                           weights=[0.99, 0.01], random_state=42)"
   ]
  },
  {
   "cell_type": "code",
   "execution_count": null,
   "metadata": {},
   "outputs": [],
   "source": [
    "plt.scatter(x=X[:,0], y=X[:,1], marker='o', c=y, s=100, edgecolors='k', linewidths=2, alpha=0.4)"
   ]
  },
  {
   "cell_type": "code",
   "execution_count": null,
   "metadata": {},
   "outputs": [],
   "source": [
    "from sklearn.model_selection import train_test_split\n",
    "X_train, X_test, y_train, y_test = train_test_split(X, y, test_size=0.3, random_state=42)"
   ]
  },
  {
   "cell_type": "code",
   "execution_count": null,
   "metadata": {},
   "outputs": [],
   "source": [
    "from sklearn.ensemble import RandomForestClassifier\n",
    "model_rfc = RandomForestClassifier(n_estimators=100, max_features=2, random_state=42)\n",
    "model_rfc.fit(X_train, y_train)"
   ]
  },
  {
   "cell_type": "code",
   "execution_count": null,
   "metadata": {},
   "outputs": [],
   "source": [
    "rfc_pred = model_rfc.predict(X_test)\n",
    "from sklearn.metrics import confusion_matrix\n",
    "confusion_matrix(y_test, rfc_pred)"
   ]
  },
  {
   "cell_type": "code",
   "execution_count": null,
   "metadata": {},
   "outputs": [],
   "source": [
    "from sklearn.metrics import classification_report\n",
    "print(classification_report(y_test, rfc_pred))"
   ]
  },
  {
   "cell_type": "code",
   "execution_count": null,
   "metadata": {},
   "outputs": [],
   "source": [
    "from imblearn.over_sampling import SMOTE\n",
    "sm = SMOTE(ratio=\"auto\", kind=\"regular\")\n",
    "X_resampled, y_resampled = sm.fit_sample(X, y)"
   ]
  },
  {
   "cell_type": "code",
   "execution_count": null,
   "metadata": {},
   "outputs": [],
   "source": [
    "X_resampled.shape, y_resampled.shape"
   ]
  },
  {
   "cell_type": "code",
   "execution_count": null,
   "metadata": {},
   "outputs": [],
   "source": [
    "plt.scatter(x=X_resampled[:,0], y=X_resampled[:,1], marker='o', c=y_resampled, \n",
    "            s=100, edgecolors='k', linewidths=2, alpha=0.1)\n",
    "plt.show()"
   ]
  },
  {
   "cell_type": "code",
   "execution_count": null,
   "metadata": {},
   "outputs": [],
   "source": [
    "from sklearn.model_selection import train_test_split\n",
    "X_train, X_test, y_train, y_test = train_test_split(X_resampled, y_resampled, test_size=0.3, \n",
    "                                                    shuffle=True, random_state=42)"
   ]
  },
  {
   "cell_type": "code",
   "execution_count": null,
   "metadata": {},
   "outputs": [],
   "source": [
    "X_train.shape, X_test.shape, y_train.shape, y_test.shape"
   ]
  },
  {
   "cell_type": "code",
   "execution_count": null,
   "metadata": {},
   "outputs": [],
   "source": [
    "from sklearn.ensemble import RandomForestClassifier\n",
    "rf_model = RandomForestClassifier(n_estimators=100, max_features=2, random_state=42)\n",
    "rf_model.fit(X_train, y_train)"
   ]
  },
  {
   "cell_type": "code",
   "execution_count": null,
   "metadata": {},
   "outputs": [],
   "source": [
    "pred = rf_model.predict(X_test)\n",
    "\n",
    "from sklearn.metrics import confusion_matrix\n",
    "confusion_matrix(y_test, pred)"
   ]
  },
  {
   "cell_type": "code",
   "execution_count": null,
   "metadata": {},
   "outputs": [],
   "source": [
    "from sklearn.metrics import classification_report\n",
    "print(classification_report(y_test, pred))"
   ]
  },
  {
   "cell_type": "code",
   "execution_count": null,
   "metadata": {},
   "outputs": [],
   "source": [
    "from sklearn.model_selection import train_test_split\n",
    "X_train, X_test, y_train, y_test = train_test_split(X, y, test_size=0.3, \n",
    "                                                  stratify=y, random_state=42)"
   ]
  },
  {
   "cell_type": "code",
   "execution_count": null,
   "metadata": {},
   "outputs": [],
   "source": [
    "X_train.shape, X_test.shape, y_train.shape, y_test.shape"
   ]
  },
  {
   "cell_type": "code",
   "execution_count": null,
   "metadata": {},
   "outputs": [],
   "source": [
    "sum(y_train), sum(y_test)"
   ]
  },
  {
   "cell_type": "code",
   "execution_count": null,
   "metadata": {},
   "outputs": [],
   "source": [
    "from imblearn.over_sampling import SMOTE\n",
    "sm = SMOTE(ratio=\"auto\", kind=\"regular\")\n",
    "X_train_r, y_train_r = sm.fit_sample(X_train, y_train)"
   ]
  },
  {
   "cell_type": "code",
   "execution_count": null,
   "metadata": {},
   "outputs": [],
   "source": [
    "from sklearn.ensemble import RandomForestClassifier\n",
    "rf_model = RandomForestClassifier(n_estimators=100, max_features=2, random_state=42)\n",
    "rf_model.fit(X_train_r, y_train_r)"
   ]
  },
  {
   "cell_type": "code",
   "execution_count": null,
   "metadata": {},
   "outputs": [],
   "source": [
    "pred_r = rf_model.predict(X_test)\n",
    "from sklearn.metrics import confusion_matrix\n",
    "cm = confusion_matrix(y_test, pred_r)\n",
    "cm"
   ]
  },
  {
   "cell_type": "code",
   "execution_count": null,
   "metadata": {},
   "outputs": [],
   "source": [
    "from sklearn.metrics import classification_report\n",
    "print(classification_report(y_test, pred_r))"
   ]
  },
  {
   "cell_type": "code",
   "execution_count": null,
   "metadata": {},
   "outputs": [],
   "source": []
  },
  {
   "cell_type": "code",
   "execution_count": null,
   "metadata": {},
   "outputs": [],
   "source": [
    "from sklearn.metrics import confusion_matrix\n",
    "def get_f1score(y, y_pred):\n",
    "    cm = confusion_matrix(y, y_pred)\n",
    "    precision = cm[1,1] / (cm[0,1]+cm[1,1])\n",
    "    recall = cm[1,1] / (cm[1,0]+cm[1,1])\n",
    "    f_measure = (2*precision*recall) / (precision+recall)\n",
    "    return f_measure"
   ]
  },
  {
   "cell_type": "code",
   "execution_count": null,
   "metadata": {},
   "outputs": [],
   "source": [
    "get_f1score(y_test_r, y_pred_rfc)"
   ]
  },
  {
   "cell_type": "code",
   "execution_count": null,
   "metadata": {},
   "outputs": [],
   "source": [
    "from sklearn.model_selection import train_test_split\n",
    "from sklearn.metrics import confusion_matrix\n",
    "def model_measure(model, x, y, test_size=0.3) :\n",
    "    X_train, X_test, y_train, y_test = train_test_split(x, y, test_size=test_size)\n",
    "    \n",
    "    model.fit(X_train, y_train)\n",
    "    y_pred = model.predict(X_test)\n",
    "    \n",
    "    cm = confusion_matrix(y_test, y_pred)\n",
    "    precision = cm[1,1] / (cm[0,1]+cm[1,1])\n",
    "    recall = cm[1,1] / (cm[1,0]+cm[1,1])\n",
    "    f_measure = (2*precision*recall) / (precision+recall)\n",
    "#     print(f\"precision: {precision}, recall: {recall}, f-measure: {f_measure}\")\n",
    "    return precision, recall, f_measure"
   ]
  },
  {
   "cell_type": "code",
   "execution_count": null,
   "metadata": {},
   "outputs": [],
   "source": [
    "from sklearn.ensemble import RandomForestClassifier\n",
    "model_measure(RandomForestClassifier(n_estimators=100, max_features=2, random_state=42), \n",
    "              X_resampled, y_resampled)"
   ]
  },
  {
   "cell_type": "code",
   "execution_count": null,
   "metadata": {},
   "outputs": [],
   "source": [
    "from sklearn.svm import SVC\n",
    "model_measure(SVC(random_state=42), X_resampled, y_resampled)"
   ]
  },
  {
   "cell_type": "code",
   "execution_count": null,
   "metadata": {},
   "outputs": [],
   "source": [
    "from sklearn.neural_network import MLPClassifier\n",
    "model_measure(MLPClassifier(hidden_layer_sizes=(50,)), X_resampled, y_resampled)"
   ]
  },
  {
   "cell_type": "code",
   "execution_count": null,
   "metadata": {},
   "outputs": [],
   "source": [
    "from xgboost import XGBClassifier\n",
    "model_measure(XGBClassifier(max_depth=10, n_estimators=100, learning_rate=0.01),\n",
    "              X_resampled, y_resampled)"
   ]
  },
  {
   "cell_type": "code",
   "execution_count": null,
   "metadata": {},
   "outputs": [],
   "source": [
    "from lightgbm import LGBMClassifier\n",
    "model_measure(LGBMClassifier(n_estimators=100), X_resampled, y_resampled)"
   ]
  },
  {
   "cell_type": "code",
   "execution_count": null,
   "metadata": {},
   "outputs": [],
   "source": [
    "from sklearn.ensemble import VotingClassifier\n",
    "model_rfc = RandomForestClassifier(n_estimators=100, max_features=2, random_state=42)\n",
    "model_xgb = XGBClassifier(max_depth=10, n_estimators=100, learning_rate=0.01)\n",
    "model_lgbm = LGBMClassifier(n_estimators=100)\n",
    "\n",
    "model_voting = VotingClassifier(estimators=[(\"rfc\", model_rfc), (\"xgb\", model_xgb), (\"lgbm\", model_lgbm)],\n",
    "                                voting=\"hard\")"
   ]
  },
  {
   "cell_type": "code",
   "execution_count": null,
   "metadata": {},
   "outputs": [],
   "source": [
    "model_voting.fit(X_resampled, y_resampled)"
   ]
  },
  {
   "cell_type": "code",
   "execution_count": null,
   "metadata": {},
   "outputs": [],
   "source": [
    "from lightgbm import LGBMClassifier\n",
    "model_measure(model_voting, X_resampled, y_resampled)"
   ]
  },
  {
   "cell_type": "code",
   "execution_count": null,
   "metadata": {},
   "outputs": [],
   "source": [
    "y_pred = model_voting.predict(X)"
   ]
  },
  {
   "cell_type": "code",
   "execution_count": null,
   "metadata": {},
   "outputs": [],
   "source": [
    "from sklearn.metrics import classification_report\n",
    "print(classification_report(y, y_pred))"
   ]
  },
  {
   "cell_type": "code",
   "execution_count": null,
   "metadata": {},
   "outputs": [],
   "source": [
    "%%time\n",
    "from xgboost import XGBClassifier\n",
    "model_measure(XGBClassifier(max_depth=10, n_estimators=100, learning_rate=0.01),\n",
    "              X_train, y_train)"
   ]
  },
  {
   "cell_type": "code",
   "execution_count": null,
   "metadata": {},
   "outputs": [],
   "source": [
    "%%time\n",
    "from sklearn.ensemble import RandomForestClassifier\n",
    "model_measure(RandomForestClassifier(n_estimators=100, max_features=2, random_state=42), \n",
    "              X_train, y_train)"
   ]
  },
  {
   "cell_type": "code",
   "execution_count": null,
   "metadata": {},
   "outputs": [],
   "source": [
    "del jk"
   ]
  },
  {
   "cell_type": "code",
   "execution_count": null,
   "metadata": {},
   "outputs": [],
   "source": [
    "import jk"
   ]
  },
  {
   "cell_type": "code",
   "execution_count": null,
   "metadata": {},
   "outputs": [],
   "source": [
    "%%time\n",
    "from sklearn.ensemble import RandomForestClassifier\n",
    "jk.model_measure(RandomForestClassifier(n_estimators=100, max_features=2, random_state=42),\n",
    "                 X_train, y_train)"
   ]
  },
  {
   "cell_type": "code",
   "execution_count": null,
   "metadata": {},
   "outputs": [],
   "source": [
    "%%time\n",
    "from xgboost import XGBClassifier\n",
    "jk.model_measure(XGBClassifier(max_depth=10, n_estimators=100, learning_rate=0.01),\n",
    "                 X_train, y_train)"
   ]
  },
  {
   "cell_type": "code",
   "execution_count": null,
   "metadata": {},
   "outputs": [],
   "source": [
    "from matplotlib.colors import ListedColormap\n",
    "import matplotlib.pyplot as plt\n",
    "%matplotlib inline\n",
    "import numpy as np\n",
    "from sklearn.model_selection import train_test_split\n",
    "from sklearn.preprocessing import StandardScaler\n",
    "from sklearn.datasets import make_moons, make_circles, make_classification\n",
    "from sklearn.neural_network import MLPClassifier\n",
    "\n",
    "# 데이터셋 생성\n",
    "X, y = make_classification(n_features=2, n_redundant=0, n_informative=2,\n",
    "                           random_state=1, n_clusters_per_class=1)\n",
    "rng = np.random.RandomState(2)\n",
    "X += 2 * rng.uniform(size=X.shape)\n",
    "\n",
    "datasets = [make_moons(noise=0.3, random_state=0), # arc\n",
    "            make_circles(noise=0.2, factor=0.5, random_state=1), # circle\n",
    "            (X, y) # linear\n",
    "            ]\n",
    "\n",
    "figure = plt.figure(figsize=(8, 8))\n",
    "\n",
    "# 데이터셋들 마다 반복\n",
    "for ds_cnt, ds in enumerate(datasets):\n",
    "    # 데이터셋을 학습 데이터와 검증 데이터로 나눔\n",
    "    X, y = ds\n",
    "    X = StandardScaler().fit_transform(X)\n",
    "    X_train, X_test, y_train, y_test = train_test_split(X, y, test_size=.4, \n",
    "                                                        random_state=42)\n",
    "\n",
    "    x_min, x_max = X[:, 0].min() - .5, X[:, 0].max() + .5\n",
    "    y_min, y_max = X[:, 1].min() - .5, X[:, 1].max() + .5\n",
    "    xx, yy = np.meshgrid(np.arange(x_min, x_max, 0.02),\n",
    "                         np.arange(y_min, y_max, 0.02))\n",
    "\n",
    "    # 데이터셋을 그리기 위한 설정\n",
    "    cm = plt.cm.RdBu\n",
    "    cm_bright = ListedColormap(['#FF0000', '#0000FF'])\n",
    "\n",
    "    ax = plt.subplot(len(datasets), 2, 2*ds_cnt+1)\n",
    "    ax.set_title(\"Dataset %d\" % (ds_cnt+1))\n",
    "\n",
    "    # 학습 데이터의 산점도\n",
    "    ax.scatter(X_train[:, 0], X_train[:, 1], c=y_train, cmap=cm_bright,\n",
    "               edgecolors='k')\n",
    "    # 검증 데이터의 산점도\n",
    "    ax.scatter(X_test[:, 0], X_test[:, 1], c=y_test, cmap=cm_bright,\n",
    "               edgecolors='k', marker='s', alpha=0.5)\n",
    "\n",
    "    ax = plt.subplot(len(datasets), 2, 2*ds_cnt+2)\n",
    "    # 분류 모형 생성 및 예측\n",
    "    model = MLPClassifier(alpha=1, max_iter=1000)\n",
    "    model.fit(X_train, y_train)\n",
    "    train_pred = model.predict(X_train)\n",
    "    test_pred = model.predict(X_test)\n",
    "    \n",
    "    score = model.score(X_test, y_test)\n",
    "\n",
    "    # 결정 경계(decision boundary)를 그리기 위함\n",
    "    if hasattr(model, \"decision_function\"):\n",
    "        Z = model.decision_function(np.c_[xx.ravel(), yy.ravel()])\n",
    "    else:\n",
    "        Z = model.predict_proba(np.c_[xx.ravel(), yy.ravel()])[:, 1]\n",
    "\n",
    "    # 채워진 등고선(contourf)을 이용해 결정 경계를 시각화\n",
    "    Z = Z.reshape(xx.shape)\n",
    "    ax.contourf(xx, yy, Z, cmap=cm, alpha=.8)\n",
    "\n",
    "    # 학습 데이터의 분류 예측 결과를 산점도로 시각화\n",
    "    ax.scatter(X_train[:, 0], X_train[:, 1], c=train_pred, cmap=cm_bright,\n",
    "               edgecolors='k')\n",
    "    # 검증 데이터의 분류 예측 결과를 산점도로 시각화\n",
    "    ax.scatter(X_test[:, 0], X_test[:, 1], c=test_pred, cmap=cm_bright,\n",
    "               edgecolors='w', marker='s', alpha=0.5)\n",
    "\n",
    "    ax.set_title(\"Neural Net Classification\")\n",
    "    ax.text(xx.max() - .3, yy.min() + .3, \n",
    "            ('Score %.2f' % score).lstrip('0'),\n",
    "            size=15, horizontalalignment='right')\n",
    "\n",
    "plt.tight_layout()\n",
    "plt.show()"
   ]
  },
  {
   "cell_type": "code",
   "execution_count": null,
   "metadata": {},
   "outputs": [],
   "source": []
  }
 ],
 "metadata": {
  "kernelspec": {
   "display_name": "base",
   "language": "python",
   "name": "python3"
  },
  "language_info": {
   "codemirror_mode": {
    "name": "ipython",
    "version": 3
   },
   "file_extension": ".py",
   "mimetype": "text/x-python",
   "name": "python",
   "nbconvert_exporter": "python",
   "pygments_lexer": "ipython3",
   "version": "3.9.13"
  },
  "vscode": {
   "interpreter": {
    "hash": "1284a11239f1c582240c95e9b63f464998ce3454084d16e746adc349338fd12e"
   }
  }
 },
 "nbformat": 4,
 "nbformat_minor": 2
}
