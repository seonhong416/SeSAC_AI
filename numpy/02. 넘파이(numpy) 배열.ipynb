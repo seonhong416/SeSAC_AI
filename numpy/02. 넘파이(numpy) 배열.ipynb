{
 "cells": [
  {
   "cell_type": "markdown",
   "id": "af4fbe83",
   "metadata": {},
   "source": [
    "배열(ndarray, n dimension array)"
   ]
  },
  {
   "cell_type": "markdown",
   "id": "0a437299",
   "metadata": {},
   "source": [
    "- 리스트(list) \n",
    "    - Linked list 구조(불연속), 동작속도가 느림\n",
    "    - comma(,)로 요소 구별, 서로 다른 자료형 사용 가능\n",
    "- 배열(ndarray)\n",
    "    - 연속된 메모리 구조, 동작속도가 빠름\n",
    "    - comma(,) 사용하지 않고 공백으로 요소 구별"
   ]
  },
  {
   "cell_type": "markdown",
   "id": "eeeb567f",
   "metadata": {},
   "source": [
    "배열(array) 만들기"
   ]
  },
  {
   "cell_type": "code",
   "execution_count": 2,
   "id": "f2686354",
   "metadata": {},
   "outputs": [
    {
     "name": "stdout",
     "output_type": "stream",
     "text": [
      "[0 1 2 3 4]\n"
     ]
    }
   ],
   "source": [
    "import numpy as np\n",
    "\n",
    "# 0부터 4까지 연속적인 숫자가 들어 있는 배열을 만들어 보기\n",
    "\n",
    "arr = np.array(range(5))\n",
    "print(arr)"
   ]
  },
  {
   "cell_type": "code",
   "execution_count": 5,
   "id": "26c560fa",
   "metadata": {},
   "outputs": [
    {
     "name": "stdout",
     "output_type": "stream",
     "text": [
      "[1, 2, 3, 4, 5]\n"
     ]
    }
   ],
   "source": [
    "li = [1,2,3,4,5]\n",
    "print(li)"
   ]
  },
  {
   "cell_type": "code",
   "execution_count": 7,
   "id": "32b5075d",
   "metadata": {},
   "outputs": [
    {
     "name": "stdout",
     "output_type": "stream",
     "text": [
      "[0, 2, 3, 4, 5, 'kim']\n",
      "<class 'list'>\n"
     ]
    }
   ],
   "source": [
    "# list\n",
    "\n",
    "list1 = [0,2,3,4,5,'kim']\n",
    "print(list1) # comma있다\n",
    "print(type(list1))"
   ]
  },
  {
   "cell_type": "code",
   "execution_count": 9,
   "id": "77f96ba4",
   "metadata": {},
   "outputs": [
    {
     "name": "stdout",
     "output_type": "stream",
     "text": [
      "[0 1 2 3 4 5]\n",
      "<class 'numpy.ndarray'>\n",
      "int32\n"
     ]
    }
   ],
   "source": [
    "a = np.array([0,1,2,3,4,5])\n",
    "print(a)\n",
    "print(type(a)) # ndarray >> 넘파이 배열\n",
    "print(a.dtype) # 요소의 자료형"
   ]
  },
  {
   "cell_type": "code",
   "execution_count": 10,
   "id": "aed6d2dc",
   "metadata": {},
   "outputs": [
    {
     "data": {
      "text/plain": [
       "dict_keys(['?', 0, 'byte', 'b', 1, 'ubyte', 'B', 2, 'short', 'h', 3, 'ushort', 'H', 4, 'i', 5, 'uint', 'I', 6, 'intp', 'p', 9, 'uintp', 'P', 10, 'long', 'l', 7, 'L', 8, 'longlong', 'q', 'ulonglong', 'Q', 'half', 'e', 23, 'f', 11, 'double', 'd', 12, 'longdouble', 'g', 13, 'cfloat', 'F', 14, 'cdouble', 'D', 15, 'clongdouble', 'G', 16, 'O', 17, 'S', 18, 'unicode', 'U', 19, 'void', 'V', 20, 'M', 21, 'm', 22, 'bool8', 'b1', 'int64', 'i8', 'uint64', 'u8', 'float16', 'f2', 'float32', 'f4', 'float64', 'f8', 'complex64', 'c8', 'complex128', 'c16', 'object0', 'bytes0', 'str0', 'void0', 'datetime64', 'M8', 'timedelta64', 'm8', 'Bytes0', 'Datetime64', 'Str0', 'Uint64', 'int32', 'i4', 'uint32', 'u4', 'int16', 'i2', 'uint16', 'u2', 'int8', 'i1', 'uint8', 'u1', 'complex_', 'int0', 'uint0', 'single', 'csingle', 'singlecomplex', 'float_', 'intc', 'uintc', 'int_', 'longfloat', 'clongfloat', 'longcomplex', 'bool_', 'bytes_', 'string_', 'str_', 'unicode_', 'object_', 'int', 'float', 'complex', 'bool', 'object', 'str', 'bytes', 'a'])"
      ]
     },
     "execution_count": 10,
     "metadata": {},
     "output_type": "execute_result"
    }
   ],
   "source": [
    "# numpy dtype 객체의 종류\n",
    "# 대소문자 모두 사용 가능\n",
    "\n",
    "np.sctypeDict.keys()"
   ]
  },
  {
   "cell_type": "code",
   "execution_count": 11,
   "id": "22695649",
   "metadata": {},
   "outputs": [
    {
     "name": "stdout",
     "output_type": "stream",
     "text": [
      "[0 1 2 3 4 5]\n",
      "<class 'numpy.ndarray'>\n",
      "int32\n"
     ]
    }
   ],
   "source": [
    "# int와 float >> float\n",
    "\n",
    "a = np.array([0,1,2,3,4,5])\n",
    "\n",
    "print(a) # comma(,) 가 없네\n",
    "print(type(a))\n",
    "print(a.dtype) # dtype : data type 자료유형"
   ]
  },
  {
   "cell_type": "code",
   "execution_count": 12,
   "id": "2b34d153",
   "metadata": {},
   "outputs": [
    {
     "name": "stdout",
     "output_type": "stream",
     "text": [
      "[0. 1. 2. 3. 4. 5.]\n",
      "<class 'numpy.ndarray'>\n",
      "float64\n"
     ]
    }
   ],
   "source": [
    "a = np.array([0,1,2.,3,4,5])\n",
    " \n",
    "print(a) # comma(,) 가 없네\n",
    "print(type(a))\n",
    "print(a.dtype) # dtype : data type 자료유형"
   ]
  },
  {
   "cell_type": "code",
   "execution_count": 14,
   "id": "a02a04d9",
   "metadata": {},
   "outputs": [
    {
     "name": "stdout",
     "output_type": "stream",
     "text": [
      "['0' '1' '2' '3' '4' '5' 'kim']\n",
      "<class 'numpy.ndarray'>\n",
      "<U11\n"
     ]
    }
   ],
   "source": [
    "# int와 float와 str >> unicode\n",
    "\n",
    "a = np.array([0,1,2,3,4,5,'kim'])\n",
    "print(a)\n",
    "print(type(a))\n",
    "print(a.dtype)\n",
    "# <U11 : \n",
    "# - < : 리틀엔디언, U : 유니코드, 11 : 최대문자 11byte"
   ]
  },
  {
   "cell_type": "markdown",
   "id": "7c7faa77",
   "metadata": {},
   "source": [
    "유니코드 인코딩방식\n",
    "\n",
    "- (1) euc-kr, cp949(MS949) : 완성형, 한글 2byte, 영문 1byte >> windows\n",
    "- (2) utf-8 : 조합형, 한글 3byte, 영문 1byte >> Linux"
   ]
  },
  {
   "cell_type": "code",
   "execution_count": 24,
   "id": "5ae958b6",
   "metadata": {},
   "outputs": [
    {
     "name": "stdout",
     "output_type": "stream",
     "text": [
      "['1.234' '3.125' '4.435' '5' '7'] <U5\n"
     ]
    }
   ],
   "source": [
    "# 배열의 데이터 타입 변환 : astype()\n",
    "\n",
    "a1 = np.array(['1.234','3.125','4.435','5','7'])\n",
    "print(a1, a1.dtype) # 문자"
   ]
  },
  {
   "cell_type": "code",
   "execution_count": 25,
   "id": "524dc90e",
   "metadata": {},
   "outputs": [
    {
     "name": "stdout",
     "output_type": "stream",
     "text": [
      "[1.234 3.125 4.435 5.    7.   ] float32\n"
     ]
    }
   ],
   "source": [
    "a2 = a1.astype('float32')\n",
    "print(a2, a2.dtype)"
   ]
  },
  {
   "cell_type": "code",
   "execution_count": 26,
   "id": "54564056",
   "metadata": {},
   "outputs": [
    {
     "name": "stdout",
     "output_type": "stream",
     "text": [
      "[1 3 4 5 7] int32\n"
     ]
    }
   ],
   "source": [
    "a3 = a2.astype('int32')\n",
    "print(a3, a3.dtype)"
   ]
  },
  {
   "cell_type": "markdown",
   "id": "b19d1fdb",
   "metadata": {},
   "source": [
    "차원(dimension, Rank)과 shape\n",
    "\n",
    "- 차원(dimension, Rank) : 1,2,3 차원 ... n차원, 첫 데이터까지의 대괄호 개수\n",
    "- shape : 차원의 요소의 수, 튜플 형식"
   ]
  },
  {
   "cell_type": "markdown",
   "id": "5db0ac34",
   "metadata": {},
   "source": [
    "- 1차원 shape(x,)\n",
    "- 2차원 shape(x, y) >> 행렬(matrix)\n",
    "- 3차원 shape(x, y, z) >> (면, 행, 열)"
   ]
  },
  {
   "cell_type": "code",
   "execution_count": 27,
   "id": "3ac60c87",
   "metadata": {},
   "outputs": [
    {
     "name": "stdout",
     "output_type": "stream",
     "text": [
      "1차원 array\n",
      "[0 1 2 3 4 5 6 7 8 9]\n"
     ]
    }
   ],
   "source": [
    "print('1차원 array')\n",
    "arr = np.array(range(10))\n",
    "print(arr)"
   ]
  },
  {
   "cell_type": "code",
   "execution_count": 28,
   "id": "bbbaf021",
   "metadata": {},
   "outputs": [
    {
     "name": "stdout",
     "output_type": "stream",
     "text": [
      "<class 'numpy.ndarray'>\n"
     ]
    }
   ],
   "source": [
    "print(type(arr))"
   ]
  },
  {
   "cell_type": "code",
   "execution_count": 29,
   "id": "47138540",
   "metadata": {},
   "outputs": [
    {
     "name": "stdout",
     "output_type": "stream",
     "text": [
      "1\n"
     ]
    }
   ],
   "source": [
    "print(arr.ndim)"
   ]
  },
  {
   "cell_type": "code",
   "execution_count": 30,
   "id": "43beeb5c",
   "metadata": {},
   "outputs": [
    {
     "data": {
      "text/plain": [
       "(10,)"
      ]
     },
     "execution_count": 30,
     "metadata": {},
     "output_type": "execute_result"
    }
   ],
   "source": [
    "arr.shape"
   ]
  },
  {
   "cell_type": "code",
   "execution_count": 31,
   "id": "dccea92a",
   "metadata": {},
   "outputs": [
    {
     "data": {
      "text/plain": [
       "10"
      ]
     },
     "execution_count": 31,
     "metadata": {},
     "output_type": "execute_result"
    }
   ],
   "source": [
    "arr.size"
   ]
  },
  {
   "cell_type": "code",
   "execution_count": 32,
   "id": "12afcf92",
   "metadata": {},
   "outputs": [
    {
     "data": {
      "text/plain": [
       "dtype('int32')"
      ]
     },
     "execution_count": 32,
     "metadata": {},
     "output_type": "execute_result"
    }
   ],
   "source": [
    "arr.dtype # 데이터 유형 >> int : 정수"
   ]
  },
  {
   "cell_type": "code",
   "execution_count": 33,
   "id": "3ee5396e",
   "metadata": {},
   "outputs": [
    {
     "data": {
      "text/plain": [
       "array([0, 1, 2, 3, 4, 5, 6, 7, 8, 9])"
      ]
     },
     "execution_count": 33,
     "metadata": {},
     "output_type": "execute_result"
    }
   ],
   "source": [
    "arr"
   ]
  },
  {
   "cell_type": "code",
   "execution_count": 34,
   "id": "abd314df",
   "metadata": {},
   "outputs": [
    {
     "name": "stdout",
     "output_type": "stream",
     "text": [
      "5\n"
     ]
    }
   ],
   "source": [
    "print(arr[5])"
   ]
  },
  {
   "cell_type": "code",
   "execution_count": 35,
   "id": "86b33c27",
   "metadata": {},
   "outputs": [
    {
     "name": "stdout",
     "output_type": "stream",
     "text": [
      "[3 4 5]\n"
     ]
    }
   ],
   "source": [
    "print(arr[3:6])"
   ]
  },
  {
   "cell_type": "code",
   "execution_count": 37,
   "id": "0b581719",
   "metadata": {},
   "outputs": [
    {
     "name": "stdout",
     "output_type": "stream",
     "text": [
      "[ 0  1  2  3  4  5  6  7  8  9 10 11] <class 'numpy.ndarray'> int32\n",
      "(12,)\n"
     ]
    }
   ],
   "source": [
    "# 1차원 배열의 shape\n",
    "\n",
    "a = np.arange(12)\n",
    "print(a, type(a), a.dtype)\n",
    "print(a.shape) # 1차원"
   ]
  },
  {
   "cell_type": "code",
   "execution_count": 39,
   "id": "2bb25126",
   "metadata": {},
   "outputs": [
    {
     "name": "stdout",
     "output_type": "stream",
     "text": [
      "<class 'tuple'>\n",
      "12\n"
     ]
    }
   ],
   "source": [
    "t = a.shape\n",
    "print(type(t))\n",
    "print(a.shape[0])"
   ]
  },
  {
   "cell_type": "code",
   "execution_count": 41,
   "id": "eee33d7e",
   "metadata": {},
   "outputs": [
    {
     "name": "stdout",
     "output_type": "stream",
     "text": [
      "[2 3 4 5 6 7 8 9] <class 'numpy.ndarray'>\n",
      "(8,)\n"
     ]
    }
   ],
   "source": [
    "a2 = np.arange(2,10)\n",
    "\n",
    "print(a2, type(a2))\n",
    "print(a2.shape)"
   ]
  },
  {
   "cell_type": "code",
   "execution_count": 43,
   "id": "9e1dd16a",
   "metadata": {},
   "outputs": [
    {
     "name": "stdout",
     "output_type": "stream",
     "text": [
      "[ 0  2  4  6  8 10 12 14] <class 'numpy.ndarray'>\n",
      "(8,)\n"
     ]
    }
   ],
   "source": [
    "a3 = np.arange(0,16,2)\n",
    "print(a3, type(a3))\n",
    "print(a3.shape)"
   ]
  },
  {
   "cell_type": "code",
   "execution_count": 50,
   "id": "717c7540",
   "metadata": {},
   "outputs": [
    {
     "name": "stdout",
     "output_type": "stream",
     "text": [
      "2차원 array\n",
      "[[ 1  2  3  4  5]\n",
      " [ 6  7  8  9 10]\n",
      " [11 12 13 14 15]]\n"
     ]
    }
   ],
   "source": [
    "print('2차원 array')\n",
    "\n",
    "# 1부터 15까지 들어 있는 (3, 5) 배열 생성\n",
    "mat = np.array(range(1,16)).reshape(3,5)\n",
    "\n",
    "print(mat)"
   ]
  },
  {
   "cell_type": "code",
   "execution_count": 51,
   "id": "49072d65",
   "metadata": {},
   "outputs": [],
   "source": [
    "mat = np.array(range(1,16))\n",
    "mat.shape = 3,5"
   ]
  },
  {
   "cell_type": "code",
   "execution_count": 52,
   "id": "7f79135f",
   "metadata": {},
   "outputs": [
    {
     "name": "stdout",
     "output_type": "stream",
     "text": [
      "[[ 1  2  3  4  5]\n",
      " [ 6  7  8  9 10]\n",
      " [11 12 13 14 15]]\n"
     ]
    }
   ],
   "source": [
    "print(mat)"
   ]
  },
  {
   "cell_type": "code",
   "execution_count": 54,
   "id": "104e539f",
   "metadata": {},
   "outputs": [
    {
     "name": "stdout",
     "output_type": "stream",
     "text": [
      "<class 'numpy.ndarray'>\n"
     ]
    }
   ],
   "source": [
    "# mat 자료형 출력해 보세요\n",
    "print(type(mat))"
   ]
  },
  {
   "cell_type": "code",
   "execution_count": 55,
   "id": "627818b5",
   "metadata": {},
   "outputs": [
    {
     "name": "stdout",
     "output_type": "stream",
     "text": [
      "2\n"
     ]
    }
   ],
   "source": [
    "# mat 차원 출력\n",
    "print(mat.ndim)"
   ]
  },
  {
   "cell_type": "code",
   "execution_count": 56,
   "id": "886043e3",
   "metadata": {},
   "outputs": [
    {
     "name": "stdout",
     "output_type": "stream",
     "text": [
      "(3, 5)\n"
     ]
    }
   ],
   "source": [
    "# mat 모양 출력\n",
    "print(mat.shape)"
   ]
  },
  {
   "cell_type": "code",
   "execution_count": 58,
   "id": "fb53b920",
   "metadata": {},
   "outputs": [
    {
     "name": "stdout",
     "output_type": "stream",
     "text": [
      "15\n"
     ]
    }
   ],
   "source": [
    "# mat 크기 출력\n",
    "print(mat.size)"
   ]
  },
  {
   "cell_type": "code",
   "execution_count": 59,
   "id": "bd5a80c4",
   "metadata": {},
   "outputs": [
    {
     "name": "stdout",
     "output_type": "stream",
     "text": [
      "int32\n"
     ]
    }
   ],
   "source": [
    "# mat 데이터 유형 출력\n",
    "print(mat.dtype)"
   ]
  },
  {
   "cell_type": "code",
   "execution_count": 60,
   "id": "d09f7c3c",
   "metadata": {},
   "outputs": [
    {
     "name": "stdout",
     "output_type": "stream",
     "text": [
      "[['1' '2' '3' '4' '5']\n",
      " ['6' '7' '8' '9' '10']\n",
      " ['11' '12' '13' '14' '15']]\n"
     ]
    }
   ],
   "source": [
    "# mat dtype >> str 변경\n",
    "print(mat.astype('str'))"
   ]
  },
  {
   "cell_type": "code",
   "execution_count": 61,
   "id": "66eb5085",
   "metadata": {},
   "outputs": [
    {
     "name": "stdout",
     "output_type": "stream",
     "text": [
      "14\n"
     ]
    }
   ],
   "source": [
    "# 행렬 (2,3) 인덱스의 요소 출력\n",
    "\n",
    "print(mat[2,3])"
   ]
  },
  {
   "cell_type": "code",
   "execution_count": 62,
   "id": "7e38a693",
   "metadata": {},
   "outputs": [
    {
     "name": "stdout",
     "output_type": "stream",
     "text": [
      "[[2 3 4]\n",
      " [7 8 9]]\n"
     ]
    }
   ],
   "source": [
    "# matrix의 행은 인덱스 0부터 인덱스 1까지\n",
    "# 열은 인덱스 1부터 3까지 출력 해보세요\n",
    "print(mat[0:2,1:4])"
   ]
  },
  {
   "cell_type": "code",
   "execution_count": 63,
   "id": "58798127",
   "metadata": {},
   "outputs": [
    {
     "name": "stdout",
     "output_type": "stream",
     "text": [
      "[[0 1 2]\n",
      " [0 1 2]]\n",
      "(2, 3)\n",
      "2 3\n"
     ]
    }
   ],
   "source": [
    "# 2차원 배열의 shape\n",
    "# 행(row) axis = 0, 열(column) aixs = 1\n",
    "\n",
    "m = np.array([[0,1,2],\n",
    "              [0,1,2]])\n",
    "\n",
    "print(m)\n",
    "print(m.shape)\n",
    "print(m.shape[0], m.shape[1])\n",
    "# 2개의 record, 3개의 feature"
   ]
  },
  {
   "cell_type": "code",
   "execution_count": 68,
   "id": "f2b426e4",
   "metadata": {},
   "outputs": [],
   "source": [
    "# 3차원 배열의 shape (면, 행, 열)\n",
    "m = np.array([[[0,1,2],\n",
    "               [3,4,5]],\n",
    "              [[0,1,2],\n",
    "               [3,4,5]]])"
   ]
  },
  {
   "cell_type": "code",
   "execution_count": 69,
   "id": "1af6b086",
   "metadata": {},
   "outputs": [
    {
     "name": "stdout",
     "output_type": "stream",
     "text": [
      "[[[0 1 2]\n",
      "  [3 4 5]]\n",
      "\n",
      " [[0 1 2]\n",
      "  [3 4 5]]]\n",
      "(2, 2, 3)\n",
      "2 2 3\n"
     ]
    }
   ],
   "source": [
    "print(m)\n",
    "print(m.shape)\n",
    "print(m.shape[0], m.shape[1], m.shape[2])"
   ]
  },
  {
   "cell_type": "markdown",
   "id": "13030534",
   "metadata": {},
   "source": [
    "배열의 shape 바꾸기 : reshape() 함수"
   ]
  },
  {
   "cell_type": "code",
   "execution_count": 70,
   "id": "376a6403",
   "metadata": {},
   "outputs": [
    {
     "name": "stdout",
     "output_type": "stream",
     "text": [
      "[ 0  1  2  3  4  5  6  7  8  9 10 11] (12,)\n"
     ]
    }
   ],
   "source": [
    "m1 = np.arange(12)\n",
    "print(m1, m1.shape)"
   ]
  },
  {
   "cell_type": "code",
   "execution_count": 72,
   "id": "55bd03b8",
   "metadata": {},
   "outputs": [],
   "source": [
    "m2 = m1.reshape(3, 4)"
   ]
  },
  {
   "cell_type": "code",
   "execution_count": 73,
   "id": "5d2faf14",
   "metadata": {},
   "outputs": [
    {
     "name": "stdout",
     "output_type": "stream",
     "text": [
      "[[ 0  1  2  3]\n",
      " [ 4  5  6  7]\n",
      " [ 8  9 10 11]]\n"
     ]
    }
   ],
   "source": [
    "print(m2)"
   ]
  },
  {
   "cell_type": "code",
   "execution_count": 74,
   "id": "18bdce4c",
   "metadata": {},
   "outputs": [
    {
     "name": "stdout",
     "output_type": "stream",
     "text": [
      "(3, 4)\n"
     ]
    }
   ],
   "source": [
    "print(m2.shape)"
   ]
  },
  {
   "cell_type": "code",
   "execution_count": 77,
   "id": "00b4bfad",
   "metadata": {},
   "outputs": [],
   "source": [
    "m2 = m1.reshape(4, -1)"
   ]
  },
  {
   "cell_type": "code",
   "execution_count": 78,
   "id": "69d44cf1",
   "metadata": {},
   "outputs": [
    {
     "name": "stdout",
     "output_type": "stream",
     "text": [
      "[[ 0  1  2]\n",
      " [ 3  4  5]\n",
      " [ 6  7  8]\n",
      " [ 9 10 11]]\n"
     ]
    }
   ],
   "source": [
    "print(m2)"
   ]
  },
  {
   "cell_type": "code",
   "execution_count": 79,
   "id": "2a94467a",
   "metadata": {},
   "outputs": [
    {
     "name": "stdout",
     "output_type": "stream",
     "text": [
      "(4, 3)\n"
     ]
    }
   ],
   "source": [
    "print(m2.shape)"
   ]
  },
  {
   "cell_type": "code",
   "execution_count": 81,
   "id": "442fc0be",
   "metadata": {},
   "outputs": [],
   "source": [
    "m3 = m1.reshape(2,2,3)"
   ]
  },
  {
   "cell_type": "code",
   "execution_count": 82,
   "id": "7d9c61df",
   "metadata": {},
   "outputs": [
    {
     "name": "stdout",
     "output_type": "stream",
     "text": [
      "[[[ 0  1  2]\n",
      "  [ 3  4  5]]\n",
      "\n",
      " [[ 6  7  8]\n",
      "  [ 9 10 11]]]\n",
      "(2, 2, 3)\n"
     ]
    }
   ],
   "source": [
    "print(m3)\n",
    "print(m3.shape)"
   ]
  },
  {
   "cell_type": "code",
   "execution_count": 83,
   "id": "9ee65500",
   "metadata": {},
   "outputs": [
    {
     "data": {
      "text/plain": [
       "array([[[[ 0,  1]],\n",
       "\n",
       "        [[ 2,  3]]],\n",
       "\n",
       "\n",
       "       [[[ 4,  5]],\n",
       "\n",
       "        [[ 6,  7]]],\n",
       "\n",
       "\n",
       "       [[[ 8,  9]],\n",
       "\n",
       "        [[10, 11]]]])"
      ]
     },
     "execution_count": 83,
     "metadata": {},
     "output_type": "execute_result"
    }
   ],
   "source": [
    "m1.reshape(3,2,1,2)"
   ]
  },
  {
   "cell_type": "code",
   "execution_count": 84,
   "id": "d6b4bee2",
   "metadata": {},
   "outputs": [
    {
     "data": {
      "text/plain": [
       "array([[ 0,  1,  2,  3,  4,  5],\n",
       "       [ 6,  7,  8,  9, 10, 11]])"
      ]
     },
     "execution_count": 84,
     "metadata": {},
     "output_type": "execute_result"
    }
   ],
   "source": [
    "m1 = np.arange(12)\n",
    "m1.reshape(-1, 6)"
   ]
  },
  {
   "cell_type": "code",
   "execution_count": 85,
   "id": "8b5109ab",
   "metadata": {},
   "outputs": [
    {
     "data": {
      "text/plain": [
       "array([[ 0],\n",
       "       [ 1],\n",
       "       [ 2],\n",
       "       [ 3],\n",
       "       [ 4],\n",
       "       [ 5],\n",
       "       [ 6],\n",
       "       [ 7],\n",
       "       [ 8],\n",
       "       [ 9],\n",
       "       [10],\n",
       "       [11]])"
      ]
     },
     "execution_count": 85,
     "metadata": {},
     "output_type": "execute_result"
    }
   ],
   "source": [
    "m1.reshape(-1,1)"
   ]
  },
  {
   "cell_type": "markdown",
   "id": "9321da12",
   "metadata": {},
   "source": [
    "배열의 인덱싱과 슬라이싱"
   ]
  },
  {
   "cell_type": "code",
   "execution_count": 87,
   "id": "7fdd1d2b",
   "metadata": {},
   "outputs": [
    {
     "name": "stdout",
     "output_type": "stream",
     "text": [
      "[0 1 2 3 4 5 6]\n"
     ]
    }
   ],
   "source": [
    "x = np.arange(7)\n",
    "print(x)"
   ]
  },
  {
   "cell_type": "code",
   "execution_count": 88,
   "id": "ca1491e3",
   "metadata": {},
   "outputs": [
    {
     "name": "stdout",
     "output_type": "stream",
     "text": [
      "3\n"
     ]
    }
   ],
   "source": [
    "print(x[3])"
   ]
  },
  {
   "cell_type": "code",
   "execution_count": 89,
   "id": "c407cdb3",
   "metadata": {},
   "outputs": [
    {
     "name": "stdout",
     "output_type": "stream",
     "text": [
      "[1 2 3]\n"
     ]
    }
   ],
   "source": [
    "print(x[1:4])"
   ]
  },
  {
   "cell_type": "code",
   "execution_count": 90,
   "id": "fd2faac0",
   "metadata": {},
   "outputs": [
    {
     "name": "stdout",
     "output_type": "stream",
     "text": [
      "[0 1 2]\n"
     ]
    }
   ],
   "source": [
    "print(x[x<3])"
   ]
  },
  {
   "cell_type": "code",
   "execution_count": 91,
   "id": "711f74f4",
   "metadata": {},
   "outputs": [
    {
     "name": "stdout",
     "output_type": "stream",
     "text": [
      "[0 2 4 6]\n"
     ]
    }
   ],
   "source": [
    "print(x[x%2 == 0])"
   ]
  },
  {
   "cell_type": "code",
   "execution_count": 93,
   "id": "14dfaaf8",
   "metadata": {},
   "outputs": [
    {
     "name": "stdout",
     "output_type": "stream",
     "text": [
      "[[ 1  3  5]\n",
      " [ 7  9 11]]\n"
     ]
    }
   ],
   "source": [
    "# method chaining 활용\n",
    "\n",
    "m = np.arange(1,13,2).reshape(2,3)\n",
    "print(m)"
   ]
  },
  {
   "cell_type": "code",
   "execution_count": 94,
   "id": "5e19a325",
   "metadata": {},
   "outputs": [
    {
     "data": {
      "text/plain": [
       "3"
      ]
     },
     "execution_count": 94,
     "metadata": {},
     "output_type": "execute_result"
    }
   ],
   "source": [
    "m[0,1] # 원소 3추출"
   ]
  },
  {
   "cell_type": "code",
   "execution_count": 96,
   "id": "fe5c094e",
   "metadata": {},
   "outputs": [
    {
     "data": {
      "text/plain": [
       "array([[ 9, 11]])"
      ]
     },
     "execution_count": 96,
     "metadata": {},
     "output_type": "execute_result"
    }
   ],
   "source": [
    "m[1:,1:]"
   ]
  },
  {
   "cell_type": "code",
   "execution_count": 97,
   "id": "6dd1250e",
   "metadata": {},
   "outputs": [
    {
     "name": "stdout",
     "output_type": "stream",
     "text": [
      "[[ 1  2  3  4]\n",
      " [ 5  6  7  8]\n",
      " [ 9 10 11 12]]\n"
     ]
    }
   ],
   "source": [
    "m2 = np.arange(1,13).reshape(3,4)\n",
    "print(m2)"
   ]
  },
  {
   "cell_type": "code",
   "execution_count": 98,
   "id": "db6b50db",
   "metadata": {},
   "outputs": [
    {
     "data": {
      "text/plain": [
       "2"
      ]
     },
     "execution_count": 98,
     "metadata": {},
     "output_type": "execute_result"
    }
   ],
   "source": [
    "# indexing 이용, 값 2 추출\n",
    "\n",
    "m2[0,1]"
   ]
  },
  {
   "cell_type": "code",
   "execution_count": 101,
   "id": "8f56d39b",
   "metadata": {},
   "outputs": [
    {
     "data": {
      "text/plain": [
       "array([[ 9, 10]])"
      ]
     },
     "execution_count": 101,
     "metadata": {},
     "output_type": "execute_result"
    }
   ],
   "source": [
    "# slicing 이용, 9 10 추출\n",
    "m2[2:,:2]"
   ]
  },
  {
   "cell_type": "code",
   "execution_count": 103,
   "id": "05f3e0d1",
   "metadata": {},
   "outputs": [
    {
     "data": {
      "text/plain": [
       "array([1, 2, 3, 4])"
      ]
     },
     "execution_count": 103,
     "metadata": {},
     "output_type": "execute_result"
    }
   ],
   "source": [
    "# boolean indexing 통해 5보다 작은 수 찾아 출력\n",
    "m2[m2<5]"
   ]
  },
  {
   "cell_type": "code",
   "execution_count": 105,
   "id": "ff0d91ca",
   "metadata": {},
   "outputs": [
    {
     "data": {
      "text/plain": [
       "array([[5, 6, 7, 8]])"
      ]
     },
     "execution_count": 105,
     "metadata": {},
     "output_type": "execute_result"
    }
   ],
   "source": [
    "# fancy index 두번째 행만 추출해서 출력\n",
    "\n",
    "m2[[1]]"
   ]
  },
  {
   "cell_type": "code",
   "execution_count": 106,
   "id": "c0c52ff2",
   "metadata": {},
   "outputs": [
    {
     "name": "stdout",
     "output_type": "stream",
     "text": [
      "[ 0  1  2  3  4  5  6  7  8  9 10 11] (12,)\n"
     ]
    }
   ],
   "source": [
    "# 1차원 배열 인덱싱과 슬라이싱 : 리스트(list) 와 동일한 방법\n",
    "\n",
    "d = np.arange(12)\n",
    "print(d, d.shape)"
   ]
  },
  {
   "cell_type": "code",
   "execution_count": 107,
   "id": "5845472a",
   "metadata": {},
   "outputs": [
    {
     "name": "stdout",
     "output_type": "stream",
     "text": [
      "0 11\n"
     ]
    }
   ],
   "source": [
    "print(d[0],d[-1])"
   ]
  },
  {
   "cell_type": "code",
   "execution_count": 108,
   "id": "d6b1c607",
   "metadata": {},
   "outputs": [
    {
     "name": "stdout",
     "output_type": "stream",
     "text": [
      "[2 3 4 5 6 7] [ 0  1  2  3  4  5  6  7  8  9 10 11] [ 0  1  2  3  4  5  6  7  8  9 10]\n"
     ]
    }
   ],
   "source": [
    "print(d[2:8], d[:], d[:-1])"
   ]
  },
  {
   "cell_type": "code",
   "execution_count": 110,
   "id": "22aff5bf",
   "metadata": {},
   "outputs": [
    {
     "name": "stdout",
     "output_type": "stream",
     "text": [
      "[ 0  2  4  6  8 10] [11 10  9  8  7  6  5  4  3  2  1  0]\n"
     ]
    }
   ],
   "source": [
    "print(d[::2], d[::-1])"
   ]
  },
  {
   "cell_type": "code",
   "execution_count": 111,
   "id": "92fff268",
   "metadata": {},
   "outputs": [
    {
     "name": "stdout",
     "output_type": "stream",
     "text": [
      "[10  1  2  3  4  5  6  7  8  9 10 11]\n"
     ]
    }
   ],
   "source": [
    "d[0] = 10\n",
    "print(d)"
   ]
  },
  {
   "cell_type": "code",
   "execution_count": 113,
   "id": "da0557fb",
   "metadata": {},
   "outputs": [
    {
     "name": "stdout",
     "output_type": "stream",
     "text": [
      "[[ 0  1  2  3]\n",
      " [ 4  5  6  7]\n",
      " [ 8  9 10 11]]\n"
     ]
    }
   ],
   "source": [
    "# 2차원 배열의 인덱싱과 슬라이싱\n",
    "\n",
    "d = np.arange(12).reshape(3,4)\n",
    "print(d)"
   ]
  },
  {
   "cell_type": "code",
   "execution_count": 115,
   "id": "703c60f4",
   "metadata": {},
   "outputs": [
    {
     "name": "stdout",
     "output_type": "stream",
     "text": [
      "0\n",
      "0\n",
      "9\n"
     ]
    }
   ],
   "source": [
    "print(d[0][0])\n",
    "print(d[0,0])\n",
    "print(d[2,1])"
   ]
  },
  {
   "cell_type": "code",
   "execution_count": 116,
   "id": "68df7469",
   "metadata": {},
   "outputs": [
    {
     "name": "stdout",
     "output_type": "stream",
     "text": [
      "[0 1 2 3]\n"
     ]
    }
   ],
   "source": [
    "# 슬라이싱\n",
    "\n",
    "print(d[0])"
   ]
  },
  {
   "cell_type": "code",
   "execution_count": 117,
   "id": "fc6042a5",
   "metadata": {},
   "outputs": [
    {
     "name": "stdout",
     "output_type": "stream",
     "text": [
      "[0 1 2 3]\n"
     ]
    }
   ],
   "source": [
    "print(d[0,:])"
   ]
  },
  {
   "cell_type": "code",
   "execution_count": 118,
   "id": "bb85231a",
   "metadata": {},
   "outputs": [
    {
     "name": "stdout",
     "output_type": "stream",
     "text": [
      "[[ 0  1  2]\n",
      " [ 4  5  6]\n",
      " [ 8  9 10]]\n"
     ]
    }
   ],
   "source": [
    "print(d[:,:-1])"
   ]
  },
  {
   "cell_type": "code",
   "execution_count": 119,
   "id": "14c4152e",
   "metadata": {},
   "outputs": [
    {
     "name": "stdout",
     "output_type": "stream",
     "text": [
      "[[ 0  2]\n",
      " [ 8 10]]\n"
     ]
    }
   ],
   "source": [
    "print(d[::2, ::2])"
   ]
  },
  {
   "cell_type": "code",
   "execution_count": 120,
   "id": "8d81acd6",
   "metadata": {},
   "outputs": [
    {
     "name": "stdout",
     "output_type": "stream",
     "text": [
      "[[20 20 20 20]\n",
      " [ 4  5  6  7]\n",
      " [ 8  9 10 11]]\n"
     ]
    }
   ],
   "source": [
    "d[0] = 20 # 0번째 행의 모든 요소를 20으로 변경\n",
    "print(d)"
   ]
  },
  {
   "cell_type": "code",
   "execution_count": 121,
   "id": "b164a678",
   "metadata": {},
   "outputs": [
    {
     "name": "stdout",
     "output_type": "stream",
     "text": [
      "[[30 20 30 20]\n",
      " [ 4  5  6  7]\n",
      " [30  9 30 11]]\n"
     ]
    }
   ],
   "source": [
    "d[::2, ::2] = 30 # 슬라이싱 된 요소 전체를 한번에 변경 가능\n",
    "print(d)"
   ]
  },
  {
   "cell_type": "code",
   "execution_count": 122,
   "id": "4f17c45e",
   "metadata": {},
   "outputs": [
    {
     "name": "stdout",
     "output_type": "stream",
     "text": [
      "[[-1 -1 -1 -1]\n",
      " [-1 -1 -1 -1]\n",
      " [-1 -1 -1 -1]]\n"
     ]
    }
   ],
   "source": [
    "d[:,:] = -1 # 전체를 한번에 변경 ㅠ\n",
    "\n",
    "print(d)"
   ]
  },
  {
   "cell_type": "code",
   "execution_count": 126,
   "id": "b177f759",
   "metadata": {},
   "outputs": [
    {
     "name": "stdout",
     "output_type": "stream",
     "text": [
      "[[[ 0  1  2]\n",
      "  [ 3  4  5]]\n",
      "\n",
      " [[ 6  7  8]\n",
      "  [ 9 10 11]]] (2, 2, 3)\n"
     ]
    }
   ],
   "source": [
    "# 3차원 배열의 인덱싱과 슬라이싱\n",
    "\n",
    "# data[면, 행, 열]\n",
    "\n",
    "d = np.arange(12).reshape(2,2,3)\n",
    "print(d, d.shape)"
   ]
  },
  {
   "cell_type": "code",
   "execution_count": 128,
   "id": "3161c0ac",
   "metadata": {},
   "outputs": [
    {
     "name": "stdout",
     "output_type": "stream",
     "text": [
      "0\n",
      "0\n",
      "5\n"
     ]
    }
   ],
   "source": [
    "# 인덱싱\n",
    "\n",
    "print(d[0][0][0]) # old style\n",
    "\n",
    "print(d[0,0,0])\n",
    "\n",
    "print(d[0,1,2])"
   ]
  },
  {
   "cell_type": "code",
   "execution_count": 130,
   "id": "83d85c9c",
   "metadata": {},
   "outputs": [
    {
     "name": "stdout",
     "output_type": "stream",
     "text": [
      "[[[0 1]]\n",
      "\n",
      " [[6 7]]]\n",
      "[[[ 4  5]]\n",
      "\n",
      " [[10 11]]]\n"
     ]
    }
   ],
   "source": [
    "# 슬라이싱\n",
    "\n",
    "print(d[:,:-1,:-1])\n",
    "\n",
    "print(d[:, 1:, 1:])"
   ]
  },
  {
   "cell_type": "code",
   "execution_count": 133,
   "id": "33df650f",
   "metadata": {},
   "outputs": [
    {
     "name": "stdout",
     "output_type": "stream",
     "text": [
      "[[ 2  5]\n",
      " [ 8 11]]\n"
     ]
    }
   ],
   "source": [
    "print(d[:,:,-1])"
   ]
  },
  {
   "cell_type": "code",
   "execution_count": 134,
   "id": "8ea8586a",
   "metadata": {},
   "outputs": [
    {
     "name": "stdout",
     "output_type": "stream",
     "text": [
      "[ 5 11]\n"
     ]
    }
   ],
   "source": [
    "print(d[:,-1,-1])"
   ]
  },
  {
   "cell_type": "code",
   "execution_count": 137,
   "id": "e53c35aa",
   "metadata": {},
   "outputs": [
    {
     "name": "stdout",
     "output_type": "stream",
     "text": [
      "[1 2 3 4 5 6]\n",
      "[False False  True  True  True  True]\n",
      "[3 4 5 6]\n"
     ]
    }
   ],
   "source": [
    "# boolean indexing(매우 중요)\n",
    "# 조건식을 사용한 인덱싱, 조건 검색 필터\n",
    "\n",
    "a = np.array([1,2,3,4,5,6])\n",
    "\n",
    "print(a)\n",
    "\n",
    "print(a>2)\n",
    "\n",
    "print(a[a>2]) # True(참 값)만 추출"
   ]
  },
  {
   "cell_type": "code",
   "execution_count": 138,
   "id": "63a85a91",
   "metadata": {},
   "outputs": [
    {
     "name": "stdout",
     "output_type": "stream",
     "text": [
      "[3 4 5 6]\n"
     ]
    }
   ],
   "source": [
    "bool_idx = [False, False,  True,  True,  True,  True]\n",
    "print(a[bool_idx])"
   ]
  },
  {
   "cell_type": "code",
   "execution_count": 139,
   "id": "a92694a3",
   "metadata": {},
   "outputs": [
    {
     "name": "stdout",
     "output_type": "stream",
     "text": [
      "[1 2 4 5 6]\n"
     ]
    }
   ],
   "source": [
    "print(a[a != 3])"
   ]
  },
  {
   "cell_type": "code",
   "execution_count": 140,
   "id": "dd8acdff",
   "metadata": {},
   "outputs": [
    {
     "name": "stdout",
     "output_type": "stream",
     "text": [
      "[3 4 5]\n"
     ]
    }
   ],
   "source": [
    "print(a[(a>2)&(a<6)])"
   ]
  },
  {
   "cell_type": "code",
   "execution_count": 141,
   "id": "f1bbdd72",
   "metadata": {},
   "outputs": [
    {
     "name": "stdout",
     "output_type": "stream",
     "text": [
      "[2 4 6]\n"
     ]
    }
   ],
   "source": [
    "condition = (a%2) == 0\n",
    "print(a[condition])"
   ]
  },
  {
   "cell_type": "code",
   "execution_count": 142,
   "id": "47157239",
   "metadata": {},
   "outputs": [
    {
     "name": "stdout",
     "output_type": "stream",
     "text": [
      "[1 2 3]\n"
     ]
    }
   ],
   "source": [
    "print(a[a<a.mean()])"
   ]
  },
  {
   "cell_type": "code",
   "execution_count": 143,
   "id": "ca97c826",
   "metadata": {},
   "outputs": [
    {
     "name": "stdout",
     "output_type": "stream",
     "text": [
      "[1 2 3]\n"
     ]
    }
   ],
   "source": [
    "condition = a < a.mean()\n",
    "print(a[condition])"
   ]
  },
  {
   "cell_type": "code",
   "execution_count": null,
   "id": "3b830830",
   "metadata": {},
   "outputs": [],
   "source": [
    "# fancy indexing\n",
    "# 리스트나 배열로 임의의 집합을 지정한 인덱싱\n",
    "# 멋대로 내키는 대로 인덱싱"
   ]
  },
  {
   "cell_type": "code",
   "execution_count": 144,
   "id": "4447e47d",
   "metadata": {},
   "outputs": [
    {
     "name": "stdout",
     "output_type": "stream",
     "text": [
      "[1 2 3 4 5 6] (6,)\n"
     ]
    }
   ],
   "source": [
    "# 1차원 배열의 fancy indexing\n",
    "\n",
    "a = np.arange(1,7)\n",
    "print(a, a.shape)"
   ]
  },
  {
   "cell_type": "code",
   "execution_count": 145,
   "id": "f9d40072",
   "metadata": {},
   "outputs": [
    {
     "name": "stdout",
     "output_type": "stream",
     "text": [
      "[2 4 6 3 4 2]\n"
     ]
    }
   ],
   "source": [
    "print(a[[1,3,5,2,3,1]])"
   ]
  },
  {
   "cell_type": "code",
   "execution_count": 149,
   "id": "2105f39b",
   "metadata": {},
   "outputs": [
    {
     "name": "stdout",
     "output_type": "stream",
     "text": [
      "[1 6 4 5]\n"
     ]
    }
   ],
   "source": [
    "print(a[[0,-1,-3,-2]])"
   ]
  },
  {
   "cell_type": "code",
   "execution_count": 159,
   "id": "b61406de",
   "metadata": {},
   "outputs": [
    {
     "name": "stdout",
     "output_type": "stream",
     "text": [
      "[[10 20 30]\n",
      " [40 50 60]\n",
      " [70 80 90]] (3, 3)\n",
      "[10 80]\n",
      "[[10 20]\n",
      " [70 80]]\n"
     ]
    }
   ],
   "source": [
    "# 2차원 배열의 fancy indexing\n",
    "\n",
    "a = np.arange(10,100, 10).reshape(3,3)\n",
    "print(a, a.shape)\n",
    "\n",
    "print(a[[0,2],[0,1]])\n",
    "# 행과 열이 서로 match a[0,0], a[2,1]\n",
    "print(a[[0,2], :2])"
   ]
  },
  {
   "cell_type": "markdown",
   "id": "291aa28e",
   "metadata": {},
   "source": [
    "배열의 형상 다루기\n",
    "\n",
    "- (매우 중요) reshape(), 편평화 flatten(), 전치(transpose())\n",
    "- flatten() : 다차원 배열 >> 1차원 배열로 변환"
   ]
  },
  {
   "cell_type": "code",
   "execution_count": 170,
   "id": "41f2de63",
   "metadata": {},
   "outputs": [],
   "source": [
    "d = np.arange(12).reshape(3,4)"
   ]
  },
  {
   "cell_type": "code",
   "execution_count": 171,
   "id": "60f6c1cd",
   "metadata": {},
   "outputs": [
    {
     "data": {
      "text/plain": [
       "array([[ 0,  4,  8],\n",
       "       [ 1,  5,  9],\n",
       "       [ 2,  6, 10],\n",
       "       [ 3,  7, 11]])"
      ]
     },
     "execution_count": 171,
     "metadata": {},
     "output_type": "execute_result"
    }
   ],
   "source": [
    "# transpose()\n",
    "d.transpose()"
   ]
  },
  {
   "cell_type": "code",
   "execution_count": 172,
   "id": "9ee20eff",
   "metadata": {},
   "outputs": [
    {
     "name": "stdout",
     "output_type": "stream",
     "text": [
      "[[0 0 0 0]\n",
      " [0 0 0 0]\n",
      " [0 0 0 0]] (3, 4)\n"
     ]
    }
   ],
   "source": [
    "d.flat = 0\n",
    "print(d, d.shape)"
   ]
  },
  {
   "cell_type": "code",
   "execution_count": 173,
   "id": "e3def120",
   "metadata": {},
   "outputs": [
    {
     "name": "stdout",
     "output_type": "stream",
     "text": [
      "[[ 0  1  2  3]\n",
      " [ 4  5  6  7]\n",
      " [ 8  9 10 11]]\n"
     ]
    }
   ],
   "source": [
    "# axis(축) 사용법\n",
    "\n",
    "a = np.arange(12).reshape(3,4)\n",
    "print(a)"
   ]
  },
  {
   "cell_type": "code",
   "execution_count": 179,
   "id": "9a8de1eb",
   "metadata": {},
   "outputs": [
    {
     "name": "stdout",
     "output_type": "stream",
     "text": [
      "66\n",
      "66\n",
      "[12 15 18 21]\n",
      "[ 6 22 38]\n",
      "[ 6 22 38]\n",
      "5.5\n"
     ]
    }
   ],
   "source": [
    "print(a.sum()) # 배열 전체의 합\n",
    "print(a.sum(axis = None)) # 배열 전체의 합\n",
    "print(a.sum(axis = 0)) # 행 단위\n",
    "print(a.sum(axis = 1)) # 열 단위\n",
    "print(a.sum(axis = -1)) # 마지막 축 방향의 합\n",
    "print(a.mean()) # 배열 전체의 평균\n"
   ]
  },
  {
   "cell_type": "code",
   "execution_count": 180,
   "id": "2b374ca9",
   "metadata": {},
   "outputs": [
    {
     "name": "stdout",
     "output_type": "stream",
     "text": [
      "[9 2 8 3 1 4 5 6] (8,)\n"
     ]
    }
   ],
   "source": [
    "# sort() 함수 : 오름차순(default)\n",
    "\n",
    "a = np.array([9,2,8,3,1,4,5,6])\n",
    "print(a, a.shape)"
   ]
  },
  {
   "cell_type": "code",
   "execution_count": 182,
   "id": "50c30da5",
   "metadata": {},
   "outputs": [
    {
     "data": {
      "text/plain": [
       "array([1, 2, 3, 4, 5, 6, 8, 9])"
      ]
     },
     "execution_count": 182,
     "metadata": {},
     "output_type": "execute_result"
    }
   ],
   "source": [
    "np.sort(a)"
   ]
  },
  {
   "cell_type": "code",
   "execution_count": 183,
   "id": "68de7a96",
   "metadata": {},
   "outputs": [
    {
     "data": {
      "text/plain": [
       "array([9, 8, 6, 5, 4, 3, 2, 1])"
      ]
     },
     "execution_count": 183,
     "metadata": {},
     "output_type": "execute_result"
    }
   ],
   "source": [
    "np.sort(a)[::-1]"
   ]
  },
  {
   "cell_type": "code",
   "execution_count": 185,
   "id": "e860f958",
   "metadata": {},
   "outputs": [
    {
     "name": "stdout",
     "output_type": "stream",
     "text": [
      "[9 2 8 3 1 4 5 6] (8,)\n",
      "[1 2 3 4 5 6 8 9]\n",
      "[4 1 3 5 6 7 2 0]\n"
     ]
    }
   ],
   "source": [
    "# argsort() 함수 \n",
    "# sort된 후 해당 값의 인덱스(idx) 반환\n",
    "\n",
    "a = np.array([9,2,8,3,1,4,5,6])\n",
    "print(a, a.shape)\n",
    "print(np.sort(a))\n",
    "sort_idx = np.argsort(a)\n",
    "print(sort_idx)\n"
   ]
  },
  {
   "cell_type": "code",
   "execution_count": 188,
   "id": "86da12de",
   "metadata": {},
   "outputs": [
    {
     "name": "stdout",
     "output_type": "stream",
     "text": [
      "[1 2 3 4 5 6 8 9]\n"
     ]
    }
   ],
   "source": [
    "print(a[sort_idx])"
   ]
  },
  {
   "cell_type": "code",
   "execution_count": 191,
   "id": "1b2c68cc",
   "metadata": {},
   "outputs": [
    {
     "name": "stdout",
     "output_type": "stream",
     "text": [
      "[[ 1  2  3  4]\n",
      " [ 5  6  7  8]\n",
      " [ 9 10 11 12]]\n",
      "2\n"
     ]
    }
   ],
   "source": [
    "m = np.arange(1, 13).reshape(3,4)\n",
    "\n",
    "print(m)\n",
    "\n",
    "print(m[0,1])"
   ]
  },
  {
   "cell_type": "code",
   "execution_count": 195,
   "id": "5365b8e7",
   "metadata": {},
   "outputs": [
    {
     "data": {
      "text/plain": [
       "array([[ 9, 10]])"
      ]
     },
     "execution_count": 195,
     "metadata": {},
     "output_type": "execute_result"
    }
   ],
   "source": [
    "m[2:, :2]"
   ]
  },
  {
   "cell_type": "markdown",
   "id": "ddac532b",
   "metadata": {},
   "source": [
    "m[m<5]"
   ]
  },
  {
   "cell_type": "code",
   "execution_count": 196,
   "id": "eec4afea",
   "metadata": {},
   "outputs": [
    {
     "data": {
      "text/plain": [
       "array([1, 2, 3, 4])"
      ]
     },
     "execution_count": 196,
     "metadata": {},
     "output_type": "execute_result"
    }
   ],
   "source": [
    "m[m<5]"
   ]
  },
  {
   "cell_type": "code",
   "execution_count": 197,
   "id": "97824cbc",
   "metadata": {},
   "outputs": [
    {
     "data": {
      "text/plain": [
       "array([[5, 6, 7, 8]])"
      ]
     },
     "execution_count": 197,
     "metadata": {},
     "output_type": "execute_result"
    }
   ],
   "source": [
    "m[[1]]"
   ]
  },
  {
   "cell_type": "markdown",
   "id": "15242953",
   "metadata": {},
   "source": [
    "numpy의 method"
   ]
  },
  {
   "cell_type": "markdown",
   "id": "7f89b432",
   "metadata": {},
   "source": [
    "1. np.arange(정수)\n",
    "2. np.zeors(정수)\n",
    "3. np.ones(정수)\n",
    "4. np.sum(배열)\n",
    "5. np.mean(배열)\n",
    "6. np.std(배열)\n",
    "7. 배열.reshape(shape)\n"
   ]
  },
  {
   "cell_type": "code",
   "execution_count": 199,
   "id": "692e8575",
   "metadata": {},
   "outputs": [
    {
     "name": "stdout",
     "output_type": "stream",
     "text": [
      "[0 1 2 3 4 5 6 7 8 9]\n"
     ]
    }
   ],
   "source": [
    "arr1 = np.arange(10)\n",
    "print(arr1)"
   ]
  },
  {
   "cell_type": "code",
   "execution_count": 200,
   "id": "74d6f251",
   "metadata": {},
   "outputs": [
    {
     "name": "stdout",
     "output_type": "stream",
     "text": [
      "[0. 0. 0. 0. 0. 0. 0. 0. 0. 0.]\n"
     ]
    }
   ],
   "source": [
    "arr2 = np.zeros(10)\n",
    "print(arr2)"
   ]
  },
  {
   "cell_type": "code",
   "execution_count": 201,
   "id": "065195d2",
   "metadata": {},
   "outputs": [
    {
     "name": "stdout",
     "output_type": "stream",
     "text": [
      "[1. 1. 1. 1. 1. 1. 1. 1. 1. 1.]\n"
     ]
    }
   ],
   "source": [
    "arr3 = np.ones(10)\n",
    "print(arr3)"
   ]
  },
  {
   "cell_type": "code",
   "execution_count": 202,
   "id": "d6c046cd",
   "metadata": {},
   "outputs": [
    {
     "data": {
      "text/plain": [
       "45"
      ]
     },
     "execution_count": 202,
     "metadata": {},
     "output_type": "execute_result"
    }
   ],
   "source": [
    "np.sum(arr1) # arr1 배열의 전체 원소의 합"
   ]
  },
  {
   "cell_type": "code",
   "execution_count": 203,
   "id": "6476c310",
   "metadata": {},
   "outputs": [
    {
     "data": {
      "text/plain": [
       "4.5"
      ]
     },
     "execution_count": 203,
     "metadata": {},
     "output_type": "execute_result"
    }
   ],
   "source": [
    "np.mean(arr1) # arr1 배열의 전체 원소의 평균"
   ]
  },
  {
   "cell_type": "code",
   "execution_count": 205,
   "id": "2a39f991",
   "metadata": {},
   "outputs": [
    {
     "data": {
      "text/plain": [
       "2.8722813232690143"
      ]
     },
     "execution_count": 205,
     "metadata": {},
     "output_type": "execute_result"
    }
   ],
   "source": [
    "np.std(arr1) # arr1 배열의 전체 원소의 표준편차(평균에서 떨어진 값)"
   ]
  },
  {
   "cell_type": "code",
   "execution_count": 206,
   "id": "f5e87549",
   "metadata": {},
   "outputs": [
    {
     "data": {
      "text/plain": [
       "array([[0, 1, 2, 3, 4],\n",
       "       [5, 6, 7, 8, 9]])"
      ]
     },
     "execution_count": 206,
     "metadata": {},
     "output_type": "execute_result"
    }
   ],
   "source": [
    "arr1.reshape(2,5)"
   ]
  },
  {
   "cell_type": "code",
   "execution_count": null,
   "id": "016b90c5",
   "metadata": {},
   "outputs": [],
   "source": []
  }
 ],
 "metadata": {
  "kernelspec": {
   "display_name": "Python 3 (ipykernel)",
   "language": "python",
   "name": "python3"
  },
  "language_info": {
   "codemirror_mode": {
    "name": "ipython",
    "version": 3
   },
   "file_extension": ".py",
   "mimetype": "text/x-python",
   "name": "python",
   "nbconvert_exporter": "python",
   "pygments_lexer": "ipython3",
   "version": "3.9.13"
  }
 },
 "nbformat": 4,
 "nbformat_minor": 5
}
