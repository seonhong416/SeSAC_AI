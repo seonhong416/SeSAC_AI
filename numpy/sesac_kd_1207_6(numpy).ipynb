{
 "cells": [
  {
   "cell_type": "code",
   "execution_count": 1,
   "id": "561da5fd",
   "metadata": {},
   "outputs": [
    {
     "name": "stdout",
     "output_type": "stream",
     "text": [
      "12 45\n",
      "\n",
      "45 12\n"
     ]
    }
   ],
   "source": [
    "a, b = 12, 45\n",
    "print(a, b)\n",
    "\n",
    "print()\n",
    "\n",
    "a, b = b, a\n",
    "print(a, b)"
   ]
  },
  {
   "cell_type": "code",
   "execution_count": 2,
   "id": "e49daf1c",
   "metadata": {},
   "outputs": [
    {
     "name": "stdout",
     "output_type": "stream",
     "text": [
      "100\n"
     ]
    }
   ],
   "source": [
    "a = [10, 20, 30, 40]\n",
    "\n",
    "print(sum(a))"
   ]
  },
  {
   "cell_type": "code",
   "execution_count": 3,
   "id": "0e2f2ec0",
   "metadata": {},
   "outputs": [
    {
     "name": "stdout",
     "output_type": "stream",
     "text": [
      "10\n"
     ]
    }
   ],
   "source": [
    "a = {0:10, 1:20, 2:30, 3:40}\n",
    "print(a[0])"
   ]
  },
  {
   "cell_type": "code",
   "execution_count": 4,
   "id": "59c2ad50",
   "metadata": {},
   "outputs": [
    {
     "name": "stdout",
     "output_type": "stream",
     "text": [
      "<class 'dict'>\n"
     ]
    }
   ],
   "source": [
    "print(type(a))"
   ]
  },
  {
   "cell_type": "code",
   "execution_count": 5,
   "id": "1766a06f",
   "metadata": {},
   "outputs": [
    {
     "name": "stdout",
     "output_type": "stream",
     "text": [
      "{0, 1, 2, 3, 4}\n"
     ]
    }
   ],
   "source": [
    "a = set(a)\n",
    "a.add(4)\n",
    "print(a)"
   ]
  },
  {
   "cell_type": "code",
   "execution_count": 6,
   "id": "b44d40cf",
   "metadata": {},
   "outputs": [
    {
     "name": "stdout",
     "output_type": "stream",
     "text": [
      "안녕\n",
      "세싹\n",
      "안녕안녕세싹\n"
     ]
    }
   ],
   "source": [
    "a, b = '안녕', '세싹'\n",
    "\n",
    "print(a)\n",
    "print(b)\n",
    "\n",
    "print(a*2+b)"
   ]
  },
  {
   "cell_type": "code",
   "execution_count": 18,
   "id": "b507723a",
   "metadata": {},
   "outputs": [
    {
     "data": {
      "text/plain": [
       "(8,)"
      ]
     },
     "execution_count": 18,
     "metadata": {},
     "output_type": "execute_result"
    }
   ],
   "source": [
    "import numpy as np\n",
    "\n",
    "a = np.arange(20,36,2)\n",
    "\n",
    "a.shape"
   ]
  },
  {
   "cell_type": "code",
   "execution_count": 11,
   "id": "e9059cec",
   "metadata": {},
   "outputs": [
    {
     "data": {
      "text/plain": [
       "array([[20, 22, 24, 26],\n",
       "       [28, 30, 32, 34]])"
      ]
     },
     "execution_count": 11,
     "metadata": {},
     "output_type": "execute_result"
    }
   ],
   "source": [
    "b = np.arange(20,36,2).reshape(2,4)\n",
    "b"
   ]
  },
  {
   "cell_type": "code",
   "execution_count": 13,
   "id": "147e729b",
   "metadata": {},
   "outputs": [
    {
     "data": {
      "text/plain": [
       "2"
      ]
     },
     "execution_count": 13,
     "metadata": {},
     "output_type": "execute_result"
    }
   ],
   "source": [
    "b.ndim # num of dimension"
   ]
  },
  {
   "cell_type": "code",
   "execution_count": 15,
   "id": "e346cdbf",
   "metadata": {},
   "outputs": [
    {
     "data": {
      "text/plain": [
       "array([[200, 220, 240, 260],\n",
       "       [280, 300, 320, 340]])"
      ]
     },
     "execution_count": 15,
     "metadata": {},
     "output_type": "execute_result"
    }
   ],
   "source": [
    "bb = b * 10 # broadcasting\n",
    "bb"
   ]
  },
  {
   "cell_type": "code",
   "execution_count": 16,
   "id": "d3beeaa0",
   "metadata": {},
   "outputs": [
    {
     "data": {
      "text/plain": [
       "array([[13, 22, 24, 26],\n",
       "       [28, 30, 32, 34]])"
      ]
     },
     "execution_count": 16,
     "metadata": {},
     "output_type": "execute_result"
    }
   ],
   "source": [
    "b[0,0] = 13\n",
    "b"
   ]
  },
  {
   "cell_type": "code",
   "execution_count": 19,
   "id": "de3be518",
   "metadata": {},
   "outputs": [],
   "source": [
    "x = np.array([\n",
    "    [0.1, 0.8, 0.1],\n",
    "    [0.3, 0.1, 0.6], \n",
    "    [0.2, 0.5, 0.3],\n",
    "    [0.8, 0.1, 0.1]\n",
    "])\n"
   ]
  },
  {
   "cell_type": "code",
   "execution_count": 20,
   "id": "4d293fe1",
   "metadata": {},
   "outputs": [
    {
     "data": {
      "text/plain": [
       "1"
      ]
     },
     "execution_count": 20,
     "metadata": {},
     "output_type": "execute_result"
    }
   ],
   "source": [
    "y = np.argmax(x)\n",
    "y\n",
    "\n",
    "# np.argmax(x)\n",
    "# x 배열을 1차원으로 평면화된 배열에 대해서\n",
    "# 최대값을 갖는 인덱스(idx)를 반환"
   ]
  },
  {
   "cell_type": "code",
   "execution_count": 22,
   "id": "8646f301",
   "metadata": {},
   "outputs": [],
   "source": [
    "z = np.array([\n",
    "    [0.1, 0.8, 0.1],\n",
    "    [0.3, 0.1, 0.6], \n",
    "    [0.2, 0.5, 0.3],\n",
    "    [0.9, 0.1, 0.1]\n",
    "])"
   ]
  },
  {
   "cell_type": "code",
   "execution_count": 24,
   "id": "6b2d594a",
   "metadata": {},
   "outputs": [
    {
     "data": {
      "text/plain": [
       "9"
      ]
     },
     "execution_count": 24,
     "metadata": {},
     "output_type": "execute_result"
    }
   ],
   "source": [
    "y_1 = np.argmax(z)\n",
    "y_1\n"
   ]
  },
  {
   "cell_type": "code",
   "execution_count": 28,
   "id": "6feaf3cb",
   "metadata": {},
   "outputs": [
    {
     "data": {
      "text/plain": [
       "array([3, 0, 1], dtype=int64)"
      ]
     },
     "execution_count": 28,
     "metadata": {},
     "output_type": "execute_result"
    }
   ],
   "source": [
    "np.argmax(z, axis = 0) # 서로 다른 행끼리(세로방향)\n",
    "\n",
    "# np.argmax(x, axis = 0)\n",
    "# 첫번째 축인 row 방향(세로방향)으로 구성되는 요소 중 최대인 인덱스를 반환"
   ]
  },
  {
   "cell_type": "code",
   "execution_count": 27,
   "id": "0ae7189f",
   "metadata": {},
   "outputs": [
    {
     "data": {
      "text/plain": [
       "array([1, 2, 1, 0], dtype=int64)"
      ]
     },
     "execution_count": 27,
     "metadata": {},
     "output_type": "execute_result"
    }
   ],
   "source": [
    "np.argmax(z, axis = 1) # 서로 다른 열끼리(가로방향)"
   ]
  },
  {
   "cell_type": "code",
   "execution_count": 29,
   "id": "7edb287b",
   "metadata": {},
   "outputs": [
    {
     "data": {
      "text/plain": [
       "array([1, 2, 1, 0], dtype=int64)"
      ]
     },
     "execution_count": 29,
     "metadata": {},
     "output_type": "execute_result"
    }
   ],
   "source": [
    "np.argmax(z, axis = -1)"
   ]
  },
  {
   "cell_type": "code",
   "execution_count": null,
   "id": "385325ff",
   "metadata": {},
   "outputs": [],
   "source": []
  }
 ],
 "metadata": {
  "kernelspec": {
   "display_name": "Python 3 (ipykernel)",
   "language": "python",
   "name": "python3"
  },
  "language_info": {
   "codemirror_mode": {
    "name": "ipython",
    "version": 3
   },
   "file_extension": ".py",
   "mimetype": "text/x-python",
   "name": "python",
   "nbconvert_exporter": "python",
   "pygments_lexer": "ipython3",
   "version": "3.9.13"
  }
 },
 "nbformat": 4,
 "nbformat_minor": 5
}
