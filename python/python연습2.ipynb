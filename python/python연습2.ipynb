{
 "cells": [
  {
   "attachments": {},
   "cell_type": "markdown",
   "metadata": {},
   "source": [
    "### 예외처리"
   ]
  },
  {
   "attachments": {},
   "cell_type": "markdown",
   "metadata": {},
   "source": [
    "```\n",
    "try:\n",
    "    # 에러가 발생할 가능성이 있는 코드\n",
    "except Exception: # 에러 종류\n",
    "    #에러가 발생 했을 경우 처리할 코드\n",
    "```"
   ]
  },
  {
   "cell_type": "code",
   "execution_count": 75,
   "metadata": {},
   "outputs": [
    {
     "ename": "IndexError",
     "evalue": "list index out of range",
     "output_type": "error",
     "traceback": [
      "\u001b[1;31m---------------------------------------------------------------------------\u001b[0m",
      "\u001b[1;31mIndexError\u001b[0m                                Traceback (most recent call last)",
      "\u001b[1;32m~\\AppData\\Local\\Temp\\ipykernel_13720\\3090379856.py\u001b[0m in \u001b[0;36m<module>\u001b[1;34m\u001b[0m\n\u001b[0;32m      4\u001b[0m \u001b[1;33m\u001b[0m\u001b[0m\n\u001b[0;32m      5\u001b[0m \u001b[0mlist1\u001b[0m \u001b[1;33m=\u001b[0m \u001b[1;33m[\u001b[0m\u001b[1;33m]\u001b[0m\u001b[1;33m\u001b[0m\u001b[1;33m\u001b[0m\u001b[0m\n\u001b[1;32m----> 6\u001b[1;33m \u001b[0mlist1\u001b[0m\u001b[1;33m[\u001b[0m\u001b[1;36m0\u001b[0m\u001b[1;33m]\u001b[0m\u001b[1;33m\u001b[0m\u001b[1;33m\u001b[0m\u001b[0m\n\u001b[0m",
      "\u001b[1;31mIndexError\u001b[0m: list index out of range"
     ]
    }
   ],
   "source": [
    "# 에러에 대해 알아보자! 파이썬 프로그래밍하다보면 다양한 에러가 발생하게 되는데요!\n",
    "# 이 에러가 발생하는 에러사항은 반드시 피해야하는 것만이 아니라, 유연하게 프로그래밍을 하도록 도와줄 수 있는 도구가 되기도 합니다!\n",
    "# 자주 나는 에러 발생시켜보자!!\n",
    "\n",
    "list1 = []\n",
    "list1[0]"
   ]
  },
  {
   "cell_type": "code",
   "execution_count": null,
   "metadata": {},
   "outputs": [
    {
     "ename": "ValueError",
     "evalue": "invalid literal for int() with base 10: 'abc'",
     "output_type": "error",
     "traceback": [
      "\u001b[1;31m---------------------------------------------------------------------------\u001b[0m",
      "\u001b[1;31mValueError\u001b[0m                                Traceback (most recent call last)",
      "\u001b[1;32m~\\AppData\\Local\\Temp\\ipykernel_13720\\271514489.py\u001b[0m in \u001b[0;36m<module>\u001b[1;34m\u001b[0m\n\u001b[0;32m      1\u001b[0m \u001b[0mtext\u001b[0m \u001b[1;33m=\u001b[0m \u001b[1;34m'abc'\u001b[0m\u001b[1;33m\u001b[0m\u001b[1;33m\u001b[0m\u001b[0m\n\u001b[1;32m----> 2\u001b[1;33m \u001b[0mnumber\u001b[0m \u001b[1;33m=\u001b[0m \u001b[0mint\u001b[0m\u001b[1;33m(\u001b[0m\u001b[0mtext\u001b[0m\u001b[1;33m)\u001b[0m\u001b[1;33m\u001b[0m\u001b[1;33m\u001b[0m\u001b[0m\n\u001b[0m",
      "\u001b[1;31mValueError\u001b[0m: invalid literal for int() with base 10: 'abc'"
     ]
    }
   ],
   "source": [
    "text = 'abc'\n",
    "number = int(text)"
   ]
  },
  {
   "cell_type": "code",
   "execution_count": null,
   "metadata": {},
   "outputs": [
    {
     "name": "stdout",
     "output_type": "stream",
     "text": [
      "100%가 숫자가 아니네요.\n"
     ]
    }
   ],
   "source": [
    "text = '100%'\n",
    "try :\n",
    "    number = int(text) \n",
    "    # 에리거 발생할 가능성이 있는 코드\n",
    "except ValueError : #발생할 수 있는 에러 적기\n",
    "    print('{}가 숫자가 아니네요.'.format(text))"
   ]
  },
  {
   "cell_type": "code",
   "execution_count": null,
   "metadata": {},
   "outputs": [],
   "source": [
    "def safe_pop_print(list, index) :\n",
    "    try :\n",
    "        print(list.pop(index))\n",
    "    \n",
    "    except IndexError :\n",
    "        print('{}번째 index의 값을 가져올 수 없습니다.'.format(index))\n"
   ]
  },
  {
   "cell_type": "code",
   "execution_count": null,
   "metadata": {},
   "outputs": [
    {
     "name": "stdout",
     "output_type": "stream",
     "text": [
      "7번째 index의 값을 가져올 수 없습니다.\n"
     ]
    }
   ],
   "source": [
    "safe_pop_print([1,2,3], 7)"
   ]
  },
  {
   "cell_type": "code",
   "execution_count": null,
   "metadata": {},
   "outputs": [
    {
     "name": "stdout",
     "output_type": "stream",
     "text": [
      "7번째 index의 값을 가져올 수 없습니다.\n"
     ]
    }
   ],
   "source": [
    "def safe_pop_print(list, index) :\n",
    "    if index < len(list) :\n",
    "        print(list.pop(index))\n",
    "    \n",
    "    else :\n",
    "        print('{}번째 index의 값을 가져올 수 없습니다.'.format(index))\n",
    "    \n",
    "\n",
    "safe_pop_print([1,2,3], 7)\n"
   ]
  },
  {
   "cell_type": "code",
   "execution_count": null,
   "metadata": {},
   "outputs": [
    {
     "name": "stdout",
     "output_type": "stream",
     "text": [
      "모듈이 없습니다.\n"
     ]
    }
   ],
   "source": [
    "try:\n",
    "    import my_module\n",
    "\n",
    "except ImportError :\n",
    "    print('모듈이 없습니다.')"
   ]
  },
  {
   "attachments": {},
   "cell_type": "markdown",
   "metadata": {},
   "source": [
    "### try except 실습"
   ]
  },
  {
   "attachments": {},
   "cell_type": "markdown",
   "metadata": {},
   "source": [
    "\n",
    "다음 코드는 3을 0으로 나누고 있습니다. 나눗셈 연산은 0으로 나눌 수 없기 때문에 문제의 코드를 실행하면 에러가 발생합니다. 에러의 이름을 확인하고 **try except**문으로 코드의 2번째 줄을 감싸서 에러가 발생할 경우 4번째 줄이 출력되도록 만들어 보세요.  \n",
    "\n",
    "프로그래밍을 하다 만나는 다양한 오류들은 유연하게 프로그래밍 할 수 있게 도와주는 도구가 되기도 합니다. **try except**를 이용하면 에러의 이름을 활용하여 에러를 코드 내에서 처리할 수 있습니다.\n",
    "\n",
    "아래의 쓰임을 참고하여 문제를 해결해 보세요.\n",
    "```\n",
    "try:\n",
    "    # 에러가 발생할 가능성이 있는 코드\n",
    "except Exception: # 에러 종류\n",
    "    #에러가 발생 했을 경우 처리할 코드\n",
    "```"
   ]
  },
  {
   "cell_type": "code",
   "execution_count": null,
   "metadata": {},
   "outputs": [
    {
     "ename": "ZeroDivisionError",
     "evalue": "division by zero",
     "output_type": "error",
     "traceback": [
      "\u001b[1;31m---------------------------------------------------------------------------\u001b[0m",
      "\u001b[1;31mZeroDivisionError\u001b[0m                         Traceback (most recent call last)",
      "\u001b[1;32m~\\AppData\\Local\\Temp\\ipykernel_13720\\4217114623.py\u001b[0m in \u001b[0;36m<module>\u001b[1;34m\u001b[0m\n\u001b[1;32m----> 1\u001b[1;33m \u001b[0ma\u001b[0m \u001b[1;33m=\u001b[0m \u001b[1;36m3\u001b[0m\u001b[1;33m/\u001b[0m\u001b[1;36m0\u001b[0m\u001b[1;33m\u001b[0m\u001b[1;33m\u001b[0m\u001b[0m\n\u001b[0m\u001b[0;32m      2\u001b[0m \u001b[1;33m\u001b[0m\u001b[0m\n\u001b[0;32m      3\u001b[0m \u001b[0mprint\u001b[0m\u001b[1;33m(\u001b[0m\u001b[1;34m\"0으로 나눌 수 없습니다.\"\u001b[0m\u001b[1;33m)\u001b[0m\u001b[1;33m\u001b[0m\u001b[1;33m\u001b[0m\u001b[0m\n",
      "\u001b[1;31mZeroDivisionError\u001b[0m: division by zero"
     ]
    }
   ],
   "source": [
    "a = 3/0\n",
    "\n",
    "print(\"0으로 나눌 수 없습니다.\")"
   ]
  },
  {
   "cell_type": "code",
   "execution_count": null,
   "metadata": {},
   "outputs": [
    {
     "name": "stdout",
     "output_type": "stream",
     "text": [
      "0으로 나눌 수 없습니다.\n"
     ]
    }
   ],
   "source": [
    "try :\n",
    "    a = 3/0\n",
    "except ZeroDivisionError :\n",
    "    print(\"0으로 나눌 수 없습니다.\")"
   ]
  },
  {
   "attachments": {},
   "cell_type": "markdown",
   "metadata": {},
   "source": [
    "### 에러 이름을 모를때"
   ]
  },
  {
   "cell_type": "code",
   "execution_count": null,
   "metadata": {},
   "outputs": [
    {
     "name": "stdout",
     "output_type": "stream",
     "text": [
      "에러가 발생했습니다.\n"
     ]
    }
   ],
   "source": [
    "try : \n",
    "    a = []\n",
    "    print(a[0])\n",
    "    \n",
    "    text = 'abc'\n",
    "    number = int(text)\n",
    "except :\n",
    "    print('에러가 발생했습니다.')"
   ]
  },
  {
   "cell_type": "code",
   "execution_count": null,
   "metadata": {},
   "outputs": [
    {
     "name": "stdout",
     "output_type": "stream",
     "text": [
      "에러가 발생했습니다. list index out of range\n"
     ]
    }
   ],
   "source": [
    "try : \n",
    "    a = []\n",
    "    print(a[0])\n",
    "    \n",
    "    # text = 'abc'\n",
    "    # number = int(text)\n",
    "except Exception as ex:\n",
    "    print(f'에러가 발생했습니다. {ex}')"
   ]
  },
  {
   "attachments": {},
   "cell_type": "markdown",
   "metadata": {},
   "source": [
    "다음 코드는 발생하는 예외를 **try/except**문으로 처리하고 있습니다. 5번째 줄에서는 어떤 에러가 발생하는지 출력할 수 있도록 빈칸을 채우고, 6번째 줄은 예외를 출력할 수 있도록 format의 빈칸을 작성하세요.\n",
    "\n",
    "예외의 이름을 모르는 경우에는 **Exception as**를 통해 해결할 수 있습니다.\n",
    "\n",
    "아래의 예를 참고하여 문제를 해결해 보세요.\n",
    "```\n",
    "try:\n",
    "    # 에러가 발생할 가능성이 있는 코드\n",
    "except Exception as ex:     # 에러 종류\n",
    "    print('에러가 발생 했습니다', ex)  # ex는 발생한 에러의 이름을 받아오는 변수\n",
    "```"
   ]
  },
  {
   "cell_type": "code",
   "execution_count": null,
   "metadata": {},
   "outputs": [
    {
     "name": "stdout",
     "output_type": "stream",
     "text": [
      "다음과 같은 에러가 발생했습니다 : division by zero\n"
     ]
    }
   ],
   "source": [
    "try :\n",
    "    a = 5\n",
    "    b = 0\n",
    "    c = a / b\n",
    "except Exception as ex :\n",
    "    print('다음과 같은 에러가 발생했습니다 : {}'.format(ex))"
   ]
  },
  {
   "attachments": {},
   "cell_type": "markdown",
   "metadata": {},
   "source": [
    "### raise"
   ]
  },
  {
   "cell_type": "code",
   "execution_count": null,
   "metadata": {},
   "outputs": [
    {
     "ename": "ValueError",
     "evalue": "",
     "output_type": "error",
     "traceback": [
      "\u001b[1;31m---------------------------------------------------------------------------\u001b[0m",
      "\u001b[1;31mValueError\u001b[0m                                Traceback (most recent call last)",
      "\u001b[1;32m~\\AppData\\Local\\Temp\\ipykernel_13720\\1458520055.py\u001b[0m in \u001b[0;36m<module>\u001b[1;34m\u001b[0m\n\u001b[0;32m      6\u001b[0m         \u001b[1;32mraise\u001b[0m \u001b[0mValueError\u001b[0m\u001b[1;33m\u001b[0m\u001b[1;33m\u001b[0m\u001b[0m\n\u001b[0;32m      7\u001b[0m \u001b[1;33m\u001b[0m\u001b[0m\n\u001b[1;32m----> 8\u001b[1;33m \u001b[0mrsp\u001b[0m\u001b[1;33m(\u001b[0m\u001b[1;34m'가위'\u001b[0m\u001b[1;33m,\u001b[0m\u001b[1;34m'바'\u001b[0m\u001b[1;33m)\u001b[0m\u001b[1;33m\u001b[0m\u001b[1;33m\u001b[0m\u001b[0m\n\u001b[0m",
      "\u001b[1;32m~\\AppData\\Local\\Temp\\ipykernel_13720\\1458520055.py\u001b[0m in \u001b[0;36mrsp\u001b[1;34m(mine, yours)\u001b[0m\n\u001b[0;32m      4\u001b[0m         \u001b[1;32mraise\u001b[0m \u001b[0mValueError\u001b[0m\u001b[1;33m\u001b[0m\u001b[1;33m\u001b[0m\u001b[0m\n\u001b[0;32m      5\u001b[0m     \u001b[1;32mif\u001b[0m \u001b[0myours\u001b[0m \u001b[1;32mnot\u001b[0m \u001b[1;32min\u001b[0m \u001b[0mallowed\u001b[0m \u001b[1;33m:\u001b[0m\u001b[1;33m\u001b[0m\u001b[1;33m\u001b[0m\u001b[0m\n\u001b[1;32m----> 6\u001b[1;33m         \u001b[1;32mraise\u001b[0m \u001b[0mValueError\u001b[0m\u001b[1;33m\u001b[0m\u001b[1;33m\u001b[0m\u001b[0m\n\u001b[0m\u001b[0;32m      7\u001b[0m \u001b[1;33m\u001b[0m\u001b[0m\n\u001b[0;32m      8\u001b[0m \u001b[0mrsp\u001b[0m\u001b[1;33m(\u001b[0m\u001b[1;34m'가위'\u001b[0m\u001b[1;33m,\u001b[0m\u001b[1;34m'바'\u001b[0m\u001b[1;33m)\u001b[0m\u001b[1;33m\u001b[0m\u001b[1;33m\u001b[0m\u001b[0m\n",
      "\u001b[1;31mValueError\u001b[0m: "
     ]
    }
   ],
   "source": [
    "def rsp(mine, yours) :\n",
    "    allowed = ['가위', '바위', '보']\n",
    "    if mine not in allowed :\n",
    "        raise ValueError\n",
    "    if yours not in allowed :\n",
    "        raise ValueError\n",
    "    \n",
    "rsp('가위','바')"
   ]
  },
  {
   "cell_type": "code",
   "execution_count": null,
   "metadata": {},
   "outputs": [
    {
     "name": "stdout",
     "output_type": "stream",
     "text": [
      "잘못된 값을 넣은 것 같습니다.\n"
     ]
    }
   ],
   "source": [
    "try :\n",
    "    rsp('가위', '바')\n",
    "except ValueError :\n",
    "    print('잘못된 값을 넣은 것 같습니다.')"
   ]
  },
  {
   "cell_type": "code",
   "execution_count": null,
   "metadata": {},
   "outputs": [
    {
     "name": "stdout",
     "output_type": "stream",
     "text": [
      "1반 에 190을 넘는 학생이 있습니다!\n",
      "2반 에 190을 넘는 학생이 있습니다!\n"
     ]
    }
   ],
   "source": [
    "school = {'1반' : [172, 185, 198, 177, 165, 199], '2반' : [165, 177, 167, 180, 191]}\n",
    "\n",
    "for class_number , students in school.items() :\n",
    "    for student in students :\n",
    "        if student > 190 :\n",
    "            print(class_number, '에 190을 넘는 학생이 있습니다!')\n",
    "            break"
   ]
  },
  {
   "cell_type": "code",
   "execution_count": null,
   "metadata": {},
   "outputs": [
    {
     "name": "stdout",
     "output_type": "stream",
     "text": [
      "1반 에 190을 넘는 학생이 있습니다!\n"
     ]
    },
    {
     "ename": "StopIteration",
     "evalue": "",
     "output_type": "error",
     "traceback": [
      "\u001b[1;31m---------------------------------------------------------------------------\u001b[0m",
      "\u001b[1;31mStopIteration\u001b[0m                             Traceback (most recent call last)",
      "\u001b[1;32m~\\AppData\\Local\\Temp\\ipykernel_13720\\3526579216.py\u001b[0m in \u001b[0;36m<module>\u001b[1;34m\u001b[0m\n\u001b[0;32m      5\u001b[0m         \u001b[1;32mif\u001b[0m \u001b[0mstudent\u001b[0m \u001b[1;33m>\u001b[0m \u001b[1;36m190\u001b[0m \u001b[1;33m:\u001b[0m\u001b[1;33m\u001b[0m\u001b[1;33m\u001b[0m\u001b[0m\n\u001b[0;32m      6\u001b[0m             \u001b[0mprint\u001b[0m\u001b[1;33m(\u001b[0m\u001b[0mclass_number\u001b[0m\u001b[1;33m,\u001b[0m \u001b[1;34m'에 190을 넘는 학생이 있습니다!'\u001b[0m\u001b[1;33m)\u001b[0m\u001b[1;33m\u001b[0m\u001b[1;33m\u001b[0m\u001b[0m\n\u001b[1;32m----> 7\u001b[1;33m             \u001b[1;32mraise\u001b[0m \u001b[0mStopIteration\u001b[0m\u001b[1;33m\u001b[0m\u001b[1;33m\u001b[0m\u001b[0m\n\u001b[0m",
      "\u001b[1;31mStopIteration\u001b[0m: "
     ]
    }
   ],
   "source": [
    "school = {'1반' : [172, 185, 198, 177, 165, 199], '2반' : [165, 177, 167, 180, 191]}\n",
    "\n",
    "for class_number , students in school.items() :\n",
    "    for student in students :\n",
    "        if student > 190 :\n",
    "            print(class_number, '에 190을 넘는 학생이 있습니다!')\n",
    "            raise StopIteration"
   ]
  },
  {
   "cell_type": "code",
   "execution_count": null,
   "metadata": {},
   "outputs": [
    {
     "name": "stdout",
     "output_type": "stream",
     "text": [
      "1반 에 190을 넘는 학생이 있습니다!\n",
      "정상종료\n"
     ]
    }
   ],
   "source": [
    "school = {'1반' : [172, 185, 198, 177, 165, 199], '2반' : [165, 177, 167, 180, 191]}\n",
    "try :\n",
    "    for class_number , students in school.items() :\n",
    "        for student in students :\n",
    "            if student > 190 :\n",
    "                print(class_number, '에 190을 넘는 학생이 있습니다!')\n",
    "                raise StopIteration\n",
    "except StopIteration :\n",
    "    print('정상종료')"
   ]
  },
  {
   "attachments": {},
   "cell_type": "markdown",
   "metadata": {},
   "source": [
    "```\n",
    "try:\n",
    "    ....\n",
    "    raise 에러종류\n",
    "    ....\n",
    "exception 에러 종류\n",
    "    처리할 코드 \n",
    "```"
   ]
  },
  {
   "attachments": {},
   "cell_type": "markdown",
   "metadata": {},
   "source": [
    "### raise 실습(1)"
   ]
  },
  {
   "cell_type": "code",
   "execution_count": null,
   "metadata": {},
   "outputs": [
    {
     "name": "stdout",
     "output_type": "stream",
     "text": [
      "알파문구 : 800원\n",
      "다이소 : 500원\n"
     ]
    }
   ],
   "source": [
    "shops = {\n",
    "    '송일문방구' : {'가위':500, '크레파스':3000},\n",
    "    '알파문구' : {'풀' : 800, '도화지' : 300, 'A4용지' : 8000},\n",
    "    '다이소' : {'풀' : 500, '목공본드' : 2000, '화분' : 3000}\n",
    "}\n",
    "\n",
    "for shop, products in shops.items() :\n",
    "    for product, price in products.items() :\n",
    "        if product == '풀' :\n",
    "            print('{} : {}원'.format(shop, price))"
   ]
  },
  {
   "attachments": {},
   "cell_type": "markdown",
   "metadata": {},
   "source": [
    "### raise 실습(2)\n",
    "\n",
    "풀을 파는 가게를 발견하면 for문 전체를 즉시 종료하고 싶습니다. for 문을 **try/except**로 감싸고 print문 다음에 **raise StopIteration**을 추가해서 풀을 파는 가게를 하나만 출력하도록 만들어 보세요. **except**문에서는 **StopIteration**을 지정해 주어야 합니다.\n",
    "\n",
    "사용자는 여러가지 이유로 에러를 직접 발생시킬 수 있습니다. 그중 하나의 예로 중첩된 for 문에서 바로 종료하고 싶을 때 에러를 발생시키기도 합니다.\n",
    "아래의 예를 참고하여 문제를 해결해 보세요."
   ]
  },
  {
   "cell_type": "code",
   "execution_count": null,
   "metadata": {},
   "outputs": [
    {
     "name": "stdout",
     "output_type": "stream",
     "text": [
      "알파문구 : 800원\n"
     ]
    }
   ],
   "source": [
    "shops = {\n",
    "    '송일문방구' : {'가위':500, '크레파스':3000},\n",
    "    '알파문구' : {'풀' : 800, '도화지' : 300, 'A4용지' : 8000},\n",
    "    '다이소' : {'풀' : 500, '목공본드' : 2000, '화분' : 3000}\n",
    "}\n",
    "try : \n",
    "    for shop, products in shops.items() :\n",
    "        for product, price in products.items() :\n",
    "            if product == '풀' :\n",
    "                print('{} : {}원'.format(shop, price))\n",
    "                raise StopIteration\n",
    "except StopIteration :\n",
    "    pass"
   ]
  },
  {
   "attachments": {},
   "cell_type": "markdown",
   "metadata": {},
   "source": [
    "### 자료형"
   ]
  },
  {
   "cell_type": "code",
   "execution_count": null,
   "metadata": {},
   "outputs": [
    {
     "name": "stdout",
     "output_type": "stream",
     "text": [
      "<class 'str'>\n"
     ]
    }
   ],
   "source": [
    "s = \"Hello world\"\n",
    "print(type(s))"
   ]
  },
  {
   "cell_type": "code",
   "execution_count": null,
   "metadata": {},
   "outputs": [
    {
     "name": "stdout",
     "output_type": "stream",
     "text": [
      "<class 'float'>\n"
     ]
    }
   ],
   "source": [
    "f = 3.14\n",
    "print(type(f))"
   ]
  },
  {
   "cell_type": "code",
   "execution_count": null,
   "metadata": {},
   "outputs": [
    {
     "name": "stdout",
     "output_type": "stream",
     "text": [
      "<class 'int'>\n"
     ]
    }
   ],
   "source": [
    "i = 42\n",
    "print(type(i))"
   ]
  },
  {
   "cell_type": "code",
   "execution_count": null,
   "metadata": {},
   "outputs": [
    {
     "name": "stdout",
     "output_type": "stream",
     "text": [
      "<class 'float'>\n"
     ]
    }
   ],
   "source": [
    "print(type(42.0))\n"
   ]
  },
  {
   "cell_type": "code",
   "execution_count": null,
   "metadata": {},
   "outputs": [
    {
     "data": {
      "text/plain": [
       "True"
      ]
     },
     "execution_count": 36,
     "metadata": {},
     "output_type": "execute_result"
    }
   ],
   "source": [
    "isinstance(42, int)"
   ]
  },
  {
   "cell_type": "code",
   "execution_count": null,
   "metadata": {},
   "outputs": [
    {
     "data": {
      "text/plain": [
       "False"
      ]
     },
     "execution_count": 37,
     "metadata": {},
     "output_type": "execute_result"
    }
   ],
   "source": [
    "isinstance(42, float)"
   ]
  },
  {
   "cell_type": "code",
   "execution_count": null,
   "metadata": {},
   "outputs": [
    {
     "name": "stdout",
     "output_type": "stream",
     "text": [
      "<class 'list'>\n",
      "<class 'dict'>\n",
      "<class 'tuple'>\n",
      "<class 'int'>\n",
      "<class 'float'>\n"
     ]
    }
   ],
   "source": [
    "my_list = [1, 2, 3]\n",
    "my_dict = {\"풀\": 800, \"색연필\": 3000}\n",
    "my_tuple = (1, 2, 3)\n",
    "number = 10\n",
    "real_number = 3.141592\n",
    "\n",
    "print(type(my_list))\n",
    "print(type(my_dict))\n",
    "print(type(my_tuple))\n",
    "print(type(number))\n",
    "print(type(real_number))"
   ]
  },
  {
   "attachments": {},
   "cell_type": "markdown",
   "metadata": {},
   "source": [
    "### 리스트 컴프리헨션"
   ]
  },
  {
   "cell_type": "code",
   "execution_count": null,
   "metadata": {},
   "outputs": [],
   "source": [
    "# 사용법\n",
    "# [출력표현식 for 요소 in 입력seqeunce [if 조건식]]\n",
    "\n",
    "# for 요소 in 입력sequence :\n",
    "#     출력표현식\n",
    "#     if 조건식\n"
   ]
  },
  {
   "cell_type": "code",
   "execution_count": null,
   "metadata": {},
   "outputs": [
    {
     "data": {
      "text/plain": [
       "[1, 4, 9]"
      ]
     },
     "execution_count": 40,
     "metadata": {},
     "output_type": "execute_result"
    }
   ],
   "source": [
    "oldlist = [1, 2, 'A', False, 3]\n",
    "\n",
    "newlist = [i*i for i in oldlist if type(i) == int]\n",
    "newlist"
   ]
  },
  {
   "cell_type": "code",
   "execution_count": null,
   "metadata": {},
   "outputs": [
    {
     "name": "stdout",
     "output_type": "stream",
     "text": [
      "[1, 2, 3, 4, 5, 6, 7, 8, 9, 10]\n"
     ]
    }
   ],
   "source": [
    "# 1부터 10까지 정수를 저장\n",
    "num_list = [num for num in range(1, 11)]\n",
    "print(num_list)"
   ]
  },
  {
   "cell_type": "code",
   "execution_count": null,
   "metadata": {},
   "outputs": [
    {
     "name": "stdout",
     "output_type": "stream",
     "text": [
      "[1, 3, 5, 7, 9]\n"
     ]
    }
   ],
   "source": [
    "# 조건식을 추가하기\n",
    "# 홀수만 출력\n",
    "num_list = [num for num in range(1, 11) if num%2 == 1]\n",
    "print(num_list)"
   ]
  },
  {
   "cell_type": "code",
   "execution_count": null,
   "metadata": {},
   "outputs": [
    {
     "name": "stdout",
     "output_type": "stream",
     "text": [
      "[['a', 1], ['a', 2], ['a', 3], ['b', 1], ['b', 2], ['b', 3], ['c', 1], ['c', 2], ['c', 3]]\n"
     ]
    }
   ],
   "source": [
    "# for 중첩문\n",
    "# 출력결과[['a',1],['a',2],['a',3],['b',1],['b',2],['b',3],['c',1],['c',2],['c',3]]\n",
    "a = 'abc'\n",
    "b = [1,2,3]\n",
    "c = [[i, j] for i in a for j in b]\n",
    "print(c)"
   ]
  },
  {
   "cell_type": "code",
   "execution_count": null,
   "metadata": {},
   "outputs": [
    {
     "name": "stdout",
     "output_type": "stream",
     "text": [
      "[1999, 1999, 100, 189, 100]\n",
      "150\n"
     ]
    }
   ],
   "source": [
    "price_list = [int(input('가격입력해주세요')) for i in range(5)]\n",
    "answer = min(price_list[:3]) + min(price_list[3:]) - 50\n",
    "print(price_list)\n",
    "print(answer)"
   ]
  },
  {
   "attachments": {},
   "cell_type": "markdown",
   "metadata": {},
   "source": [
    "### set comprehension"
   ]
  },
  {
   "cell_type": "code",
   "execution_count": null,
   "metadata": {},
   "outputs": [],
   "source": [
    "# set\n",
    "# {출력표현식 for 요소 in 입력sequence [if 조건식]}"
   ]
  },
  {
   "cell_type": "code",
   "execution_count": null,
   "metadata": {},
   "outputs": [
    {
     "data": {
      "text/plain": [
       "{1, 4, 9, 16}"
      ]
     },
     "execution_count": 52,
     "metadata": {},
     "output_type": "execute_result"
    }
   ],
   "source": [
    "oldlist = [1, 1, 2, 3, 3, 4]\n",
    "\n",
    "newlist = {i*i for i in oldlist}\n",
    "newlist"
   ]
  },
  {
   "attachments": {},
   "cell_type": "markdown",
   "metadata": {},
   "source": [
    "### dict comprehension"
   ]
  },
  {
   "cell_type": "code",
   "execution_count": null,
   "metadata": {},
   "outputs": [
    {
     "data": {
      "text/plain": [
       "{'박진수': 1, '강만진': 2, '홍수정': 3}"
      ]
     },
     "execution_count": 53,
     "metadata": {},
     "output_type": "execute_result"
    }
   ],
   "source": [
    "id_name = {1: '박진수', 2:'강만진', 3:'홍수정'}\n",
    "\n",
    "name_id = {val : key for key, val in id_name.items()}\n",
    "name_id"
   ]
  },
  {
   "attachments": {},
   "cell_type": "markdown",
   "metadata": {},
   "source": [
    "### 인스턴스의 이해 실습(1)"
   ]
  },
  {
   "attachments": {},
   "cell_type": "markdown",
   "metadata": {},
   "source": [
    "- 객체(object, instance) : 어떤 속성과 행동을 가지고 있는 데이터\n",
    "    - a = list() -> instance\n",
    "    - 속성 : 변수\n",
    "    - 행동 : 함수"
   ]
  },
  {
   "cell_type": "code",
   "execution_count": null,
   "metadata": {},
   "outputs": [
    {
     "name": "stdout",
     "output_type": "stream",
     "text": [
      "당연히 list1과 list1은 같은 인스턴스 입니다.\n",
      "list1과 list2의 값은 같습니다.\n",
      "하지만 list1과 list2는 다른 인스턴스입니다.\n"
     ]
    }
   ],
   "source": [
    "list1 = [1,2,3]\n",
    "list2 = [1,2,3]\n",
    "\n",
    "if list1 is list1 :\n",
    "    print('당연히 list1과 list1은 같은 인스턴스 입니다.')\n",
    "    \n",
    "if list1 == list2 :\n",
    "    print('list1과 list2의 값은 같습니다.')\n",
    "    \n",
    "    if list1 is list2 :\n",
    "        print('그리고 list1과 list2는 같은 인스턴스입니다.')\n",
    "    \n",
    "    else :\n",
    "        print('하지만 list1과 list2는 다른 인스턴스입니다.')\n",
    "    "
   ]
  },
  {
   "cell_type": "code",
   "execution_count": 2,
   "metadata": {},
   "outputs": [
    {
     "name": "stdout",
     "output_type": "stream",
     "text": [
      "list1과 list2는 둘 다 list클래스 입니다.\n"
     ]
    }
   ],
   "source": [
    "# None자리에 알맞은 변수이름을 쓰고 셀을 실행시켜주세요~\n",
    "list1 = list(range(10))\n",
    "list2 = [1, 2, 3]\n",
    "\n",
    "if isinstance(list1, list) and isinstance(list2, list):\n",
    "    print(\"list1과 list2는 둘 다 list클래스 입니다.\")"
   ]
  },
  {
   "attachments": {},
   "cell_type": "markdown",
   "metadata": {},
   "source": [
    "### 클래스 만들기"
   ]
  },
  {
   "cell_type": "code",
   "execution_count": 8,
   "metadata": {},
   "outputs": [],
   "source": [
    "class Human() :\n",
    "    '''사람'''\n",
    "\n",
    "person1 = Human()\n",
    "person2 = Human()"
   ]
  },
  {
   "cell_type": "code",
   "execution_count": 9,
   "metadata": {},
   "outputs": [],
   "source": [
    "person1.language = '한국어'\n",
    "person2.language = 'English'"
   ]
  },
  {
   "cell_type": "code",
   "execution_count": 10,
   "metadata": {},
   "outputs": [],
   "source": [
    "person1.name = '서울시민'\n",
    "person2.name = '인도인'"
   ]
  },
  {
   "cell_type": "code",
   "execution_count": 11,
   "metadata": {},
   "outputs": [],
   "source": [
    "def speak(person) :\n",
    "    print('{}이 {}로 말을 합니다.'.format(person.name, person.language))"
   ]
  },
  {
   "cell_type": "code",
   "execution_count": 12,
   "metadata": {},
   "outputs": [
    {
     "name": "stdout",
     "output_type": "stream",
     "text": [
      "서울시민이 한국어로 말을 합니다.\n",
      "인도인이 English로 말을 합니다.\n"
     ]
    }
   ],
   "source": [
    "Human.speak = speak\n",
    "\n",
    "person1.speak()\n",
    "person2.speak()"
   ]
  },
  {
   "cell_type": "code",
   "execution_count": 14,
   "metadata": {},
   "outputs": [],
   "source": [
    "person3 = Human()"
   ]
  },
  {
   "cell_type": "code",
   "execution_count": 16,
   "metadata": {},
   "outputs": [],
   "source": [
    "class Car():\n",
    "    '''자동차'''\n",
    "\n",
    "taxi = Car()\n",
    "\n",
    "# taxi.name에 \"택시\"라는 값을 저장하세요.\n",
    "taxi.name = '택시'"
   ]
  },
  {
   "cell_type": "code",
   "execution_count": 35,
   "metadata": {},
   "outputs": [],
   "source": [
    "class Human() :\n",
    "    '''인간'''\n",
    "\n",
    "person = Human()\n",
    "person.name = '함수'\n",
    "person.weight = 60.5"
   ]
  },
  {
   "cell_type": "code",
   "execution_count": 36,
   "metadata": {},
   "outputs": [],
   "source": [
    "def create_human(name, weight) :\n",
    "    person = Human()\n",
    "    person.name = name\n",
    "    person.weight = weight\n",
    "    return person\n",
    "\n",
    "Human.create = create_human"
   ]
  },
  {
   "cell_type": "code",
   "execution_count": 37,
   "metadata": {},
   "outputs": [],
   "source": [
    "person = create_human('철수', 60.5)\n",
    "person = Human.create('철수', 60.5)"
   ]
  },
  {
   "cell_type": "code",
   "execution_count": 38,
   "metadata": {},
   "outputs": [],
   "source": [
    "def eat(person) :\n",
    "    person.weight += 0.1\n",
    "    print(\"{}가 먹어서 {}kg이 되었습니다.\".format(person.name, person.weight))\n",
    "    \n",
    "def walk(person) :\n",
    "    person.weight -= 0.1\n",
    "    print('{}가 걸어서 {}kg이 되었습니다.'.format(person.name, person.weight))\n",
    "    \n",
    "Human.eat = eat\n",
    "Human.walk = walk"
   ]
  },
  {
   "cell_type": "code",
   "execution_count": 40,
   "metadata": {},
   "outputs": [
    {
     "name": "stdout",
     "output_type": "stream",
     "text": [
      "철수가 먹어서 60.6kg이 되었습니다.\n",
      "철수가 걸어서 60.5kg이 되었습니다.\n",
      "철수가 먹어서 60.6kg이 되었습니다.\n",
      "철수가 먹어서 60.7kg이 되었습니다.\n",
      "철수가 걸어서 60.6kg이 되었습니다.\n",
      "철수가 먹어서 60.7kg이 되었습니다.\n",
      "철수가 먹어서 60.800000000000004kg이 되었습니다.\n",
      "철수가 먹어서 60.900000000000006kg이 되었습니다.\n",
      "철수가 걸어서 60.800000000000004kg이 되었습니다.\n",
      "철수가 걸어서 60.7kg이 되었습니다.\n"
     ]
    }
   ],
   "source": [
    "person.eat()\n",
    "person.walk()\n",
    "person.eat()\n",
    "person.eat()\n",
    "person.walk()\n",
    "person.eat()\n",
    "person.eat()\n",
    "person.eat()\n",
    "person.walk()\n",
    "person.walk() # 인스턴스에서 함수를 호출하는 것을 메소드라고 부릅니다.\n",
    "\n",
    "# 클래스는 현실의 개념을 표현하는 것을 모델링이라 부른다."
   ]
  },
  {
   "cell_type": "code",
   "execution_count": 51,
   "metadata": {},
   "outputs": [],
   "source": [
    "class Human() :\n",
    "    \n",
    "    def create(name, weight) :\n",
    "        person = Human()\n",
    "        person.name = name\n",
    "        person.weight = weight\n",
    "        return person\n",
    "    \n",
    "    def eat(person) :\n",
    "        person.weight += 0.1\n",
    "        print(\"{}가 먹어서 {}kg이 되었습니다.\".format(person.name, person.weight))\n",
    "    \n",
    "    def walk(person) :\n",
    "        person.weight -= 0.1\n",
    "        print('{}가 걸어서 {}kg이 되었습니다.'.format(person.name, person.weight))\n",
    "        \n",
    "# 번거롭게 함수를 만들었다가 나중에 별도 저장하는 작업을 하지 않아도 된다."
   ]
  },
  {
   "cell_type": "code",
   "execution_count": 43,
   "metadata": {},
   "outputs": [],
   "source": [
    "person = Human.create('철수', 60.5)"
   ]
  },
  {
   "cell_type": "code",
   "execution_count": 44,
   "metadata": {},
   "outputs": [
    {
     "name": "stdout",
     "output_type": "stream",
     "text": [
      "철수가 먹어서 60.6kg이 되었습니다.\n",
      "철수가 걸어서 60.5kg이 되었습니다.\n"
     ]
    }
   ],
   "source": [
    "person.eat()\n",
    "person.walk()"
   ]
  },
  {
   "cell_type": "code",
   "execution_count": 47,
   "metadata": {},
   "outputs": [
    {
     "name": "stdout",
     "output_type": "stream",
     "text": [
      "길동(이)가 먹어서 70.1kg이 되었습니다.\n"
     ]
    }
   ],
   "source": [
    "class Human() :\n",
    "    \n",
    "    def create(name, weight) :\n",
    "        person = Human()\n",
    "        person.name = name\n",
    "        person.weight = weight\n",
    "        return person\n",
    "    \n",
    "    def eat(self) :\n",
    "        self.weight += 0.1\n",
    "        print(\"{}(이)가 먹어서 {}kg이 되었습니다.\".format(self.name, self.weight))\n",
    "    \n",
    "    def walk(self) :\n",
    "        self.weight -= 0.1\n",
    "        print('{}(이)가 걸어서 {}kg이 되었습니다.'.format(self.name, self.weight))\n",
    "\n",
    "person = Human.create('길동', 70)        \n",
    "person.eat()"
   ]
  },
  {
   "cell_type": "code",
   "execution_count": 53,
   "metadata": {},
   "outputs": [
    {
     "name": "stdout",
     "output_type": "stream",
     "text": [
      "안녕하세요!\n"
     ]
    }
   ],
   "source": [
    "class Human(): # 파이썬에서 보통 메소드의 첫번째 인자는 self를 쓴다!\n",
    "    ''' 인간 ''' # person을 다 self로 바꿔보자! 매개변수 뿐만 아니라 사용하는 변수도 다 self로 바꿔보자!\n",
    "    def create(name, weight): ## creat는 예외로 남겨주자\n",
    "        person = Human()\n",
    "        person.name = name\n",
    "        person.weight = weight\n",
    "        return person\n",
    "    \n",
    "    def eat(self):\n",
    "        self.weight += 0.1\n",
    "        print(\"{}가 먹어서 {}kg이 되었습니다.\".format(self.name, self.weight))\n",
    "    \n",
    "    def walk(self):\n",
    "        self.weight -=0.1\n",
    "        print(\"{}가 걸어서 {}kg이 되었습니다.\".format(self.name, self.weight))\n",
    "\n",
    "    def speak(self, message):\n",
    "        print(message)\n",
    "\n",
    "person = Human.create('철수', 60.5)\n",
    "person.speak('안녕하세요!')"
   ]
  },
  {
   "cell_type": "code",
   "execution_count": 55,
   "metadata": {},
   "outputs": [
    {
     "name": "stdout",
     "output_type": "stream",
     "text": [
      "철수가 먹어서 70.1kg이 되었습니다.\n",
      "안녕하세요!\n"
     ]
    }
   ],
   "source": [
    "class Human(): # 파이썬에서 보통 메소드의 첫번째 인자는 self를 쓴다!\n",
    "    ''' 인간 ''' # person을 다 self로 바꿔보자! 매개변수 뿐만 아니라 사용하는 변수도 다 self로 바꿔보자!\n",
    "    def __init__(self,name, weight): ## creat는 예외로 남겨주자\n",
    "        self.name = name\n",
    "        self.weight = weight\n",
    "    \n",
    "    def eat(self):\n",
    "        self.weight += 0.1\n",
    "        print(\"{}가 먹어서 {}kg이 되었습니다.\".format(self.name, self.weight))\n",
    "    \n",
    "    def walk(self):\n",
    "        self.weight -=0.1\n",
    "        print(\"{}가 걸어서 {}kg이 되었습니다.\".format(self.name, self.weight))\n",
    "\n",
    "    def speak(self, message):\n",
    "        print(message)\n",
    "\n",
    "person = Human('철수',70)\n",
    "person.eat()\n",
    "person.speak('안녕하세요!')"
   ]
  },
  {
   "attachments": {},
   "cell_type": "markdown",
   "metadata": {},
   "source": [
    "### 메소드 이해하기 실습"
   ]
  },
  {
   "cell_type": "code",
   "execution_count": 1,
   "metadata": {},
   "outputs": [
    {
     "name": "stdout",
     "output_type": "stream",
     "text": [
      "택시가 달립니다.\n"
     ]
    }
   ],
   "source": [
    "class Car() :\n",
    "    def __init__(self, name) :\n",
    "        self.name = name\n",
    "    \n",
    "    def run(self) :\n",
    "        print('{}가 달립니다.'.format(self.name))\n",
    "\n",
    "taxi = Car('택시')\n",
    "taxi.run()"
   ]
  },
  {
   "cell_type": "code",
   "execution_count": 14,
   "metadata": {},
   "outputs": [],
   "source": [
    "class Human():\n",
    "    ''' 인간 ''' \n",
    "    def __init__(self, name, weight) :\n",
    "        '''초기화 함수'''\n",
    "        self.name = name\n",
    "        self.weight = weight\n",
    "        # print('__init__실행')\n",
    "        # print('이름은 {}, 몸무게는 {}'.format(name, weight))\n",
    "    \n",
    "    def __str__(self) :\n",
    "        '''문자열 함수'''\n",
    "        return \"{}(몸무게 {}kg)\".format(self.name, self.weight)\n",
    "    \n",
    "    def eat(self):\n",
    "        self.weight += 0.1\n",
    "        print(\"{}가 먹어서 {}kg이 되었습니다.\".format(self.name, self.weight))\n",
    "    \n",
    "    def walk(self):\n",
    "        self.weight -=0.1\n",
    "        print(\"{}가 걸어서 {}kg이 되었습니다.\".format(self.name, self.weight))\n",
    "\n",
    "    def speak(self, message):\n",
    "        print(message)\n",
    "\n"
   ]
  },
  {
   "cell_type": "code",
   "execution_count": 15,
   "metadata": {},
   "outputs": [
    {
     "name": "stdout",
     "output_type": "stream",
     "text": [
      "사람(몸무게 60.5kg)\n"
     ]
    }
   ],
   "source": [
    "person = Human('사람', '60.5')\n",
    "print(person)"
   ]
  },
  {
   "attachments": {},
   "cell_type": "markdown",
   "metadata": {},
   "source": [
    "### 특수한 메소드 실습"
   ]
  },
  {
   "cell_type": "code",
   "execution_count": 17,
   "metadata": {},
   "outputs": [
    {
     "name": "stdout",
     "output_type": "stream",
     "text": [
      "사람가 걸어서 69.9kg이 되었습니다.\n",
      "사람가 걸어서 69.80000000000001kg이 되었습니다.\n",
      "사람가 먹어서 69.9kg이 되었습니다.\n",
      "사람 (몸무게 69.9kg)\n"
     ]
    }
   ],
   "source": [
    "## 빈칸을 작성하세요~~\n",
    "class Human():\n",
    "    \n",
    "    def __init__(self, name, weight):\n",
    "        self.name = name\n",
    "        self.weight = weight\n",
    "    \n",
    "    def __str__(self):\n",
    "        return \"{} (몸무게 {}kg)\".format(self.name, self.weight)\n",
    "    \n",
    "    def eat(self):\n",
    "        self.weight += 0.1\n",
    "        print(\"{}가 먹어서 {}kg이 되었습니다.\".format(self.name, self.weight))\n",
    "    \n",
    "    def walk(self):\n",
    "        self.weight -= 0.1\n",
    "        print(\"{}가 걸어서 {}kg이 되었습니다.\".format(self.name, self.weight))\n",
    "\n",
    "# 아래에서 person을 이름과 몸무게를 가지는 Human클래스의 인스턴스로 만들어보세요.\n",
    "person = Human('사람', 70)\n",
    "person.walk()\n",
    "person.walk()\n",
    "person.eat()\n",
    "\n",
    "print(person)"
   ]
  },
  {
   "attachments": {},
   "cell_type": "markdown",
   "metadata": {},
   "source": [
    "### class로 notebook 만들어보기"
   ]
  },
  {
   "cell_type": "code",
   "execution_count": 165,
   "metadata": {},
   "outputs": [],
   "source": [
    "# 속성 : 내용\n",
    "# 함수 : content삽입, 내용제거\n",
    "class Note() :\n",
    "    \n",
    "    def __init__(self, name, content='') :\n",
    "        self.name = name\n",
    "        self.content = content\n",
    "        \n",
    "    def writing(self, message) :\n",
    "        print(\"{}노트에 {}을/를 적었습니다.\".format(self.name, message))\n",
    "        self.content += ' ' + message\n",
    "        self.content = self.content.strip()\n",
    "    \n",
    "    def delete(self, message) :\n",
    "        if message in self.content : \n",
    "            self.content = self.content.replace(message,'')\n",
    "            self.content = self.content.strip()\n",
    "            print(\"{}노트에 {}을/를 지웠습니다.\".format(self.name, message))\n",
    "        else :\n",
    "            print('노트에 {}내용이 없습니다.'.format(message))\n",
    "        "
   ]
  },
  {
   "cell_type": "code",
   "execution_count": 166,
   "metadata": {},
   "outputs": [],
   "source": [
    "mynote = Note('선형대수')"
   ]
  },
  {
   "cell_type": "code",
   "execution_count": 167,
   "metadata": {},
   "outputs": [
    {
     "name": "stdout",
     "output_type": "stream",
     "text": [
      "선형대수노트에 행렬을/를 적었습니다.\n"
     ]
    }
   ],
   "source": [
    "mynote.writing('행렬')"
   ]
  },
  {
   "cell_type": "code",
   "execution_count": 168,
   "metadata": {},
   "outputs": [
    {
     "data": {
      "text/plain": [
       "'행렬'"
      ]
     },
     "execution_count": 168,
     "metadata": {},
     "output_type": "execute_result"
    }
   ],
   "source": [
    "mynote.content"
   ]
  },
  {
   "cell_type": "code",
   "execution_count": 169,
   "metadata": {},
   "outputs": [
    {
     "name": "stdout",
     "output_type": "stream",
     "text": [
      "노트에 수학내용이 없습니다.\n"
     ]
    }
   ],
   "source": [
    "mynote.delete('수학')"
   ]
  },
  {
   "cell_type": "code",
   "execution_count": 170,
   "metadata": {},
   "outputs": [
    {
     "data": {
      "text/plain": [
       "'행렬'"
      ]
     },
     "execution_count": 170,
     "metadata": {},
     "output_type": "execute_result"
    }
   ],
   "source": [
    "mynote.content"
   ]
  },
  {
   "cell_type": "code",
   "execution_count": 171,
   "metadata": {},
   "outputs": [
    {
     "name": "stdout",
     "output_type": "stream",
     "text": [
      "선형대수노트에 벡터을/를 적었습니다.\n"
     ]
    }
   ],
   "source": [
    "mynote.writing(\"벡터\")"
   ]
  },
  {
   "cell_type": "code",
   "execution_count": 172,
   "metadata": {},
   "outputs": [
    {
     "data": {
      "text/plain": [
       "'행렬 벡터'"
      ]
     },
     "execution_count": 172,
     "metadata": {},
     "output_type": "execute_result"
    }
   ],
   "source": [
    "mynote.content"
   ]
  },
  {
   "cell_type": "code",
   "execution_count": 173,
   "metadata": {},
   "outputs": [
    {
     "name": "stdout",
     "output_type": "stream",
     "text": [
      "선형대수노트에 행렬을/를 지웠습니다.\n"
     ]
    }
   ],
   "source": [
    "mynote.delete('행렬')"
   ]
  },
  {
   "cell_type": "code",
   "execution_count": 174,
   "metadata": {},
   "outputs": [
    {
     "data": {
      "text/plain": [
       "'벡터'"
      ]
     },
     "execution_count": 174,
     "metadata": {},
     "output_type": "execute_result"
    }
   ],
   "source": [
    "mynote.content"
   ]
  },
  {
   "cell_type": "code",
   "execution_count": 32,
   "metadata": {},
   "outputs": [],
   "source": [
    "# 속성 : 내용\n",
    "# 함수 : content삽입, 내용제거\n",
    "class Note() :\n",
    "    \n",
    "    def __init__(self, name, content='', page=0, page_list = []) :\n",
    "        self.name = name\n",
    "        self.content = content\n",
    "        self.page = page\n",
    "        self.page_list = page_list.copy()\n",
    "        \n",
    "    def writing(self, message) :\n",
    "        print(\"{}노트에 {}을/를 적었습니다.\".format(self.name, message))\n",
    "        self.content += ' ' + message\n",
    "        self.content = self.content.strip()\n",
    "    \n",
    "    def delete(self, message) :\n",
    "        if message in self.content : \n",
    "            self.content = self.content.replace(message,'')\n",
    "            self.content = self.content.strip()\n",
    "            print(\"{}노트에 {}을/를 지웠습니다.\".format(self.name, message))\n",
    "        else :\n",
    "            print('노트에 {}내용이 없습니다.'.format(message))\n",
    "\n",
    "\n",
    "#속성 : page\n",
    "# 함수 : 노트가 추가되면 페이지 제한(300)이 걸리는지 확인 후 페이지를 추가\n",
    "class Notebook(Note) :\n",
    "        \n",
    "    def add_page(self) :\n",
    "        if self.page > 300 :\n",
    "            print('노트를 다썼습니다!')\n",
    "        \n",
    "        else : \n",
    "            self.page += 1\n",
    "            self.page_list.append(self.content)    \n",
    "            print('1페이지를 추가합니다. 현재 페이지 수는 {}페이지 입니다.'.format(self.page))\n",
    "            print('현재 페이지의 내용은 {}입니다.'.format(self.page_list[self.page-1]))\n",
    "            self.content = ''\n",
    "        \n",
    "        "
   ]
  },
  {
   "cell_type": "code",
   "execution_count": 42,
   "metadata": {},
   "outputs": [],
   "source": [
    "mynotebook = Notebook('수학')"
   ]
  },
  {
   "cell_type": "code",
   "execution_count": 43,
   "metadata": {},
   "outputs": [
    {
     "name": "stdout",
     "output_type": "stream",
     "text": [
      "수학노트에 선형대수을/를 적었습니다.\n"
     ]
    }
   ],
   "source": [
    "mynotebook.writing('선형대수')"
   ]
  },
  {
   "cell_type": "code",
   "execution_count": 44,
   "metadata": {},
   "outputs": [
    {
     "data": {
      "text/plain": [
       "'선형대수'"
      ]
     },
     "execution_count": 44,
     "metadata": {},
     "output_type": "execute_result"
    }
   ],
   "source": [
    "mynotebook.content"
   ]
  },
  {
   "cell_type": "code",
   "execution_count": 45,
   "metadata": {},
   "outputs": [
    {
     "name": "stdout",
     "output_type": "stream",
     "text": [
      "1페이지를 추가합니다. 현재 페이지 수는 1페이지 입니다.\n",
      "현재 페이지의 내용은 선형대수입니다.\n"
     ]
    }
   ],
   "source": [
    "mynotebook.add_page()"
   ]
  },
  {
   "cell_type": "code",
   "execution_count": 46,
   "metadata": {},
   "outputs": [
    {
     "name": "stdout",
     "output_type": "stream",
     "text": [
      "수학노트에 미적분학을/를 적었습니다.\n"
     ]
    }
   ],
   "source": [
    "mynotebook.writing('미적분학')"
   ]
  },
  {
   "cell_type": "code",
   "execution_count": 47,
   "metadata": {},
   "outputs": [
    {
     "name": "stdout",
     "output_type": "stream",
     "text": [
      "수학노트에 미분 적분을/를 적었습니다.\n"
     ]
    }
   ],
   "source": [
    "mynotebook.writing('미분 적분')"
   ]
  },
  {
   "cell_type": "code",
   "execution_count": 48,
   "metadata": {},
   "outputs": [
    {
     "data": {
      "text/plain": [
       "'미적분학 미분 적분'"
      ]
     },
     "execution_count": 48,
     "metadata": {},
     "output_type": "execute_result"
    }
   ],
   "source": [
    "mynotebook.content"
   ]
  },
  {
   "cell_type": "code",
   "execution_count": 49,
   "metadata": {},
   "outputs": [
    {
     "name": "stdout",
     "output_type": "stream",
     "text": [
      "1페이지를 추가합니다. 현재 페이지 수는 2페이지 입니다.\n",
      "현재 페이지의 내용은 미적분학 미분 적분입니다.\n"
     ]
    }
   ],
   "source": [
    "mynotebook.add_page()"
   ]
  },
  {
   "cell_type": "code",
   "execution_count": 50,
   "metadata": {},
   "outputs": [
    {
     "data": {
      "text/plain": [
       "['선형대수', '미적분학 미분 적분']"
      ]
     },
     "execution_count": 50,
     "metadata": {},
     "output_type": "execute_result"
    }
   ],
   "source": [
    "mynotebook.page_list"
   ]
  },
  {
   "cell_type": "code",
   "execution_count": 117,
   "metadata": {},
   "outputs": [],
   "source": [
    "# 속성 : 내용\n",
    "# 함수 : content삽입, 내용제거\n",
    "class Note() :\n",
    "    \n",
    "    def __init__(self, name, content='', page=0, page_dict = {}) :\n",
    "        self.name = name\n",
    "        self.content = content\n",
    "        self.page = page\n",
    "        self.page_dict = page_dict\n",
    "        \n",
    "    def writing(self, message) :\n",
    "        print(\"{}노트에 {}을/를 적었습니다.\".format(self.name, message))\n",
    "        self.content += ' ' + message\n",
    "        self.content = self.content.strip()\n",
    "    \n",
    "    def delete(self, message) :\n",
    "        if message in self.content : \n",
    "            self.content = self.content.replace(message,'')\n",
    "            self.content = self.content.strip()\n",
    "            print(\"{}노트에 {}을/를 지웠습니다.\".format(self.name, message))\n",
    "        else :\n",
    "            print('노트에 {}내용이 없습니다.'.format(message))\n",
    "\n",
    "\n",
    "#속성 : page\n",
    "# 함수 : 노트가 추가되면 페이지 제한(300)이 걸리는지 확인 후 페이지를 추가\n",
    "class Notebook(Note) :\n",
    "        \n",
    "    def add_page(self) :\n",
    "        if self.page > 300 :\n",
    "            print('노트를 다썼습니다!')\n",
    "        \n",
    "        else : \n",
    "            self.page += 1\n",
    "            self.page_dict[f'{self.page}페이지'] = self.content\n",
    "            print('1페이지를 추가합니다. 현재 페이지 수는 {}페이지 입니다.'.format(self.page))\n",
    "            print('현재 페이지의 내용은 {}입니다.'.format(self.page_dict[f'{self.page}페이지']))\n",
    "            self.content = ''\n",
    "        "
   ]
  },
  {
   "cell_type": "code",
   "execution_count": 124,
   "metadata": {},
   "outputs": [],
   "source": [
    "a = Notebook('수학')"
   ]
  },
  {
   "cell_type": "code",
   "execution_count": 125,
   "metadata": {},
   "outputs": [
    {
     "name": "stdout",
     "output_type": "stream",
     "text": [
      "수학노트에 선형대수을/를 적었습니다.\n"
     ]
    }
   ],
   "source": [
    "a.writing('선형대수')"
   ]
  },
  {
   "cell_type": "code",
   "execution_count": 126,
   "metadata": {},
   "outputs": [
    {
     "name": "stdout",
     "output_type": "stream",
     "text": [
      "1페이지를 추가합니다. 현재 페이지 수는 1페이지 입니다.\n",
      "현재 페이지의 내용은 선형대수입니다.\n"
     ]
    }
   ],
   "source": [
    "a.add_page()"
   ]
  },
  {
   "cell_type": "code",
   "execution_count": 127,
   "metadata": {},
   "outputs": [
    {
     "data": {
      "text/plain": [
       "{'1페이지': '선형대수', '2페이지': ''}"
      ]
     },
     "execution_count": 127,
     "metadata": {},
     "output_type": "execute_result"
    }
   ],
   "source": [
    "a.page_dict"
   ]
  },
  {
   "cell_type": "code",
   "execution_count": 128,
   "metadata": {},
   "outputs": [
    {
     "name": "stdout",
     "output_type": "stream",
     "text": [
      "1페이지를 추가합니다. 현재 페이지 수는 2페이지 입니다.\n",
      "현재 페이지의 내용은 입니다.\n"
     ]
    }
   ],
   "source": [
    "a.add_page()"
   ]
  },
  {
   "cell_type": "code",
   "execution_count": 129,
   "metadata": {},
   "outputs": [
    {
     "data": {
      "text/plain": [
       "{'1페이지': '선형대수', '2페이지': ''}"
      ]
     },
     "execution_count": 129,
     "metadata": {},
     "output_type": "execute_result"
    }
   ],
   "source": [
    "a.page_dict"
   ]
  },
  {
   "attachments": {},
   "cell_type": "markdown",
   "metadata": {},
   "source": [
    "### 강사님 note 풀이"
   ]
  },
  {
   "cell_type": "code",
   "execution_count": 136,
   "metadata": {},
   "outputs": [],
   "source": [
    "# 속성 : 내용\n",
    "# 함수 : content삽입, content 제거\n",
    "class Note():\n",
    "    \"\"\" [summary]\n",
    "        init : content가 들어온다면 content를 저장하는 note생성 \n",
    "                content가 없다면 그냥 빈 note 생성\n",
    "        write_content : 내용작성\n",
    "        remove_content : 내용 삭제\n",
    "        add : 내용 추가\n",
    "        str : note의 내용 출력\n",
    "    \"\"\"\n",
    "    def __init__(self, content = None):\n",
    "        '''초기 변수 정의'''\n",
    "        self.content = content\n",
    "\n",
    "    def write_content(self, content):\n",
    "        self.content = content\n",
    "        \n",
    "    def remove_content(self) :\n",
    "        self.content = ' '\n",
    "        \n",
    "    def __add__(self, other) :\n",
    "        return self.content + other.content\n",
    "    \n",
    "    def __str__(self) :\n",
    "        return self.content\n",
    "\n",
    "# 속성 : page\n",
    "# 함수 : 노트가 추가되면 페이지 제한(300)이 걸리는지 확인 후 페이지를 추가\n",
    "class Notebook():\n",
    "    \"\"\" [summary]\n",
    "        init : notebook의 page number\n",
    "        title : notebook의 제목\n",
    "        notes : notebook을 구성하는 note들과 notebook 내 위치한 page 번호\n",
    "        add_note : \n",
    "        remove_content : 특정 페이지에 있는 content 삭제\n",
    "                        만약 특정 페이지가 노트북 내에 없다면 문구 출력\n",
    "        get_numbers_of_pages : 노트북의 페이지 수 출력 해줌\n",
    "    \"\"\"\n",
    "    def __init__(self, title) :\n",
    "        self.page_number = 1\n",
    "        self.title = title\n",
    "        self.notes = {}\n",
    "\n",
    "    def add_note(self, note, page=0) :\n",
    "        if self.page_number < 300 :\n",
    "            if page == 0 :\n",
    "                self.notes[self.page_number] = note\n",
    "                self.page_number += 1\n",
    "            else :\n",
    "                self.notes[page] = note\n",
    "                self.page_number += 1\n",
    "        else :\n",
    "            print('page가 모두 채워졌습니다.')\n",
    "            \n",
    "    def remove_content(self, page_number) :\n",
    "        if page_number in self.notes.keys() :\n",
    "            return self.notes.pop(page_number)\n",
    "            \n",
    "        else :\n",
    "            print('해당 페이지는 존재하지 않습니다.')\n",
    "    def get_numbers_of_pages(self) :\n",
    "        return len(self.notes.keys())"
   ]
  },
  {
   "cell_type": "code",
   "execution_count": 146,
   "metadata": {},
   "outputs": [
    {
     "name": "stdout",
     "output_type": "stream",
     "text": [
      "나는 새싹이다\n"
     ]
    }
   ],
   "source": [
    "my_notebook = Notebook('나는 새싹이다')\n",
    "\n",
    "print(my_notebook.title)"
   ]
  },
  {
   "cell_type": "code",
   "execution_count": 147,
   "metadata": {},
   "outputs": [
    {
     "name": "stdout",
     "output_type": "stream",
     "text": [
      "oop\n"
     ]
    }
   ],
   "source": [
    "my_note = Note('oop') # Object Oriented Programming(객체(인스턴스) 지향 프로그래밍)\n",
    "print(my_note)"
   ]
  },
  {
   "cell_type": "code",
   "execution_count": 148,
   "metadata": {},
   "outputs": [],
   "source": [
    "new_note_2 = Note('배가 너무 고픈데, 수업을 끝내도 될까요?')"
   ]
  },
  {
   "cell_type": "code",
   "execution_count": 149,
   "metadata": {},
   "outputs": [],
   "source": [
    "my_notebook.add_note(my_note)"
   ]
  },
  {
   "cell_type": "code",
   "execution_count": 150,
   "metadata": {},
   "outputs": [],
   "source": [
    "my_notebook.add_note(new_note_2, 100)"
   ]
  },
  {
   "cell_type": "code",
   "execution_count": 151,
   "metadata": {},
   "outputs": [
    {
     "name": "stdout",
     "output_type": "stream",
     "text": [
      "{1: <__main__.Note object at 0x0000028C4B66C0A0>, 100: <__main__.Note object at 0x0000028C4B66CF40>}\n"
     ]
    }
   ],
   "source": [
    "print(my_notebook.notes)"
   ]
  },
  {
   "cell_type": "code",
   "execution_count": 152,
   "metadata": {},
   "outputs": [
    {
     "name": "stdout",
     "output_type": "stream",
     "text": [
      "2\n"
     ]
    }
   ],
   "source": [
    "print(my_notebook.get_numbers_of_pages())"
   ]
  },
  {
   "attachments": {},
   "cell_type": "markdown",
   "metadata": {},
   "source": [
    "### 상속"
   ]
  },
  {
   "cell_type": "code",
   "execution_count": 153,
   "metadata": {},
   "outputs": [
    {
     "name": "stdout",
     "output_type": "stream",
     "text": [
      "걷는다\n",
      "먹는다\n",
      "손을 흔든다\n",
      "걷는다\n",
      "먹는다\n",
      "꼬리를 흔든다\n"
     ]
    }
   ],
   "source": [
    "class Human():\n",
    "    def walk(self):\n",
    "        print(\"걷는다\")\n",
    "    \n",
    "    def eat(self) :\n",
    "        print('먹는다')\n",
    "        \n",
    "    def wave(self) :\n",
    "        print('손을 흔든다')\n",
    "\n",
    "class Dog():\n",
    "    def walk(self):\n",
    "        print(\"걷는다\")\n",
    "\n",
    "    def eat(self) :\n",
    "        print('먹는다')\n",
    "    \n",
    "    def wag(self) :\n",
    "        print('꼬리를 흔든다')\n",
    "        \n",
    "person = Human()\n",
    "person.walk()\n",
    "person.eat()\n",
    "person.wave()\n",
    "\n",
    "dog = Dog()\n",
    "dog.walk()\n",
    "dog.eat()\n",
    "dog.wag()"
   ]
  },
  {
   "cell_type": "code",
   "execution_count": 154,
   "metadata": {},
   "outputs": [
    {
     "name": "stdout",
     "output_type": "stream",
     "text": [
      "걷는다.\n",
      "먹는다.\n",
      "손을 흔든다.\n",
      "걷는다.\n",
      "먹는다.\n",
      "꼬리를 흔든다.\n"
     ]
    }
   ],
   "source": [
    "class Animal() :\n",
    "    def walk(self) :\n",
    "        print('걷는다.')\n",
    "        \n",
    "    def eat(self) :\n",
    "        print('먹는다.')\n",
    "        \n",
    "class Human(Animal) :\n",
    "    \n",
    "    def wave(self) :\n",
    "        print('손을 흔든다.')\n",
    "        \n",
    "class Dog(Animal) :\n",
    "    \n",
    "    def wag(self) :\n",
    "        print('꼬리를 흔든다.')\n",
    "\n",
    "\n",
    "person = Human()\n",
    "person.walk()        \n",
    "person.eat()\n",
    "person.wave()\n",
    "\n",
    "dog = Dog()\n",
    "dog.walk()\n",
    "dog.eat()\n",
    "dog.wag()\n"
   ]
  },
  {
   "attachments": {},
   "cell_type": "markdown",
   "metadata": {},
   "source": [
    "### 상속 실습"
   ]
  },
  {
   "cell_type": "code",
   "execution_count": 155,
   "metadata": {},
   "outputs": [
    {
     "name": "stdout",
     "output_type": "stream",
     "text": [
      "짐을 실었습니다.\n"
     ]
    }
   ],
   "source": [
    "class Car():\n",
    "    \n",
    "    def run(self):\n",
    "        print(\"차가 달립니다.\")\n",
    "\n",
    "# 아래에서 Car를 상속받는 Truck이라는 클래스를 만들고, load라는 메소드를 만들어 보세요.\n",
    "# load메소드에서는 \"짐을 실었습니다.\"라고 출력하면 됩니다.\n",
    "\n",
    "class Truck(Car) :\n",
    "    def load(self) :\n",
    "        print('짐을 실었습니다.')\n",
    "        \n",
    "truck = Truck()\n",
    "\n",
    "truck.load()"
   ]
  },
  {
   "attachments": {},
   "cell_type": "markdown",
   "metadata": {},
   "source": [
    "### 단순 오버라이드"
   ]
  },
  {
   "cell_type": "code",
   "execution_count": 161,
   "metadata": {},
   "outputs": [
    {
     "name": "stdout",
     "output_type": "stream",
     "text": [
      "손을 흔든다.\n",
      "꼬리를 흔든다.\n",
      "인사한다.\n"
     ]
    }
   ],
   "source": [
    "class Animal() :\n",
    "    def walk(self) :\n",
    "        print('걷는다.')\n",
    "    \n",
    "    def eat(self) :\n",
    "        print('먹는다.')\n",
    "        \n",
    "    def greet(self) :\n",
    "        print('인사한다.')\n",
    "    \n",
    "class Cow(Animal) :\n",
    "    '''소'''\n",
    "\n",
    "class Human(Animal) :\n",
    "    def wave(self) :\n",
    "        print('손을 흔든다.')\n",
    "        \n",
    "    def greet(self) :\n",
    "        self.wave()\n",
    "        \n",
    "class Dog(Animal) :\n",
    "    def wag(self) :\n",
    "        print('꼬리를 흔든다.')\n",
    "    \n",
    "    def greet(self) :  # 부모 자식관계로 덮어쓸수가 있다.\n",
    "        self.wag()\n",
    "        \n",
    "person = Human()\n",
    "person.greet()\n",
    "\n",
    "dog = Dog()\n",
    "dog.greet()\n",
    "\n",
    "cow = Cow()\n",
    "cow.greet()"
   ]
  },
  {
   "attachments": {},
   "cell_type": "markdown",
   "metadata": {},
   "source": [
    "### 단순 오버라이드 실습"
   ]
  },
  {
   "cell_type": "code",
   "execution_count": 162,
   "metadata": {},
   "outputs": [
    {
     "name": "stdout",
     "output_type": "stream",
     "text": [
      "트럭이 달립니다.\n"
     ]
    }
   ],
   "source": [
    "class Car():\n",
    "    \n",
    "    def run(self):\n",
    "        print(\"차가 달립니다.\")\n",
    "\n",
    "\n",
    "class Truck(Car):\n",
    "    \n",
    "    def load(self):\n",
    "        print(\"짐을 실었습니다.\")\n",
    "    # 이 아래에서 run 메소드를 오버라이드 하세요.\n",
    "    \n",
    "    def run(self) :\n",
    "        print('트럭이 달립니다.')\n",
    "    \n",
    "truck = Truck()\n",
    "truck.run()"
   ]
  },
  {
   "attachments": {},
   "cell_type": "markdown",
   "metadata": {},
   "source": [
    "### super()"
   ]
  },
  {
   "cell_type": "code",
   "execution_count": 165,
   "metadata": {},
   "outputs": [
    {
     "name": "stdout",
     "output_type": "stream",
     "text": [
      "손을 흔들면서\n",
      "인사한다.\n"
     ]
    }
   ],
   "source": [
    "class Animal() :\n",
    "    \n",
    "    def walk(self) :\n",
    "        print('걷는다.')\n",
    "    \n",
    "    def eat(self) :\n",
    "        print('먹는다') \n",
    "        \n",
    "    def greet(self) :\n",
    "        print('인사한다.')\n",
    "    \n",
    "class Human(Animal) :\n",
    "    \n",
    "    def wave(self) :\n",
    "        print('손을 흔들면서')\n",
    "        \n",
    "    def greet(self) :\n",
    "        self.wave()\n",
    "        super().greet()     # super()는 부모가 처리한다.\n",
    "        \n",
    "person = Human()\n",
    "person.greet()"
   ]
  },
  {
   "cell_type": "code",
   "execution_count": 177,
   "metadata": {},
   "outputs": [
    {
     "name": "stdout",
     "output_type": "stream",
     "text": [
      "양손을 흔들면서\n",
      "사람이/가 인사한다.\n"
     ]
    }
   ],
   "source": [
    "class Animal() :\n",
    "    def __init__(self, name) :\n",
    "        self.name = name\n",
    "        \n",
    "    def walk(self) :\n",
    "        print('걷는다.')\n",
    "    \n",
    "    def eat(self) :\n",
    "        print('먹는다') \n",
    "        \n",
    "    def greet(self) :\n",
    "        print('{}이/가 인사한다.'.format(self.name))\n",
    "        \n",
    "class Human(Animal) :\n",
    "    \n",
    "    def __init__(self, name, hand) :\n",
    "        super().__init__(name) \n",
    "        self.hand = hand\n",
    "    \n",
    "    def wave(self) :\n",
    "        print('{}을 흔들면서'.format(self.hand))\n",
    "        \n",
    "    def greet(self) :\n",
    "        self.wave()\n",
    "        super().greet()\n",
    "    \n",
    "       \n",
    "person = Human('사람','양손')\n",
    "person.greet()"
   ]
  },
  {
   "attachments": {},
   "cell_type": "markdown",
   "metadata": {},
   "source": [
    "### super() 실습"
   ]
  },
  {
   "cell_type": "code",
   "execution_count": 172,
   "metadata": {},
   "outputs": [],
   "source": [
    "class Car():\n",
    "    \n",
    "    def __init__(self, name):\n",
    "        self.name = name\n",
    "    \n",
    "    def run(self):\n",
    "        print(\"차가 달립니다.\")\n",
    "\n",
    "\n",
    "class Truck(Car):\n",
    "    # 이 아래에서 __init__ 메소드를 오버라이드 하세요.\n",
    "    def __init__(self, name, capacity) :\n",
    "        super().__init__( name )\n",
    "        self.capacity = capacity\n",
    "        \n",
    "    def load(self):\n",
    "        print(\"{}이/가 짐을 실었습니다.\".format(self.name))"
   ]
  },
  {
   "cell_type": "code",
   "execution_count": 178,
   "metadata": {},
   "outputs": [
    {
     "name": "stdout",
     "output_type": "stream",
     "text": [
      "트럭이/가 짐을 실었습니다.\n"
     ]
    }
   ],
   "source": [
    "truck = Truck('트럭','3t')\n",
    "truck.load()"
   ]
  },
  {
   "cell_type": "code",
   "execution_count": null,
   "metadata": {},
   "outputs": [],
   "source": []
  },
  {
   "cell_type": "code",
   "execution_count": null,
   "metadata": {},
   "outputs": [],
   "source": []
  }
 ],
 "metadata": {
  "kernelspec": {
   "display_name": "base",
   "language": "python",
   "name": "python3"
  },
  "language_info": {
   "codemirror_mode": {
    "name": "ipython",
    "version": 3
   },
   "file_extension": ".py",
   "mimetype": "text/x-python",
   "name": "python",
   "nbconvert_exporter": "python",
   "pygments_lexer": "ipython3",
   "version": "3.9.13"
  },
  "orig_nbformat": 4,
  "vscode": {
   "interpreter": {
    "hash": "1284a11239f1c582240c95e9b63f464998ce3454084d16e746adc349338fd12e"
   }
  }
 },
 "nbformat": 4,
 "nbformat_minor": 2
}
