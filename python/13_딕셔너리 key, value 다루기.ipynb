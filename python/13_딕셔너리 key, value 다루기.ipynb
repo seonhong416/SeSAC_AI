{
 "cells": [
  {
   "cell_type": "markdown",
   "id": "125d8239",
   "metadata": {},
   "source": [
    "딕셔너리 key, value 모두 리스트 형태로 가져오기\n",
    "\n",
    "- 딕셔너리명.keys()"
   ]
  },
  {
   "cell_type": "code",
   "execution_count": 1,
   "id": "3bf25844",
   "metadata": {},
   "outputs": [],
   "source": [
    "scores = {'kor' : 100, 'eng' : 90, 'math' : 80}"
   ]
  },
  {
   "cell_type": "code",
   "execution_count": 2,
   "id": "9a081b6e",
   "metadata": {},
   "outputs": [
    {
     "data": {
      "text/plain": [
       "dict_keys(['kor', 'eng', 'math'])"
      ]
     },
     "execution_count": 2,
     "metadata": {},
     "output_type": "execute_result"
    }
   ],
   "source": [
    "scores.keys()"
   ]
  },
  {
   "cell_type": "markdown",
   "id": "55a5269a",
   "metadata": {},
   "source": [
    "- 딕셔너리명.values()"
   ]
  },
  {
   "cell_type": "code",
   "execution_count": 3,
   "id": "afd83da8",
   "metadata": {},
   "outputs": [
    {
     "data": {
      "text/plain": [
       "dict_values([100, 90, 80])"
      ]
     },
     "execution_count": 3,
     "metadata": {},
     "output_type": "execute_result"
    }
   ],
   "source": [
    "scores.values()"
   ]
  },
  {
   "cell_type": "markdown",
   "id": "f6a4868e",
   "metadata": {},
   "source": [
    "(***) 딕셔너리명.items()"
   ]
  },
  {
   "cell_type": "code",
   "execution_count": 4,
   "id": "a103cdc1",
   "metadata": {},
   "outputs": [
    {
     "data": {
      "text/plain": [
       "dict_items([('kor', 100), ('eng', 90), ('math', 80)])"
      ]
     },
     "execution_count": 4,
     "metadata": {},
     "output_type": "execute_result"
    }
   ],
   "source": [
    "# items()\n",
    "# 딕셔너리 (key, value) 쌍(pair)을 리스트로 가져옴\n",
    "\n",
    "scores\n",
    "scores.items()"
   ]
  },
  {
   "cell_type": "code",
   "execution_count": 5,
   "id": "ec6c5029",
   "metadata": {},
   "outputs": [
    {
     "name": "stdout",
     "output_type": "stream",
     "text": [
      "{'kor': 100, 'eng': 90, 'math': 80}\n",
      "\n",
      "kor\n",
      "eng\n",
      "math\n"
     ]
    }
   ],
   "source": [
    "print(scores)\n",
    "print()\n",
    "\n",
    "for i in scores.keys() :\n",
    "    print(i)"
   ]
  },
  {
   "cell_type": "code",
   "execution_count": 6,
   "id": "05458979",
   "metadata": {},
   "outputs": [
    {
     "name": "stdout",
     "output_type": "stream",
     "text": [
      "100\n",
      "90\n",
      "80\n"
     ]
    }
   ],
   "source": [
    "for i in scores.values() :\n",
    "    print(i)"
   ]
  },
  {
   "cell_type": "code",
   "execution_count": 9,
   "id": "1d570986",
   "metadata": {},
   "outputs": [
    {
     "name": "stdout",
     "output_type": "stream",
     "text": [
      "key :  kor \n",
      "value :  100\n",
      "key :  eng \n",
      "value :  90\n",
      "key :  math \n",
      "value :  80\n"
     ]
    }
   ],
   "source": [
    "for k, v in scores.items() :\n",
    "    print('key : ', k, '\\nvalue : ', v)"
   ]
  },
  {
   "cell_type": "code",
   "execution_count": 10,
   "id": "7ad97ffe",
   "metadata": {},
   "outputs": [
    {
     "name": "stdout",
     "output_type": "stream",
     "text": [
      "apple\n",
      "grape\n"
     ]
    }
   ],
   "source": [
    "dictionary = {'apple' : '사과', 'grape' : '포도'}\n",
    "\n",
    "for i in dictionary.keys() :\n",
    "    print(i)"
   ]
  },
  {
   "cell_type": "markdown",
   "id": "6dd5a745",
   "metadata": {},
   "source": [
    "for 문으로 딕셔너리의 key, value 값 추출하기"
   ]
  },
  {
   "cell_type": "code",
   "execution_count": 11,
   "id": "aa18b9bd",
   "metadata": {},
   "outputs": [
    {
     "name": "stdout",
     "output_type": "stream",
     "text": [
      "('kor', 100)\n",
      "('eng', 90)\n",
      "('math', 80)\n"
     ]
    }
   ],
   "source": [
    "for i in scores.items() :\n",
    "    print(i)"
   ]
  },
  {
   "cell_type": "code",
   "execution_count": 12,
   "id": "3af772cb",
   "metadata": {},
   "outputs": [
    {
     "name": "stdout",
     "output_type": "stream",
     "text": [
      "('apple', '사과')\n",
      "('grape', '포도')\n"
     ]
    }
   ],
   "source": [
    "for i in dictionary.items() :\n",
    "    print(i)"
   ]
  },
  {
   "cell_type": "code",
   "execution_count": 13,
   "id": "ca1791f8",
   "metadata": {},
   "outputs": [
    {
     "name": "stdout",
     "output_type": "stream",
     "text": [
      "kor 100\n",
      "eng 90\n",
      "math 80\n"
     ]
    }
   ],
   "source": [
    "for k, v in scores.items() :\n",
    "    print(k, v)"
   ]
  },
  {
   "cell_type": "markdown",
   "id": "b7b1472a",
   "metadata": {},
   "source": [
    "딕셔너리 정렬하기\n",
    "\n",
    "- key 정렬하기 "
   ]
  },
  {
   "cell_type": "code",
   "execution_count": 15,
   "id": "54052cac",
   "metadata": {},
   "outputs": [
    {
     "name": "stdout",
     "output_type": "stream",
     "text": [
      "{'kor': 100, 'eng': 90, 'math': 80}\n",
      "['eng', 'kor', 'math']\n",
      "['eng', 'kor', 'math']\n"
     ]
    }
   ],
   "source": [
    "print(scores)\n",
    "print(sorted(scores))\n",
    "print(sorted(scores.keys())) # default : 알파벳 오름차순"
   ]
  },
  {
   "cell_type": "markdown",
   "id": "27c58f57",
   "metadata": {},
   "source": [
    "- 값 정렬하기"
   ]
  },
  {
   "cell_type": "code",
   "execution_count": 16,
   "id": "0b4acccf",
   "metadata": {},
   "outputs": [
    {
     "name": "stdout",
     "output_type": "stream",
     "text": [
      "{'kor': 100, 'eng': 90, 'math': 80}\n",
      "[80, 90, 100]\n"
     ]
    }
   ],
   "source": [
    "print(scores)\n",
    "print(sorted(scores.values())) "
   ]
  },
  {
   "cell_type": "markdown",
   "id": "e987778b",
   "metadata": {},
   "source": [
    "- (key, value) 형태로 정렬하기"
   ]
  },
  {
   "cell_type": "code",
   "execution_count": 17,
   "id": "82494f1e",
   "metadata": {},
   "outputs": [
    {
     "data": {
      "text/plain": [
       "[('eng', 90), ('kor', 100), ('math', 80)]"
      ]
     },
     "execution_count": 17,
     "metadata": {},
     "output_type": "execute_result"
    }
   ],
   "source": [
    "sorted(scores.items())"
   ]
  },
  {
   "cell_type": "code",
   "execution_count": null,
   "id": "ead96b15",
   "metadata": {},
   "outputs": [],
   "source": []
  }
 ],
 "metadata": {
  "kernelspec": {
   "display_name": "Python 3 (ipykernel)",
   "language": "python",
   "name": "python3"
  },
  "language_info": {
   "codemirror_mode": {
    "name": "ipython",
    "version": 3
   },
   "file_extension": ".py",
   "mimetype": "text/x-python",
   "name": "python",
   "nbconvert_exporter": "python",
   "pygments_lexer": "ipython3",
   "version": "3.9.13"
  }
 },
 "nbformat": 4,
 "nbformat_minor": 5
}
