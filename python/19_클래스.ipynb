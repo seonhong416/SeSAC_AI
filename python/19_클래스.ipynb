{
 "cells": [
  {
   "cell_type": "markdown",
   "id": "56402840",
   "metadata": {},
   "source": [
    "자동차 클래스와 객체\n",
    "\n",
    "- 3가지 속성, 3가지 기능 자동차(객체) 찍어내는 틀\n",
    "- 속성 : brand, model, color\n",
    "- 기능 : turn_on, turn_off, drive\n",
    "    \n",
    "1. 붕어빵 틀 : 클래스(class)\n",
    "2. 붕어빵 틀로 만들어진 붕어빵 >> 객체(object)\n",
    "    - 객체는 독립적임\n",
    "3. 개체(붕어빵) 속성, 메소드 구성\n",
    "4. 자동차 클래스\n",
    "    - 클래스 : 자동차(car)\n",
    "    - 객체 \n",
    "        - 속성 : 브랜드(기아), 모델명(k8), 색상(black)\n",
    "        - 메소드(기능) : turn_on(시동걸기), turn_off(시동끄기), drive(주행하기)"
   ]
  },
  {
   "cell_type": "markdown",
   "id": "affdbaf0",
   "metadata": {},
   "source": [
    "class 클래스명 :\n",
    "    \n",
    "    def __init__(self, 매겨변수1, 매개변수2) : # 생성자\n",
    "    \n",
    "    def 메소드1(self, 매개변수1, 매개변수2) :\n",
    "        메소드1 내용\n",
    "    \n",
    "    def 메소드2(self, 매개변수1, 매개변수2) :\n",
    "        메소드2 내용\n",
    "        \n",
    "- self : 메소드를 호출한 객체를 받는다\n",
    "- 객체의 속성(브랜드, 모델명, 색상)은 객체 안의 변수로 저장됨\n",
    "- 객체 이름 다음에 점(.)을 찍고 변수 이름을 적는다\n",
    "    - car.brand = '기아자동차'\n",
    "- 객체의 메소드(기능) : 객체 안에 정의한 함수\n",
    "\n",
    "- 객체의 메소드는 객체 이름 다음에 점(.) 찍어서 호출\n",
    "    - car.turn_on()"
   ]
  },
  {
   "cell_type": "code",
   "execution_count": 8,
   "id": "5598aee1",
   "metadata": {},
   "outputs": [],
   "source": [
    "class Car :\n",
    "    # 생성자\n",
    "    def __init__(self, b, m, c) :\n",
    "        self.brand = b\n",
    "        self.model = m\n",
    "        self.color = c\n",
    "        \n",
    "        print(self.brand, self.model, self.color, '출고')\n",
    "\n",
    "    # 메소드 정의\n",
    "    def turn_on(self) :\n",
    "        print(self.brand, '시동을 겁니다.')\n",
    "    \n",
    "    def turn_off(self) :\n",
    "        print(self.brand, '시동을 끕니다.')\n",
    "    \n",
    "    def drive(self) :\n",
    "        print(self.brand, '주행 중입니다.')\n",
    "        \n",
    "        "
   ]
  },
  {
   "cell_type": "markdown",
   "id": "f5e830ee",
   "metadata": {},
   "source": [
    "객체 생성하기\n",
    "\n",
    "- 객체명 = 클래스명(매개변수1, 매개변수2...)"
   ]
  },
  {
   "cell_type": "code",
   "execution_count": 9,
   "id": "95029bbf",
   "metadata": {},
   "outputs": [
    {
     "name": "stdout",
     "output_type": "stream",
     "text": [
      "기아자동차 k8 black 출고\n"
     ]
    }
   ],
   "source": [
    "car1 = Car('기아자동차', 'k8', 'black')"
   ]
  },
  {
   "cell_type": "code",
   "execution_count": 10,
   "id": "4eac1cfc",
   "metadata": {},
   "outputs": [
    {
     "name": "stdout",
     "output_type": "stream",
     "text": [
      "르노삼성 sm5 white 출고\n"
     ]
    }
   ],
   "source": [
    "car2 = Car('르노삼성', 'sm5', 'white')"
   ]
  },
  {
   "cell_type": "markdown",
   "id": "f9aa8a3e",
   "metadata": {},
   "source": [
    "메소드 호출하기\n",
    "- 객체명.메소드명(매개변수1, 매개변수2, ...)"
   ]
  },
  {
   "cell_type": "code",
   "execution_count": 11,
   "id": "a7a26f0d",
   "metadata": {},
   "outputs": [
    {
     "name": "stdout",
     "output_type": "stream",
     "text": [
      "기아자동차 시동을 겁니다.\n"
     ]
    }
   ],
   "source": [
    "car1.turn_on()"
   ]
  },
  {
   "cell_type": "code",
   "execution_count": 12,
   "id": "179dd820",
   "metadata": {},
   "outputs": [
    {
     "name": "stdout",
     "output_type": "stream",
     "text": [
      "기아자동차 주행 중입니다.\n"
     ]
    }
   ],
   "source": [
    "car1.drive()"
   ]
  },
  {
   "cell_type": "code",
   "execution_count": 13,
   "id": "8af991a5",
   "metadata": {},
   "outputs": [
    {
     "name": "stdout",
     "output_type": "stream",
     "text": [
      "기아자동차 시동을 끕니다.\n"
     ]
    }
   ],
   "source": [
    "car1.turn_off()"
   ]
  },
  {
   "cell_type": "code",
   "execution_count": 14,
   "id": "2cfcbe91",
   "metadata": {},
   "outputs": [
    {
     "name": "stdout",
     "output_type": "stream",
     "text": [
      "르노삼성 시동을 겁니다.\n",
      "르노삼성 주행 중입니다.\n",
      "르노삼성 시동을 끕니다.\n"
     ]
    }
   ],
   "source": [
    "car2.turn_on()\n",
    "car2.drive()\n",
    "car2.turn_off()"
   ]
  },
  {
   "cell_type": "markdown",
   "id": "f35f1e79",
   "metadata": {},
   "source": [
    "객체의 메소드 목록 조회\n",
    "\n",
    "- dir(객체)"
   ]
  },
  {
   "cell_type": "code",
   "execution_count": 15,
   "id": "77fad646",
   "metadata": {},
   "outputs": [
    {
     "data": {
      "text/plain": [
       "['__add__',\n",
       " '__class__',\n",
       " '__class_getitem__',\n",
       " '__contains__',\n",
       " '__delattr__',\n",
       " '__delitem__',\n",
       " '__dir__',\n",
       " '__doc__',\n",
       " '__eq__',\n",
       " '__format__',\n",
       " '__ge__',\n",
       " '__getattribute__',\n",
       " '__getitem__',\n",
       " '__gt__',\n",
       " '__hash__',\n",
       " '__iadd__',\n",
       " '__imul__',\n",
       " '__init__',\n",
       " '__init_subclass__',\n",
       " '__iter__',\n",
       " '__le__',\n",
       " '__len__',\n",
       " '__lt__',\n",
       " '__mul__',\n",
       " '__ne__',\n",
       " '__new__',\n",
       " '__reduce__',\n",
       " '__reduce_ex__',\n",
       " '__repr__',\n",
       " '__reversed__',\n",
       " '__rmul__',\n",
       " '__setattr__',\n",
       " '__setitem__',\n",
       " '__sizeof__',\n",
       " '__str__',\n",
       " '__subclasshook__',\n",
       " 'append',\n",
       " 'clear',\n",
       " 'copy',\n",
       " 'count',\n",
       " 'extend',\n",
       " 'index',\n",
       " 'insert',\n",
       " 'pop',\n",
       " 'remove',\n",
       " 'reverse',\n",
       " 'sort']"
      ]
     },
     "execution_count": 15,
     "metadata": {},
     "output_type": "execute_result"
    }
   ],
   "source": [
    "dir(list)"
   ]
  },
  {
   "cell_type": "markdown",
   "id": "957e3435",
   "metadata": {},
   "source": [
    "함수, 메소드 사용법\n",
    "- help(함수명)"
   ]
  },
  {
   "cell_type": "code",
   "execution_count": 16,
   "id": "5124a1ed",
   "metadata": {},
   "outputs": [
    {
     "name": "stdout",
     "output_type": "stream",
     "text": [
      "Help on built-in function append:\n",
      "\n",
      "append(object, /) method of builtins.list instance\n",
      "    Append object to the end of the list.\n",
      "\n"
     ]
    }
   ],
   "source": [
    "a = [1,2,3]\n",
    "\n",
    "help(a.append)"
   ]
  },
  {
   "cell_type": "code",
   "execution_count": 17,
   "id": "1812a32a",
   "metadata": {},
   "outputs": [
    {
     "data": {
      "text/plain": [
       "[1, 2, 3, 4]"
      ]
     },
     "execution_count": 17,
     "metadata": {},
     "output_type": "execute_result"
    }
   ],
   "source": [
    "a.append(4)\n",
    "a"
   ]
  },
  {
   "cell_type": "code",
   "execution_count": null,
   "id": "31f46d63",
   "metadata": {},
   "outputs": [],
   "source": []
  }
 ],
 "metadata": {
  "kernelspec": {
   "display_name": "base",
   "language": "python",
   "name": "python3"
  },
  "language_info": {
   "codemirror_mode": {
    "name": "ipython",
    "version": 3
   },
   "file_extension": ".py",
   "mimetype": "text/x-python",
   "name": "python",
   "nbconvert_exporter": "python",
   "pygments_lexer": "ipython3",
   "version": "3.9.13 (main, Aug 25 2022, 23:51:50) [MSC v.1916 64 bit (AMD64)]"
  },
  "vscode": {
   "interpreter": {
    "hash": "1284a11239f1c582240c95e9b63f464998ce3454084d16e746adc349338fd12e"
   }
  }
 },
 "nbformat": 4,
 "nbformat_minor": 5
}
