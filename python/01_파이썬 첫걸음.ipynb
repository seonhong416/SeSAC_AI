{
 "cells": [
  {
   "cell_type": "markdown",
   "id": "1900ce8d",
   "metadata": {},
   "source": [
    "기본출력"
   ]
  },
  {
   "cell_type": "markdown",
   "id": "4576650f",
   "metadata": {},
   "source": [
    "- print(value1, value2)"
   ]
  },
  {
   "cell_type": "code",
   "execution_count": 1,
   "id": "a2ed2d0f",
   "metadata": {},
   "outputs": [
    {
     "name": "stdout",
     "output_type": "stream",
     "text": [
      "hello\n"
     ]
    }
   ],
   "source": [
    "# hello 출력하기\n",
    "\n",
    "print('hello')"
   ]
  },
  {
   "cell_type": "code",
   "execution_count": 2,
   "id": "5eb9b066",
   "metadata": {},
   "outputs": [
    {
     "name": "stdout",
     "output_type": "stream",
     "text": [
      "hello python\n"
     ]
    }
   ],
   "source": [
    "print('hello', 'python')"
   ]
  },
  {
   "cell_type": "code",
   "execution_count": 3,
   "id": "6c0943f6",
   "metadata": {},
   "outputs": [
    {
     "name": "stdout",
     "output_type": "stream",
     "text": [
      "1 + 1 =  2\n"
     ]
    }
   ],
   "source": [
    "# 계산식 출력 (1 + 1 = 2)\n",
    "\n",
    "print('1 + 1 = ', 1+1)"
   ]
  },
  {
   "cell_type": "markdown",
   "id": "1be68156",
   "metadata": {},
   "source": [
    "구분자 지정"
   ]
  },
  {
   "cell_type": "markdown",
   "id": "884ca386",
   "metadata": {},
   "source": [
    "- print(value1, value2, ..., sep = '구분자')"
   ]
  },
  {
   "cell_type": "code",
   "execution_count": 4,
   "id": "c57a495b",
   "metadata": {},
   "outputs": [
    {
     "name": "stdout",
     "output_type": "stream",
     "text": [
      "hello,python\n"
     ]
    }
   ],
   "source": [
    "# ',' 로 구분(hello, python)\n",
    "\n",
    "print('hello', 'python', sep = ',')"
   ]
  },
  {
   "cell_type": "code",
   "execution_count": 7,
   "id": "1a731491",
   "metadata": {},
   "outputs": [
    {
     "name": "stdout",
     "output_type": "stream",
     "text": [
      "1+1=2\n"
     ]
    }
   ],
   "source": [
    "# 계산식 출력 (1 + 1 = 2)\n",
    "\n",
    "print('1+1=', 1+1, sep='')"
   ]
  },
  {
   "cell_type": "markdown",
   "id": "04236c68",
   "metadata": {},
   "source": [
    "끝문자 지정"
   ]
  },
  {
   "cell_type": "markdown",
   "id": "6e56fc5c",
   "metadata": {},
   "source": [
    "- print(value1, value2, ...., end = '끝문자')"
   ]
  },
  {
   "cell_type": "code",
   "execution_count": 9,
   "id": "21b438c4",
   "metadata": {},
   "outputs": [
    {
     "name": "stdout",
     "output_type": "stream",
     "text": [
      "안녕하세요.반가워요\n"
     ]
    }
   ],
   "source": [
    "# 공백으로 끝내기 (안녕하세요 반가워요)\n",
    "\n",
    "print('안녕하세요', end = '.')\n",
    "print('반가워요')"
   ]
  },
  {
   "cell_type": "code",
   "execution_count": 10,
   "id": "79235195",
   "metadata": {},
   "outputs": [
    {
     "name": "stdout",
     "output_type": "stream",
     "text": [
      "안녕하세요!반가워요\n"
     ]
    }
   ],
   "source": [
    "print('안녕하세요', end = '!')\n",
    "print('반가워요')"
   ]
  },
  {
   "cell_type": "markdown",
   "id": "65a63017",
   "metadata": {},
   "source": [
    "여러 줄 한번에 출력하기\n",
    "\n",
    " - 홑 따옴표('')가 세 개(''') 혹은 쌍 따옴표(\"\") 세개(\"\"\")로 묶는다"
   ]
  },
  {
   "cell_type": "code",
   "execution_count": 13,
   "id": "f6f08d49",
   "metadata": {},
   "outputs": [
    {
     "name": "stdout",
     "output_type": "stream",
     "text": [
      "자세히 보아야 예쁘다.\n",
      "마스크 쓰고 보아야 사랑스럽다.\n",
      "너가 그렇다.\n"
     ]
    }
   ],
   "source": [
    "print('자세히 보아야 예쁘다.')\n",
    "print('마스크 쓰고 보아야 사랑스럽다.')\n",
    "print('너가 그렇다.')"
   ]
  },
  {
   "cell_type": "code",
   "execution_count": 14,
   "id": "8982bfbf",
   "metadata": {},
   "outputs": [
    {
     "name": "stdout",
     "output_type": "stream",
     "text": [
      "\n",
      "자세히 보아야 예쁘다.\n",
      "마스크 쓰고 보아야 사랑스럽다.\n",
      "너가 그렇다.\n",
      "\n"
     ]
    }
   ],
   "source": [
    "print('''\n",
    "자세히 보아야 예쁘다.\n",
    "마스크 쓰고 보아야 사랑스럽다.\n",
    "너가 그렇다.\n",
    "''')"
   ]
  },
  {
   "cell_type": "code",
   "execution_count": 15,
   "id": "23eda1cb",
   "metadata": {},
   "outputs": [
    {
     "name": "stdout",
     "output_type": "stream",
     "text": [
      "\n",
      "자세히 보아야 예쁘다.\n",
      "마스크 쓰고 보아야 사랑스럽다.\n",
      "너가 그렇다.\n",
      "\n"
     ]
    }
   ],
   "source": [
    "print(\"\"\"\n",
    "자세히 보아야 예쁘다.\n",
    "마스크 쓰고 보아야 사랑스럽다.\n",
    "너가 그렇다.\n",
    "\"\"\")"
   ]
  },
  {
   "cell_type": "markdown",
   "id": "83f931b5",
   "metadata": {},
   "source": [
    "주석달기\n",
    "\n",
    "- 프로그램에 대한 설명을 적을 때\n",
    "- 코드 실행을 잠시 막아둘 때\n",
    "- 샵('#') 을 주석길호로 사용한다."
   ]
  },
  {
   "cell_type": "code",
   "execution_count": 16,
   "id": "48c0e5fe",
   "metadata": {},
   "outputs": [
    {
     "name": "stdout",
     "output_type": "stream",
     "text": [
      "1\n"
     ]
    }
   ],
   "source": [
    "print(1) # 1을 출력해줘"
   ]
  },
  {
   "cell_type": "markdown",
   "id": "f2aec2be",
   "metadata": {},
   "source": [
    "들여쓰기(indent)\n",
    "\n",
    "- 들여쓰기 자체가 문법\n",
    "- Java {} 대신 들여쓰기가 쓰임\n",
    "- 들여쓰는 방법 : 공백 2칸, 4칸이 대세(tab 키 누르면 됨)"
   ]
  },
  {
   "cell_type": "code",
   "execution_count": 20,
   "id": "4976e7a0",
   "metadata": {},
   "outputs": [],
   "source": [
    "# print('hello')\n",
    "#  print('sesac')\n",
    "## IndentationError: unexpected indent"
   ]
  },
  {
   "cell_type": "markdown",
   "id": "4ebfdca2",
   "metadata": {},
   "source": [
    "오류 해석하기\n",
    "\n",
    "- 파이썬에서는 대소문자 구분한다."
   ]
  },
  {
   "cell_type": "code",
   "execution_count": 21,
   "id": "8292ee1c",
   "metadata": {},
   "outputs": [],
   "source": [
    "# Print('hello')\n",
    "## NameError: name 'Print' is not defined"
   ]
  },
  {
   "cell_type": "markdown",
   "id": "3da2e366",
   "metadata": {},
   "source": [
    "- 따옴표 짝이 맞아야 함"
   ]
  },
  {
   "cell_type": "code",
   "execution_count": 23,
   "id": "969ee46c",
   "metadata": {},
   "outputs": [],
   "source": [
    "# print('hello'')\n",
    "## SyntaxError: EOL while scanning string literal"
   ]
  },
  {
   "cell_type": "markdown",
   "id": "626f49e5",
   "metadata": {},
   "source": [
    "- 괄호의 짝이 맞아야 함"
   ]
  },
  {
   "cell_type": "code",
   "execution_count": 25,
   "id": "3d975cfd",
   "metadata": {},
   "outputs": [],
   "source": [
    "# print('hello'))\n",
    "## SyntaxError: unmatched ')'"
   ]
  },
  {
   "cell_type": "code",
   "execution_count": null,
   "id": "45670cd7",
   "metadata": {},
   "outputs": [],
   "source": []
  }
 ],
 "metadata": {
  "kernelspec": {
   "display_name": "Python 3 (ipykernel)",
   "language": "python",
   "name": "python3"
  },
  "language_info": {
   "codemirror_mode": {
    "name": "ipython",
    "version": 3
   },
   "file_extension": ".py",
   "mimetype": "text/x-python",
   "name": "python",
   "nbconvert_exporter": "python",
   "pygments_lexer": "ipython3",
   "version": "3.9.13"
  }
 },
 "nbformat": 4,
 "nbformat_minor": 5
}
