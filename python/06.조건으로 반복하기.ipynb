{
 "cells": [
  {
   "cell_type": "markdown",
   "id": "f7566287",
   "metadata": {},
   "source": [
    "for / while"
   ]
  },
  {
   "cell_type": "code",
   "execution_count": 1,
   "id": "3851eaa9",
   "metadata": {},
   "outputs": [
    {
     "name": "stdout",
     "output_type": "stream",
     "text": [
      "1\n",
      "2\n",
      "3\n",
      "4\n",
      "5\n"
     ]
    }
   ],
   "source": [
    "# 1부터 5까지 출력\n",
    "\n",
    "for i in range(1,6) :\n",
    "    print(i)"
   ]
  },
  {
   "cell_type": "code",
   "execution_count": 2,
   "id": "0116ca27",
   "metadata": {},
   "outputs": [
    {
     "name": "stdout",
     "output_type": "stream",
     "text": [
      "1\n",
      "2\n",
      "3\n",
      "4\n",
      "5\n"
     ]
    }
   ],
   "source": [
    "# while\n",
    "\n",
    "n = 1\n",
    "while n <= 5 :\n",
    "    print(n)\n",
    "    n += 1"
   ]
  },
  {
   "cell_type": "code",
   "execution_count": 3,
   "id": "89e854e7",
   "metadata": {},
   "outputs": [
    {
     "name": "stdout",
     "output_type": "stream",
     "text": [
      "55\n"
     ]
    }
   ],
   "source": [
    "# 1 부터 10까지 더하기\n",
    "\n",
    "sum = 0\n",
    "\n",
    "for i in range(1, 11) :\n",
    "    sum += i\n",
    "\n",
    "print(sum) "
   ]
  },
  {
   "cell_type": "code",
   "execution_count": 5,
   "id": "56276257",
   "metadata": {},
   "outputs": [
    {
     "name": "stdout",
     "output_type": "stream",
     "text": [
      "55\n"
     ]
    }
   ],
   "source": [
    "num = 1\n",
    "sum = 0\n",
    "while num <= 10 :\n",
    "    sum += num\n",
    "    num += 1\n",
    "print(sum)"
   ]
  },
  {
   "cell_type": "code",
   "execution_count": 8,
   "id": "01be80f9",
   "metadata": {},
   "outputs": [
    {
     "name": "stdout",
     "output_type": "stream",
     "text": [
      "이름? : 김선홍\n",
      "이름? : q\n"
     ]
    }
   ],
   "source": [
    "# 'q' 를 입력할 때까지 반복하여 이름 입력받기\n",
    "\n",
    "name = input('이름? : ')\n",
    "\n",
    "while name != 'q' :\n",
    "    name = input('이름? : ')"
   ]
  },
  {
   "cell_type": "code",
   "execution_count": 10,
   "id": "5d4b5b1a",
   "metadata": {},
   "outputs": [
    {
     "name": "stdout",
     "output_type": "stream",
     "text": [
      "이름 : 김선홍\n",
      "이름 : q\n"
     ]
    }
   ],
   "source": [
    "# break로 반복문 빠져나오기\n",
    "\n",
    "while True :\n",
    "    name = input('이름 : ')\n",
    "    \n",
    "    if name =='q' :\n",
    "        break # 정지조건\n"
   ]
  },
  {
   "cell_type": "markdown",
   "id": "bf760f93",
   "metadata": {},
   "source": [
    "연습문제\n",
    "\n",
    "- 올바른 아이디/비밀번호 입력할 때까지 아이디와 비밀번호 입력하는 프로그램 만들기"
   ]
  },
  {
   "cell_type": "code",
   "execution_count": 12,
   "id": "1e901b8c",
   "metadata": {},
   "outputs": [
    {
     "name": "stdout",
     "output_type": "stream",
     "text": [
      "id : drwill\n",
      "1234 : 1234\n"
     ]
    }
   ],
   "source": [
    "id = 'drwill'\n",
    "pwd = '1234'\n",
    "\n",
    "while True :\n",
    "    input_id = input('id : ')\n",
    "    input_pwd = input('pwd : ')\n",
    "    if (id == input_id) & (pwd == input_pwd) :\n",
    "        break"
   ]
  },
  {
   "cell_type": "markdown",
   "id": "b9701602",
   "metadata": {},
   "source": [
    "확장하기\n",
    "\n",
    "- 아이디 잘못 입력하면 >> '아이디를 확인하세요' 출력\n",
    "- 비밀번호 잘못 입력하면 >> '비밀번호를 확인하세요' 출력"
   ]
  },
  {
   "cell_type": "code",
   "execution_count": 20,
   "id": "334677a4",
   "metadata": {},
   "outputs": [
    {
     "name": "stdout",
     "output_type": "stream",
     "text": [
      "id : dr\n",
      "pwd : 1234\n",
      "아이디를 확인하세요.\n",
      "id : dr\n",
      "pwd : 12\n",
      "아이디와 비밀번호를 확인하세요.\n",
      "id : drwill\n",
      "pwd : 1234\n"
     ]
    }
   ],
   "source": [
    "id = 'drwill'\n",
    "pwd = '1234'\n",
    "\n",
    "while True :\n",
    "    input_id = input('id : ')\n",
    "    input_pwd = input('pwd : ')\n",
    "    \n",
    "    if (id == input_id) & (pwd == input_pwd) :\n",
    "        break\n",
    "            \n",
    "    elif  id != input_id :\n",
    "        if pwd != input_pwd :\n",
    "            print('아이디와 비밀번호를 확인하세요.')\n",
    "        else :\n",
    "            print('아이디를 확인하세요.')\n",
    "            \n",
    "    elif  pwd != input_pwd :\n",
    "        print('비밀번호를 확인하세요')"
   ]
  },
  {
   "cell_type": "code",
   "execution_count": 21,
   "id": "570d545a",
   "metadata": {},
   "outputs": [
    {
     "name": "stdout",
     "output_type": "stream",
     "text": [
      "id : dr\n",
      "pwd : 1234\n",
      "아이디를 확인하세요.\n",
      "id : drwill\n",
      "pwd : 12\n",
      "비밀번호를 확인하세요.\n",
      "id : dr\n",
      "pwd : 12\n",
      "아이디와 비밀번호를 확인하세요.\n",
      "id : drwill\n",
      "pwd : 1234\n"
     ]
    }
   ],
   "source": [
    "id = 'drwill'\n",
    "pwd = '1234'\n",
    "\n",
    "while True :\n",
    "    input_id = input('id : ')\n",
    "    input_pwd = input('pwd : ')\n",
    "    \n",
    "    if (id == input_id) & (pwd == input_pwd) :\n",
    "        break\n",
    "            \n",
    "    elif  (id != input_id) & (pwd != input_pwd ) :\n",
    "        print('아이디와 비밀번호를 확인하세요.')\n",
    "        \n",
    "    elif (id == input_id) & (pwd != input_pwd) :\n",
    "        print('비밀번호를 확인하세요.')    \n",
    "        \n",
    "    else :\n",
    "        print('아이디를 확인하세요.')"
   ]
  },
  {
   "cell_type": "code",
   "execution_count": 25,
   "id": "5ff9e094",
   "metadata": {},
   "outputs": [
    {
     "name": "stdout",
     "output_type": "stream",
     "text": [
      "숫자 : 2\n",
      "숫자 : 3\n",
      "숫자 : 4\n",
      "숫자 : 5\n",
      "숫자 : 1\n",
      "숫자 : 0\n",
      "15\n"
     ]
    }
   ],
   "source": [
    "# 사용자가 0을 입력할 때까지 숫자 입력받아\n",
    "# 입력받은 숫자의 합을 구하는 프로그램 작성하시오.\n",
    "\n",
    "total = 0 # 초기값 설정\n",
    "\n",
    "while True :\n",
    "    num = int(input('숫자 : '))\n",
    "    total += num\n",
    "    if num == 0 :\n",
    "        break\n",
    "\n",
    "print(total)"
   ]
  },
  {
   "cell_type": "code",
   "execution_count": null,
   "id": "c7c748eb",
   "metadata": {},
   "outputs": [],
   "source": []
  }
 ],
 "metadata": {
  "kernelspec": {
   "display_name": "Python 3 (ipykernel)",
   "language": "python",
   "name": "python3"
  },
  "language_info": {
   "codemirror_mode": {
    "name": "ipython",
    "version": 3
   },
   "file_extension": ".py",
   "mimetype": "text/x-python",
   "name": "python",
   "nbconvert_exporter": "python",
   "pygments_lexer": "ipython3",
   "version": "3.9.13"
  }
 },
 "nbformat": 4,
 "nbformat_minor": 5
}
