{
 "cells": [
  {
   "attachments": {},
   "cell_type": "markdown",
   "metadata": {},
   "source": [
    "# 구구단"
   ]
  },
  {
   "cell_type": "code",
   "execution_count": 8,
   "metadata": {},
   "outputs": [
    {
     "name": "stdout",
     "output_type": "stream",
     "text": [
      "---------- 1 단 ----------\n",
      "1  X  1  =  1\n",
      "1  X  2  =  2\n",
      "1  X  3  =  3\n",
      "1  X  4  =  4\n",
      "1  X  5  =  5\n",
      "1  X  6  =  6\n",
      "1  X  7  =  7\n",
      "1  X  8  =  8\n",
      "1  X  9  =  9\n",
      "---------- 2 단 ----------\n",
      "2  X  1  =  2\n",
      "2  X  2  =  4\n",
      "2  X  3  =  6\n",
      "2  X  4  =  8\n",
      "2  X  5  =  10\n",
      "2  X  6  =  12\n",
      "2  X  7  =  14\n",
      "2  X  8  =  16\n",
      "2  X  9  =  18\n",
      "---------- 3 단 ----------\n",
      "3  X  1  =  3\n",
      "3  X  2  =  6\n",
      "3  X  3  =  9\n",
      "3  X  4  =  12\n",
      "3  X  5  =  15\n",
      "3  X  6  =  18\n",
      "3  X  7  =  21\n",
      "3  X  8  =  24\n",
      "3  X  9  =  27\n",
      "---------- 4 단 ----------\n",
      "4  X  1  =  4\n",
      "4  X  2  =  8\n",
      "4  X  3  =  12\n",
      "4  X  4  =  16\n",
      "4  X  5  =  20\n",
      "4  X  6  =  24\n",
      "4  X  7  =  28\n",
      "4  X  8  =  32\n",
      "4  X  9  =  36\n",
      "---------- 5 단 ----------\n",
      "5  X  1  =  5\n",
      "5  X  2  =  10\n",
      "5  X  3  =  15\n",
      "5  X  4  =  20\n",
      "5  X  5  =  25\n",
      "5  X  6  =  30\n",
      "5  X  7  =  35\n",
      "5  X  8  =  40\n",
      "5  X  9  =  45\n",
      "---------- 6 단 ----------\n",
      "6  X  1  =  6\n",
      "6  X  2  =  12\n",
      "6  X  3  =  18\n",
      "6  X  4  =  24\n",
      "6  X  5  =  30\n",
      "6  X  6  =  36\n",
      "6  X  7  =  42\n",
      "6  X  8  =  48\n",
      "6  X  9  =  54\n",
      "---------- 7 단 ----------\n",
      "7  X  1  =  7\n",
      "7  X  2  =  14\n",
      "7  X  3  =  21\n",
      "7  X  4  =  28\n",
      "7  X  5  =  35\n",
      "7  X  6  =  42\n",
      "7  X  7  =  49\n",
      "7  X  8  =  56\n",
      "7  X  9  =  63\n",
      "---------- 8 단 ----------\n",
      "8  X  1  =  8\n",
      "8  X  2  =  16\n",
      "8  X  3  =  24\n",
      "8  X  4  =  32\n",
      "8  X  5  =  40\n",
      "8  X  6  =  48\n",
      "8  X  7  =  56\n",
      "8  X  8  =  64\n",
      "8  X  9  =  72\n",
      "---------- 9 단 ----------\n",
      "9  X  1  =  9\n",
      "9  X  2  =  18\n",
      "9  X  3  =  27\n",
      "9  X  4  =  36\n",
      "9  X  5  =  45\n",
      "9  X  6  =  54\n",
      "9  X  7  =  63\n",
      "9  X  8  =  72\n",
      "9  X  9  =  81\n"
     ]
    }
   ],
   "source": [
    "for i in range(1, 10) :\n",
    "    print('-'*10 , i ,'단' , '-'*10)\n",
    "    for j in range(1, 10) :\n",
    "        print(i, ' X ', j , ' = ', i*j)\n",
    "        \n"
   ]
  },
  {
   "cell_type": "code",
   "execution_count": 22,
   "metadata": {},
   "outputs": [
    {
     "name": "stdout",
     "output_type": "stream",
     "text": [
      "1 X 1 = 1\t2 X 1 = 2\t3 X 1 = 3\t\n",
      "1 X 2 = 2\t2 X 2 = 4\t3 X 2 = 6\t\n",
      "1 X 3 = 3\t2 X 3 = 6\t3 X 3 = 9\t\n",
      "1 X 4 = 4\t2 X 4 = 8\t3 X 4 = 12\t\n",
      "1 X 5 = 5\t2 X 5 = 10\t3 X 5 = 15\t\n",
      "1 X 6 = 6\t2 X 6 = 12\t3 X 6 = 18\t\n",
      "1 X 7 = 7\t2 X 7 = 14\t3 X 7 = 21\t\n",
      "1 X 8 = 8\t2 X 8 = 16\t3 X 8 = 24\t\n",
      "1 X 9 = 9\t2 X 9 = 18\t3 X 9 = 27\t\n",
      "\n",
      "4 X 1 = 4\t5 X 1 = 5\t6 X 1 = 6\t\n",
      "4 X 2 = 8\t5 X 2 = 10\t6 X 2 = 12\t\n",
      "4 X 3 = 12\t5 X 3 = 15\t6 X 3 = 18\t\n",
      "4 X 4 = 16\t5 X 4 = 20\t6 X 4 = 24\t\n",
      "4 X 5 = 20\t5 X 5 = 25\t6 X 5 = 30\t\n",
      "4 X 6 = 24\t5 X 6 = 30\t6 X 6 = 36\t\n",
      "4 X 7 = 28\t5 X 7 = 35\t6 X 7 = 42\t\n",
      "4 X 8 = 32\t5 X 8 = 40\t6 X 8 = 48\t\n",
      "4 X 9 = 36\t5 X 9 = 45\t6 X 9 = 54\t\n",
      "\n",
      "7 X 1 = 7\t8 X 1 = 8\t9 X 1 = 9\t\n",
      "7 X 2 = 14\t8 X 2 = 16\t9 X 2 = 18\t\n",
      "7 X 3 = 21\t8 X 3 = 24\t9 X 3 = 27\t\n",
      "7 X 4 = 28\t8 X 4 = 32\t9 X 4 = 36\t\n",
      "7 X 5 = 35\t8 X 5 = 40\t9 X 5 = 45\t\n",
      "7 X 6 = 42\t8 X 6 = 48\t9 X 6 = 54\t\n",
      "7 X 7 = 49\t8 X 7 = 56\t9 X 7 = 63\t\n",
      "7 X 8 = 56\t8 X 8 = 64\t9 X 8 = 72\t\n",
      "7 X 9 = 63\t8 X 9 = 72\t9 X 9 = 81\t\n",
      "\n"
     ]
    }
   ],
   "source": [
    "for i in range(1, 10,3) :\n",
    "    for j in range(1,10) :\n",
    "        for k in range(3) :\n",
    "            print (i+k, 'X', j, '=', (i+k)*j, end=\"\\t\")\n",
    "        print()\n",
    "    print()"
   ]
  },
  {
   "attachments": {},
   "cell_type": "markdown",
   "metadata": {},
   "source": [
    "# 가위바위보"
   ]
  },
  {
   "cell_type": "code",
   "execution_count": 18,
   "metadata": {},
   "outputs": [],
   "source": [
    "import random\n",
    "gababo = ['가위', '바위', '보']\n",
    "textResult = {0: '승리했습니다', 1:'패배했습니다', 2:'비겼습니다'}\n",
    "\n",
    "def winCheck(user, com) :\n",
    "    if gababo[com] == '가위' :\n",
    "        if user == '가위' :\n",
    "            return textResult[2]\n",
    "        elif user =='바위' :\n",
    "            return textResult[0]\n",
    "        elif user == '보' :\n",
    "            return textResult[1]\n",
    "        elif user == '그만' :\n",
    "            return '게임을 종료합니다.'\n",
    "        else :\n",
    "            return '잘못입력했습니다. 다시 입력해주세요.'\n",
    "    elif gababo[com] == '바위' :\n",
    "        if user == '가위' :\n",
    "            return textResult[1]\n",
    "        elif user =='바위' :\n",
    "            return textResult[2]\n",
    "        elif user == '보' :\n",
    "            return textResult[0]\n",
    "        elif user == '그만' :\n",
    "            return '게임을 종료합니다.'\n",
    "        else :\n",
    "            return '잘못입력했습니다. 다시 입력해주세요.'\n",
    "    elif gababo[com] == '보' :\n",
    "        if user == '가위' :\n",
    "            return textResult[0]\n",
    "        elif user =='바위' :\n",
    "            return textResult[1]\n",
    "        elif user == '보' :\n",
    "            return textResult[2]\n",
    "        elif user == '그만' :\n",
    "            return '게임을 종료합니다.'\n",
    "        else :\n",
    "            return '잘못입력했습니다. 다시 입력해주세요.'    \n",
    "\n",
    "\n",
    "user = ''\n",
    "while user != '그만' :\n",
    "    user = input('가위 바위 보! 게임을 종료하고싶으면 그만을 입력해주세요.')\n",
    "    com = random.randint(0,2)\n",
    "    print(winCheck(user, com))\n",
    "                 "
   ]
  },
  {
   "cell_type": "code",
   "execution_count": 19,
   "metadata": {},
   "outputs": [
    {
     "name": "stdout",
     "output_type": "stream",
     "text": [
      "승리했습니다\n",
      "잘못입력했습니다. 다시 입력해주세요.\n",
      "게임을 종료합니다.\n"
     ]
    }
   ],
   "source": []
  },
  {
   "cell_type": "code",
   "execution_count": 16,
   "metadata": {},
   "outputs": [
    {
     "name": "stdout",
     "output_type": "stream",
     "text": [
      "\n",
      " ---------------------------------\n",
      "사용자 (보) vs (가위) 컴퓨터\n",
      "패배했습니다\n",
      "\n",
      " ---------------------------------\n"
     ]
    }
   ],
   "source": [
    "import random\n",
    "gababo = ['가위', '바위', '보']\n",
    "textResult = {0: '승리했습니다', 1:'패배했습니다', 2:'비겼습니다'}\n",
    "\n",
    "def winCheck(user, com) :\n",
    "    \n",
    "    if not user in gababo :\n",
    "        print('잘못입력하셨습니다. 다시 입력하세요!')\n",
    "        return False\n",
    "    \n",
    "    print(f'사용자 ({user}) vs ({com}) 컴퓨터')\n",
    "    if user == com :\n",
    "        state = 2\n",
    "    elif user == '가위' and com == '바위' :\n",
    "        state = 1\n",
    "    elif user =='바위' and com == '보' :\n",
    "        state = 1\n",
    "    elif user =='보' and com == '가위' :\n",
    "        state = 1\n",
    "    else :\n",
    "        state = 0\n",
    "    \n",
    "    print(textResult[state])\n",
    "    return True\n",
    "    \n",
    "print('\\n ---------------------------------')    \n",
    "while True :\n",
    "    user = input('가위 바위 보!')\n",
    "    com = gababo[random.randint(0,2)]\n",
    "    if winCheck(user, com) :\n",
    "        break\n",
    "print('\\n ---------------------------------')    "
   ]
  },
  {
   "attachments": {},
   "cell_type": "markdown",
   "metadata": {},
   "source": [
    "# 숫자맞추기"
   ]
  },
  {
   "cell_type": "code",
   "execution_count": 20,
   "metadata": {},
   "outputs": [
    {
     "name": "stdout",
     "output_type": "stream",
     "text": [
      "Eroor발생 숫자를 입력하세요!\n",
      "Down!\n",
      "Down!\n",
      "Up\n",
      "Down!\n",
      "정답입니다!\n",
      "5번 만에 정답을 맞추셨습니다.\n"
     ]
    }
   ],
   "source": [
    "import random\n",
    "\n",
    "randomNum = random.randint(1,100)\n",
    "countGame = 1\n",
    "\n",
    "while True :\n",
    "    try :    \n",
    "        myNum = int(input(\"1 ~ 100 사이의 숫자를 입력하세요!\"))\n",
    "        if myNum > randomNum :\n",
    "            print('Down!', flush = True)\n",
    "            \n",
    "        elif myNum < randomNum :\n",
    "            print('Up', flush = True)\n",
    "            \n",
    "        else :\n",
    "            print('정답입니다!', flush = True)\n",
    "            print(f'{countGame}번 만에 정답을 맞추셨습니다.', flush = True)\n",
    "            break\n",
    "        countGame += 1\n",
    "    except :\n",
    "        print('Eroor발생 숫자를 입력하세요!')"
   ]
  },
  {
   "attachments": {},
   "cell_type": "markdown",
   "metadata": {},
   "source": [
    "# 자판기를 만들어봅시다!"
   ]
  },
  {
   "cell_type": "code",
   "execution_count": 3,
   "metadata": {},
   "outputs": [
    {
     "name": "stdout",
     "output_type": "stream",
     "text": [
      "커피는 300원입니다. 돈을 넣어주세요.\n",
      "커피를 줍니다.\n",
      "커피는 300원입니다. 돈을 넣어주세요.\n",
      "커피를 줍니다.\n",
      "커피는 300원입니다. 돈을 넣어주세요.\n",
      "커피를 줍니다.\n",
      "커피는 300원입니다. 돈을 넣어주세요.\n",
      "커피를 줍니다.\n",
      "커피는 300원입니다. 돈을 넣어주세요.\n",
      "커피를 줍니다.\n",
      "커피는 300원입니다. 돈을 넣어주세요.\n",
      "커피를 줍니다.\n",
      "커피는 300원입니다. 돈을 넣어주세요.\n",
      "커피를 줍니다.\n",
      "커피는 300원입니다. 돈을 넣어주세요.\n",
      "커피를 줍니다.\n",
      "커피는 300원입니다. 돈을 넣어주세요.\n",
      "커피를 줍니다.\n",
      "커피는 300원입니다. 돈을 넣어주세요.\n",
      "커피를 줍니다.\n",
      "커피가 다 떨어졌습니다.\n"
     ]
    }
   ],
   "source": [
    "coffee = 300\n",
    "coffee_cnt = 10\n",
    "while True :\n",
    "    try :\n",
    "        money = int(input('돈을 넣어주세요.'))\n",
    "        print('커피는 300원입니다. 돈을 넣어주세요.')\n",
    "        if money < coffee :\n",
    "            print(f'금액이 부족합니다. {money}원을 돌려줍니다.', flush = True)\n",
    "        elif money == coffee :\n",
    "            print('커피를 줍니다.', flush = True)\n",
    "            coffee_cnt -= 1\n",
    "        else : \n",
    "            print('커피를 줍니다.', flush = True)\n",
    "            print(f'{money - coffee}원을 돌려줍니다.', flush = True)\n",
    "            coffee_cnt -= 1\n",
    "            \n",
    "        if coffee_cnt == 0 :\n",
    "            print('커피가 다 떨어졌습니다.', flush = True)\n",
    "            break\n",
    "    except :\n",
    "        print('제대로된 돈을 넣어주세요.')"
   ]
  },
  {
   "cell_type": "code",
   "execution_count": null,
   "metadata": {},
   "outputs": [],
   "source": []
  }
 ],
 "metadata": {
  "kernelspec": {
   "display_name": "base",
   "language": "python",
   "name": "python3"
  },
  "language_info": {
   "codemirror_mode": {
    "name": "ipython",
    "version": 3
   },
   "file_extension": ".py",
   "mimetype": "text/x-python",
   "name": "python",
   "nbconvert_exporter": "python",
   "pygments_lexer": "ipython3",
   "version": "3.9.13"
  },
  "orig_nbformat": 4,
  "vscode": {
   "interpreter": {
    "hash": "1284a11239f1c582240c95e9b63f464998ce3454084d16e746adc349338fd12e"
   }
  }
 },
 "nbformat": 4,
 "nbformat_minor": 2
}
