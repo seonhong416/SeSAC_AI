{
 "cells": [
  {
   "cell_type": "code",
   "execution_count": 1,
   "id": "c19ec939",
   "metadata": {},
   "outputs": [
    {
     "data": {
      "text/plain": [
       "{'김밥': 2500, '떡볶이': 4000, '어묵': 700, '튀김': 2000}"
      ]
     },
     "execution_count": 1,
     "metadata": {},
     "output_type": "execute_result"
    }
   ],
   "source": [
    "# dic = {key : value}\n",
    "\n",
    "menu = {'김밥' : 2500, '떡볶이' : 4000, '어묵' : 700, '튀김' : 2000}\n",
    "menu"
   ]
  },
  {
   "cell_type": "code",
   "execution_count": 2,
   "id": "6f938b1a",
   "metadata": {},
   "outputs": [
    {
     "data": {
      "text/plain": [
       "2500"
      ]
     },
     "execution_count": 2,
     "metadata": {},
     "output_type": "execute_result"
    }
   ],
   "source": [
    "menu['김밥']"
   ]
  },
  {
   "cell_type": "markdown",
   "id": "f3ddc888",
   "metadata": {},
   "source": [
    "주의할 것\n",
    "\n",
    "- dict(키1 = 값1, ...)\n",
    "- key에 따옴표('') 쓰지 않음"
   ]
  },
  {
   "cell_type": "code",
   "execution_count": 3,
   "id": "e03b0b8b",
   "metadata": {},
   "outputs": [
    {
     "data": {
      "text/plain": [
       "{'김밥': 2500, '떡볶이': 4000, '어묵': 700, '튀김': 2000}"
      ]
     },
     "execution_count": 3,
     "metadata": {},
     "output_type": "execute_result"
    }
   ],
   "source": [
    "dict(김밥 = 2500, 떡볶이 = 4000, 어묵 = 700, 튀김 = 2000)"
   ]
  },
  {
   "cell_type": "markdown",
   "id": "2f6b7719",
   "metadata": {},
   "source": [
    "dict_name = dict(zip(key리스트, value리스트))"
   ]
  },
  {
   "cell_type": "code",
   "execution_count": 4,
   "id": "296656a2",
   "metadata": {},
   "outputs": [
    {
     "data": {
      "text/plain": [
       "{'김밥': 2500, '떡볶이': 4000, '어묵': 700, '튀김': 2000}"
      ]
     },
     "execution_count": 4,
     "metadata": {},
     "output_type": "execute_result"
    }
   ],
   "source": [
    "key_list = ['김밥', '떡볶이', '어묵', '튀김']\n",
    "value_list = [2500, 4000, 700, 2000]\n",
    "\n",
    "dict(zip(key_list, value_list))"
   ]
  },
  {
   "cell_type": "markdown",
   "id": "d21d8a11",
   "metadata": {},
   "source": [
    "dict_name = dict([(key, value), (key, value),....])"
   ]
  },
  {
   "cell_type": "code",
   "execution_count": 8,
   "id": "97b941f3",
   "metadata": {},
   "outputs": [
    {
     "data": {
      "text/plain": [
       "{'김밥': 2000, '떡볶이': 4000, '어묵': 700, '튀김': 2000}"
      ]
     },
     "execution_count": 8,
     "metadata": {},
     "output_type": "execute_result"
    }
   ],
   "source": [
    "dict([('김밥',2000),('떡볶이', 4000),('어묵', 700), ('튀김', 2000)])"
   ]
  },
  {
   "cell_type": "markdown",
   "id": "a9376b6e",
   "metadata": {},
   "source": [
    "dict_name = dict({key : value, key : value, ....})"
   ]
  },
  {
   "cell_type": "code",
   "execution_count": 9,
   "id": "9d10ec26",
   "metadata": {},
   "outputs": [
    {
     "data": {
      "text/plain": [
       "{'김밥': 2500, '떡볶이': 4000, '어묵': 700, '튀김': 2000}"
      ]
     },
     "execution_count": 9,
     "metadata": {},
     "output_type": "execute_result"
    }
   ],
   "source": [
    "dict({'김밥' : 2500, '떡볶이' : 4000, '어묵' : 700, '튀김' : 2000})"
   ]
  },
  {
   "cell_type": "markdown",
   "id": "c7f6c8db",
   "metadata": {},
   "source": [
    "딕셔너리에 사용할 수 있는 자료형"
   ]
  },
  {
   "cell_type": "code",
   "execution_count": 10,
   "id": "75f77a17",
   "metadata": {},
   "outputs": [
    {
     "data": {
      "text/plain": [
       "{'name': 'drwill',\n",
       " 'age': 20,\n",
       " 'height': 177,\n",
       " 'vision': (1.0, 1.0),\n",
       " 'hobby': ['health', 'reading']}"
      ]
     },
     "execution_count": 10,
     "metadata": {},
     "output_type": "execute_result"
    }
   ],
   "source": [
    "person = {\n",
    "    'name' : 'drwill',\n",
    "    'age' : 20,\n",
    "    'height' : 177,\n",
    "    'vision' : (1.0, 1.0),\n",
    "    'hobby' : ['health', 'reading']\n",
    "}\n",
    "\n",
    "person"
   ]
  },
  {
   "cell_type": "code",
   "execution_count": 13,
   "id": "c0037e0b",
   "metadata": {},
   "outputs": [
    {
     "name": "stdout",
     "output_type": "stream",
     "text": [
      "{100: 'hunderd', True: '참', False: '거짓', (1, 3): '학년, 반', 7: '번호'}\n"
     ]
    }
   ],
   "source": [
    "# 딕셔너리 key에는 숫자, 문자열, 불린형, 튜플 사용 가능\n",
    "\n",
    "number = 7\n",
    "\n",
    "dict_key = {\n",
    "    100 : 'hunderd',\n",
    "    True : '참',\n",
    "    False : '거짓',\n",
    "    (1,3) : '학년, 반',\n",
    "    number : '번호'\n",
    "}\n",
    "\n",
    "print(dict_key)"
   ]
  },
  {
   "cell_type": "code",
   "execution_count": 14,
   "id": "a95912b1",
   "metadata": {},
   "outputs": [
    {
     "data": {
      "text/plain": [
       "{'name': ['health', 'reading'], 'age': 20, 'height': 177, 'vision': (1.0, 1.0)}"
      ]
     },
     "execution_count": 14,
     "metadata": {},
     "output_type": "execute_result"
    }
   ],
   "source": [
    "# 중복된 키 사용하면?\n",
    "\n",
    "person = {\n",
    "    'name' : 'drwill',\n",
    "    'age' : 20,\n",
    "    'height' : 177,\n",
    "    'vision' : (1.0, 1.0),\n",
    "    'name' : ['health', 'reading']\n",
    "}\n",
    "person"
   ]
  },
  {
   "cell_type": "code",
   "execution_count": 15,
   "id": "cd363c39",
   "metadata": {},
   "outputs": [
    {
     "data": {
      "text/plain": [
       "{'name': 'kazuha', 'age': 20, 'height': 177, 'vision': (1.0, 1.0)}"
      ]
     },
     "execution_count": 15,
     "metadata": {},
     "output_type": "execute_result"
    }
   ],
   "source": [
    "person['name'] = 'kazuha'\n",
    "\n",
    "person"
   ]
  },
  {
   "cell_type": "markdown",
   "id": "1a754c84",
   "metadata": {},
   "source": [
    "딕셔너리 값 추출하기\n",
    "\n",
    "- 딕셔너리명[key]"
   ]
  },
  {
   "cell_type": "code",
   "execution_count": 16,
   "id": "6082f534",
   "metadata": {},
   "outputs": [
    {
     "data": {
      "text/plain": [
       "'kazuha'"
      ]
     },
     "execution_count": 16,
     "metadata": {},
     "output_type": "execute_result"
    }
   ],
   "source": [
    "person['name']"
   ]
  },
  {
   "cell_type": "code",
   "execution_count": 17,
   "id": "62c5c71f",
   "metadata": {},
   "outputs": [
    {
     "data": {
      "text/plain": [
       "(1.0, 1.0)"
      ]
     },
     "execution_count": 17,
     "metadata": {},
     "output_type": "execute_result"
    }
   ],
   "source": [
    "person['vision']"
   ]
  },
  {
   "cell_type": "code",
   "execution_count": 19,
   "id": "ecdeecb6",
   "metadata": {},
   "outputs": [],
   "source": [
    "# person['sex']\n",
    "# 존재하지 않는 key로 추출시 >> KeyError 발생"
   ]
  },
  {
   "cell_type": "markdown",
   "id": "962713a1",
   "metadata": {},
   "source": [
    "딕셔너리에 키 존재 여부를 확인하고 싶으면\n",
    "\n",
    "- key in 딕셔너리명"
   ]
  },
  {
   "cell_type": "code",
   "execution_count": 20,
   "id": "6664a642",
   "metadata": {},
   "outputs": [
    {
     "name": "stdout",
     "output_type": "stream",
     "text": [
      "없어요\n"
     ]
    }
   ],
   "source": [
    "if '몸무게' in person :\n",
    "    print(person['몸무게']) \n",
    "\n",
    "else :\n",
    "    print('없어요')"
   ]
  },
  {
   "cell_type": "code",
   "execution_count": 21,
   "id": "465f1dc2",
   "metadata": {},
   "outputs": [
    {
     "name": "stdout",
     "output_type": "stream",
     "text": [
      "20\n"
     ]
    }
   ],
   "source": [
    "if 'age' in person :\n",
    "    print(person['age']) \n",
    "\n",
    "else :\n",
    "    print('없어요')"
   ]
  },
  {
   "cell_type": "markdown",
   "id": "ab3173d2",
   "metadata": {},
   "source": [
    "딕셔너리명.get(key, msg)"
   ]
  },
  {
   "cell_type": "code",
   "execution_count": 22,
   "id": "1713996a",
   "metadata": {},
   "outputs": [
    {
     "data": {
      "text/plain": [
       "{'name': 'kazuha', 'age': 20, 'height': 177, 'vision': (1.0, 1.0)}"
      ]
     },
     "execution_count": 22,
     "metadata": {},
     "output_type": "execute_result"
    }
   ],
   "source": [
    "person"
   ]
  },
  {
   "cell_type": "code",
   "execution_count": 23,
   "id": "b1b3c0ea",
   "metadata": {},
   "outputs": [
    {
     "data": {
      "text/plain": [
       "20"
      ]
     },
     "execution_count": 23,
     "metadata": {},
     "output_type": "execute_result"
    }
   ],
   "source": [
    "person.get('age')"
   ]
  },
  {
   "cell_type": "code",
   "execution_count": 25,
   "id": "d4412eb9",
   "metadata": {},
   "outputs": [],
   "source": [
    "person.get('몸무게') # 존재하지 않는 key로 추출 시도해도 오류가 발생 안 함"
   ]
  },
  {
   "cell_type": "code",
   "execution_count": 27,
   "id": "2c010322",
   "metadata": {},
   "outputs": [
    {
     "data": {
      "text/plain": [
       "'없어요'"
      ]
     },
     "execution_count": 27,
     "metadata": {},
     "output_type": "execute_result"
    }
   ],
   "source": [
    "# 존재하지 않는 key로 추출 시도할 경우, 출력할 메시지(msg) 설정 가능\n",
    "\n",
    "person.get('몸무게', '없어요')"
   ]
  },
  {
   "cell_type": "code",
   "execution_count": null,
   "id": "1373d3ee",
   "metadata": {},
   "outputs": [],
   "source": []
  }
 ],
 "metadata": {
  "kernelspec": {
   "display_name": "Python 3 (ipykernel)",
   "language": "python",
   "name": "python3"
  },
  "language_info": {
   "codemirror_mode": {
    "name": "ipython",
    "version": 3
   },
   "file_extension": ".py",
   "mimetype": "text/x-python",
   "name": "python",
   "nbconvert_exporter": "python",
   "pygments_lexer": "ipython3",
   "version": "3.9.13"
  }
 },
 "nbformat": 4,
 "nbformat_minor": 5
}
