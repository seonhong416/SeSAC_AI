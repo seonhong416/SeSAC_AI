{
 "cells": [
  {
   "cell_type": "markdown",
   "id": "75f2db96",
   "metadata": {},
   "source": [
    "람다표현식\n",
    "\n",
    "- lambda 매개변수1, 매개변수2 ....\n",
    "- 식 형태로 되어 있어서 람다표현식(lambda expression)\n",
    "- 람다표현식 : 이름이 없는 익명함수"
   ]
  },
  {
   "cell_type": "code",
   "execution_count": 1,
   "id": "74e9492d",
   "metadata": {},
   "outputs": [
    {
     "data": {
      "text/plain": [
       "3"
      ]
     },
     "execution_count": 1,
     "metadata": {},
     "output_type": "execute_result"
    }
   ],
   "source": [
    "# 두 수를 매개변수로 받아 더한 결과를 리턴 하는 함수\n",
    "\n",
    "def get_plus(n1, n2) :\n",
    "    return n1 + n2\n",
    "\n",
    "get_plus(1,2)"
   ]
  },
  {
   "cell_type": "code",
   "execution_count": 2,
   "id": "cc4a315e",
   "metadata": {},
   "outputs": [
    {
     "data": {
      "text/plain": [
       "8"
      ]
     },
     "execution_count": 2,
     "metadata": {},
     "output_type": "execute_result"
    }
   ],
   "source": [
    "# lambda expression 만들기\n",
    "\n",
    "lambda n1, n2 : n1 + n2\n",
    "\n",
    "(lambda n1, n2 : n1 + n2)(3,5)"
   ]
  },
  {
   "cell_type": "code",
   "execution_count": 3,
   "id": "fee9813c",
   "metadata": {},
   "outputs": [
    {
     "name": "stdout",
     "output_type": "stream",
     "text": [
      "3\n"
     ]
    }
   ],
   "source": [
    "# 변수 plus로 lambda expression 담아 호출\n",
    "plus = lambda n1, n2 : n1 + n2\n",
    "\n",
    "print(plus(1, 2))"
   ]
  },
  {
   "cell_type": "markdown",
   "id": "49ed5e70",
   "metadata": {},
   "source": [
    "map 함수\n",
    "\n",
    "- map은 리스트나 튜플의 각 요소를  지정된 함수로 처리해 주는 함수\n",
    "- 원본 리스트 변경하지 않고 새 리스트를 생성\n",
    "- list(map(함수, 리스트))\n",
    "- tuple(map(함수, 리스트))"
   ]
  },
  {
   "cell_type": "code",
   "execution_count": 5,
   "id": "d618b48c",
   "metadata": {},
   "outputs": [
    {
     "data": {
      "text/plain": [
       "[1, 2, 3, 4]"
      ]
     },
     "execution_count": 5,
     "metadata": {},
     "output_type": "execute_result"
    }
   ],
   "source": [
    "a = ['1','2','3','4']\n",
    "list(map(int, a))"
   ]
  },
  {
   "cell_type": "markdown",
   "id": "5c79aa8e",
   "metadata": {},
   "source": [
    "map 함수에 람다표현식 사용하기"
   ]
  },
  {
   "cell_type": "code",
   "execution_count": 6,
   "id": "1ce693f2",
   "metadata": {},
   "outputs": [
    {
     "data": {
      "text/plain": [
       "[2, 3, 4, 5, 6]"
      ]
     },
     "execution_count": 6,
     "metadata": {},
     "output_type": "execute_result"
    }
   ],
   "source": [
    "l1 = [1,2,3,4,5]\n",
    "list(map(lambda x : x+1, l1))"
   ]
  },
  {
   "cell_type": "markdown",
   "id": "8bcceef0",
   "metadata": {},
   "source": [
    "람다표현식에 조건부 표현식 사용하기\n",
    "\n",
    "- lambda 매개변수들 : 식1 if 조건식 else 조건식2"
   ]
  },
  {
   "cell_type": "code",
   "execution_count": 7,
   "id": "a13154a7",
   "metadata": {},
   "outputs": [
    {
     "data": {
      "text/plain": [
       "['1', 2.0, '3', 4.0, '5', 6.0, '7', 8.0, '9', 10.0]"
      ]
     },
     "execution_count": 7,
     "metadata": {},
     "output_type": "execute_result"
    }
   ],
   "source": [
    "l1 = [1,2,3,4,5,6,7,8,9,10]\n",
    "\n",
    "list(map(lambda x : float(x) if x%2 == 0 else str(x), l1))"
   ]
  },
  {
   "cell_type": "code",
   "execution_count": null,
   "id": "f88b2a58",
   "metadata": {},
   "outputs": [],
   "source": []
  }
 ],
 "metadata": {
  "kernelspec": {
   "display_name": "Python 3 (ipykernel)",
   "language": "python",
   "name": "python3"
  },
  "language_info": {
   "codemirror_mode": {
    "name": "ipython",
    "version": 3
   },
   "file_extension": ".py",
   "mimetype": "text/x-python",
   "name": "python",
   "nbconvert_exporter": "python",
   "pygments_lexer": "ipython3",
   "version": "3.9.13"
  }
 },
 "nbformat": 4,
 "nbformat_minor": 5
}
