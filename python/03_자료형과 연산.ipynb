{
 "cells": [
  {
   "cell_type": "markdown",
   "id": "98e95438",
   "metadata": {},
   "source": [
    "산술 연산"
   ]
  },
  {
   "cell_type": "code",
   "execution_count": 2,
   "id": "e061eb05",
   "metadata": {},
   "outputs": [
    {
     "name": "stdout",
     "output_type": "stream",
     "text": [
      "a + b = 7\n",
      "a - b = -1\n",
      "a * b = 12\n",
      "a / b = 0.75\n",
      "a // b  = 0\n",
      "a % b = 3\n",
      "a ** b = 81\n"
     ]
    }
   ],
   "source": [
    "a, b = 3, 4\n",
    "\n",
    "print('a + b = ', a + b, sep = '')\n",
    "print('a - b = ', a - b, sep = '')\n",
    "print('a * b = ', a * b, sep = '')\n",
    "print('a / b = ', a / b, sep = '')\n",
    "print('a // b  = ', a // b, sep = '') # 몫\n",
    "print('a % b = ', a % b, sep = '') # 나머지\n",
    "print('a ** b = ', a ** b, sep = '')"
   ]
  },
  {
   "cell_type": "markdown",
   "id": "ec2d74b2",
   "metadata": {},
   "source": [
    "문자열 연산"
   ]
  },
  {
   "cell_type": "code",
   "execution_count": 4,
   "id": "979ff9c2",
   "metadata": {},
   "outputs": [
    {
     "data": {
      "text/plain": [
       "'good morning'"
      ]
     },
     "execution_count": 4,
     "metadata": {},
     "output_type": "execute_result"
    }
   ],
   "source": [
    "# 문자열 더하기(문자열 연결하기)\n",
    "\n",
    "a = 'good '\n",
    "b = 'morning'\n",
    "a + b"
   ]
  },
  {
   "cell_type": "code",
   "execution_count": 8,
   "id": "8256eb6b",
   "metadata": {},
   "outputs": [
    {
     "name": "stdout",
     "output_type": "stream",
     "text": [
      "너가 세상에서 제일 사랑스러워. 사랑해너가 세상에서 제일 사랑스러워. 사랑해너가 세상에서 제일 사랑스러워. 사랑해너가 세상에서 제일 사랑스러워. 사랑해너가 세상에서 제일 사랑스러워. 사랑해너가 세상에서 제일 사랑스러워. 사랑해너가 세상에서 제일 사랑스러워. 사랑해너가 세상에서 제일 사랑스러워. 사랑해너가 세상에서 제일 사랑스러워. 사랑해너가 세상에서 제일 사랑스러워. 사랑해\n",
      "\n",
      "ㅇㅇㅇㅇㅇㅇㅇㅇㅇㅇ\n"
     ]
    }
   ],
   "source": [
    "# 문자열 곱하기 (문자열 반복하기)\n",
    "\n",
    "f = '나 얼만큼 사랑해?'\n",
    "m = '너가 세상에서 제일 사랑스러워. 사랑해'\n",
    "f_hate = 'ㅇㅇ'\n",
    "print(m * 10)\n",
    "print()\n",
    "print(f_hate * 5)"
   ]
  },
  {
   "cell_type": "code",
   "execution_count": 9,
   "id": "7ccf2d37",
   "metadata": {},
   "outputs": [
    {
     "data": {
      "text/plain": [
       "'수학 점수 : 70'"
      ]
     },
     "execution_count": 9,
     "metadata": {},
     "output_type": "execute_result"
    }
   ],
   "source": [
    "# 문자열과 숫자형 더하기\n",
    "# 숫자형 >> 문자형 변환\n",
    "math = 70\n",
    "'수학 점수 : ' + str(math)"
   ]
  },
  {
   "cell_type": "code",
   "execution_count": 10,
   "id": "153561f3",
   "metadata": {},
   "outputs": [
    {
     "name": "stdout",
     "output_type": "stream",
     "text": [
      "영어 점수 : 80\n"
     ]
    }
   ],
   "source": [
    "english = 80\n",
    "result = '영어 점수 : ' + str(english)\n",
    "print(result)"
   ]
  },
  {
   "cell_type": "markdown",
   "id": "658a872e",
   "metadata": {},
   "source": [
    "할당 연산자"
   ]
  },
  {
   "cell_type": "code",
   "execution_count": 11,
   "id": "a0af8dad",
   "metadata": {},
   "outputs": [
    {
     "data": {
      "text/plain": [
       "1"
      ]
     },
     "execution_count": 11,
     "metadata": {},
     "output_type": "execute_result"
    }
   ],
   "source": [
    "a = 1\n",
    "a"
   ]
  },
  {
   "cell_type": "code",
   "execution_count": 12,
   "id": "f6df4958",
   "metadata": {},
   "outputs": [
    {
     "name": "stdout",
     "output_type": "stream",
     "text": [
      "1 1 1\n"
     ]
    }
   ],
   "source": [
    "# a, b, c에 모두 1 할당\n",
    "\n",
    "a = b = c = 1\n",
    "\n",
    "print(a,b,c,)"
   ]
  },
  {
   "cell_type": "code",
   "execution_count": 14,
   "id": "dbe798b6",
   "metadata": {},
   "outputs": [
    {
     "name": "stdout",
     "output_type": "stream",
     "text": [
      "30\n"
     ]
    }
   ],
   "source": [
    "# 복합 할당 연산자\n",
    "\n",
    "x = 10\n",
    "x += 20 # x = x + 20\n",
    "\n",
    "print(x)"
   ]
  },
  {
   "cell_type": "code",
   "execution_count": 15,
   "id": "a6a3180f",
   "metadata": {},
   "outputs": [
    {
     "name": "stdout",
     "output_type": "stream",
     "text": [
      "24\n"
     ]
    }
   ],
   "source": [
    "x = 3\n",
    "y = 5\n",
    "\n",
    "x *= x + y # x = x * (x + y)\n",
    "print(x)"
   ]
  },
  {
   "cell_type": "code",
   "execution_count": 16,
   "id": "63ddf075",
   "metadata": {},
   "outputs": [
    {
     "name": "stdout",
     "output_type": "stream",
     "text": [
      "0.375\n"
     ]
    }
   ],
   "source": [
    "x = 3\n",
    "y = 5\n",
    "\n",
    "x /= x+y # x = x / (x + y)\n",
    "\n",
    "print(x)"
   ]
  },
  {
   "cell_type": "markdown",
   "id": "bea31fd6",
   "metadata": {},
   "source": [
    "f 스트링으로 출력하기"
   ]
  },
  {
   "cell_type": "code",
   "execution_count": 17,
   "id": "f694a1dd",
   "metadata": {},
   "outputs": [
    {
     "name": "stdout",
     "output_type": "stream",
     "text": [
      "이름이 뭐에요? : 김선홍\n",
      "김선홍 님, 안녕하세요\n"
     ]
    }
   ],
   "source": [
    "name = input('이름이 뭐에요? : ')\n",
    "print(name, '님, 안녕하세요')"
   ]
  },
  {
   "cell_type": "code",
   "execution_count": 18,
   "id": "25d03d7f",
   "metadata": {},
   "outputs": [
    {
     "name": "stdout",
     "output_type": "stream",
     "text": [
      "김선홍님, 환영합니다.\n"
     ]
    }
   ],
   "source": [
    "print(f'{name}님, 환영합니다.')"
   ]
  },
  {
   "cell_type": "code",
   "execution_count": 19,
   "id": "c9b27789",
   "metadata": {},
   "outputs": [
    {
     "name": "stdout",
     "output_type": "stream",
     "text": [
      "나이는 어떻게 되세요? : 20\n",
      "나이는 20 살 이시군요. 내년이면 21 살이 되시겠네요.\n"
     ]
    }
   ],
   "source": [
    "age = int(input('나이는 어떻게 되세요? : '))\n",
    "\n",
    "print('나이는', age, '살 이시군요. 내년이면', age+1, '살이 되시겠네요.')"
   ]
  },
  {
   "cell_type": "code",
   "execution_count": 20,
   "id": "8c71f430",
   "metadata": {},
   "outputs": [
    {
     "name": "stdout",
     "output_type": "stream",
     "text": [
      "나이는 20살 이시군요. 내년이면 21살이 되시겠네요.\n"
     ]
    }
   ],
   "source": [
    "print(f'나이는 {age}살 이시군요. 내년이면 {age+1}살이 되시겠네요.')"
   ]
  },
  {
   "cell_type": "markdown",
   "id": "4a2b09fc",
   "metadata": {},
   "source": [
    "두 수를 입력받아 더하는 프로그램 작성하기\n",
    "\n",
    "    "
   ]
  },
  {
   "cell_type": "code",
   "execution_count": 22,
   "id": "cb7777c3",
   "metadata": {},
   "outputs": [
    {
     "name": "stdout",
     "output_type": "stream",
     "text": [
      "첫번째 숫자 입력해 주세요. : 3\n",
      "두번째 숫자 입력해 주세요. : 5\n",
      "3 + 5 = 8\n"
     ]
    }
   ],
   "source": [
    "a = int(input('첫번째 숫자 입력해 주세요. : '))\n",
    "b = int(input('두번째 숫자 입력해 주세요. : '))\n",
    "\n",
    "print(a, '+', b, '=', a + b)"
   ]
  },
  {
   "cell_type": "code",
   "execution_count": 23,
   "id": "1965bb82",
   "metadata": {},
   "outputs": [
    {
     "name": "stdout",
     "output_type": "stream",
     "text": [
      "3 + 5 = 8\n"
     ]
    }
   ],
   "source": [
    "print(f'{a} + {b} = {a+b}')"
   ]
  },
  {
   "cell_type": "markdown",
   "id": "2d9646f7",
   "metadata": {},
   "source": [
    "연습문제 "
   ]
  },
  {
   "cell_type": "markdown",
   "id": "e588ec6a",
   "metadata": {},
   "source": [
    "- 화씨 온도를 섭씨 온도로 변환하는 프로그램 작성해 보세요.\n",
    "\n",
    "C = (F - 32) * (5 / 9)"
   ]
  },
  {
   "cell_type": "code",
   "execution_count": 31,
   "id": "a5941fb2",
   "metadata": {},
   "outputs": [
    {
     "name": "stdout",
     "output_type": "stream",
     "text": [
      "화씨 온도를 입력해 주세요. : 30\n",
      "오늘의 화씨온도는 30.0도 이고, 섭씨온도는 -1.11도 입니다.\n"
     ]
    }
   ],
   "source": [
    "f = float(input('화씨 온도를 입력해 주세요. : '))\n",
    "c = (f-32)*(5/9)\n",
    "print(f'오늘의 화씨온도는 {f}도 이고, 섭씨온도는 {round(c,2)}도 입니다.')"
   ]
  },
  {
   "cell_type": "code",
   "execution_count": null,
   "id": "0e39eb6e",
   "metadata": {},
   "outputs": [],
   "source": []
  },
  {
   "cell_type": "code",
   "execution_count": null,
   "id": "0f5d9f5d",
   "metadata": {},
   "outputs": [],
   "source": []
  }
 ],
 "metadata": {
  "kernelspec": {
   "display_name": "Python 3 (ipykernel)",
   "language": "python",
   "name": "python3"
  },
  "language_info": {
   "codemirror_mode": {
    "name": "ipython",
    "version": 3
   },
   "file_extension": ".py",
   "mimetype": "text/x-python",
   "name": "python",
   "nbconvert_exporter": "python",
   "pygments_lexer": "ipython3",
   "version": "3.9.13"
  }
 },
 "nbformat": 4,
 "nbformat_minor": 5
}
