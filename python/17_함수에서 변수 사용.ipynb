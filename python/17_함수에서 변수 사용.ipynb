{
 "cells": [
  {
   "cell_type": "markdown",
   "id": "7fee5b07",
   "metadata": {},
   "source": [
    "전역 변수\n",
    "\n",
    "- 함수 밖에서 생성된 변수\n",
    "- 함수 내에서도 사용 가능\n"
   ]
  },
  {
   "cell_type": "code",
   "execution_count": 6,
   "id": "db8f8cdc",
   "metadata": {},
   "outputs": [
    {
     "name": "stdout",
     "output_type": "stream",
     "text": [
      "hey, yo\n"
     ]
    }
   ],
   "source": [
    "say_ha = 'hey, yo' # 전역변수\n",
    "\n",
    "def sayha() :\n",
    "    print(say_ha)\n",
    "    \n",
    "sayha()"
   ]
  },
  {
   "cell_type": "markdown",
   "id": "b03c82c7",
   "metadata": {},
   "source": [
    "지역 변수\n",
    "- 함수 내에서 생성된 변수\n",
    "- 함수 내에서만 사용 가능"
   ]
  },
  {
   "cell_type": "code",
   "execution_count": 13,
   "id": "5236c1a5",
   "metadata": {},
   "outputs": [
    {
     "name": "stdout",
     "output_type": "stream",
     "text": [
      "goodbye\n"
     ]
    }
   ],
   "source": [
    "def saygoodbye() :\n",
    "    segooba = 'goodbye' # 지역변수    \n",
    "    print(segooba)\n",
    "\n",
    "saygoodbye()"
   ]
  },
  {
   "cell_type": "code",
   "execution_count": 14,
   "id": "6b5a1d32",
   "metadata": {},
   "outputs": [],
   "source": [
    "# print(segooba)\n",
    "# NameError"
   ]
  },
  {
   "cell_type": "code",
   "execution_count": 15,
   "id": "1a47f1b6",
   "metadata": {},
   "outputs": [
    {
     "name": "stdout",
     "output_type": "stream",
     "text": [
      "goodbye\n"
     ]
    }
   ],
   "source": [
    "def saygoodbye() :\n",
    "    global segooba # 전역변수로 선언\n",
    "    segooba = 'goodbye' \n",
    "    print(segooba)\n",
    "\n",
    "saygoodbye()"
   ]
  },
  {
   "cell_type": "code",
   "execution_count": 16,
   "id": "d2ee3d45",
   "metadata": {},
   "outputs": [
    {
     "data": {
      "text/plain": [
       "'goodbye'"
      ]
     },
     "execution_count": 16,
     "metadata": {},
     "output_type": "execute_result"
    }
   ],
   "source": [
    "segooba"
   ]
  },
  {
   "cell_type": "markdown",
   "id": "82a240b2",
   "metadata": {},
   "source": [
    "함수 안에서 전역변수 값 변경하기\n",
    "\n",
    "- 함수 내에서 전역변수 값을 변경하려면 'global' 함께 사용\n",
    "- global 사용하지 않으면 >> 동일 이름의 지역변수가 생성"
   ]
  },
  {
   "cell_type": "code",
   "execution_count": 19,
   "id": "9819c819",
   "metadata": {},
   "outputs": [
    {
     "name": "stdout",
     "output_type": "stream",
     "text": [
      "(12, -8)\n",
      "1\n"
     ]
    }
   ],
   "source": [
    "# 전역변수\n",
    "\n",
    "n1 = 1\n",
    "n2 = 10\n",
    "\n",
    "def plus_minus() :\n",
    "    n1 = 2\n",
    "    plus = n1 + n2\n",
    "    minus = n1 - n2\n",
    "    return plus, minus\n",
    "\n",
    "print(plus_minus())\n",
    "print(n1) # 전역변수 정의된 값 출력"
   ]
  },
  {
   "cell_type": "code",
   "execution_count": 20,
   "id": "20cf778f",
   "metadata": {},
   "outputs": [
    {
     "name": "stdout",
     "output_type": "stream",
     "text": [
      "(12, -8)\n",
      "2\n"
     ]
    }
   ],
   "source": [
    "# 전역변수\n",
    "\n",
    "n1 = 1\n",
    "n2 = 10\n",
    "\n",
    "def plus_minus() :\n",
    "    global n1 # n1을 전역변수 값 활용 선언\n",
    "    n1 = 2\n",
    "    plus = n1 + n2\n",
    "    minus = n1 - n2\n",
    "    return plus, minus\n",
    "\n",
    "print(plus_minus())\n",
    "print(n1) "
   ]
  },
  {
   "cell_type": "code",
   "execution_count": null,
   "id": "2210e8f0",
   "metadata": {},
   "outputs": [],
   "source": []
  }
 ],
 "metadata": {
  "kernelspec": {
   "display_name": "Python 3 (ipykernel)",
   "language": "python",
   "name": "python3"
  },
  "language_info": {
   "codemirror_mode": {
    "name": "ipython",
    "version": 3
   },
   "file_extension": ".py",
   "mimetype": "text/x-python",
   "name": "python",
   "nbconvert_exporter": "python",
   "pygments_lexer": "ipython3",
   "version": "3.9.13"
  }
 },
 "nbformat": 4,
 "nbformat_minor": 5
}
