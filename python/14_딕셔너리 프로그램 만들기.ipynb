{
 "cells": [
  {
   "cell_type": "markdown",
   "id": "e9bd753e",
   "metadata": {},
   "source": [
    "영어단어장 만들어봐요\n",
    "\n",
    "enter 입력할 때 까지 영어 단어, 뜻 입력 받아서\n",
    "단어장 만들고, 입력이 끝나면 단어 테스트 실시하는 프로그램 만들기\n",
    "\n",
    "1. 단어장을 만든다.\n",
    "2. 단어테스트 실시 >> 맞은 갯수 계산\n",
    "3. 테스트 끝나면, 맞은 갯수 / 전체 단어수 / 점수 형태로 결과 출력"
   ]
  },
  {
   "cell_type": "code",
   "execution_count": 1,
   "id": "5d9ec6fc",
   "metadata": {},
   "outputs": [
    {
     "name": "stdout",
     "output_type": "stream",
     "text": [
      "영어단어, 뜻 apple,사과\n",
      "영어단어, 뜻 bananan,바나나\n",
      "영어단어, 뜻 strawberry,딸기\n",
      "영어단어, 뜻 \n"
     ]
    },
    {
     "data": {
      "text/plain": [
       "{'apple': '사과', 'bananan': '바나나', 'strawberry': '딸기'}"
      ]
     },
     "execution_count": 1,
     "metadata": {},
     "output_type": "execute_result"
    }
   ],
   "source": [
    "# 단어장 만들기\n",
    "\n",
    "dict_word = {}\n",
    "\n",
    "while True :\n",
    "    input_word = input('영어단어, 뜻 ')\n",
    "    \n",
    "    if input_word == '' :\n",
    "        break\n",
    "    \n",
    "    eng = input_word.split(',')[0]\n",
    "    kor = input_word.split(',')[1]\n",
    "    \n",
    "    dict_word[eng] = kor\n",
    "    \n",
    "dict_word "
   ]
  },
  {
   "cell_type": "markdown",
   "id": "4e5dbf94",
   "metadata": {},
   "source": [
    "단어테스트\n",
    "\n",
    "- 단어장의 단어들을 모두 테스트\n",
    "- 맞은 개수는 별도로 카운트\n"
   ]
  },
  {
   "cell_type": "code",
   "execution_count": 2,
   "id": "30e724e0",
   "metadata": {},
   "outputs": [
    {
     "data": {
      "text/plain": [
       "{'apple': '사과', 'bananan': '바나나', 'strawberry': '딸기'}"
      ]
     },
     "execution_count": 2,
     "metadata": {},
     "output_type": "execute_result"
    }
   ],
   "source": [
    "dict_word"
   ]
  },
  {
   "cell_type": "code",
   "execution_count": 3,
   "id": "f7c7d943",
   "metadata": {},
   "outputs": [
    {
     "name": "stdout",
     "output_type": "stream",
     "text": [
      "apple사과\n",
      "o\n",
      "bananan바나나\n",
      "o\n",
      "strawberry산딸기\n",
      "x\n",
      "2\n"
     ]
    }
   ],
   "source": [
    "cnt = 0\n",
    "\n",
    "for eng, kor in dict_word.items() :\n",
    "    answer = input(eng)\n",
    "    \n",
    "    if answer == kor :\n",
    "        print('o')\n",
    "        cnt += 1\n",
    "    \n",
    "    else :\n",
    "        print('x')\n",
    "    \n"
   ]
  },
  {
   "cell_type": "code",
   "execution_count": 8,
   "id": "0e1641cb",
   "metadata": {},
   "outputs": [
    {
     "name": "stdout",
     "output_type": "stream",
     "text": [
      "맞은 문제 수 :  2\n"
     ]
    }
   ],
   "source": [
    "print('맞은 문제 수 : ', cnt)"
   ]
  },
  {
   "cell_type": "code",
   "execution_count": 4,
   "id": "8cef9fca",
   "metadata": {},
   "outputs": [
    {
     "name": "stdout",
     "output_type": "stream",
     "text": [
      "전체 문제수 :  3\n"
     ]
    }
   ],
   "source": [
    "print('전체 문제수 : ', len(dict_word))"
   ]
  },
  {
   "cell_type": "code",
   "execution_count": 7,
   "id": "65cc2b2f",
   "metadata": {},
   "outputs": [
    {
     "name": "stdout",
     "output_type": "stream",
     "text": [
      "점수 :  66.67\n"
     ]
    }
   ],
   "source": [
    "print('점수 : ', round(cnt/len(dict_word)*100,2))"
   ]
  },
  {
   "cell_type": "code",
   "execution_count": 16,
   "id": "ac5d703b",
   "metadata": {},
   "outputs": [
    {
     "name": "stdout",
     "output_type": "stream",
     "text": [
      "영어단어, 뜻 apple, 사과\n",
      "영어단어, 뜻 banana, 바나나\n",
      "영어단어, 뜻 \n"
     ]
    },
    {
     "data": {
      "text/plain": [
       "{'apple': '사과', 'banana': '바나나'}"
      ]
     },
     "execution_count": 16,
     "metadata": {},
     "output_type": "execute_result"
    }
   ],
   "source": [
    "dict_word = {}\n",
    "\n",
    "while True :\n",
    "    input_word = input('영어단어, 뜻 ')\n",
    "    \n",
    "    if input_word == '' :\n",
    "        break\n",
    "    \n",
    "    eng = input_word.split(',')[0].strip()\n",
    "    kor = input_word.split(',')[1].strip()\n",
    "    \n",
    "    dict_word.setdefault(eng, kor)\n",
    "    \n",
    "dict_word "
   ]
  },
  {
   "cell_type": "code",
   "execution_count": 14,
   "id": "5e43a015",
   "metadata": {},
   "outputs": [
    {
     "name": "stdout",
     "output_type": "stream",
     "text": [
      "영어단어 뜻 banana 바나나\n",
      "영어단어 뜻 apple 사과\n",
      "영어단어 뜻 \n"
     ]
    },
    {
     "data": {
      "text/plain": [
       "{'banana': '바나나', 'apple': '사과'}"
      ]
     },
     "execution_count": 14,
     "metadata": {},
     "output_type": "execute_result"
    }
   ],
   "source": [
    "dict_word = {}\n",
    "\n",
    "while True :\n",
    "    input_word = input('영어단어 뜻 ')\n",
    "    \n",
    "    if input_word == '' :\n",
    "        break\n",
    "    \n",
    "    eng = input_word.split(' ')[0]\n",
    "    kor = input_word.split(' ')[1]\n",
    "    \n",
    "    dict_word.update([(eng, kor)])\n",
    "    \n",
    "dict_word "
   ]
  },
  {
   "cell_type": "code",
   "execution_count": null,
   "id": "a11f815a",
   "metadata": {},
   "outputs": [],
   "source": []
  }
 ],
 "metadata": {
  "kernelspec": {
   "display_name": "Python 3 (ipykernel)",
   "language": "python",
   "name": "python3"
  },
  "language_info": {
   "codemirror_mode": {
    "name": "ipython",
    "version": 3
   },
   "file_extension": ".py",
   "mimetype": "text/x-python",
   "name": "python",
   "nbconvert_exporter": "python",
   "pygments_lexer": "ipython3",
   "version": "3.9.13"
  }
 },
 "nbformat": 4,
 "nbformat_minor": 5
}
