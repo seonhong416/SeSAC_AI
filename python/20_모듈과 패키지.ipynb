{
 "cells": [
  {
   "cell_type": "markdown",
   "id": "65e2679a",
   "metadata": {},
   "source": [
    "모듈 사용하기\n",
    "\n",
    "- import 모듈명\n",
    "\n",
    "- 모듈명.함수명()"
   ]
  },
  {
   "cell_type": "code",
   "execution_count": 1,
   "id": "5dd4b98b",
   "metadata": {},
   "outputs": [
    {
     "data": {
      "text/plain": [
       "'C:\\\\Users\\\\SBAUser\\\\Desktop\\\\수업자료\\\\code\\\\python'"
      ]
     },
     "execution_count": 1,
     "metadata": {},
     "output_type": "execute_result"
    }
   ],
   "source": [
    "pwd  # 현재위치"
   ]
  },
  {
   "cell_type": "code",
   "execution_count": 1,
   "id": "f95d72c5",
   "metadata": {},
   "outputs": [],
   "source": [
    "import myCalc "
   ]
  },
  {
   "cell_type": "code",
   "execution_count": 3,
   "id": "6dd5ff7a",
   "metadata": {},
   "outputs": [
    {
     "name": "stdout",
     "output_type": "stream",
     "text": [
      "3\n",
      "-1\n",
      "2\n",
      "0.5\n"
     ]
    }
   ],
   "source": [
    "print(myCalc.get_plus(1,2))\n",
    "print(myCalc.get_minus(1,2))\n",
    "print(myCalc.get_multiply(1,2))\n",
    "print(myCalc.get_division(1,2))"
   ]
  },
  {
   "cell_type": "markdown",
   "id": "90b56150",
   "metadata": {},
   "source": [
    "모듈 별칭 사용하기\n",
    "\n",
    "- import 모듈명 as 별칭 "
   ]
  },
  {
   "cell_type": "code",
   "execution_count": 4,
   "id": "a7488760",
   "metadata": {},
   "outputs": [
    {
     "name": "stdout",
     "output_type": "stream",
     "text": [
      "3\n",
      "-1\n",
      "0.5\n",
      "2\n"
     ]
    }
   ],
   "source": [
    "import myCalc as calc\n",
    "\n",
    "print(calc.get_plus(1,2))\n",
    "print(calc.get_minus(1,2))\n",
    "print(calc.get_division(1,2))\n",
    "print(calc.get_multiply(1,2))"
   ]
  },
  {
   "cell_type": "markdown",
   "id": "284aaac9",
   "metadata": {},
   "source": [
    "모듈 이름 붙이지 않고 함수 사용하기\n",
    "\n",
    "- from 모듈명 import 함수명1, 함수명2, ..."
   ]
  },
  {
   "cell_type": "code",
   "execution_count": 5,
   "id": "0daf3d9d",
   "metadata": {},
   "outputs": [
    {
     "name": "stdout",
     "output_type": "stream",
     "text": [
      "3\n",
      "-1\n"
     ]
    }
   ],
   "source": [
    "from myCalc import get_plus, get_minus\n",
    "\n",
    "print(get_plus(1,2))\n",
    "print(get_minus(1,2))\n",
    "# print(get_multiply(1,2))\n"
   ]
  },
  {
   "cell_type": "code",
   "execution_count": 6,
   "id": "b970c1fc",
   "metadata": {},
   "outputs": [
    {
     "name": "stdout",
     "output_type": "stream",
     "text": [
      "3\n",
      "-1\n",
      "2\n"
     ]
    }
   ],
   "source": [
    "from myCalc import *\n",
    "print(get_plus(1,2))\n",
    "print(get_minus(1,2))\n",
    "print(get_multiply(1,2))"
   ]
  },
  {
   "cell_type": "code",
   "execution_count": null,
   "id": "c4b3fb2f",
   "metadata": {},
   "outputs": [],
   "source": []
  }
 ],
 "metadata": {
  "kernelspec": {
   "display_name": "Python 3 (ipykernel)",
   "language": "python",
   "name": "python3"
  },
  "language_info": {
   "codemirror_mode": {
    "name": "ipython",
    "version": 3
   },
   "file_extension": ".py",
   "mimetype": "text/x-python",
   "name": "python",
   "nbconvert_exporter": "python",
   "pygments_lexer": "ipython3",
   "version": "3.9.13"
  }
 },
 "nbformat": 4,
 "nbformat_minor": 5
}
