{
 "cells": [
  {
   "cell_type": "markdown",
   "id": "daf116f0",
   "metadata": {},
   "source": [
    "위치 인수\n",
    "\n",
    "- 기본적인 인수 전달방법\n",
    "- 함수에 정의된 매개변수와 순서에 맞게 짝을 맞추어 인수 전달"
   ]
  },
  {
   "cell_type": "code",
   "execution_count": 1,
   "id": "07edc4f3",
   "metadata": {},
   "outputs": [],
   "source": [
    "def greet(name, msg) :\n",
    "    print('안녕', name, msg)"
   ]
  },
  {
   "cell_type": "code",
   "execution_count": 2,
   "id": "24ab9497",
   "metadata": {},
   "outputs": [
    {
     "name": "stdout",
     "output_type": "stream",
     "text": [
      "안녕 친구 반가워, 오랜만이야\n"
     ]
    }
   ],
   "source": [
    "greet('친구', '반가워, 오랜만이야')"
   ]
  },
  {
   "cell_type": "markdown",
   "id": "1816d6b4",
   "metadata": {},
   "source": [
    "default 인수\n",
    "\n",
    "- 함수 정의할  때, 매개변수에 default값을 지정하면 defalut값이 지정된 인수를 생략 가능"
   ]
  },
  {
   "cell_type": "code",
   "execution_count": 3,
   "id": "7bdfd26e",
   "metadata": {},
   "outputs": [],
   "source": [
    "def 방가(name, msg = '오랜만이야') :\n",
    "    print('안녕',name, msg)"
   ]
  },
  {
   "cell_type": "code",
   "execution_count": 4,
   "id": "0e4234e8",
   "metadata": {},
   "outputs": [
    {
     "name": "stdout",
     "output_type": "stream",
     "text": [
      "안녕 친구 오랜만이야\n"
     ]
    }
   ],
   "source": [
    "방가('친구')"
   ]
  },
  {
   "cell_type": "code",
   "execution_count": 5,
   "id": "3a1e0cc2",
   "metadata": {},
   "outputs": [
    {
     "name": "stdout",
     "output_type": "stream",
     "text": [
      "안녕 당신 이게 얼마만이야\n"
     ]
    }
   ],
   "source": [
    "방가('당신','이게 얼마만이야')"
   ]
  },
  {
   "cell_type": "markdown",
   "id": "657c847c",
   "metadata": {},
   "source": [
    "키워드 인수\n",
    "- 함수를 호출할 때, 인수 이름 명시하면, 순서 바꿔 전달 가능"
   ]
  },
  {
   "cell_type": "code",
   "execution_count": 6,
   "id": "3b6730bb",
   "metadata": {},
   "outputs": [],
   "source": [
    "def get_minus(x,y,z) :\n",
    "    return x-y-z"
   ]
  },
  {
   "cell_type": "code",
   "execution_count": 7,
   "id": "d32889cb",
   "metadata": {},
   "outputs": [
    {
     "data": {
      "text/plain": [
       "-20"
      ]
     },
     "execution_count": 7,
     "metadata": {},
     "output_type": "execute_result"
    }
   ],
   "source": [
    "get_minus(5,10,15)"
   ]
  },
  {
   "cell_type": "code",
   "execution_count": 8,
   "id": "079fb02b",
   "metadata": {},
   "outputs": [
    {
     "data": {
      "text/plain": [
       "-20"
      ]
     },
     "execution_count": 8,
     "metadata": {},
     "output_type": "execute_result"
    }
   ],
   "source": [
    "get_minus(5, z = 15, y = 10)"
   ]
  },
  {
   "cell_type": "markdown",
   "id": "86b41cbf",
   "metadata": {},
   "source": [
    "가변인수\n",
    "\n",
    "- 인수를 하나의 튜플이나 리스트로 전달"
   ]
  },
  {
   "cell_type": "code",
   "execution_count": 11,
   "id": "ecd0d449",
   "metadata": {},
   "outputs": [
    {
     "data": {
      "text/plain": [
       "2.0"
      ]
     },
     "execution_count": 11,
     "metadata": {},
     "output_type": "execute_result"
    }
   ],
   "source": [
    "# 가변적인 수를 하나(1)의 리스트/튜플로 받아서 평균을 리턴하는 함수\n",
    "def average(args) :\n",
    "    return sum(args)/len(args)\n",
    "\n",
    "average([1,2,3])\n"
   ]
  },
  {
   "cell_type": "code",
   "execution_count": 13,
   "id": "2830c932",
   "metadata": {},
   "outputs": [
    {
     "data": {
      "text/plain": [
       "3.0"
      ]
     },
     "execution_count": 13,
     "metadata": {},
     "output_type": "execute_result"
    }
   ],
   "source": [
    "# 매개변수에 '*' 붙이면 여러개의 인수를 튜플로 받음\n",
    "# 즉, 인수의 개수는 가변적\n",
    "def average(*args) :\n",
    "    return sum(args)/len(args)\n",
    "\n",
    "average(1,2,3,4,5)"
   ]
  },
  {
   "cell_type": "code",
   "execution_count": null,
   "id": "e9965f97",
   "metadata": {},
   "outputs": [],
   "source": []
  }
 ],
 "metadata": {
  "kernelspec": {
   "display_name": "Python 3 (ipykernel)",
   "language": "python",
   "name": "python3"
  },
  "language_info": {
   "codemirror_mode": {
    "name": "ipython",
    "version": 3
   },
   "file_extension": ".py",
   "mimetype": "text/x-python",
   "name": "python",
   "nbconvert_exporter": "python",
   "pygments_lexer": "ipython3",
   "version": "3.9.13"
  }
 },
 "nbformat": 4,
 "nbformat_minor": 5
}
