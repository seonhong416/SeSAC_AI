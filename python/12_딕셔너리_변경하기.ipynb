{
 "cells": [
  {
   "cell_type": "markdown",
   "id": "a79de183",
   "metadata": {},
   "source": [
    "딕셔너리 항목 추가/ 수정"
   ]
  },
  {
   "cell_type": "code",
   "execution_count": 3,
   "id": "5bccf9b2",
   "metadata": {},
   "outputs": [],
   "source": [
    "import numpy as np\n",
    "import pandas as pd\n",
    "import matplotlib.pyplot as plt"
   ]
  },
  {
   "cell_type": "code",
   "execution_count": 18,
   "id": "e17677df",
   "metadata": {},
   "outputs": [
    {
     "data": {
      "text/plain": [
       "{'kor': 100, 'eng': 90, 'math': 85, 'music': 95}"
      ]
     },
     "execution_count": 18,
     "metadata": {},
     "output_type": "execute_result"
    }
   ],
   "source": [
    "# 딕셔너리명[key] = value\n",
    "# key가 존재하지 않으면 >> 추가, 존재하면 >> 수정된다.\n",
    "\n",
    "scores = {'kor':100,'eng' : 90, 'math' : 80}\n",
    "\n",
    "# math 점수 85점으로 수정하기\n",
    "\n",
    "scores['math'] = 85\n",
    "\n",
    "# music 점수 95점 추가\n",
    "\n",
    "scores['music'] = 95\n",
    "\n",
    "scores"
   ]
  },
  {
   "cell_type": "code",
   "execution_count": 11,
   "id": "4754c030",
   "metadata": {},
   "outputs": [],
   "source": [
    "# pd.DataFrame(scores)\n",
    "# ValueError: If using all scalar values, you must pass an index"
   ]
  },
  {
   "cell_type": "code",
   "execution_count": 12,
   "id": "7f7d3506",
   "metadata": {},
   "outputs": [
    {
     "data": {
      "text/html": [
       "<div>\n",
       "<style scoped>\n",
       "    .dataframe tbody tr th:only-of-type {\n",
       "        vertical-align: middle;\n",
       "    }\n",
       "\n",
       "    .dataframe tbody tr th {\n",
       "        vertical-align: top;\n",
       "    }\n",
       "\n",
       "    .dataframe thead th {\n",
       "        text-align: right;\n",
       "    }\n",
       "</style>\n",
       "<table border=\"1\" class=\"dataframe\">\n",
       "  <thead>\n",
       "    <tr style=\"text-align: right;\">\n",
       "      <th></th>\n",
       "      <th>kor</th>\n",
       "      <th>eng</th>\n",
       "      <th>math</th>\n",
       "      <th>music</th>\n",
       "    </tr>\n",
       "  </thead>\n",
       "  <tbody>\n",
       "    <tr>\n",
       "      <th>선홍</th>\n",
       "      <td>100</td>\n",
       "      <td>90</td>\n",
       "      <td>85</td>\n",
       "      <td>95</td>\n",
       "    </tr>\n",
       "  </tbody>\n",
       "</table>\n",
       "</div>"
      ],
      "text/plain": [
       "    kor  eng  math  music\n",
       "선홍  100   90    85     95"
      ]
     },
     "execution_count": 12,
     "metadata": {},
     "output_type": "execute_result"
    }
   ],
   "source": [
    "pd.DataFrame(scores, index = ['선홍'])"
   ]
  },
  {
   "cell_type": "code",
   "execution_count": 13,
   "id": "03ad07ac",
   "metadata": {},
   "outputs": [
    {
     "data": {
      "text/html": [
       "<div>\n",
       "<style scoped>\n",
       "    .dataframe tbody tr th:only-of-type {\n",
       "        vertical-align: middle;\n",
       "    }\n",
       "\n",
       "    .dataframe tbody tr th {\n",
       "        vertical-align: top;\n",
       "    }\n",
       "\n",
       "    .dataframe thead th {\n",
       "        text-align: right;\n",
       "    }\n",
       "</style>\n",
       "<table border=\"1\" class=\"dataframe\">\n",
       "  <thead>\n",
       "    <tr style=\"text-align: right;\">\n",
       "      <th></th>\n",
       "      <th>kor</th>\n",
       "      <th>eng</th>\n",
       "      <th>math</th>\n",
       "      <th>music</th>\n",
       "    </tr>\n",
       "  </thead>\n",
       "  <tbody>\n",
       "    <tr>\n",
       "      <th>0</th>\n",
       "      <td>100</td>\n",
       "      <td>90</td>\n",
       "      <td>85</td>\n",
       "      <td>95</td>\n",
       "    </tr>\n",
       "  </tbody>\n",
       "</table>\n",
       "</div>"
      ],
      "text/plain": [
       "   kor  eng  math  music\n",
       "0  100   90    85     95"
      ]
     },
     "execution_count": 13,
     "metadata": {},
     "output_type": "execute_result"
    }
   ],
   "source": [
    "pd.DataFrame([scores])"
   ]
  },
  {
   "cell_type": "markdown",
   "id": "8cfd2da3",
   "metadata": {},
   "source": [
    "setdefault로 항목 추가하기\n",
    "\n",
    "- 딕셔너리명.setdefault(key, value)\n",
    "- 이미 들어있는 key값은 수정할 수 없음"
   ]
  },
  {
   "cell_type": "code",
   "execution_count": 19,
   "id": "14be5823",
   "metadata": {},
   "outputs": [],
   "source": [
    "del scores['music']"
   ]
  },
  {
   "cell_type": "code",
   "execution_count": 20,
   "id": "00d8e61a",
   "metadata": {},
   "outputs": [],
   "source": [
    "scores_set = scores.copy()"
   ]
  },
  {
   "cell_type": "code",
   "execution_count": 21,
   "id": "f9516e29",
   "metadata": {},
   "outputs": [
    {
     "data": {
      "text/plain": [
       "{'kor': 100, 'eng': 90, 'math': 85, 'music': None}"
      ]
     },
     "execution_count": 21,
     "metadata": {},
     "output_type": "execute_result"
    }
   ],
   "source": [
    "scores_set.setdefault('music')\n",
    "scores_set"
   ]
  },
  {
   "cell_type": "code",
   "execution_count": 23,
   "id": "8786768f",
   "metadata": {},
   "outputs": [
    {
     "data": {
      "text/plain": [
       "{'kor': 100, 'eng': 90, 'math': 85, 'music': None}"
      ]
     },
     "execution_count": 23,
     "metadata": {},
     "output_type": "execute_result"
    }
   ],
   "source": [
    "scores_set.setdefault('music', 90)\n",
    "scores_set  # 한번 설정해서 변경되지 않음"
   ]
  },
  {
   "cell_type": "code",
   "execution_count": 22,
   "id": "b765b521",
   "metadata": {},
   "outputs": [
    {
     "data": {
      "text/plain": [
       "{'kor': 100, 'eng': 90, 'math': 85, 'music': 90}"
      ]
     },
     "execution_count": 22,
     "metadata": {},
     "output_type": "execute_result"
    }
   ],
   "source": [
    "# music 점수 추가 : 90점\n",
    "\n",
    "scores.setdefault('music',90)\n",
    "\n",
    "scores"
   ]
  },
  {
   "cell_type": "code",
   "execution_count": 24,
   "id": "a5cff50a",
   "metadata": {},
   "outputs": [
    {
     "data": {
      "text/plain": [
       "{'kor': 100, 'eng': 90, 'math': 85, 'music': 85}"
      ]
     },
     "execution_count": 24,
     "metadata": {},
     "output_type": "execute_result"
    }
   ],
   "source": [
    "# 이 방법으로 원래있던 값 변경 가능\n",
    "scores['music'] = 85\n",
    "\n",
    "scores"
   ]
  },
  {
   "cell_type": "markdown",
   "id": "06805275",
   "metadata": {},
   "source": [
    "update로 여러 항목 추가/수정하기\n",
    "\n",
    "- key 존재하면 수정, 존재하지 않으면 추가\n",
    "- 딕셔너리명.update(key1 = value1, key2 = value2)\n",
    "- key에 \"\"(따옴표) 쓰지않음"
   ]
  },
  {
   "cell_type": "code",
   "execution_count": 26,
   "id": "aeadf7d3",
   "metadata": {},
   "outputs": [
    {
     "data": {
      "text/plain": [
       "{'kor': 100, 'eng': 90, 'math': 85, 'music': 85}"
      ]
     },
     "execution_count": 26,
     "metadata": {},
     "output_type": "execute_result"
    }
   ],
   "source": [
    "scores"
   ]
  },
  {
   "cell_type": "code",
   "execution_count": 27,
   "id": "ae6a7b38",
   "metadata": {},
   "outputs": [],
   "source": [
    "scores.update(math = 90, music = 90)"
   ]
  },
  {
   "cell_type": "code",
   "execution_count": 28,
   "id": "d658266a",
   "metadata": {},
   "outputs": [
    {
     "data": {
      "text/plain": [
       "{'kor': 100, 'eng': 90, 'math': 90, 'music': 90}"
      ]
     },
     "execution_count": 28,
     "metadata": {},
     "output_type": "execute_result"
    }
   ],
   "source": [
    "scores"
   ]
  },
  {
   "cell_type": "markdown",
   "id": "f72a0961",
   "metadata": {},
   "source": [
    "- 딕셔너리명.update(zip([key, key,...], [val,val,...]))"
   ]
  },
  {
   "cell_type": "code",
   "execution_count": 30,
   "id": "137ca414",
   "metadata": {},
   "outputs": [],
   "source": [
    "scores.update(zip(['math','music'],[100,95]))"
   ]
  },
  {
   "cell_type": "code",
   "execution_count": 31,
   "id": "faba8a00",
   "metadata": {},
   "outputs": [
    {
     "data": {
      "text/plain": [
       "{'kor': 100, 'eng': 90, 'math': 100, 'music': 95}"
      ]
     },
     "execution_count": 31,
     "metadata": {},
     "output_type": "execute_result"
    }
   ],
   "source": [
    "scores"
   ]
  },
  {
   "cell_type": "markdown",
   "id": "d4f00074",
   "metadata": {},
   "source": [
    "- 딕셔너리.update([(key1, val1),(key2, vla2)])"
   ]
  },
  {
   "cell_type": "code",
   "execution_count": 32,
   "id": "088d6b12",
   "metadata": {},
   "outputs": [
    {
     "data": {
      "text/plain": [
       "{'kor': 100, 'eng': 90, 'math': 100, 'music': 95}"
      ]
     },
     "execution_count": 32,
     "metadata": {},
     "output_type": "execute_result"
    }
   ],
   "source": [
    "scores"
   ]
  },
  {
   "cell_type": "code",
   "execution_count": 33,
   "id": "0e71bf9d",
   "metadata": {},
   "outputs": [
    {
     "data": {
      "text/plain": [
       "{'kor': 95, 'eng': 100, 'math': 100, 'music': 95}"
      ]
     },
     "execution_count": 33,
     "metadata": {},
     "output_type": "execute_result"
    }
   ],
   "source": [
    "scores.update([('kor', 95),('eng', 100)])\n",
    "scores"
   ]
  },
  {
   "cell_type": "markdown",
   "id": "5f70c357",
   "metadata": {},
   "source": [
    "- 딕셔너리명.update({key1 :val1, key2 : val2})"
   ]
  },
  {
   "cell_type": "code",
   "execution_count": 34,
   "id": "10064cf9",
   "metadata": {},
   "outputs": [
    {
     "data": {
      "text/plain": [
       "{'kor': 95, 'eng': 100, 'math': 100, 'music': 95}"
      ]
     },
     "execution_count": 34,
     "metadata": {},
     "output_type": "execute_result"
    }
   ],
   "source": [
    "scores"
   ]
  },
  {
   "cell_type": "code",
   "execution_count": 35,
   "id": "52891a89",
   "metadata": {},
   "outputs": [
    {
     "data": {
      "text/plain": [
       "{'kor': 95, 'eng': 100, 'math': 90, 'music': 90}"
      ]
     },
     "execution_count": 35,
     "metadata": {},
     "output_type": "execute_result"
    }
   ],
   "source": [
    "scores.update({'math' : 90 , 'music' : 90})\n",
    "scores"
   ]
  },
  {
   "cell_type": "code",
   "execution_count": 36,
   "id": "4a5c1bc9",
   "metadata": {},
   "outputs": [
    {
     "data": {
      "text/plain": [
       "{'eng': 100, 'math': 90, 'music': 90}"
      ]
     },
     "execution_count": 36,
     "metadata": {},
     "output_type": "execute_result"
    }
   ],
   "source": [
    "# 해당 key 항목 삭제\n",
    "\n",
    "del scores['kor']\n",
    "\n",
    "scores"
   ]
  },
  {
   "cell_type": "markdown",
   "id": "947f422a",
   "metadata": {},
   "source": [
    "딕셔너리명.pop(key, 기본값)\n",
    "- 해당 key(값) 반환하고 삭제"
   ]
  },
  {
   "cell_type": "code",
   "execution_count": 37,
   "id": "1eff834f",
   "metadata": {},
   "outputs": [
    {
     "data": {
      "text/plain": [
       "90"
      ]
     },
     "execution_count": 37,
     "metadata": {},
     "output_type": "execute_result"
    }
   ],
   "source": [
    "scores.pop('music')"
   ]
  },
  {
   "cell_type": "code",
   "execution_count": 38,
   "id": "ad19e821",
   "metadata": {},
   "outputs": [
    {
     "data": {
      "text/plain": [
       "{'eng': 100, 'math': 90}"
      ]
     },
     "execution_count": 38,
     "metadata": {},
     "output_type": "execute_result"
    }
   ],
   "source": [
    "scores"
   ]
  },
  {
   "cell_type": "markdown",
   "id": "6ed5c2d8",
   "metadata": {},
   "source": [
    "- 해당 key항목(값) 반환하고 삭제(key 존재하지 않으면, 기본값 반환)"
   ]
  },
  {
   "cell_type": "code",
   "execution_count": 39,
   "id": "684eea47",
   "metadata": {},
   "outputs": [
    {
     "data": {
      "text/plain": [
       "{'eng': 100, 'math': 90}"
      ]
     },
     "execution_count": 39,
     "metadata": {},
     "output_type": "execute_result"
    }
   ],
   "source": [
    "scores"
   ]
  },
  {
   "cell_type": "code",
   "execution_count": 40,
   "id": "3e461b3a",
   "metadata": {},
   "outputs": [
    {
     "name": "stdout",
     "output_type": "stream",
     "text": [
      "90\n"
     ]
    }
   ],
   "source": [
    "math = scores.pop('math','x')\n",
    "print(math)"
   ]
  },
  {
   "cell_type": "code",
   "execution_count": 42,
   "id": "282f6a2f",
   "metadata": {},
   "outputs": [
    {
     "name": "stdout",
     "output_type": "stream",
     "text": [
      "x\n"
     ]
    }
   ],
   "source": [
    "music = scores.pop('music','x')\n",
    "print(music)"
   ]
  },
  {
   "cell_type": "code",
   "execution_count": 43,
   "id": "f9880515",
   "metadata": {},
   "outputs": [
    {
     "data": {
      "text/plain": [
       "{'eng': 100}"
      ]
     },
     "execution_count": 43,
     "metadata": {},
     "output_type": "execute_result"
    }
   ],
   "source": [
    "scores"
   ]
  },
  {
   "cell_type": "markdown",
   "id": "42986fc7",
   "metadata": {},
   "source": [
    "딕셔너리명.clear()\n",
    "- 모든 항목 삭제"
   ]
  },
  {
   "cell_type": "code",
   "execution_count": 44,
   "id": "3eb277d9",
   "metadata": {},
   "outputs": [
    {
     "data": {
      "text/plain": [
       "{}"
      ]
     },
     "execution_count": 44,
     "metadata": {},
     "output_type": "execute_result"
    }
   ],
   "source": [
    "scores.clear()\n",
    "scores"
   ]
  },
  {
   "cell_type": "code",
   "execution_count": null,
   "id": "d98e2b76",
   "metadata": {},
   "outputs": [],
   "source": []
  }
 ],
 "metadata": {
  "kernelspec": {
   "display_name": "Python 3 (ipykernel)",
   "language": "python",
   "name": "python3"
  },
  "language_info": {
   "codemirror_mode": {
    "name": "ipython",
    "version": 3
   },
   "file_extension": ".py",
   "mimetype": "text/x-python",
   "name": "python",
   "nbconvert_exporter": "python",
   "pygments_lexer": "ipython3",
   "version": "3.9.13"
  }
 },
 "nbformat": 4,
 "nbformat_minor": 5
}
