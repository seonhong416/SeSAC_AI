{
 "cells": [
  {
   "cell_type": "code",
   "execution_count": 1,
   "id": "9630c312",
   "metadata": {},
   "outputs": [
    {
     "data": {
      "text/plain": [
       "[]"
      ]
     },
     "execution_count": 1,
     "metadata": {},
     "output_type": "execute_result"
    }
   ],
   "source": [
    "# 리스트 만들기\n",
    "\n",
    "l1 = []\n",
    "l1"
   ]
  },
  {
   "cell_type": "code",
   "execution_count": 2,
   "id": "828e80db",
   "metadata": {},
   "outputs": [
    {
     "data": {
      "text/plain": [
       "[]"
      ]
     },
     "execution_count": 2,
     "metadata": {},
     "output_type": "execute_result"
    }
   ],
   "source": [
    "l2 = list()\n",
    "l2"
   ]
  },
  {
   "cell_type": "code",
   "execution_count": 3,
   "id": "7b28d16f",
   "metadata": {},
   "outputs": [
    {
     "name": "stdout",
     "output_type": "stream",
     "text": [
      "[1, 3, 5, 7, 9] <class 'list'>\n"
     ]
    }
   ],
   "source": [
    "l3 = [1,3,5,7,9]\n",
    "print(l3, type(l3))"
   ]
  },
  {
   "cell_type": "code",
   "execution_count": 4,
   "id": "18add84a",
   "metadata": {},
   "outputs": [
    {
     "data": {
      "text/plain": [
       "[1,\n",
       " 3,\n",
       " 5,\n",
       " 7,\n",
       " 9,\n",
       " 11,\n",
       " 13,\n",
       " 15,\n",
       " 17,\n",
       " 19,\n",
       " 21,\n",
       " 23,\n",
       " 25,\n",
       " 27,\n",
       " 29,\n",
       " 31,\n",
       " 33,\n",
       " 35,\n",
       " 37,\n",
       " 39,\n",
       " 41,\n",
       " 43,\n",
       " 45,\n",
       " 47,\n",
       " 49,\n",
       " 51,\n",
       " 53,\n",
       " 55,\n",
       " 57,\n",
       " 59,\n",
       " 61,\n",
       " 63,\n",
       " 65,\n",
       " 67,\n",
       " 69,\n",
       " 71,\n",
       " 73,\n",
       " 75,\n",
       " 77,\n",
       " 79,\n",
       " 81,\n",
       " 83,\n",
       " 85,\n",
       " 87,\n",
       " 89,\n",
       " 91,\n",
       " 93,\n",
       " 95,\n",
       " 97,\n",
       " 99]"
      ]
     },
     "execution_count": 4,
     "metadata": {},
     "output_type": "execute_result"
    }
   ],
   "source": [
    "list(range(1,100,2))"
   ]
  },
  {
   "cell_type": "code",
   "execution_count": 5,
   "id": "93d4ece4",
   "metadata": {},
   "outputs": [
    {
     "data": {
      "text/plain": [
       "()"
      ]
     },
     "execution_count": 5,
     "metadata": {},
     "output_type": "execute_result"
    }
   ],
   "source": [
    "# 튜플 만들기\n",
    "\n",
    "t1 = ()\n",
    "t1"
   ]
  },
  {
   "cell_type": "code",
   "execution_count": 7,
   "id": "5204175d",
   "metadata": {},
   "outputs": [
    {
     "data": {
      "text/plain": [
       "((), tuple)"
      ]
     },
     "execution_count": 7,
     "metadata": {},
     "output_type": "execute_result"
    }
   ],
   "source": [
    "t2 = tuple()\n",
    "t2, type(t2)"
   ]
  },
  {
   "cell_type": "code",
   "execution_count": 8,
   "id": "19b03c87",
   "metadata": {},
   "outputs": [
    {
     "data": {
      "text/plain": [
       "((1, 3, 5, 7, 9), tuple)"
      ]
     },
     "execution_count": 8,
     "metadata": {},
     "output_type": "execute_result"
    }
   ],
   "source": [
    "t3 = 1,3,5,7,9 # 튜플 : 변하지 않는 상수\n",
    "t3, type(t3)"
   ]
  },
  {
   "cell_type": "code",
   "execution_count": 10,
   "id": "147dbd67",
   "metadata": {},
   "outputs": [
    {
     "data": {
      "text/plain": [
       "(1,\n",
       " 3,\n",
       " 5,\n",
       " 7,\n",
       " 9,\n",
       " 11,\n",
       " 13,\n",
       " 15,\n",
       " 17,\n",
       " 19,\n",
       " 21,\n",
       " 23,\n",
       " 25,\n",
       " 27,\n",
       " 29,\n",
       " 31,\n",
       " 33,\n",
       " 35,\n",
       " 37,\n",
       " 39,\n",
       " 41,\n",
       " 43,\n",
       " 45,\n",
       " 47,\n",
       " 49,\n",
       " 51,\n",
       " 53,\n",
       " 55,\n",
       " 57,\n",
       " 59,\n",
       " 61,\n",
       " 63,\n",
       " 65,\n",
       " 67,\n",
       " 69,\n",
       " 71,\n",
       " 73,\n",
       " 75,\n",
       " 77,\n",
       " 79,\n",
       " 81,\n",
       " 83,\n",
       " 85,\n",
       " 87,\n",
       " 89,\n",
       " 91,\n",
       " 93,\n",
       " 95,\n",
       " 97,\n",
       " 99)"
      ]
     },
     "execution_count": 10,
     "metadata": {},
     "output_type": "execute_result"
    }
   ],
   "source": [
    "tuple(range(1,100,2))"
   ]
  },
  {
   "cell_type": "code",
   "execution_count": 14,
   "id": "3477072b",
   "metadata": {},
   "outputs": [
    {
     "data": {
      "text/plain": [
       "((1,), tuple)"
      ]
     },
     "execution_count": 14,
     "metadata": {},
     "output_type": "execute_result"
    }
   ],
   "source": [
    "# 항목이 1개일 때는 ','를 붙인다\n",
    "\n",
    "t6 = (1,)\n",
    "t6, type(t6)"
   ]
  },
  {
   "cell_type": "markdown",
   "id": "4c3e26ee",
   "metadata": {},
   "source": [
    "리스트, 튜플의 자료형\n",
    "\n",
    "- 모든 자료형이 혼합되어 들어갈 수 있음"
   ]
  },
  {
   "cell_type": "code",
   "execution_count": 15,
   "id": "2a0e1f68",
   "metadata": {},
   "outputs": [
    {
     "data": {
      "text/plain": [
       "['zzuyu', 20, 165, ['노래', '댄스']]"
      ]
     },
     "execution_count": 15,
     "metadata": {},
     "output_type": "execute_result"
    }
   ],
   "source": [
    "twice = ['zzuyu', 20, 165, ['노래', '댄스']]\n",
    "twice"
   ]
  },
  {
   "cell_type": "code",
   "execution_count": 17,
   "id": "d8d6cc75",
   "metadata": {},
   "outputs": [
    {
     "data": {
      "text/plain": [
       "('kazuha', 20, 165, ['글로벌 가수', '발레'])"
      ]
     },
     "execution_count": 17,
     "metadata": {},
     "output_type": "execute_result"
    }
   ],
   "source": [
    "르세라핌 = ('kazuha',20,165,['글로벌 가수', '발레'])\n",
    "르세라핌"
   ]
  },
  {
   "cell_type": "markdown",
   "id": "4308339f",
   "metadata": {},
   "source": [
    "리스트, 튜플 연결하기"
   ]
  },
  {
   "cell_type": "code",
   "execution_count": 18,
   "id": "c455809d",
   "metadata": {},
   "outputs": [
    {
     "data": {
      "text/plain": [
       "['사과', '딸기', '포도', '포도', '수박']"
      ]
     },
     "execution_count": 18,
     "metadata": {},
     "output_type": "execute_result"
    }
   ],
   "source": [
    "l1 = ['사과','딸기','포도']\n",
    "l2 = ['포도', '수박']\n",
    "\n",
    "l1 + l2"
   ]
  },
  {
   "cell_type": "code",
   "execution_count": 20,
   "id": "a316ae1a",
   "metadata": {},
   "outputs": [
    {
     "data": {
      "text/plain": [
       "['빨', '주', '노', '초', '파', '남', '보']"
      ]
     },
     "execution_count": 20,
     "metadata": {},
     "output_type": "execute_result"
    }
   ],
   "source": [
    "t1 = ['빨','주']\n",
    "t2 = ['노', '초', '파', '남', '보']\n",
    "t1 + t2"
   ]
  },
  {
   "cell_type": "code",
   "execution_count": 21,
   "id": "7c343ba4",
   "metadata": {},
   "outputs": [
    {
     "data": {
      "text/plain": [
       "['노', '초', '파', '남', '보']"
      ]
     },
     "execution_count": 21,
     "metadata": {},
     "output_type": "execute_result"
    }
   ],
   "source": [
    "t2"
   ]
  },
  {
   "cell_type": "markdown",
   "id": "5e12fe4a",
   "metadata": {},
   "source": [
    "리스트, 튜플 반복하기"
   ]
  },
  {
   "cell_type": "code",
   "execution_count": 25,
   "id": "e699ea50",
   "metadata": {},
   "outputs": [
    {
     "data": {
      "text/plain": [
       "['먹고',\n",
       " '자고',\n",
       " '먹고',\n",
       " '자고',\n",
       " '먹고',\n",
       " '자고',\n",
       " '먹고',\n",
       " '자고',\n",
       " '먹고',\n",
       " '자고',\n",
       " '먹고',\n",
       " '자고',\n",
       " '먹고',\n",
       " '자고',\n",
       " '먹고',\n",
       " '자고',\n",
       " '먹고',\n",
       " '자고',\n",
       " '먹고',\n",
       " '자고']"
      ]
     },
     "execution_count": 25,
     "metadata": {},
     "output_type": "execute_result"
    }
   ],
   "source": [
    "l = ['먹고', '자고']\n",
    "잔소리 = l * 10\n",
    "잔소리"
   ]
  },
  {
   "cell_type": "markdown",
   "id": "00f96dcd",
   "metadata": {},
   "source": [
    "리스트, 튜플에 값 존재 여부 확인\n",
    "\n",
    "- 멤버 연산자 : in, not in"
   ]
  },
  {
   "cell_type": "code",
   "execution_count": 27,
   "id": "a73494ce",
   "metadata": {},
   "outputs": [
    {
     "name": "stdout",
     "output_type": "stream",
     "text": [
      "False\n",
      "True\n"
     ]
    }
   ],
   "source": [
    "l = ['쯔위', '카즈하', '침착맨', '박보검']\n",
    "print('박보석' in l)\n",
    "print('침착맨' in l)"
   ]
  },
  {
   "cell_type": "code",
   "execution_count": 29,
   "id": "92de1c1a",
   "metadata": {},
   "outputs": [
    {
     "name": "stdout",
     "output_type": "stream",
     "text": [
      "True\n",
      "False\n"
     ]
    }
   ],
   "source": [
    "t = (1,3,5,7,9)\n",
    "print(5 in t)\n",
    "print(5 not in t)"
   ]
  },
  {
   "cell_type": "markdown",
   "id": "d1d7af03",
   "metadata": {},
   "source": [
    "리스트 튜플 항목의 갯수 구하기\n",
    "\n",
    "- len(리스트명)\n",
    "- len(튜플명)"
   ]
  },
  {
   "cell_type": "code",
   "execution_count": 30,
   "id": "da72a5ca",
   "metadata": {},
   "outputs": [
    {
     "data": {
      "text/plain": [
       "12"
      ]
     },
     "execution_count": 30,
     "metadata": {},
     "output_type": "execute_result"
    }
   ],
   "source": [
    "l = [1,3,5,6,7,8,12,4,'a','b','c',[10,20,30]]\n",
    "len(l)"
   ]
  },
  {
   "cell_type": "code",
   "execution_count": 31,
   "id": "d707da65",
   "metadata": {},
   "outputs": [
    {
     "data": {
      "text/plain": [
       "2"
      ]
     },
     "execution_count": 31,
     "metadata": {},
     "output_type": "execute_result"
    }
   ],
   "source": [
    "c = ((1,2),[3,4])\n",
    "len(c)"
   ]
  },
  {
   "cell_type": "code",
   "execution_count": 32,
   "id": "0b891e5c",
   "metadata": {},
   "outputs": [
    {
     "data": {
      "text/plain": [
       "2"
      ]
     },
     "execution_count": 32,
     "metadata": {},
     "output_type": "execute_result"
    }
   ],
   "source": [
    "c[0][1]"
   ]
  },
  {
   "cell_type": "code",
   "execution_count": null,
   "id": "af702d49",
   "metadata": {},
   "outputs": [],
   "source": []
  }
 ],
 "metadata": {
  "kernelspec": {
   "display_name": "Python 3 (ipykernel)",
   "language": "python",
   "name": "python3"
  },
  "language_info": {
   "codemirror_mode": {
    "name": "ipython",
    "version": 3
   },
   "file_extension": ".py",
   "mimetype": "text/x-python",
   "name": "python",
   "nbconvert_exporter": "python",
   "pygments_lexer": "ipython3",
   "version": "3.9.13"
  }
 },
 "nbformat": 4,
 "nbformat_minor": 5
}
