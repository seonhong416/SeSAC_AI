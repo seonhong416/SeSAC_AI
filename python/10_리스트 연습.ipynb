{
 "cells": [
  {
   "cell_type": "markdown",
   "id": "d96e5ff8",
   "metadata": {},
   "source": [
    "학생별 총점, 평균 구하기\n",
    "\n",
    "- 학생별 [국어, 영어, 수학] 리스트\n",
    "\n"
   ]
  },
  {
   "cell_type": "code",
   "execution_count": 2,
   "id": "1a36c78f",
   "metadata": {},
   "outputs": [
    {
     "name": "stdout",
     "output_type": "stream",
     "text": [
      "[260, 86.67]\n",
      "[258, 86.0]\n",
      "[254, 84.67]\n",
      "[254, 84.67]\n",
      "[260, 86.67]\n"
     ]
    }
   ],
   "source": [
    "score = [[96,84,80], [96,86,76], [76,95,83], [89,96,69], [90,76,94]]\n",
    "stu_scores = []\n",
    "\n",
    "for i in score :\n",
    "    total = sum(i)\n",
    "    average = total / 3\n",
    "    print([total, round(average,2)])"
   ]
  },
  {
   "cell_type": "code",
   "execution_count": 6,
   "id": "a665f8a1",
   "metadata": {},
   "outputs": [],
   "source": [
    "for i in score :\n",
    "    total = sum(i)\n",
    "    average = total/3\n",
    "    stu_scores.append([total, round(average,2)])\n",
    "    "
   ]
  },
  {
   "cell_type": "code",
   "execution_count": 7,
   "id": "76a3ccda",
   "metadata": {},
   "outputs": [
    {
     "data": {
      "text/plain": [
       "[[260, 86.67], [258, 86.0], [254, 84.67], [254, 84.67], [260, 86.67]]"
      ]
     },
     "execution_count": 7,
     "metadata": {},
     "output_type": "execute_result"
    }
   ],
   "source": [
    "stu_scores"
   ]
  },
  {
   "cell_type": "markdown",
   "id": "677a91fc",
   "metadata": {},
   "source": [
    "과목별 평균 구하기"
   ]
  },
  {
   "cell_type": "code",
   "execution_count": 8,
   "id": "9e833eb6",
   "metadata": {},
   "outputs": [
    {
     "name": "stdout",
     "output_type": "stream",
     "text": [
      "korean :  [96, 96, 76, 89, 90]\n",
      "english :  [84, 86, 95, 96, 76]\n",
      "math :  [80, 76, 83, 69, 94]\n"
     ]
    }
   ],
   "source": [
    "score = [[96,84,80], [96,86,76], [76,95,83], [89,96,69], [90,76,94]]\n",
    "\n",
    "# 출력해서 나올 각 과목의 값(평균) 담을 공간 생성(리스트)\n",
    "\n",
    "kor = []\n",
    "eng = []\n",
    "math = []\n",
    "\n",
    "# 초기값 설정\n",
    "\n",
    "kor_average = 0\n",
    "eng_average = 0\n",
    "math_average = 0\n",
    "\n",
    "# 각 과목의 리스트 분리\n",
    "\n",
    "for i in score :\n",
    "    kor.append(i[0])\n",
    "    eng.append(i[1])\n",
    "    math.append(i[2])\n",
    "    \n",
    "print('korean : ', kor)\n",
    "print('english : ', eng)\n",
    "print('math : ', math)"
   ]
  },
  {
   "cell_type": "code",
   "execution_count": 9,
   "id": "d2f9def3",
   "metadata": {},
   "outputs": [
    {
     "data": {
      "text/plain": [
       "89.4"
      ]
     },
     "execution_count": 9,
     "metadata": {},
     "output_type": "execute_result"
    }
   ],
   "source": [
    "sum(kor) / len(kor)"
   ]
  },
  {
   "cell_type": "code",
   "execution_count": 10,
   "id": "af57c2a6",
   "metadata": {},
   "outputs": [
    {
     "name": "stdout",
     "output_type": "stream",
     "text": [
      "kor_average :  89.4\n",
      "eng_average :  87.4\n",
      "math_average :  80.4\n"
     ]
    }
   ],
   "source": [
    "kor_average = sum(kor) / len(kor)\n",
    "eng_average = sum(eng) / len(eng)\n",
    "math_average = sum(math) / len(math)\n",
    "\n",
    "print('kor_average : ', kor_average)\n",
    "print('eng_average : ', eng_average)\n",
    "print('math_average : ', math_average)"
   ]
  },
  {
   "cell_type": "markdown",
   "id": "b0076a1f",
   "metadata": {},
   "source": [
    "랜덤 항목 추출하기\n",
    "\n",
    "- random.choice(리스트명)"
   ]
  },
  {
   "cell_type": "code",
   "execution_count": 11,
   "id": "6f2284e1",
   "metadata": {},
   "outputs": [
    {
     "data": {
      "text/plain": [
       "'양식'"
      ]
     },
     "execution_count": 11,
     "metadata": {},
     "output_type": "execute_result"
    }
   ],
   "source": [
    "menu = ['한식', '일식', '중식', '양식','분식','이탈리아식']\n",
    "\n",
    "import random\n",
    "\n",
    "random.choice(menu)"
   ]
  },
  {
   "cell_type": "code",
   "execution_count": 12,
   "id": "e9721018",
   "metadata": {},
   "outputs": [
    {
     "name": "stdout",
     "output_type": "stream",
     "text": [
      "땡기는 메뉴 : 분식\n",
      "땡기는 메뉴 : 양식\n",
      "땡기는 메뉴 : \n",
      "오늘의 점심 메뉴는 :  양식\n"
     ]
    }
   ],
   "source": [
    "menulist = []\n",
    "\n",
    "while True :\n",
    "    menu = input('땡기는 메뉴 : ')\n",
    "    if menu == '' :\n",
    "        break\n",
    "    menulist.append(menu)\n",
    "\n",
    "print('오늘의 점심 메뉴는 : ', random.choice(menulist))"
   ]
  },
  {
   "cell_type": "code",
   "execution_count": null,
   "id": "96e536aa",
   "metadata": {},
   "outputs": [],
   "source": []
  }
 ],
 "metadata": {
  "kernelspec": {
   "display_name": "Python 3 (ipykernel)",
   "language": "python",
   "name": "python3"
  },
  "language_info": {
   "codemirror_mode": {
    "name": "ipython",
    "version": 3
   },
   "file_extension": ".py",
   "mimetype": "text/x-python",
   "name": "python",
   "nbconvert_exporter": "python",
   "pygments_lexer": "ipython3",
   "version": "3.9.13"
  }
 },
 "nbformat": 4,
 "nbformat_minor": 5
}
