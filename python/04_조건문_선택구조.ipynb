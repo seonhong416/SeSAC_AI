{
 "cells": [
  {
   "cell_type": "markdown",
   "id": "efdc4925",
   "metadata": {},
   "source": [
    "if 조건문 구조"
   ]
  },
  {
   "cell_type": "code",
   "execution_count": 3,
   "id": "4f7fb466",
   "metadata": {},
   "outputs": [
    {
     "name": "stdout",
     "output_type": "stream",
     "text": [
      "점수 : 40\n",
      "수고하셨습니다.\n"
     ]
    }
   ],
   "source": [
    "# 점수를 입력받아, 점수가 60점 이상이면 '합격' 출력하세요.\n",
    "\n",
    "score = int(input('점수 : '))\n",
    "\n",
    "if score >= 60 :\n",
    "    print('합격')\n",
    "    \n",
    "print('수고하셨습니다.')"
   ]
  },
  {
   "cell_type": "markdown",
   "id": "b154135d",
   "metadata": {},
   "source": [
    "if ~ else 구조"
   ]
  },
  {
   "cell_type": "code",
   "execution_count": 5,
   "id": "7971dbdc",
   "metadata": {},
   "outputs": [
    {
     "name": "stdout",
     "output_type": "stream",
     "text": [
      "점수 : 30\n",
      "불합격\n",
      "수고하셨습니다.\n"
     ]
    }
   ],
   "source": [
    "score = int(input('점수 : '))\n",
    "\n",
    "if score >= 60 :\n",
    "    print('합격')\n",
    "else :\n",
    "    print('불합격')\n",
    "\n",
    "print('수고하셨습니다.')"
   ]
  },
  {
   "cell_type": "markdown",
   "id": "cccfd246",
   "metadata": {},
   "source": [
    "if ~ elif 구조"
   ]
  },
  {
   "cell_type": "code",
   "execution_count": 7,
   "id": "d962d28b",
   "metadata": {},
   "outputs": [
    {
     "name": "stdout",
     "output_type": "stream",
     "text": [
      "점수 : 65\n",
      "grade : F\n"
     ]
    }
   ],
   "source": [
    "socre = int(input('점수 : '))\n",
    "\n",
    "if score >= 90 :\n",
    "    grade = 'A'\n",
    "elif score >= 80 :\n",
    "    grade = 'B'\n",
    "elif score >= 70 :\n",
    "    grade = 'C'\n",
    "elif score >= 60 :\n",
    "    grade = 'D'\n",
    "else :\n",
    "    grade = 'F'\n",
    "\n",
    "print('grade :',grade)"
   ]
  },
  {
   "cell_type": "code",
   "execution_count": 12,
   "id": "c6066102",
   "metadata": {},
   "outputs": [
    {
     "name": "stdout",
     "output_type": "stream",
     "text": [
      "정수 : 1\n",
      "홀수\n"
     ]
    }
   ],
   "source": [
    "# 정수를 입력받아 짝수/홀수 판별하세요.\n",
    "\n",
    "num = int(input('정수 : '))\n",
    "\n",
    "if num % 2 == 1 :\n",
    "    print('홀수')\n",
    "elif num == 0 :\n",
    "    print(0)\n",
    "else :\n",
    "    print('짝수')"
   ]
  },
  {
   "cell_type": "code",
   "execution_count": null,
   "id": "9850da9f",
   "metadata": {},
   "outputs": [],
   "source": []
  }
 ],
 "metadata": {
  "kernelspec": {
   "display_name": "Python 3 (ipykernel)",
   "language": "python",
   "name": "python3"
  },
  "language_info": {
   "codemirror_mode": {
    "name": "ipython",
    "version": 3
   },
   "file_extension": ".py",
   "mimetype": "text/x-python",
   "name": "python",
   "nbconvert_exporter": "python",
   "pygments_lexer": "ipython3",
   "version": "3.9.13"
  }
 },
 "nbformat": 4,
 "nbformat_minor": 5
}
