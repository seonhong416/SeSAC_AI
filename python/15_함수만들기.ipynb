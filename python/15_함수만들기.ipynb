{
 "cells": [
  {
   "cell_type": "markdown",
   "id": "d93bbbba",
   "metadata": {},
   "source": [
    "함수 정의하고 호출하기"
   ]
  },
  {
   "cell_type": "code",
   "execution_count": 1,
   "id": "5781dd4c",
   "metadata": {},
   "outputs": [
    {
     "name": "stdout",
     "output_type": "stream",
     "text": [
      "안녕하세요\n",
      "저의 이름은 김선홍입니다.\n"
     ]
    }
   ],
   "source": [
    "# 자기소개하기\n",
    "\n",
    "print('안녕하세요')\n",
    "print('저의 이름은 김선홍입니다.')"
   ]
  },
  {
   "cell_type": "code",
   "execution_count": 2,
   "id": "d819dae0",
   "metadata": {},
   "outputs": [],
   "source": [
    "def intro() :\n",
    "    print('안녕하세요')\n",
    "    print('저의 이름은 김선홍입니다.')"
   ]
  },
  {
   "cell_type": "code",
   "execution_count": 3,
   "id": "52de2c49",
   "metadata": {},
   "outputs": [
    {
     "name": "stdout",
     "output_type": "stream",
     "text": [
      "안녕하세요\n",
      "저의 이름은 김선홍입니다.\n"
     ]
    }
   ],
   "source": [
    "intro()"
   ]
  },
  {
   "cell_type": "markdown",
   "id": "021cafc8",
   "metadata": {},
   "source": [
    "매개변수 전달하기"
   ]
  },
  {
   "cell_type": "code",
   "execution_count": 7,
   "id": "94d92636",
   "metadata": {},
   "outputs": [
    {
     "name": "stdout",
     "output_type": "stream",
     "text": [
      "안녕하세요\n",
      "저의 이름은 김선홍입니다.\n"
     ]
    }
   ],
   "source": [
    "name = '김선홍'\n",
    "print('안녕하세요')\n",
    "print(f'저의 이름은 {name}입니다.')"
   ]
  },
  {
   "cell_type": "code",
   "execution_count": 9,
   "id": "67b5d440",
   "metadata": {},
   "outputs": [],
   "source": [
    "# 매개변수 : 함수명() 안에 들어가는 변수\n",
    "# 매개변수 1개 전달하기\n",
    "\n",
    "def intro(name) :\n",
    "    print('안녕하세요')\n",
    "    print(f'저의 이름은 {name}입니다.')"
   ]
  },
  {
   "cell_type": "code",
   "execution_count": 10,
   "id": "87ec3241",
   "metadata": {},
   "outputs": [
    {
     "name": "stdout",
     "output_type": "stream",
     "text": [
      "안녕하세요\n",
      "저의 이름은 김선홍입니다.\n"
     ]
    }
   ],
   "source": [
    "intro(name)"
   ]
  },
  {
   "cell_type": "code",
   "execution_count": 13,
   "id": "fd825f89",
   "metadata": {},
   "outputs": [
    {
     "name": "stdout",
     "output_type": "stream",
     "text": [
      "안녕하세요\n",
      "서울시가 만든 세계최고 교육기관은 세싹입니다.\n",
      "생긴지는 3년 되었어요.\n"
     ]
    }
   ],
   "source": [
    "# 매개변수 여러 개 전달하기\n",
    "\n",
    "name = '세싹'\n",
    "age = 3\n",
    "\n",
    "print('안녕하세요')\n",
    "print(f'서울시가 만든 세계최고 교육기관은 {name}입니다.')\n",
    "print(f'생긴지는 {age}년 되었어요.')"
   ]
  },
  {
   "cell_type": "code",
   "execution_count": 16,
   "id": "c254d422",
   "metadata": {},
   "outputs": [],
   "source": [
    "def intro_sesac(name, age) :\n",
    "    print('안녕하세요')\n",
    "    print(f'서울시가 만든 세계최고 교육기관은 {name}입니다.')\n",
    "    print(f'생긴지는 {age}년 되었어요.')"
   ]
  },
  {
   "cell_type": "code",
   "execution_count": 17,
   "id": "8f8a5ea1",
   "metadata": {},
   "outputs": [
    {
     "name": "stdout",
     "output_type": "stream",
     "text": [
      "안녕하세요\n",
      "서울시가 만든 세계최고 교육기관은 세싹입니다.\n",
      "생긴지는 3년 되었어요.\n"
     ]
    }
   ],
   "source": [
    "intro_sesac(name, age)"
   ]
  },
  {
   "cell_type": "markdown",
   "id": "64139596",
   "metadata": {},
   "source": [
    "연습문제\n",
    "\n",
    "- 이름과 나이를 입력받아, 생일 축하 메시지를 출력하는 함수 생성\n",
    "- 생일문구\n",
    "    - 000 님의 000 번째 생일을 축하합니다~!\n",
    "    "
   ]
  },
  {
   "cell_type": "code",
   "execution_count": 18,
   "id": "00b16201",
   "metadata": {},
   "outputs": [
    {
     "name": "stdout",
     "output_type": "stream",
     "text": [
      "이름 : 김선홍\n",
      "나이 : 27\n",
      "김선홍님의 27번째 생일을 축하합니다~!\n"
     ]
    }
   ],
   "source": [
    "name = input('이름 : ')\n",
    "age = input('나이 : ')\n",
    "\n",
    "def cong(name, age) :\n",
    "    print(f'{name}님의 {age}번째 생일을 축하합니다~!')\n",
    "    \n",
    "cong(name, age)"
   ]
  },
  {
   "cell_type": "code",
   "execution_count": null,
   "id": "7b6a904c",
   "metadata": {},
   "outputs": [],
   "source": []
  }
 ],
 "metadata": {
  "kernelspec": {
   "display_name": "Python 3 (ipykernel)",
   "language": "python",
   "name": "python3"
  },
  "language_info": {
   "codemirror_mode": {
    "name": "ipython",
    "version": 3
   },
   "file_extension": ".py",
   "mimetype": "text/x-python",
   "name": "python",
   "nbconvert_exporter": "python",
   "pygments_lexer": "ipython3",
   "version": "3.9.13"
  }
 },
 "nbformat": 4,
 "nbformat_minor": 5
}
