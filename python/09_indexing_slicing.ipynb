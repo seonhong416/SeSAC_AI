{
 "cells": [
  {
   "cell_type": "markdown",
   "id": "c6fa5457",
   "metadata": {},
   "source": [
    "인덱싱\n",
    "\n",
    "- 인덱스로 리스트, 튜플 항목 추출하기"
   ]
  },
  {
   "cell_type": "markdown",
   "id": "00ca6cec",
   "metadata": {},
   "source": [
    "리스트 인덱싱\n",
    "- 리스트[idx]"
   ]
  },
  {
   "cell_type": "code",
   "execution_count": 1,
   "id": "c0530967",
   "metadata": {},
   "outputs": [
    {
     "name": "stdout",
     "output_type": "stream",
     "text": [
      "['축구', '농구', '배구', '야구', '족구', '발야구', '피구']\n"
     ]
    }
   ],
   "source": [
    "l1 = ['축구', '농구', '배구', '야구', '족구', '발야구', '피구']\n",
    "print(l1)"
   ]
  },
  {
   "cell_type": "code",
   "execution_count": 2,
   "id": "b1f502ab",
   "metadata": {},
   "outputs": [
    {
     "data": {
      "text/plain": [
       "7"
      ]
     },
     "execution_count": 2,
     "metadata": {},
     "output_type": "execute_result"
    }
   ],
   "source": [
    "# l1 항목수\n",
    "len(l1)"
   ]
  },
  {
   "cell_type": "code",
   "execution_count": 3,
   "id": "2f34ccdb",
   "metadata": {},
   "outputs": [
    {
     "data": {
      "text/plain": [
       "('축구', '축구')"
      ]
     },
     "execution_count": 3,
     "metadata": {},
     "output_type": "execute_result"
    }
   ],
   "source": [
    "l1[0], l1[-7]"
   ]
  },
  {
   "cell_type": "code",
   "execution_count": 4,
   "id": "98197d6f",
   "metadata": {},
   "outputs": [
    {
     "data": {
      "text/plain": [
       "'피구'"
      ]
     },
     "execution_count": 4,
     "metadata": {},
     "output_type": "execute_result"
    }
   ],
   "source": [
    "l1[-1]"
   ]
  },
  {
   "cell_type": "markdown",
   "id": "2d0e8de1",
   "metadata": {},
   "source": [
    "튜플 인덱싱\n",
    "\n",
    "- 튜플[idx]"
   ]
  },
  {
   "cell_type": "code",
   "execution_count": 5,
   "id": "53406e51",
   "metadata": {},
   "outputs": [
    {
     "data": {
      "text/plain": [
       "('스키', '보드', '스케이트', '스케이트보드', '수상스키', '웨이크보드')"
      ]
     },
     "execution_count": 5,
     "metadata": {},
     "output_type": "execute_result"
    }
   ],
   "source": [
    "t1 = ('스키', '보드', '스케이트', '스케이트보드', '수상스키', '웨이크보드')\n",
    "\n",
    "t1"
   ]
  },
  {
   "cell_type": "code",
   "execution_count": 6,
   "id": "5be8fc72",
   "metadata": {},
   "outputs": [
    {
     "data": {
      "text/plain": [
       "6"
      ]
     },
     "execution_count": 6,
     "metadata": {},
     "output_type": "execute_result"
    }
   ],
   "source": [
    "# t1 항목수\n",
    "len(t1)"
   ]
  },
  {
   "cell_type": "code",
   "execution_count": 7,
   "id": "c2c3d0b8",
   "metadata": {},
   "outputs": [
    {
     "data": {
      "text/plain": [
       "('스키', '스키')"
      ]
     },
     "execution_count": 7,
     "metadata": {},
     "output_type": "execute_result"
    }
   ],
   "source": [
    "t1[0],t1[-6]"
   ]
  },
  {
   "cell_type": "markdown",
   "id": "79525a6a",
   "metadata": {},
   "source": [
    "중첩리스트 인덱싱"
   ]
  },
  {
   "cell_type": "code",
   "execution_count": 8,
   "id": "017ac18a",
   "metadata": {},
   "outputs": [
    {
     "data": {
      "text/plain": [
       "['수박', '멜론']"
      ]
     },
     "execution_count": 8,
     "metadata": {},
     "output_type": "execute_result"
    }
   ],
   "source": [
    "l2 = ['사과', '오렌지', '포도', ['수박', '멜론']]\n",
    "\n",
    "l2[-1]"
   ]
  },
  {
   "cell_type": "code",
   "execution_count": 9,
   "id": "b754c5ac",
   "metadata": {},
   "outputs": [
    {
     "data": {
      "text/plain": [
       "'멜론'"
      ]
     },
     "execution_count": 9,
     "metadata": {},
     "output_type": "execute_result"
    }
   ],
   "source": [
    "l2[-1][-1]"
   ]
  },
  {
   "cell_type": "code",
   "execution_count": 10,
   "id": "bc6fe8f0",
   "metadata": {},
   "outputs": [
    {
     "data": {
      "text/plain": [
       "('a', 'b', ('Life', 'is', 'good'))"
      ]
     },
     "execution_count": 10,
     "metadata": {},
     "output_type": "execute_result"
    }
   ],
   "source": [
    "t2 = (1, 2, ('a','b',('Life','is','good')))\n",
    "t2[2]"
   ]
  },
  {
   "cell_type": "code",
   "execution_count": 11,
   "id": "01260557",
   "metadata": {},
   "outputs": [
    {
     "data": {
      "text/plain": [
       "('Life', 'is', 'good')"
      ]
     },
     "execution_count": 11,
     "metadata": {},
     "output_type": "execute_result"
    }
   ],
   "source": [
    "t2[2][-1]"
   ]
  },
  {
   "cell_type": "code",
   "execution_count": 12,
   "id": "e9f21dd2",
   "metadata": {},
   "outputs": [
    {
     "data": {
      "text/plain": [
       "'Life'"
      ]
     },
     "execution_count": 12,
     "metadata": {},
     "output_type": "execute_result"
    }
   ],
   "source": [
    "t2[2][-1][0]"
   ]
  },
  {
   "cell_type": "markdown",
   "id": "7ee37e62",
   "metadata": {},
   "source": [
    "슬라이싱\n",
    "\n",
    "- 리스트명[시작idx : 끝idx : 간격]\n",
    "- 튜플명[시작idx : 끝idx : 간격]"
   ]
  },
  {
   "cell_type": "code",
   "execution_count": 13,
   "id": "66ee387e",
   "metadata": {},
   "outputs": [
    {
     "data": {
      "text/plain": [
       "['농구', '배구']"
      ]
     },
     "execution_count": 13,
     "metadata": {},
     "output_type": "execute_result"
    }
   ],
   "source": [
    "l1[1:3]"
   ]
  },
  {
   "cell_type": "code",
   "execution_count": 14,
   "id": "fbd502a3",
   "metadata": {},
   "outputs": [
    {
     "data": {
      "text/plain": [
       "['축구', '농구', '배구']"
      ]
     },
     "execution_count": 14,
     "metadata": {},
     "output_type": "execute_result"
    }
   ],
   "source": [
    "l1[:3]"
   ]
  },
  {
   "cell_type": "code",
   "execution_count": 15,
   "id": "9a14b47b",
   "metadata": {},
   "outputs": [
    {
     "data": {
      "text/plain": [
       "['족구', '발야구']"
      ]
     },
     "execution_count": 15,
     "metadata": {},
     "output_type": "execute_result"
    }
   ],
   "source": [
    "l1[-3 : -1]"
   ]
  },
  {
   "cell_type": "code",
   "execution_count": 16,
   "id": "a93dce23",
   "metadata": {},
   "outputs": [
    {
     "data": {
      "text/plain": [
       "['족구', '발야구', '피구']"
      ]
     },
     "execution_count": 16,
     "metadata": {},
     "output_type": "execute_result"
    }
   ],
   "source": [
    "l1[-3:]"
   ]
  },
  {
   "cell_type": "code",
   "execution_count": 17,
   "id": "afef76eb",
   "metadata": {},
   "outputs": [
    {
     "data": {
      "text/plain": [
       "['축구', '농구', '배구', '야구', '족구', '발야구', '피구']"
      ]
     },
     "execution_count": 17,
     "metadata": {},
     "output_type": "execute_result"
    }
   ],
   "source": [
    "l1[:]"
   ]
  },
  {
   "cell_type": "code",
   "execution_count": 18,
   "id": "d67f4d25",
   "metadata": {},
   "outputs": [
    {
     "data": {
      "text/plain": [
       "['피구', '발야구', '족구', '야구', '배구', '농구', '축구']"
      ]
     },
     "execution_count": 18,
     "metadata": {},
     "output_type": "execute_result"
    }
   ],
   "source": [
    "# 모든 항목 역순으로\n",
    "\n",
    "l1[::-1]"
   ]
  },
  {
   "cell_type": "code",
   "execution_count": 19,
   "id": "3c9d75b0",
   "metadata": {},
   "outputs": [],
   "source": [
    "l1.reverse()"
   ]
  },
  {
   "cell_type": "code",
   "execution_count": 21,
   "id": "5e66d0a7",
   "metadata": {},
   "outputs": [
    {
     "data": {
      "text/plain": [
       "['축구', '농구', '배구', '야구', '족구', '발야구', '피구']"
      ]
     },
     "execution_count": 21,
     "metadata": {},
     "output_type": "execute_result"
    }
   ],
   "source": [
    "l1.reverse()\n",
    "l1"
   ]
  },
  {
   "cell_type": "code",
   "execution_count": 25,
   "id": "5c306e33",
   "metadata": {},
   "outputs": [
    {
     "name": "stdout",
     "output_type": "stream",
     "text": [
      "['피구', '발야구', '족구', '야구', '배구', '농구', '축구']\n"
     ]
    },
    {
     "data": {
      "text/plain": [
       "['축구', '농구', '배구', '야구', '족구', '발야구', '피구']"
      ]
     },
     "execution_count": 25,
     "metadata": {},
     "output_type": "execute_result"
    }
   ],
   "source": [
    "print(list(reversed(l1)))\n",
    "l1"
   ]
  },
  {
   "cell_type": "code",
   "execution_count": 26,
   "id": "51ec462c",
   "metadata": {},
   "outputs": [
    {
     "data": {
      "text/plain": [
       "[1, 3, 5, 7, 9, 11, 13, 15, 17, 19]"
      ]
     },
     "execution_count": 26,
     "metadata": {},
     "output_type": "execute_result"
    }
   ],
   "source": [
    "l3 = list(range(1,21))\n",
    "l3[::2]"
   ]
  },
  {
   "cell_type": "markdown",
   "id": "437bd34a",
   "metadata": {},
   "source": [
    "항목의 인덱스 찾기\n",
    "\n",
    "- 리스트명.index(항목)\n",
    "- 튜플명.index(항목)"
   ]
  },
  {
   "cell_type": "code",
   "execution_count": 27,
   "id": "d6ca6c2a",
   "metadata": {},
   "outputs": [
    {
     "data": {
      "text/plain": [
       "('스키', '보드', '스케이트', '스케이트보드', '수상스키', '웨이크보드')"
      ]
     },
     "execution_count": 27,
     "metadata": {},
     "output_type": "execute_result"
    }
   ],
   "source": [
    "t1"
   ]
  },
  {
   "cell_type": "code",
   "execution_count": 28,
   "id": "325f2d68",
   "metadata": {},
   "outputs": [
    {
     "data": {
      "text/plain": [
       "2"
      ]
     },
     "execution_count": 28,
     "metadata": {},
     "output_type": "execute_result"
    }
   ],
   "source": [
    "t1.index('스케이트')"
   ]
  },
  {
   "cell_type": "code",
   "execution_count": 30,
   "id": "b700adc7",
   "metadata": {},
   "outputs": [
    {
     "name": "stdout",
     "output_type": "stream",
     "text": [
      "오토바이 없어요\n"
     ]
    }
   ],
   "source": [
    "if '오토바이' in t1 :\n",
    "    print(t1.index('오토바이'))\n",
    "\n",
    "else :\n",
    "    print('오토바이 없어요')"
   ]
  },
  {
   "cell_type": "code",
   "execution_count": 32,
   "id": "ebd4132a",
   "metadata": {},
   "outputs": [
    {
     "name": "stdout",
     "output_type": "stream",
     "text": [
      "4\n"
     ]
    }
   ],
   "source": [
    "if '수상스키' in t1 :\n",
    "    print(t1.index('수상스키'))\n",
    "\n",
    "else :\n",
    "    print('수상스키 없어요')"
   ]
  },
  {
   "cell_type": "code",
   "execution_count": 33,
   "id": "fbffb15f",
   "metadata": {},
   "outputs": [
    {
     "data": {
      "text/plain": [
       "['축구', '농구', '배구', '야구', '족구', '발야구', '피구']"
      ]
     },
     "execution_count": 33,
     "metadata": {},
     "output_type": "execute_result"
    }
   ],
   "source": [
    "l1"
   ]
  },
  {
   "cell_type": "code",
   "execution_count": 36,
   "id": "3691ce35",
   "metadata": {},
   "outputs": [
    {
     "data": {
      "text/plain": [
       "['발야구', '족구', '야구']"
      ]
     },
     "execution_count": 36,
     "metadata": {},
     "output_type": "execute_result"
    }
   ],
   "source": [
    "l1[-2:-5:-1]"
   ]
  },
  {
   "cell_type": "code",
   "execution_count": 37,
   "id": "6a763e83",
   "metadata": {},
   "outputs": [
    {
     "data": {
      "text/plain": [
       "['야구']"
      ]
     },
     "execution_count": 37,
     "metadata": {},
     "output_type": "execute_result"
    }
   ],
   "source": [
    "l1[3:2:-1]"
   ]
  },
  {
   "cell_type": "code",
   "execution_count": null,
   "id": "a712851b",
   "metadata": {},
   "outputs": [],
   "source": []
  }
 ],
 "metadata": {
  "kernelspec": {
   "display_name": "Python 3 (ipykernel)",
   "language": "python",
   "name": "python3"
  },
  "language_info": {
   "codemirror_mode": {
    "name": "ipython",
    "version": 3
   },
   "file_extension": ".py",
   "mimetype": "text/x-python",
   "name": "python",
   "nbconvert_exporter": "python",
   "pygments_lexer": "ipython3",
   "version": "3.9.13"
  }
 },
 "nbformat": 4,
 "nbformat_minor": 5
}
