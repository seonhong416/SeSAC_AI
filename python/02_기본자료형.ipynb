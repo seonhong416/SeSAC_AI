{
 "cells": [
  {
   "cell_type": "markdown",
   "id": "29ba4901",
   "metadata": {},
   "source": [
    "변수 만들기\n",
    "    \n",
    "- 변수에 값 할당 (a = 3)\n",
    "- 변수명 = 변수값\n",
    "- 변수에 값이 할당될 때 변수값의 자료형에 따라 변수의 자료형이 결정됨"
   ]
  },
  {
   "cell_type": "code",
   "execution_count": 15,
   "id": "3f0dd500",
   "metadata": {},
   "outputs": [],
   "source": [
    "name = 'drwill'\n",
    "age = 20\n",
    "height = 178.1254\n",
    "ischild = age < 20"
   ]
  },
  {
   "cell_type": "markdown",
   "id": "9900043e",
   "metadata": {},
   "source": [
    "변수 값, 자료형 출력하기"
   ]
  },
  {
   "cell_type": "markdown",
   "id": "6587fa02",
   "metadata": {},
   "source": [
    "- 변수에 접근할 때 : 변수명 사용\n",
    "- 변수값 출력 : print(변수명)\n",
    "- 변수자료형 출력 : print(type(변수명))"
   ]
  },
  {
   "cell_type": "code",
   "execution_count": 16,
   "id": "548b92f3",
   "metadata": {},
   "outputs": [
    {
     "name": "stdout",
     "output_type": "stream",
     "text": [
      "drwill\n",
      "<class 'str'>\n"
     ]
    }
   ],
   "source": [
    "print(name)\n",
    "print(type(name)) # 문자열"
   ]
  },
  {
   "cell_type": "code",
   "execution_count": 17,
   "id": "1262bdd8",
   "metadata": {},
   "outputs": [
    {
     "name": "stdout",
     "output_type": "stream",
     "text": [
      "20\n",
      "<class 'int'>\n"
     ]
    }
   ],
   "source": [
    "print(age)\n",
    "print(type(age)) # 정수"
   ]
  },
  {
   "cell_type": "code",
   "execution_count": 18,
   "id": "b0d2eb15",
   "metadata": {},
   "outputs": [
    {
     "name": "stdout",
     "output_type": "stream",
     "text": [
      "178.1254\n",
      "<class 'float'>\n"
     ]
    }
   ],
   "source": [
    "print(height)\n",
    "print(type(height)) # 실수"
   ]
  },
  {
   "cell_type": "code",
   "execution_count": 19,
   "id": "157c5b48",
   "metadata": {},
   "outputs": [
    {
     "name": "stdout",
     "output_type": "stream",
     "text": [
      "178\n"
     ]
    }
   ],
   "source": [
    "print(round(height))"
   ]
  },
  {
   "cell_type": "code",
   "execution_count": 20,
   "id": "6b0f4ee7",
   "metadata": {},
   "outputs": [
    {
     "name": "stdout",
     "output_type": "stream",
     "text": [
      "178.13\n"
     ]
    }
   ],
   "source": [
    "print(round(height,2))"
   ]
  },
  {
   "cell_type": "code",
   "execution_count": 22,
   "id": "6a59e8a2",
   "metadata": {},
   "outputs": [
    {
     "name": "stdout",
     "output_type": "stream",
     "text": [
      "False\n",
      "<class 'bool'>\n"
     ]
    }
   ],
   "source": [
    "print(ischild)\n",
    "print(type(ischild))# bool : 참(1), 거짓(0) boolean"
   ]
  },
  {
   "cell_type": "markdown",
   "id": "2243ca76",
   "metadata": {},
   "source": [
    "쌍 따옴표나 홑 따옴표가 포함되어 있는 문자열 사용하기\n",
    "\n",
    "- 홑 따옴표가 포함되어 있는 문자열 사용하기"
   ]
  },
  {
   "cell_type": "code",
   "execution_count": 23,
   "id": "20c52f5a",
   "metadata": {},
   "outputs": [
    {
     "name": "stdout",
     "output_type": "stream",
     "text": [
      "'낮말'은 새가 듣고, '밤말'은 쥐가 듣는다\n"
     ]
    }
   ],
   "source": [
    "a = \"'낮말'은 새가 듣고, '밤말'은 쥐가 듣는다\"\n",
    "print(a)"
   ]
  },
  {
   "cell_type": "code",
   "execution_count": 24,
   "id": "007796fd",
   "metadata": {},
   "outputs": [
    {
     "name": "stdout",
     "output_type": "stream",
     "text": [
      "\"시간은 금\"이라는 말 못 들어봤니?\n"
     ]
    }
   ],
   "source": [
    "b = '\"시간은 금\"이라는 말 못 들어봤니?'\n",
    "print(b)"
   ]
  },
  {
   "cell_type": "markdown",
   "id": "11cee7d0",
   "metadata": {},
   "source": [
    "키보드로 변수에 값 입력받기\n",
    "\n",
    "- input()\n",
    "- (매우중요) input으로 입력받은 값은 무조건 str(문자)"
   ]
  },
  {
   "cell_type": "code",
   "execution_count": 25,
   "id": "c4df5084",
   "metadata": {},
   "outputs": [
    {
     "name": "stdout",
     "output_type": "stream",
     "text": [
      "나이 : 20\n"
     ]
    }
   ],
   "source": [
    "a = input('나이 : ')"
   ]
  },
  {
   "cell_type": "code",
   "execution_count": 26,
   "id": "3bdcdc27",
   "metadata": {},
   "outputs": [
    {
     "data": {
      "text/plain": [
       "str"
      ]
     },
     "execution_count": 26,
     "metadata": {},
     "output_type": "execute_result"
    }
   ],
   "source": [
    "type(a)"
   ]
  },
  {
   "cell_type": "code",
   "execution_count": 27,
   "id": "8ee0616d",
   "metadata": {},
   "outputs": [
    {
     "name": "stdout",
     "output_type": "stream",
     "text": [
      "나이 : 20\n"
     ]
    },
    {
     "data": {
      "text/plain": [
       "(20, int)"
      ]
     },
     "execution_count": 27,
     "metadata": {},
     "output_type": "execute_result"
    }
   ],
   "source": [
    "a = int(input('나이 : '))\n",
    "a, type(a)"
   ]
  },
  {
   "cell_type": "code",
   "execution_count": 28,
   "id": "f5aab656",
   "metadata": {},
   "outputs": [
    {
     "name": "stdout",
     "output_type": "stream",
     "text": [
      "사는 곳은 어디에요? : 강동구\n"
     ]
    },
    {
     "data": {
      "text/plain": [
       "('강동구', str)"
      ]
     },
     "execution_count": 28,
     "metadata": {},
     "output_type": "execute_result"
    }
   ],
   "source": [
    "a = input('사는 곳은 어디에요? : ')\n",
    "a, type(a)"
   ]
  },
  {
   "cell_type": "markdown",
   "id": "92c10270",
   "metadata": {},
   "source": [
    "자료형 변환하기\n",
    "\n",
    "- int(value) : int(정수)형으로 변환"
   ]
  },
  {
   "cell_type": "code",
   "execution_count": 31,
   "id": "3fcd6ab4",
   "metadata": {},
   "outputs": [
    {
     "name": "stdout",
     "output_type": "stream",
     "text": [
      "20 <class 'int'>\n"
     ]
    }
   ],
   "source": [
    "age = int('20')\n",
    "print(age, type(age))"
   ]
  },
  {
   "cell_type": "markdown",
   "id": "3322a6a0",
   "metadata": {},
   "source": [
    "- float(value) : 실수형으로 변환"
   ]
  },
  {
   "cell_type": "code",
   "execution_count": 32,
   "id": "cd6f2f29",
   "metadata": {},
   "outputs": [
    {
     "name": "stdout",
     "output_type": "stream",
     "text": [
      "178.0 <class 'float'>\n"
     ]
    }
   ],
   "source": [
    "height = float(178)\n",
    "print(height, type(height))"
   ]
  },
  {
   "cell_type": "code",
   "execution_count": null,
   "id": "6c6e6145",
   "metadata": {},
   "outputs": [],
   "source": []
  }
 ],
 "metadata": {
  "kernelspec": {
   "display_name": "Python 3 (ipykernel)",
   "language": "python",
   "name": "python3"
  },
  "language_info": {
   "codemirror_mode": {
    "name": "ipython",
    "version": 3
   },
   "file_extension": ".py",
   "mimetype": "text/x-python",
   "name": "python",
   "nbconvert_exporter": "python",
   "pygments_lexer": "ipython3",
   "version": "3.9.13"
  }
 },
 "nbformat": 4,
 "nbformat_minor": 5
}
