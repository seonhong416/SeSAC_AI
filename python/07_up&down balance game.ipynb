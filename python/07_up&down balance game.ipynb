{
 "cells": [
  {
   "cell_type": "markdown",
   "id": "a2fa3c18",
   "metadata": {},
   "source": [
    "- 1~100 정답 숫자를 랜덤으로 하나 정하기\n",
    "- 정답 숫자를 맞출 때까지 숫자 입력하는 게임\n",
    "- 내가 입력한 숫자가 정답보다 작으면 'up'\n",
    "- 정답보다 크면 'down' 출력하고 숫자 다시 입력 받음\n",
    "- 정답 맞추면 '정답' 출력하고 게임을 끝내기"
   ]
  },
  {
   "cell_type": "code",
   "execution_count": 1,
   "id": "c597ecf6",
   "metadata": {},
   "outputs": [
    {
     "name": "stdout",
     "output_type": "stream",
     "text": [
      "28\n"
     ]
    }
   ],
   "source": [
    "import random\n",
    "\n",
    "answer = random.randrange(1,101) \n",
    "\n",
    "print(answer)"
   ]
  },
  {
   "cell_type": "code",
   "execution_count": 2,
   "id": "2ac56aa4",
   "metadata": {},
   "outputs": [
    {
     "name": "stdout",
     "output_type": "stream",
     "text": [
      "예상되는 숫자는 ? 1\n",
      "up\n",
      "예상되는 숫자는 ? 50\n",
      "down\n",
      "예상되는 숫자는 ? 25\n",
      "up\n",
      "예상되는 숫자는 ? 30\n",
      "down\n",
      "예상되는 숫자는 ? 28\n",
      "정답\n"
     ]
    }
   ],
   "source": [
    "while True :\n",
    "    num = int(input('예상되는 숫자는 ? '))\n",
    "    \n",
    "    if num == answer :\n",
    "        print('정답')\n",
    "        break\n",
    "    if num > answer :\n",
    "        print('down')\n",
    "    else :\n",
    "        print('up')"
   ]
  },
  {
   "cell_type": "code",
   "execution_count": 9,
   "id": "01f11216",
   "metadata": {},
   "outputs": [
    {
     "name": "stdout",
     "output_type": "stream",
     "text": [
      "1번째 턴입니다.\n",
      "예상되는 숫자는 ? 28\n",
      "1번째에 정답을 맞추었습니다.\n"
     ]
    }
   ],
   "source": [
    "# 확장 \n",
    "# 기회 3번입니다\n",
    "# 3번이 넘으면 '횟수 초과. 다음 기회에' 메시지 출력, 정답 알려줌 \n",
    "# 정답을 맞추면 몇 번째 맞추었는지 출력할게요.\n",
    "\n",
    "d = 0\n",
    "\n",
    "while True :\n",
    "    d += 1\n",
    "    if d > 3 :\n",
    "        print(f'횟수 초과. 다음기회에... 정답은 {answer} 입니다.')\n",
    "        break\n",
    "        \n",
    "    print(f'{d}번째 턴입니다.')\n",
    "    num = int(input('예상되는 숫자는 ? '))\n",
    "    \n",
    "    if num == answer :\n",
    "        print(f'{d}번째에 정답을 맞추었습니다.')\n",
    "        break\n",
    "    if num > answer :\n",
    "        print('down')\n",
    "    else :\n",
    "        print('up')\n",
    "    \n",
    "    "
   ]
  },
  {
   "cell_type": "markdown",
   "id": "4a1adbd3",
   "metadata": {},
   "source": [
    "사칙연산 프로그램\n",
    "\n",
    "- 두 수와 사칙연산기호(+, -, *, /) operand\n",
    "- 사칙연산기호 잘못되면 >> '잘못 입력하셨어요' 출력"
   ]
  },
  {
   "cell_type": "code",
   "execution_count": 1,
   "id": "8b013680",
   "metadata": {},
   "outputs": [
    {
     "name": "stdout",
     "output_type": "stream",
     "text": [
      "숫자1 : 4\n",
      "숫자2 : 5\n",
      "연산기호 : /\n",
      "4 / 5 = 0.8\n"
     ]
    }
   ],
   "source": [
    "num1 = int(input('숫자1 : '))\n",
    "num2 = int(input('숫자2 : '))\n",
    "op = input('연산기호 : ')\n",
    "\n",
    "if op == '+' :\n",
    "    print(f'{num1} + {num2} = {num1+num2}')\n",
    "\n",
    "elif op == '-' :\n",
    "    print(f'{num1} - {num2} = {num1-num2}')\n",
    "\n",
    "elif op == '*' :\n",
    "    print(f'{num1} * {num2} = {num1*num2}')\n",
    "    \n",
    "elif op == '/' :\n",
    "    print(f'{num1} / {num2} = {num1/num2}')\n",
    "\n",
    "else :\n",
    "    print('잘못 입력하셨습니다.')\n",
    "\n",
    "    \n",
    "    "
   ]
  },
  {
   "cell_type": "markdown",
   "id": "38ea493f",
   "metadata": {},
   "source": [
    "할인된 금액 계산\n",
    "\n",
    "- 물건 구매가를 입력받고, 금액에 따른 할인율을 계산하여\n",
    "- 구매가, 할인율, 할인금액, 지불금액\n",
    "- 1만원 이상 5만원 미만 : 5%\n",
    "- 5만원 이상 10만원 미만 : 7%\n",
    "- 10만원 이상 : 10%"
   ]
  },
  {
   "cell_type": "code",
   "execution_count": 5,
   "id": "52ae8439",
   "metadata": {},
   "outputs": [
    {
     "name": "stdout",
     "output_type": "stream",
     "text": [
      "물건 구매가 : 1200000\n",
      "\n",
      "구매가 : 1200000\n",
      "할인율 : 10%\n",
      "할인금액 : 120000.0\n",
      "지불금액 : 1080000.0\n",
      "\n"
     ]
    }
   ],
   "source": [
    "price = int(input('물건 구매가 : '))\n",
    "\n",
    "if price >= 100000 :\n",
    "    dc = 10\n",
    "\n",
    "elif price >= 50000 :\n",
    "    dc = 7\n",
    "\n",
    "elif price >= 10000 :\n",
    "    dc = 5\n",
    "\n",
    "else :\n",
    "    dc = 0\n",
    "\n",
    "print(f'''\n",
    "구매가 : {price}\n",
    "할인율 : {dc}%\n",
    "할인금액 : {round(price*(dc/100),2)}\n",
    "지불금액 : {price - price*(dc/100)}\n",
    "''')"
   ]
  },
  {
   "cell_type": "code",
   "execution_count": null,
   "id": "ada10c87",
   "metadata": {},
   "outputs": [],
   "source": []
  }
 ],
 "metadata": {
  "kernelspec": {
   "display_name": "Python 3 (ipykernel)",
   "language": "python",
   "name": "python3"
  },
  "language_info": {
   "codemirror_mode": {
    "name": "ipython",
    "version": 3
   },
   "file_extension": ".py",
   "mimetype": "text/x-python",
   "name": "python",
   "nbconvert_exporter": "python",
   "pygments_lexer": "ipython3",
   "version": "3.9.13"
  }
 },
 "nbformat": 4,
 "nbformat_minor": 5
}
