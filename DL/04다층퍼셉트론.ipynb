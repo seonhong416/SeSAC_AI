{
 "cells": [
  {
   "cell_type": "code",
   "execution_count": 8,
   "metadata": {},
   "outputs": [],
   "source": [
    "# 다층 퍼셉트론으로 XOR 문제 해결하기\n",
    "\n",
    "import numpy as np"
   ]
  },
  {
   "cell_type": "code",
   "execution_count": 9,
   "metadata": {},
   "outputs": [],
   "source": [
    "# 가중치와 바이어스 설정(임의의 값)\n",
    "\n",
    "w11 = np.array([-2, -2])\n",
    "w12 = np.array([2, 2])\n",
    "w2 = np.array([1, 1])\n",
    "b1 = 3\n",
    "b2 = -1\n",
    "b3 = -1"
   ]
  },
  {
   "cell_type": "code",
   "execution_count": 10,
   "metadata": {},
   "outputs": [],
   "source": [
    "# 퍼셉트론\n",
    "\n",
    "def MLP(x, w, b) :\n",
    "    y = np.sum(w*x) + b\n",
    "    if y <= 0 :\n",
    "        return 0\n",
    "    else :\n",
    "        return 1"
   ]
  },
  {
   "cell_type": "code",
   "execution_count": 11,
   "metadata": {},
   "outputs": [],
   "source": [
    "# XOR 문제 해결위한 게이트 설정\n",
    "\n",
    "# NAND \n",
    "def NAND(x1, x2) :\n",
    "    return MLP(np.array([x1,x2]), w11, b1)\n",
    "\n",
    "# OR\n",
    "def OR(x1, x2) :\n",
    "    return MLP(np.array([x1, x2]), w12, b2)\n",
    "\n",
    "# AND\n",
    "def AND(x1, x2) :\n",
    "    return MLP(np.array([x1, x2]), w2, b3)\n",
    "\n",
    "# XOR\n",
    "def XOR(x1, x2) :\n",
    "    return AND(NAND(x1, x2), OR(x1, x2))\n",
    "\n"
   ]
  },
  {
   "cell_type": "code",
   "execution_count": 12,
   "metadata": {},
   "outputs": [
    {
     "name": "stdout",
     "output_type": "stream",
     "text": [
      "입력값 : (0, 0) \t 출력값 : 0\n",
      "입력값 : (1, 0) \t 출력값 : 1\n",
      "입력값 : (0, 1) \t 출력값 : 1\n",
      "입력값 : (1, 1) \t 출력값 : 0\n"
     ]
    }
   ],
   "source": [
    "# x1, x2 값을 번갈아서 >> 대입 최종 값 출력\n",
    "\n",
    "for x in [(0,0), (1,0), (0,1), (1,1)] :\n",
    "    y = XOR(x[0], x[1])\n",
    "    print(f'입력값 : {x} \\t 출력값 : {y}')"
   ]
  },
  {
   "cell_type": "code",
   "execution_count": null,
   "metadata": {},
   "outputs": [],
   "source": []
  }
 ],
 "metadata": {
  "kernelspec": {
   "display_name": "base",
   "language": "python",
   "name": "python3"
  },
  "language_info": {
   "codemirror_mode": {
    "name": "ipython",
    "version": 3
   },
   "file_extension": ".py",
   "mimetype": "text/x-python",
   "name": "python",
   "nbconvert_exporter": "python",
   "pygments_lexer": "ipython3",
   "version": "3.9.13"
  },
  "orig_nbformat": 4,
  "vscode": {
   "interpreter": {
    "hash": "1284a11239f1c582240c95e9b63f464998ce3454084d16e746adc349338fd12e"
   }
  }
 },
 "nbformat": 4,
 "nbformat_minor": 2
}
