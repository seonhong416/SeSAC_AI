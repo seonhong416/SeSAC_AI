{
 "cells": [
  {
   "cell_type": "code",
   "execution_count": 9,
   "metadata": {},
   "outputs": [],
   "source": [
    "import numpy as np\n",
    "import pandas as pd\n",
    "\n",
    "from tensorflow import keras\n",
    "import keras\n",
    "from tensorflow.keras.models import Sequential\n",
    "from tensorflow.keras.layers import Dense"
   ]
  },
  {
   "cell_type": "code",
   "execution_count": 12,
   "metadata": {},
   "outputs": [
    {
     "data": {
      "text/plain": [
       "array([[ 1.  ,  2.88,  2.16,  1.  ,  0.  ,  0.  ,  0.  ,  1.  ,  1.  ,\n",
       "         3.  ,  0.  ,  0.  ,  0.  ,  1.  ,  0.  , 60.  ,  0.  ],\n",
       "       [ 2.  ,  3.4 ,  1.88,  0.  ,  0.  ,  0.  ,  0.  ,  0.  ,  0.  ,\n",
       "         1.  ,  0.  ,  0.  ,  0.  ,  1.  ,  0.  , 51.  ,  0.  ],\n",
       "       [ 2.  ,  2.76,  2.08,  1.  ,  0.  ,  0.  ,  0.  ,  1.  ,  0.  ,\n",
       "         0.  ,  0.  ,  0.  ,  0.  ,  1.  ,  0.  , 59.  ,  0.  ],\n",
       "       [ 2.  ,  3.68,  3.04,  0.  ,  0.  ,  0.  ,  0.  ,  0.  ,  0.  ,\n",
       "         0.  ,  0.  ,  0.  ,  0.  ,  0.  ,  0.  , 54.  ,  0.  ],\n",
       "       [ 2.  ,  2.44,  0.96,  2.  ,  0.  ,  1.  ,  0.  ,  1.  ,  1.  ,\n",
       "         0.  ,  0.  ,  0.  ,  0.  ,  1.  ,  0.  , 73.  ,  1.  ],\n",
       "       [ 2.  ,  2.48,  1.88,  1.  ,  0.  ,  0.  ,  0.  ,  1.  ,  0.  ,\n",
       "         0.  ,  0.  ,  0.  ,  0.  ,  0.  ,  0.  , 51.  ,  0.  ],\n",
       "       [ 2.  ,  4.36,  3.28,  1.  ,  0.  ,  0.  ,  0.  ,  1.  ,  0.  ,\n",
       "         1.  ,  1.  ,  0.  ,  0.  ,  1.  ,  0.  , 59.  ,  1.  ],\n",
       "       [ 1.  ,  3.19,  2.5 ,  1.  ,  0.  ,  0.  ,  0.  ,  1.  ,  0.  ,\n",
       "         0.  ,  0.  ,  0.  ,  1.  ,  1.  ,  0.  , 66.  ,  1.  ],\n",
       "       [ 2.  ,  3.16,  2.64,  2.  ,  0.  ,  0.  ,  0.  ,  1.  ,  1.  ,\n",
       "         0.  ,  0.  ,  0.  ,  0.  ,  1.  ,  0.  , 68.  ,  0.  ],\n",
       "       [ 2.  ,  2.32,  2.16,  1.  ,  0.  ,  0.  ,  0.  ,  1.  ,  0.  ,\n",
       "         0.  ,  0.  ,  0.  ,  0.  ,  1.  ,  0.  , 54.  ,  0.  ]])"
      ]
     },
     "execution_count": 12,
     "metadata": {},
     "output_type": "execute_result"
    }
   ],
   "source": [
    "path = './data/ThoraricSurgery3.csv'\n",
    "\n",
    "data = np.loadtxt(path, delimiter = ',')\n",
    "data[:10]"
   ]
  },
  {
   "cell_type": "code",
   "execution_count": 13,
   "metadata": {},
   "outputs": [],
   "source": [
    "x = data[:, :-1]\n",
    "y = data[:, -1]"
   ]
  },
  {
   "cell_type": "code",
   "execution_count": 14,
   "metadata": {},
   "outputs": [],
   "source": [
    "# 딥러닝 모델 구조 결정\n",
    "\n",
    "model = Sequential()\n",
    "model.add(Dense(30, input_dim = 16, activation = 'relu')) # 은닉층 / 반든시 input_dim 포함\n",
    "model.add(Dense(1, activation = 'sigmoid')) # 출력층 / 이진 분류 : sigmoid(1, 0 분류)"
   ]
  },
  {
   "attachments": {},
   "cell_type": "markdown",
   "metadata": {},
   "source": [
    "![img](05%EB%AA%A8%EB%8D%B8%EA%B5%AC%EC%A1%B0.png)"
   ]
  },
  {
   "cell_type": "code",
   "execution_count": 15,
   "metadata": {},
   "outputs": [
    {
     "name": "stdout",
     "output_type": "stream",
     "text": [
      "Epoch 1/5\n",
      "30/30 [==============================] - 0s 2ms/step - loss: 4.7084 - accuracy: 0.2234\n",
      "Epoch 2/5\n",
      "30/30 [==============================] - 0s 1ms/step - loss: 0.5649 - accuracy: 0.8511\n",
      "Epoch 3/5\n",
      "30/30 [==============================] - 0s 1ms/step - loss: 0.4629 - accuracy: 0.8511\n",
      "Epoch 4/5\n",
      "30/30 [==============================] - 0s 1ms/step - loss: 0.4415 - accuracy: 0.8511\n",
      "Epoch 5/5\n",
      "30/30 [==============================] - 0s 1ms/step - loss: 0.4388 - accuracy: 0.8511\n"
     ]
    }
   ],
   "source": [
    "# 모델 실행\n",
    "\n",
    "model.compile(loss = 'binary_crossentropy', optimizer='adam', metrics=['accuracy'])\n",
    "history = model.fit(x, y, epochs = 5, batch_size = 16)"
   ]
  },
  {
   "cell_type": "code",
   "execution_count": null,
   "metadata": {},
   "outputs": [],
   "source": []
  },
  {
   "cell_type": "code",
   "execution_count": null,
   "metadata": {},
   "outputs": [],
   "source": []
  }
 ],
 "metadata": {
  "kernelspec": {
   "display_name": "base",
   "language": "python",
   "name": "python3"
  },
  "language_info": {
   "codemirror_mode": {
    "name": "ipython",
    "version": 3
   },
   "file_extension": ".py",
   "mimetype": "text/x-python",
   "name": "python",
   "nbconvert_exporter": "python",
   "pygments_lexer": "ipython3",
   "version": "3.9.13"
  },
  "orig_nbformat": 4,
  "vscode": {
   "interpreter": {
    "hash": "1284a11239f1c582240c95e9b63f464998ce3454084d16e746adc349338fd12e"
   }
  }
 },
 "nbformat": 4,
 "nbformat_minor": 2
}
