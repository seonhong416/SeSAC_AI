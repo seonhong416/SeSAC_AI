{
 "cells": [
  {
   "cell_type": "code",
   "execution_count": 53,
   "metadata": {},
   "outputs": [],
   "source": [
    "# LSTM 이용 로이스터 뉴스 카테고리 분류\n",
    "\n",
    "from tensorflow import keras\n",
    "from keras.models import Sequential\n",
    "from keras.layers import Dense, LSTM, Embedding, Conv1D, MaxPooling1D, Dropout\n",
    "from keras.utils import to_categorical\n",
    "from tensorflow.keras.preprocessing import sequence\n",
    "from keras.datasets import reuters, imdb\n",
    "from keras.callbacks import EarlyStopping\n",
    "\n",
    "import numpy as np\n",
    "import pandas as pd\n",
    "import matplotlib.pyplot as plt"
   ]
  },
  {
   "cell_type": "code",
   "execution_count": 39,
   "metadata": {},
   "outputs": [],
   "source": [
    "# 데이터 가져오기\n",
    "(x_train, y_train),(x_test, y_test) = reuters.load_data(num_words = 1000, test_split = 0.2)\n",
    "# num_words 빈도수가 큰 것을 기준으로 구분된 1000개"
   ]
  },
  {
   "cell_type": "code",
   "execution_count": 40,
   "metadata": {},
   "outputs": [
    {
     "data": {
      "text/plain": [
       "45"
      ]
     },
     "execution_count": 40,
     "metadata": {},
     "output_type": "execute_result"
    }
   ],
   "source": [
    "# 데이터 확인\n",
    "\n",
    "np.max(y_train)"
   ]
  },
  {
   "cell_type": "code",
   "execution_count": 41,
   "metadata": {},
   "outputs": [
    {
     "data": {
      "text/plain": [
       "[0, 0, 0, 0, 0, 0, 0, 0, 0, 0, 0, 0, 0, 0, 0, 0, 0, 0, 0, 0]"
      ]
     },
     "execution_count": 41,
     "metadata": {},
     "output_type": "execute_result"
    }
   ],
   "source": [
    "sorted(y_train)[:20]"
   ]
  },
  {
   "cell_type": "code",
   "execution_count": 42,
   "metadata": {},
   "outputs": [
    {
     "name": "stdout",
     "output_type": "stream",
     "text": [
      "46 종류(카테고리)\n",
      "8982 학습용 뉴스 기사\n",
      "2246 테스트용 뉴스 기사\n"
     ]
    }
   ],
   "source": [
    "category = np.max(y_train) + 1\n",
    "print(category, '종류(카테고리)')\n",
    "print(len(x_train), '학습용 뉴스 기사')\n",
    "print(len(x_test), '테스트용 뉴스 기사')"
   ]
  },
  {
   "cell_type": "code",
   "execution_count": 43,
   "metadata": {},
   "outputs": [
    {
     "name": "stdout",
     "output_type": "stream",
     "text": [
      "[1, 2, 2, 8, 43, 10, 447, 5, 25, 207, 270, 5, 2, 111, 16, 369, 186, 90, 67, 7, 89, 5, 19, 102, 6, 19, 124, 15, 90, 67, 84, 22, 482, 26, 7, 48, 4, 49, 8, 864, 39, 209, 154, 6, 151, 6, 83, 11, 15, 22, 155, 11, 15, 7, 48, 9, 2, 2, 504, 6, 258, 6, 272, 11, 15, 22, 134, 44, 11, 15, 16, 8, 197, 2, 90, 67, 52, 29, 209, 30, 32, 132, 6, 109, 15, 17, 12]\n"
     ]
    }
   ],
   "source": [
    "print(x_train[0])"
   ]
  },
  {
   "cell_type": "code",
   "execution_count": 44,
   "metadata": {},
   "outputs": [
    {
     "data": {
      "text/plain": [
       "array([[  0,   0,   0, ...,  15,  17,  12],\n",
       "       [  0,   0,   0, ..., 505,  17,  12],\n",
       "       [ 19, 758,  15, ...,  11,  17,  12],\n",
       "       ...,\n",
       "       [  0,   0,   0, ..., 407,  17,  12],\n",
       "       [ 88,   2,  72, ..., 364,  17,  12],\n",
       "       [125,   2,  21, ..., 113,  17,  12]])"
      ]
     },
     "execution_count": 44,
     "metadata": {},
     "output_type": "execute_result"
    }
   ],
   "source": [
    "# 단어의 수 맞추어 보기\n",
    "x_train = sequence.pad_sequences(x_train, maxlen = 100)\n",
    "x_train"
   ]
  },
  {
   "cell_type": "code",
   "execution_count": 45,
   "metadata": {},
   "outputs": [
    {
     "data": {
      "text/plain": [
       "array([[  5,   2,   7, ..., 510,  17,  12],\n",
       "       [652, 194,   2, ..., 760,  17,  12],\n",
       "       [ 13,  10, 139, ...,   8,  17,  12],\n",
       "       ...,\n",
       "       [  0,   0,   0, ...,  11,  17,  12],\n",
       "       [  0,   0,   0, ...,   8,  17,  12],\n",
       "       [ 47, 758,  15, ...,   2,  17,  12]])"
      ]
     },
     "execution_count": 45,
     "metadata": {},
     "output_type": "execute_result"
    }
   ],
   "source": [
    "x_test = sequence.pad_sequences(x_test, maxlen = 100)\n",
    "x_test"
   ]
  },
  {
   "cell_type": "code",
   "execution_count": 46,
   "metadata": {},
   "outputs": [
    {
     "data": {
      "text/plain": [
       "array([[0., 0., 0., ..., 0., 0., 0.],\n",
       "       [0., 0., 0., ..., 0., 0., 0.],\n",
       "       [0., 0., 0., ..., 0., 0., 0.],\n",
       "       ...,\n",
       "       [0., 0., 0., ..., 0., 0., 0.],\n",
       "       [0., 0., 0., ..., 0., 0., 0.],\n",
       "       [0., 0., 0., ..., 0., 0., 0.]], dtype=float32)"
      ]
     },
     "execution_count": 46,
     "metadata": {},
     "output_type": "execute_result"
    }
   ],
   "source": [
    "# 원-핫 인코딩 처리\n",
    "y_train = to_categorical(y_train)\n",
    "y_train"
   ]
  },
  {
   "cell_type": "code",
   "execution_count": 47,
   "metadata": {},
   "outputs": [
    {
     "data": {
      "text/plain": [
       "array([[0., 0., 0., ..., 0., 0., 0.],\n",
       "       [0., 0., 0., ..., 0., 0., 0.],\n",
       "       [0., 1., 0., ..., 0., 0., 0.],\n",
       "       ...,\n",
       "       [0., 0., 0., ..., 0., 0., 0.],\n",
       "       [0., 0., 0., ..., 0., 0., 0.],\n",
       "       [0., 0., 0., ..., 0., 0., 0.]], dtype=float32)"
      ]
     },
     "execution_count": 47,
     "metadata": {},
     "output_type": "execute_result"
    }
   ],
   "source": [
    "y_test = to_categorical(y_test)\n",
    "y_test"
   ]
  },
  {
   "cell_type": "code",
   "execution_count": 48,
   "metadata": {},
   "outputs": [
    {
     "name": "stdout",
     "output_type": "stream",
     "text": [
      "Epoch 1/200\n",
      "450/450 [==============================] - 4s 6ms/step - loss: 2.1720 - accuracy: 0.4498 - val_loss: 1.8190 - val_accuracy: 0.5232\n",
      "Epoch 2/200\n",
      "450/450 [==============================] - 3s 6ms/step - loss: 1.7281 - accuracy: 0.5546 - val_loss: 1.6551 - val_accuracy: 0.5828\n",
      "Epoch 3/200\n",
      "450/450 [==============================] - 3s 6ms/step - loss: 1.5557 - accuracy: 0.6086 - val_loss: 1.4827 - val_accuracy: 0.6313\n",
      "Epoch 4/200\n",
      "450/450 [==============================] - 3s 6ms/step - loss: 1.3596 - accuracy: 0.6555 - val_loss: 1.3725 - val_accuracy: 0.6545\n",
      "Epoch 5/200\n",
      "450/450 [==============================] - 3s 6ms/step - loss: 1.2475 - accuracy: 0.6848 - val_loss: 1.3026 - val_accuracy: 0.6741\n",
      "Epoch 6/200\n",
      "450/450 [==============================] - 3s 6ms/step - loss: 1.1386 - accuracy: 0.7132 - val_loss: 1.2481 - val_accuracy: 0.6794\n",
      "Epoch 7/200\n",
      "450/450 [==============================] - 3s 6ms/step - loss: 1.0486 - accuracy: 0.7379 - val_loss: 1.2177 - val_accuracy: 0.6879\n",
      "Epoch 8/200\n",
      "450/450 [==============================] - 3s 6ms/step - loss: 0.9684 - accuracy: 0.7565 - val_loss: 1.1426 - val_accuracy: 0.7133\n",
      "Epoch 9/200\n",
      "450/450 [==============================] - 3s 6ms/step - loss: 0.8959 - accuracy: 0.7760 - val_loss: 1.1258 - val_accuracy: 0.7253\n",
      "Epoch 10/200\n",
      "450/450 [==============================] - 3s 6ms/step - loss: 0.8307 - accuracy: 0.7935 - val_loss: 1.1122 - val_accuracy: 0.7257\n",
      "Epoch 11/200\n",
      "450/450 [==============================] - 3s 6ms/step - loss: 0.7673 - accuracy: 0.8103 - val_loss: 1.1041 - val_accuracy: 0.7329\n",
      "Epoch 12/200\n",
      "450/450 [==============================] - 3s 6ms/step - loss: 0.7154 - accuracy: 0.8215 - val_loss: 1.1441 - val_accuracy: 0.7231\n",
      "Epoch 13/200\n",
      "450/450 [==============================] - 3s 6ms/step - loss: 0.6684 - accuracy: 0.8327 - val_loss: 1.1271 - val_accuracy: 0.7324\n",
      "Epoch 14/200\n",
      "450/450 [==============================] - 3s 6ms/step - loss: 0.6108 - accuracy: 0.8476 - val_loss: 1.1689 - val_accuracy: 0.7342\n",
      "Epoch 15/200\n",
      "450/450 [==============================] - 3s 6ms/step - loss: 0.5614 - accuracy: 0.8603 - val_loss: 1.2102 - val_accuracy: 0.7275\n",
      "Epoch 16/200\n",
      "450/450 [==============================] - 3s 6ms/step - loss: 0.5247 - accuracy: 0.8671 - val_loss: 1.2028 - val_accuracy: 0.7244\n",
      "Epoch 17/200\n",
      "450/450 [==============================] - 3s 6ms/step - loss: 0.4769 - accuracy: 0.8822 - val_loss: 1.2548 - val_accuracy: 0.7244\n",
      "Epoch 18/200\n",
      "450/450 [==============================] - 3s 6ms/step - loss: 0.4382 - accuracy: 0.8914 - val_loss: 1.2788 - val_accuracy: 0.7226\n",
      "Epoch 19/200\n",
      "450/450 [==============================] - 3s 6ms/step - loss: 0.4084 - accuracy: 0.8974 - val_loss: 1.3406 - val_accuracy: 0.7070\n",
      "Epoch 20/200\n",
      "450/450 [==============================] - 3s 6ms/step - loss: 0.3790 - accuracy: 0.9057 - val_loss: 1.3481 - val_accuracy: 0.7182\n",
      "Epoch 21/200\n",
      "450/450 [==============================] - 3s 6ms/step - loss: 0.3410 - accuracy: 0.9136 - val_loss: 1.3963 - val_accuracy: 0.7150\n",
      "71/71 [==============================] - 0s 3ms/step - loss: 1.3963 - accuracy: 0.7150\n",
      "\n",
      " test acc : 0.7150\n"
     ]
    }
   ],
   "source": [
    "# 모델 구조\n",
    "model = Sequential()\n",
    "model.add(Embedding(1000, 100))\n",
    "model.add(LSTM(100, activation = 'tanh')) # LSTM은 tanh를 많이씀\n",
    "model.add(Dense(46, activation = 'softmax')) # 46개 카테고리 별 출력\n",
    "\n",
    "# 모델 컴파일\n",
    "model.compile(loss = 'categorical_crossentropy', optimizer = 'adam', metrics = ['accuracy'])\n",
    "\n",
    "# 학습의 조기 중단 설정\n",
    "early_stopping_callback = EarlyStopping(monitor='val_loss', patience=10)\n",
    "\n",
    "# 모델 실행\n",
    "history = model.fit(x_train, y_train, batch_size = 20, epochs = 200, validation_data=(x_test, y_test),\n",
    "                    callbacks = [early_stopping_callback])\n",
    "\n",
    "# 테스트 정확도 출력\n",
    "print('\\n test acc : %.4f'%(model.evaluate(x_test, y_test)[1]))"
   ]
  },
  {
   "cell_type": "code",
   "execution_count": 49,
   "metadata": {},
   "outputs": [
    {
     "data": {
      "image/png": "[encoded data removed]",
      "text/plain": [
       "<Figure size 640x480 with 1 Axes>"
      ]
     },
     "metadata": {},
     "output_type": "display_data"
    }
   ],
   "source": [
    "# 데이터 시각화\n",
    "y_vloss = history.history['val_loss']\n",
    "y_loss = history.history['loss']\n",
    "\n",
    "# 그래프로 표현\n",
    "x_len = np.arange(len(y_loss))\n",
    "plt.plot(x_len, y_vloss, marker='.', c = 'red', label = 'test_loss')\n",
    "plt.plot(x_len, y_loss, marker = '.', c = 'blue', label = 'train_loss')\n",
    "plt.legend(loc = 'best')\n",
    "plt.grid()\n",
    "plt.xlabel('epoch')\n",
    "plt.ylabel('loss')\n",
    "plt.show()"
   ]
  },
  {
   "cell_type": "code",
   "execution_count": 50,
   "metadata": {},
   "outputs": [
    {
     "name": "stdout",
     "output_type": "stream",
     "text": [
      "Downloading data from https://storage.googleapis.com/tensorflow/tf-keras-datasets/imdb.npz\n",
      "17464789/17464789 [==============================] - 0s 0us/step\n"
     ]
    }
   ],
   "source": [
    "# LSTM / CNN 조합 >> 영화 리뷰 분류하기\n",
    "\n",
    "# 데이터 불러오기\n",
    "\n",
    "(x_train, y_train), (x_test, y_test) = imdb.load_data(num_words = 5000)"
   ]
  },
  {
   "cell_type": "code",
   "execution_count": 51,
   "metadata": {},
   "outputs": [],
   "source": [
    "# 단어의 수를 맞추어 주기\n",
    "x_train = sequence.pad_sequences(x_train, maxlen = 500)\n",
    "x_test = sequence.pad_sequences(x_test, maxlen = 500)"
   ]
  },
  {
   "cell_type": "code",
   "execution_count": 52,
   "metadata": {},
   "outputs": [
    {
     "data": {
      "text/plain": [
       "array([[   0,    0,    0, ...,   19,  178,   32],\n",
       "       [   0,    0,    0, ...,   16,  145,   95],\n",
       "       [   0,    0,    0, ...,    7,  129,  113],\n",
       "       ...,\n",
       "       [   0,    0,    0, ...,    4, 3586,    2],\n",
       "       [   0,    0,    0, ...,   12,    9,   23],\n",
       "       [   0,    0,    0, ...,  204,  131,    9]])"
      ]
     },
     "execution_count": 52,
     "metadata": {},
     "output_type": "execute_result"
    }
   ],
   "source": [
    "x_train"
   ]
  },
  {
   "cell_type": "code",
   "execution_count": 54,
   "metadata": {},
   "outputs": [
    {
     "name": "stdout",
     "output_type": "stream",
     "text": [
      "Model: \"sequential_3\"\n",
      "_________________________________________________________________\n",
      " Layer (type)                Output Shape              Param #   \n",
      "=================================================================\n",
      " embedding_3 (Embedding)     (None, None, 100)         500000    \n",
      "                                                                 \n",
      " dropout (Dropout)           (None, None, 100)         0         \n",
      "                                                                 \n",
      " conv1d (Conv1D)             (None, None, 64)          32064     \n",
      "                                                                 \n",
      " max_pooling1d (MaxPooling1D  (None, None, 64)         0         \n",
      " )                                                               \n",
      "                                                                 \n",
      " lstm_3 (LSTM)               (None, 55)                26400     \n",
      "                                                                 \n",
      " dense_3 (Dense)             (None, 1)                 56        \n",
      "                                                                 \n",
      "=================================================================\n",
      "Total params: 558,520\n",
      "Trainable params: 558,520\n",
      "Non-trainable params: 0\n",
      "_________________________________________________________________\n"
     ]
    }
   ],
   "source": [
    "# 모델 구조 설정\n",
    "\n",
    "model = Sequential()\n",
    "model.add(Embedding(5000, 100))\n",
    "model.add(Dropout(0.5))\n",
    "model.add(Conv1D(64, kernel_size=5, padding='valid', activation = 'relu', strides=1))\n",
    "model.add(MaxPooling1D(pool_size = 4))\n",
    "model.add(LSTM(55))\n",
    "model.add(Dense(1, activation='sigmoid'))\n",
    "model.summary()\n"
   ]
  },
  {
   "cell_type": "code",
   "execution_count": 55,
   "metadata": {},
   "outputs": [
    {
     "name": "stdout",
     "output_type": "stream",
     "text": [
      "Epoch 1/200\n",
      "469/469 [==============================] - 8s 9ms/step - loss: 0.4003 - accuracy: 0.8046 - val_loss: 0.3066 - val_accuracy: 0.8702\n",
      "Epoch 2/200\n",
      "469/469 [==============================] - 4s 9ms/step - loss: 0.2412 - accuracy: 0.9057 - val_loss: 0.2901 - val_accuracy: 0.8827\n",
      "Epoch 3/200\n",
      "469/469 [==============================] - 4s 9ms/step - loss: 0.1894 - accuracy: 0.9290 - val_loss: 0.2712 - val_accuracy: 0.8926\n",
      "Epoch 4/200\n",
      "469/469 [==============================] - 4s 9ms/step - loss: 0.1482 - accuracy: 0.9465 - val_loss: 0.2873 - val_accuracy: 0.8893\n",
      "Epoch 5/200\n",
      "469/469 [==============================] - 4s 9ms/step - loss: 0.1253 - accuracy: 0.9541 - val_loss: 0.3158 - val_accuracy: 0.8861\n",
      "Epoch 6/200\n",
      "469/469 [==============================] - 4s 9ms/step - loss: 0.0954 - accuracy: 0.9683 - val_loss: 0.3285 - val_accuracy: 0.8886\n",
      "Epoch 7/200\n",
      "469/469 [==============================] - 4s 9ms/step - loss: 0.0759 - accuracy: 0.9753 - val_loss: 0.3643 - val_accuracy: 0.8870\n",
      "Epoch 8/200\n",
      "469/469 [==============================] - 4s 9ms/step - loss: 0.0635 - accuracy: 0.9791 - val_loss: 0.3859 - val_accuracy: 0.8846\n",
      "Epoch 9/200\n",
      "469/469 [==============================] - 4s 9ms/step - loss: 0.0598 - accuracy: 0.9794 - val_loss: 0.3928 - val_accuracy: 0.8829\n",
      "Epoch 10/200\n",
      "469/469 [==============================] - 4s 9ms/step - loss: 0.0456 - accuracy: 0.9849 - val_loss: 0.4618 - val_accuracy: 0.8822\n",
      "Epoch 11/200\n",
      "469/469 [==============================] - 4s 9ms/step - loss: 0.0449 - accuracy: 0.9854 - val_loss: 0.4425 - val_accuracy: 0.8861\n",
      "Epoch 12/200\n",
      "469/469 [==============================] - 4s 9ms/step - loss: 0.0349 - accuracy: 0.9883 - val_loss: 0.6094 - val_accuracy: 0.8637\n",
      "Epoch 13/200\n",
      "469/469 [==============================] - 4s 9ms/step - loss: 0.0331 - accuracy: 0.9891 - val_loss: 0.4858 - val_accuracy: 0.8770\n"
     ]
    }
   ],
   "source": [
    "# 모델 컴파일\n",
    "model.compile(loss = 'binary_crossentropy', optimizer='adam', metrics=['accuracy'])\n",
    "\n",
    "# 조기 종료 설정\n",
    "early_stopping_callback = EarlyStopping(monitor='val_loss', patience=10)\n",
    "\n",
    "# 모델 실행\n",
    "history = model.fit(x_train, y_train, batch_size=40, epochs=200, validation_split= 0.25, callbacks = [early_stopping_callback])\n"
   ]
  },
  {
   "cell_type": "code",
   "execution_count": 56,
   "metadata": {},
   "outputs": [
    {
     "name": "stdout",
     "output_type": "stream",
     "text": [
      "782/782 [==============================] - 2s 3ms/step - loss: 0.5100 - accuracy: 0.8741\n",
      "Test ACC : 0.87\n"
     ]
    }
   ],
   "source": [
    "# 테스트 정확도 출력\n",
    "print('Test ACC :', round(model.evaluate(x_test, y_test)[1],2))"
   ]
  },
  {
   "cell_type": "code",
   "execution_count": 58,
   "metadata": {},
   "outputs": [
    {
     "data": {
      "image/png": "[encoded data removed]",
      "text/plain": [
       "<Figure size 640x480 with 1 Axes>"
      ]
     },
     "metadata": {},
     "output_type": "display_data"
    }
   ],
   "source": [
    "y_vloss = history.history['val_loss']\n",
    "y_loss = history.history['loss']\n",
    "x_len = np.arange(len(y_loss))\n",
    "plt.plot(x_len, y_vloss, marker = '.', c = 'red', label = 'Testset_loss')\n",
    "plt.plot(x_len, y_loss, marker = '.', c = 'blue', label = 'Trainset_loss')\n",
    "plt.legend(loc = 'best')\n",
    "plt.grid()\n",
    "plt.xlabel('epoch')\n",
    "plt.ylabel('loss')\n",
    "plt.show()"
   ]
  },
  {
   "cell_type": "code",
   "execution_count": 60,
   "metadata": {},
   "outputs": [
    {
     "name": "stdout",
     "output_type": "stream",
     "text": [
      "Collecting attention\n",
      "  Using cached attention-4.1-py3-none-any.whl (8.6 kB)\n",
      "Requirement already satisfied: tensorflow>=2.1 in c:\\users\\sbauser\\appdata\\roaming\\python\\python39\\site-packages (from attention) (2.10.1)\n",
      "Requirement already satisfied: numpy>=1.18.1 in c:\\users\\sbauser\\anaconda3\\lib\\site-packages (from attention) (1.21.5)\n",
      "Requirement already satisfied: termcolor>=1.1.0 in c:\\users\\sbauser\\anaconda3\\lib\\site-packages (from tensorflow>=2.1->attention) (2.2.0)\n",
      "Requirement already satisfied: wrapt>=1.11.0 in c:\\users\\sbauser\\anaconda3\\lib\\site-packages (from tensorflow>=2.1->attention) (1.14.1)\n",
      "Requirement already satisfied: packaging in c:\\users\\sbauser\\appdata\\roaming\\python\\python39\\site-packages (from tensorflow>=2.1->attention) (23.0)\n",
      "Requirement already satisfied: tensorflow-estimator<2.11,>=2.10.0 in c:\\users\\sbauser\\anaconda3\\lib\\site-packages (from tensorflow>=2.1->attention) (2.10.0)\n",
      "Requirement already satisfied: protobuf<3.20,>=3.9.2 in c:\\users\\sbauser\\anaconda3\\lib\\site-packages (from tensorflow>=2.1->attention) (3.19.6)\n",
      "Requirement already satisfied: absl-py>=1.0.0 in c:\\users\\sbauser\\anaconda3\\lib\\site-packages (from tensorflow>=2.1->attention) (1.4.0)\n",
      "Requirement already satisfied: setuptools in c:\\users\\sbauser\\anaconda3\\lib\\site-packages (from tensorflow>=2.1->attention) (63.4.1)\n",
      "Requirement already satisfied: keras-preprocessing>=1.1.1 in c:\\users\\sbauser\\anaconda3\\lib\\site-packages (from tensorflow>=2.1->attention) (1.1.2)\n",
      "Requirement already satisfied: tensorflow-io-gcs-filesystem>=0.23.1 in c:\\users\\sbauser\\anaconda3\\lib\\site-packages (from tensorflow>=2.1->attention) (0.30.0)\n",
      "Requirement already satisfied: gast<=0.4.0,>=0.2.1 in c:\\users\\sbauser\\anaconda3\\lib\\site-packages (from tensorflow>=2.1->attention) (0.4.0)\n",
      "Requirement already satisfied: google-pasta>=0.1.1 in c:\\users\\sbauser\\anaconda3\\lib\\site-packages (from tensorflow>=2.1->attention) (0.2.0)\n",
      "Requirement already satisfied: libclang>=13.0.0 in c:\\users\\sbauser\\anaconda3\\lib\\site-packages (from tensorflow>=2.1->attention) (15.0.6.1)\n",
      "Requirement already satisfied: tensorboard<2.11,>=2.10 in c:\\users\\sbauser\\anaconda3\\lib\\site-packages (from tensorflow>=2.1->attention) (2.10.1)\n",
      "Requirement already satisfied: keras<2.11,>=2.10.0 in c:\\users\\sbauser\\anaconda3\\lib\\site-packages (from tensorflow>=2.1->attention) (2.10.0)\n",
      "Requirement already satisfied: typing-extensions>=3.6.6 in c:\\users\\sbauser\\anaconda3\\lib\\site-packages (from tensorflow>=2.1->attention) (4.3.0)\n",
      "Requirement already satisfied: opt-einsum>=2.3.2 in c:\\users\\sbauser\\anaconda3\\lib\\site-packages (from tensorflow>=2.1->attention) (3.3.0)\n",
      "Requirement already satisfied: grpcio<2.0,>=1.24.3 in c:\\users\\sbauser\\anaconda3\\lib\\site-packages (from tensorflow>=2.1->attention) (1.51.1)\n",
      "Requirement already satisfied: h5py>=2.9.0 in c:\\users\\sbauser\\anaconda3\\lib\\site-packages (from tensorflow>=2.1->attention) (3.7.0)\n",
      "Requirement already satisfied: astunparse>=1.6.0 in c:\\users\\sbauser\\anaconda3\\lib\\site-packages (from tensorflow>=2.1->attention) (1.6.3)\n",
      "Requirement already satisfied: flatbuffers>=2.0 in c:\\users\\sbauser\\anaconda3\\lib\\site-packages (from tensorflow>=2.1->attention) (23.1.21)\n",
      "Requirement already satisfied: six>=1.12.0 in c:\\users\\sbauser\\appdata\\roaming\\python\\python39\\site-packages (from tensorflow>=2.1->attention) (1.16.0)\n",
      "Requirement already satisfied: wheel<1.0,>=0.23.0 in c:\\users\\sbauser\\anaconda3\\lib\\site-packages (from astunparse>=1.6.0->tensorflow>=2.1->attention) (0.37.1)\n",
      "Requirement already satisfied: tensorboard-plugin-wit>=1.6.0 in c:\\users\\sbauser\\anaconda3\\lib\\site-packages (from tensorboard<2.11,>=2.10->tensorflow>=2.1->attention) (1.8.1)\n",
      "Requirement already satisfied: google-auth-oauthlib<0.5,>=0.4.1 in c:\\users\\sbauser\\anaconda3\\lib\\site-packages (from tensorboard<2.11,>=2.10->tensorflow>=2.1->attention) (0.4.6)\n",
      "Requirement already satisfied: markdown>=2.6.8 in c:\\users\\sbauser\\anaconda3\\lib\\site-packages (from tensorboard<2.11,>=2.10->tensorflow>=2.1->attention) (3.3.4)\n",
      "Requirement already satisfied: tensorboard-data-server<0.7.0,>=0.6.0 in c:\\users\\sbauser\\anaconda3\\lib\\site-packages (from tensorboard<2.11,>=2.10->tensorflow>=2.1->attention) (0.6.1)\n",
      "Requirement already satisfied: google-auth<3,>=1.6.3 in c:\\users\\sbauser\\anaconda3\\lib\\site-packages (from tensorboard<2.11,>=2.10->tensorflow>=2.1->attention) (2.16.0)\n",
      "Requirement already satisfied: requests<3,>=2.21.0 in c:\\users\\sbauser\\anaconda3\\lib\\site-packages (from tensorboard<2.11,>=2.10->tensorflow>=2.1->attention) (2.28.1)\n",
      "Requirement already satisfied: werkzeug>=1.0.1 in c:\\users\\sbauser\\anaconda3\\lib\\site-packages (from tensorboard<2.11,>=2.10->tensorflow>=2.1->attention) (2.0.3)\n",
      "Requirement already satisfied: cachetools<6.0,>=2.0.0 in c:\\users\\sbauser\\anaconda3\\lib\\site-packages (from google-auth<3,>=1.6.3->tensorboard<2.11,>=2.10->tensorflow>=2.1->attention) (5.3.0)\n",
      "Requirement already satisfied: pyasn1-modules>=0.2.1 in c:\\users\\sbauser\\anaconda3\\lib\\site-packages (from google-auth<3,>=1.6.3->tensorboard<2.11,>=2.10->tensorflow>=2.1->attention) (0.2.8)\n",
      "Requirement already satisfied: rsa<5,>=3.1.4 in c:\\users\\sbauser\\anaconda3\\lib\\site-packages (from google-auth<3,>=1.6.3->tensorboard<2.11,>=2.10->tensorflow>=2.1->attention) (4.9)\n",
      "Requirement already satisfied: requests-oauthlib>=0.7.0 in c:\\users\\sbauser\\anaconda3\\lib\\site-packages (from google-auth-oauthlib<0.5,>=0.4.1->tensorboard<2.11,>=2.10->tensorflow>=2.1->attention) (1.3.1)\n",
      "Requirement already satisfied: charset-normalizer<3,>=2 in c:\\users\\sbauser\\anaconda3\\lib\\site-packages (from requests<3,>=2.21.0->tensorboard<2.11,>=2.10->tensorflow>=2.1->attention) (2.0.4)\n",
      "Requirement already satisfied: urllib3<1.27,>=1.21.1 in c:\\users\\sbauser\\anaconda3\\lib\\site-packages (from requests<3,>=2.21.0->tensorboard<2.11,>=2.10->tensorflow>=2.1->attention) (1.26.11)\n",
      "Requirement already satisfied: certifi>=2017.4.17 in c:\\users\\sbauser\\anaconda3\\lib\\site-packages (from requests<3,>=2.21.0->tensorboard<2.11,>=2.10->tensorflow>=2.1->attention) (2022.9.14)\n",
      "Requirement already satisfied: idna<4,>=2.5 in c:\\users\\sbauser\\anaconda3\\lib\\site-packages (from requests<3,>=2.21.0->tensorboard<2.11,>=2.10->tensorflow>=2.1->attention) (3.3)\n",
      "Requirement already satisfied: pyasn1<0.5.0,>=0.4.6 in c:\\users\\sbauser\\anaconda3\\lib\\site-packages (from pyasn1-modules>=0.2.1->google-auth<3,>=1.6.3->tensorboard<2.11,>=2.10->tensorflow>=2.1->attention) (0.4.8)\n",
      "Requirement already satisfied: oauthlib>=3.0.0 in c:\\users\\sbauser\\anaconda3\\lib\\site-packages (from requests-oauthlib>=0.7.0->google-auth-oauthlib<0.5,>=0.4.1->tensorboard<2.11,>=2.10->tensorflow>=2.1->attention) (3.2.2)\n",
      "Installing collected packages: attention\n",
      "Successfully installed attention-4.1\n"
     ]
    }
   ],
   "source": [
    "!pip install attention"
   ]
  },
  {
   "cell_type": "code",
   "execution_count": 61,
   "metadata": {},
   "outputs": [],
   "source": [
    "# 어텐션 (attention) 신경망\n",
    "from attention import Attention"
   ]
  },
  {
   "cell_type": "code",
   "execution_count": 65,
   "metadata": {},
   "outputs": [
    {
     "name": "stdout",
     "output_type": "stream",
     "text": [
      "Model: \"sequential_5\"\n",
      "_________________________________________________________________\n",
      " Layer (type)                Output Shape              Param #   \n",
      "=================================================================\n",
      " embedding_5 (Embedding)     (None, None, 500)         2500000   \n",
      "                                                                 \n",
      " dropout_3 (Dropout)         (None, None, 500)         0         \n",
      "                                                                 \n",
      " lstm_5 (LSTM)               (None, None, 64)          144640    \n",
      "                                                                 \n",
      " attention_1 (Attention)     (None, 128)               20480     \n",
      "                                                                 \n",
      " dropout_4 (Dropout)         (None, 128)               0         \n",
      "                                                                 \n",
      " dense_5 (Dense)             (None, 1)                 129       \n",
      "                                                                 \n",
      "=================================================================\n",
      "Total params: 2,665,249\n",
      "Trainable params: 2,665,249\n",
      "Non-trainable params: 0\n",
      "_________________________________________________________________\n"
     ]
    }
   ],
   "source": [
    "# 모델 구조 재설계\n",
    "\n",
    "model = Sequential()\n",
    "model.add(Embedding(5000, 500))\n",
    "model.add(Dropout(0.5))\n",
    "model.add(LSTM(64, return_sequences=True))\n",
    "# return_sequences = True >> 각 시퀀스에서 출력을 해달라는 의미\n",
    "model.add(Attention())\n",
    "model.add(Dropout(0.5))\n",
    "model.add(Dense(1, activation='sigmoid'))\n",
    "model.summary()"
   ]
  },
  {
   "cell_type": "code",
   "execution_count": 66,
   "metadata": {},
   "outputs": [
    {
     "name": "stdout",
     "output_type": "stream",
     "text": [
      "Epoch 1/200\n",
      "625/625 [==============================] - 18s 28ms/step - loss: 0.3857 - accuracy: 0.8238 - val_loss: 0.3066 - val_accuracy: 0.8729\n",
      "Epoch 2/200\n",
      "625/625 [==============================] - 17s 27ms/step - loss: 0.2321 - accuracy: 0.9095 - val_loss: 0.2865 - val_accuracy: 0.8872\n",
      "Epoch 3/200\n",
      "625/625 [==============================] - 18s 28ms/step - loss: 0.1672 - accuracy: 0.9363 - val_loss: 0.2815 - val_accuracy: 0.8862\n",
      "Epoch 4/200\n",
      "625/625 [==============================] - 18s 28ms/step - loss: 0.1228 - accuracy: 0.9537 - val_loss: 0.3508 - val_accuracy: 0.8781\n",
      "Epoch 5/200\n",
      "625/625 [==============================] - 18s 28ms/step - loss: 0.0889 - accuracy: 0.9658 - val_loss: 0.3843 - val_accuracy: 0.8842\n",
      "Epoch 6/200\n",
      "625/625 [==============================] - 17s 28ms/step - loss: 0.0633 - accuracy: 0.9764 - val_loss: 0.4551 - val_accuracy: 0.8745\n",
      "Epoch 7/200\n",
      "625/625 [==============================] - 18s 28ms/step - loss: 0.0469 - accuracy: 0.9830 - val_loss: 0.4915 - val_accuracy: 0.8721\n",
      "Epoch 8/200\n",
      "625/625 [==============================] - 17s 28ms/step - loss: 0.0384 - accuracy: 0.9863 - val_loss: 0.5352 - val_accuracy: 0.8728\n",
      "Epoch 9/200\n",
      "625/625 [==============================] - 17s 28ms/step - loss: 0.0305 - accuracy: 0.9894 - val_loss: 0.5869 - val_accuracy: 0.8759\n",
      "Epoch 10/200\n",
      "625/625 [==============================] - 17s 28ms/step - loss: 0.0198 - accuracy: 0.9929 - val_loss: 0.6754 - val_accuracy: 0.8755\n",
      "Epoch 11/200\n",
      "625/625 [==============================] - 17s 28ms/step - loss: 0.0215 - accuracy: 0.9925 - val_loss: 0.6776 - val_accuracy: 0.8783\n",
      "Epoch 12/200\n",
      "625/625 [==============================] - 17s 28ms/step - loss: 0.0190 - accuracy: 0.9936 - val_loss: 0.6606 - val_accuracy: 0.8715\n",
      "Epoch 13/200\n",
      "625/625 [==============================] - 18s 28ms/step - loss: 0.0165 - accuracy: 0.9950 - val_loss: 0.6883 - val_accuracy: 0.8755\n",
      "782/782 [==============================] - 7s 8ms/step - loss: 0.6883 - accuracy: 0.8755\n",
      "\n",
      "Test ACC : 0.8755\n"
     ]
    }
   ],
   "source": [
    "# 모델 실행 옵션 설정\n",
    "model.compile(loss = 'binary_crossentropy', optimizer='adam', metrics=['accuracy'])\n",
    "\n",
    "# 조기 종료 설정\n",
    "early_stopping_callback = EarlyStopping(monitor='val_loss', patience=10)\n",
    "\n",
    "# 모델 실행\n",
    "history = model.fit(x_train, y_train, validation_data=(x_test, y_test), epochs=200, batch_size=40,\n",
    "                    callbacks=[early_stopping_callback])\n",
    "\n",
    "# 테스트 정확도 출력\n",
    "print('\\nTest ACC :', round(model.evaluate(x_test, y_test)[1],4))"
   ]
  },
  {
   "cell_type": "code",
   "execution_count": 67,
   "metadata": {},
   "outputs": [
    {
     "data": {
      "image/png": "[encoded data removed]",
      "text/plain": [
       "<Figure size 640x480 with 1 Axes>"
      ]
     },
     "metadata": {},
     "output_type": "display_data"
    }
   ],
   "source": [
    "y_vloss = history.history['val_loss']\n",
    "y_loss = history.history['loss']\n",
    "x_len = np.arange(len(y_loss))\n",
    "plt.plot(x_len, y_vloss, marker = '.', c = 'red', label = 'Testset_loss')\n",
    "plt.plot(x_len, y_loss, marker = '.', c = 'blue', label = 'Trainset_loss')\n",
    "plt.legend(loc = 'best')\n",
    "plt.grid()\n",
    "plt.xlabel('epoch')\n",
    "plt.ylabel('loss')\n",
    "plt.show()"
   ]
  },
  {
   "cell_type": "code",
   "execution_count": null,
   "metadata": {},
   "outputs": [],
   "source": []
  }
 ],
 "metadata": {
  "kernelspec": {
   "display_name": "base",
   "language": "python",
   "name": "python3"
  },
  "language_info": {
   "codemirror_mode": {
    "name": "ipython",
    "version": 3
   },
   "file_extension": ".py",
   "mimetype": "text/x-python",
   "name": "python",
   "nbconvert_exporter": "python",
   "pygments_lexer": "ipython3",
   "version": "3.9.13"
  },
  "orig_nbformat": 4
 },
 "nbformat": 4,
 "nbformat_minor": 2
}
