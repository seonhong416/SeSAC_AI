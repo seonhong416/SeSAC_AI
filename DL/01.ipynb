{
 "cells": [
  {
   "cell_type": "code",
   "execution_count": 1,
   "metadata": {},
   "outputs": [],
   "source": [
    "import tensorflow as tf"
   ]
  },
  {
   "cell_type": "code",
   "execution_count": 2,
   "metadata": {},
   "outputs": [
    {
     "data": {
      "text/plain": [
       "'2.10.1'"
      ]
     },
     "execution_count": 2,
     "metadata": {},
     "output_type": "execute_result"
    }
   ],
   "source": [
    "tf.__version__"
   ]
  },
  {
   "cell_type": "code",
   "execution_count": 3,
   "metadata": {},
   "outputs": [],
   "source": [
    "# 회귀분석\n",
    "\n",
    "import numpy as np"
   ]
  },
  {
   "cell_type": "code",
   "execution_count": 4,
   "metadata": {},
   "outputs": [],
   "source": [
    "x = np.array([2,4,6,8])\n",
    "y = np.array([81, 93, 91, 97])"
   ]
  },
  {
   "cell_type": "code",
   "execution_count": 5,
   "metadata": {},
   "outputs": [],
   "source": [
    "mx = np.mean(x)\n",
    "my = np.mean(y)\n"
   ]
  },
  {
   "cell_type": "code",
   "execution_count": 6,
   "metadata": {},
   "outputs": [],
   "source": [
    "a = ((x-mx)*(y-my)).sum()/((x-mx)**2).sum()\n",
    "b = my - (mx * a)"
   ]
  },
  {
   "cell_type": "code",
   "execution_count": 7,
   "metadata": {},
   "outputs": [
    {
     "name": "stdout",
     "output_type": "stream",
     "text": [
      "2.3 79.0\n"
     ]
    }
   ],
   "source": [
    "print(a, b)"
   ]
  },
  {
   "cell_type": "code",
   "execution_count": 8,
   "metadata": {},
   "outputs": [],
   "source": [
    "# 최소 제곱\n",
    "\n",
    "# 공부한 시간과 점수를 각각 x, y 변수에 넣기\n",
    "x = np.array([2,4,6,8])\n",
    "y = np.array([81, 93, 91, 97])"
   ]
  },
  {
   "cell_type": "code",
   "execution_count": 9,
   "metadata": {},
   "outputs": [],
   "source": [
    "# x와 y의 평균값 구하기\n",
    "\n",
    "mx = np.mean(x)\n",
    "my = np.mean(y)\n"
   ]
  },
  {
   "cell_type": "code",
   "execution_count": 14,
   "metadata": {},
   "outputs": [
    {
     "name": "stdout",
     "output_type": "stream",
     "text": [
      "분모 : 20.0\n",
      "분자 : 46.0\n"
     ]
    }
   ],
   "source": [
    "# 기울기 공식 : y = wx + b 구하기\n",
    "\n",
    "# 최소제곱법의 분모를 만들기\n",
    "\n",
    "divisor = sum([(i-mx)**2 for i in x])\n",
    "\n",
    "# 분자 부분 만들기\n",
    "def top(x, mx, y, my) :\n",
    "    d = 0\n",
    "    for i in range(len(x)) :\n",
    "        d += (x[i]-mx)*(y[i]-my)\n",
    "    \n",
    "    return d\n",
    "\n",
    "dividend = top(x, mx, y, my)\n",
    "\n",
    "print('분모 :', divisor)\n",
    "print('분자 :', dividend)"
   ]
  },
  {
   "cell_type": "code",
   "execution_count": 16,
   "metadata": {},
   "outputs": [
    {
     "name": "stdout",
     "output_type": "stream",
     "text": [
      "2.3 79.0\n",
      "회귀식 : y = 2.3x + 79.0\n"
     ]
    }
   ],
   "source": [
    "a = dividend / divisor\n",
    "b = my - (a * mx)\n",
    "\n",
    "print(a, b)\n",
    "print(f'회귀식 : y = {a}x + {b}')"
   ]
  },
  {
   "cell_type": "code",
   "execution_count": 19,
   "metadata": {},
   "outputs": [],
   "source": [
    "# 평균제곱오차\n",
    "\n",
    "# 임의의 가상의 x, b를 입력\n",
    "w = 3\n",
    "b = 76\n",
    "\n",
    "# 공부한 시간과 점수를 각각 x, y 변수에 넣기\n",
    "x = np.array([2,4,6,8])\n",
    "y = np.array([81, 93, 91, 97])"
   ]
  },
  {
   "cell_type": "code",
   "execution_count": 20,
   "metadata": {},
   "outputs": [
    {
     "name": "stdout",
     "output_type": "stream",
     "text": [
      "공부한 시간 : 2, 실제 점수 : 81, 예측 점수 \" 82\n",
      "공부한 시간 : 4, 실제 점수 : 93, 예측 점수 \" 88\n",
      "공부한 시간 : 6, 실제 점수 : 91, 예측 점수 \" 94\n",
      "공부한 시간 : 8, 실제 점수 : 97, 예측 점수 \" 100\n"
     ]
    }
   ],
   "source": [
    "# 예측함수 만들기 (y = wx + b)\n",
    "def predict(x) :\n",
    "    return w*x + b\n",
    "\n",
    "# 예측값이 들어갈 빈 리스트 만들기\n",
    "result = []\n",
    "\n",
    "# 모든 x 값을 한 번씩 대입 >> result list에 넣어줘\n",
    "\n",
    "for i in range(len(x)) :\n",
    "    result.append(predict(x[i]))\n",
    "    print(f'공부한 시간 : {x[i]}, 실제 점수 : {y[i]}, 예측 점수 \" {predict(x[i])}')"
   ]
  },
  {
   "cell_type": "code",
   "execution_count": 22,
   "metadata": {},
   "outputs": [
    {
     "name": "stdout",
     "output_type": "stream",
     "text": [
      "평균제곱오차 : 11.0\n"
     ]
    }
   ],
   "source": [
    "# 평균제곱 오차 함수 이용, 각 y 값에 대입 > 최종값 구하기\n",
    "\n",
    "n = len(x)\n",
    "\n",
    "def mse(y, y_pred) :\n",
    "    return (1/n)*sum((y-y_pred)**2)\n",
    "\n",
    "# 평균제곱오차 출력\n",
    "print('평균제곱오차 : ' + str(mse(y, result)))"
   ]
  },
  {
   "cell_type": "code",
   "execution_count": null,
   "metadata": {},
   "outputs": [],
   "source": []
  }
 ],
 "metadata": {
  "kernelspec": {
   "display_name": "base",
   "language": "python",
   "name": "python3"
  },
  "language_info": {
   "codemirror_mode": {
    "name": "ipython",
    "version": 3
   },
   "file_extension": ".py",
   "mimetype": "text/x-python",
   "name": "python",
   "nbconvert_exporter": "python",
   "pygments_lexer": "ipython3",
   "version": "3.9.13"
  },
  "orig_nbformat": 4,
  "vscode": {
   "interpreter": {
    "hash": "1284a11239f1c582240c95e9b63f464998ce3454084d16e746adc349338fd12e"
   }
  }
 },
 "nbformat": 4,
 "nbformat_minor": 2
}
