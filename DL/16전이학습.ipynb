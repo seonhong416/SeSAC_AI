{
 "cells": [
  {
   "cell_type": "code",
   "execution_count": 13,
   "metadata": {},
   "outputs": [],
   "source": [
    "from tensorflow.keras.models import Sequential\n",
    "from tensorflow.keras.layers import Dense, Activation, Dropout, Flatten, Conv2D, MaxPooling2D\n",
    "from tensorflow.keras.preprocessing.image import ImageDataGenerator\n",
    "from tensorflow.keras.callbacks import EarlyStopping\n",
    "from tensorflow.keras import optimizers, Input, models, metrics\n",
    "\n",
    "import numpy as np\n",
    "import pandas as pd\n",
    "import matplotlib.pyplot as plt"
   ]
  },
  {
   "cell_type": "code",
   "execution_count": 14,
   "metadata": {},
   "outputs": [
    {
     "name": "stdout",
     "output_type": "stream",
     "text": [
      "Found 160 images belonging to 2 classes.\n"
     ]
    }
   ],
   "source": [
    "# 학습 데이터 셋을 이미지 증식 설정 하는 부분\n",
    "train_datagen = ImageDataGenerator(rescale=1./255,              # 주어진 이미지 크기 설정(0 ~ 1 사이)\n",
    "                                   horizontal_flip = True,      # 수평 대칭 이미지를 50% 확률로 만들어 추가\n",
    "                                                                # 주어진 이미지 수평, 수직으로 뒤집어줌\n",
    "                                   width_shift_range = 0.1,     # 전체 크기의 10% 범위 내에서 좌우로 이동\n",
    "                                   height_shift_range = 0.1,    # 전체 크기의 10% 범위 내에서 상하로 이동\n",
    "                                   rotation_range = 5,          # 정해진 각도(여기서는 5도) 만큼 회전\n",
    "                                   shear_range = 0.7,           # 좌표 하나를 고정, 나머지 이동\n",
    "                                   zoom_range = 1.2,            # 확대, 축소\n",
    "                                   vertical_flip = True,        # 수직 대칭 이미지\n",
    "                                   fill_mode = 'nearest')       # 빈 공간을 채움 nearest 옵션 : 가장 비슷한 색으로 채움\n",
    "\n",
    "# 학습 데이터 셋이 있는 폴더 위치 지정\n",
    "train_generator = train_datagen.flow_from_directory('./data/train/', target_size = (150, 150), \n",
    "                                                    batch_size = 5,\n",
    "                                                    class_mode = 'binary')"
   ]
  },
  {
   "cell_type": "code",
   "execution_count": 15,
   "metadata": {},
   "outputs": [],
   "source": [
    "# 테스트 데이터 셋을 이미지 증식 설정 하는 부분\n",
    "# 테스트 데이터 셋은 이미지 증식 안함\n",
    "test_datagen = ImageDataGenerator(rescale=1./255)"
   ]
  },
  {
   "cell_type": "code",
   "execution_count": 16,
   "metadata": {},
   "outputs": [
    {
     "name": "stdout",
     "output_type": "stream",
     "text": [
      "Found 120 images belonging to 2 classes.\n"
     ]
    }
   ],
   "source": [
    "test_generator = test_datagen.flow_from_directory('./data/test/', target_size = (150, 150), \n",
    "                                                    batch_size = 5,\n",
    "                                                    class_mode = 'binary')"
   ]
  },
  {
   "cell_type": "code",
   "execution_count": 17,
   "metadata": {},
   "outputs": [
    {
     "name": "stdout",
     "output_type": "stream",
     "text": [
      "Model: \"sequential_2\"\n",
      "_________________________________________________________________\n",
      " Layer (type)                Output Shape              Param #   \n",
      "=================================================================\n",
      " conv2d_3 (Conv2D)           (None, 148, 148, 32)      896       \n",
      "                                                                 \n",
      " activation_3 (Activation)   (None, 148, 148, 32)      0         \n",
      "                                                                 \n",
      " max_pooling2d_3 (MaxPooling  (None, 74, 74, 32)       0         \n",
      " 2D)                                                             \n",
      "                                                                 \n",
      " conv2d_4 (Conv2D)           (None, 72, 72, 32)        9248      \n",
      "                                                                 \n",
      " activation_4 (Activation)   (None, 72, 72, 32)        0         \n",
      "                                                                 \n",
      " max_pooling2d_4 (MaxPooling  (None, 36, 36, 32)       0         \n",
      " 2D)                                                             \n",
      "                                                                 \n",
      " conv2d_5 (Conv2D)           (None, 34, 34, 64)        18496     \n",
      "                                                                 \n",
      " activation_5 (Activation)   (None, 34, 34, 64)        0         \n",
      "                                                                 \n",
      " max_pooling2d_5 (MaxPooling  (None, 17, 17, 64)       0         \n",
      " 2D)                                                             \n",
      "                                                                 \n",
      " flatten_2 (Flatten)         (None, 18496)             0         \n",
      "                                                                 \n",
      " dense_4 (Dense)             (None, 64)                1183808   \n",
      "                                                                 \n",
      " dropout_2 (Dropout)         (None, 64)                0         \n",
      "                                                                 \n",
      " dense_5 (Dense)             (None, 1)                 65        \n",
      "                                                                 \n",
      "=================================================================\n",
      "Total params: 1,212,513\n",
      "Trainable params: 1,212,513\n",
      "Non-trainable params: 0\n",
      "_________________________________________________________________\n"
     ]
    }
   ],
   "source": [
    "# 모델링 (CNN)\n",
    "\n",
    "model = Sequential()\n",
    "model.add(Conv2D(32,(3,3), input_shape = (150, 150, 3)))\n",
    "model.add(Activation('relu'))\n",
    "model.add(MaxPooling2D(pool_size=(2,2)))\n",
    "\n",
    "model.add(Conv2D(32, (3,3)))\n",
    "model.add(Activation('relu'))\n",
    "model.add(MaxPooling2D(pool_size=(2,2)))\n",
    "\n",
    "model.add(Conv2D(64, (3,3)))\n",
    "model.add(Activation('relu'))\n",
    "model.add(MaxPooling2D(pool_size=(2,2)))\n",
    "\n",
    "model.add(Flatten())\n",
    "model.add(Dense(64, activation='relu'))\n",
    "model.add(Dropout(0.5))\n",
    "model.add(Dense(1, activation='sigmoid'))\n",
    "\n",
    "model.summary()\n"
   ]
  },
  {
   "cell_type": "code",
   "execution_count": 18,
   "metadata": {},
   "outputs": [
    {
     "name": "stdout",
     "output_type": "stream",
     "text": [
      "Epoch 1/100\n",
      "32/32 [==============================] - 1s 23ms/step - loss: 0.7062 - accuracy: 0.5375 - val_loss: 0.6893 - val_accuracy: 0.5400\n",
      "Epoch 2/100\n",
      "32/32 [==============================] - 1s 18ms/step - loss: 0.6901 - accuracy: 0.5000 - val_loss: 0.7028 - val_accuracy: 0.4400\n",
      "Epoch 3/100\n",
      "32/32 [==============================] - 1s 18ms/step - loss: 0.6946 - accuracy: 0.5312 - val_loss: 0.6839 - val_accuracy: 0.5600\n",
      "Epoch 4/100\n",
      "32/32 [==============================] - 1s 17ms/step - loss: 0.6903 - accuracy: 0.5125 - val_loss: 0.6872 - val_accuracy: 0.5400\n",
      "Epoch 5/100\n",
      "32/32 [==============================] - 1s 17ms/step - loss: 0.6877 - accuracy: 0.5750 - val_loss: 0.6928 - val_accuracy: 0.4600\n",
      "Epoch 6/100\n",
      "32/32 [==============================] - 1s 17ms/step - loss: 0.6800 - accuracy: 0.5375 - val_loss: 0.6873 - val_accuracy: 0.4400\n",
      "Epoch 7/100\n",
      "32/32 [==============================] - 1s 17ms/step - loss: 0.6842 - accuracy: 0.5562 - val_loss: 0.6800 - val_accuracy: 0.4800\n",
      "Epoch 8/100\n",
      "32/32 [==============================] - 1s 17ms/step - loss: 0.6866 - accuracy: 0.5312 - val_loss: 0.6711 - val_accuracy: 0.5200\n",
      "Epoch 9/100\n",
      "32/32 [==============================] - 1s 18ms/step - loss: 0.6754 - accuracy: 0.6187 - val_loss: 0.6623 - val_accuracy: 0.5600\n",
      "Epoch 10/100\n",
      "32/32 [==============================] - 1s 18ms/step - loss: 0.6505 - accuracy: 0.6562 - val_loss: 0.6205 - val_accuracy: 0.5800\n",
      "Epoch 11/100\n",
      "32/32 [==============================] - 1s 18ms/step - loss: 0.6671 - accuracy: 0.5437 - val_loss: 0.6136 - val_accuracy: 0.7400\n",
      "Epoch 12/100\n",
      "32/32 [==============================] - 1s 18ms/step - loss: 0.6402 - accuracy: 0.6313 - val_loss: 0.5737 - val_accuracy: 0.7000\n",
      "Epoch 13/100\n",
      "32/32 [==============================] - 1s 18ms/step - loss: 0.6410 - accuracy: 0.6687 - val_loss: 0.5509 - val_accuracy: 0.6200\n",
      "Epoch 14/100\n",
      "32/32 [==============================] - 1s 18ms/step - loss: 0.5962 - accuracy: 0.7063 - val_loss: 0.4776 - val_accuracy: 0.9400\n",
      "Epoch 15/100\n",
      "32/32 [==============================] - 1s 18ms/step - loss: 0.5801 - accuracy: 0.6875 - val_loss: 0.4349 - val_accuracy: 0.9400\n",
      "Epoch 16/100\n",
      "32/32 [==============================] - 1s 18ms/step - loss: 0.5957 - accuracy: 0.7000 - val_loss: 0.5131 - val_accuracy: 0.7000\n",
      "Epoch 17/100\n",
      "32/32 [==============================] - 1s 18ms/step - loss: 0.5832 - accuracy: 0.7063 - val_loss: 0.4427 - val_accuracy: 0.8400\n",
      "Epoch 18/100\n",
      "32/32 [==============================] - 1s 17ms/step - loss: 0.5113 - accuracy: 0.7937 - val_loss: 0.4248 - val_accuracy: 0.7800\n",
      "Epoch 19/100\n",
      "32/32 [==============================] - 1s 18ms/step - loss: 0.4205 - accuracy: 0.8438 - val_loss: 0.3486 - val_accuracy: 0.8400\n",
      "Epoch 20/100\n",
      "32/32 [==============================] - 1s 18ms/step - loss: 0.4293 - accuracy: 0.8000 - val_loss: 0.2498 - val_accuracy: 0.9400\n",
      "Epoch 21/100\n",
      "32/32 [==============================] - 1s 18ms/step - loss: 0.4941 - accuracy: 0.7563 - val_loss: 0.3460 - val_accuracy: 0.8600\n",
      "Epoch 22/100\n",
      "32/32 [==============================] - 1s 18ms/step - loss: 0.4656 - accuracy: 0.8062 - val_loss: 0.2929 - val_accuracy: 0.8800\n",
      "Epoch 23/100\n",
      "32/32 [==============================] - 1s 18ms/step - loss: 0.4403 - accuracy: 0.7750 - val_loss: 0.2631 - val_accuracy: 0.9200\n",
      "Epoch 24/100\n",
      "32/32 [==============================] - 1s 18ms/step - loss: 0.3632 - accuracy: 0.8500 - val_loss: 0.2640 - val_accuracy: 0.8800\n",
      "Epoch 25/100\n",
      "32/32 [==============================] - 1s 18ms/step - loss: 0.4011 - accuracy: 0.8250 - val_loss: 0.4346 - val_accuracy: 0.7800\n"
     ]
    }
   ],
   "source": [
    "# 모델 컴파일\n",
    "model.compile(loss = 'binary_crossentropy',\n",
    "              optimizer = optimizers.Adam(learning_rate=0.0002), metrics = ['accuracy'])\n",
    "\n",
    "# 학습 조기 중단\n",
    "early_stopping_callback = EarlyStopping(monitor = 'val_loss', patience=5)\n",
    "\n",
    "# 모델 실행\n",
    "history = model.fit(\n",
    "    train_generator, \n",
    "    epochs = 100, \n",
    "    validation_data = test_generator, \n",
    "    validation_steps = 10,\n",
    "    callbacks = [early_stopping_callback]\n",
    "    )"
   ]
  },
  {
   "cell_type": "code",
   "execution_count": 19,
   "metadata": {},
   "outputs": [
    {
     "data": {
      "image/png": "[encoded data removed]",
      "text/plain": [
       "<Figure size 640x480 with 1 Axes>"
      ]
     },
     "metadata": {},
     "output_type": "display_data"
    }
   ],
   "source": [
    "# 검증셋과 학습셋의 오차 저장\n",
    "\n",
    "y_vloss = history.history['val_loss']\n",
    "y_loss = history.history['loss']\n",
    "\n",
    "# 그래프로 표현\n",
    "x_len = np.arange(len(y_loss))\n",
    "plt.plot(x_len, y_vloss, marker = '.', c='red', label = 'Testset_loss')\n",
    "plt.plot(x_len, y_loss, marker = '.', c='blue', label = 'Testset_loss')\n",
    "\n",
    "plt.legend(loc = 'best')\n",
    "plt.grid()\n",
    "plt.xlabel('epoch')\n",
    "plt.ylabel('loss')\n",
    "plt.show()"
   ]
  },
  {
   "cell_type": "code",
   "execution_count": 20,
   "metadata": {},
   "outputs": [],
   "source": [
    "# 전이 학습(Transfer Learning)\n",
    "\n",
    "from tensorflow.keras.applications import VGG16"
   ]
  },
  {
   "cell_type": "code",
   "execution_count": 36,
   "metadata": {},
   "outputs": [
    {
     "name": "stdout",
     "output_type": "stream",
     "text": [
      "Found 160 images belonging to 2 classes.\n"
     ]
    }
   ],
   "source": [
    "# 학습 데이터 셋을 이미지 증식 설정 하는 부분\n",
    "train_datagen = ImageDataGenerator(rescale=1./255,              # 주어진 이미지 크기 설정(0 ~ 1 사이)\n",
    "                                   horizontal_flip = True,      # 수평 대칭 이미지를 50% 확률로 만들어 추가\n",
    "                                                                # 주어진 이미지 수평, 수직으로 뒤집어줌\n",
    "                                   width_shift_range = 0.1,     # 전체 크기의 10% 범위 내에서 좌우로 이동\n",
    "                                   height_shift_range = 0.1)    # 전체 크기의 10% 범위 내에서 상하로 이동\n",
    "                                #    rotation_range = 5,          # 정해진 각도(여기서는 5도) 만큼 회전\n",
    "                                #    shear_range = 0.7,           # 좌표 하나를 고정, 나머지 이동\n",
    "                                #    zoom_range = 1.2,            # 확대, 축소\n",
    "                                #    vertical_flip = True,        # 수직 대칭 이미지\n",
    "                                #    fill_mode = 'nearest')       # 빈 공간을 채움 nearest 옵션 : 가장 비슷한 색으로 채움\n",
    "\n",
    "# 학습 데이터 셋이 있는 폴더 위치 지정\n",
    "train_generator = train_datagen.flow_from_directory('./data/train/', target_size = (150, 150), \n",
    "                                                    batch_size = 5,\n",
    "                                                    class_mode = 'binary')"
   ]
  },
  {
   "cell_type": "code",
   "execution_count": 37,
   "metadata": {},
   "outputs": [
    {
     "name": "stdout",
     "output_type": "stream",
     "text": [
      "Model: \"vgg16\"\n",
      "_________________________________________________________________\n",
      " Layer (type)                Output Shape              Param #   \n",
      "=================================================================\n",
      " input_5 (InputLayer)        [(None, 150, 150, 3)]     0         \n",
      "                                                                 \n",
      " block1_conv1 (Conv2D)       (None, 150, 150, 64)      1792      \n",
      "                                                                 \n",
      " block1_conv2 (Conv2D)       (None, 150, 150, 64)      36928     \n",
      "                                                                 \n",
      " block1_pool (MaxPooling2D)  (None, 75, 75, 64)        0         \n",
      "                                                                 \n",
      " block2_conv1 (Conv2D)       (None, 75, 75, 128)       73856     \n",
      "                                                                 \n",
      " block2_conv2 (Conv2D)       (None, 75, 75, 128)       147584    \n",
      "                                                                 \n",
      " block2_pool (MaxPooling2D)  (None, 37, 37, 128)       0         \n",
      "                                                                 \n",
      " block3_conv1 (Conv2D)       (None, 37, 37, 256)       295168    \n",
      "                                                                 \n",
      " block3_conv2 (Conv2D)       (None, 37, 37, 256)       590080    \n",
      "                                                                 \n",
      " block3_conv3 (Conv2D)       (None, 37, 37, 256)       590080    \n",
      "                                                                 \n",
      " block3_pool (MaxPooling2D)  (None, 18, 18, 256)       0         \n",
      "                                                                 \n",
      " block4_conv1 (Conv2D)       (None, 18, 18, 512)       1180160   \n",
      "                                                                 \n",
      " block4_conv2 (Conv2D)       (None, 18, 18, 512)       2359808   \n",
      "                                                                 \n",
      " block4_conv3 (Conv2D)       (None, 18, 18, 512)       2359808   \n",
      "                                                                 \n",
      " block4_pool (MaxPooling2D)  (None, 9, 9, 512)         0         \n",
      "                                                                 \n",
      " block5_conv1 (Conv2D)       (None, 9, 9, 512)         2359808   \n",
      "                                                                 \n",
      " block5_conv2 (Conv2D)       (None, 9, 9, 512)         2359808   \n",
      "                                                                 \n",
      " block5_conv3 (Conv2D)       (None, 9, 9, 512)         2359808   \n",
      "                                                                 \n",
      " block5_pool (MaxPooling2D)  (None, 4, 4, 512)         0         \n",
      "                                                                 \n",
      "=================================================================\n",
      "Total params: 14,714,688\n",
      "Trainable params: 0\n",
      "Non-trainable params: 14,714,688\n",
      "_________________________________________________________________\n"
     ]
    }
   ],
   "source": [
    "# 모델링\n",
    "\n",
    "# VGG16 불러오기\n",
    "\n",
    "transfer_model = VGG16(weights = 'imagenet', include_top=False, input_shape = (150, 150, 3))\n",
    "transfer_model.trainable = False\n",
    "transfer_model.summary()"
   ]
  },
  {
   "cell_type": "code",
   "execution_count": 38,
   "metadata": {},
   "outputs": [
    {
     "name": "stdout",
     "output_type": "stream",
     "text": [
      "Model: \"sequential_6\"\n",
      "_________________________________________________________________\n",
      " Layer (type)                Output Shape              Param #   \n",
      "=================================================================\n",
      " vgg16 (Functional)          (None, 4, 4, 512)         14714688  \n",
      "                                                                 \n",
      " flatten_6 (Flatten)         (None, 8192)              0         \n",
      "                                                                 \n",
      " dense_12 (Dense)            (None, 64)                524352    \n",
      "                                                                 \n",
      " dropout_6 (Dropout)         (None, 64)                0         \n",
      "                                                                 \n",
      " dense_13 (Dense)            (None, 1)                 65        \n",
      "                                                                 \n",
      "=================================================================\n",
      "Total params: 15,239,105\n",
      "Trainable params: 524,417\n",
      "Non-trainable params: 14,714,688\n",
      "_________________________________________________________________\n"
     ]
    }
   ],
   "source": [
    "finetuen_model = Sequential()\n",
    "finetuen_model.add(transfer_model)\n",
    "finetuen_model.add(Flatten())\n",
    "finetuen_model.add(Dense(64, activation = 'relu'))\n",
    "finetuen_model.add(Dropout(0.5))\n",
    "finetuen_model.add(Dense(1, activation = 'sigmoid'))\n",
    "\n",
    "finetuen_model.summary()"
   ]
  },
  {
   "cell_type": "code",
   "execution_count": 39,
   "metadata": {},
   "outputs": [
    {
     "name": "stdout",
     "output_type": "stream",
     "text": [
      "Epoch 1/100\n",
      "32/32 [==============================] - 1s 22ms/step - loss: 0.7239 - accuracy: 0.6000 - val_loss: 0.5626 - val_accuracy: 0.7600\n",
      "Epoch 2/100\n",
      "32/32 [==============================] - 1s 19ms/step - loss: 0.5960 - accuracy: 0.6938 - val_loss: 0.5204 - val_accuracy: 0.8000\n",
      "Epoch 3/100\n",
      "32/32 [==============================] - 1s 18ms/step - loss: 0.4730 - accuracy: 0.8188 - val_loss: 0.4868 - val_accuracy: 0.7800\n",
      "Epoch 4/100\n",
      "32/32 [==============================] - 1s 18ms/step - loss: 0.4192 - accuracy: 0.8188 - val_loss: 0.3992 - val_accuracy: 0.8800\n",
      "Epoch 5/100\n",
      "32/32 [==============================] - 1s 18ms/step - loss: 0.3791 - accuracy: 0.8188 - val_loss: 0.3636 - val_accuracy: 0.8400\n",
      "Epoch 6/100\n",
      "32/32 [==============================] - 1s 18ms/step - loss: 0.3299 - accuracy: 0.9187 - val_loss: 0.2688 - val_accuracy: 0.9200\n",
      "Epoch 7/100\n",
      "32/32 [==============================] - 1s 18ms/step - loss: 0.2935 - accuracy: 0.9125 - val_loss: 0.2912 - val_accuracy: 0.9400\n",
      "Epoch 8/100\n",
      "32/32 [==============================] - 1s 18ms/step - loss: 0.2608 - accuracy: 0.9312 - val_loss: 0.2853 - val_accuracy: 0.9200\n",
      "Epoch 9/100\n",
      "32/32 [==============================] - 1s 18ms/step - loss: 0.2697 - accuracy: 0.9125 - val_loss: 0.3011 - val_accuracy: 0.9000\n",
      "Epoch 10/100\n",
      "32/32 [==============================] - 1s 18ms/step - loss: 0.2348 - accuracy: 0.9125 - val_loss: 0.2822 - val_accuracy: 0.9200\n",
      "Epoch 11/100\n",
      "32/32 [==============================] - 1s 18ms/step - loss: 0.2231 - accuracy: 0.9312 - val_loss: 0.2080 - val_accuracy: 0.9000\n",
      "Epoch 12/100\n",
      "32/32 [==============================] - 1s 18ms/step - loss: 0.2031 - accuracy: 0.9375 - val_loss: 0.1715 - val_accuracy: 0.9800\n",
      "Epoch 13/100\n",
      "32/32 [==============================] - 1s 18ms/step - loss: 0.2247 - accuracy: 0.9250 - val_loss: 0.2123 - val_accuracy: 0.9400\n",
      "Epoch 14/100\n",
      "32/32 [==============================] - 1s 19ms/step - loss: 0.2504 - accuracy: 0.9000 - val_loss: 0.2514 - val_accuracy: 0.9200\n",
      "Epoch 15/100\n",
      "32/32 [==============================] - 1s 18ms/step - loss: 0.2020 - accuracy: 0.9375 - val_loss: 0.1167 - val_accuracy: 0.9800\n",
      "Epoch 16/100\n",
      "32/32 [==============================] - 1s 19ms/step - loss: 0.1821 - accuracy: 0.9563 - val_loss: 0.2034 - val_accuracy: 0.9600\n",
      "Epoch 17/100\n",
      "32/32 [==============================] - 1s 18ms/step - loss: 0.1908 - accuracy: 0.9438 - val_loss: 0.2051 - val_accuracy: 0.9000\n",
      "Epoch 18/100\n",
      "32/32 [==============================] - 1s 18ms/step - loss: 0.1530 - accuracy: 0.9625 - val_loss: 0.1172 - val_accuracy: 0.9600\n",
      "Epoch 19/100\n",
      "32/32 [==============================] - 1s 18ms/step - loss: 0.1392 - accuracy: 0.9625 - val_loss: 0.1713 - val_accuracy: 0.9400\n",
      "Epoch 20/100\n",
      "32/32 [==============================] - 1s 18ms/step - loss: 0.1732 - accuracy: 0.9563 - val_loss: 0.1942 - val_accuracy: 0.9400\n"
     ]
    }
   ],
   "source": [
    "# 모델 실행 옵션 설정\n",
    "finetuen_model.compile(loss = 'binary_crossentropy', optimizer = optimizers.Adam(learning_rate=0.0002), metrics = ['accuracy'])\n",
    "\n",
    "# 학습 조기 중단\n",
    "early_stopping_callback = EarlyStopping(monitor = 'val_loss', patience=5)\n",
    "\n",
    "# 모델 실행\n",
    "history = finetuen_model.fit(\n",
    "    train_generator, \n",
    "    epochs = 100, \n",
    "    validation_data = test_generator, \n",
    "    validation_steps = 10,\n",
    "    callbacks = [early_stopping_callback]\n",
    "    )"
   ]
  },
  {
   "cell_type": "code",
   "execution_count": 40,
   "metadata": {},
   "outputs": [
    {
     "data": {
      "image/png": "[encoded data removed]",
      "text/plain": [
       "<Figure size 640x480 with 1 Axes>"
      ]
     },
     "metadata": {},
     "output_type": "display_data"
    }
   ],
   "source": [
    "# 검증셋과 학습셋의 오차 저장\n",
    "\n",
    "y_vloss = history.history['val_loss']\n",
    "y_loss = history.history['loss']\n",
    "\n",
    "# 그래프로 표현\n",
    "x_len = np.arange(len(y_loss))\n",
    "plt.plot(x_len, y_vloss, marker = '.', c='red', label = 'Testset_loss')\n",
    "plt.plot(x_len, y_loss, marker = '.', c='blue', label = 'trainset_loss')\n",
    "\n",
    "plt.legend(loc = 'best')\n",
    "plt.grid()\n",
    "plt.xlabel('epoch')\n",
    "plt.ylabel('loss')\n",
    "plt.show()"
   ]
  },
  {
   "cell_type": "code",
   "execution_count": null,
   "metadata": {},
   "outputs": [],
   "source": []
  },
  {
   "cell_type": "code",
   "execution_count": null,
   "metadata": {},
   "outputs": [],
   "source": []
  }
 ],
 "metadata": {
  "kernelspec": {
   "display_name": "base",
   "language": "python",
   "name": "python3"
  },
  "language_info": {
   "codemirror_mode": {
    "name": "ipython",
    "version": 3
   },
   "file_extension": ".py",
   "mimetype": "text/x-python",
   "name": "python",
   "nbconvert_exporter": "python",
   "pygments_lexer": "ipython3",
   "version": "3.9.13"
  },
  "orig_nbformat": 4
 },
 "nbformat": 4,
 "nbformat_minor": 2
}
