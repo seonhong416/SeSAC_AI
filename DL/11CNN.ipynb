{
 "cells": [
  {
   "cell_type": "code",
   "execution_count": 1,
   "metadata": {},
   "outputs": [],
   "source": [
    "import numpy as np\n",
    "import pandas as pd\n",
    "\n",
    "from tensorflow import keras\n",
    "from keras.datasets import mnist\n",
    "from keras.utils import to_categorical\n",
    "\n",
    "import sys\n",
    "import os\n",
    "import matplotlib.pyplot as plt"
   ]
  },
  {
   "cell_type": "code",
   "execution_count": 2,
   "metadata": {},
   "outputs": [],
   "source": [
    "(x_train, y_train), (x_test, y_test) = mnist.load_data()"
   ]
  },
  {
   "cell_type": "code",
   "execution_count": 3,
   "metadata": {},
   "outputs": [
    {
     "name": "stdout",
     "output_type": "stream",
     "text": [
      "학습용 데이터 셋 이미지 수 : 60000 개\n",
      "테스트용 데이터 셋 이미지 수 : 10000 개\n"
     ]
    }
   ],
   "source": [
    "print('학습용 데이터 셋 이미지 수 : %d 개'%len(x_train)) # x_train.shape[0]\n",
    "print('테스트용 데이터 셋 이미지 수 : %d 개'%len(x_test)) # x_test.shape[0]"
   ]
  },
  {
   "cell_type": "code",
   "execution_count": 4,
   "metadata": {},
   "outputs": [
    {
     "data": {
      "image/png": "[encoded data removed]",
      "text/plain": [
       "<Figure size 640x480 with 1 Axes>"
      ]
     },
     "metadata": {},
     "output_type": "display_data"
    }
   ],
   "source": [
    "# 첫번째 이미지 확인\n",
    "\n",
    "plt. imshow(x_train[0], cmap = 'Greys')\n",
    "plt.show()"
   ]
  },
  {
   "cell_type": "code",
   "execution_count": 5,
   "metadata": {},
   "outputs": [
    {
     "name": "stdout",
     "output_type": "stream",
     "text": [
      "0  0  0  0  0  0  0  0  0  0  0  0  0  0  0  0  0  0  0  0  0  0  0  0  0  0  0  0  \n",
      "0  0  0  0  0  0  0  0  0  0  0  0  0  0  0  0  0  0  0  0  0  0  0  0  0  0  0  0  \n",
      "0  0  0  0  0  0  0  0  0  0  0  0  0  0  0  0  0  0  0  0  0  0  0  0  0  0  0  0  \n",
      "0  0  0  0  0  0  0  0  0  0  0  0  0  0  0  0  0  0  0  0  0  0  0  0  0  0  0  0  \n",
      "0  0  0  0  0  0  0  0  0  0  0  0  0  0  0  0  0  0  0  0  0  0  0  0  0  0  0  0  \n",
      "0  0  0  0  0  0  0  0  0  0  0  0  3  18 18 18 12613617526 1662552471270  0  0  0  \n",
      "0  0  0  0  0  0  0  0  30 36 94 15417025325325325325322517225324219564 0  0  0  0  \n",
      "0  0  0  0  0  0  0  49 23825325325325325325325325325193 82 82 56 39 0  0  0  0  0  \n",
      "0  0  0  0  0  0  0  18 2192532532532532531981822472410  0  0  0  0  0  0  0  0  0  \n",
      "0  0  0  0  0  0  0  0  80 15610725325320511 0  43 1540  0  0  0  0  0  0  0  0  0  \n",
      "0  0  0  0  0  0  0  0  0  14 1  15425390 0  0  0  0  0  0  0  0  0  0  0  0  0  0  \n",
      "0  0  0  0  0  0  0  0  0  0  0  1392531902  0  0  0  0  0  0  0  0  0  0  0  0  0  \n",
      "0  0  0  0  0  0  0  0  0  0  0  11 19025370 0  0  0  0  0  0  0  0  0  0  0  0  0  \n",
      "0  0  0  0  0  0  0  0  0  0  0  0  35 2412251601081  0  0  0  0  0  0  0  0  0  0  \n",
      "0  0  0  0  0  0  0  0  0  0  0  0  0  81 24025325311925 0  0  0  0  0  0  0  0  0  \n",
      "0  0  0  0  0  0  0  0  0  0  0  0  0  0  45 18625325315027 0  0  0  0  0  0  0  0  \n",
      "0  0  0  0  0  0  0  0  0  0  0  0  0  0  0  16 93 2522531870  0  0  0  0  0  0  0  \n",
      "0  0  0  0  0  0  0  0  0  0  0  0  0  0  0  0  0  24925324964 0  0  0  0  0  0  0  \n",
      "0  0  0  0  0  0  0  0  0  0  0  0  0  0  46 1301832532532072  0  0  0  0  0  0  0  \n",
      "0  0  0  0  0  0  0  0  0  0  0  0  39 1482292532532532501820  0  0  0  0  0  0  0  \n",
      "0  0  0  0  0  0  0  0  0  0  24 11422125325325325320178 0  0  0  0  0  0  0  0  0  \n",
      "0  0  0  0  0  0  0  0  23 66 21325325325325319881 2  0  0  0  0  0  0  0  0  0  0  \n",
      "0  0  0  0  0  0  18 17121925325325325319580 9  0  0  0  0  0  0  0  0  0  0  0  0  \n",
      "0  0  0  0  55 17222625325325325324413311 0  0  0  0  0  0  0  0  0  0  0  0  0  0  \n",
      "0  0  0  0  13625325325321213513216 0  0  0  0  0  0  0  0  0  0  0  0  0  0  0  0  \n",
      "0  0  0  0  0  0  0  0  0  0  0  0  0  0  0  0  0  0  0  0  0  0  0  0  0  0  0  0  \n",
      "0  0  0  0  0  0  0  0  0  0  0  0  0  0  0  0  0  0  0  0  0  0  0  0  0  0  0  0  \n",
      "0  0  0  0  0  0  0  0  0  0  0  0  0  0  0  0  0  0  0  0  0  0  0  0  0  0  0  0  \n"
     ]
    }
   ],
   "source": [
    "# 이미지 생성 원리 알고 싶어요\n",
    "\n",
    "for x in x_train[0] :\n",
    "    for i in x :\n",
    "        sys.stdout.write(\"%-3s\"%i)\n",
    "    sys.stdout.write('\\n')"
   ]
  },
  {
   "cell_type": "code",
   "execution_count": 6,
   "metadata": {},
   "outputs": [],
   "source": [
    "# 차원 변환 과정 실습\n",
    "x_train = x_train.reshape(x_train.shape[0], -1) #(x_train.shape[0], 784) (28*28)\n",
    "x_test = x_test.reshape(x_test.shape[0], -1)\n",
    "\n",
    "x_train = x_train.astype('float64')\n",
    "x_test = x_test.astype('float64')\n",
    "\n",
    "x_train = x_train / 255 # 정규화(0~1 사이로 나타내기 위함)\n",
    "x_test = x_test / 255\n",
    "\n"
   ]
  },
  {
   "cell_type": "code",
   "execution_count": 7,
   "metadata": {},
   "outputs": [
    {
     "name": "stdout",
     "output_type": "stream",
     "text": [
      "class : 5 \n"
     ]
    }
   ],
   "source": [
    "# 클래스 값 확인\n",
    "print('class : %d '%(y_train[0]))"
   ]
  },
  {
   "cell_type": "code",
   "execution_count": 8,
   "metadata": {},
   "outputs": [],
   "source": [
    "# 이진화(binary) > one hot encoding\n",
    "\n",
    "y_train = to_categorical(y_train, 10)\n",
    "y_test = to_categorical(y_test, 10)\n",
    "\n"
   ]
  },
  {
   "cell_type": "code",
   "execution_count": 9,
   "metadata": {},
   "outputs": [
    {
     "data": {
      "text/plain": [
       "(60000, 10)"
      ]
     },
     "execution_count": 9,
     "metadata": {},
     "output_type": "execute_result"
    }
   ],
   "source": [
    "y_train.shape"
   ]
  },
  {
   "cell_type": "code",
   "execution_count": 10,
   "metadata": {},
   "outputs": [
    {
     "data": {
      "text/plain": [
       "array([0., 0., 0., 0., 0., 1., 0., 0., 0., 0.], dtype=float32)"
      ]
     },
     "execution_count": 10,
     "metadata": {},
     "output_type": "execute_result"
    }
   ],
   "source": [
    "y_train[0]"
   ]
  },
  {
   "cell_type": "code",
   "execution_count": 11,
   "metadata": {},
   "outputs": [],
   "source": [
    "# 딥러닝 기본 프레임 만들기\n",
    "\n",
    "from keras.models import Sequential\n",
    "from keras.layers import Dense\n",
    "from keras.callbacks import ModelCheckpoint, EarlyStopping\n"
   ]
  },
  {
   "cell_type": "code",
   "execution_count": 12,
   "metadata": {},
   "outputs": [
    {
     "name": "stdout",
     "output_type": "stream",
     "text": [
      "Model: \"sequential\"\n",
      "_________________________________________________________________\n",
      " Layer (type)                Output Shape              Param #   \n",
      "=================================================================\n",
      " dense (Dense)               (None, 512)               401920    \n",
      "                                                                 \n",
      " dense_1 (Dense)             (None, 10)                5130      \n",
      "                                                                 \n",
      "=================================================================\n",
      "Total params: 407,050\n",
      "Trainable params: 407,050\n",
      "Non-trainable params: 0\n",
      "_________________________________________________________________\n",
      "\n",
      "Epoch 1: val_loss improved from inf to 0.18243, saving model to ./model/MNIST\\minst_mlp.hdf5\n",
      "\n",
      "Epoch 2: val_loss improved from 0.18243 to 0.13225, saving model to ./model/MNIST\\minst_mlp.hdf5\n",
      "\n",
      "Epoch 3: val_loss improved from 0.13225 to 0.10982, saving model to ./model/MNIST\\minst_mlp.hdf5\n",
      "\n",
      "Epoch 4: val_loss improved from 0.10982 to 0.09629, saving model to ./model/MNIST\\minst_mlp.hdf5\n",
      "\n",
      "Epoch 5: val_loss improved from 0.09629 to 0.08932, saving model to ./model/MNIST\\minst_mlp.hdf5\n",
      "\n",
      "Epoch 6: val_loss improved from 0.08932 to 0.08289, saving model to ./model/MNIST\\minst_mlp.hdf5\n",
      "\n",
      "Epoch 7: val_loss did not improve from 0.08289\n",
      "\n",
      "Epoch 8: val_loss improved from 0.08289 to 0.08164, saving model to ./model/MNIST\\minst_mlp.hdf5\n",
      "\n",
      "Epoch 9: val_loss did not improve from 0.08164\n",
      "\n",
      "Epoch 10: val_loss did not improve from 0.08164\n",
      "\n",
      "Epoch 11: val_loss improved from 0.08164 to 0.08144, saving model to ./model/MNIST\\minst_mlp.hdf5\n",
      "\n",
      "Epoch 12: val_loss did not improve from 0.08144\n",
      "\n",
      "Epoch 13: val_loss did not improve from 0.08144\n",
      "\n",
      "Epoch 14: val_loss did not improve from 0.08144\n",
      "\n",
      "Epoch 15: val_loss improved from 0.08144 to 0.08115, saving model to ./model/MNIST\\minst_mlp.hdf5\n",
      "\n",
      "Epoch 16: val_loss did not improve from 0.08115\n",
      "\n",
      "Epoch 17: val_loss did not improve from 0.08115\n",
      "\n",
      "Epoch 18: val_loss did not improve from 0.08115\n",
      "\n",
      "Epoch 19: val_loss did not improve from 0.08115\n",
      "\n",
      "Epoch 20: val_loss did not improve from 0.08115\n",
      "\n",
      "Epoch 21: val_loss did not improve from 0.08115\n",
      "\n",
      "Epoch 22: val_loss did not improve from 0.08115\n",
      "\n",
      "Epoch 23: val_loss did not improve from 0.08115\n",
      "\n",
      "Epoch 24: val_loss did not improve from 0.08115\n",
      "\n",
      "Epoch 25: val_loss did not improve from 0.08115\n",
      "313/313 [==============================] - 0s 1ms/step - loss: 0.0720 - accuracy: 0.9813\n",
      "\n",
      " test ACC : 0.9813\n"
     ]
    }
   ],
   "source": [
    "# 모델 구조 설정\n",
    "model = Sequential()\n",
    "model.add(Dense(512, input_dim = 784, activation = 'relu'))\n",
    "model.add(Dense(10, activation='softmax'))\n",
    "model.summary()\n",
    "\n",
    "# 모델 컴파일\n",
    "model.compile(loss = 'categorical_crossentropy', optimizer = 'adam', metrics = ['accuracy'])\n",
    "\n",
    "# 체크포인트 및 얼리스탑 지정\n",
    "modelpath = './model/MNIST/minst_mlp.hdf5'\n",
    "checkpointer = ModelCheckpoint(filepath=modelpath, monitor = 'val_loss', verbose = 1, save_best_only=True)\n",
    "early_stopping_callback = EarlyStopping(monitor='val_loss', patience = 10)\n",
    "\n",
    "# 모델실행\n",
    "history = model.fit(x_train, y_train, validation_split = 0.25, epochs=30, batch_size=200, verbose = 0,\n",
    "                    callbacks=[early_stopping_callback, checkpointer])\n",
    "\n",
    "print('\\n test ACC : %.4f'%(model.evaluate(x_test, y_test)[1]))\n"
   ]
  },
  {
   "cell_type": "code",
   "execution_count": 13,
   "metadata": {},
   "outputs": [
    {
     "data": {
      "image/png": "[encoded data removed]",
      "text/plain": [
       "<Figure size 640x480 with 1 Axes>"
      ]
     },
     "metadata": {},
     "output_type": "display_data"
    }
   ],
   "source": [
    "# 학습용 데이터 셋 / 검증 셋 오차 저장\n",
    "\n",
    "y_vloss = history.history['val_loss']\n",
    "y_loss = history.history['loss']\n",
    "\n",
    "# 그래프로 표현\n",
    "x_len = np.arange(len(y_loss))\n",
    "\n",
    "plt.plot(x_len, y_vloss, marker = 'o', c = 'red', label = 'Validation Dataset loss')\n",
    "plt.plot(x_len, y_loss, marker = 'o', c = 'blue', label = 'Train Dataset loss')\n",
    "plt.legend()\n",
    "plt.xlabel('epochs')\n",
    "plt.ylabel('loss')\n",
    "plt.show()"
   ]
  },
  {
   "cell_type": "code",
   "execution_count": 14,
   "metadata": {},
   "outputs": [],
   "source": [
    "from keras.layers import Conv2D, MaxPooling2D, Dropout, Flatten"
   ]
  },
  {
   "cell_type": "code",
   "execution_count": 15,
   "metadata": {},
   "outputs": [],
   "source": [
    "(x_train, y_train), (x_test, y_test) = mnist.load_data()"
   ]
  },
  {
   "cell_type": "code",
   "execution_count": 16,
   "metadata": {},
   "outputs": [],
   "source": [
    "# 차원 변환 과정 실습\n",
    "x_train = x_train.reshape(x_train.shape[0], 28,28,1) #(x_train.shape[0], 784) (28*28)\n",
    "x_test = x_test.reshape(x_test.shape[0], 28,28,1)\n",
    "\n",
    "x_train = x_train.astype('float64')\n",
    "x_test = x_test.astype('float64')\n",
    "\n",
    "x_train = x_train / 255 # 정규화(0~1 사이로 나타내기 위함)\n",
    "x_test = x_test / 255\n"
   ]
  },
  {
   "cell_type": "code",
   "execution_count": 17,
   "metadata": {},
   "outputs": [],
   "source": [
    "# 이진화(binary) > one hot encoding\n",
    "\n",
    "y_train = to_categorical(y_train, 10)\n",
    "y_test = to_categorical(y_test, 10)\n",
    "\n"
   ]
  },
  {
   "cell_type": "code",
   "execution_count": 18,
   "metadata": {},
   "outputs": [
    {
     "name": "stdout",
     "output_type": "stream",
     "text": [
      "Model: \"sequential_1\"\n",
      "_________________________________________________________________\n",
      " Layer (type)                Output Shape              Param #   \n",
      "=================================================================\n",
      " conv2d (Conv2D)             (None, 26, 26, 32)        320       \n",
      "                                                                 \n",
      " conv2d_1 (Conv2D)           (None, 24, 24, 64)        18496     \n",
      "                                                                 \n",
      " max_pooling2d (MaxPooling2D  (None, 12, 12, 64)       0         \n",
      " )                                                               \n",
      "                                                                 \n",
      " dropout (Dropout)           (None, 12, 12, 64)        0         \n",
      "                                                                 \n",
      " flatten (Flatten)           (None, 9216)              0         \n",
      "                                                                 \n",
      " dense_2 (Dense)             (None, 128)               1179776   \n",
      "                                                                 \n",
      " dropout_1 (Dropout)         (None, 128)               0         \n",
      "                                                                 \n",
      " dense_3 (Dense)             (None, 10)                1290      \n",
      "                                                                 \n",
      "=================================================================\n",
      "Total params: 1,199,882\n",
      "Trainable params: 1,199,882\n",
      "Non-trainable params: 0\n",
      "_________________________________________________________________\n",
      "\n",
      "Epoch 1: val_loss improved from inf to 0.08188, saving model to ./model/MNIST\\minst_cnn.hdf5\n",
      "\n",
      "Epoch 2: val_loss improved from 0.08188 to 0.05589, saving model to ./model/MNIST\\minst_cnn.hdf5\n",
      "\n",
      "Epoch 3: val_loss improved from 0.05589 to 0.04937, saving model to ./model/MNIST\\minst_cnn.hdf5\n",
      "\n",
      "Epoch 4: val_loss improved from 0.04937 to 0.04559, saving model to ./model/MNIST\\minst_cnn.hdf5\n",
      "\n",
      "Epoch 5: val_loss improved from 0.04559 to 0.04306, saving model to ./model/MNIST\\minst_cnn.hdf5\n",
      "\n",
      "Epoch 6: val_loss did not improve from 0.04306\n",
      "\n",
      "Epoch 7: val_loss improved from 0.04306 to 0.04217, saving model to ./model/MNIST\\minst_cnn.hdf5\n",
      "\n",
      "Epoch 8: val_loss did not improve from 0.04217\n",
      "\n",
      "Epoch 9: val_loss did not improve from 0.04217\n",
      "\n",
      "Epoch 10: val_loss did not improve from 0.04217\n",
      "\n",
      "Epoch 11: val_loss did not improve from 0.04217\n",
      "\n",
      "Epoch 12: val_loss did not improve from 0.04217\n",
      "\n",
      "Epoch 13: val_loss did not improve from 0.04217\n",
      "\n",
      "Epoch 14: val_loss improved from 0.04217 to 0.04027, saving model to ./model/MNIST\\minst_cnn.hdf5\n",
      "\n",
      "Epoch 15: val_loss did not improve from 0.04027\n",
      "\n",
      "Epoch 16: val_loss did not improve from 0.04027\n",
      "\n",
      "Epoch 17: val_loss did not improve from 0.04027\n",
      "\n",
      "Epoch 18: val_loss did not improve from 0.04027\n",
      "\n",
      "Epoch 19: val_loss did not improve from 0.04027\n",
      "\n",
      "Epoch 20: val_loss did not improve from 0.04027\n",
      "\n",
      "Epoch 21: val_loss did not improve from 0.04027\n",
      "\n",
      "Epoch 22: val_loss did not improve from 0.04027\n",
      "\n",
      "Epoch 23: val_loss did not improve from 0.04027\n",
      "\n",
      "Epoch 24: val_loss did not improve from 0.04027\n",
      "313/313 [==============================] - 1s 1ms/step - loss: 0.0332 - accuracy: 0.9915\n",
      "\n",
      " test ACC : 0.9915\n"
     ]
    }
   ],
   "source": [
    "# CNN 신경망 설정\n",
    "\n",
    "# 모델 구조 설정\n",
    "model = Sequential()\n",
    "model.add(Conv2D(32, kernel_size = (3, 3), input_shape = (28, 28, 1), activation='relu'))\n",
    "model.add(Conv2D(64, kernel_size=(3,3), activation='relu'))\n",
    "model.add(MaxPooling2D(pool_size=(2,2)))\n",
    "model.add(Dropout(0.25))\n",
    "model.add(Flatten())\n",
    "model.add(Dense(128, activation='relu'))\n",
    "model.add(Dropout(0.5))\n",
    "model.add(Dense(10, activation = 'softmax'))\n",
    "model.summary()\n",
    "\n",
    "# 모델 컴파일\n",
    "model.compile(loss = 'categorical_crossentropy', optimizer = 'adam', metrics = ['accuracy'])\n",
    "\n",
    "# 체크포인트 및 얼리스탑 지정\n",
    "modelpath = './model/MNIST/minst_cnn.hdf5'\n",
    "checkpointer = ModelCheckpoint(filepath=modelpath, monitor = 'val_loss', verbose = 1, save_best_only=True)\n",
    "early_stopping_callback = EarlyStopping(monitor='val_loss', patience = 10)\n",
    "\n",
    "# 모델실행\n",
    "history = model.fit(x_train, y_train, validation_split = 0.25, epochs=30, batch_size=200, verbose = 0,\n",
    "                    callbacks=[early_stopping_callback, checkpointer])\n",
    "\n",
    "print('\\n test ACC : %.4f'%(model.evaluate(x_test, y_test)[1]))\n"
   ]
  },
  {
   "cell_type": "code",
   "execution_count": null,
   "metadata": {},
   "outputs": [],
   "source": []
  }
 ],
 "metadata": {
  "kernelspec": {
   "display_name": "base",
   "language": "python",
   "name": "python3"
  },
  "language_info": {
   "codemirror_mode": {
    "name": "ipython",
    "version": 3
   },
   "file_extension": ".py",
   "mimetype": "text/x-python",
   "name": "python",
   "nbconvert_exporter": "python",
   "pygments_lexer": "ipython3",
   "version": "3.9.13"
  },
  "orig_nbformat": 4
 },
 "nbformat": 4,
 "nbformat_minor": 2
}
