{
 "cells": [
  {
   "cell_type": "code",
   "execution_count": 2,
   "metadata": {},
   "outputs": [],
   "source": [
    "from keras.datasets import mnist\n",
    "from keras.models import Sequential, Model\n",
    "from keras.layers import Input, Dense, Conv2D, MaxPooling2D, UpSampling2D, Flatten, Reshape\n",
    "\n",
    "import numpy as np\n",
    "import pandas as pd\n",
    "import matplotlib.pyplot as plt"
   ]
  },
  {
   "cell_type": "code",
   "execution_count": 3,
   "metadata": {},
   "outputs": [],
   "source": [
    "# Mnist 데이터 불러오기\n",
    "\n",
    "(x_train, _), (x_test, _) = mnist.load_data()\n",
    "x_train = x_train.reshape(x_train.shape[0], 28, 28, 1).astype('float32') / 255\n",
    "x_test = x_test.reshape(x_test.shape[0], 28, 28, 1).astype('float32') / 255"
   ]
  },
  {
   "cell_type": "code",
   "execution_count": 7,
   "metadata": {},
   "outputs": [
    {
     "name": "stdout",
     "output_type": "stream",
     "text": [
      "Model: \"sequential_2\"\n",
      "_________________________________________________________________\n",
      " Layer (type)                Output Shape              Param #   \n",
      "=================================================================\n",
      " conv2d_9 (Conv2D)           (None, 28, 28, 16)        160       \n",
      "                                                                 \n",
      " max_pooling2d_4 (MaxPooling  (None, 14, 14, 16)       0         \n",
      " 2D)                                                             \n",
      "                                                                 \n",
      " conv2d_10 (Conv2D)          (None, 14, 14, 8)         1160      \n",
      "                                                                 \n",
      " max_pooling2d_5 (MaxPooling  (None, 7, 7, 8)          0         \n",
      " 2D)                                                             \n",
      "                                                                 \n",
      " conv2d_11 (Conv2D)          (None, 4, 4, 8)           584       \n",
      "                                                                 \n",
      " conv2d_12 (Conv2D)          (None, 4, 4, 8)           584       \n",
      "                                                                 \n",
      " up_sampling2d_2 (UpSampling  (None, 8, 8, 8)          0         \n",
      " 2D)                                                             \n",
      "                                                                 \n",
      " conv2d_13 (Conv2D)          (None, 8, 8, 8)           584       \n",
      "                                                                 \n",
      " up_sampling2d_3 (UpSampling  (None, 16, 16, 8)        0         \n",
      " 2D)                                                             \n",
      "                                                                 \n",
      " conv2d_14 (Conv2D)          (None, 14, 14, 16)        1168      \n",
      "                                                                 \n",
      " up_sampling2d_4 (UpSampling  (None, 28, 28, 16)       0         \n",
      " 2D)                                                             \n",
      "                                                                 \n",
      " conv2d_15 (Conv2D)          (None, 28, 28, 1)         145       \n",
      "                                                                 \n",
      "=================================================================\n",
      "Total params: 4,385\n",
      "Trainable params: 4,385\n",
      "Non-trainable params: 0\n",
      "_________________________________________________________________\n"
     ]
    }
   ],
   "source": [
    "# 생성자 모델 만들기\n",
    "\n",
    "autoencoder = Sequential()\n",
    "\n",
    "# 인코딩 부분(차원을 축소하는 부분)\n",
    "autoencoder.add(Conv2D(16, kernel_size = 3, padding = 'same', input_shape = (28, 28, 1), activation='relu'))\n",
    "autoencoder.add(MaxPooling2D(pool_size=2, padding = 'same'))\n",
    "# 입력을 줄이기 위한 방법 : maxpooling 사용\n",
    "autoencoder.add(Conv2D(8, kernel_size = 3, padding = 'same', activation='relu'))\n",
    "autoencoder.add(MaxPooling2D(pool_size=2, padding = 'same'))\n",
    "autoencoder.add(Conv2D(8, kernel_size = 3, strides = 2, padding = 'same', activation='relu'))\n",
    "\n",
    "# 디코딩 부분 (차원을 늘리는 부분)\n",
    "autoencoder.add(Conv2D(8, kernel_size=3, padding = 'same', activation='relu'))\n",
    "autoencoder.add(UpSampling2D())\n",
    "autoencoder.add(Conv2D(8, kernel_size=3, padding = 'same', activation='relu'))\n",
    "autoencoder.add(UpSampling2D())\n",
    "autoencoder.add(Conv2D(16, kernel_size=3, activation = 'relu'))\n",
    "# padding 과정 없음 >> 크기 축소, kernel_size 3*3 >> 차원 축소\n",
    "autoencoder.add(UpSampling2D())\n",
    "autoencoder.add(Conv2D(1, kernel_size=3, padding = 'same', activation='sigmoid'))\n",
    "\n",
    "# 전체 구조 확인\n",
    "autoencoder.summary()"
   ]
  },
  {
   "cell_type": "code",
   "execution_count": 8,
   "metadata": {},
   "outputs": [
    {
     "name": "stdout",
     "output_type": "stream",
     "text": [
      "Epoch 1/50\n",
      "469/469 [==============================] - 6s 5ms/step - loss: 0.1970 - val_loss: 0.1297\n",
      "Epoch 2/50\n",
      "469/469 [==============================] - 2s 4ms/step - loss: 0.1206 - val_loss: 0.1128\n",
      "Epoch 3/50\n",
      "469/469 [==============================] - 2s 4ms/step - loss: 0.1103 - val_loss: 0.1065\n",
      "Epoch 4/50\n",
      "469/469 [==============================] - 2s 4ms/step - loss: 0.1052 - val_loss: 0.1019\n",
      "Epoch 5/50\n",
      "469/469 [==============================] - 2s 4ms/step - loss: 0.1013 - val_loss: 0.0987\n",
      "Epoch 6/50\n",
      "469/469 [==============================] - 2s 4ms/step - loss: 0.0986 - val_loss: 0.0968\n",
      "Epoch 7/50\n",
      "469/469 [==============================] - 2s 4ms/step - loss: 0.0968 - val_loss: 0.0948\n",
      "Epoch 8/50\n",
      "469/469 [==============================] - 2s 4ms/step - loss: 0.0952 - val_loss: 0.0935\n",
      "Epoch 9/50\n",
      "469/469 [==============================] - 2s 4ms/step - loss: 0.0939 - val_loss: 0.0921\n",
      "Epoch 10/50\n",
      "469/469 [==============================] - 2s 4ms/step - loss: 0.0929 - val_loss: 0.0913\n",
      "Epoch 11/50\n",
      "469/469 [==============================] - 2s 4ms/step - loss: 0.0921 - val_loss: 0.0905\n",
      "Epoch 12/50\n",
      "469/469 [==============================] - 2s 4ms/step - loss: 0.0914 - val_loss: 0.0906\n",
      "Epoch 13/50\n",
      "469/469 [==============================] - 2s 4ms/step - loss: 0.0909 - val_loss: 0.0896\n",
      "Epoch 14/50\n",
      "469/469 [==============================] - 2s 4ms/step - loss: 0.0904 - val_loss: 0.0891\n",
      "Epoch 15/50\n",
      "469/469 [==============================] - 2s 4ms/step - loss: 0.0900 - val_loss: 0.0888\n",
      "Epoch 16/50\n",
      "469/469 [==============================] - 2s 4ms/step - loss: 0.0896 - val_loss: 0.0883\n",
      "Epoch 17/50\n",
      "469/469 [==============================] - 2s 4ms/step - loss: 0.0892 - val_loss: 0.0880\n",
      "Epoch 18/50\n",
      "469/469 [==============================] - 2s 4ms/step - loss: 0.0889 - val_loss: 0.0881\n",
      "Epoch 19/50\n",
      "469/469 [==============================] - 2s 4ms/step - loss: 0.0886 - val_loss: 0.0873\n",
      "Epoch 20/50\n",
      "469/469 [==============================] - 2s 4ms/step - loss: 0.0883 - val_loss: 0.0871\n",
      "Epoch 21/50\n",
      "469/469 [==============================] - 2s 4ms/step - loss: 0.0880 - val_loss: 0.0867\n",
      "Epoch 22/50\n",
      "469/469 [==============================] - 2s 4ms/step - loss: 0.0878 - val_loss: 0.0870\n",
      "Epoch 23/50\n",
      "469/469 [==============================] - 2s 4ms/step - loss: 0.0875 - val_loss: 0.0863\n",
      "Epoch 24/50\n",
      "469/469 [==============================] - 2s 4ms/step - loss: 0.0873 - val_loss: 0.0862\n",
      "Epoch 25/50\n",
      "469/469 [==============================] - 2s 4ms/step - loss: 0.0869 - val_loss: 0.0858\n",
      "Epoch 26/50\n",
      "469/469 [==============================] - 2s 4ms/step - loss: 0.0867 - val_loss: 0.0857\n",
      "Epoch 27/50\n",
      "469/469 [==============================] - 2s 4ms/step - loss: 0.0864 - val_loss: 0.0852\n",
      "Epoch 28/50\n",
      "469/469 [==============================] - 2s 4ms/step - loss: 0.0861 - val_loss: 0.0850\n",
      "Epoch 29/50\n",
      "469/469 [==============================] - 2s 4ms/step - loss: 0.0859 - val_loss: 0.0846\n",
      "Epoch 30/50\n",
      "469/469 [==============================] - 2s 4ms/step - loss: 0.0856 - val_loss: 0.0846\n",
      "Epoch 31/50\n",
      "469/469 [==============================] - 2s 4ms/step - loss: 0.0853 - val_loss: 0.0843\n",
      "Epoch 32/50\n",
      "469/469 [==============================] - 2s 4ms/step - loss: 0.0851 - val_loss: 0.0841\n",
      "Epoch 33/50\n",
      "469/469 [==============================] - 2s 4ms/step - loss: 0.0849 - val_loss: 0.0837\n",
      "Epoch 34/50\n",
      "469/469 [==============================] - 2s 4ms/step - loss: 0.0847 - val_loss: 0.0840\n",
      "Epoch 35/50\n",
      "469/469 [==============================] - 2s 4ms/step - loss: 0.0845 - val_loss: 0.0836\n",
      "Epoch 36/50\n",
      "469/469 [==============================] - 2s 4ms/step - loss: 0.0843 - val_loss: 0.0834\n",
      "Epoch 37/50\n",
      "469/469 [==============================] - 2s 4ms/step - loss: 0.0842 - val_loss: 0.0831\n",
      "Epoch 38/50\n",
      "469/469 [==============================] - 2s 4ms/step - loss: 0.0840 - val_loss: 0.0835\n",
      "Epoch 39/50\n",
      "469/469 [==============================] - 2s 4ms/step - loss: 0.0839 - val_loss: 0.0828\n",
      "Epoch 40/50\n",
      "469/469 [==============================] - 2s 4ms/step - loss: 0.0837 - val_loss: 0.0827\n",
      "Epoch 41/50\n",
      "469/469 [==============================] - 2s 4ms/step - loss: 0.0836 - val_loss: 0.0827\n",
      "Epoch 42/50\n",
      "469/469 [==============================] - 2s 4ms/step - loss: 0.0834 - val_loss: 0.0824\n",
      "Epoch 43/50\n",
      "469/469 [==============================] - 2s 4ms/step - loss: 0.0833 - val_loss: 0.0823\n",
      "Epoch 44/50\n",
      "469/469 [==============================] - 2s 4ms/step - loss: 0.0832 - val_loss: 0.0821\n",
      "Epoch 45/50\n",
      "469/469 [==============================] - 2s 4ms/step - loss: 0.0830 - val_loss: 0.0820\n",
      "Epoch 46/50\n",
      "469/469 [==============================] - 2s 4ms/step - loss: 0.0829 - val_loss: 0.0818\n",
      "Epoch 47/50\n",
      "469/469 [==============================] - 2s 4ms/step - loss: 0.0828 - val_loss: 0.0818\n",
      "Epoch 48/50\n",
      "469/469 [==============================] - 2s 4ms/step - loss: 0.0826 - val_loss: 0.0817\n",
      "Epoch 49/50\n",
      "469/469 [==============================] - 2s 4ms/step - loss: 0.0826 - val_loss: 0.0820\n",
      "Epoch 50/50\n",
      "469/469 [==============================] - 2s 4ms/step - loss: 0.0824 - val_loss: 0.0817\n",
      "313/313 [==============================] - 0s 916us/step\n"
     ]
    }
   ],
   "source": [
    "# 컴파일 및 학습\n",
    "\n",
    "autoencoder.compile(loss = 'binary_crossentropy', optimizer='adam')\n",
    "autoencoder.fit(x_train, x_train, epochs = 50, batch_size = 128, validation_data = [x_test, x_test])\n",
    "# 복원이 잘되는 지 확인하기위해 y값에 x_train을 넣어준다\n",
    "\n",
    "# 학습된 결과 출력\n",
    "random_test = np.random.randint(x_test.shape[0], size = 5)\n",
    "# 테스트 할 이미지 랜덤하게 불러오기\n",
    "ae_imgs = autoencoder.predict(x_test)\n",
    "# 오토 인코더 모델에 넣어 예측하기\n"
   ]
  },
  {
   "cell_type": "code",
   "execution_count": 11,
   "metadata": {},
   "outputs": [
    {
     "data": {
      "image/png": "[encoded data removed]",
      "text/plain": [
       "<Figure size 700x200 with 10 Axes>"
      ]
     },
     "metadata": {},
     "output_type": "display_data"
    }
   ],
   "source": [
    "# 데이터 시각화\n",
    "\n",
    "plt.figure(figsize = (7,2))\n",
    "\n",
    "for i, image_idx in enumerate(random_test) :\n",
    "    # 랜덤하게 추출한 이미지를 차례로 나열\n",
    "    ax = plt.subplot(2, 7,i+1)\n",
    "    plt.imshow(x_test[image_idx].reshape(28,28))\n",
    "    # 테스트 할 이미지를 먼저 그대로 보여줌\n",
    "    ax.axis('off')\n",
    "    ax = plt.subplot(2, 7,7+i+1)\n",
    "    plt.imshow(ae_imgs[image_idx].reshape(28,28))\n",
    "    # 오토인코딩 결과를 다음 열에 출력함\n",
    "    ax.axis('off')"
   ]
  },
  {
   "cell_type": "code",
   "execution_count": 1,
   "metadata": {},
   "outputs": [
    {
     "data": {
      "text/plain": [
       "'2.10.1'"
      ]
     },
     "execution_count": 1,
     "metadata": {},
     "output_type": "execute_result"
    }
   ],
   "source": [
    "import tensorflow as tf\n",
    "tf.__version__"
   ]
  },
  {
   "cell_type": "code",
   "execution_count": null,
   "metadata": {},
   "outputs": [],
   "source": []
  }
 ],
 "metadata": {
  "kernelspec": {
   "display_name": "base",
   "language": "python",
   "name": "python3"
  },
  "language_info": {
   "codemirror_mode": {
    "name": "ipython",
    "version": 3
   },
   "file_extension": ".py",
   "mimetype": "text/x-python",
   "name": "python",
   "nbconvert_exporter": "python",
   "pygments_lexer": "ipython3",
   "version": "3.9.13"
  },
  "orig_nbformat": 4
 },
 "nbformat": 4,
 "nbformat_minor": 2
}
