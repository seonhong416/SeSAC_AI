{
  "nbformat": 4,
  "nbformat_minor": 0,
  "metadata": {
    "colab": {
      "provenance": []
    },
    "kernelspec": {
      "name": "python3",
      "display_name": "Python 3"
    },
    "language_info": {
      "name": "python"
    },
    "accelerator": "GPU",
    "gpuClass": "standard"
  },
  "cells": [
    {
      "cell_type": "markdown",
      "source": [
        "# 1. 데이터 로드 및 단어 토큰화"
      ],
      "metadata": {
        "id": "xiHKjPJxGoij"
      }
    },
    {
      "cell_type": "code",
      "execution_count": null,
      "metadata": {
        "id": "_VadDiFC0Yi_"
      },
      "outputs": [],
      "source": [
        "import urllib.request\n",
        "import numpy as np\n",
        "from tqdm import tqdm\n",
        "import re\n",
        "from collections import Counter\n",
        "import matplotlib.pyplot as plt\n",
        "from sklearn.model_selection import train_test_split"
      ]
    },
    {
      "cell_type": "markdown",
      "source": [
        "NLTK를 이용하면 영어 코퍼스에 토큰화와 품사 태깅 전처리를 진행한 문장 데이터를 받아올 수 있습니다. 해당 데이터를 훈련시켜 품사 태깅을 수행하는 모델을 만들어보겠습니다. 전체 문장 샘플의 개수를 확인합니다."
      ],
      "metadata": {
        "id": "5OMiQY7q47y8"
      }
    },
    {
      "cell_type": "code",
      "source": [
        "urllib.request.urlretrieve(\"https://raw.githubusercontent.com/ukairia777/tensorflow-nlp-tutorial/main/12.%20RNN%20Sequence%20Labeling/dataset/train.txt\", filename=\"train.txt\")"
      ],
      "metadata": {
        "colab": {
          "base_uri": "https://localhost:8080/"
        },
        "id": "D-FecPk9EJXL",
        "outputId": "53217161-1057-4fb2-da62-4810cd208774"
      },
      "execution_count": null,
      "outputs": [
        {
          "output_type": "execute_result",
          "data": {
            "text/plain": [
              "('train.txt', <http.client.HTTPMessage at 0x7f59fc37feb0>)"
            ]
          },
          "metadata": {},
          "execution_count": 3
        }
      ]
    },
    {
      "cell_type": "code",
      "source": [
        "f = open('train.txt', 'r')\n",
        "tagged_sentences = []\n",
        "sentence = []\n",
        "\n",
        "for line in f:\n",
        "    if len(line)==0 or line.startswith('-DOCSTART') or line[0]==\"\\n\":\n",
        "        if len(sentence) > 0:\n",
        "            tagged_sentences.append(sentence)\n",
        "            sentence = []\n",
        "        continue\n",
        "    splits = line.split(' ') # 공백을 기준으로 속성을 구분한다.\n",
        "    splits[-1] = re.sub(r'\\n', '', splits[-1]) # 줄바꿈 표시 \\n을 제거한다.\n",
        "    word = splits[0].lower() # 단어들은 소문자로 바꿔서 저장한다.\n",
        "    sentence.append([word, splits[-1]]) # 단어와 개체명 태깅만 기록한다.\n",
        "     "
      ],
      "metadata": {
        "id": "MEmRyGyPKnuw"
      },
      "execution_count": null,
      "outputs": []
    },
    {
      "cell_type": "code",
      "source": [
        "print(\"전체 샘플 개수: \", len(tagged_sentences)) # 전체 샘플의 개수 출력"
      ],
      "metadata": {
        "colab": {
          "base_uri": "https://localhost:8080/"
        },
        "id": "RPuoQ48PJFFc",
        "outputId": "31b64fa8-ec96-489f-9c42-281abc65f54e"
      },
      "execution_count": null,
      "outputs": [
        {
          "output_type": "stream",
          "name": "stdout",
          "text": [
            "전체 샘플 개수:  14041\n"
          ]
        }
      ]
    },
    {
      "cell_type": "markdown",
      "source": [
        "첫번째 샘플만 출력해보겠습니다.\n",
        "\n"
      ],
      "metadata": {
        "id": "k66-dSMa49Ek"
      }
    },
    {
      "cell_type": "code",
      "source": [
        "print(tagged_sentences[0]) # 첫번째 샘플 출력"
      ],
      "metadata": {
        "colab": {
          "base_uri": "https://localhost:8080/"
        },
        "id": "ArqCor5F2quy",
        "outputId": "69ed708a-b820-4715-f0ca-c36784794fd2"
      },
      "execution_count": null,
      "outputs": [
        {
          "output_type": "stream",
          "name": "stdout",
          "text": [
            "[['eu', 'B-ORG'], ['rejects', 'O'], ['german', 'B-MISC'], ['call', 'O'], ['to', 'O'], ['boycott', 'O'], ['british', 'B-MISC'], ['lamb', 'O'], ['.', 'O']]\n"
          ]
        }
      ]
    },
    {
      "cell_type": "code",
      "source": [
        "sentences, ner_tags = [], [] \n",
        "for tagged_sentence in tagged_sentences: # 14,041개의 문장 샘플을 1개씩 불러온다.\n",
        "    sentence, tag_info = zip(*tagged_sentence) # 각 샘플에서 단어들은 sentence에 개체명 태깅 정보들은 tag_info에 저장.\n",
        "    sentences.append(list(sentence)) # 각 샘플에서 단어 정보만 저장한다.\n",
        "    ner_tags.append(list(tag_info)) # 각 샘플에서 개체명 태깅 정보만 저장한다."
      ],
      "metadata": {
        "id": "3bsOZMs22jF1"
      },
      "execution_count": null,
      "outputs": []
    },
    {
      "cell_type": "markdown",
      "source": [
        "각 문장 샘플에 대해서 단어는 sentences에 태깅 정보는 pos_tags에 저장하였습니다. 첫번째 문장 샘플을 출력해보겠습니다.\n",
        "\n"
      ],
      "metadata": {
        "id": "ksGTbdvf5AXQ"
      }
    },
    {
      "cell_type": "code",
      "source": [
        "print(sentences[0])\n",
        "print(ner_tags[0])"
      ],
      "metadata": {
        "colab": {
          "base_uri": "https://localhost:8080/"
        },
        "id": "tRNsajUL0xDW",
        "outputId": "0978a1cd-6b1d-4290-f0d1-fdaa300cb1dc"
      },
      "execution_count": null,
      "outputs": [
        {
          "output_type": "stream",
          "name": "stdout",
          "text": [
            "['eu', 'rejects', 'german', 'call', 'to', 'boycott', 'british', 'lamb', '.']\n",
            "['B-ORG', 'O', 'B-MISC', 'O', 'O', 'O', 'B-MISC', 'O', 'O']\n"
          ]
        }
      ]
    },
    {
      "cell_type": "markdown",
      "source": [
        "첫번째 샘플에 대해서 단어에 대해서 sentences[0]에, 품사에 대해서만 pos_tags[0]에 저장된 것을 볼 수 있습니다. 뒤에서 보겠지만, sentences는 예측을 위한 X에 해당되며 pos_tags는 예측 대상인 y에 해당됩니다. 임의로 8번 인덱스 샘플에 대해서도 확인해보겠습니다."
      ],
      "metadata": {
        "id": "zoJIcaib5BsC"
      }
    },
    {
      "cell_type": "code",
      "source": [
        "print(sentences[12])\n",
        "print(ner_tags[12])"
      ],
      "metadata": {
        "colab": {
          "base_uri": "https://localhost:8080/"
        },
        "id": "oKIeUYzp22pu",
        "outputId": "2947e446-643b-4251-8e4f-ee97182c1e98"
      },
      "execution_count": null,
      "outputs": [
        {
          "output_type": "stream",
          "name": "stdout",
          "text": [
            "['only', 'france', 'and', 'britain', 'backed', 'fischler', \"'s\", 'proposal', '.']\n",
            "['O', 'B-LOC', 'O', 'B-LOC', 'O', 'B-PER', 'O', 'O', 'O']\n"
          ]
        }
      ]
    },
    {
      "cell_type": "markdown",
      "source": [
        "단어에 대해서만 sentences[8]에, 또한 품사에 대해서만 pos_tags[8]에 저장된 것을 확인할 수 있습니다. 또한 첫번째 샘플과 길이가 다른 것을 볼 수 있습니다. 이제 훈련 데이터와 테스트 데이터를 분리해봅시다."
      ],
      "metadata": {
        "id": "Wje24PhB5DCG"
      }
    },
    {
      "cell_type": "code",
      "source": [
        "X_train, X_test, y_train, y_test = train_test_split(sentences, ner_tags, test_size=.2, random_state=777)"
      ],
      "metadata": {
        "id": "kbgqOpV03RU-"
      },
      "execution_count": null,
      "outputs": []
    },
    {
      "cell_type": "markdown",
      "source": [
        "학습이 진행되는 동안 성능을 확인하기 위한 검증 데이터 또한 분리합니다."
      ],
      "metadata": {
        "id": "9OvXuiHg5LE1"
      }
    },
    {
      "cell_type": "code",
      "source": [
        "X_train, X_valid, y_train, y_valid = train_test_split(X_train, y_train, test_size=.2, random_state=777)"
      ],
      "metadata": {
        "id": "q_0u2s9Fsn7z"
      },
      "execution_count": null,
      "outputs": []
    },
    {
      "cell_type": "markdown",
      "source": [
        "학습 데이터, 검증 데이터, 테스트 데이터의 개수는 다음과 같습니다."
      ],
      "metadata": {
        "id": "8js4GC_tASLL"
      }
    },
    {
      "cell_type": "code",
      "source": [
        "print('훈련 데이터의 개수 :', len(X_train))\n",
        "print('검증 데이터의 개수 :', len(X_valid))\n",
        "print('테스트 데이터의 개수 :', len(X_test))\n",
        "print('훈련 데이터 레이블의 개수 :', len(X_train))\n",
        "print('검증 데이터 레이블의 개수 :', len(X_valid))\n",
        "print('테스트 데이터 레이블의 개수 :', len(X_test))"
      ],
      "metadata": {
        "colab": {
          "base_uri": "https://localhost:8080/"
        },
        "id": "ECi4Sxelsuox",
        "outputId": "862114c0-fbec-400e-8a83-7019a64c7555"
      },
      "execution_count": null,
      "outputs": [
        {
          "output_type": "stream",
          "name": "stdout",
          "text": [
            "훈련 데이터의 개수 : 8985\n",
            "검증 데이터의 개수 : 2247\n",
            "테스트 데이터의 개수 : 2809\n",
            "훈련 데이터 레이블의 개수 : 8985\n",
            "검증 데이터 레이블의 개수 : 2247\n",
            "테스트 데이터 레이블의 개수 : 2809\n"
          ]
        }
      ]
    },
    {
      "cell_type": "markdown",
      "source": [
        "학습 데이터의 상위 2개 샘플만 출력해봅시다. 현재 데이터는 단어 토큰화가 된 상태입니다."
      ],
      "metadata": {
        "id": "01oQft0fAV29"
      }
    },
    {
      "cell_type": "code",
      "source": [
        "# 상위 샘플 2개 출력\n",
        "for sent in X_train[:2]:\n",
        "  print(sent)"
      ],
      "metadata": {
        "colab": {
          "base_uri": "https://localhost:8080/"
        },
        "id": "VWjBd9uGKLxk",
        "outputId": "298060a2-7d71-4fdc-eac6-7cba43fd294e"
      },
      "execution_count": null,
      "outputs": [
        {
          "output_type": "stream",
          "name": "stdout",
          "text": [
            "['young', 'boys', '9', '1', '0', '8', '6', '19', '3']\n",
            "['hentgen', '(', '17-7', ')', 'surrendered', 'just', 'three', 'doubles', 'and', 'a', 'pair', 'of', 'singles', 'in', 'tossing', 'his', 'major-league', 'leading', 'ninth', 'complete', 'game', '.']\n"
          ]
        }
      ]
    },
    {
      "cell_type": "markdown",
      "source": [
        "# 2. Vocab 만들기"
      ],
      "metadata": {
        "id": "FrMs6bGBGtIm"
      }
    },
    {
      "cell_type": "markdown",
      "source": [
        "단어 집합을 만들어봅시다. 각 단어의 등장 빈도를 카운트해주는 Counter를 사용하여 각 단어별 빈도수를 기록합니다. 이렇게 기록된 단어의 총 종류를 출력하여 총 단어수를 확인해봅시다."
      ],
      "metadata": {
        "id": "O7M-SwyvAYjZ"
      }
    },
    {
      "cell_type": "code",
      "source": [
        "word_list = []\n",
        "for sent in X_train:\n",
        "    for word in sent:\n",
        "      word_list.append(word)\n",
        "\n",
        "word_counts = Counter(word_list)\n",
        "print('총 단어수 :', len(word_counts))"
      ],
      "metadata": {
        "colab": {
          "base_uri": "https://localhost:8080/"
        },
        "id": "QZEEIF_qD-fG",
        "outputId": "3e701188-ad2d-48fd-86a9-7c0e7dbc22b5"
      },
      "execution_count": null,
      "outputs": [
        {
          "output_type": "stream",
          "name": "stdout",
          "text": [
            "총 단어수 : 16742\n"
          ]
        }
      ]
    },
    {
      "cell_type": "markdown",
      "source": [
        "단어수는 16,742개입니다. 임의로 영단어 the와 love의 등장횟수를 확인해보겠습니다."
      ],
      "metadata": {
        "id": "2bUDJOluAroO"
      }
    },
    {
      "cell_type": "code",
      "source": [
        "print('훈련 데이터에서의 단어 the의 등장 횟수 :', word_counts['the'])\n",
        "print('훈련 데이터에서의 단어 love의 등장 횟수 :', word_counts['love'])"
      ],
      "metadata": {
        "colab": {
          "base_uri": "https://localhost:8080/"
        },
        "id": "p6ReK6csFUDM",
        "outputId": "f3ff5da8-a3b3-4bf6-8e29-4742a06844bd"
      },
      "execution_count": null,
      "outputs": [
        {
          "output_type": "stream",
          "name": "stdout",
          "text": [
            "훈련 데이터에서의 단어 the의 등장 횟수 : 5410\n",
            "훈련 데이터에서의 단어 love의 등장 횟수 : 7\n"
          ]
        }
      ]
    },
    {
      "cell_type": "markdown",
      "source": [
        "영단어 the의 등장 횟수는 5,410회이며, 영단어 love의 등장 횟수는 7회입니다."
      ],
      "metadata": {
        "id": "4F3CJAb4Adiy"
      }
    },
    {
      "cell_type": "markdown",
      "source": [
        "word_counts를 정렬하고 등장 빈도 상위 10개 단어를 출력해봅시다."
      ],
      "metadata": {
        "id": "rZ_f9p-0AjS2"
      }
    },
    {
      "cell_type": "code",
      "source": [
        "vocab = sorted(word_counts, key=word_counts.get, reverse=True)\n",
        "print('등장 빈도수 상위 10개 단어')\n",
        "print(vocab[:10])"
      ],
      "metadata": {
        "colab": {
          "base_uri": "https://localhost:8080/"
        },
        "id": "hKWcxnzqE7f9",
        "outputId": "b29cad3a-eb44-47b4-ce99-d001ef320ab0"
      },
      "execution_count": null,
      "outputs": [
        {
          "output_type": "stream",
          "name": "stdout",
          "text": [
            "등장 빈도수 상위 10개 단어\n",
            "['the', ',', '.', 'of', 'in', 'to', 'a', ')', '(', 'and']\n"
          ]
        }
      ]
    },
    {
      "cell_type": "markdown",
      "source": [
        "이제 단어 집합을 만들기 위해서 패딩을 위한 토큰, 그리고 OOV 문제(Out-Of-Vocabulary) 발생 시에 사용하는 UNK 토큰을 위한 정수 0과 1을 각각 단어 집합에 할당합니다."
      ],
      "metadata": {
        "id": "XxdLxnJeAyc6"
      }
    },
    {
      "cell_type": "code",
      "source": [
        "word_to_index = {}\n",
        "word_to_index['<PAD>'] = 0\n",
        "word_to_index['<UNK>'] = 1"
      ],
      "metadata": {
        "id": "lbkCK_BoFwai"
      },
      "execution_count": null,
      "outputs": []
    },
    {
      "cell_type": "code",
      "source": [
        "for index, word in enumerate(vocab) :\n",
        "  word_to_index[word] = index + 2"
      ],
      "metadata": {
        "id": "02Fl4iXVG8cg"
      },
      "execution_count": null,
      "outputs": []
    },
    {
      "cell_type": "code",
      "source": [
        "vocab_size = len(word_to_index)\n",
        "print('패딩 토큰과 UNK 토큰을 고려한 단어 집합의 크기 :', vocab_size)"
      ],
      "metadata": {
        "colab": {
          "base_uri": "https://localhost:8080/"
        },
        "id": "ezyUa7mhHLgE",
        "outputId": "0ddc60e3-63ff-4433-a8da-441938345d2c"
      },
      "execution_count": null,
      "outputs": [
        {
          "output_type": "stream",
          "name": "stdout",
          "text": [
            "패딩 토큰과 UNK 토큰을 고려한 단어 집합의 크기 : 16744\n"
          ]
        }
      ]
    },
    {
      "cell_type": "code",
      "source": [
        "print('단어 <PAD>와 맵핑되는 정수 :', word_to_index['<PAD>'])\n",
        "print('단어 <UNK>와 맵핑되는 정수 :', word_to_index['<UNK>'])\n",
        "print('단어 the와 맵핑되는 정수 :', word_to_index['the'])"
      ],
      "metadata": {
        "colab": {
          "base_uri": "https://localhost:8080/"
        },
        "id": "fHZ-laCAHTSR",
        "outputId": "74ffab49-2eef-4340-f144-6bd68b895549"
      },
      "execution_count": null,
      "outputs": [
        {
          "output_type": "stream",
          "name": "stdout",
          "text": [
            "단어 <PAD>와 맵핑되는 정수 : 0\n",
            "단어 <UNK>와 맵핑되는 정수 : 1\n",
            "단어 the와 맵핑되는 정수 : 2\n"
          ]
        }
      ]
    },
    {
      "cell_type": "markdown",
      "source": [
        "# 3. 정수 인코딩"
      ],
      "metadata": {
        "id": "9hbT_5nLGyE8"
      }
    },
    {
      "cell_type": "markdown",
      "source": [
        "텍스트를 정수로 변환해주는 함수를 만듭니다. 해당 함수는 OOV 문제가 발생할 경우 해당 단어는`<UNK>` 토큰과 맵핑되는 정수인 1로 변환합니다."
      ],
      "metadata": {
        "id": "uG5H2kYlF--m"
      }
    },
    {
      "cell_type": "code",
      "source": [
        "def texts_to_sequences(tokenized_X_data, word_to_index):\n",
        "  encoded_X_data = []\n",
        "  for sent in tokenized_X_data:\n",
        "    index_sequences = []\n",
        "    for word in sent:\n",
        "      try:\n",
        "          index_sequences.append(word_to_index[word])\n",
        "      except KeyError:\n",
        "          index_sequences.append(word_to_index['<UNK>'])\n",
        "    encoded_X_data.append(index_sequences)\n",
        "  return encoded_X_data"
      ],
      "metadata": {
        "id": "LVaMaNbrNK7f"
      },
      "execution_count": null,
      "outputs": []
    },
    {
      "cell_type": "code",
      "source": [
        "encoded_X_train = texts_to_sequences(X_train, word_to_index)\n",
        "encoded_X_valid = texts_to_sequences(X_valid, word_to_index)\n",
        "encoded_X_test = texts_to_sequences(X_test, word_to_index)"
      ],
      "metadata": {
        "id": "naNVKF_cHfLV"
      },
      "execution_count": null,
      "outputs": []
    },
    {
      "cell_type": "code",
      "source": [
        "# 상위 샘플 2개 출력\n",
        "for sent in encoded_X_train[:2]:\n",
        "  print(sent)"
      ],
      "metadata": {
        "colab": {
          "base_uri": "https://localhost:8080/"
        },
        "id": "ohxvPgUtOW_c",
        "outputId": "8eb4e2d0-44c0-42ec-d7b8-f6ec6e36c4c2"
      },
      "execution_count": null,
      "outputs": [
        {
          "output_type": "stream",
          "name": "stdout",
          "text": [
            "[1260, 3215, 117, 17, 21, 123, 56, 539, 23]\n",
            "[5456, 10, 8229, 9, 8230, 186, 84, 1815, 11, 8, 1073, 5, 421, 6, 8231, 35, 2043, 291, 790, 957, 267, 4]\n"
          ]
        }
      ]
    },
    {
      "cell_type": "code",
      "source": [
        "index_to_word = {}\n",
        "for key, value in word_to_index.items():\n",
        "    index_to_word[value] = key"
      ],
      "metadata": {
        "id": "lhr_85Dr8kON"
      },
      "execution_count": null,
      "outputs": []
    },
    {
      "cell_type": "code",
      "source": [
        "decoded_sample = [index_to_word[word] for word in encoded_X_train[0]]\n",
        "print('기존의 첫번째 샘플 :', X_train[0])\n",
        "print('복원된 첫번째 샘플 :', decoded_sample)"
      ],
      "metadata": {
        "colab": {
          "base_uri": "https://localhost:8080/"
        },
        "id": "1_nMlq1LO2Is",
        "outputId": "d7c2bd6a-156b-4dfa-cef2-52972f097c06"
      },
      "execution_count": null,
      "outputs": [
        {
          "output_type": "stream",
          "name": "stdout",
          "text": [
            "기존의 첫번째 샘플 : ['young', 'boys', '9', '1', '0', '8', '6', '19', '3']\n",
            "복원된 첫번째 샘플 : ['young', 'boys', '9', '1', '0', '8', '6', '19', '3']\n"
          ]
        }
      ]
    },
    {
      "cell_type": "code",
      "source": [
        "# y_train으로부터 존재하는 모든 태그들의 집합 구하기\n",
        "flatten_tags = [tag for sent in y_train for tag in sent]\n",
        "tag_vocab = list(set(flatten_tags))\n",
        "print('태그 집합 :', tag_vocab)\n",
        "print('태그 집합의 크기 :', len(tag_vocab))"
      ],
      "metadata": {
        "colab": {
          "base_uri": "https://localhost:8080/"
        },
        "id": "Kpx7KKjGgzm6",
        "outputId": "305f7153-1532-444d-a495-3aa7d746ea5c"
      },
      "execution_count": null,
      "outputs": [
        {
          "output_type": "stream",
          "name": "stdout",
          "text": [
            "태그 집합 : ['B-PER', 'I-MISC', 'B-ORG', 'I-PER', 'B-LOC', 'I-LOC', 'I-ORG', 'O', 'B-MISC']\n",
            "태그 집합의 크기 : 9\n"
          ]
        }
      ]
    },
    {
      "cell_type": "code",
      "source": [
        "tag_to_index = {}\n",
        "tag_to_index['<PAD>'] = 0\n",
        "\n",
        "for index, word in enumerate(tag_vocab) :\n",
        "  tag_to_index[word] = index + 1\n",
        "\n",
        "tag_vocab_size = len(tag_to_index)\n",
        "# print('패딩 토큰까지 포함된 태그 집합의 크기 :', tag_vocab_size)\n",
        "print('태그 집합 :', tag_to_index)"
      ],
      "metadata": {
        "colab": {
          "base_uri": "https://localhost:8080/"
        },
        "id": "hQHPp6C6hE4O",
        "outputId": "3833ba66-1d9b-45bd-f75c-37b936004db2"
      },
      "execution_count": null,
      "outputs": [
        {
          "output_type": "stream",
          "name": "stdout",
          "text": [
            "태그 집합 : {'<PAD>': 0, 'B-PER': 1, 'I-MISC': 2, 'B-ORG': 3, 'I-PER': 4, 'B-LOC': 5, 'I-LOC': 6, 'I-ORG': 7, 'O': 8, 'B-MISC': 9}\n"
          ]
        }
      ]
    },
    {
      "cell_type": "markdown",
      "source": [
        "many-to-many 문제의 경우에는 레이블도 시퀀스 데이터가 되므로 각 레이블을 정수 시퀀스로 변환해줍니다."
      ],
      "metadata": {
        "id": "p77iFgB9GJbk"
      }
    },
    {
      "cell_type": "code",
      "source": [
        "def encoding_label(sequence, tag_to_index):\n",
        "  label_sequence = []\n",
        "  for seq in sequence:\n",
        "    label_sequence.append([tag_to_index[tag] for tag in seq])\n",
        "  return label_sequence"
      ],
      "metadata": {
        "id": "E5yxOWccgxox"
      },
      "execution_count": null,
      "outputs": []
    },
    {
      "cell_type": "code",
      "source": [
        "encoded_y_train = encoding_label(y_train, tag_to_index)\n",
        "encoded_y_valid = encoding_label(y_valid, tag_to_index)\n",
        "encoded_y_test = encoding_label(y_test, tag_to_index)"
      ],
      "metadata": {
        "id": "uUIQbqiJtcGi"
      },
      "execution_count": null,
      "outputs": []
    },
    {
      "cell_type": "code",
      "source": [
        "print('X 데이터 상위 2개')\n",
        "print(encoded_X_train[:2])\n",
        "print('-' * 50)\n",
        "print('y 데이터 상위 2개')\n",
        "print(encoded_y_train[:2])\n",
        "print('-' * 50)\n",
        "print('첫번째 샘플과 레이블의 길이')\n",
        "print(len(encoded_X_train[0]))\n",
        "print(len(encoded_y_train[0]))"
      ],
      "metadata": {
        "colab": {
          "base_uri": "https://localhost:8080/"
        },
        "id": "f3xLOibthQ_T",
        "outputId": "584fc9b4-e041-47cc-deaf-ba83206ef25e"
      },
      "execution_count": null,
      "outputs": [
        {
          "output_type": "stream",
          "name": "stdout",
          "text": [
            "X 데이터 상위 2개\n",
            "[[1260, 3215, 117, 17, 21, 123, 56, 539, 23], [5456, 10, 8229, 9, 8230, 186, 84, 1815, 11, 8, 1073, 5, 421, 6, 8231, 35, 2043, 291, 790, 957, 267, 4]]\n",
            "--------------------------------------------------\n",
            "y 데이터 상위 2개\n",
            "[[3, 7, 8, 8, 8, 8, 8, 8, 8], [1, 8, 8, 8, 8, 8, 8, 8, 8, 8, 8, 8, 8, 8, 8, 8, 8, 8, 8, 8, 8, 8]]\n",
            "--------------------------------------------------\n",
            "첫번째 샘플과 레이블의 길이\n",
            "9\n",
            "9\n"
          ]
        }
      ]
    },
    {
      "cell_type": "markdown",
      "source": [
        "# 4. 패딩"
      ],
      "metadata": {
        "id": "295u4uT6G0F2"
      }
    },
    {
      "cell_type": "code",
      "source": [
        "print('샘플의 최대 길이 : %d' % max(len(l) for l in encoded_X_train))\n",
        "print('샘플의 평균 길이 : %f' % (sum(map(len, encoded_X_train))/len(encoded_X_train)))\n",
        "plt.hist([len(s) for s in encoded_X_train], bins=50)\n",
        "plt.xlabel('length of samples')\n",
        "plt.ylabel('number of samples')\n",
        "plt.show()"
      ],
      "metadata": {
        "colab": {
          "base_uri": "https://localhost:8080/",
          "height": 485
        },
        "id": "GPzSN3o-FTXh",
        "outputId": "abf9fc05-5633-40c9-871e-6eb000ef78c4"
      },
      "execution_count": null,
      "outputs": [
        {
          "output_type": "stream",
          "name": "stdout",
          "text": [
            "샘플의 최대 길이 : 78\n",
            "샘플의 평균 길이 : 14.518420\n"
          ]
        },
        {
          "output_type": "display_data",
          "data": {
            "text/plain": [
              "<Figure size 640x480 with 1 Axes>"
            ],
            "image/png": "[encoded data removed]"
          },
          "metadata": {}
        }
      ]
    },
    {
      "cell_type": "markdown",
      "source": [
        "가장 긴 샘플의 길이는 78이며, 그래프를 봤을 때 전체 데이터의 길이 분포는 대체적으로 약 50내외의 길이를 가지는 것을 볼 수 있습니다. 모델이 처리할 수 있도록 encoded_X_train과 encoded_X_test의 모든 샘플의 길이를 특정 길이로 동일하게 맞춰줄 필요가 있습니다. 특정 길이 변수를 max_len으로 정합니다. 대부분의 리뷰가 내용이 잘리지 않도록 할 수 있는 최적의 max_len의 값은 몇일까요? 전체 샘플 중 길이가 max_len 이하인 샘플의 비율이 몇 %인지 확인하는 함수를 만듭니다."
      ],
      "metadata": {
        "id": "syo51NVuGVsH"
      }
    },
    {
      "cell_type": "code",
      "source": [
        "def below_threshold_len(max_len, nested_list):\n",
        "  count = 0\n",
        "  for sentence in nested_list:\n",
        "    if(len(sentence) <= max_len):\n",
        "        count = count + 1\n",
        "  print('전체 샘플 중 길이가 %s 이하인 샘플의 비율: %s'%(max_len, (count / len(nested_list))*100))"
      ],
      "metadata": {
        "id": "lNNBryATRdfX"
      },
      "execution_count": null,
      "outputs": []
    },
    {
      "cell_type": "markdown",
      "source": [
        "사실 최대 길이가 78이므로 78로 패딩해도 됩니다. 여기서는 80정도로 패딩해보겠습니다."
      ],
      "metadata": {
        "id": "Y7VWGJquGdYV"
      }
    },
    {
      "cell_type": "code",
      "source": [
        "max_len = 80\n",
        "below_threshold_len(max_len, encoded_X_train)"
      ],
      "metadata": {
        "colab": {
          "base_uri": "https://localhost:8080/"
        },
        "id": "OcdICmlrRe8N",
        "outputId": "a9b4490a-d59b-40de-a994-1ca307819d8b"
      },
      "execution_count": null,
      "outputs": [
        {
          "output_type": "stream",
          "name": "stdout",
          "text": [
            "전체 샘플 중 길이가 80 이하인 샘플의 비율: 100.0\n"
          ]
        }
      ]
    },
    {
      "cell_type": "code",
      "source": [
        "def pad_sequences(sentences, max_len):\n",
        "    features = np.zeros((len(sentences), max_len), dtype=int)\n",
        "    for index, sentence in enumerate(sentences):\n",
        "        if len(sentence) != 0:\n",
        "            features[index, :len(sentence)] = np.array(sentence)[:max_len]\n",
        "    return features"
      ],
      "metadata": {
        "id": "zYBpbc9KO57D"
      },
      "execution_count": null,
      "outputs": []
    },
    {
      "cell_type": "code",
      "source": [
        "padded_X_train = pad_sequences(encoded_X_train, max_len=max_len)\n",
        "padded_X_valid = pad_sequences(encoded_X_valid, max_len=max_len)\n",
        "padded_X_test = pad_sequences(encoded_X_test, max_len=max_len)\n",
        "\n",
        "padded_y_train = pad_sequences(encoded_y_train, max_len=max_len)\n",
        "padded_y_valid = pad_sequences(encoded_y_valid, max_len=max_len)\n",
        "padded_y_test = pad_sequences(encoded_y_test, max_len=max_len)"
      ],
      "metadata": {
        "id": "S3JE5LlaP4nd"
      },
      "execution_count": null,
      "outputs": []
    },
    {
      "cell_type": "code",
      "source": [
        "print('훈련 데이터의 크기 :', padded_X_train.shape)\n",
        "print('검증 데이터의 크기 :', padded_X_valid.shape)\n",
        "print('테스트 데이터의 크기 :', padded_X_test.shape)\n",
        "print('-' * 30)\n",
        "print('훈련 데이터의 레이블 :', padded_y_train.shape)\n",
        "print('검증 데이터의 레이블 :', padded_y_valid.shape)\n",
        "print('테스트 데이터의 레이블 :', padded_y_test.shape)"
      ],
      "metadata": {
        "colab": {
          "base_uri": "https://localhost:8080/"
        },
        "id": "KPO7pI1zRvIj",
        "outputId": "a4a9ce15-fb76-40e4-e370-cc233371cb43"
      },
      "execution_count": null,
      "outputs": [
        {
          "output_type": "stream",
          "name": "stdout",
          "text": [
            "훈련 데이터의 크기 : (8985, 80)\n",
            "검증 데이터의 크기 : (2247, 80)\n",
            "테스트 데이터의 크기 : (2809, 80)\n",
            "------------------------------\n",
            "훈련 데이터의 레이블 : (8985, 80)\n",
            "검증 데이터의 레이블 : (2247, 80)\n",
            "테스트 데이터의 레이블 : (2809, 80)\n"
          ]
        }
      ]
    },
    {
      "cell_type": "markdown",
      "source": [
        "패딩 후의 데이터를 확인해보겠습니다."
      ],
      "metadata": {
        "id": "6LC08ADxGlVZ"
      }
    },
    {
      "cell_type": "code",
      "source": [
        "print('훈련 데이터의 상위 샘플 2개')\n",
        "print(padded_X_train[:2])\n",
        "print('-' * 5 + '레이블' + '-' * 5)\n",
        "print(padded_y_train[:2])"
      ],
      "metadata": {
        "colab": {
          "base_uri": "https://localhost:8080/"
        },
        "id": "jBUXP8QEdJWu",
        "outputId": "b112c332-92e2-494b-b6c3-7567646d18ef"
      },
      "execution_count": null,
      "outputs": [
        {
          "output_type": "stream",
          "name": "stdout",
          "text": [
            "훈련 데이터의 상위 샘플 2개\n",
            "[[1260 3215  117   17   21  123   56  539   23    0    0    0    0    0\n",
            "     0    0    0    0    0    0    0    0    0    0    0    0    0    0\n",
            "     0    0    0    0    0    0    0    0    0    0    0    0    0    0\n",
            "     0    0    0    0    0    0    0    0    0    0    0    0    0    0\n",
            "     0    0    0    0    0    0    0    0    0    0    0    0    0    0\n",
            "     0    0    0    0    0    0    0    0    0    0]\n",
            " [5456   10 8229    9 8230  186   84 1815   11    8 1073    5  421    6\n",
            "  8231   35 2043  291  790  957  267    4    0    0    0    0    0    0\n",
            "     0    0    0    0    0    0    0    0    0    0    0    0    0    0\n",
            "     0    0    0    0    0    0    0    0    0    0    0    0    0    0\n",
            "     0    0    0    0    0    0    0    0    0    0    0    0    0    0\n",
            "     0    0    0    0    0    0    0    0    0    0]]\n",
            "-----레이블-----\n",
            "[[3 7 8 8 8 8 8 8 8 0 0 0 0 0 0 0 0 0 0 0 0 0 0 0 0 0 0 0 0 0 0 0 0 0 0 0\n",
            "  0 0 0 0 0 0 0 0 0 0 0 0 0 0 0 0 0 0 0 0 0 0 0 0 0 0 0 0 0 0 0 0 0 0 0 0\n",
            "  0 0 0 0 0 0 0 0]\n",
            " [1 8 8 8 8 8 8 8 8 8 8 8 8 8 8 8 8 8 8 8 8 8 0 0 0 0 0 0 0 0 0 0 0 0 0 0\n",
            "  0 0 0 0 0 0 0 0 0 0 0 0 0 0 0 0 0 0 0 0 0 0 0 0 0 0 0 0 0 0 0 0 0 0 0 0\n",
            "  0 0 0 0 0 0 0 0]]\n"
          ]
        }
      ]
    },
    {
      "cell_type": "markdown",
      "source": [
        "# 5. 모델링"
      ],
      "metadata": {
        "id": "Mt61Pc4VG2IL"
      }
    },
    {
      "cell_type": "markdown",
      "source": [
        "이제 모델링을 해봅시다."
      ],
      "metadata": {
        "id": "LkkmuJUbI8Lb"
      }
    },
    {
      "cell_type": "code",
      "source": [
        "import torch\n",
        "import torch.nn as nn\n",
        "import torch.optim as optim\n",
        "import torch.nn.functional as F"
      ],
      "metadata": {
        "id": "D456gIFvSEnt"
      },
      "execution_count": null,
      "outputs": []
    },
    {
      "cell_type": "code",
      "source": [
        "USE_CUDA = torch.cuda.is_available()\n",
        "device = torch.device(\"cuda\" if USE_CUDA else \"cpu\")\n",
        "print(\"cpu와 cuda 중 다음 기기로 학습함:\", device)"
      ],
      "metadata": {
        "colab": {
          "base_uri": "https://localhost:8080/"
        },
        "id": "RSv_LtIjI5Z6",
        "outputId": "c915cc5b-f431-460c-ff8d-60d5938ad928"
      },
      "execution_count": null,
      "outputs": [
        {
          "output_type": "stream",
          "name": "stdout",
          "text": [
            "cpu와 cuda 중 다음 기기로 학습함: cuda\n"
          ]
        }
      ]
    },
    {
      "cell_type": "markdown",
      "source": [
        "GRU 사용 시 코드는 다음과 같습니다."
      ],
      "metadata": {
        "id": "3yziKwfslTiI"
      }
    },
    {
      "cell_type": "markdown",
      "source": [
        "```\n",
        "class NERTagger(nn.Module):\n",
        "    def __init__(self, vocab_size, embedding_dim, hidden_dim, output_dim):\n",
        "        super(NERTagger, self).__init__()\n",
        "        self.embedding = nn.Embedding(vocab_size, embedding_dim)\n",
        "        self.gru = nn.GRU(embedding_dim, hidden_dim, batch_first=True)\n",
        "        self.fc = nn.Linear(hidden_dim, output_dim)\n",
        "\n",
        "    def forward(self, x):\n",
        "        # x: (batch_size, seq_length)\n",
        "        embedded = self.embedding(x)  # (batch_size, seq_length, embedding_dim)\n",
        "        gru_out, _ = self.gru(embedded)  # (batch_size, seq_length, hidden_dim)\n",
        "        logits = self.fc(gru_out)  # (batch_size, seq_length, output_dim)\n",
        "        return logits\n",
        "```"
      ],
      "metadata": {
        "id": "WD6B0VuzlRKv"
      }
    },
    {
      "cell_type": "markdown",
      "source": [
        "품사 태깅을 수행하는 코드에서 GRU를 Bidirectional LSTM 2층짜리로 변경하려면 다음과 같이 수정하면 됩니다:"
      ],
      "metadata": {
        "id": "IerJeJZ-lZlz"
      }
    },
    {
      "cell_type": "code",
      "source": [
        "class NERTagger(nn.Module):\n",
        "    def __init__(self, vocab_size, embedding_dim, hidden_dim, output_dim, num_layers=2):\n",
        "        super(NERTagger, self).__init__()\n",
        "        self.embedding = nn.Embedding(vocab_size, embedding_dim)\n",
        "        self.lstm = nn.LSTM(embedding_dim, hidden_dim, num_layers=num_layers, batch_first=True, bidirectional=True)\n",
        "        self.fc = nn.Linear(hidden_dim*2, output_dim)\n",
        "\n",
        "    def forward(self, x):\n",
        "        # x: (batch_size, seq_length)\n",
        "        embedded = self.embedding(x)  # (batch_size, seq_length, embedding_dim)\n",
        "        lstm_out, _ = self.lstm(embedded)  # (batch_size, seq_length, hidden_dim*2)\n",
        "        logits = self.fc(lstm_out)  # (batch_size, seq_length, output_dim)\n",
        "        return logits"
      ],
      "metadata": {
        "id": "rEZt9nLolQbJ"
      },
      "execution_count": null,
      "outputs": []
    },
    {
      "cell_type": "markdown",
      "source": [
        "이 수정에서는 다음과 같은 변경사항이 있습니다:\n",
        "\n",
        "1. nn.GRU를 nn.LSTM으로 변경했습니다.\n",
        "2. num_layers 매개변수를 추가하고 이를 nn.LSTM 생성자에 전달했습니다. 기본값은 2입니다.\n",
        "3. bidirectional=True를 추가하여 양방향 LSTM을 사용하도록 설정했습니다.\n",
        "4. nn.Linear의 입력 차원을 hidden_dim*2로 변경하여 양방향 LSTM의 출력을 처리하도록 했습니다."
      ],
      "metadata": {
        "id": "dYbCUZcGlbgo"
      }
    },
    {
      "cell_type": "code",
      "source": [
        "X_train_tensor = torch.tensor(padded_X_train, dtype=torch.long)\n",
        "y_train_tensor = torch.tensor(padded_y_train, dtype=torch.long)\n",
        "X_valid_tensor = torch.tensor(padded_X_valid, dtype=torch.long)\n",
        "y_valid_tensor = torch.tensor(padded_y_valid, dtype=torch.long)\n",
        "X_test_tensor = torch.tensor(padded_X_test, dtype=torch.long)\n",
        "y_test_tensor = torch.tensor(padded_y_test, dtype=torch.long)\n",
        "\n",
        "train_dataset = torch.utils.data.TensorDataset(X_train_tensor, y_train_tensor)\n",
        "train_dataloader = torch.utils.data.DataLoader(train_dataset, shuffle=True, batch_size=32)\n",
        "valid_dataset = torch.utils.data.TensorDataset(X_valid_tensor, y_valid_tensor)\n",
        "valid_dataloader = torch.utils.data.DataLoader(valid_dataset, shuffle=False, batch_size=32)\n",
        "test_dataset = torch.utils.data.TensorDataset(X_test_tensor, y_test_tensor)\n",
        "test_dataloader = torch.utils.data.DataLoader(test_dataset, shuffle=False, batch_size=32)"
      ],
      "metadata": {
        "id": "M3GNreGbifD3"
      },
      "execution_count": null,
      "outputs": []
    },
    {
      "cell_type": "code",
      "source": [
        "print(vocab_size)"
      ],
      "metadata": {
        "colab": {
          "base_uri": "https://localhost:8080/"
        },
        "id": "lcAs2YOafjOb",
        "outputId": "26f71228-4621-4658-9aa2-fdb444321150"
      },
      "execution_count": null,
      "outputs": [
        {
          "output_type": "stream",
          "name": "stdout",
          "text": [
            "16744\n"
          ]
        }
      ]
    },
    {
      "cell_type": "code",
      "source": [
        "embedding_dim = 100\n",
        "hidden_dim = 256\n",
        "output_dim = tag_vocab_size\n",
        "learning_rate = 0.01\n",
        "num_epochs = 10\n",
        "num_layers = 2"
      ],
      "metadata": {
        "id": "PwlJksMOfd34"
      },
      "execution_count": null,
      "outputs": []
    },
    {
      "cell_type": "code",
      "source": [
        "# Model, loss, optimizer\n",
        "model = NERTagger(vocab_size, embedding_dim, hidden_dim, output_dim, num_layers)\n",
        "model.to(device)"
      ],
      "metadata": {
        "id": "XjzHouYIhwhX",
        "colab": {
          "base_uri": "https://localhost:8080/"
        },
        "outputId": "9f763ec6-2653-4ce7-eb50-9cb18a611e13"
      },
      "execution_count": null,
      "outputs": [
        {
          "output_type": "execute_result",
          "data": {
            "text/plain": [
              "NERTagger(\n",
              "  (embedding): Embedding(16744, 100)\n",
              "  (lstm): LSTM(100, 256, num_layers=2, batch_first=True, bidirectional=True)\n",
              "  (fc): Linear(in_features=512, out_features=10, bias=True)\n",
              ")"
            ]
          },
          "metadata": {},
          "execution_count": 69
        }
      ]
    },
    {
      "cell_type": "markdown",
      "source": [
        "앞으로 많이 사용하게 될 비용함수인 nn.CrossEntropyLoss에서는 ignore_index를 통해서 특정 인덱스에 대한 loss를 구하지 않을 수 있습니다."
      ],
      "metadata": {
        "id": "Vk_OaQnQJHcE"
      }
    },
    {
      "cell_type": "code",
      "source": [
        "criterion = nn.CrossEntropyLoss(ignore_index=0)\n",
        "optimizer = optim.Adam(model.parameters(), lr=learning_rate)"
      ],
      "metadata": {
        "id": "TYW7yC4-usX1"
      },
      "execution_count": null,
      "outputs": []
    },
    {
      "cell_type": "code",
      "source": [
        "def calculate_accuracy(logits, labels, ignore_index=0):\n",
        "    # 예측 레이블을 구합니다.\n",
        "    predicted = torch.argmax(logits, dim=1)\n",
        "\n",
        "    # 패딩 토큰은 무시합니다.\n",
        "    mask = (labels != ignore_index)\n",
        "\n",
        "    # 정답을 맞춘 경우를 집계합니다.\n",
        "    correct = (predicted == labels).masked_select(mask).sum().item()\n",
        "    total = mask.sum().item()\n",
        "\n",
        "    accuracy = correct / total\n",
        "    return accuracy"
      ],
      "metadata": {
        "id": "alf6xtMQe5qP"
      },
      "execution_count": null,
      "outputs": []
    },
    {
      "cell_type": "code",
      "source": [
        "def evaluate(model, valid_dataloader, criterion, device):\n",
        "    val_loss = 0\n",
        "    val_correct = 0\n",
        "    val_total = 0\n",
        "\n",
        "    model.eval()\n",
        "    with torch.no_grad():\n",
        "        for batch_X, batch_y in valid_dataloader:\n",
        "            batch_X, batch_y = batch_X.to(device), batch_y.to(device)\n",
        "\n",
        "            # Forward pass\n",
        "            logits = model(batch_X)\n",
        "\n",
        "            # Compute loss\n",
        "            loss = criterion(logits.view(-1, output_dim), batch_y.view(-1))\n",
        "\n",
        "            # Calculate validation accuracy and loss\n",
        "            val_loss += loss.item()\n",
        "            val_correct += calculate_accuracy(logits.view(-1, output_dim), batch_y.view(-1)) * batch_y.size(0)\n",
        "            val_total += batch_y.size(0)\n",
        "\n",
        "    val_accuracy = val_correct / val_total\n",
        "    val_loss /= len(valid_dataloader)\n",
        "\n",
        "    return val_loss, val_accuracy"
      ],
      "metadata": {
        "id": "nFUNjVPbwotz"
      },
      "execution_count": null,
      "outputs": []
    },
    {
      "cell_type": "markdown",
      "source": [
        "학습하는 동안 훈련 데이터의 정확도와 손실, 검증 데이터의 정확도와 손실을 지속적으로 확인합니다. 그리고 검증 데이터의 손실이 지금까지 중 가장 최소가 되는 시점마다 모델을 저장하여 결과적으로 검증 데이터 손실이 학습하는 도중 가장 최소일 때의 Best 모델을 저장합니다."
      ],
      "metadata": {
        "id": "Ia3J_pCdkYD5"
      }
    },
    {
      "cell_type": "code",
      "source": [
        "# Training loop\n",
        "best_val_loss = float('inf')\n",
        "\n",
        "for epoch in range(num_epochs):\n",
        "    # Training\n",
        "    train_loss = 0\n",
        "    train_correct = 0\n",
        "    train_total = 0\n",
        "    model.train()\n",
        "    for batch_X, batch_y in train_dataloader:\n",
        "        # Forward pass\n",
        "        batch_X, batch_y = batch_X.to(device), batch_y.to(device)\n",
        "        logits = model(batch_X)\n",
        "\n",
        "        # Compute loss\n",
        "        loss = criterion(logits.view(-1, output_dim), batch_y.view(-1))\n",
        "\n",
        "        # Backward pass and optimization\n",
        "        optimizer.zero_grad()\n",
        "        loss.backward()\n",
        "        optimizer.step()\n",
        "\n",
        "        # Calculate training accuracy and loss\n",
        "        train_loss += loss.item()\n",
        "        train_correct += calculate_accuracy(logits.view(-1, output_dim), batch_y.view(-1)) * batch_y.size(0)\n",
        "        train_total += batch_y.size(0)\n",
        "\n",
        "    train_accuracy = train_correct / train_total\n",
        "    train_loss /= len(train_dataloader)\n",
        "\n",
        "    # Validation\n",
        "    val_loss, val_accuracy = evaluate(model, valid_dataloader, criterion, device)\n",
        "\n",
        "    print(f'Epoch {epoch+1}/{num_epochs}:')\n",
        "    print(f'Train Loss: {train_loss:.4f}, Train Accuracy: {train_accuracy:.4f}')\n",
        "    print(f'Validation Loss: {val_loss:.4f}, Validation Accuracy: {val_accuracy:.4f}')\n",
        "\n",
        "    # 검증 손실이 최소일 때 체크포인트 저장\n",
        "    if val_loss < best_val_loss:\n",
        "        print(f'Validation loss improved from {best_val_loss:.4f} to {val_loss:.4f}. 체크포인트를 저장합니다.')\n",
        "        best_val_loss = val_loss\n",
        "        torch.save(model.state_dict(), 'best_model_checkpoint.pth')"
      ],
      "metadata": {
        "colab": {
          "base_uri": "https://localhost:8080/"
        },
        "id": "chGJjI7JkUPO",
        "outputId": "502d6e2f-1fac-4fae-8197-eef60edcd38f"
      },
      "execution_count": null,
      "outputs": [
        {
          "output_type": "stream",
          "name": "stdout",
          "text": [
            "Epoch 1/10:\n",
            "Train Loss: 0.3921, Train Accuracy: 0.8912\n",
            "Validation Loss: 0.2122, Validation Accuracy: 0.9395\n",
            "Validation loss improved from inf to 0.2122. 체크포인트를 저장합니다.\n",
            "Epoch 2/10:\n",
            "Train Loss: 0.1203, Train Accuracy: 0.9643\n",
            "Validation Loss: 0.1709, Validation Accuracy: 0.9513\n",
            "Validation loss improved from 0.2122 to 0.1709. 체크포인트를 저장합니다.\n",
            "Epoch 3/10:\n",
            "Train Loss: 0.0491, Train Accuracy: 0.9852\n",
            "Validation Loss: 0.1606, Validation Accuracy: 0.9560\n",
            "Validation loss improved from 0.1709 to 0.1606. 체크포인트를 저장합니다.\n",
            "Epoch 4/10:\n",
            "Train Loss: 0.0261, Train Accuracy: 0.9920\n",
            "Validation Loss: 0.1749, Validation Accuracy: 0.9573\n",
            "Epoch 5/10:\n",
            "Train Loss: 0.0203, Train Accuracy: 0.9938\n",
            "Validation Loss: 0.2250, Validation Accuracy: 0.9478\n",
            "Epoch 6/10:\n",
            "Train Loss: 0.0202, Train Accuracy: 0.9936\n",
            "Validation Loss: 0.1997, Validation Accuracy: 0.9537\n",
            "Epoch 7/10:\n",
            "Train Loss: 0.0232, Train Accuracy: 0.9923\n",
            "Validation Loss: 0.2072, Validation Accuracy: 0.9530\n",
            "Epoch 8/10:\n",
            "Train Loss: 0.0222, Train Accuracy: 0.9929\n",
            "Validation Loss: 0.2065, Validation Accuracy: 0.9571\n",
            "Epoch 9/10:\n",
            "Train Loss: 0.0212, Train Accuracy: 0.9932\n",
            "Validation Loss: 0.2059, Validation Accuracy: 0.9585\n",
            "Epoch 10/10:\n",
            "Train Loss: 0.0195, Train Accuracy: 0.9939\n",
            "Validation Loss: 0.2209, Validation Accuracy: 0.9521\n"
          ]
        }
      ]
    },
    {
      "cell_type": "markdown",
      "source": [
        "# 6. 모델 로드 및 평가"
      ],
      "metadata": {
        "id": "YTg_dNCwG6zg"
      }
    },
    {
      "cell_type": "markdown",
      "source": [
        "위에서 저장해둔 Best 모델을 로드하여 정상 로드되었는지 확인하기 위해서 검증 데이터에 대한 정확도와 손실을 출력하고, 테스트 데이터에 대해서도 평가를 진행합니다."
      ],
      "metadata": {
        "id": "7kbLP_49J4Km"
      }
    },
    {
      "cell_type": "code",
      "source": [
        "# 모델 로드\n",
        "model.load_state_dict(torch.load('best_model_checkpoint.pth'))\n",
        "\n",
        "# 모델을 device에 올립니다.\n",
        "model.to(device)\n",
        "\n",
        "# 검증 데이터에 대한 정확도와 손실 계산\n",
        "val_loss, val_accuracy = evaluate(model, valid_dataloader, criterion, device)\n",
        "\n",
        "print(f'Best model validation loss: {val_loss:.4f}')\n",
        "print(f'Best model validation accuracy: {val_accuracy:.4f}')"
      ],
      "metadata": {
        "colab": {
          "base_uri": "https://localhost:8080/"
        },
        "id": "xvQfH4zcxCBV",
        "outputId": "6ee66bb3-4139-41ba-ce00-099375461bdb"
      },
      "execution_count": null,
      "outputs": [
        {
          "output_type": "stream",
          "name": "stdout",
          "text": [
            "Best model validation loss: 0.1606\n",
            "Best model validation accuracy: 0.9560\n"
          ]
        }
      ]
    },
    {
      "cell_type": "code",
      "source": [
        "# 테스트 데이터에 대한 정확도와 손실 계산\n",
        "test_loss, test_accuracy = evaluate(model, test_dataloader, criterion, device)\n",
        "\n",
        "print(f'Best model test loss: {test_loss:.4f}')\n",
        "print(f'Best model test accuracy: {test_accuracy:.4f}')"
      ],
      "metadata": {
        "colab": {
          "base_uri": "https://localhost:8080/"
        },
        "id": "OljWwtiC5QK8",
        "outputId": "a83c21fb-3bf3-4cb9-9429-c50a3bd41b05"
      },
      "execution_count": null,
      "outputs": [
        {
          "output_type": "stream",
          "name": "stdout",
          "text": [
            "Best model test loss: 0.1609\n",
            "Best model test accuracy: 0.9566\n"
          ]
        }
      ]
    },
    {
      "cell_type": "markdown",
      "source": [
        "# 7. 인퍼런스(테스트)"
      ],
      "metadata": {
        "id": "DqiSOcWrG_Tl"
      }
    },
    {
      "cell_type": "markdown",
      "source": [
        "모델을 서비스에 적용하게 되면 전처리가 전혀 되어있지 않은 임의의 텍스트 입력에 대해서 동작해야 할 것입니다. 임의의 텍스트 입력에 대해서 예측 레이블을 리턴하는 함수를 만들어봅시다."
      ],
      "metadata": {
        "id": "qAYdKysCJYJe"
      }
    },
    {
      "cell_type": "code",
      "source": [
        "index_to_tag = {}\n",
        "for key, value in tag_to_index.items():\n",
        "    index_to_tag[value] = key"
      ],
      "metadata": {
        "id": "dIn4in4cqMS_"
      },
      "execution_count": null,
      "outputs": []
    },
    {
      "cell_type": "code",
      "source": [
        "def predict_labels(text, model, word_to_ix, index_to_tag, max_len=150):\n",
        "    # 단어 토큰화\n",
        "    tokens = text.split()\n",
        "\n",
        "    # 정수 인코딩\n",
        "    token_indices = [word_to_ix.get(token, 1) for token in tokens]\n",
        "\n",
        "    # 패딩\n",
        "    token_indices_padded = np.zeros(max_len, dtype=int)\n",
        "    token_indices_padded[:len(token_indices)] = token_indices[:max_len]\n",
        "\n",
        "    # 텐서로 변환\n",
        "    input_tensor = torch.tensor(token_indices_padded, dtype=torch.long).unsqueeze(0).to(device)\n",
        "\n",
        "    # 모델의 입력으로 사용하고 예측값 리턴\n",
        "    model.eval()\n",
        "    with torch.no_grad():\n",
        "        logits = model(input_tensor)\n",
        "\n",
        "    # 가장 값이 높은 인덱스를 예측값으로 선택\n",
        "    predicted_indices = torch.argmax(logits, dim=-1).squeeze(0).tolist()\n",
        "\n",
        "    # 패딩 토큰 제거\n",
        "    predicted_indices_no_pad = predicted_indices[:len(tokens)]\n",
        "\n",
        "    # 패딩 토큰을 제외하고 정수 시퀀스를 예측 시퀀스로 변환\n",
        "    predicted_tags = [index_to_tag[index] for index in predicted_indices_no_pad]\n",
        "\n",
        "    return predicted_tags"
      ],
      "metadata": {
        "id": "ZgBW867IpwCb"
      },
      "execution_count": null,
      "outputs": []
    },
    {
      "cell_type": "markdown",
      "source": [
        "학습에 사용되지 않은 테스트 데이터의 첫번째 샘플을 이용해봅시다. 현재 이 데이터는 이미 단어 토큰화가 된 상태라서 단어 토큰화 이전 상태로 되돌려 전처리가 전혀 되어있지 않은 입력을 가정하고 함수에 입력으로 사용하겠습니다."
      ],
      "metadata": {
        "id": "2MFc49_QKlbA"
      }
    },
    {
      "cell_type": "code",
      "source": [
        "print(X_test[0])"
      ],
      "metadata": {
        "colab": {
          "base_uri": "https://localhost:8080/"
        },
        "id": "jk1lGt0FqTgW",
        "outputId": "0d808520-c22d-46d7-9bd5-71744334ce3a"
      },
      "execution_count": null,
      "outputs": [
        {
          "output_type": "stream",
          "name": "stdout",
          "text": [
            "['feyenoord', 'rotterdam', 'suffered', 'an', 'early', 'shock', 'when', 'they', 'went', '1-0', 'down', 'after', 'four', 'minutes', 'against', 'de', 'graafschap', 'doetinchem', '.']\n"
          ]
        }
      ]
    },
    {
      "cell_type": "code",
      "source": [
        "sample = ' '.join(X_test[0])\n",
        "print(sample)"
      ],
      "metadata": {
        "colab": {
          "base_uri": "https://localhost:8080/"
        },
        "id": "c2M3B6uOqZti",
        "outputId": "7e1a97c9-fa15-4de2-e0ae-20c755183a59"
      },
      "execution_count": null,
      "outputs": [
        {
          "output_type": "stream",
          "name": "stdout",
          "text": [
            "feyenoord rotterdam suffered an early shock when they went 1-0 down after four minutes against de graafschap doetinchem .\n"
          ]
        }
      ]
    },
    {
      "cell_type": "code",
      "source": [
        "predicted_tags = predict_labels(sample, model, word_to_index, index_to_tag)\n",
        "print('예측 :', predicted_tags)\n",
        "print('실제값 :', y_test[0])"
      ],
      "metadata": {
        "colab": {
          "base_uri": "https://localhost:8080/"
        },
        "id": "RWT8URdtqDjN",
        "outputId": "ea6207b9-860c-4ea6-c62c-ddd120a672eb"
      },
      "execution_count": null,
      "outputs": [
        {
          "output_type": "stream",
          "name": "stdout",
          "text": [
            "예측 : ['B-ORG', 'I-ORG', 'O', 'O', 'O', 'O', 'O', 'O', 'O', 'O', 'O', 'O', 'O', 'O', 'O', 'B-ORG', 'I-ORG', 'I-ORG', 'O']\n",
            "실제값 : ['B-ORG', 'I-ORG', 'O', 'O', 'O', 'O', 'O', 'O', 'O', 'O', 'O', 'O', 'O', 'O', 'O', 'O', 'B-ORG', 'I-ORG', 'O']\n"
          ]
        }
      ]
    }
  ]
}