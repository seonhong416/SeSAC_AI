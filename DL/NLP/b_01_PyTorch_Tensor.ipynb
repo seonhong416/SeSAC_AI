{
  "cells": [
    {
      "cell_type": "markdown",
      "metadata": {
        "id": "LEfNT91dLzTD"
      },
      "source": [
        "# 1. 벡터"
      ]
    },
    {
      "cell_type": "code",
      "execution_count": 1,
      "metadata": {
        "id": "h84_2NFULmqg"
      },
      "outputs": [],
      "source": [
        "import torch"
      ]
    },
    {
      "cell_type": "code",
      "execution_count": 2,
      "metadata": {
        "colab": {
          "base_uri": "https://localhost:8080/"
        },
        "id": "8lrg-MosLxQs",
        "outputId": "482eb0ad-adbf-411a-d08d-5e59f8cca074"
      },
      "outputs": [
        {
          "name": "stdout",
          "output_type": "stream",
          "text": [
            "tensor([0., 1., 2., 3., 4., 5., 6.])\n"
          ]
        }
      ],
      "source": [
        "t = torch.FloatTensor([0., 1., 2., 3., 4., 5., 6.])\n",
        "print(t)"
      ]
    },
    {
      "cell_type": "code",
      "execution_count": 3,
      "metadata": {
        "colab": {
          "base_uri": "https://localhost:8080/"
        },
        "id": "XvIK7E0LLyZE",
        "outputId": "523f2553-4edd-4d9d-bf06-a97dee277607"
      },
      "outputs": [
        {
          "name": "stdout",
          "output_type": "stream",
          "text": [
            "벡터의 크기(shape) : torch.Size([7])\n"
          ]
        }
      ],
      "source": [
        "print('벡터의 크기(shape) :', t.shape)"
      ]
    },
    {
      "cell_type": "markdown",
      "metadata": {
        "id": "Vyy1SD-cL6eb"
      },
      "source": [
        "벡터는 숫자의 나열을 의미하며 벡터의 크기를 표현할 때는 '차원'이라는 표현을 주로 사용한다. 다시 말해 해당 벡터는 현재 7차원 벡터이다."
      ]
    },
    {
      "cell_type": "markdown",
      "metadata": {
        "id": "6XI9ddorMBiU"
      },
      "source": [
        "# 2. 행렬"
      ]
    },
    {
      "cell_type": "code",
      "execution_count": 4,
      "metadata": {
        "colab": {
          "base_uri": "https://localhost:8080/"
        },
        "id": "vwSrDz0AL5wT",
        "outputId": "d2549d1f-43ef-4021-aa16-c74a58c91e2c"
      },
      "outputs": [
        {
          "name": "stdout",
          "output_type": "stream",
          "text": [
            "tensor([[ 1.,  2.,  3.],\n",
            "        [ 4.,  5.,  6.],\n",
            "        [ 7.,  8.,  9.],\n",
            "        [10., 11., 12.]])\n"
          ]
        }
      ],
      "source": [
        "t = torch.FloatTensor([[1., 2., 3.],\n",
        "                       [4., 5., 6.],\n",
        "                       [7., 8., 9.],\n",
        "                       [10., 11., 12.]\n",
        "                      ])\n",
        "print(t)"
      ]
    },
    {
      "cell_type": "code",
      "execution_count": 5,
      "metadata": {
        "colab": {
          "base_uri": "https://localhost:8080/"
        },
        "id": "HOr29pjgME8G",
        "outputId": "e42c4a15-0bda-467e-d7d5-7d72f48e5cb5"
      },
      "outputs": [
        {
          "name": "stdout",
          "output_type": "stream",
          "text": [
            "행렬의 크기(shape) : torch.Size([4, 3])\n"
          ]
        }
      ],
      "source": [
        "print('행렬의 크기(shape) :', t.shape)"
      ]
    },
    {
      "cell_type": "markdown",
      "metadata": {
        "id": "EIN8B9k6MHcm"
      },
      "source": [
        "행렬을 표현할 때는 주로 행과 열이라는 표현을 주로 사용한다. 위의 경우 4행 3열 행렬이다."
      ]
    },
    {
      "cell_type": "markdown",
      "metadata": {
        "id": "oJMtpvoSMM1G"
      },
      "source": [
        "# 3. 텐서"
      ]
    },
    {
      "cell_type": "code",
      "execution_count": 6,
      "metadata": {
        "id": "ReD78gpSMStt"
      },
      "outputs": [],
      "source": [
        "import numpy as np"
      ]
    },
    {
      "cell_type": "code",
      "execution_count": 7,
      "metadata": {
        "id": "7zmo3RGAMGGd"
      },
      "outputs": [],
      "source": [
        "t = np.array([[[0, 1, 2],\n",
        "               [3, 4, 5]],\n",
        "              [[6, 7, 8],\n",
        "               [9, 10, 11]]])\n",
        "ft = torch.FloatTensor(t)"
      ]
    },
    {
      "cell_type": "code",
      "execution_count": 8,
      "metadata": {
        "colab": {
          "base_uri": "https://localhost:8080/"
        },
        "id": "l0tgIEEjMTss",
        "outputId": "465c2f5e-a395-4d16-8a5b-274d10fde044"
      },
      "outputs": [
        {
          "name": "stdout",
          "output_type": "stream",
          "text": [
            "텐서의 크기(shape) : torch.Size([2, 2, 3])\n"
          ]
        }
      ],
      "source": [
        "print('텐서의 크기(shape) :',ft.shape)"
      ]
    },
    {
      "cell_type": "markdown",
      "metadata": {
        "id": "x07FjDAhM7rk"
      },
      "source": [
        "시각화하면 다음과 같다."
      ]
    },
    {
      "cell_type": "markdown",
      "metadata": {
        "id": "1fohjBH3MqHY"
      },
      "source": [
        "![이미지](https://wikidocs.net/images/page/52846/tensor1.PNG)"
      ]
    },
    {
      "cell_type": "markdown",
      "metadata": {
        "id": "4JdhcRYMMYzm"
      },
      "source": [
        "텐서는 주로 3차원 이상의 배열을 의미한다. 이 경우 텐서의 크기는 (2, 2, 3)이라고 표현할 수 있다. 이해하기 조금 어렵다면 뒤에서부터 읽으면서 이해해보자.\n",
        "```\n",
        "3개의 데이터 묶음이 2개가 있고, 이러한 묶음이 또 2개가 있다.\n",
        "```\n",
        "라고 이해해볼 수 있다."
      ]
    },
    {
      "cell_type": "markdown",
      "metadata": {
        "id": "xbgbAq0eM9ju"
      },
      "source": [
        "# 4. 자연어 처리에서의 텐서 예시"
      ]
    },
    {
      "cell_type": "markdown",
      "metadata": {
        "id": "loE0DVRlNJFh"
      },
      "source": [
        "아래와 같이 4개의 문장으로 구성된 전체 훈련 데이터가 있습니다.\n",
        "\n"
      ]
    },
    {
      "cell_type": "markdown",
      "metadata": {
        "id": "RzJ_omlaNcV7"
      },
      "source": [
        "```\n",
        "[[나는 사과를 좋아해], [나는 바나나를 좋아해], [나는 사과를 싫어해], [나는 바나나를 싫어해]]\n",
        "```"
      ]
    },
    {
      "cell_type": "markdown",
      "metadata": {
        "id": "OfmyVYpiNKrh"
      },
      "source": [
        "컴퓨터는 아직 이 상태로는 '나는 사과를 좋아해'가 단어가 1개인지 3개인지 이해하지 못합니다. 우선 컴퓨터의 입력으로 사용하기 위해서는 단어별로 나눠주어야 합니다."
      ]
    },
    {
      "cell_type": "markdown",
      "metadata": {
        "id": "n4A_dM1INZ-U"
      },
      "source": [
        "```\n",
        "[['나는', '사과를', '좋아해'], ['나는', '바나나를', '좋아해'], ['나는', '사과를', '싫어해'], ['나는', '바나나를', '싫어해']]\n",
        "```"
      ]
    },
    {
      "cell_type": "markdown",
      "metadata": {
        "id": "1sr4np8pNOmw"
      },
      "source": [
        "이제 훈련 데이터의 크기는 4 × 3의 크기를 가지는 행렬입니다. 컴퓨터는 텍스트보다는 숫자를 더 잘 처리할 수 있습니데. 이제 각 단어를 벡터로 만들겁니다. 아래와 같이 단어를 3차원의 벡터로 변환했다고 하겠습니다."
      ]
    },
    {
      "cell_type": "markdown",
      "metadata": {
        "id": "6IVEJWohNXn8"
      },
      "source": [
        "```\n",
        "'나는' = [0.1, 0.2, 0.9]\n",
        "'사과를' = [0.3, 0.5, 0.1]\n",
        "'바나나를' = [0.3, 0.5, 0.2]\n",
        "'좋아해' = [0.7, 0.6, 0.5]\n",
        "'싫어해' = [0.5, 0.6, 0.7]\n",
        "```"
      ]
    },
    {
      "cell_type": "markdown",
      "metadata": {
        "id": "UyzoIqnnNfDk"
      },
      "source": [
        "위 기준을 따라서 훈련 데이터를 재구성하면 아래와 같습니다.\n",
        "\n"
      ]
    },
    {
      "cell_type": "markdown",
      "metadata": {
        "id": "M9YLjKc4NgMW"
      },
      "source": [
        "```\n",
        "[[[0.1, 0.2, 0.9], [0.3, 0.5, 0.1], [0.7, 0.6, 0.5]],\n",
        " [[0.1, 0.2, 0.9], [0.3, 0.5, 0.2], [0.7, 0.6, 0.5]],\n",
        " [[0.1, 0.2, 0.9], [0.3, 0.5, 0.1], [0.5, 0.6, 0.7]],\n",
        " [[0.1, 0.2, 0.9], [0.3, 0.5, 0.2], [0.5, 0.6, 0.7]]]\n",
        "```"
      ]
    },
    {
      "cell_type": "markdown",
      "metadata": {
        "id": "gjHxWAdZNi8n"
      },
      "source": [
        "이제 훈련 데이터는 4 × 3 × 3의 크기를 가지는 3D 텐서입니다. 만약 딥 러닝을 할 때 데이터를 2개씩 병렬 처리하고자 한다고 가정해봅시다. 이 경우 병렬 처리하고자 하는 데이터의 개수를 `배치 크기`라고 합니다. 가령, batch size를 2로 한다고 해봅시다.\n",
        "\n"
      ]
    },
    {
      "cell_type": "markdown",
      "metadata": {
        "id": "aYKeGYd4Nk5S"
      },
      "source": [
        "```\n",
        "첫번째 배치 #1\n",
        "[[[0.1, 0.2, 0.9], [0.3, 0.5, 0.1], [0.7, 0.6, 0.5]],\n",
        " [[0.1, 0.2, 0.9], [0.3, 0.5, 0.2], [0.7, 0.6, 0.5]]]\n",
        "\n",
        "두번째 배치 #2\n",
        "[[[0.1, 0.2, 0.9], [0.3, 0.5, 0.1], [0.5, 0.6, 0.7]],\n",
        " [[0.1, 0.2, 0.9], [0.3, 0.5, 0.2], [0.5, 0.6, 0.7]]]\n",
        "```"
      ]
    },
    {
      "cell_type": "markdown",
      "metadata": {
        "id": "m9pMnrILN-mJ"
      },
      "source": [
        "컴퓨터는 배치 단위로 가져가서 연산을 수행합니다. 그리고 현재 각 배치의 텐서의 크기는 (2 × 3 × 3)입니다. 이는 (batch size, 문장 길이, 단어 벡터의 차원)의 크기입니다. 위의 예시 중 첫번째 배치에 대해서 실제로 텐서로 선언하고 크기를 출력해봅시다."
      ]
    },
    {
      "cell_type": "code",
      "execution_count": 9,
      "metadata": {
        "colab": {
          "base_uri": "https://localhost:8080/"
        },
        "id": "3uNmpbdbN_Ez",
        "outputId": "3f80fd08-2f97-4273-9ca2-4cbcfe2db063"
      },
      "outputs": [
        {
          "name": "stdout",
          "output_type": "stream",
          "text": [
            "텐서의 크기(shape) : torch.Size([2, 3, 3])\n"
          ]
        }
      ],
      "source": [
        "nlp_tensor = torch.FloatTensor(\n",
        "    [[[0.1, 0.2, 0.9], [0.3, 0.5, 0.1], [0.7, 0.6, 0.5]],\n",
        "    [[0.1, 0.2, 0.9], [0.3, 0.5, 0.2], [0.7, 0.6, 0.5]]]\n",
        "    )\n",
        "\n",
        "print('텐서의 크기(shape) :', nlp_tensor.shape)"
      ]
    }
  ],
  "metadata": {
    "colab": {
      "provenance": []
    },
    "kernelspec": {
      "display_name": "Python 3",
      "name": "python3"
    },
    "language_info": {
      "codemirror_mode": {
        "name": "ipython",
        "version": 3
      },
      "file_extension": ".py",
      "mimetype": "text/x-python",
      "name": "python",
      "nbconvert_exporter": "python",
      "pygments_lexer": "ipython3",
      "version": "3.9.13"
    }
  },
  "nbformat": 4,
  "nbformat_minor": 0
}
