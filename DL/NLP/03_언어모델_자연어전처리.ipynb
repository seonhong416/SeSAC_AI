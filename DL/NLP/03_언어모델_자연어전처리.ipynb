{
 "cells": [
  {
   "cell_type": "code",
   "execution_count": 1,
   "metadata": {},
   "outputs": [
    {
     "name": "stderr",
     "output_type": "stream",
     "text": [
      "[nltk_data] Downloading package punkt to\n",
      "[nltk_data]     C:\\Users\\SBAUser\\AppData\\Roaming\\nltk_data...\n",
      "[nltk_data]   Package punkt is already up-to-date!\n"
     ]
    },
    {
     "data": {
      "text/plain": [
       "True"
      ]
     },
     "execution_count": 1,
     "metadata": {},
     "output_type": "execute_result"
    }
   ],
   "source": [
    "# 토크나이징\n",
    "\n",
    "import nltk\n",
    "nltk.download('punkt')"
   ]
  },
  {
   "cell_type": "code",
   "execution_count": 2,
   "metadata": {},
   "outputs": [
    {
     "name": "stdout",
     "output_type": "stream",
     "text": [
      "['This', 'is', 'a', 'sample', 'sentence', 'for', 'tokenization', 'by', 'drwill']\n"
     ]
    }
   ],
   "source": [
    "text = 'This is a sample sentence for tokenization by drwill'\n",
    "\n",
    "tokens = nltk.word_tokenize(text)\n",
    "print(tokens)"
   ]
  },
  {
   "cell_type": "code",
   "execution_count": 5,
   "metadata": {},
   "outputs": [],
   "source": [
    "from konlpy.tag import *\n",
    "\n",
    "komoran = Komoran()"
   ]
  },
  {
   "cell_type": "code",
   "execution_count": 8,
   "metadata": {},
   "outputs": [
    {
     "name": "stdout",
     "output_type": "stream",
     "text": [
      "['한국어', '문장', '을', '토크', '나', '이징', '하', '는', '예제', '를', '보이', '어', '드리', 'ㅂ니다', '.']\n"
     ]
    }
   ],
   "source": [
    "text = '한국어 문장을 토크나이징 하는 예제를 보여드립니다.'\n",
    "\n",
    "tokens = komoran.morphs(text) # 형태소\n",
    "\n",
    "print(tokens)"
   ]
  },
  {
   "cell_type": "code",
   "execution_count": 9,
   "metadata": {},
   "outputs": [
    {
     "name": "stdout",
     "output_type": "stream",
     "text": [
      "['한국어', '문장', '토크', '이징', '예제']\n"
     ]
    }
   ],
   "source": [
    "print(komoran.nouns(text)) # 명사추출"
   ]
  },
  {
   "cell_type": "code",
   "execution_count": 12,
   "metadata": {},
   "outputs": [],
   "source": [
    "# 단어 사전(Word Dictionary)\n",
    "\n",
    "# 단어 사전 생성\n",
    "word_dict = {'나는' : 0, '세싹이' : 1, '낳은' : 2, '인공지능' : 3, '개발자' : 4, '입니다' : 5}\n",
    "\n",
    "sentence = ['나는', '개발자', '입니다']\n"
   ]
  },
  {
   "cell_type": "code",
   "execution_count": 13,
   "metadata": {},
   "outputs": [
    {
     "name": "stdout",
     "output_type": "stream",
     "text": [
      "[0, 4, 5]\n"
     ]
    }
   ],
   "source": [
    "# 정수 인코딩\n",
    "\n",
    "encoded = [word_dict[token] for token in sentence]\n",
    "print(encoded)"
   ]
  },
  {
   "cell_type": "code",
   "execution_count": 15,
   "metadata": {},
   "outputs": [
    {
     "name": "stdout",
     "output_type": "stream",
     "text": [
      "['나는', '개발자', '입니다']\n"
     ]
    }
   ],
   "source": [
    "# 정수 디코딩\n",
    "\n",
    "decoded = [key for key, val in word_dict.items() if val in encoded]\n",
    "print(decoded)"
   ]
  },
  {
   "cell_type": "code",
   "execution_count": 35,
   "metadata": {},
   "outputs": [],
   "source": [
    "# 패딩(padding)\n",
    "\n",
    "import numpy as np\n",
    "\n",
    "sentences = [\n",
    "                ['나는', '개발자', '입니다'],\n",
    "                ['저는', '취준생', '입니다'],\n",
    "                ['이것은', '간단한', '예제', '입니다']   \n",
    "            ]"
   ]
  },
  {
   "cell_type": "code",
   "execution_count": 36,
   "metadata": {},
   "outputs": [
    {
     "data": {
      "text/plain": [
       "{' ': 0,\n",
       " '나는': 1,\n",
       " '개발자': 2,\n",
       " '입니다': 3,\n",
       " '저는': 4,\n",
       " '취준생': 5,\n",
       " '이것은': 6,\n",
       " '간단한': 7,\n",
       " '예제': 8}"
      ]
     },
     "execution_count": 36,
     "metadata": {},
     "output_type": "execute_result"
    }
   ],
   "source": [
    "# 단어 사전 생성\n",
    "word_dict = {' ' : 0}\n",
    "idx = 1\n",
    "for sent in sentences :\n",
    "    for word in sent :\n",
    "        if word not in word_dict.keys() :\n",
    "            word_dict[word] = idx\n",
    "            idx += 1\n",
    "word_dict"
   ]
  },
  {
   "cell_type": "code",
   "execution_count": 42,
   "metadata": {},
   "outputs": [],
   "source": [
    "# 정수 인코딩 >> 문장을 벡터화(text >> vector)\n",
    "\n",
    "# 문장 길이 제한\n",
    "max_len = 5\n",
    "\n",
    "x = np.zeros((len(sentences), max_len))"
   ]
  },
  {
   "cell_type": "code",
   "execution_count": 43,
   "metadata": {},
   "outputs": [
    {
     "data": {
      "text/plain": [
       "array([[1., 2., 3., 0., 0.],\n",
       "       [4., 5., 3., 0., 0.],\n",
       "       [6., 7., 8., 3., 0.]])"
      ]
     },
     "execution_count": 43,
     "metadata": {},
     "output_type": "execute_result"
    }
   ],
   "source": [
    "for i, sent in enumerate(sentences) :\n",
    "    for j, word in enumerate(sent[:max_len]) :\n",
    "        x[i,j] = word_dict[word]\n",
    "x"
   ]
  },
  {
   "cell_type": "code",
   "execution_count": 65,
   "metadata": {},
   "outputs": [
    {
     "data": {
      "text/plain": [
       "array([[1., 2., 3., 0., 0.],\n",
       "       [4., 5., 3., 0., 0.],\n",
       "       [6., 7., 8., 3., 0.]])"
      ]
     },
     "execution_count": 65,
     "metadata": {},
     "output_type": "execute_result"
    }
   ],
   "source": [
    "# 패딩(padding) \n",
    "np.pad(x, ((0,0), (0, max_len - x.shape[1])), 'constant',  constant_values=word_dict[' '])\n",
    "# 왼쪽(0,0) > 위아래 패딩할지 기준위치\n",
    "# 오른쪽(0, max_len-x.shape[1]) > 좌우 패딩할지 기준위치 (1,0) 으로 하면 왼쪽으로 한줄 패딩됨\n",
    "\n",
    "# print(x)"
   ]
  },
  {
   "cell_type": "code",
   "execution_count": 67,
   "metadata": {},
   "outputs": [],
   "source": [
    "sent = [\n",
    "        ['나는', '개발자', '입니다'],\n",
    "        ['저는', '취준생', '입니다'],\n",
    "        ['이것은', '간단한', '예제', '입니다']   \n",
    "        ]"
   ]
  },
  {
   "cell_type": "code",
   "execution_count": 68,
   "metadata": {},
   "outputs": [],
   "source": [
    "# 원 핫 인코딩\n",
    "\n",
    "# 단어 사전 생성\n",
    "\n",
    "word_dict = {'apple' : 0, 'banana':1, 'orange':2}\n",
    "\n",
    "# 입력 텍스트\n",
    "text = 'apple orange banana'"
   ]
  },
  {
   "cell_type": "code",
   "execution_count": 69,
   "metadata": {},
   "outputs": [
    {
     "name": "stdout",
     "output_type": "stream",
     "text": [
      "[[1, 0, 0], [0, 0, 1], [0, 1, 0]]\n"
     ]
    }
   ],
   "source": [
    "# 각 단어를 one-hot encoding 수행\n",
    "\n",
    "one_hot = []\n",
    "\n",
    "for word in text.split() :\n",
    "    vector = [0] * len(word_dict)\n",
    "    vector[word_dict[word]] = 1\n",
    "    one_hot.append(vector)\n",
    "    \n",
    "print(one_hot)"
   ]
  },
  {
   "cell_type": "code",
   "execution_count": 72,
   "metadata": {},
   "outputs": [
    {
     "data": {
      "text/plain": [
       "[['나는', '개발자', '입니다'], ['저는', '취준생', '입니다'], ['이것은', '간단한', '예제', '입니다']]"
      ]
     },
     "execution_count": 72,
     "metadata": {},
     "output_type": "execute_result"
    }
   ],
   "source": [
    "# 임베딩 (word2vec)\n",
    "\n",
    "from gensim.models import Word2Vec\n",
    "\n",
    "sentences"
   ]
  },
  {
   "cell_type": "code",
   "execution_count": 73,
   "metadata": {},
   "outputs": [],
   "source": [
    "model = Word2Vec(sentences, vector_size = 4, window=2, min_count=1)\n",
    "\n",
    "# vector_size : 벡터 차원\n",
    "# window : 주변 단어 윈도우 크기\n",
    "# min_count : 최소 등장 횟수"
   ]
  },
  {
   "cell_type": "code",
   "execution_count": 79,
   "metadata": {},
   "outputs": [
    {
     "name": "stdout",
     "output_type": "stream",
     "text": [
      "7\n"
     ]
    }
   ],
   "source": [
    "print(model.wv.key_to_index['나는'])"
   ]
  },
  {
   "cell_type": "code",
   "execution_count": 77,
   "metadata": {},
   "outputs": [
    {
     "name": "stdout",
     "output_type": "stream",
     "text": [
      "[-0.18804094 -0.09840259 -0.18778956 -0.02325106]\n"
     ]
    }
   ],
   "source": [
    "print(model.wv.get_vector('나는'))\n",
    "# vector_size=4 고정했기 때문 "
   ]
  },
  {
   "cell_type": "code",
   "execution_count": null,
   "metadata": {},
   "outputs": [],
   "source": []
  }
 ],
 "metadata": {
  "kernelspec": {
   "display_name": "Python 3",
   "language": "python",
   "name": "python3"
  },
  "language_info": {
   "codemirror_mode": {
    "name": "ipython",
    "version": 3
   },
   "file_extension": ".py",
   "mimetype": "text/x-python",
   "name": "python",
   "nbconvert_exporter": "python",
   "pygments_lexer": "ipython3",
   "version": "3.9.13"
  },
  "orig_nbformat": 4
 },
 "nbformat": 4,
 "nbformat_minor": 2
}
