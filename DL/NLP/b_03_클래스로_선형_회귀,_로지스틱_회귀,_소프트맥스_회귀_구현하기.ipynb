{
  "cells": [
    {
      "cell_type": "markdown",
      "metadata": {
        "id": "LZasfoLHmGnE"
      },
      "source": [
        "# 모델을 클래스로 구현하기"
      ]
    },
    {
      "cell_type": "markdown",
      "metadata": {
        "id": "ZTLlOtT2mf1N"
      },
      "source": [
        "단순 선형 회귀 모델은 쉽게 구현하면 다음과 같습니다.\n",
        "\n"
      ]
    },
    {
      "cell_type": "markdown",
      "metadata": {
        "id": "-Es9gAacmKOE"
      },
      "source": [
        "```\n",
        "# 모델을 선언 및 초기화. 단순 선형 회귀이므로 input_dim=1, output_dim=1.\n",
        "model = nn.Linear(1,1)\n",
        "```"
      ]
    },
    {
      "cell_type": "markdown",
      "metadata": {
        "id": "3XFCDJJ4mj6g"
      },
      "source": [
        "이를 클래스로 구현하면 다음과 같습니다."
      ]
    },
    {
      "cell_type": "markdown",
      "metadata": {
        "id": "t4WFWn5umMFr"
      },
      "source": [
        "```\n",
        "class LinearRegressionModel(nn.Module): # torch.nn.Module을 상속받는 파이썬 클래스\n",
        "    def __init__(self): #\n",
        "        super().__init__()\n",
        "        self.linear = nn.Linear(1, 1) # 단순 선형 회귀이므로 input_dim=1, output_dim=1.\n",
        "\n",
        "    def forward(self, x):\n",
        "        return self.linear(x)\n",
        "```"
      ]
    },
    {
      "cell_type": "markdown",
      "metadata": {
        "id": "ObWuW2HOmOBG"
      },
      "source": [
        "```\n",
        "model = LinearRegressionModel()\n",
        "```"
      ]
    },
    {
      "cell_type": "markdown",
      "metadata": {
        "id": "DWQYE_WVmQQ6"
      },
      "source": [
        "위와 같은 클래스를 사용한 모델 구현 형식은 대부분의 파이토치 구현체에서 사용하고 있는 방식으로 반드시 숙지할 필요가 있습니다.\n",
        "\n",
        "클래스(class) 형태의 모델은 nn.Module 을 상속받습니다. 그리고 __init__()에서 모델의 구조와 동작을 정의하는 생성자를 정의합니다. 이는 파이썬에서 객체가 갖는 속성값을 초기화하는 역할로, 객체가 생성될 때 자동으호 호출됩니다. super() 함수를 부르면 여기서 만든 클래스는 nn.Module 클래스의 속성들을 가지고 초기화 됩니다. foward() 함수는 모델이 학습데이터를 입력받아서 forward 연산을 진행시키는 함수입니다. 이 forward() 함수는 model 객체를 데이터와 함께 호출하면 자동으로 실행이됩니다. 예를 들어 model이란 이름의 객체를 생성 후, model(입력 데이터)와 같은 형식으로 객체를 호출하면 자동으로 forward 연산이 수행됩니다.\n",
        "\n",
        "$H(x)$ 식에 입력 $x$로부터 예측된 $y$를 얻는 것을 forward 연산이라고 합니다.  "
      ]
    },
    {
      "cell_type": "markdown",
      "metadata": {
        "id": "7ieLo5gxdVdy"
      },
      "source": [
        "# 단순선형회귀 클래스를 이용한 구현"
      ]
    },
    {
      "cell_type": "code",
      "execution_count": 1,
      "metadata": {
        "id": "jSZsmskXdYfU"
      },
      "outputs": [],
      "source": [
        "import torch\n",
        "import torch.nn as nn\n",
        "import torch.nn.functional as F"
      ]
    },
    {
      "cell_type": "code",
      "execution_count": 2,
      "metadata": {
        "colab": {
          "base_uri": "https://localhost:8080/"
        },
        "id": "om33lNYKdcjt",
        "outputId": "4e928fb4-7f37-4a19-9474-cca3f5e349d0"
      },
      "outputs": [
        {
          "data": {
            "text/plain": [
              "<torch._C.Generator at 0x2057088d170>"
            ]
          },
          "execution_count": 2,
          "metadata": {},
          "output_type": "execute_result"
        }
      ],
      "source": [
        "torch.manual_seed(1)"
      ]
    },
    {
      "cell_type": "code",
      "execution_count": 3,
      "metadata": {
        "id": "5EisKbXIdd_d"
      },
      "outputs": [],
      "source": [
        "# 데이터\n",
        "x_train = torch.FloatTensor([[1], [2], [3]])\n",
        "y_train = torch.FloatTensor([[2], [4], [6]])"
      ]
    },
    {
      "cell_type": "code",
      "execution_count": 4,
      "metadata": {
        "id": "DfecFosEdfhI"
      },
      "outputs": [],
      "source": [
        "class LinearRegressionModel(nn.Module):\n",
        "    def __init__(self):\n",
        "        super().__init__()\n",
        "        self.linear = nn.Linear(1, 1)\n",
        "\n",
        "    def forward(self, x):\n",
        "        return self.linear(x)"
      ]
    },
    {
      "cell_type": "code",
      "execution_count": 5,
      "metadata": {
        "id": "PuJ4Fv9adgsg"
      },
      "outputs": [],
      "source": [
        "model = LinearRegressionModel()"
      ]
    },
    {
      "cell_type": "code",
      "execution_count": 6,
      "metadata": {
        "id": "pdxO3RVpdh6A"
      },
      "outputs": [],
      "source": [
        "# optimizer 설정. 경사 하강법 SGD를 사용하고 learning rate를 의미하는 lr은 0.01\n",
        "optimizer = torch.optim.SGD(model.parameters(), lr=0.01) "
      ]
    },
    {
      "cell_type": "code",
      "execution_count": 7,
      "metadata": {
        "colab": {
          "base_uri": "https://localhost:8080/"
        },
        "id": "OOlTdqmvdjmL",
        "outputId": "5cef01a7-d9aa-47be-f02e-43a9f4a8093c"
      },
      "outputs": [
        {
          "name": "stdout",
          "output_type": "stream",
          "text": [
            "Epoch  100/2000 Cost: 0.002804\n",
            "Epoch  200/2000 Cost: 0.001733\n",
            "Epoch  300/2000 Cost: 0.001071\n",
            "Epoch  400/2000 Cost: 0.000662\n",
            "Epoch  500/2000 Cost: 0.000409\n",
            "Epoch  600/2000 Cost: 0.000253\n",
            "Epoch  700/2000 Cost: 0.000156\n",
            "Epoch  800/2000 Cost: 0.000096\n",
            "Epoch  900/2000 Cost: 0.000060\n",
            "Epoch 1000/2000 Cost: 0.000037\n",
            "Epoch 1100/2000 Cost: 0.000023\n",
            "Epoch 1200/2000 Cost: 0.000014\n",
            "Epoch 1300/2000 Cost: 0.000009\n",
            "Epoch 1400/2000 Cost: 0.000005\n",
            "Epoch 1500/2000 Cost: 0.000003\n",
            "Epoch 1600/2000 Cost: 0.000002\n",
            "Epoch 1700/2000 Cost: 0.000001\n",
            "Epoch 1800/2000 Cost: 0.000001\n",
            "Epoch 1900/2000 Cost: 0.000000\n",
            "Epoch 2000/2000 Cost: 0.000000\n"
          ]
        }
      ],
      "source": [
        "# 전체 훈련 데이터에 대해 경사 하강법을 2,000회 반복\n",
        "nb_epochs = 2000\n",
        "for epoch in range(1, nb_epochs+1):\n",
        "\n",
        "    # H(x) 계산\n",
        "    prediction = model(x_train)\n",
        "\n",
        "    # 파이토치에서 제공하는 평균 제곱 오차 함수\n",
        "    cost = F.mse_loss(prediction, y_train) \n",
        "\n",
        "    # cost로 H(x) 개선하는 부분\n",
        "    # gradient를 0으로 초기화\n",
        "    optimizer.zero_grad()\n",
        "    # 비용 함수를 미분하여 gradient 계산\n",
        "    cost.backward() # backward 연산\n",
        "    # W와 b를 업데이트\n",
        "    optimizer.step()\n",
        "\n",
        "    if epoch % 100 == 0:\n",
        "    # 100번마다 로그 출력\n",
        "      print('Epoch {:4d}/{} Cost: {:.6f}'.format(\n",
        "          epoch, nb_epochs, cost.item()\n",
        "      ))"
      ]
    },
    {
      "cell_type": "code",
      "execution_count": 8,
      "metadata": {
        "colab": {
          "base_uri": "https://localhost:8080/"
        },
        "id": "OFqMg3ezdoLL",
        "outputId": "31bb5e0d-895e-4bc6-89ac-1983170893bd"
      },
      "outputs": [
        {
          "name": "stdout",
          "output_type": "stream",
          "text": [
            "tensor([[2.0008],\n",
            "        [4.0002],\n",
            "        [5.9995]], grad_fn=<AddmmBackward0>)\n"
          ]
        }
      ],
      "source": [
        "input = torch.FloatTensor([[1], [2], [3]])\n",
        "\n",
        "output = model(input)\n",
        "print(output)"
      ]
    },
    {
      "cell_type": "code",
      "execution_count": 9,
      "metadata": {
        "colab": {
          "base_uri": "https://localhost:8080/"
        },
        "id": "wC4df0y8d11E",
        "outputId": "a5fd4f50-c93f-43fb-9fa0-c33159c0872d"
      },
      "outputs": [
        {
          "name": "stdout",
          "output_type": "stream",
          "text": [
            "tensor([[ 4.0002],\n",
            "        [ 7.9989],\n",
            "        [11.9976]], grad_fn=<AddmmBackward0>)\n"
          ]
        }
      ],
      "source": [
        "input = torch.FloatTensor([[2], [4], [6]])\n",
        "\n",
        "output = model(input)\n",
        "print(output)"
      ]
    },
    {
      "cell_type": "markdown",
      "metadata": {
        "id": "I8h0pt5wlsKM"
      },
      "source": [
        "# 다중선형회귀 클래스를 이용한 구현"
      ]
    },
    {
      "cell_type": "code",
      "execution_count": 10,
      "metadata": {
        "id": "HwXbdy5-ltiT"
      },
      "outputs": [],
      "source": [
        "import torch\n",
        "import torch.nn as nn\n",
        "import torch.nn.functional as F"
      ]
    },
    {
      "cell_type": "code",
      "execution_count": 11,
      "metadata": {
        "colab": {
          "base_uri": "https://localhost:8080/"
        },
        "id": "gv02eBIplwf7",
        "outputId": "92a96f24-9409-47c9-8401-2abca7219c53"
      },
      "outputs": [
        {
          "data": {
            "text/plain": [
              "<torch._C.Generator at 0x2057088d170>"
            ]
          },
          "execution_count": 11,
          "metadata": {},
          "output_type": "execute_result"
        }
      ],
      "source": [
        "torch.manual_seed(1)"
      ]
    },
    {
      "cell_type": "code",
      "execution_count": 12,
      "metadata": {
        "id": "j8rVv1culx1L"
      },
      "outputs": [],
      "source": [
        "# 데이터\n",
        "x_train = torch.FloatTensor([[73, 80, 75],\n",
        "                             [93, 88, 93],\n",
        "                             [89, 91, 90],\n",
        "                             [96, 98, 100],\n",
        "                             [73, 66, 70]])\n",
        "y_train = torch.FloatTensor([[152], [185], [180], [196], [142]])"
      ]
    },
    {
      "cell_type": "code",
      "execution_count": 13,
      "metadata": {
        "id": "l9lEZG6nlzJk"
      },
      "outputs": [],
      "source": [
        "class MultivariateLinearRegressionModel(nn.Module):\n",
        "    def __init__(self):\n",
        "        super().__init__()\n",
        "        self.linear = nn.Linear(3, 1) # 다중 선형 회귀이므로 input_dim=3, output_dim=1.\n",
        "\n",
        "    def forward(self, x):\n",
        "        return self.linear(x)"
      ]
    },
    {
      "cell_type": "code",
      "execution_count": 14,
      "metadata": {
        "id": "CKDk50Jbl0bF"
      },
      "outputs": [],
      "source": [
        "model = MultivariateLinearRegressionModel()"
      ]
    },
    {
      "cell_type": "code",
      "execution_count": 15,
      "metadata": {
        "id": "nuL4vkbwl2D7"
      },
      "outputs": [],
      "source": [
        "optimizer = torch.optim.SGD(model.parameters(), lr=1e-5) "
      ]
    },
    {
      "cell_type": "code",
      "execution_count": 16,
      "metadata": {
        "colab": {
          "base_uri": "https://localhost:8080/"
        },
        "id": "ZWuxCO0Sl3dP",
        "outputId": "eb160c8b-432d-4086-ef4a-4b6d864e2507"
      },
      "outputs": [
        {
          "name": "stdout",
          "output_type": "stream",
          "text": [
            "Epoch  100/2000 Cost: 0.226011\n",
            "Epoch  200/2000 Cost: 0.223930\n",
            "Epoch  300/2000 Cost: 0.221953\n",
            "Epoch  400/2000 Cost: 0.220074\n",
            "Epoch  500/2000 Cost: 0.218288\n",
            "Epoch  600/2000 Cost: 0.216593\n",
            "Epoch  700/2000 Cost: 0.214968\n",
            "Epoch  800/2000 Cost: 0.213431\n",
            "Epoch  900/2000 Cost: 0.211972\n",
            "Epoch 1000/2000 Cost: 0.210572\n",
            "Epoch 1100/2000 Cost: 0.209247\n",
            "Epoch 1200/2000 Cost: 0.207987\n",
            "Epoch 1300/2000 Cost: 0.206780\n",
            "Epoch 1400/2000 Cost: 0.205629\n",
            "Epoch 1500/2000 Cost: 0.204536\n",
            "Epoch 1600/2000 Cost: 0.203490\n",
            "Epoch 1700/2000 Cost: 0.202495\n",
            "Epoch 1800/2000 Cost: 0.201550\n",
            "Epoch 1900/2000 Cost: 0.200642\n",
            "Epoch 2000/2000 Cost: 0.199783\n"
          ]
        }
      ],
      "source": [
        "nb_epochs = 2000\n",
        "for epoch in range(1, nb_epochs+1):\n",
        "\n",
        "    # H(x) 계산\n",
        "    prediction = model(x_train)\n",
        "    # model(x_train)은 model.forward(x_train)와 동일함.\n",
        "\n",
        "    # cost 계산\n",
        "    cost = F.mse_loss(prediction, y_train) # <== 파이토치에서 제공하는 평균 제곱 오차 함수\n",
        "\n",
        "    # gradient를 0으로 초기화\n",
        "    optimizer.zero_grad()\n",
        "    # 비용 함수를 미분하여 gradient 계산\n",
        "    cost.backward()\n",
        "    # W와 b를 업데이트\n",
        "    optimizer.step()\n",
        "\n",
        "    if epoch % 100 == 0:\n",
        "    # 100번마다 로그 출력\n",
        "      print('Epoch {:4d}/{} Cost: {:.6f}'.format(\n",
        "          epoch, nb_epochs, cost.item()\n",
        "      ))"
      ]
    },
    {
      "cell_type": "code",
      "execution_count": 17,
      "metadata": {
        "colab": {
          "base_uri": "https://localhost:8080/"
        },
        "id": "2eDXoM29l5U3",
        "outputId": "fcd5be07-feb3-48dc-eb4d-77a6fb6248c7"
      },
      "outputs": [
        {
          "name": "stdout",
          "output_type": "stream",
          "text": [
            "tensor([[151.2305],\n",
            "        [184.8005],\n",
            "        [180.5203],\n",
            "        [196.3101],\n",
            "        [141.9926]], grad_fn=<AddmmBackward0>)\n"
          ]
        }
      ],
      "source": [
        "input = torch.FloatTensor([[73, 80, 75],\n",
        "                             [93, 88, 93],\n",
        "                             [89, 91, 90],\n",
        "                             [96, 98, 100],\n",
        "                             [73, 66, 70]])\n",
        "\n",
        "output = model(input)\n",
        "print(output)"
      ]
    },
    {
      "cell_type": "markdown",
      "metadata": {
        "id": "Z_KvdZzJbSd4"
      },
      "source": [
        "# 로지스틱 회귀 클래스를 이용한 구현"
      ]
    },
    {
      "cell_type": "code",
      "execution_count": 18,
      "metadata": {
        "id": "zxfcxJ3jQQMB"
      },
      "outputs": [],
      "source": [
        "import numpy as np\n",
        "import torch\n",
        "import torch.nn as nn\n",
        "import torch.nn.functional as F\n",
        "import torch.optim as optim"
      ]
    },
    {
      "cell_type": "code",
      "execution_count": 19,
      "metadata": {
        "colab": {
          "base_uri": "https://localhost:8080/"
        },
        "id": "8-YBdUu2QV21",
        "outputId": "c31c4452-6166-4396-9c91-7cee2d7a1072"
      },
      "outputs": [
        {
          "data": {
            "text/plain": [
              "<torch._C.Generator at 0x2057088d170>"
            ]
          },
          "execution_count": 19,
          "metadata": {},
          "output_type": "execute_result"
        }
      ],
      "source": [
        "torch.manual_seed(1)"
      ]
    },
    {
      "cell_type": "code",
      "execution_count": 20,
      "metadata": {
        "id": "_cwyB6ylQXLv"
      },
      "outputs": [],
      "source": [
        "x_data = [[1, 2], [2, 3], [3, 1], [4, 3], [5, 3], [6, 2]]\n",
        "y_data = [[0], [0], [0], [1], [1], [1]]\n",
        "\n",
        "x_train = torch.FloatTensor(x_data)\n",
        "y_train = torch.FloatTensor(y_data)"
      ]
    },
    {
      "cell_type": "code",
      "execution_count": 21,
      "metadata": {
        "id": "c-WpvDYnQYu0"
      },
      "outputs": [],
      "source": [
        "class BinaryClassifier(nn.Module):\n",
        "    def __init__(self):\n",
        "        super().__init__()\n",
        "        # nn.Linear에서 앞의 인자는 input의 크기, 뒤의 인자는 output의 크기를 의미한다.\n",
        "        self.linear = nn.Linear(2, 1)\n",
        "        self.sigmoid = nn.Sigmoid()\n",
        "\n",
        "    def forward(self, x):\n",
        "        return self.sigmoid(self.linear(x))"
      ]
    },
    {
      "cell_type": "code",
      "execution_count": 22,
      "metadata": {
        "id": "noVY7DY_Qaj3"
      },
      "outputs": [],
      "source": [
        "model = BinaryClassifier()"
      ]
    },
    {
      "cell_type": "code",
      "execution_count": 23,
      "metadata": {
        "colab": {
          "base_uri": "https://localhost:8080/"
        },
        "id": "PIFSOQhrQb7s",
        "outputId": "33d05a78-afda-49da-8732-79ab6f993757"
      },
      "outputs": [
        {
          "name": "stdout",
          "output_type": "stream",
          "text": [
            "Epoch   20/1000 Cost: 0.596826 Accuracy 83.33%\n",
            "Epoch   40/1000 Cost: 0.405330 Accuracy 83.33%\n",
            "Epoch   60/1000 Cost: 0.249201 Accuracy 83.33%\n",
            "Epoch   80/1000 Cost: 0.159492 Accuracy 100.00%\n",
            "Epoch  100/1000 Cost: 0.135187 Accuracy 100.00%\n",
            "Epoch  120/1000 Cost: 0.119004 Accuracy 100.00%\n",
            "Epoch  140/1000 Cost: 0.106340 Accuracy 100.00%\n",
            "Epoch  160/1000 Cost: 0.096161 Accuracy 100.00%\n",
            "Epoch  180/1000 Cost: 0.087799 Accuracy 100.00%\n",
            "Epoch  200/1000 Cost: 0.080806 Accuracy 100.00%\n",
            "Epoch  220/1000 Cost: 0.074868 Accuracy 100.00%\n",
            "Epoch  240/1000 Cost: 0.069763 Accuracy 100.00%\n",
            "Epoch  260/1000 Cost: 0.065325 Accuracy 100.00%\n",
            "Epoch  280/1000 Cost: 0.061429 Accuracy 100.00%\n",
            "Epoch  300/1000 Cost: 0.057982 Accuracy 100.00%\n",
            "Epoch  320/1000 Cost: 0.054909 Accuracy 100.00%\n",
            "Epoch  340/1000 Cost: 0.052152 Accuracy 100.00%\n",
            "Epoch  360/1000 Cost: 0.049664 Accuracy 100.00%\n",
            "Epoch  380/1000 Cost: 0.047407 Accuracy 100.00%\n",
            "Epoch  400/1000 Cost: 0.045350 Accuracy 100.00%\n",
            "Epoch  420/1000 Cost: 0.043466 Accuracy 100.00%\n",
            "Epoch  440/1000 Cost: 0.041736 Accuracy 100.00%\n",
            "Epoch  460/1000 Cost: 0.040140 Accuracy 100.00%\n",
            "Epoch  480/1000 Cost: 0.038664 Accuracy 100.00%\n",
            "Epoch  500/1000 Cost: 0.037294 Accuracy 100.00%\n",
            "Epoch  520/1000 Cost: 0.036020 Accuracy 100.00%\n",
            "Epoch  540/1000 Cost: 0.034830 Accuracy 100.00%\n",
            "Epoch  560/1000 Cost: 0.033718 Accuracy 100.00%\n",
            "Epoch  580/1000 Cost: 0.032676 Accuracy 100.00%\n",
            "Epoch  600/1000 Cost: 0.031697 Accuracy 100.00%\n",
            "Epoch  620/1000 Cost: 0.030775 Accuracy 100.00%\n",
            "Epoch  640/1000 Cost: 0.029906 Accuracy 100.00%\n",
            "Epoch  660/1000 Cost: 0.029086 Accuracy 100.00%\n",
            "Epoch  680/1000 Cost: 0.028310 Accuracy 100.00%\n",
            "Epoch  700/1000 Cost: 0.027574 Accuracy 100.00%\n",
            "Epoch  720/1000 Cost: 0.026876 Accuracy 100.00%\n",
            "Epoch  740/1000 Cost: 0.026213 Accuracy 100.00%\n",
            "Epoch  760/1000 Cost: 0.025582 Accuracy 100.00%\n",
            "Epoch  780/1000 Cost: 0.024982 Accuracy 100.00%\n",
            "Epoch  800/1000 Cost: 0.024408 Accuracy 100.00%\n",
            "Epoch  820/1000 Cost: 0.023861 Accuracy 100.00%\n",
            "Epoch  840/1000 Cost: 0.023338 Accuracy 100.00%\n",
            "Epoch  860/1000 Cost: 0.022838 Accuracy 100.00%\n",
            "Epoch  880/1000 Cost: 0.022359 Accuracy 100.00%\n",
            "Epoch  900/1000 Cost: 0.021900 Accuracy 100.00%\n",
            "Epoch  920/1000 Cost: 0.021459 Accuracy 100.00%\n",
            "Epoch  940/1000 Cost: 0.021036 Accuracy 100.00%\n",
            "Epoch  960/1000 Cost: 0.020629 Accuracy 100.00%\n",
            "Epoch  980/1000 Cost: 0.020238 Accuracy 100.00%\n",
            "Epoch 1000/1000 Cost: 0.019861 Accuracy 100.00%\n"
          ]
        }
      ],
      "source": [
        "# optimizer 설정\n",
        "optimizer = optim.SGD(model.parameters(), lr=1)\n",
        "\n",
        "nb_epochs = 1000\n",
        "for epoch in range(1, nb_epochs + 1):\n",
        "\n",
        "    # H(x) 계산\n",
        "    hypothesis = model(x_train)\n",
        "\n",
        "    # cost 계산\n",
        "    cost = F.binary_cross_entropy(hypothesis, y_train)\n",
        "\n",
        "    # cost로 H(x) 개선\n",
        "    optimizer.zero_grad()\n",
        "    cost.backward()\n",
        "    optimizer.step()\n",
        "\n",
        "    # 20번마다 로그 출력\n",
        "    if epoch % 20 == 0:\n",
        "      prediction = hypothesis >= torch.FloatTensor([0.5]) # 예측값이 0.5를 넘으면 True로 간주\n",
        "      correct_prediction = prediction.float() == y_train # 실제값과 일치하는 경우만 True로 간주\n",
        "      accuracy = correct_prediction.sum().item() / len(correct_prediction) # 정확도를 계산\n",
        "      print('Epoch {:4d}/{} Cost: {:.6f} Accuracy {:2.2f}%'.format( # 각 에포크마다 정확도를 출력\n",
        "          epoch, nb_epochs, cost.item(), accuracy * 100,\n",
        "      ))"
      ]
    },
    {
      "cell_type": "code",
      "execution_count": 24,
      "metadata": {
        "colab": {
          "base_uri": "https://localhost:8080/"
        },
        "id": "VTymimqGZu1G",
        "outputId": "7c2c143e-db06-4a6b-a401-5daaf41c95b0"
      },
      "outputs": [
        {
          "name": "stdout",
          "output_type": "stream",
          "text": [
            "tensor([[False],\n",
            "        [False],\n",
            "        [False],\n",
            "        [ True],\n",
            "        [ True],\n",
            "        [ True]])\n"
          ]
        }
      ],
      "source": [
        "input = [[1, 2], [2, 3], [3, 1], [4, 3], [5, 3], [6, 2]]\n",
        "input_tensor = torch.Tensor(input)\n",
        "\n",
        "output = model(input_tensor)\n",
        "prediction = output >= torch.FloatTensor([0.5])\n",
        "print(prediction)"
      ]
    },
    {
      "cell_type": "code",
      "execution_count": 25,
      "metadata": {
        "colab": {
          "base_uri": "https://localhost:8080/"
        },
        "id": "Nv_SJB49ayF9",
        "outputId": "cd5a0d4f-52c3-4b4a-8fd1-1323f3dfd562"
      },
      "outputs": [
        {
          "name": "stdout",
          "output_type": "stream",
          "text": [
            "[[0.]\n",
            " [0.]\n",
            " [0.]\n",
            " [1.]\n",
            " [1.]\n",
            " [1.]]\n"
          ]
        }
      ],
      "source": [
        "y_pred = np.zeros(output.shape)\n",
        "y_pred[np.where(output >= 0.5)] = 1\n",
        "print(y_pred)"
      ]
    },
    {
      "cell_type": "markdown",
      "metadata": {
        "id": "UJvuJKMLbrFL"
      },
      "source": [
        "# 클래스로 소프트맥스 회귀 구현하기"
      ]
    },
    {
      "cell_type": "code",
      "execution_count": 26,
      "metadata": {
        "id": "zq-RcabqbtCK"
      },
      "outputs": [],
      "source": [
        "import numpy as np\n",
        "import torch\n",
        "import torch.nn as nn\n",
        "import torch.nn.functional as F\n",
        "import torch.optim as optim"
      ]
    },
    {
      "cell_type": "code",
      "execution_count": 27,
      "metadata": {
        "colab": {
          "base_uri": "https://localhost:8080/"
        },
        "id": "DzEasxhAbybT",
        "outputId": "f3424007-f962-48c1-c481-d989b5026d02"
      },
      "outputs": [
        {
          "data": {
            "text/plain": [
              "<torch._C.Generator at 0x2057088d170>"
            ]
          },
          "execution_count": 27,
          "metadata": {},
          "output_type": "execute_result"
        }
      ],
      "source": [
        "torch.manual_seed(1)"
      ]
    },
    {
      "cell_type": "code",
      "execution_count": 28,
      "metadata": {
        "id": "PoUFeYExb0k0"
      },
      "outputs": [],
      "source": [
        "x_train = [[1, 2, 1, 1],\n",
        "           [2, 1, 3, 2],\n",
        "           [3, 1, 3, 4],\n",
        "           [4, 1, 5, 5],\n",
        "           [1, 7, 5, 5],\n",
        "           [1, 2, 5, 6],\n",
        "           [1, 6, 6, 6],\n",
        "           [1, 7, 7, 7]]\n",
        "y_train = [2, 2, 2, 1, 1, 1, 0, 0]\n",
        "\n",
        "x_train = torch.FloatTensor(x_train)\n",
        "y_train = torch.LongTensor(y_train)"
      ]
    },
    {
      "cell_type": "code",
      "execution_count": 29,
      "metadata": {
        "id": "Upm3n2jvb7qG"
      },
      "outputs": [],
      "source": [
        "class SoftmaxClassifierModel(nn.Module):\n",
        "    def __init__(self):\n",
        "        super().__init__()\n",
        "        self.linear = nn.Linear(4, 3) # Input이 4, Output이 3!\n",
        "\n",
        "    def forward(self, x):\n",
        "        return self.linear(x)"
      ]
    },
    {
      "cell_type": "code",
      "execution_count": 30,
      "metadata": {
        "id": "JvsesJn1b8rI"
      },
      "outputs": [],
      "source": [
        "model = SoftmaxClassifierModel()"
      ]
    },
    {
      "cell_type": "code",
      "execution_count": 31,
      "metadata": {
        "colab": {
          "base_uri": "https://localhost:8080/"
        },
        "id": "_g67PMGhb_Ed",
        "outputId": "d5ef2a0e-8e92-4976-8dac-5cd69cb5834b"
      },
      "outputs": [
        {
          "name": "stdout",
          "output_type": "stream",
          "text": [
            "Epoch  100/1000 Cost: 0.714870\n",
            "Epoch  200/1000 Cost: 0.633744\n",
            "Epoch  300/1000 Cost: 0.576285\n",
            "Epoch  400/1000 Cost: 0.525854\n",
            "Epoch  500/1000 Cost: 0.478306\n",
            "Epoch  600/1000 Cost: 0.432054\n",
            "Epoch  700/1000 Cost: 0.386326\n",
            "Epoch  800/1000 Cost: 0.340779\n",
            "Epoch  900/1000 Cost: 0.295738\n",
            "Epoch 1000/1000 Cost: 0.255139\n"
          ]
        }
      ],
      "source": [
        "# optimizer 설정\n",
        "optimizer = optim.SGD(model.parameters(), lr=0.1)\n",
        "\n",
        "nb_epochs = 1000\n",
        "for epoch in range(1, nb_epochs + 1):\n",
        "\n",
        "    # H(x) 계산\n",
        "    prediction = model(x_train)\n",
        "\n",
        "    # cost 계산\n",
        "    cost = F.cross_entropy(prediction, y_train)\n",
        "\n",
        "    # cost로 H(x) 개선\n",
        "    optimizer.zero_grad()\n",
        "    cost.backward()\n",
        "    optimizer.step()\n",
        "\n",
        "    # 20번마다 로그 출력\n",
        "    if epoch % 100 == 0:\n",
        "        print('Epoch {:4d}/{} Cost: {:.6f}'.format(\n",
        "            epoch, nb_epochs, cost.item()\n",
        "        ))"
      ]
    },
    {
      "cell_type": "code",
      "execution_count": 32,
      "metadata": {
        "colab": {
          "base_uri": "https://localhost:8080/"
        },
        "id": "of8PuWmncBF1",
        "outputId": "e85c07e6-6575-48cb-99df-106fc09fb3cd"
      },
      "outputs": [
        {
          "name": "stdout",
          "output_type": "stream",
          "text": [
            "tensor([[-4.2606, -0.1446,  4.7014],\n",
            "        [-2.8552,  0.7746,  2.6069],\n",
            "        [-6.9495,  3.7046,  4.6549],\n",
            "        [-5.8910,  4.4509,  3.0981],\n",
            "        [ 1.3698,  2.1889, -1.3623],\n",
            "        [ 2.6140,  4.3142, -4.3078],\n",
            "        [ 3.5578,  3.1613, -4.0880],\n",
            "        [ 5.0522,  3.7879, -5.7384]], grad_fn=<AddmmBackward0>)\n"
          ]
        }
      ],
      "source": [
        "input = [[1, 2, 1, 1],\n",
        "           [2, 1, 3, 2],\n",
        "           [3, 1, 3, 4],\n",
        "           [4, 1, 5, 5],\n",
        "           [1, 7, 5, 5],\n",
        "           [1, 2, 5, 6],\n",
        "           [1, 6, 6, 6],\n",
        "           [1, 7, 7, 7]]\n",
        "input_tensor = torch.Tensor(input)\n",
        "\n",
        "output = model(input_tensor)\n",
        "print(output)"
      ]
    },
    {
      "cell_type": "code",
      "execution_count": 33,
      "metadata": {
        "colab": {
          "base_uri": "https://localhost:8080/"
        },
        "id": "8oy6Nvk7cOyA",
        "outputId": "2cc92e98-fdaa-498e-b303-42f3a7c2b60b"
      },
      "outputs": [
        {
          "name": "stdout",
          "output_type": "stream",
          "text": [
            "tensor(2)\n",
            "tensor(2)\n",
            "tensor(2)\n",
            "tensor(1)\n",
            "tensor(1)\n",
            "tensor(1)\n",
            "tensor(0)\n",
            "tensor(0)\n"
          ]
        }
      ],
      "source": [
        "for sample in output:\n",
        "  print(torch.argmax(sample))\n",
        "# softmax 결과 확률값이 가장 큰 값(예측한 클래스) 결과 출력"
      ]
    },
    {
      "cell_type": "code",
      "execution_count": 34,
      "metadata": {
        "colab": {
          "base_uri": "https://localhost:8080/"
        },
        "id": "hRpimGU0codn",
        "outputId": "6ec37696-d078-49bd-facf-ec658bfb63cf"
      },
      "outputs": [
        {
          "name": "stdout",
          "output_type": "stream",
          "text": [
            "2\n",
            "2\n",
            "2\n",
            "1\n",
            "1\n",
            "1\n",
            "0\n",
            "0\n"
          ]
        }
      ],
      "source": [
        "for sample in output:\n",
        "  print(np.argmax(sample.detach().cpu().numpy()))"
      ]
    }
  ],
  "metadata": {
    "accelerator": "GPU",
    "colab": {
      "provenance": []
    },
    "gpuClass": "standard",
    "kernelspec": {
      "display_name": "Python 3",
      "name": "python3"
    },
    "language_info": {
      "codemirror_mode": {
        "name": "ipython",
        "version": 3
      },
      "file_extension": ".py",
      "mimetype": "text/x-python",
      "name": "python",
      "nbconvert_exporter": "python",
      "pygments_lexer": "ipython3",
      "version": "3.9.13"
    }
  },
  "nbformat": 4,
  "nbformat_minor": 0
}
