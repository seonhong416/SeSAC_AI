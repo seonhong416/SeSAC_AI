{
 "cells": [
  {
   "cell_type": "code",
   "execution_count": 1,
   "metadata": {},
   "outputs": [],
   "source": [
    "# 영화리뷰를 사용한 텍스트분류\n",
    "\n",
    "import tensorflow as tf\n",
    "from tensorflow import keras\n",
    "\n",
    "import numpy as np\n",
    "import pandas as pd\n",
    "\n",
    "import json\n",
    "import os"
   ]
  },
  {
   "cell_type": "code",
   "execution_count": 2,
   "metadata": {},
   "outputs": [
    {
     "name": "stderr",
     "output_type": "stream",
     "text": [
      "Cloning into 'nsmc'...\n",
      "Updating files:  13% (1996/14737)\n",
      "Updating files:  14% (2064/14737)\n",
      "Updating files:  15% (2211/14737)\n",
      "Updating files:  16% (2358/14737)\n",
      "Updating files:  17% (2506/14737)\n",
      "Updating files:  18% (2653/14737)\n",
      "Updating files:  19% (2801/14737)\n",
      "Updating files:  20% (2948/14737)\n",
      "Updating files:  21% (3095/14737)\n",
      "Updating files:  22% (3243/14737)\n",
      "Updating files:  23% (3390/14737)\n",
      "Updating files:  24% (3537/14737)\n",
      "Updating files:  25% (3685/14737)\n",
      "Updating files:  26% (3832/14737)\n",
      "Updating files:  27% (3979/14737)\n",
      "Updating files:  28% (4127/14737)\n",
      "Updating files:  29% (4274/14737)\n",
      "Updating files:  30% (4422/14737)\n",
      "Updating files:  31% (4569/14737)\n",
      "Updating files:  32% (4716/14737)\n",
      "Updating files:  32% (4750/14737)\n",
      "Updating files:  33% (4864/14737)\n",
      "Updating files:  34% (5011/14737)\n",
      "Updating files:  35% (5158/14737)\n",
      "Updating files:  36% (5306/14737)\n",
      "Updating files:  37% (5453/14737)\n",
      "Updating files:  38% (5601/14737)\n",
      "Updating files:  39% (5748/14737)\n",
      "Updating files:  40% (5895/14737)\n",
      "Updating files:  41% (6043/14737)\n",
      "Updating files:  42% (6190/14737)\n",
      "Updating files:  43% (6337/14737)\n",
      "Updating files:  44% (6485/14737)\n",
      "Updating files:  45% (6632/14737)\n",
      "Updating files:  46% (6780/14737)\n",
      "Updating files:  47% (6927/14737)\n",
      "Updating files:  48% (7074/14737)\n",
      "Updating files:  49% (7222/14737)\n",
      "Updating files:  50% (7369/14737)\n",
      "Updating files:  51% (7516/14737)\n",
      "Updating files:  52% (7664/14737)\n",
      "Updating files:  52% (7703/14737)\n",
      "Updating files:  53% (7811/14737)\n",
      "Updating files:  54% (7958/14737)\n",
      "Updating files:  55% (8106/14737)\n",
      "Updating files:  56% (8253/14737)\n",
      "Updating files:  57% (8401/14737)\n",
      "Updating files:  58% (8548/14737)\n",
      "Updating files:  59% (8695/14737)\n",
      "Updating files:  60% (8843/14737)\n",
      "Updating files:  61% (8990/14737)\n",
      "Updating files:  62% (9137/14737)\n",
      "Updating files:  63% (9285/14737)\n",
      "Updating files:  64% (9432/14737)\n",
      "Updating files:  65% (9580/14737)\n",
      "Updating files:  66% (9727/14737)\n",
      "Updating files:  67% (9874/14737)\n",
      "Updating files:  68% (10022/14737)\n",
      "Updating files:  68% (10110/14737)\n",
      "Updating files:  69% (10169/14737)\n",
      "Updating files:  70% (10316/14737)\n",
      "Updating files:  71% (10464/14737)\n",
      "Updating files:  72% (10611/14737)\n",
      "Updating files:  73% (10759/14737)\n",
      "Updating files:  74% (10906/14737)\n",
      "Updating files:  75% (11053/14737)\n",
      "Updating files:  76% (11201/14737)\n",
      "Updating files:  77% (11348/14737)\n",
      "Updating files:  78% (11495/14737)\n",
      "Updating files:  79% (11643/14737)\n",
      "Updating files:  80% (11790/14737)\n",
      "Updating files:  81% (11937/14737)\n",
      "Updating files:  82% (12085/14737)\n",
      "Updating files:  83% (12232/14737)\n",
      "Updating files:  84% (12380/14737)\n",
      "Updating files:  84% (12521/14737)\n",
      "Updating files:  85% (12527/14737)\n",
      "Updating files:  86% (12674/14737)\n",
      "Updating files:  87% (12822/14737)\n",
      "Updating files:  88% (12969/14737)\n",
      "Updating files:  89% (13116/14737)\n",
      "Updating files:  90% (13264/14737)\n",
      "Updating files:  91% (13411/14737)\n",
      "Updating files:  92% (13559/14737)\n",
      "Updating files:  93% (13706/14737)\n",
      "Updating files:  94% (13853/14737)\n",
      "Updating files:  95% (14001/14737)\n",
      "Updating files:  96% (14148/14737)\n",
      "Updating files:  97% (14295/14737)\n",
      "Updating files:  98% (14443/14737)\n",
      "Updating files:  99% (14590/14737)\n",
      "Updating files: 100% (14737/14737)\n",
      "Updating files: 100% (14737/14737), done.\n"
     ]
    }
   ],
   "source": [
    "# 데이터 불러오기\n",
    "\n",
    "# 네이버 영화 감성분석 데이터 다운로드\n",
    "\n",
    "!git clone https://github.com/e9t/nsmc.git"
   ]
  },
  {
   "cell_type": "code",
   "execution_count": 4,
   "metadata": {},
   "outputs": [
    {
     "data": {
      "text/plain": [
       "['.git',\n",
       " 'code',\n",
       " 'ratings.txt',\n",
       " 'ratings_test.txt',\n",
       " 'ratings_train.txt',\n",
       " 'raw',\n",
       " 'README.md',\n",
       " 'synopses.json']"
      ]
     },
     "execution_count": 4,
     "metadata": {},
     "output_type": "execute_result"
    }
   ],
   "source": [
    "os.listdir('nsmc')"
   ]
  },
  {
   "cell_type": "code",
   "execution_count": 7,
   "metadata": {},
   "outputs": [],
   "source": [
    "train = pd.read_table('nsmc/ratings_train.txt')\n",
    "test = pd.read_table('nsmc/ratings_test.txt')"
   ]
  },
  {
   "cell_type": "code",
   "execution_count": 8,
   "metadata": {},
   "outputs": [
    {
     "name": "stdout",
     "output_type": "stream",
     "text": [
      "훈련 샘플 : 150000, 검증 샘플 : 50000\n"
     ]
    }
   ],
   "source": [
    "print(f'훈련 샘플 : {len(train)}, 검증 샘플 : {len(test)}')"
   ]
  },
  {
   "cell_type": "code",
   "execution_count": 9,
   "metadata": {},
   "outputs": [
    {
     "data": {
      "text/html": [
       "<div>\n",
       "<style scoped>\n",
       "    .dataframe tbody tr th:only-of-type {\n",
       "        vertical-align: middle;\n",
       "    }\n",
       "\n",
       "    .dataframe tbody tr th {\n",
       "        vertical-align: top;\n",
       "    }\n",
       "\n",
       "    .dataframe thead th {\n",
       "        text-align: right;\n",
       "    }\n",
       "</style>\n",
       "<table border=\"1\" class=\"dataframe\">\n",
       "  <thead>\n",
       "    <tr style=\"text-align: right;\">\n",
       "      <th></th>\n",
       "      <th>id</th>\n",
       "      <th>document</th>\n",
       "      <th>label</th>\n",
       "    </tr>\n",
       "  </thead>\n",
       "  <tbody>\n",
       "    <tr>\n",
       "      <th>50</th>\n",
       "      <td>9063648</td>\n",
       "      <td>영화가 사람의 영혼을 어루만져 줄 수도 있군요 거친 세상사를 잠시 잊고 동화같은 영...</td>\n",
       "      <td>1</td>\n",
       "    </tr>\n",
       "    <tr>\n",
       "      <th>51</th>\n",
       "      <td>8272095</td>\n",
       "      <td>야 세르게이! 작은고추의 매운맛을 보여주마! 포퐁저그 콩진호가 간다</td>\n",
       "      <td>0</td>\n",
       "    </tr>\n",
       "    <tr>\n",
       "      <th>52</th>\n",
       "      <td>2345905</td>\n",
       "      <td>이렇게 가슴시리게 본 드라마가 또 있을까? 감동 그 자체!</td>\n",
       "      <td>1</td>\n",
       "    </tr>\n",
       "    <tr>\n",
       "      <th>53</th>\n",
       "      <td>7865630</td>\n",
       "      <td>난또 저 꼬마애가 무슨 원한이 깊길래.,. 했더니 OO 그냥 혼자 나대다 OO걸 어...</td>\n",
       "      <td>0</td>\n",
       "    </tr>\n",
       "    <tr>\n",
       "      <th>54</th>\n",
       "      <td>7207064</td>\n",
       "      <td>재미있어요</td>\n",
       "      <td>1</td>\n",
       "    </tr>\n",
       "    <tr>\n",
       "      <th>55</th>\n",
       "      <td>5719655</td>\n",
       "      <td>전 좋아요</td>\n",
       "      <td>1</td>\n",
       "    </tr>\n",
       "    <tr>\n",
       "      <th>56</th>\n",
       "      <td>1651126</td>\n",
       "      <td>최고</td>\n",
       "      <td>0</td>\n",
       "    </tr>\n",
       "    <tr>\n",
       "      <th>57</th>\n",
       "      <td>7246040</td>\n",
       "      <td>너무 충격적이엇다. 기분을 완전히 푹 꺼지게 하는 느낌... 활력이라고는 하나도 없...</td>\n",
       "      <td>1</td>\n",
       "    </tr>\n",
       "    <tr>\n",
       "      <th>58</th>\n",
       "      <td>717775</td>\n",
       "      <td>심심한영화.</td>\n",
       "      <td>0</td>\n",
       "    </tr>\n",
       "    <tr>\n",
       "      <th>59</th>\n",
       "      <td>8317483</td>\n",
       "      <td>백봉기 언제나오나요?</td>\n",
       "      <td>1</td>\n",
       "    </tr>\n",
       "    <tr>\n",
       "      <th>60</th>\n",
       "      <td>1031725</td>\n",
       "      <td>보는내내 그대로 들어맞는 예측 카리스마 없는 악역</td>\n",
       "      <td>0</td>\n",
       "    </tr>\n",
       "    <tr>\n",
       "      <th>61</th>\n",
       "      <td>3993146</td>\n",
       "      <td>불알이 나와서 당황...아무튼 영화가 중간에 끝나는 느낌</td>\n",
       "      <td>0</td>\n",
       "    </tr>\n",
       "    <tr>\n",
       "      <th>62</th>\n",
       "      <td>2196616</td>\n",
       "      <td>평범함속에 녹아든 평범한 일상. 조금 밋밋한게 흠.</td>\n",
       "      <td>0</td>\n",
       "    </tr>\n",
       "    <tr>\n",
       "      <th>63</th>\n",
       "      <td>8203798</td>\n",
       "      <td>보던거라 계속보고있는데 전개도 느리고 주인공인 은희는 한두컷 나오면서 소극적인모습에...</td>\n",
       "      <td>0</td>\n",
       "    </tr>\n",
       "    <tr>\n",
       "      <th>64</th>\n",
       "      <td>2332588</td>\n",
       "      <td>사랑하고싶게하는,가슴속온감정을헤집어놓는영화예요정말최고.</td>\n",
       "      <td>1</td>\n",
       "    </tr>\n",
       "    <tr>\n",
       "      <th>65</th>\n",
       "      <td>10084753</td>\n",
       "      <td>많은 사람들이 이 다큐를 보고 우리나라 슬픈 현대사의 한 단면에 대해 깊이 생각하고...</td>\n",
       "      <td>1</td>\n",
       "    </tr>\n",
       "    <tr>\n",
       "      <th>66</th>\n",
       "      <td>8518645</td>\n",
       "      <td>예전 작품 캐릭터, 에피소드 재탕 삼탕 사골우려먹듯 우리고 내용은 산으로 가고 시청...</td>\n",
       "      <td>0</td>\n",
       "    </tr>\n",
       "    <tr>\n",
       "      <th>67</th>\n",
       "      <td>7956793</td>\n",
       "      <td>김남길의 백점짜리 연기력과 초반 몰입도에도 불구하고 지루하고 손예진 ㅈㅈ</td>\n",
       "      <td>0</td>\n",
       "    </tr>\n",
       "    <tr>\n",
       "      <th>68</th>\n",
       "      <td>3996917</td>\n",
       "      <td>재밌네 비슷한 영화를 안보신 분들한테는 재미있을 듯</td>\n",
       "      <td>1</td>\n",
       "    </tr>\n",
       "    <tr>\n",
       "      <th>69</th>\n",
       "      <td>8128006</td>\n",
       "      <td>노래실력으로뽑는게 맞냐? 박시환이 mama나가면 진짜 망신이다</td>\n",
       "      <td>0</td>\n",
       "    </tr>\n",
       "  </tbody>\n",
       "</table>\n",
       "</div>"
      ],
      "text/plain": [
       "          id                                           document  label\n",
       "50   9063648  영화가 사람의 영혼을 어루만져 줄 수도 있군요 거친 세상사를 잠시 잊고 동화같은 영...      1\n",
       "51   8272095              야 세르게이! 작은고추의 매운맛을 보여주마! 포퐁저그 콩진호가 간다      0\n",
       "52   2345905                   이렇게 가슴시리게 본 드라마가 또 있을까? 감동 그 자체!      1\n",
       "53   7865630  난또 저 꼬마애가 무슨 원한이 깊길래.,. 했더니 OO 그냥 혼자 나대다 OO걸 어...      0\n",
       "54   7207064                                              재미있어요      1\n",
       "55   5719655                                              전 좋아요      1\n",
       "56   1651126                                                 최고      0\n",
       "57   7246040  너무 충격적이엇다. 기분을 완전히 푹 꺼지게 하는 느낌... 활력이라고는 하나도 없...      1\n",
       "58    717775                                             심심한영화.      0\n",
       "59   8317483                                        백봉기 언제나오나요?      1\n",
       "60   1031725                        보는내내 그대로 들어맞는 예측 카리스마 없는 악역      0\n",
       "61   3993146                    불알이 나와서 당황...아무튼 영화가 중간에 끝나는 느낌      0\n",
       "62   2196616                       평범함속에 녹아든 평범한 일상. 조금 밋밋한게 흠.      0\n",
       "63   8203798  보던거라 계속보고있는데 전개도 느리고 주인공인 은희는 한두컷 나오면서 소극적인모습에...      0\n",
       "64   2332588                     사랑하고싶게하는,가슴속온감정을헤집어놓는영화예요정말최고.      1\n",
       "65  10084753  많은 사람들이 이 다큐를 보고 우리나라 슬픈 현대사의 한 단면에 대해 깊이 생각하고...      1\n",
       "66   8518645  예전 작품 캐릭터, 에피소드 재탕 삼탕 사골우려먹듯 우리고 내용은 산으로 가고 시청...      0\n",
       "67   7956793           김남길의 백점짜리 연기력과 초반 몰입도에도 불구하고 지루하고 손예진 ㅈㅈ      0\n",
       "68   3996917                       재밌네 비슷한 영화를 안보신 분들한테는 재미있을 듯      1\n",
       "69   8128006                 노래실력으로뽑는게 맞냐? 박시환이 mama나가면 진짜 망신이다      0"
      ]
     },
     "execution_count": 9,
     "metadata": {},
     "output_type": "execute_result"
    }
   ],
   "source": [
    "# 데이터 분석\n",
    "\n",
    "train[50:70]\n",
    "# label >> 이진 분류 (0,1)"
   ]
  },
  {
   "cell_type": "code",
   "execution_count": 10,
   "metadata": {},
   "outputs": [],
   "source": [
    "train_data = train['document']\n",
    "train_labels = train['label']\n",
    "\n",
    "test_data = test['document']\n",
    "test_labels = test['label']"
   ]
  },
  {
   "cell_type": "code",
   "execution_count": 11,
   "metadata": {},
   "outputs": [],
   "source": [
    "# 데이터 전처리\n",
    "\n",
    "# 1) 토큰화(tokenizing)\n",
    "\n",
    "def tokenizing(sentence) :\n",
    "    if isinstance(sentence, str) :\n",
    "        sentence = sentence.split() # 공백기준으로 자르기\n",
    "    \n",
    "    else :\n",
    "        sentence = '' # 노이즈 데이터 처리\n",
    "    \n",
    "    return sentence"
   ]
  },
  {
   "cell_type": "code",
   "execution_count": 12,
   "metadata": {},
   "outputs": [
    {
     "data": {
      "text/plain": [
       "0                                 [아, 더빙.., 진짜, 짜증나네요, 목소리]\n",
       "1                    [흠...포스터보고, 초딩영화줄....오버연기조차, 가볍지, 않구나]\n",
       "2                                       [너무재밓었다그래서보는것을추천한다]\n",
       "3                      [교도소, 이야기구먼, ..솔직히, 재미는, 없다..평점, 조정]\n",
       "4         [사이몬페그의, 익살스런, 연기가, 돋보였던, 영화!스파이더맨에서, 늙어보이기만, ...\n",
       "                                ...                        \n",
       "149995                             [인간이, 문제지.., 소는, 뭔죄인가..]\n",
       "149996                                    [평점이, 너무, 낮아서...]\n",
       "149997              [이게, 뭐요?, 한국인은, 거들먹거리고, 필리핀, 혼혈은, 착하다?]\n",
       "149998                   [청춘, 영화의, 최고봉.방황과, 우울했던, 날들의, 자화상]\n",
       "149999                     [한국, 영화, 최초로, 수간하는, 내용이, 담긴, 영화]\n",
       "Name: document, Length: 150000, dtype: object"
      ]
     },
     "execution_count": 12,
     "metadata": {},
     "output_type": "execute_result"
    }
   ],
   "source": [
    "train_data_list = train_data.apply(tokenizing)\n",
    "train_data_list"
   ]
  },
  {
   "cell_type": "code",
   "execution_count": 14,
   "metadata": {},
   "outputs": [
    {
     "data": {
      "text/plain": [
       "0                                                   [굳, ㅋ]\n",
       "1                                   [GDNTOPCLASSINTHECLUB]\n",
       "2         [뭐야, 이, 평점들은...., 나쁘진, 않지만, 10점, 짜리는, 더더욱, 아니잖아]\n",
       "3                  [지루하지는, 않은데, 완전, 막장임..., 돈주고, 보기에는....]\n",
       "4        [3D만, 아니었어도, 별, 다섯, 개, 줬을텐데.., 왜, 3D로, 나와서, 제,...\n",
       "                               ...                        \n",
       "49995    [오랜만에, 평점, 로긴했네ㅋㅋ, 킹왕짱, 쌈뽕한, 영화를, 만났습니다, 강렬하게,...\n",
       "49996    [의지, 박약들이나, 하는거다, 탈영은, 일단, 주인공, 김대희, 닮았고, 이등병,...\n",
       "49997          [그림도, 좋고, 완성도도, 높았지만..., 보는, 내내, 불안하게, 만든다]\n",
       "49998    [절대, 봐서는, 안, 될, 영화.., 재미도, 없고, 기분만, 잡치고.., 한, ...\n",
       "49999                                       [마무리는, 또, 왜이래]\n",
       "Name: document, Length: 50000, dtype: object"
      ]
     },
     "execution_count": 14,
     "metadata": {},
     "output_type": "execute_result"
    }
   ],
   "source": [
    "test_data_list = test_data.apply(tokenizing)\n",
    "test_data_list"
   ]
  },
  {
   "cell_type": "code",
   "execution_count": 15,
   "metadata": {},
   "outputs": [],
   "source": [
    "# 토크나이저(tokenizer)\n",
    "\n",
    "from tensorflow.keras.preprocessing.text import Tokenizer\n",
    "from tensorflow.keras.preprocessing.sequence import pad_sequences"
   ]
  },
  {
   "cell_type": "code",
   "execution_count": 16,
   "metadata": {},
   "outputs": [],
   "source": [
    "tokenizer = Tokenizer()\n",
    "tokenizer.fit_on_texts(train_data_list)"
   ]
  },
  {
   "cell_type": "code",
   "execution_count": 18,
   "metadata": {},
   "outputs": [],
   "source": [
    "# 2) 정수 인코딩(Integer Encoding)\n",
    "\n",
    "# 문장 >> 시퀀스 변환\n",
    "\n",
    "train_data_idx = tokenizer.texts_to_sequences(train_data_list)\n",
    "test_data_idx = tokenizer.texts_to_sequences(test_data_list)"
   ]
  },
  {
   "cell_type": "code",
   "execution_count": 20,
   "metadata": {},
   "outputs": [
    {
     "data": {
      "text/plain": [
       "[50, 42604, 4, 10484, 1064]"
      ]
     },
     "execution_count": 20,
     "metadata": {},
     "output_type": "execute_result"
    }
   ],
   "source": [
    "train_data_idx[0]"
   ]
  },
  {
   "cell_type": "code",
   "execution_count": 22,
   "metadata": {},
   "outputs": [
    {
     "name": "stdout",
     "output_type": "stream",
     "text": [
      "5\n",
      "1\n"
     ]
    }
   ],
   "source": [
    "print(len(train_data_idx[0]))\n",
    "print(len(train_data_idx[2]))\n",
    "\n",
    "# 문장의 길이가 각각 다르다. >> padding을 하여 맞춰준다!"
   ]
  },
  {
   "cell_type": "code",
   "execution_count": 23,
   "metadata": {},
   "outputs": [],
   "source": [
    "# 3) 문장 패딩(padding)\n",
    "\n",
    "train_data_padded = pad_sequences(train_data_idx, value=0, padding='post', maxlen = 50)\n",
    "test_data_padded = pad_sequences(test_data_idx, value=0, padding='post', maxlen = 50)\n",
    "\n",
    "# 앞쪽에 padding 하고싶으면 padding='pre'로 설정"
   ]
  },
  {
   "cell_type": "code",
   "execution_count": 24,
   "metadata": {},
   "outputs": [
    {
     "data": {
      "text/plain": [
       "array([[    50,  42604,      4, ...,      0,      0,      0],\n",
       "       [ 73045,  73046,   6403, ...,      0,      0,      0],\n",
       "       [ 73047,      0,      0, ...,      0,      0,      0],\n",
       "       ...,\n",
       "       [    33, 357310,  22473, ...,      0,      0,      0],\n",
       "       [  3925,     78, 357314, ...,      0,      0,      0],\n",
       "       [   200,      1,   3642, ...,      0,      0,      0]])"
      ]
     },
     "execution_count": 24,
     "metadata": {},
     "output_type": "execute_result"
    }
   ],
   "source": [
    "train_data_padded"
   ]
  },
  {
   "cell_type": "code",
   "execution_count": 25,
   "metadata": {},
   "outputs": [
    {
     "name": "stdout",
     "output_type": "stream",
     "text": [
      "(50,)\n",
      "[   50 42604     4 10484  1064     0     0     0     0     0     0     0\n",
      "     0     0     0     0     0     0     0     0     0     0     0     0\n",
      "     0     0     0     0     0     0     0     0     0     0     0     0\n",
      "     0     0     0     0     0     0     0     0     0     0     0     0\n",
      "     0     0]\n",
      "\n",
      "[[  923    59     0 ...     0     0     0]\n",
      " [    0     0     0 ...     0     0     0]\n",
      " [  592     5  4190 ...     0     0     0]\n",
      " ...\n",
      " [ 8570   205 13145 ...     0     0     0]\n",
      " [  171  8700    68 ...     0     0     0]\n",
      " [12530    49  2530 ...     0     0     0]]\n"
     ]
    }
   ],
   "source": [
    "print(train_data_padded[0].shape)\n",
    "print(train_data_padded[0])\n",
    "print()\n",
    "print(test_data_padded)"
   ]
  },
  {
   "cell_type": "code",
   "execution_count": 35,
   "metadata": {},
   "outputs": [],
   "source": [
    "# 4) 모델링\n",
    "\n",
    "# 입력 크기는 영화리뷰 데이터 셋에서 적용된 어휘 사전의 크기입니다.\n",
    "# (10000개의 단어)\n",
    "\n",
    "vocab_size = 10000\n",
    "\n",
    "model = keras.Sequential()\n",
    "\n",
    "model.add(keras.layers.Embedding(vocab_size, 16, input_shape=(50,))) # 벡터화\n",
    "# vocab_size : 단어 크기, 16 : 원하는 벡터의 길이(차원)\n",
    "model.add(keras.layers.GlobalAveragePooling1D())\n",
    "model.add(keras.layers.Dense(16, activation = 'relu'))\n",
    "model.add(keras.layers.Dense(16, activation = 'relu'))\n",
    "model.add(keras.layers.Dense(16, activation = 'relu'))\n",
    "model.add(keras.layers.Dense(1, activation = 'sigmoid')) # 이진분류"
   ]
  },
  {
   "cell_type": "code",
   "execution_count": 36,
   "metadata": {},
   "outputs": [
    {
     "name": "stdout",
     "output_type": "stream",
     "text": [
      "Epoch 1/50\n",
      "1500/1500 [==============================] - 3s 2ms/step - loss: 0.5218 - accuracy: 0.7146\n",
      "Epoch 2/50\n",
      "1500/1500 [==============================] - 3s 2ms/step - loss: 0.4270 - accuracy: 0.7804\n",
      "Epoch 3/50\n",
      "1500/1500 [==============================] - 3s 2ms/step - loss: 0.4137 - accuracy: 0.7880\n",
      "Epoch 4/50\n",
      "1500/1500 [==============================] - 3s 2ms/step - loss: 0.4076 - accuracy: 0.7897\n",
      "Epoch 5/50\n",
      "1500/1500 [==============================] - 3s 2ms/step - loss: 0.4045 - accuracy: 0.7916\n",
      "Epoch 6/50\n",
      "1500/1500 [==============================] - 3s 2ms/step - loss: 0.4018 - accuracy: 0.7917\n",
      "Epoch 7/50\n",
      "1500/1500 [==============================] - 3s 2ms/step - loss: 0.3994 - accuracy: 0.7933\n",
      "Epoch 8/50\n",
      "1500/1500 [==============================] - 3s 2ms/step - loss: 0.3974 - accuracy: 0.7939\n",
      "Epoch 9/50\n",
      "1500/1500 [==============================] - 3s 2ms/step - loss: 0.3939 - accuracy: 0.7946\n",
      "Epoch 10/50\n",
      "1500/1500 [==============================] - 3s 2ms/step - loss: 0.3894 - accuracy: 0.7955\n",
      "Epoch 11/50\n",
      "1500/1500 [==============================] - 3s 2ms/step - loss: 0.3823 - accuracy: 0.7977\n",
      "Epoch 12/50\n",
      "1500/1500 [==============================] - 3s 2ms/step - loss: 0.3756 - accuracy: 0.8003\n",
      "Epoch 13/50\n",
      "1500/1500 [==============================] - 3s 2ms/step - loss: 0.3683 - accuracy: 0.8032\n",
      "Epoch 14/50\n",
      "1500/1500 [==============================] - 3s 2ms/step - loss: 0.3608 - accuracy: 0.8080\n",
      "Epoch 15/50\n",
      "1500/1500 [==============================] - 3s 2ms/step - loss: 0.3550 - accuracy: 0.8109\n",
      "Epoch 16/50\n",
      "1500/1500 [==============================] - 3s 2ms/step - loss: 0.3491 - accuracy: 0.8137\n",
      "Epoch 17/50\n",
      "1500/1500 [==============================] - 3s 2ms/step - loss: 0.3434 - accuracy: 0.8168\n",
      "Epoch 18/50\n",
      "1500/1500 [==============================] - 3s 2ms/step - loss: 0.3363 - accuracy: 0.8201\n",
      "Epoch 19/50\n",
      "1500/1500 [==============================] - 3s 2ms/step - loss: 0.3292 - accuracy: 0.8241\n",
      "Epoch 20/50\n",
      "1500/1500 [==============================] - 3s 2ms/step - loss: 0.3223 - accuracy: 0.8280\n",
      "Epoch 21/50\n",
      "1500/1500 [==============================] - 3s 2ms/step - loss: 0.3150 - accuracy: 0.8309\n",
      "Epoch 22/50\n",
      "1500/1500 [==============================] - 3s 2ms/step - loss: 0.3075 - accuracy: 0.8361\n",
      "Epoch 23/50\n",
      "1500/1500 [==============================] - 3s 2ms/step - loss: 0.3008 - accuracy: 0.8390\n",
      "Epoch 24/50\n",
      "1500/1500 [==============================] - 3s 2ms/step - loss: 0.2950 - accuracy: 0.8411\n",
      "Epoch 25/50\n",
      "1500/1500 [==============================] - 3s 2ms/step - loss: 0.2885 - accuracy: 0.8455\n",
      "Epoch 26/50\n",
      "1500/1500 [==============================] - 3s 2ms/step - loss: 0.2834 - accuracy: 0.8465\n",
      "Epoch 27/50\n",
      "1500/1500 [==============================] - 3s 2ms/step - loss: 0.2776 - accuracy: 0.8504\n",
      "Epoch 28/50\n",
      "1500/1500 [==============================] - 3s 2ms/step - loss: 0.2722 - accuracy: 0.8521\n",
      "Epoch 29/50\n",
      "1500/1500 [==============================] - 3s 2ms/step - loss: 0.2688 - accuracy: 0.8533\n",
      "Epoch 30/50\n",
      "1500/1500 [==============================] - 3s 2ms/step - loss: 0.2659 - accuracy: 0.8538\n",
      "Epoch 31/50\n",
      "1500/1500 [==============================] - 3s 2ms/step - loss: 0.2606 - accuracy: 0.8567\n",
      "Epoch 32/50\n",
      "1500/1500 [==============================] - 3s 2ms/step - loss: 0.2572 - accuracy: 0.8587\n",
      "Epoch 33/50\n",
      "1500/1500 [==============================] - 3s 2ms/step - loss: 0.2541 - accuracy: 0.8594\n",
      "Epoch 34/50\n",
      "1500/1500 [==============================] - 3s 2ms/step - loss: 0.2511 - accuracy: 0.8618\n",
      "Epoch 35/50\n",
      "1500/1500 [==============================] - 3s 2ms/step - loss: 0.2492 - accuracy: 0.8624\n",
      "Epoch 36/50\n",
      "1500/1500 [==============================] - 3s 2ms/step - loss: 0.2452 - accuracy: 0.8651\n",
      "Epoch 37/50\n",
      "1500/1500 [==============================] - 3s 2ms/step - loss: 0.2432 - accuracy: 0.8655\n",
      "Epoch 38/50\n",
      "1500/1500 [==============================] - 3s 2ms/step - loss: 0.2414 - accuracy: 0.8658\n",
      "Epoch 39/50\n",
      "1500/1500 [==============================] - 3s 2ms/step - loss: 0.2383 - accuracy: 0.8667\n",
      "Epoch 40/50\n",
      "1500/1500 [==============================] - 3s 2ms/step - loss: 0.2366 - accuracy: 0.8681\n",
      "Epoch 41/50\n",
      "1500/1500 [==============================] - 3s 2ms/step - loss: 0.2347 - accuracy: 0.8690\n",
      "Epoch 42/50\n",
      "1500/1500 [==============================] - 3s 2ms/step - loss: 0.2328 - accuracy: 0.8704\n",
      "Epoch 43/50\n",
      "1500/1500 [==============================] - 3s 2ms/step - loss: 0.2309 - accuracy: 0.8702\n",
      "Epoch 44/50\n",
      "1500/1500 [==============================] - 3s 2ms/step - loss: 0.2291 - accuracy: 0.8718\n",
      "Epoch 45/50\n",
      "1500/1500 [==============================] - 3s 2ms/step - loss: 0.2280 - accuracy: 0.8724\n",
      "Epoch 46/50\n",
      "1500/1500 [==============================] - 3s 2ms/step - loss: 0.2269 - accuracy: 0.8734\n",
      "Epoch 47/50\n",
      "1500/1500 [==============================] - 3s 2ms/step - loss: 0.2244 - accuracy: 0.8744\n",
      "Epoch 48/50\n",
      "1500/1500 [==============================] - 3s 2ms/step - loss: 0.2233 - accuracy: 0.8741\n",
      "Epoch 49/50\n",
      "1500/1500 [==============================] - 3s 2ms/step - loss: 0.2239 - accuracy: 0.8742\n",
      "Epoch 50/50\n",
      "1500/1500 [==============================] - 3s 2ms/step - loss: 0.2220 - accuracy: 0.8755\n"
     ]
    }
   ],
   "source": [
    "# 5) 모델 학습\n",
    "\n",
    "# 환경설정\n",
    "model.compile(loss = 'binary_crossentropy', optimizer='adam', metrics = ['accuracy'])\n",
    "\n",
    "# 학습\n",
    "history = model.fit(train_data_padded, train_labels, epochs = 50, batch_size = 100)"
   ]
  },
  {
   "cell_type": "code",
   "execution_count": 37,
   "metadata": {},
   "outputs": [
    {
     "data": {
      "text/plain": [
       "[<matplotlib.lines.Line2D at 0x21e0c130ca0>]"
      ]
     },
     "execution_count": 37,
     "metadata": {},
     "output_type": "execute_result"
    },
    {
     "data": {
      "image/png": "[encoded data removed]",
      "text/plain": [
       "<Figure size 640x480 with 1 Axes>"
      ]
     },
     "metadata": {},
     "output_type": "display_data"
    }
   ],
   "source": [
    "import matplotlib.pyplot as plt\n",
    "\n",
    "plt.plot(history.history['loss'])\n",
    "plt.plot(history.history['accuracy'])"
   ]
  },
  {
   "cell_type": "code",
   "execution_count": 38,
   "metadata": {},
   "outputs": [
    {
     "name": "stdout",
     "output_type": "stream",
     "text": [
      "1563/1563 - 2s - loss: 1.1976 - accuracy: 0.7373 - 2s/epoch - 1ms/step\n",
      "[1.1975536346435547, 0.7372999787330627]\n"
     ]
    }
   ],
   "source": [
    "result = model.evaluate(test_data_padded, test_labels, verbose=2)\n",
    "print(result)"
   ]
  },
  {
   "cell_type": "code",
   "execution_count": 49,
   "metadata": {},
   "outputs": [],
   "source": [
    "# 모델 적용 >> 추론\n",
    "\n",
    "# 추론할 리뷰 문장\n",
    "sentence = '오늘은 기분이 좋아요'\n",
    "\n",
    "# 토큰화\n",
    "sentence = sentence.split()\n",
    "\n",
    "# 정수화\n",
    "sentence_idx = tokenizer.texts_to_sequences([sentence])\n",
    "\n",
    "# 패딩\n",
    "\n",
    "sentence_padded = pad_sequences(sentence_idx, value = 0, padding = 'post', maxlen = 50)\n"
   ]
  },
  {
   "cell_type": "code",
   "execution_count": 50,
   "metadata": {},
   "outputs": [
    {
     "data": {
      "text/plain": [
       "array([[6131,  792,  535,    0,    0,    0,    0,    0,    0,    0,    0,\n",
       "           0,    0,    0,    0,    0,    0,    0,    0,    0,    0,    0,\n",
       "           0,    0,    0,    0,    0,    0,    0,    0,    0,    0,    0,\n",
       "           0,    0,    0,    0,    0,    0,    0,    0,    0,    0,    0,\n",
       "           0,    0,    0,    0,    0,    0]])"
      ]
     },
     "execution_count": 50,
     "metadata": {},
     "output_type": "execute_result"
    }
   ],
   "source": [
    "sentence_padded"
   ]
  },
  {
   "cell_type": "code",
   "execution_count": 51,
   "metadata": {},
   "outputs": [
    {
     "name": "stdout",
     "output_type": "stream",
     "text": [
      "1/1 [==============================] - 0s 13ms/step\n",
      "긍정 댓글입니다. 확률 : 1.00\n"
     ]
    }
   ],
   "source": [
    "result = model.predict(sentence_padded)\n",
    "if result > 0.5 :\n",
    "    print(f'긍정 댓글입니다. 확률 : {result[0][0]:.2f}')\n",
    "\n",
    "else : \n",
    "    print(f'부정 댓글입니다. 확률 : {result[0][0]:.2f}')"
   ]
  },
  {
   "attachments": {},
   "cell_type": "markdown",
   "metadata": {},
   "source": [
    "감성 분류 with RNN"
   ]
  },
  {
   "cell_type": "code",
   "execution_count": 52,
   "metadata": {},
   "outputs": [],
   "source": [
    "# 1. 모델링 (RNN)\n",
    "\n",
    "model = tf.keras.Sequential([\n",
    "    # 임베딩 레이어(embedding layer)\n",
    "    tf.keras.layers.Embedding(vocab_size, 64),\n",
    "    \n",
    "    # RNN layer\n",
    "    tf.keras.layers.SimpleRNN(16),\n",
    "    \n",
    "    # Dense layer\n",
    "    tf.keras.layers.Dense(16, activation = 'relu'),\n",
    "    tf.keras.layers.Dense(1, activation = 'sigmoid')\n",
    "])\n",
    "\n"
   ]
  },
  {
   "cell_type": "code",
   "execution_count": 53,
   "metadata": {},
   "outputs": [
    {
     "name": "stdout",
     "output_type": "stream",
     "text": [
      "Epoch 1/20\n",
      "1200/1200 [==============================] - 23s 19ms/step - loss: 0.6043 - accuracy: 0.6618 - val_loss: 0.5345 - val_accuracy: 0.7206\n",
      "Epoch 2/20\n",
      "1200/1200 [==============================] - 23s 19ms/step - loss: 0.4855 - accuracy: 0.7550 - val_loss: 0.4911 - val_accuracy: 0.7499\n",
      "Epoch 3/20\n",
      "1200/1200 [==============================] - 23s 19ms/step - loss: 0.4232 - accuracy: 0.7904 - val_loss: 0.4781 - val_accuracy: 0.7528\n",
      "Epoch 4/20\n",
      "1200/1200 [==============================] - 24s 20ms/step - loss: 0.3796 - accuracy: 0.8088 - val_loss: 0.4961 - val_accuracy: 0.7523\n",
      "Epoch 5/20\n",
      "1200/1200 [==============================] - 23s 19ms/step - loss: 0.3529 - accuracy: 0.8209 - val_loss: 0.5207 - val_accuracy: 0.7538\n",
      "Epoch 6/20\n",
      "1200/1200 [==============================] - 23s 19ms/step - loss: 0.3223 - accuracy: 0.8363 - val_loss: 0.5496 - val_accuracy: 0.7512\n",
      "Epoch 7/20\n",
      "1200/1200 [==============================] - 23s 19ms/step - loss: 0.3104 - accuracy: 0.8400 - val_loss: 0.5639 - val_accuracy: 0.7440\n",
      "Epoch 8/20\n",
      "1200/1200 [==============================] - 22s 18ms/step - loss: 0.2924 - accuracy: 0.8481 - val_loss: 0.6363 - val_accuracy: 0.7155\n",
      "Epoch 9/20\n",
      "1200/1200 [==============================] - 22s 19ms/step - loss: 0.2813 - accuracy: 0.8539 - val_loss: 0.5982 - val_accuracy: 0.7467\n",
      "Epoch 10/20\n",
      "1200/1200 [==============================] - 22s 18ms/step - loss: 0.2684 - accuracy: 0.8590 - val_loss: 0.6402 - val_accuracy: 0.7445\n",
      "Epoch 11/20\n",
      "1200/1200 [==============================] - 22s 18ms/step - loss: 0.2611 - accuracy: 0.8625 - val_loss: 0.6768 - val_accuracy: 0.7374\n",
      "Epoch 12/20\n",
      "1200/1200 [==============================] - 22s 19ms/step - loss: 0.2564 - accuracy: 0.8656 - val_loss: 0.6694 - val_accuracy: 0.7323\n",
      "Epoch 13/20\n",
      "1200/1200 [==============================] - 22s 18ms/step - loss: 0.2496 - accuracy: 0.8689 - val_loss: 0.6536 - val_accuracy: 0.7364\n",
      "Epoch 14/20\n",
      "1200/1200 [==============================] - 22s 19ms/step - loss: 0.2422 - accuracy: 0.8711 - val_loss: 0.7017 - val_accuracy: 0.7373\n",
      "Epoch 15/20\n",
      "1200/1200 [==============================] - 22s 18ms/step - loss: 0.2436 - accuracy: 0.8724 - val_loss: 0.7080 - val_accuracy: 0.7306\n",
      "Epoch 16/20\n",
      "1200/1200 [==============================] - 22s 18ms/step - loss: 0.2337 - accuracy: 0.8760 - val_loss: 0.7136 - val_accuracy: 0.7356\n",
      "Epoch 17/20\n",
      "1200/1200 [==============================] - 22s 19ms/step - loss: 0.2472 - accuracy: 0.8708 - val_loss: 0.7666 - val_accuracy: 0.7311\n",
      "Epoch 18/20\n",
      "1200/1200 [==============================] - 22s 19ms/step - loss: 0.2244 - accuracy: 0.8795 - val_loss: 0.7588 - val_accuracy: 0.7352\n",
      "Epoch 19/20\n",
      "1200/1200 [==============================] - 22s 19ms/step - loss: 0.2333 - accuracy: 0.8771 - val_loss: 0.7522 - val_accuracy: 0.7315\n",
      "Epoch 20/20\n",
      "1200/1200 [==============================] - 22s 18ms/step - loss: 0.2224 - accuracy: 0.8817 - val_loss: 0.7987 - val_accuracy: 0.7256\n"
     ]
    }
   ],
   "source": [
    "# 2. 학습\n",
    "model.compile(loss = 'binary_crossentropy', optimizer = 'adam', metrics=['accuracy'])\n",
    "history = model.fit(train_data_padded, train_labels, validation_split=0.2, epochs = 20, batch_size = 100)"
   ]
  },
  {
   "cell_type": "code",
   "execution_count": 55,
   "metadata": {},
   "outputs": [
    {
     "data": {
      "text/plain": [
       "[<matplotlib.lines.Line2D at 0x21e64d083a0>]"
      ]
     },
     "execution_count": 55,
     "metadata": {},
     "output_type": "execute_result"
    },
    {
     "data": {
      "image/png": "[encoded data removed]",
      "text/plain": [
       "<Figure size 640x480 with 1 Axes>"
      ]
     },
     "metadata": {},
     "output_type": "display_data"
    }
   ],
   "source": [
    "plt.plot(history.history['loss'])\n",
    "plt.plot(history.history['val_loss'])\n"
   ]
  },
  {
   "cell_type": "code",
   "execution_count": 56,
   "metadata": {},
   "outputs": [
    {
     "data": {
      "text/plain": [
       "[<matplotlib.lines.Line2D at 0x21cab3af400>]"
      ]
     },
     "execution_count": 56,
     "metadata": {},
     "output_type": "execute_result"
    },
    {
     "data": {
      "image/png": "[encoded data removed]",
      "text/plain": [
       "<Figure size 640x480 with 1 Axes>"
      ]
     },
     "metadata": {},
     "output_type": "display_data"
    }
   ],
   "source": [
    "plt.plot(history.history['accuracy'])\n",
    "plt.plot(history.history['val_accuracy'])\n"
   ]
  },
  {
   "cell_type": "code",
   "execution_count": 57,
   "metadata": {},
   "outputs": [
    {
     "name": "stdout",
     "output_type": "stream",
     "text": [
      "1563/1563 - 6s - loss: 0.8097 - accuracy: 0.7147 - 6s/epoch - 4ms/step\n",
      "[0.8096522092819214, 0.7146599888801575]\n"
     ]
    }
   ],
   "source": [
    "# 3. 모델 성능 평가\n",
    "\n",
    "result = model.evaluate(test_data_padded, test_labels, verbose = 2)\n",
    "print(result)"
   ]
  },
  {
   "cell_type": "code",
   "execution_count": 58,
   "metadata": {},
   "outputs": [],
   "source": [
    "# 4. 추론 (모델 적용)\n",
    "\n",
    "# 추론할 댓글 문장\n",
    "sentence = '이 영화 정말 재미없어요.'\n",
    "\n",
    "# 토큰화\n",
    "sentence = sentence.split()\n",
    "\n",
    "# 정수 인코딩\n",
    "sentence_idx = tokenizer.texts_to_sequences([sentence])\n",
    "\n",
    "# 패딩\n",
    "sentence_padded = pad_sequences(sentence_idx, value = 0, padding = 'post', maxlen = 50)"
   ]
  },
  {
   "cell_type": "code",
   "execution_count": 63,
   "metadata": {},
   "outputs": [
    {
     "name": "stdout",
     "output_type": "stream",
     "text": [
      "1/1 [==============================] - 0s 15ms/step\n",
      "부정 댓글입니다. 확률 : 0.19%\n"
     ]
    }
   ],
   "source": [
    "result = model.predict(sentence_padded)\n",
    "if result > 0.5 :\n",
    "    print(f'긍정 댓글입니다. 확률 : {result[0][0]*100:.2f}%')\n",
    "\n",
    "else : \n",
    "    print(f'부정 댓글입니다. 확률 : {result[0][0]*100:.2f}%')"
   ]
  },
  {
   "cell_type": "code",
   "execution_count": null,
   "metadata": {},
   "outputs": [],
   "source": []
  }
 ],
 "metadata": {
  "kernelspec": {
   "display_name": "Python 3",
   "language": "python",
   "name": "python3"
  },
  "language_info": {
   "codemirror_mode": {
    "name": "ipython",
    "version": 3
   },
   "file_extension": ".py",
   "mimetype": "text/x-python",
   "name": "python",
   "nbconvert_exporter": "python",
   "pygments_lexer": "ipython3",
   "version": "3.9.13"
  },
  "orig_nbformat": 4
 },
 "nbformat": 4,
 "nbformat_minor": 2
}
