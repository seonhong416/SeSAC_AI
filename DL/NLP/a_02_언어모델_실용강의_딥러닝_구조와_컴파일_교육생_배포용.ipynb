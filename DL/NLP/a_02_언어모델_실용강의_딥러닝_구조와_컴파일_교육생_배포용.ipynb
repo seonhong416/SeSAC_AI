{
  "cells": [
    {
      "cell_type": "markdown",
      "metadata": {
        "id": "2ne8B3XaCEIC"
      },
      "source": [
        "# 1.문제별 딥러닝 학습 프로세스"
      ]
    },
    {
      "cell_type": "code",
      "execution_count": 1,
      "metadata": {
        "id": "_7DcNWQgB_wA"
      },
      "outputs": [],
      "source": [
        "# 데이터분석 라이브러리\n",
        "import numpy as np\n",
        "import matplotlib.pyplot as plt\n",
        "import pandas as pd\n",
        "\n",
        "# 딥러닝 라이브러리\n",
        "import tensorflow as tf\n",
        "from tensorflow import keras\n",
        "from tensorflow.keras import models\n",
        "from tensorflow.keras import layers"
      ]
    },
    {
      "cell_type": "markdown",
      "metadata": {
        "id": "rlnC0JrjChSJ"
      },
      "source": [
        "<img src=\"https://i.imgur.com/1KzycmW.png\" width=\"600px\" />"
      ]
    },
    {
      "cell_type": "code",
      "execution_count": 2,
      "metadata": {
        "id": "gGfj9dzLDmhJ"
      },
      "outputs": [],
      "source": [
        "data = pd.DataFrame([[6, 4, 2, 75, 0, 3],\n",
        "                     [7, 3, 1, 80, 0, 2],\n",
        "                     [8, 2, 0, 85, 0, 2],\n",
        "                     [9, 1, 1, 90, 1, 1],\n",
        "                     [10,0, 2,100, 1, 0]], \n",
        "                     columns=['공부', '게임', 'TV', '성적', '합격여부', '등급'])\n",
        "\n",
        "X = data[['공부', '게임', 'TV']]\n"
      ]
    },
    {
      "cell_type": "markdown",
      "metadata": {
        "id": "Hi2ZrmxaCr5k"
      },
      "source": [
        "### 수치 예측 문제 (성적 예측 모델)"
      ]
    },
    {
      "cell_type": "markdown",
      "metadata": {
        "id": "3sqnFU6ggnZb"
      },
      "source": [
        "<img src=\"https://i.imgur.com/RqEp3A3.png\" width=\"500px\" />"
      ]
    },
    {
      "cell_type": "code",
      "execution_count": null,
      "metadata": {
        "id": "y64TZ6OfCQku"
      },
      "outputs": [],
      "source": [
        "Y = data['성적']\n",
        "\n",
        "model = models.Sequential(\n",
        "    [\n",
        "        layers.Dense(2, activation=\"relu\"),   \n",
        "        layers.Dense(3, activation=\"relu\"),   \n",
        "        layers.Dense(3, activation=\"relu\"),\n",
        "        layers.Dense(1),\n",
        "    ]\n",
        ")\n",
        "\n",
        "model.compile(loss='mse', optimizer='adam')   \n",
        "model.fit(X, Y)\n",
        "\n",
        "\n"
      ]
    },
    {
      "cell_type": "markdown",
      "metadata": {
        "id": "F6FehI2GDM5o"
      },
      "source": [
        "### 이진 분류 문제 (합격/불합격 분류 모델)"
      ]
    },
    {
      "cell_type": "markdown",
      "metadata": {
        "id": "7yY-a9Kqhppc"
      },
      "source": [
        "<img src=\"https://i.imgur.com/OMQkfGu.png\" width=\"600px\" />"
      ]
    },
    {
      "cell_type": "code",
      "execution_count": null,
      "metadata": {
        "id": "AvNgEKy5D86w"
      },
      "outputs": [],
      "source": [
        "Y = data['합격여부']\n",
        "\n",
        "model = models.Sequential(\n",
        "    [\n",
        "        layers.Dense(2, activation=\"relu\"),   \n",
        "        layers.Dense(3, activation=\"relu\"),   \n",
        "        layers.Dense(3, activation=\"relu\"),\n",
        "        layers.Dense(1, activation='sigmoid'),\n",
        "    ]\n",
        ")\n",
        "\n",
        "model.compile(loss='binary_crossentropy', optimizer='adam')\n",
        "model.fit(X, Y)\n"
      ]
    },
    {
      "cell_type": "markdown",
      "metadata": {
        "id": "kNCioVavDfYg"
      },
      "source": [
        "### 다중 분류 문제 (성적 등급 분류 문제)"
      ]
    },
    {
      "cell_type": "markdown",
      "metadata": {
        "id": "5_gbgHYti3HK"
      },
      "source": [
        "<img src=\"https://i.imgur.com/qr7IN7j.png\" width=\"600px\" />"
      ]
    },
    {
      "cell_type": "code",
      "execution_count": null,
      "metadata": {
        "id": "J8nMnNENEtUe"
      },
      "outputs": [],
      "source": [
        "Y = data['등급']\n",
        "\n",
        "model = models.Sequential(\n",
        "    [\n",
        "        layers.Dense(2, activation=\"relu\"),   \n",
        "        layers.Dense(3, activation=\"relu\"),   \n",
        "        layers.Dense(3, activation=\"relu\"),\n",
        "        layers.Dense(4, activation='softmax'),\n",
        "    ]\n",
        ")\n",
        "\n",
        "model.compile(loss='sparse_categorical_crossentropy', optimizer='adam')\n",
        "model.fit(X, Y)\n",
        "\n",
        "\n",
        "\n"
      ]
    },
    {
      "cell_type": "code",
      "execution_count": null,
      "metadata": {
        "id": "YlfVGUtufzPx"
      },
      "outputs": [],
      "source": []
    }
  ],
  "metadata": {
    "colab": {
      "provenance": []
    },
    "kernelspec": {
      "display_name": "Python 3",
      "name": "python3"
    },
    "language_info": {
      "codemirror_mode": {
        "name": "ipython",
        "version": 3
      },
      "file_extension": ".py",
      "mimetype": "text/x-python",
      "name": "python",
      "nbconvert_exporter": "python",
      "pygments_lexer": "ipython3",
      "version": "3.9.13"
    }
  },
  "nbformat": 4,
  "nbformat_minor": 0
}
