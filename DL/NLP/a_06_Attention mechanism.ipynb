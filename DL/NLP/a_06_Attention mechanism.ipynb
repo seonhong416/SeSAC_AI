{
 "cells": [
  {
   "cell_type": "code",
   "execution_count": null,
   "metadata": {},
   "outputs": [],
   "source": [
    "# 어텐션 메커니즘\n",
    "# 가중치 계산\n",
    "# query vector, keys vectors 유사도 기반 내적 계산 >> attention score\n",
    "# sfotmax 함수 이용, 가중치 계산\n",
    "# keys vector에 가중평균 적용 >> context vector 생성\n",
    "# query 와 key 를 입력으로 이용"
   ]
  }
 ],
 "metadata": {
  "language_info": {
   "name": "python"
  },
  "orig_nbformat": 4
 },
 "nbformat": 4,
 "nbformat_minor": 2
}
