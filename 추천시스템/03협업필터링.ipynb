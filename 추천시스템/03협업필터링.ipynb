{
 "cells": [
  {
   "attachments": {},
   "cell_type": "markdown",
   "metadata": {},
   "source": [
    "# 넘파이 복습"
   ]
  },
  {
   "cell_type": "code",
   "execution_count": 1,
   "metadata": {},
   "outputs": [],
   "source": [
    "import numpy as np\n",
    "import pandas as pd"
   ]
  },
  {
   "cell_type": "code",
   "execution_count": 14,
   "metadata": {},
   "outputs": [],
   "source": [
    "A = np.array([\n",
    "        [3,3,2,3,1],\n",
    "        [5,2,2,3,1],\n",
    "        [3,3,2,3,1],\n",
    "        [3,1,4,3,1],\n",
    "])"
   ]
  },
  {
   "cell_type": "code",
   "execution_count": 15,
   "metadata": {},
   "outputs": [],
   "source": [
    "B = np.array([\n",
    "    [1,1,1,1,1],\n",
    "    [2,2,2,2,2],\n",
    "    [3,3,3,3,3],\n",
    "    [4,4,4,4,4],\n",
    "])"
   ]
  },
  {
   "cell_type": "code",
   "execution_count": 16,
   "metadata": {},
   "outputs": [
    {
     "data": {
      "text/plain": [
       "array([[4, 4, 3, 4, 2],\n",
       "       [7, 4, 4, 5, 3],\n",
       "       [6, 6, 5, 6, 4],\n",
       "       [7, 5, 8, 7, 5]])"
      ]
     },
     "execution_count": 16,
     "metadata": {},
     "output_type": "execute_result"
    }
   ],
   "source": [
    "A + B"
   ]
  },
  {
   "cell_type": "code",
   "execution_count": 17,
   "metadata": {},
   "outputs": [
    {
     "data": {
      "text/plain": [
       "array([[ 2,  2,  1,  2,  0],\n",
       "       [ 3,  0,  0,  1, -1],\n",
       "       [ 0,  0, -1,  0, -2],\n",
       "       [-1, -3,  0, -1, -3]])"
      ]
     },
     "execution_count": 17,
     "metadata": {},
     "output_type": "execute_result"
    }
   ],
   "source": [
    "A - B"
   ]
  },
  {
   "cell_type": "code",
   "execution_count": 18,
   "metadata": {},
   "outputs": [
    {
     "data": {
      "text/plain": [
       "array([[ 3,  3,  2,  3,  1],\n",
       "       [10,  4,  4,  6,  2],\n",
       "       [ 9,  9,  6,  9,  3],\n",
       "       [12,  4, 16, 12,  4]])"
      ]
     },
     "execution_count": 18,
     "metadata": {},
     "output_type": "execute_result"
    }
   ],
   "source": [
    "A * B"
   ]
  },
  {
   "cell_type": "code",
   "execution_count": 19,
   "metadata": {},
   "outputs": [
    {
     "data": {
      "text/plain": [
       "array([[3.        , 3.        , 2.        , 3.        , 1.        ],\n",
       "       [2.5       , 1.        , 1.        , 1.5       , 0.5       ],\n",
       "       [1.        , 1.        , 0.66666667, 1.        , 0.33333333],\n",
       "       [0.75      , 0.25      , 1.        , 0.75      , 0.25      ]])"
      ]
     },
     "execution_count": 19,
     "metadata": {},
     "output_type": "execute_result"
    }
   ],
   "source": [
    "A / B"
   ]
  },
  {
   "cell_type": "code",
   "execution_count": 20,
   "metadata": {},
   "outputs": [
    {
     "data": {
      "text/plain": [
       "array([[12, 24, 36, 48],\n",
       "       [13, 26, 39, 52],\n",
       "       [12, 24, 36, 48],\n",
       "       [12, 24, 36, 48]])"
      ]
     },
     "execution_count": 20,
     "metadata": {},
     "output_type": "execute_result"
    }
   ],
   "source": [
    "A @ B.T"
   ]
  },
  {
   "cell_type": "code",
   "execution_count": 21,
   "metadata": {},
   "outputs": [],
   "source": [
    "C = np.array([\n",
    "        [3,3,2,3,1],\n",
    "        [5,2,2,3,1],\n",
    "        [3,3,np.nan,3,1],\n",
    "        [3,1,4,3,1],\n",
    "])\n",
    "\n",
    "D = np.array([\n",
    "    [1,np.nan,1,1,1],\n",
    "    [2,2,2,2,2],\n",
    "    [3,3,3,3,3],\n",
    "    [np.nan,4,4,4,4],\n",
    "])"
   ]
  },
  {
   "cell_type": "code",
   "execution_count": 22,
   "metadata": {},
   "outputs": [
    {
     "data": {
      "text/plain": [
       "array([[ 4., nan,  3.,  4.,  2.],\n",
       "       [ 7.,  4.,  4.,  5.,  3.],\n",
       "       [ 6.,  6., nan,  6.,  4.],\n",
       "       [nan,  5.,  8.,  7.,  5.]])"
      ]
     },
     "execution_count": 22,
     "metadata": {},
     "output_type": "execute_result"
    }
   ],
   "source": [
    "C + D"
   ]
  },
  {
   "cell_type": "code",
   "execution_count": 23,
   "metadata": {},
   "outputs": [
    {
     "data": {
      "text/plain": [
       "array([[15., 15., 10., 15.,  5.],\n",
       "       [25., 10., 10., 15.,  5.],\n",
       "       [15., 15., nan, 15.,  5.],\n",
       "       [15.,  5., 20., 15.,  5.]])"
      ]
     },
     "execution_count": 23,
     "metadata": {},
     "output_type": "execute_result"
    }
   ],
   "source": [
    "5 * C"
   ]
  },
  {
   "cell_type": "code",
   "execution_count": 27,
   "metadata": {},
   "outputs": [
    {
     "data": {
      "text/plain": [
       "nan"
      ]
     },
     "execution_count": 27,
     "metadata": {},
     "output_type": "execute_result"
    }
   ],
   "source": [
    "np.sum(C)"
   ]
  },
  {
   "cell_type": "code",
   "execution_count": 28,
   "metadata": {},
   "outputs": [
    {
     "data": {
      "text/plain": [
       "49"
      ]
     },
     "execution_count": 28,
     "metadata": {},
     "output_type": "execute_result"
    }
   ],
   "source": [
    "np.sum(A)"
   ]
  },
  {
   "cell_type": "code",
   "execution_count": 29,
   "metadata": {},
   "outputs": [
    {
     "data": {
      "text/plain": [
       "47.0"
      ]
     },
     "execution_count": 29,
     "metadata": {},
     "output_type": "execute_result"
    }
   ],
   "source": [
    "# nan 값 제외하고 계산하기\n",
    "np.nansum(C)"
   ]
  },
  {
   "cell_type": "code",
   "execution_count": 30,
   "metadata": {},
   "outputs": [
    {
     "data": {
      "text/plain": [
       "2.45"
      ]
     },
     "execution_count": 30,
     "metadata": {},
     "output_type": "execute_result"
    }
   ],
   "source": [
    "np.mean(A)"
   ]
  },
  {
   "cell_type": "code",
   "execution_count": 31,
   "metadata": {},
   "outputs": [
    {
     "data": {
      "text/plain": [
       "2.473684210526316"
      ]
     },
     "execution_count": 31,
     "metadata": {},
     "output_type": "execute_result"
    }
   ],
   "source": [
    "np.nanmean(C)"
   ]
  },
  {
   "cell_type": "code",
   "execution_count": 33,
   "metadata": {},
   "outputs": [
    {
     "name": "stdout",
     "output_type": "stream",
     "text": [
      "[3 3 2 3 1]\n",
      "[3 1 4 3 1]\n"
     ]
    }
   ],
   "source": [
    "print(A[0])\n",
    "print(A[3])"
   ]
  },
  {
   "cell_type": "code",
   "execution_count": 34,
   "metadata": {},
   "outputs": [
    {
     "name": "stdout",
     "output_type": "stream",
     "text": [
      "[3 3 3 3]\n"
     ]
    }
   ],
   "source": [
    "print(A[:, 3])"
   ]
  },
  {
   "attachments": {},
   "cell_type": "markdown",
   "metadata": {},
   "source": [
    "# 넘파이 활용, user(사용자) 간 거리 구하기"
   ]
  },
  {
   "cell_type": "code",
   "execution_count": 35,
   "metadata": {},
   "outputs": [],
   "source": [
    "import numpy as np\n",
    "import pandas as pd\n",
    "from math import sqrt"
   ]
  },
  {
   "cell_type": "code",
   "execution_count": 51,
   "metadata": {},
   "outputs": [],
   "source": [
    "def distance(user_1, user_2) :\n",
    "    '''유클리드 거리를 계산해 주는 함수'''\n",
    "    sum = 0\n",
    "    for i in range(len(user_1)) :\n",
    "        sum += (user_1[i] - user_2[i])**2\n",
    "    return sqrt(sum)"
   ]
  },
  {
   "cell_type": "code",
   "execution_count": 52,
   "metadata": {},
   "outputs": [
    {
     "data": {
      "text/plain": [
       "4.795831523312719"
      ]
     },
     "execution_count": 52,
     "metadata": {},
     "output_type": "execute_result"
    }
   ],
   "source": [
    "# 실행코드\n",
    "user_1 = np.array([0,1,2,3,4,5])\n",
    "user_2 = np.array([0,1,4,6,1,4])\n",
    "\n",
    "distance(user_1, user_2)"
   ]
  },
  {
   "cell_type": "code",
   "execution_count": 54,
   "metadata": {},
   "outputs": [
    {
     "data": {
      "text/plain": [
       "2.23606797749979"
      ]
     },
     "execution_count": 54,
     "metadata": {},
     "output_type": "execute_result"
    }
   ],
   "source": [
    "distance([2,3], [4,4])"
   ]
  },
  {
   "cell_type": "code",
   "execution_count": 55,
   "metadata": {},
   "outputs": [],
   "source": [
    "def distance(user_1, user_2) :\n",
    "    import numpy as np\n",
    "    user_1 = np.array(user_1)\n",
    "    user_2 = np.array(user_2)\n",
    "    \n",
    "    return np.sqrt(np.sum((user_1 - user_2)**2))"
   ]
  },
  {
   "cell_type": "code",
   "execution_count": 65,
   "metadata": {},
   "outputs": [
    {
     "data": {
      "text/plain": [
       "2.23606797749979"
      ]
     },
     "execution_count": 65,
     "metadata": {},
     "output_type": "execute_result"
    }
   ],
   "source": [
    "distance([2,3], [4,4])"
   ]
  },
  {
   "cell_type": "code",
   "execution_count": 59,
   "metadata": {},
   "outputs": [],
   "source": [
    "# 소수점 둘째자리까지만 출력\n",
    "np.set_printoptions(precision = 2)\n"
   ]
  },
  {
   "attachments": {},
   "cell_type": "markdown",
   "metadata": {},
   "source": [
    "### 데이터 불러오기"
   ]
  },
  {
   "cell_type": "code",
   "execution_count": 60,
   "metadata": {},
   "outputs": [],
   "source": [
    "df = pd.read_csv('./cf_ratings.csv', index_col = 'user_id')"
   ]
  },
  {
   "cell_type": "code",
   "execution_count": 61,
   "metadata": {},
   "outputs": [
    {
     "data": {
      "text/html": [
       "<div>\n",
       "<style scoped>\n",
       "    .dataframe tbody tr th:only-of-type {\n",
       "        vertical-align: middle;\n",
       "    }\n",
       "\n",
       "    .dataframe tbody tr th {\n",
       "        vertical-align: top;\n",
       "    }\n",
       "\n",
       "    .dataframe thead th {\n",
       "        text-align: right;\n",
       "    }\n",
       "</style>\n",
       "<table border=\"1\" class=\"dataframe\">\n",
       "  <thead>\n",
       "    <tr style=\"text-align: right;\">\n",
       "      <th></th>\n",
       "      <th>0</th>\n",
       "      <th>1</th>\n",
       "      <th>2</th>\n",
       "      <th>3</th>\n",
       "      <th>4</th>\n",
       "      <th>5</th>\n",
       "      <th>6</th>\n",
       "      <th>7</th>\n",
       "      <th>8</th>\n",
       "      <th>9</th>\n",
       "      <th>10</th>\n",
       "      <th>11</th>\n",
       "      <th>12</th>\n",
       "      <th>13</th>\n",
       "      <th>14</th>\n",
       "      <th>15</th>\n",
       "      <th>16</th>\n",
       "      <th>17</th>\n",
       "      <th>18</th>\n",
       "      <th>19</th>\n",
       "    </tr>\n",
       "    <tr>\n",
       "      <th>user_id</th>\n",
       "      <th></th>\n",
       "      <th></th>\n",
       "      <th></th>\n",
       "      <th></th>\n",
       "      <th></th>\n",
       "      <th></th>\n",
       "      <th></th>\n",
       "      <th></th>\n",
       "      <th></th>\n",
       "      <th></th>\n",
       "      <th></th>\n",
       "      <th></th>\n",
       "      <th></th>\n",
       "      <th></th>\n",
       "      <th></th>\n",
       "      <th></th>\n",
       "      <th></th>\n",
       "      <th></th>\n",
       "      <th></th>\n",
       "      <th></th>\n",
       "    </tr>\n",
       "  </thead>\n",
       "  <tbody>\n",
       "    <tr>\n",
       "      <th>0</th>\n",
       "      <td>2.0</td>\n",
       "      <td>3.0</td>\n",
       "      <td>4.0</td>\n",
       "      <td>NaN</td>\n",
       "      <td>2.0</td>\n",
       "      <td>3.0</td>\n",
       "      <td>NaN</td>\n",
       "      <td>NaN</td>\n",
       "      <td>NaN</td>\n",
       "      <td>4.0</td>\n",
       "      <td>4.0</td>\n",
       "      <td>NaN</td>\n",
       "      <td>NaN</td>\n",
       "      <td>1.0</td>\n",
       "      <td>NaN</td>\n",
       "      <td>NaN</td>\n",
       "      <td>2.0</td>\n",
       "      <td>5.0</td>\n",
       "      <td>2.0</td>\n",
       "      <td>NaN</td>\n",
       "    </tr>\n",
       "    <tr>\n",
       "      <th>1</th>\n",
       "      <td>NaN</td>\n",
       "      <td>NaN</td>\n",
       "      <td>NaN</td>\n",
       "      <td>4.0</td>\n",
       "      <td>NaN</td>\n",
       "      <td>5.0</td>\n",
       "      <td>NaN</td>\n",
       "      <td>NaN</td>\n",
       "      <td>2.0</td>\n",
       "      <td>NaN</td>\n",
       "      <td>4.0</td>\n",
       "      <td>NaN</td>\n",
       "      <td>1.0</td>\n",
       "      <td>NaN</td>\n",
       "      <td>NaN</td>\n",
       "      <td>NaN</td>\n",
       "      <td>NaN</td>\n",
       "      <td>5.0</td>\n",
       "      <td>NaN</td>\n",
       "      <td>NaN</td>\n",
       "    </tr>\n",
       "    <tr>\n",
       "      <th>2</th>\n",
       "      <td>2.0</td>\n",
       "      <td>NaN</td>\n",
       "      <td>1.0</td>\n",
       "      <td>NaN</td>\n",
       "      <td>NaN</td>\n",
       "      <td>5.0</td>\n",
       "      <td>5.0</td>\n",
       "      <td>NaN</td>\n",
       "      <td>NaN</td>\n",
       "      <td>NaN</td>\n",
       "      <td>NaN</td>\n",
       "      <td>5.0</td>\n",
       "      <td>3.0</td>\n",
       "      <td>3.0</td>\n",
       "      <td>NaN</td>\n",
       "      <td>3.0</td>\n",
       "      <td>3.0</td>\n",
       "      <td>4.0</td>\n",
       "      <td>NaN</td>\n",
       "      <td>NaN</td>\n",
       "    </tr>\n",
       "    <tr>\n",
       "      <th>3</th>\n",
       "      <td>NaN</td>\n",
       "      <td>3.0</td>\n",
       "      <td>5.0</td>\n",
       "      <td>NaN</td>\n",
       "      <td>NaN</td>\n",
       "      <td>NaN</td>\n",
       "      <td>4.0</td>\n",
       "      <td>3.0</td>\n",
       "      <td>NaN</td>\n",
       "      <td>5.0</td>\n",
       "      <td>3.0</td>\n",
       "      <td>NaN</td>\n",
       "      <td>4.0</td>\n",
       "      <td>NaN</td>\n",
       "      <td>NaN</td>\n",
       "      <td>2.0</td>\n",
       "      <td>NaN</td>\n",
       "      <td>NaN</td>\n",
       "      <td>NaN</td>\n",
       "      <td>2.0</td>\n",
       "    </tr>\n",
       "    <tr>\n",
       "      <th>4</th>\n",
       "      <td>NaN</td>\n",
       "      <td>NaN</td>\n",
       "      <td>NaN</td>\n",
       "      <td>5.0</td>\n",
       "      <td>NaN</td>\n",
       "      <td>NaN</td>\n",
       "      <td>2.0</td>\n",
       "      <td>2.0</td>\n",
       "      <td>2.0</td>\n",
       "      <td>NaN</td>\n",
       "      <td>3.0</td>\n",
       "      <td>4.0</td>\n",
       "      <td>2.0</td>\n",
       "      <td>5.0</td>\n",
       "      <td>4.0</td>\n",
       "      <td>NaN</td>\n",
       "      <td>NaN</td>\n",
       "      <td>NaN</td>\n",
       "      <td>4.0</td>\n",
       "      <td>2.0</td>\n",
       "    </tr>\n",
       "    <tr>\n",
       "      <th>5</th>\n",
       "      <td>NaN</td>\n",
       "      <td>4.0</td>\n",
       "      <td>3.0</td>\n",
       "      <td>NaN</td>\n",
       "      <td>NaN</td>\n",
       "      <td>5.0</td>\n",
       "      <td>NaN</td>\n",
       "      <td>NaN</td>\n",
       "      <td>NaN</td>\n",
       "      <td>3.0</td>\n",
       "      <td>2.0</td>\n",
       "      <td>NaN</td>\n",
       "      <td>NaN</td>\n",
       "      <td>NaN</td>\n",
       "      <td>1.0</td>\n",
       "      <td>NaN</td>\n",
       "      <td>4.0</td>\n",
       "      <td>3.0</td>\n",
       "      <td>NaN</td>\n",
       "      <td>5.0</td>\n",
       "    </tr>\n",
       "    <tr>\n",
       "      <th>6</th>\n",
       "      <td>3.0</td>\n",
       "      <td>NaN</td>\n",
       "      <td>NaN</td>\n",
       "      <td>NaN</td>\n",
       "      <td>4.0</td>\n",
       "      <td>5.0</td>\n",
       "      <td>2.0</td>\n",
       "      <td>2.0</td>\n",
       "      <td>NaN</td>\n",
       "      <td>3.0</td>\n",
       "      <td>NaN</td>\n",
       "      <td>4.0</td>\n",
       "      <td>NaN</td>\n",
       "      <td>NaN</td>\n",
       "      <td>2.0</td>\n",
       "      <td>4.0</td>\n",
       "      <td>NaN</td>\n",
       "      <td>NaN</td>\n",
       "      <td>NaN</td>\n",
       "      <td>1.0</td>\n",
       "    </tr>\n",
       "    <tr>\n",
       "      <th>7</th>\n",
       "      <td>NaN</td>\n",
       "      <td>5.0</td>\n",
       "      <td>1.0</td>\n",
       "      <td>4.0</td>\n",
       "      <td>NaN</td>\n",
       "      <td>NaN</td>\n",
       "      <td>NaN</td>\n",
       "      <td>3.0</td>\n",
       "      <td>1.0</td>\n",
       "      <td>NaN</td>\n",
       "      <td>1.0</td>\n",
       "      <td>NaN</td>\n",
       "      <td>NaN</td>\n",
       "      <td>4.0</td>\n",
       "      <td>NaN</td>\n",
       "      <td>NaN</td>\n",
       "      <td>2.0</td>\n",
       "      <td>NaN</td>\n",
       "      <td>NaN</td>\n",
       "      <td>4.0</td>\n",
       "    </tr>\n",
       "    <tr>\n",
       "      <th>8</th>\n",
       "      <td>NaN</td>\n",
       "      <td>3.0</td>\n",
       "      <td>1.0</td>\n",
       "      <td>1.0</td>\n",
       "      <td>NaN</td>\n",
       "      <td>3.0</td>\n",
       "      <td>NaN</td>\n",
       "      <td>4.0</td>\n",
       "      <td>NaN</td>\n",
       "      <td>1.0</td>\n",
       "      <td>1.0</td>\n",
       "      <td>NaN</td>\n",
       "      <td>4.0</td>\n",
       "      <td>4.0</td>\n",
       "      <td>2.0</td>\n",
       "      <td>NaN</td>\n",
       "      <td>NaN</td>\n",
       "      <td>5.0</td>\n",
       "      <td>3.0</td>\n",
       "      <td>NaN</td>\n",
       "    </tr>\n",
       "    <tr>\n",
       "      <th>9</th>\n",
       "      <td>1.0</td>\n",
       "      <td>1.0</td>\n",
       "      <td>NaN</td>\n",
       "      <td>1.0</td>\n",
       "      <td>1.0</td>\n",
       "      <td>NaN</td>\n",
       "      <td>NaN</td>\n",
       "      <td>NaN</td>\n",
       "      <td>NaN</td>\n",
       "      <td>NaN</td>\n",
       "      <td>NaN</td>\n",
       "      <td>2.0</td>\n",
       "      <td>NaN</td>\n",
       "      <td>NaN</td>\n",
       "      <td>1.0</td>\n",
       "      <td>NaN</td>\n",
       "      <td>NaN</td>\n",
       "      <td>NaN</td>\n",
       "      <td>4.0</td>\n",
       "      <td>NaN</td>\n",
       "    </tr>\n",
       "    <tr>\n",
       "      <th>10</th>\n",
       "      <td>NaN</td>\n",
       "      <td>2.0</td>\n",
       "      <td>NaN</td>\n",
       "      <td>NaN</td>\n",
       "      <td>2.0</td>\n",
       "      <td>2.0</td>\n",
       "      <td>NaN</td>\n",
       "      <td>NaN</td>\n",
       "      <td>2.0</td>\n",
       "      <td>3.0</td>\n",
       "      <td>2.0</td>\n",
       "      <td>NaN</td>\n",
       "      <td>NaN</td>\n",
       "      <td>1.0</td>\n",
       "      <td>4.0</td>\n",
       "      <td>5.0</td>\n",
       "      <td>3.0</td>\n",
       "      <td>NaN</td>\n",
       "      <td>3.0</td>\n",
       "      <td>3.0</td>\n",
       "    </tr>\n",
       "    <tr>\n",
       "      <th>11</th>\n",
       "      <td>3.0</td>\n",
       "      <td>NaN</td>\n",
       "      <td>NaN</td>\n",
       "      <td>5.0</td>\n",
       "      <td>4.0</td>\n",
       "      <td>NaN</td>\n",
       "      <td>NaN</td>\n",
       "      <td>4.0</td>\n",
       "      <td>5.0</td>\n",
       "      <td>3.0</td>\n",
       "      <td>NaN</td>\n",
       "      <td>1.0</td>\n",
       "      <td>2.0</td>\n",
       "      <td>1.0</td>\n",
       "      <td>1.0</td>\n",
       "      <td>NaN</td>\n",
       "      <td>NaN</td>\n",
       "      <td>NaN</td>\n",
       "      <td>4.0</td>\n",
       "      <td>NaN</td>\n",
       "    </tr>\n",
       "    <tr>\n",
       "      <th>12</th>\n",
       "      <td>2.0</td>\n",
       "      <td>NaN</td>\n",
       "      <td>5.0</td>\n",
       "      <td>NaN</td>\n",
       "      <td>5.0</td>\n",
       "      <td>4.0</td>\n",
       "      <td>NaN</td>\n",
       "      <td>NaN</td>\n",
       "      <td>NaN</td>\n",
       "      <td>NaN</td>\n",
       "      <td>NaN</td>\n",
       "      <td>2.0</td>\n",
       "      <td>3.0</td>\n",
       "      <td>NaN</td>\n",
       "      <td>4.0</td>\n",
       "      <td>NaN</td>\n",
       "      <td>NaN</td>\n",
       "      <td>NaN</td>\n",
       "      <td>NaN</td>\n",
       "      <td>3.0</td>\n",
       "    </tr>\n",
       "    <tr>\n",
       "      <th>13</th>\n",
       "      <td>NaN</td>\n",
       "      <td>2.0</td>\n",
       "      <td>1.0</td>\n",
       "      <td>NaN</td>\n",
       "      <td>NaN</td>\n",
       "      <td>NaN</td>\n",
       "      <td>4.0</td>\n",
       "      <td>NaN</td>\n",
       "      <td>1.0</td>\n",
       "      <td>NaN</td>\n",
       "      <td>5.0</td>\n",
       "      <td>5.0</td>\n",
       "      <td>4.0</td>\n",
       "      <td>3.0</td>\n",
       "      <td>5.0</td>\n",
       "      <td>NaN</td>\n",
       "      <td>NaN</td>\n",
       "      <td>5.0</td>\n",
       "      <td>5.0</td>\n",
       "      <td>4.0</td>\n",
       "    </tr>\n",
       "    <tr>\n",
       "      <th>14</th>\n",
       "      <td>NaN</td>\n",
       "      <td>3.0</td>\n",
       "      <td>5.0</td>\n",
       "      <td>NaN</td>\n",
       "      <td>NaN</td>\n",
       "      <td>NaN</td>\n",
       "      <td>2.0</td>\n",
       "      <td>5.0</td>\n",
       "      <td>3.0</td>\n",
       "      <td>NaN</td>\n",
       "      <td>3.0</td>\n",
       "      <td>3.0</td>\n",
       "      <td>NaN</td>\n",
       "      <td>4.0</td>\n",
       "      <td>NaN</td>\n",
       "      <td>4.0</td>\n",
       "      <td>NaN</td>\n",
       "      <td>1.0</td>\n",
       "      <td>NaN</td>\n",
       "      <td>NaN</td>\n",
       "    </tr>\n",
       "    <tr>\n",
       "      <th>15</th>\n",
       "      <td>NaN</td>\n",
       "      <td>NaN</td>\n",
       "      <td>2.0</td>\n",
       "      <td>5.0</td>\n",
       "      <td>NaN</td>\n",
       "      <td>NaN</td>\n",
       "      <td>NaN</td>\n",
       "      <td>NaN</td>\n",
       "      <td>NaN</td>\n",
       "      <td>NaN</td>\n",
       "      <td>NaN</td>\n",
       "      <td>NaN</td>\n",
       "      <td>1.0</td>\n",
       "      <td>NaN</td>\n",
       "      <td>NaN</td>\n",
       "      <td>NaN</td>\n",
       "      <td>3.0</td>\n",
       "      <td>1.0</td>\n",
       "      <td>5.0</td>\n",
       "      <td>2.0</td>\n",
       "    </tr>\n",
       "    <tr>\n",
       "      <th>16</th>\n",
       "      <td>NaN</td>\n",
       "      <td>5.0</td>\n",
       "      <td>NaN</td>\n",
       "      <td>5.0</td>\n",
       "      <td>3.0</td>\n",
       "      <td>NaN</td>\n",
       "      <td>NaN</td>\n",
       "      <td>3.0</td>\n",
       "      <td>2.0</td>\n",
       "      <td>4.0</td>\n",
       "      <td>2.0</td>\n",
       "      <td>NaN</td>\n",
       "      <td>4.0</td>\n",
       "      <td>4.0</td>\n",
       "      <td>5.0</td>\n",
       "      <td>4.0</td>\n",
       "      <td>2.0</td>\n",
       "      <td>NaN</td>\n",
       "      <td>1.0</td>\n",
       "      <td>3.0</td>\n",
       "    </tr>\n",
       "    <tr>\n",
       "      <th>17</th>\n",
       "      <td>4.0</td>\n",
       "      <td>NaN</td>\n",
       "      <td>1.0</td>\n",
       "      <td>NaN</td>\n",
       "      <td>NaN</td>\n",
       "      <td>5.0</td>\n",
       "      <td>2.0</td>\n",
       "      <td>NaN</td>\n",
       "      <td>5.0</td>\n",
       "      <td>NaN</td>\n",
       "      <td>NaN</td>\n",
       "      <td>4.0</td>\n",
       "      <td>NaN</td>\n",
       "      <td>2.0</td>\n",
       "      <td>3.0</td>\n",
       "      <td>NaN</td>\n",
       "      <td>NaN</td>\n",
       "      <td>NaN</td>\n",
       "      <td>NaN</td>\n",
       "      <td>5.0</td>\n",
       "    </tr>\n",
       "    <tr>\n",
       "      <th>18</th>\n",
       "      <td>NaN</td>\n",
       "      <td>NaN</td>\n",
       "      <td>4.0</td>\n",
       "      <td>NaN</td>\n",
       "      <td>1.0</td>\n",
       "      <td>4.0</td>\n",
       "      <td>NaN</td>\n",
       "      <td>4.0</td>\n",
       "      <td>2.0</td>\n",
       "      <td>1.0</td>\n",
       "      <td>NaN</td>\n",
       "      <td>NaN</td>\n",
       "      <td>NaN</td>\n",
       "      <td>NaN</td>\n",
       "      <td>2.0</td>\n",
       "      <td>1.0</td>\n",
       "      <td>1.0</td>\n",
       "      <td>NaN</td>\n",
       "      <td>3.0</td>\n",
       "      <td>5.0</td>\n",
       "    </tr>\n",
       "    <tr>\n",
       "      <th>19</th>\n",
       "      <td>2.0</td>\n",
       "      <td>NaN</td>\n",
       "      <td>NaN</td>\n",
       "      <td>2.0</td>\n",
       "      <td>5.0</td>\n",
       "      <td>NaN</td>\n",
       "      <td>2.0</td>\n",
       "      <td>NaN</td>\n",
       "      <td>2.0</td>\n",
       "      <td>1.0</td>\n",
       "      <td>NaN</td>\n",
       "      <td>NaN</td>\n",
       "      <td>5.0</td>\n",
       "      <td>2.0</td>\n",
       "      <td>2.0</td>\n",
       "      <td>3.0</td>\n",
       "      <td>NaN</td>\n",
       "      <td>NaN</td>\n",
       "      <td>1.0</td>\n",
       "      <td>2.0</td>\n",
       "    </tr>\n",
       "  </tbody>\n",
       "</table>\n",
       "</div>"
      ],
      "text/plain": [
       "           0    1    2    3    4    5    6    7    8    9   10   11   12   13  \\\n",
       "user_id                                                                         \n",
       "0        2.0  3.0  4.0  NaN  2.0  3.0  NaN  NaN  NaN  4.0  4.0  NaN  NaN  1.0   \n",
       "1        NaN  NaN  NaN  4.0  NaN  5.0  NaN  NaN  2.0  NaN  4.0  NaN  1.0  NaN   \n",
       "2        2.0  NaN  1.0  NaN  NaN  5.0  5.0  NaN  NaN  NaN  NaN  5.0  3.0  3.0   \n",
       "3        NaN  3.0  5.0  NaN  NaN  NaN  4.0  3.0  NaN  5.0  3.0  NaN  4.0  NaN   \n",
       "4        NaN  NaN  NaN  5.0  NaN  NaN  2.0  2.0  2.0  NaN  3.0  4.0  2.0  5.0   \n",
       "5        NaN  4.0  3.0  NaN  NaN  5.0  NaN  NaN  NaN  3.0  2.0  NaN  NaN  NaN   \n",
       "6        3.0  NaN  NaN  NaN  4.0  5.0  2.0  2.0  NaN  3.0  NaN  4.0  NaN  NaN   \n",
       "7        NaN  5.0  1.0  4.0  NaN  NaN  NaN  3.0  1.0  NaN  1.0  NaN  NaN  4.0   \n",
       "8        NaN  3.0  1.0  1.0  NaN  3.0  NaN  4.0  NaN  1.0  1.0  NaN  4.0  4.0   \n",
       "9        1.0  1.0  NaN  1.0  1.0  NaN  NaN  NaN  NaN  NaN  NaN  2.0  NaN  NaN   \n",
       "10       NaN  2.0  NaN  NaN  2.0  2.0  NaN  NaN  2.0  3.0  2.0  NaN  NaN  1.0   \n",
       "11       3.0  NaN  NaN  5.0  4.0  NaN  NaN  4.0  5.0  3.0  NaN  1.0  2.0  1.0   \n",
       "12       2.0  NaN  5.0  NaN  5.0  4.0  NaN  NaN  NaN  NaN  NaN  2.0  3.0  NaN   \n",
       "13       NaN  2.0  1.0  NaN  NaN  NaN  4.0  NaN  1.0  NaN  5.0  5.0  4.0  3.0   \n",
       "14       NaN  3.0  5.0  NaN  NaN  NaN  2.0  5.0  3.0  NaN  3.0  3.0  NaN  4.0   \n",
       "15       NaN  NaN  2.0  5.0  NaN  NaN  NaN  NaN  NaN  NaN  NaN  NaN  1.0  NaN   \n",
       "16       NaN  5.0  NaN  5.0  3.0  NaN  NaN  3.0  2.0  4.0  2.0  NaN  4.0  4.0   \n",
       "17       4.0  NaN  1.0  NaN  NaN  5.0  2.0  NaN  5.0  NaN  NaN  4.0  NaN  2.0   \n",
       "18       NaN  NaN  4.0  NaN  1.0  4.0  NaN  4.0  2.0  1.0  NaN  NaN  NaN  NaN   \n",
       "19       2.0  NaN  NaN  2.0  5.0  NaN  2.0  NaN  2.0  1.0  NaN  NaN  5.0  2.0   \n",
       "\n",
       "          14   15   16   17   18   19  \n",
       "user_id                                \n",
       "0        NaN  NaN  2.0  5.0  2.0  NaN  \n",
       "1        NaN  NaN  NaN  5.0  NaN  NaN  \n",
       "2        NaN  3.0  3.0  4.0  NaN  NaN  \n",
       "3        NaN  2.0  NaN  NaN  NaN  2.0  \n",
       "4        4.0  NaN  NaN  NaN  4.0  2.0  \n",
       "5        1.0  NaN  4.0  3.0  NaN  5.0  \n",
       "6        2.0  4.0  NaN  NaN  NaN  1.0  \n",
       "7        NaN  NaN  2.0  NaN  NaN  4.0  \n",
       "8        2.0  NaN  NaN  5.0  3.0  NaN  \n",
       "9        1.0  NaN  NaN  NaN  4.0  NaN  \n",
       "10       4.0  5.0  3.0  NaN  3.0  3.0  \n",
       "11       1.0  NaN  NaN  NaN  4.0  NaN  \n",
       "12       4.0  NaN  NaN  NaN  NaN  3.0  \n",
       "13       5.0  NaN  NaN  5.0  5.0  4.0  \n",
       "14       NaN  4.0  NaN  1.0  NaN  NaN  \n",
       "15       NaN  NaN  3.0  1.0  5.0  2.0  \n",
       "16       5.0  4.0  2.0  NaN  1.0  3.0  \n",
       "17       3.0  NaN  NaN  NaN  NaN  5.0  \n",
       "18       2.0  1.0  1.0  NaN  3.0  5.0  \n",
       "19       2.0  3.0  NaN  NaN  1.0  2.0  "
      ]
     },
     "execution_count": 61,
     "metadata": {},
     "output_type": "execute_result"
    }
   ],
   "source": [
    "df"
   ]
  },
  {
   "attachments": {},
   "cell_type": "markdown",
   "metadata": {},
   "source": [
    "### 함수 정의"
   ]
  },
  {
   "cell_type": "code",
   "execution_count": 62,
   "metadata": {},
   "outputs": [],
   "source": [
    "def distance(user_1, user_2) :\n",
    "    import numpy as np\n",
    "    user_1 = np.array(user_1)\n",
    "    user_2 = np.array(user_2)\n",
    "    \n",
    "    return np.sqrt(np.sum((user_1 - user_2)**2))\n",
    "\n",
    "# movie_id 번째 영화를 평가하지 않은 사용자 미리 제외하는 함수 생성\n",
    "\n",
    "def filter_users_without_movie(rating_data, movie_id) :\n",
    "    return rating_data[~np.isnan(rating_data[:, movie_id])] "
   ]
  },
  {
   "cell_type": "code",
   "execution_count": 63,
   "metadata": {},
   "outputs": [],
   "source": [
    "# 평점 데이터의 빈 값을 사용자(유저) 평균 값 채우는 함수 생성\n",
    "\n",
    "def fill_nan_with_user_mean(rating_data) :\n",
    "    filled_data = np.copy(rating_data)\n",
    "    \n",
    "    # 사용자(유저)의ㅡ 평균 평점 계산\n",
    "    row_mean = np.nanmean(filled_data, axis = 1)\n",
    "    \n",
    "    # 비어있는 인덱스 구하기\n",
    "    inds = np.where(np.isnan(filled_data))\n",
    "    \n",
    "    # 빈 인덱스를 유저 평점으로 채우기\n",
    "    filled_data[inds] = np.take(row_mean, inds[0])\n",
    "    \n",
    "    return filled_data\n",
    "    "
   ]
  },
  {
   "cell_type": "code",
   "execution_count": 64,
   "metadata": {},
   "outputs": [],
   "source": [
    "# user_id에 해당하는 사용자(유저) 이웃을 찾아주는 함수\n",
    "def get_k_neighbors(user_id, rating_data, k) :\n",
    "    distance_data = np.copy(rating_data)\n",
    "    \n",
    "    # 마지막에 거리 데이터를 담을 열 추가\n",
    "    distance_data = np.append(distance_data, np.zeros((distance_data.shape[0], 1)), axis = 1)\n",
    "    \n",
    "    for i in range(len(distance_data)) :\n",
    "        row = distance_data[i]\n",
    "        \n",
    "        if i == user_id :\n",
    "            row[-1] = np.inf\n",
    "        \n",
    "        else : \n",
    "            row[-1] = distance(distance_data[user_id][:-1], row[:-1])\n",
    "            \n",
    "    # 데이터를 거리 열 기준 정렬\n",
    "    distance_data[np.argsort(distance_data[:, -1])]\n",
    "    \n",
    "    # 가장 가까운 k 개의 행만 리턴한다\n",
    "    # 마지막(거리) 열은 제외한다\n",
    "    \n",
    "    return distance_data[:k, :-1]"
   ]
  },
  {
   "attachments": {},
   "cell_type": "markdown",
   "metadata": {},
   "source": [
    "### fill_nan_with_user_mean 함수 뜯어보기"
   ]
  },
  {
   "cell_type": "code",
   "execution_count": 65,
   "metadata": {},
   "outputs": [
    {
     "data": {
      "text/plain": [
       "array([[nan, nan, nan,  4., nan,  5., nan, nan,  2., nan,  4., nan,  1.,\n",
       "        nan, nan, nan, nan,  5., nan, nan],\n",
       "       [nan, nan, nan,  5., nan, nan,  2.,  2.,  2., nan,  3.,  4.,  2.,\n",
       "         5.,  4., nan, nan, nan,  4.,  2.],\n",
       "       [nan,  5.,  1.,  4., nan, nan, nan,  3.,  1., nan,  1., nan, nan,\n",
       "         4., nan, nan,  2., nan, nan,  4.],\n",
       "       [nan,  3.,  1.,  1., nan,  3., nan,  4., nan,  1.,  1., nan,  4.,\n",
       "         4.,  2., nan, nan,  5.,  3., nan],\n",
       "       [ 1.,  1., nan,  1.,  1., nan, nan, nan, nan, nan, nan,  2., nan,\n",
       "        nan,  1., nan, nan, nan,  4., nan],\n",
       "       [ 3., nan, nan,  5.,  4., nan, nan,  4.,  5.,  3., nan,  1.,  2.,\n",
       "         1.,  1., nan, nan, nan,  4., nan],\n",
       "       [nan, nan,  2.,  5., nan, nan, nan, nan, nan, nan, nan, nan,  1.,\n",
       "        nan, nan, nan,  3.,  1.,  5.,  2.],\n",
       "       [nan,  5., nan,  5.,  3., nan, nan,  3.,  2.,  4.,  2., nan,  4.,\n",
       "         4.,  5.,  4.,  2., nan,  1.,  3.],\n",
       "       [ 2., nan, nan,  2.,  5., nan,  2., nan,  2.,  1., nan, nan,  5.,\n",
       "         2.,  2.,  3., nan, nan,  1.,  2.]])"
      ]
     },
     "execution_count": 65,
     "metadata": {},
     "output_type": "execute_result"
    }
   ],
   "source": [
    "rating_data = filter_users_without_movie(df.values , 3)\n",
    "rating_data"
   ]
  },
  {
   "cell_type": "code",
   "execution_count": 66,
   "metadata": {},
   "outputs": [
    {
     "data": {
      "text/plain": [
       "array([3.5 , 3.18, 2.78, 2.67, 1.57, 3.  , 2.71, 3.36, 2.42])"
      ]
     },
     "execution_count": 66,
     "metadata": {},
     "output_type": "execute_result"
    }
   ],
   "source": [
    "filled_data = rating_data.copy()\n",
    "row_mean = np.nanmean(filled_data, axis = 1)\n",
    "row_mean"
   ]
  },
  {
   "cell_type": "code",
   "execution_count": 67,
   "metadata": {},
   "outputs": [
    {
     "data": {
      "text/plain": [
       "(array([0, 0, 0, 0, 0, 0, 0, 0, 0, 0, 0, 0, 0, 0, 1, 1, 1, 1, 1, 1, 1, 1,\n",
       "        1, 2, 2, 2, 2, 2, 2, 2, 2, 2, 2, 2, 3, 3, 3, 3, 3, 3, 3, 3, 4, 4,\n",
       "        4, 4, 4, 4, 4, 4, 4, 4, 4, 4, 4, 5, 5, 5, 5, 5, 5, 5, 5, 5, 6, 6,\n",
       "        6, 6, 6, 6, 6, 6, 6, 6, 6, 6, 6, 7, 7, 7, 7, 7, 7, 8, 8, 8, 8, 8,\n",
       "        8, 8, 8], dtype=int64),\n",
       " array([ 0,  1,  2,  4,  6,  7,  9, 11, 13, 14, 15, 16, 18, 19,  0,  1,  2,\n",
       "         4,  5,  9, 15, 16, 17,  0,  4,  5,  6,  9, 11, 12, 14, 15, 17, 18,\n",
       "         0,  4,  6,  8, 11, 15, 16, 19,  2,  5,  6,  7,  8,  9, 10, 12, 13,\n",
       "        15, 16, 17, 19,  1,  2,  5,  6, 10, 15, 16, 17, 19,  0,  1,  4,  5,\n",
       "         6,  7,  8,  9, 10, 11, 13, 14, 15,  0,  2,  5,  6, 11, 17,  1,  2,\n",
       "         5,  7, 10, 11, 16, 17], dtype=int64))"
      ]
     },
     "execution_count": 67,
     "metadata": {},
     "output_type": "execute_result"
    }
   ],
   "source": [
    "inds = np.where(np.isnan(filled_data))\n",
    "inds"
   ]
  },
  {
   "cell_type": "code",
   "execution_count": 68,
   "metadata": {},
   "outputs": [
    {
     "data": {
      "text/plain": [
       "array([nan, nan, nan, nan, nan, nan, nan, nan, nan, nan, nan, nan, nan,\n",
       "       nan, nan, nan, nan, nan, nan, nan, nan, nan, nan, nan, nan, nan,\n",
       "       nan, nan, nan, nan, nan, nan, nan, nan, nan, nan, nan, nan, nan,\n",
       "       nan, nan, nan, nan, nan, nan, nan, nan, nan, nan, nan, nan, nan,\n",
       "       nan, nan, nan, nan, nan, nan, nan, nan, nan, nan, nan, nan, nan,\n",
       "       nan, nan, nan, nan, nan, nan, nan, nan, nan, nan, nan, nan, nan,\n",
       "       nan, nan, nan, nan, nan, nan, nan, nan, nan, nan, nan, nan, nan])"
      ]
     },
     "execution_count": 68,
     "metadata": {},
     "output_type": "execute_result"
    }
   ],
   "source": [
    "filled_data[inds]"
   ]
  },
  {
   "cell_type": "code",
   "execution_count": 69,
   "metadata": {},
   "outputs": [
    {
     "data": {
      "text/plain": [
       "array([3.5 , 3.5 , 3.5 , 3.5 , 3.5 , 3.5 , 3.5 , 3.5 , 3.5 , 3.5 , 3.5 ,\n",
       "       3.5 , 3.5 , 3.5 , 3.18, 3.18, 3.18, 3.18, 3.18, 3.18, 3.18, 3.18,\n",
       "       3.18, 2.78, 2.78, 2.78, 2.78, 2.78, 2.78, 2.78, 2.78, 2.78, 2.78,\n",
       "       2.78, 2.67, 2.67, 2.67, 2.67, 2.67, 2.67, 2.67, 2.67, 1.57, 1.57,\n",
       "       1.57, 1.57, 1.57, 1.57, 1.57, 1.57, 1.57, 1.57, 1.57, 1.57, 1.57,\n",
       "       3.  , 3.  , 3.  , 3.  , 3.  , 3.  , 3.  , 3.  , 3.  , 2.71, 2.71,\n",
       "       2.71, 2.71, 2.71, 2.71, 2.71, 2.71, 2.71, 2.71, 2.71, 2.71, 2.71,\n",
       "       3.36, 3.36, 3.36, 3.36, 3.36, 3.36, 2.42, 2.42, 2.42, 2.42, 2.42,\n",
       "       2.42, 2.42, 2.42])"
      ]
     },
     "execution_count": 69,
     "metadata": {},
     "output_type": "execute_result"
    }
   ],
   "source": [
    "np.take(row_mean, inds[0])"
   ]
  },
  {
   "attachments": {},
   "cell_type": "markdown",
   "metadata": {},
   "source": [
    "### 코드 실행"
   ]
  },
  {
   "cell_type": "code",
   "execution_count": 71,
   "metadata": {},
   "outputs": [
    {
     "data": {
      "text/plain": [
       "array([[3.5 , 3.5 , 3.5 , 4.  , 3.5 , 5.  , 3.5 , 3.5 , 2.  , 3.5 , 4.  ,\n",
       "        3.5 , 1.  , 3.5 , 3.5 , 3.5 , 3.5 , 5.  , 3.5 , 3.5 ],\n",
       "       [3.18, 3.18, 3.18, 5.  , 3.18, 3.18, 2.  , 2.  , 2.  , 3.18, 3.  ,\n",
       "        4.  , 2.  , 5.  , 4.  , 3.18, 3.18, 3.18, 4.  , 2.  ],\n",
       "       [2.78, 5.  , 1.  , 4.  , 2.78, 2.78, 2.78, 3.  , 1.  , 2.78, 1.  ,\n",
       "        2.78, 2.78, 4.  , 2.78, 2.78, 2.  , 2.78, 2.78, 4.  ],\n",
       "       [2.67, 3.  , 1.  , 1.  , 2.67, 3.  , 2.67, 4.  , 2.67, 1.  , 1.  ,\n",
       "        2.67, 4.  , 4.  , 2.  , 2.67, 2.67, 5.  , 3.  , 2.67],\n",
       "       [1.  , 1.  , 1.57, 1.  , 1.  , 1.57, 1.57, 1.57, 1.57, 1.57, 1.57,\n",
       "        2.  , 1.57, 1.57, 1.  , 1.57, 1.57, 1.57, 4.  , 1.57],\n",
       "       [3.  , 3.  , 3.  , 5.  , 4.  , 3.  , 3.  , 4.  , 5.  , 3.  , 3.  ,\n",
       "        1.  , 2.  , 1.  , 1.  , 3.  , 3.  , 3.  , 4.  , 3.  ],\n",
       "       [2.71, 2.71, 2.  , 5.  , 2.71, 2.71, 2.71, 2.71, 2.71, 2.71, 2.71,\n",
       "        2.71, 1.  , 2.71, 2.71, 2.71, 3.  , 1.  , 5.  , 2.  ],\n",
       "       [3.36, 5.  , 3.36, 5.  , 3.  , 3.36, 3.36, 3.  , 2.  , 4.  , 2.  ,\n",
       "        3.36, 4.  , 4.  , 5.  , 4.  , 2.  , 3.36, 1.  , 3.  ],\n",
       "       [2.  , 2.42, 2.42, 2.  , 5.  , 2.42, 2.  , 2.42, 2.  , 1.  , 2.42,\n",
       "        2.42, 5.  , 2.  , 2.  , 3.  , 2.42, 2.42, 1.  , 2.  ]])"
      ]
     },
     "execution_count": 71,
     "metadata": {},
     "output_type": "execute_result"
    }
   ],
   "source": [
    "# 실행 코드\n",
    "# 영화 3을 본 유저들 중, 유저 0과 비슷한 유저를 5명 찾기\n",
    "rating_data = df.values\n",
    "\n",
    "\n",
    "# 3 번째 영화를 보지 않은 유저를 데이터에서 미리 제외시킨다\n",
    "rating_data = filter_users_without_movie(rating_data, 3)\n",
    "\n",
    "# nan 값 채우기\n",
    "rating_data = fill_nan_with_user_mean(rating_data)\n",
    "rating_data\n"
   ]
  },
  {
   "cell_type": "code",
   "execution_count": 72,
   "metadata": {},
   "outputs": [
    {
     "data": {
      "text/plain": [
       "array([[3.5 , 3.5 , 3.5 , 4.  , 3.5 , 5.  , 3.5 , 3.5 , 2.  , 3.5 , 4.  ,\n",
       "        3.5 , 1.  , 3.5 , 3.5 , 3.5 , 3.5 , 5.  , 3.5 , 3.5 ],\n",
       "       [3.18, 3.18, 3.18, 5.  , 3.18, 3.18, 2.  , 2.  , 2.  , 3.18, 3.  ,\n",
       "        4.  , 2.  , 5.  , 4.  , 3.18, 3.18, 3.18, 4.  , 2.  ],\n",
       "       [2.78, 5.  , 1.  , 4.  , 2.78, 2.78, 2.78, 3.  , 1.  , 2.78, 1.  ,\n",
       "        2.78, 2.78, 4.  , 2.78, 2.78, 2.  , 2.78, 2.78, 4.  ],\n",
       "       [2.67, 3.  , 1.  , 1.  , 2.67, 3.  , 2.67, 4.  , 2.67, 1.  , 1.  ,\n",
       "        2.67, 4.  , 4.  , 2.  , 2.67, 2.67, 5.  , 3.  , 2.67],\n",
       "       [1.  , 1.  , 1.57, 1.  , 1.  , 1.57, 1.57, 1.57, 1.57, 1.57, 1.57,\n",
       "        2.  , 1.57, 1.57, 1.  , 1.57, 1.57, 1.57, 4.  , 1.57]])"
      ]
     },
     "execution_count": 72,
     "metadata": {},
     "output_type": "execute_result"
    }
   ],
   "source": [
    "# 유저 0과 비슷한 유저 5명 찾기\n",
    "get_k_neighbors(0, rating_data, 5)"
   ]
  },
  {
   "cell_type": "code",
   "execution_count": null,
   "metadata": {},
   "outputs": [],
   "source": []
  }
 ],
 "metadata": {
  "kernelspec": {
   "display_name": "base",
   "language": "python",
   "name": "python3"
  },
  "language_info": {
   "codemirror_mode": {
    "name": "ipython",
    "version": 3
   },
   "file_extension": ".py",
   "mimetype": "text/x-python",
   "name": "python",
   "nbconvert_exporter": "python",
   "pygments_lexer": "ipython3",
   "version": "3.9.13"
  },
  "orig_nbformat": 4,
  "vscode": {
   "interpreter": {
    "hash": "1284a11239f1c582240c95e9b63f464998ce3454084d16e746adc349338fd12e"
   }
  }
 },
 "nbformat": 4,
 "nbformat_minor": 2
}
