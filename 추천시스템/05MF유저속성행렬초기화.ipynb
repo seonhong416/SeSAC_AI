{
 "cells": [
  {
   "cell_type": "code",
   "execution_count": 1,
   "metadata": {},
   "outputs": [],
   "source": [
    "import numpy as np\n",
    "import pandas as pd"
   ]
  },
  {
   "cell_type": "code",
   "execution_count": 2,
   "metadata": {},
   "outputs": [
    {
     "data": {
      "text/plain": [
       "array([[0.01095275, 0.53219066, 0.3995917 , 0.72436091, 0.87579268],\n",
       "       [0.09608776, 0.35513606, 0.70137463, 0.10320652, 0.40212837],\n",
       "       [0.41637048, 0.25319846, 0.93993722, 0.9242628 , 0.15638162]])"
      ]
     },
     "execution_count": 2,
     "metadata": {},
     "output_type": "execute_result"
    }
   ],
   "source": [
    "np.random.rand(3,5)"
   ]
  },
  {
   "cell_type": "code",
   "execution_count": 8,
   "metadata": {},
   "outputs": [
    {
     "data": {
      "text/plain": [
       "array([[0.85866544, 0.64824059, 0.7552966 , 0.28645104, 0.27317526],\n",
       "       [0.84141481, 0.06412637, 0.42201202, 0.24621088, 0.94384053],\n",
       "       [0.45199111, 0.67791677, 0.89862851, 0.53719943, 0.24037286]])"
      ]
     },
     "execution_count": 8,
     "metadata": {},
     "output_type": "execute_result"
    }
   ],
   "source": [
    "random_mat = np.random.rand(3,5)\n",
    "random_mat"
   ]
  },
  {
   "cell_type": "code",
   "execution_count": 9,
   "metadata": {},
   "outputs": [],
   "source": [
    "np.random.seed(32)\n",
    "\n",
    "# 임의로 유저 취향과 상품 속성 행렬 생성하는 함수\n",
    "\n",
    "def initialize(R, num_features) :\n",
    "    # 유저 취향 : 유저 데이터 개수 * 속성개수차원(k) 임의 행렬(random) >> 변수 theta 저장\n",
    "    # 상품속성 : 속성개수차원(k) 임의행렬(random) * item(영화) 데이터 개수 차원(random) >> 변수 X 저장\n",
    "    num_users, num_items = R.shape\n",
    "    \n",
    "    Theta = np.random.rand(num_users, num_features)\n",
    "    X = np.random.rand(num_features, num_items)\n",
    "    \n",
    "    return Theta, X\n",
    "    "
   ]
  },
  {
   "cell_type": "code",
   "execution_count": 10,
   "metadata": {},
   "outputs": [],
   "source": [
    "# 실제 값 행렬\n",
    "\n",
    "R = np.array([\n",
    "    [3,4,1,np.nan,1,2],\n",
    "    [4,4,3,np.nan,5,3],\n",
    "    [2,3,np.nan,1,3,4],\n",
    "    [1,3,2,4,2,2],\n",
    "    [1,2,np.nan,2,2,4]\n",
    "])"
   ]
  },
  {
   "cell_type": "code",
   "execution_count": 11,
   "metadata": {},
   "outputs": [
    {
     "data": {
      "text/plain": [
       "array([[0.85888927, 0.37271115],\n",
       "       [0.55512878, 0.95565655],\n",
       "       [0.7366696 , 0.81620514],\n",
       "       [0.10108656, 0.92848807],\n",
       "       [0.60910917, 0.59655344]])"
      ]
     },
     "execution_count": 11,
     "metadata": {},
     "output_type": "execute_result"
    }
   ],
   "source": [
    "Theta, X = initialize(R, 2)\n",
    "Theta"
   ]
  },
  {
   "cell_type": "code",
   "execution_count": 12,
   "metadata": {},
   "outputs": [
    {
     "data": {
      "text/plain": [
       "array([[0.09178413, 0.34518624, 0.66275252, 0.44171349, 0.55148779,\n",
       "        0.70371249],\n",
       "       [0.58940123, 0.04993276, 0.56179184, 0.76635847, 0.91090833,\n",
       "        0.09290995]])"
      ]
     },
     "execution_count": 12,
     "metadata": {},
     "output_type": "execute_result"
    }
   ],
   "source": [
    "X"
   ]
  },
  {
   "cell_type": "code",
   "execution_count": null,
   "metadata": {},
   "outputs": [],
   "source": []
  }
 ],
 "metadata": {
  "kernelspec": {
   "display_name": "base",
   "language": "python",
   "name": "python3"
  },
  "language_info": {
   "codemirror_mode": {
    "name": "ipython",
    "version": 3
   },
   "file_extension": ".py",
   "mimetype": "text/x-python",
   "name": "python",
   "nbconvert_exporter": "python",
   "pygments_lexer": "ipython3",
   "version": "3.9.13"
  },
  "orig_nbformat": 4,
  "vscode": {
   "interpreter": {
    "hash": "1284a11239f1c582240c95e9b63f464998ce3454084d16e746adc349338fd12e"
   }
  }
 },
 "nbformat": 4,
 "nbformat_minor": 2
}
