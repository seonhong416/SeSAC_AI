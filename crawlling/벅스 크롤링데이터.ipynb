{
 "cells": [
  {
   "cell_type": "code",
   "execution_count": 1,
   "id": "d74c3c83",
   "metadata": {},
   "outputs": [
    {
     "name": "stderr",
     "output_type": "stream",
     "text": [
      "C:\\Users\\SBAUser\\AppData\\Local\\Temp\\ipykernel_15420\\651487768.py:4: DeprecationWarning: executable_path has been deprecated, please pass in a Service object\n",
      "  driver = webdriver.Chrome('chromedriver.exe')\n"
     ]
    },
    {
     "name": "stdout",
     "output_type": "stream",
     "text": [
      "[['벅스', 1, '사건의 지평선', '윤하(Younha/ユンナ)'], ['벅스', 2, 'Hype Boy', 'NewJeans'], ['벅스', 3, 'WHEN I MOVE', '카라(Kara)'], ['벅스', 4, 'ANTIFRAGILE', 'LE SSERAFIM (르세라핌)'], ['벅스', 5, 'After LIKE', 'IVE (아이브)'], ['벅스', 6, 'Attention', 'NewJeans'], ['벅스', 7, 'All I Want for Christmas Is You', 'Mariah Carey(머라이어 캐리)'], ['벅스', 8, 'Dreamers [Music from the FIFA World Cup Qatar 2022 Official Soundtrack] (feat. FIFA Sound)', '정국'], ['벅스', 9, 'Snowman', 'Sia(시아)'], ['벅스', 10, 'Nxde', '(여자)아이들'], ['벅스', 11, 'Santa Tell Me', 'Ariana Grande(아리아나 그란데)'], ['벅스', 12, 'LOVE DIVE', 'IVE (아이브)'], ['벅스', 13, '새삥 (Prod. ZICO) (Feat. 호미들)', '지코'], ['벅스', 14, 'Shut Down', 'BLACKPINK'], ['벅스', 15, '마이웨이 (MY WAY) (Prod. R.Tee)', '저스디스(JUSTHIS)'], ['벅스', 16, 'Rush Hour (Feat. j-hope of BTS)', 'Crush'], ['벅스', 17, '오르트구름', '윤하(Younha/ユンナ)'], ['벅스', 18, 'Pink Venom', 'BLACKPINK'], ['벅스', 19, '자격지심 (Feat. ZICO)', \"BE'O (비오)\"], ['벅스', 20, 'Made You Look', 'Meghan Trainor(메간 트레이너)'], ['벅스', 21, '미리 메리 크리스마스 (feat. 천둥 Of MBLAQ)', '아이유(IU)'], ['벅스', 22, 'I Don’t Think That I Like Her', 'Charlie Puth(찰리 푸스)'], ['벅스', 23, 'Cookie', 'NewJeans'], ['벅스', 24, 'Monologue', '테이(Tei)'], ['벅스', 25, 'ELEVEN', 'IVE (아이브)'], ['벅스', 26, 'Birthday', 'Red Velvet (레드벨벳)'], ['벅스', 27, 'Make It To Christmas', 'Alessia Cara(알레시아 카라)'], ['벅스', 28, 'STEP', '카라(Kara)'], ['벅스', 29, 'FEARLESS', 'LE SSERAFIM (르세라핌)'], ['벅스', 30, 'TOMBOY', '(여자)아이들'], ['벅스', 31, '딱 10CM만', '10CM'], ['벅스', 32, '너의 모든 순간', '성시경'], ['벅스', 33, '그라데이션', '10CM'], ['벅스', 34, '해요 (2022)', '#안녕'], ['벅스', 35, '위하여 (We Higher) (Prod. GroovyRoom)', '그루비룸 (GroovyRoom)'], ['벅스', 36, 'Unholy', 'Sam Smith(샘 스미스)'], ['벅스', 37, '크리스마스니까', '성시경'], ['벅스', 38, 'When I Get Old', 'Christopher(크리스토퍼)'], ['벅스', 39, '우린 그렇게 사랑해서', '강민경'], ['벅스', 40, \"That's Hilarious\", 'Charlie Puth(찰리 푸스)'], ['벅스', 41, '사랑인가 봐', '멜로망스(MeloMance)'], ['벅스', 42, '첫 눈', 'EXO'], ['벅스', 43, '정이라고 하자 (Feat. 10CM)', 'BIG Naughty (서동현)'], ['벅스', 44, '봄여름가을겨울 (Still Life)', 'BIGBANG (빅뱅)'], ['벅스', 45, 'Dangerously', 'Charlie Puth(찰리 푸스)'], ['벅스', 46, 'Cheshire', 'ITZY (있지)'], ['벅스', 47, 'Underneath the Tree', 'Kelly Clarkson(켈리 클락슨)'], ['벅스', 48, '신호등', '이무진'], ['벅스', 49, '그때 그 순간 그대로 (그그그)', 'WSG워너비 (가야G)'], ['벅스', 50, 'Off My Face', 'Justin Bieber(저스틴 비버)'], ['벅스', 51, 'GHOST TOWN', 'Benson Boone'], ['벅스', 52, '사랑은 늘 도망가', '임영웅'], ['벅스', 53, '사랑하긴 했었나요 스쳐가는 인연이었나요 짧지않은 우리 함께했던 시간들이 자꾸 내 마음을 가둬두네', '잔나비'], ['벅스', 54, '내 기쁨은 너가 벤틀리를 끄는 거야', '김승민'], ['벅스', 55, '도깨비불 (Illusion)', 'aespa'], ['벅스', 56, 'Last Christmas', 'Wham!(왬)'], ['벅스', 57, 'ZOOM', 'Red Velvet (레드벨벳)'], ['벅스', 58, 'DICE', 'NMIXX'], ['벅스', 59, '내가 아니라도', '주호'], ['벅스', 60, '모든 날, 모든 순간 (Every day, Every Moment)', '폴킴(Paul Kim)'], ['벅스', 61, 'WE (Feat. 박재범) (Prod. by Slom)', '이영지'], ['벅스', 62, '나의 X에게', '경서'], ['벅스', 63, 'Love story', '볼빨간사춘기'], ['벅스', 64, '찬바람이 불어오네요', '케이시'], ['벅스', 65, 'strawberry moon', '아이유(IU)'], ['벅스', 66, 'Next Level', 'aespa'], ['벅스', 67, '진심이었던 사람만 바보가 돼', '권진아'], ['벅스', 68, '드라마', '아이유(IU)'], ['벅스', 69, 'STAY', 'The Kid LAROI'], ['벅스', 70, '팡파레', '다비치'], ['벅스', 71, '보고싶었어', 'WSG워너비 (4FIRE)'], ['벅스', 72, 'Anti-Hero', 'Taylor Swift(테일러 스위프트)'], ['벅스', 73, '잘가요', '주호'], ['벅스', 74, '취중고백', '김민석 (멜로망스)'], ['벅스', 75, 'LOVE me', \"BE'O (비오)\"], ['벅스', 76, 'Impurities', 'LE SSERAFIM (르세라핌)'], ['벅스', 77, 'Talk that Talk', 'TWICE (트와이스)'], ['벅스', 78, '다정히 내 이름을 부르면', '경서예지'], ['벅스', 79, '그 겨울이 잠든 거리에서', '경서예지'], ['벅스', 80, 'Left and Right (Feat. Jung Kook of BTS)', 'Charlie Puth(찰리 푸스)'], ['벅스', 81, 'SNEAKERS', 'ITZY (있지)'], ['벅스', 82, 'INVU', '태연 (TAEYEON)'], ['벅스', 83, 'Feel My Rhythm', 'Red Velvet (레드벨벳)'], ['벅스', 84, '주저하는 연인들을 위해', '잔나비'], ['벅스', 85, 'MY BAG', '(여자)아이들'], ['벅스', 86, '맘마미아', '카라(Kara)'], ['벅스', 87, 'FOREVER 1', \"소녀시대 (GIRLS' GENERATION)\"], ['벅스', 88, 'LAW (Prod. Czaer)', '윤미래'], ['벅스', 89, \"I Ain't Worried\", 'OneRepublic(원리퍼블릭)'], ['벅스', 90, '첫사랑', '백아(Baek A)'], ['벅스', 91, '떠나보낼 준비해 둘걸 그랬어', '임한별'], ['벅스', 92, '한 페이지가 될 수 있게', 'DAY6 (데이식스)'], ['벅스', 93, '루팡 (Lupin)', '카라(Kara)'], ['벅스', 94, '눈이 오잖아(Feat.헤이즈)', '이무진'], ['벅스', 95, '롤러코스터 (On A Ride)', 'Red Velvet (레드벨벳)'], ['벅스', 96, '나쁜X', '비비(BIBI)'], ['벅스', 97, '가을밤에 든 생각', '잔나비'], ['벅스', 98, \"Flick (Feat. BE'O (비오), 김하온 (HAON)) (Prod. GroovyRoom)\", '노윤하'], ['벅스', 99, '겨울이 좋아졌어', '정승환'], ['벅스', 100, 'Must Have Love (우리들의 겨울)', 'SG워너비']]\n"
     ]
    }
   ],
   "source": [
    "from selenium import webdriver\n",
    "\n",
    "# 크롬 드라이버 실행\n",
    "driver = webdriver.Chrome('chromedriver.exe')\n",
    "\n",
    "# url 접속하기\n",
    "url = 'https://music.bugs.co.kr/chart'\n",
    "driver.get(url)\n",
    "\n",
    "from bs4 import BeautifulSoup\n",
    "\n",
    "html = driver.page_source\n",
    "\n",
    "soup = BeautifulSoup(html, 'html.parser')\n",
    "\n",
    "song_data = []\n",
    "rank = 1 # 초기화\n",
    "\n",
    "songs = soup.select('tr')[1:]\n",
    "songs\n",
    "\n",
    "for song in songs[:100] :\n",
    "    title = song.select('p.title > a')[0].text\n",
    "    singer = song.select('p.artist > a')[0].text\n",
    "    mylist = ['벅스', rank, title, singer]\n",
    "    song_data.append(mylist)\n",
    "    rank += 1\n",
    "print(song_data)"
   ]
  },
  {
   "cell_type": "code",
   "execution_count": 2,
   "id": "3df1e7fc",
   "metadata": {},
   "outputs": [],
   "source": [
    "import pandas as pd\n",
    "\n",
    "df = pd.DataFrame(song_data, columns = ['서비스업체','순위','타이틀(곡명)','가수'])\n",
    "df\n",
    "\n",
    "df.to_excel('./벅스_rank_20221214.xlsx', index = False)"
   ]
  },
  {
   "cell_type": "code",
   "execution_count": null,
   "id": "25b3ef67",
   "metadata": {},
   "outputs": [],
   "source": []
  }
 ],
 "metadata": {
  "kernelspec": {
   "display_name": "Python 3 (ipykernel)",
   "language": "python",
   "name": "python3"
  },
  "language_info": {
   "codemirror_mode": {
    "name": "ipython",
    "version": 3
   },
   "file_extension": ".py",
   "mimetype": "text/x-python",
   "name": "python",
   "nbconvert_exporter": "python",
   "pygments_lexer": "ipython3",
   "version": "3.9.13"
  }
 },
 "nbformat": 4,
 "nbformat_minor": 5
}
