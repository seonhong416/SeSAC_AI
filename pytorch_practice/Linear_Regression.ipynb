{
 "cells": [
  {
   "attachments": {},
   "cell_type": "markdown",
   "metadata": {},
   "source": [
    "# 선형 회귀"
   ]
  },
  {
   "cell_type": "code",
   "execution_count": 1,
   "metadata": {},
   "outputs": [],
   "source": [
    "import torch\n",
    "import torch.nn as nn\n",
    "import torch.nn.functional as F\n",
    "import torch.optim as optim"
   ]
  },
  {
   "cell_type": "code",
   "execution_count": 2,
   "metadata": {},
   "outputs": [
    {
     "data": {
      "text/plain": [
       "<torch._C.Generator at 0x1c45cea4130>"
      ]
     },
     "execution_count": 2,
     "metadata": {},
     "output_type": "execute_result"
    }
   ],
   "source": [
    "torch.manual_seed(1)"
   ]
  },
  {
   "cell_type": "code",
   "execution_count": 3,
   "metadata": {},
   "outputs": [],
   "source": [
    "x_train = torch.FloatTensor([[1], [2], [3]])\n",
    "y_train = torch.FloatTensor([[2], [4], [6]])"
   ]
  },
  {
   "cell_type": "code",
   "execution_count": 4,
   "metadata": {},
   "outputs": [
    {
     "name": "stdout",
     "output_type": "stream",
     "text": [
      "tensor([[1.],\n",
      "        [2.],\n",
      "        [3.]])\n",
      "torch.Size([3, 1])\n"
     ]
    }
   ],
   "source": [
    "print(x_train)\n",
    "print(x_train.shape)"
   ]
  },
  {
   "cell_type": "code",
   "execution_count": 5,
   "metadata": {},
   "outputs": [
    {
     "name": "stdout",
     "output_type": "stream",
     "text": [
      "tensor([[2.],\n",
      "        [4.],\n",
      "        [6.]])\n",
      "torch.Size([3, 1])\n"
     ]
    }
   ],
   "source": [
    "print(y_train)\n",
    "print(y_train.shape)"
   ]
  },
  {
   "cell_type": "code",
   "execution_count": 6,
   "metadata": {},
   "outputs": [
    {
     "name": "stdout",
     "output_type": "stream",
     "text": [
      "tensor([0.], requires_grad=True)\n"
     ]
    }
   ],
   "source": [
    "W = torch.zeros(1, requires_grad=True) # 가중치 W를 0으로 초기화하고 학습을 통해 값이 변경되는 변수임을 명시함\n",
    "# requires_grad = True : 학습을 통해 계속 값이 변경되는 변수임을 의미\n",
    "\n",
    "print(W)"
   ]
  },
  {
   "cell_type": "code",
   "execution_count": 7,
   "metadata": {},
   "outputs": [
    {
     "name": "stdout",
     "output_type": "stream",
     "text": [
      "tensor([0.], requires_grad=True)\n"
     ]
    }
   ],
   "source": [
    "b = torch.zeros(1, requires_grad=True)\n",
    "\n",
    "print(b)"
   ]
  },
  {
   "cell_type": "code",
   "execution_count": 10,
   "metadata": {},
   "outputs": [
    {
     "name": "stdout",
     "output_type": "stream",
     "text": [
      "tensor([[0.],\n",
      "        [0.],\n",
      "        [0.]], grad_fn=<AddBackward0>)\n"
     ]
    }
   ],
   "source": [
    "hypothesis = x_train * W + b\n",
    "print(hypothesis)"
   ]
  },
  {
   "cell_type": "code",
   "execution_count": 11,
   "metadata": {},
   "outputs": [
    {
     "name": "stdout",
     "output_type": "stream",
     "text": [
      "tensor(18.6667, grad_fn=<MeanBackward0>)\n"
     ]
    }
   ],
   "source": [
    "# 비용 함수 선언하기\n",
    "cost = torch.mean((hypothesis - y_train) ** 2)\n",
    "print(cost)"
   ]
  },
  {
   "cell_type": "code",
   "execution_count": 12,
   "metadata": {},
   "outputs": [],
   "source": [
    "# 경사하강법 구현하기\n",
    "optimizer = optim.SGD([W, b], lr = 0.01)"
   ]
  },
  {
   "cell_type": "code",
   "execution_count": 13,
   "metadata": {},
   "outputs": [],
   "source": [
    "# gradient를 0으로 초기화\n",
    "optimizer.zero_grad()\n",
    "\n",
    "# 비용 함수를 미분하여 gradient 계산\n",
    "cost.backward()\n",
    "\n",
    "# W와 b를 업데이트\n",
    "optimizer.step()\n"
   ]
  },
  {
   "cell_type": "code",
   "execution_count": 16,
   "metadata": {},
   "outputs": [
    {
     "name": "stdout",
     "output_type": "stream",
     "text": [
      "Epoch    0/1999 \t W: 0.187 \t b: 0.080 \t Cost: 18.666666\n",
      "Epoch  100/1999 \t W: 1.746 \t b: 0.578 \t Cost: 0.048171\n",
      "Epoch  200/1999 \t W: 1.800 \t b: 0.454 \t Cost: 0.029767\n",
      "Epoch  300/1999 \t W: 1.843 \t b: 0.357 \t Cost: 0.018394\n",
      "Epoch  400/1999 \t W: 1.876 \t b: 0.281 \t Cost: 0.011366\n",
      "Epoch  500/1999 \t W: 1.903 \t b: 0.221 \t Cost: 0.007024\n",
      "Epoch  600/1999 \t W: 1.924 \t b: 0.174 \t Cost: 0.004340\n",
      "Epoch  700/1999 \t W: 1.940 \t b: 0.136 \t Cost: 0.002682\n",
      "Epoch  800/1999 \t W: 1.953 \t b: 0.107 \t Cost: 0.001657\n",
      "Epoch  900/1999 \t W: 1.963 \t b: 0.084 \t Cost: 0.001024\n",
      "Epoch 1000/1999 \t W: 1.971 \t b: 0.066 \t Cost: 0.000633\n",
      "Epoch 1100/1999 \t W: 1.977 \t b: 0.052 \t Cost: 0.000391\n",
      "Epoch 1200/1999 \t W: 1.982 \t b: 0.041 \t Cost: 0.000242\n",
      "Epoch 1300/1999 \t W: 1.986 \t b: 0.032 \t Cost: 0.000149\n",
      "Epoch 1400/1999 \t W: 1.989 \t b: 0.025 \t Cost: 0.000092\n",
      "Epoch 1500/1999 \t W: 1.991 \t b: 0.020 \t Cost: 0.000057\n",
      "Epoch 1600/1999 \t W: 1.993 \t b: 0.016 \t Cost: 0.000035\n",
      "Epoch 1700/1999 \t W: 1.995 \t b: 0.012 \t Cost: 0.000022\n",
      "Epoch 1800/1999 \t W: 1.996 \t b: 0.010 \t Cost: 0.000013\n",
      "Epoch 1900/1999 \t W: 1.997 \t b: 0.008 \t Cost: 0.000008\n"
     ]
    }
   ],
   "source": [
    "# 데이터\n",
    "x_train = torch.FloatTensor([[1], [2], [3]])\n",
    "y_train = torch.FloatTensor([[2], [4], [6]])\n",
    "\n",
    "# 모델 초기화\n",
    "W = torch.zeros(1, requires_grad = True)\n",
    "b = torch.zeros(1, requires_grad = True)\n",
    "\n",
    "# optimizer 설정\n",
    "optimizer = optim.SGD([W, b], lr = 0.01)\n",
    "\n",
    "nb_epochs = 1999 # 원하는 만큼 경사 하강법을 반복\n",
    "\n",
    "for epoch in range(nb_epochs + 1) :\n",
    "    \n",
    "    # H(x) 계산 \n",
    "    hypothesis = x_train * W + b\n",
    "    \n",
    "    # cost 계산\n",
    "    cost = torch.mean((hypothesis - y_train) ** 2)\n",
    "    \n",
    "    # cost로 H(x)계산\n",
    "    optimizer.zero_grad()\n",
    "    cost.backward()\n",
    "    optimizer.step()\n",
    "    \n",
    "    # 100번마다 로그 출력\n",
    "    if epoch % 100 == 0 :\n",
    "        print('Epoch {:4d}/{} \\t W: {:.3f} \\t b: {:.3f} \\t Cost: {:.6f}'.format(epoch, nb_epochs, W.item(), b.item(), cost.item()))"
   ]
  },
  {
   "cell_type": "code",
   "execution_count": 18,
   "metadata": {},
   "outputs": [
    {
     "name": "stdout",
     "output_type": "stream",
     "text": [
      "수식을 w로 미분한 값 : 2.0\n",
      "수식을 w로 미분한 값 : 4.0\n",
      "수식을 w로 미분한 값 : 6.0\n",
      "수식을 w로 미분한 값 : 8.0\n",
      "수식을 w로 미분한 값 : 10.0\n",
      "수식을 w로 미분한 값 : 12.0\n",
      "수식을 w로 미분한 값 : 14.0\n",
      "수식을 w로 미분한 값 : 16.0\n",
      "수식을 w로 미분한 값 : 18.0\n",
      "수식을 w로 미분한 값 : 20.0\n",
      "수식을 w로 미분한 값 : 22.0\n",
      "수식을 w로 미분한 값 : 24.0\n",
      "수식을 w로 미분한 값 : 26.0\n",
      "수식을 w로 미분한 값 : 28.0\n",
      "수식을 w로 미분한 값 : 30.0\n",
      "수식을 w로 미분한 값 : 32.0\n",
      "수식을 w로 미분한 값 : 34.0\n",
      "수식을 w로 미분한 값 : 36.0\n",
      "수식을 w로 미분한 값 : 38.0\n",
      "수식을 w로 미분한 값 : 40.0\n",
      "수식을 w로 미분한 값 : 42.0\n"
     ]
    }
   ],
   "source": [
    "# optimizer.zero_grad()가 필요한 이유\n",
    "\n",
    "import torch\n",
    "w = torch.tensor(2.0, requires_grad = True)\n",
    "\n",
    "nb_epochs = 20\n",
    "for epoch in range(nb_epochs + 1) :\n",
    "    \n",
    "    z = 2*w\n",
    "    \n",
    "    z.backward()\n",
    "    print('수식을 w로 미분한 값 : {}'.format(w.grad))\n",
    "    \n",
    "# 계속해서 미분값인 2가 누적됨 > optimizer.zero_grad()를 통해 미분값을 계속 0으로 초기화 시켜줘야함"
   ]
  },
  {
   "cell_type": "code",
   "execution_count": 21,
   "metadata": {},
   "outputs": [
    {
     "name": "stdout",
     "output_type": "stream",
     "text": [
      "랜덤 시드가 3일 때\n",
      "tensor([0.0043])\n",
      "tensor([0.1056])\n"
     ]
    }
   ],
   "source": [
    "# torch.manual_seed()를 하는 이유\n",
    "\n",
    "import torch\n",
    "\n",
    "torch.manual_seed(3)\n",
    "\n",
    "print('랜덤 시드가 3일 때')\n",
    "for i in range(1, 3) :\n",
    "    print(torch.rand(1))"
   ]
  },
  {
   "cell_type": "code",
   "execution_count": 22,
   "metadata": {},
   "outputs": [
    {
     "name": "stdout",
     "output_type": "stream",
     "text": [
      "랜덤 시드가 5일 때\n",
      "tensor([0.8303])\n",
      "tensor([0.1261])\n"
     ]
    }
   ],
   "source": [
    "torch.manual_seed(5)\n",
    "print('랜덤 시드가 5일 때')\n",
    "for i in range(1,3) :\n",
    "    print(torch.rand(1))"
   ]
  },
  {
   "cell_type": "code",
   "execution_count": 23,
   "metadata": {},
   "outputs": [
    {
     "name": "stdout",
     "output_type": "stream",
     "text": [
      "랜덤 시드가 3일 때\n",
      "tensor([0.0043])\n",
      "tensor([0.1056])\n"
     ]
    }
   ],
   "source": [
    "torch.manual_seed(3)\n",
    "\n",
    "print('랜덤 시드가 3일 때')\n",
    "for i in range(1, 3) :\n",
    "    print(torch.rand(1))"
   ]
  },
  {
   "attachments": {},
   "cell_type": "markdown",
   "metadata": {},
   "source": [
    "# 자동 미분"
   ]
  },
  {
   "cell_type": "code",
   "execution_count": 24,
   "metadata": {},
   "outputs": [],
   "source": [
    "import torch"
   ]
  },
  {
   "cell_type": "code",
   "execution_count": 25,
   "metadata": {},
   "outputs": [],
   "source": [
    "w = torch.tensor(2.0, requires_grad=True)\n",
    "\n",
    "y = w**2\n",
    "z = 2*y + 5"
   ]
  },
  {
   "cell_type": "code",
   "execution_count": 26,
   "metadata": {},
   "outputs": [],
   "source": [
    "z.backward()"
   ]
  },
  {
   "cell_type": "code",
   "execution_count": 27,
   "metadata": {},
   "outputs": [
    {
     "name": "stdout",
     "output_type": "stream",
     "text": [
      "수식을 w로 미분한 값 : 8.0\n"
     ]
    }
   ],
   "source": [
    "print('수식을 w로 미분한 값 : {}'.format(w.grad))"
   ]
  },
  {
   "attachments": {},
   "cell_type": "markdown",
   "metadata": {},
   "source": [
    "# 다중 선형 회귀(Multivariable Linear regression)"
   ]
  },
  {
   "cell_type": "code",
   "execution_count": 28,
   "metadata": {},
   "outputs": [],
   "source": [
    "import torch\n",
    "import torch.nn as nn\n",
    "import torch.nn.functional as F\n",
    "import torch.optim as optim"
   ]
  },
  {
   "cell_type": "code",
   "execution_count": 29,
   "metadata": {},
   "outputs": [
    {
     "data": {
      "text/plain": [
       "<torch._C.Generator at 0x1c45cea4130>"
      ]
     },
     "execution_count": 29,
     "metadata": {},
     "output_type": "execute_result"
    }
   ],
   "source": [
    "torch.manual_seed(1)"
   ]
  },
  {
   "cell_type": "code",
   "execution_count": 30,
   "metadata": {},
   "outputs": [],
   "source": [
    "# 훈련 데이터\n",
    "x1_train = torch.FloatTensor([[73], [93], [89], [96], [73]])\n",
    "x2_train = torch.FloatTensor([[80], [88], [91], [98], [66]])\n",
    "x3_train = torch.FloatTensor([[75], [93], [90], [100], [70]])\n",
    "y_train = torch.FloatTensor([[152], [185], [180], [196], [142]])"
   ]
  },
  {
   "cell_type": "code",
   "execution_count": 32,
   "metadata": {},
   "outputs": [],
   "source": [
    "# 가중치 w와 편향 b 초기화\n",
    "w1 = torch.zeros(1, requires_grad=True)\n",
    "w2 = torch.zeros(1, requires_grad=True)\n",
    "w3 = torch.zeros(1, requires_grad=True)\n",
    "b = torch.zeros(1, requires_grad=True)"
   ]
  },
  {
   "cell_type": "code",
   "execution_count": 34,
   "metadata": {},
   "outputs": [
    {
     "name": "stdout",
     "output_type": "stream",
     "text": [
      "Epoch    0/1000 \t w1: 0.718 \t w2: 0.612 \t w3: 0.680 \t b: 0.009 \t Cost: 1.078961\n",
      "Epoch  100/1000 \t w1: 0.722 \t w2: 0.608 \t w3: 0.680 \t b: 0.009 \t Cost: 1.038184\n",
      "Epoch  200/1000 \t w1: 0.727 \t w2: 0.603 \t w3: 0.681 \t b: 0.010 \t Cost: 0.999508\n",
      "Epoch  300/1000 \t w1: 0.731 \t w2: 0.599 \t w3: 0.681 \t b: 0.010 \t Cost: 0.962850\n",
      "Epoch  400/1000 \t w1: 0.735 \t w2: 0.595 \t w3: 0.681 \t b: 0.010 \t Cost: 0.928104\n",
      "Epoch  500/1000 \t w1: 0.739 \t w2: 0.590 \t w3: 0.681 \t b: 0.010 \t Cost: 0.895127\n",
      "Epoch  600/1000 \t w1: 0.743 \t w2: 0.586 \t w3: 0.682 \t b: 0.010 \t Cost: 0.863870\n",
      "Epoch  700/1000 \t w1: 0.746 \t w2: 0.582 \t w3: 0.682 \t b: 0.010 \t Cost: 0.834205\n",
      "Epoch  800/1000 \t w1: 0.750 \t w2: 0.579 \t w3: 0.682 \t b: 0.010 \t Cost: 0.806107\n",
      "Epoch  900/1000 \t w1: 0.754 \t w2: 0.575 \t w3: 0.682 \t b: 0.010 \t Cost: 0.779432\n",
      "Epoch 1000/1000 \t w1: 0.757 \t w2: 0.571 \t w3: 0.682 \t b: 0.011 \t Cost: 0.754143\n"
     ]
    }
   ],
   "source": [
    "# optimizer 설정\n",
    "optimizer = optim.SGD([w1, w2, w3, b], lr = 1e-5)\n",
    "\n",
    "nb_epochs = 1000\n",
    "for epoch in range(nb_epochs + 1) :\n",
    "    \n",
    "    # H(x) 계산\n",
    "    hypothesis = x1_train * w1 + x2_train * w2 + x3_train * w3 + b\n",
    "    \n",
    "    # cost 계산\n",
    "    cost = torch.mean((hypothesis - y_train) ** 2)\n",
    "    \n",
    "    # cost로 H(x) 개선\n",
    "    optimizer.zero_grad()\n",
    "    cost.backward()\n",
    "    optimizer.step()\n",
    "    \n",
    "    # 100번마다 로그 출력\n",
    "    if epoch % 100 == 0 :\n",
    "        print('Epoch {:4d}/{} \\t w1: {:.3f} \\t w2: {:.3f} \\t w3: {:.3f} \\t b: {:.3f} \\t Cost: {:.6f}'.format(epoch, nb_epochs, w1.item(), w2.item(), w3.item(), b.item(), cost.item()))\n",
    "        "
   ]
  },
  {
   "cell_type": "code",
   "execution_count": 35,
   "metadata": {},
   "outputs": [],
   "source": [
    "x_train  =  torch.FloatTensor([[73,  80,  75], \n",
    "                               [93,  88,  93], \n",
    "                               [89,  91,  80], \n",
    "                               [96,  98,  100],   \n",
    "                               [73,  66,  70]])  \n",
    "y_train  =  torch.FloatTensor([[152],  [185],  [180],  [196],  [142]])"
   ]
  },
  {
   "cell_type": "code",
   "execution_count": 38,
   "metadata": {},
   "outputs": [
    {
     "name": "stdout",
     "output_type": "stream",
     "text": [
      "torch.Size([5, 3])\n",
      "torch.Size([5, 1])\n"
     ]
    }
   ],
   "source": [
    "print(x_train.shape)\n",
    "print(y_train.shape)"
   ]
  },
  {
   "cell_type": "code",
   "execution_count": 39,
   "metadata": {},
   "outputs": [],
   "source": [
    "W = torch.zeros((3,1), requires_grad = True)\n",
    "b = torch.zeros(1, requires_grad=True)"
   ]
  },
  {
   "cell_type": "code",
   "execution_count": 40,
   "metadata": {},
   "outputs": [],
   "source": [
    "hypothesis = x_train.matmul(W) + b"
   ]
  },
  {
   "cell_type": "code",
   "execution_count": 41,
   "metadata": {},
   "outputs": [
    {
     "name": "stdout",
     "output_type": "stream",
     "text": [
      "Epoch    0/20 \t hypothesis: tensor([0., 0., 0., 0., 0.]) \t Cost: 29661.800781\n",
      "Epoch    1/20 \t hypothesis: tensor([66.7178, 80.1701, 76.1025, 86.0194, 61.1565]) \t Cost: 9537.694336\n",
      "Epoch    2/20 \t hypothesis: tensor([104.5421, 125.6208, 119.2478, 134.7862,  95.8280]) \t Cost: 3069.590088\n",
      "Epoch    3/20 \t hypothesis: tensor([125.9858, 151.3882, 143.7087, 162.4333, 115.4844]) \t Cost: 990.670898\n",
      "Epoch    4/20 \t hypothesis: tensor([138.1429, 165.9963, 157.5768, 178.1071, 126.6283]) \t Cost: 322.482086\n",
      "Epoch    5/20 \t hypothesis: tensor([145.0350, 174.2780, 165.4395, 186.9928, 132.9461]) \t Cost: 107.717064\n",
      "Epoch    6/20 \t hypothesis: tensor([148.9423, 178.9730, 169.8976, 192.0301, 136.5279]) \t Cost: 38.687496\n",
      "Epoch    7/20 \t hypothesis: tensor([151.1574, 181.6346, 172.4254, 194.8856, 138.5585]) \t Cost: 16.499043\n",
      "Epoch    8/20 \t hypothesis: tensor([152.4131, 183.1435, 173.8590, 196.5043, 139.7097]) \t Cost: 9.365656\n",
      "Epoch    9/20 \t hypothesis: tensor([153.1250, 183.9988, 174.6723, 197.4217, 140.3625]) \t Cost: 7.071114\n",
      "Epoch   10/20 \t hypothesis: tensor([153.5285, 184.4835, 175.1338, 197.9415, 140.7325]) \t Cost: 6.331847\n",
      "Epoch   11/20 \t hypothesis: tensor([153.7572, 184.7582, 175.3958, 198.2360, 140.9424]) \t Cost: 6.092532\n",
      "Epoch   12/20 \t hypothesis: tensor([153.8868, 184.9138, 175.5449, 198.4026, 141.0613]) \t Cost: 6.013817\n",
      "Epoch   13/20 \t hypothesis: tensor([153.9602, 185.0019, 175.6299, 198.4969, 141.1288]) \t Cost: 5.986785\n",
      "Epoch   14/20 \t hypothesis: tensor([154.0017, 185.0517, 175.6785, 198.5500, 141.1671]) \t Cost: 5.976325\n",
      "Epoch   15/20 \t hypothesis: tensor([154.0252, 185.0798, 175.7065, 198.5800, 141.1888]) \t Cost: 5.971208\n",
      "Epoch   16/20 \t hypothesis: tensor([154.0385, 185.0956, 175.7229, 198.5966, 141.2012]) \t Cost: 5.967835\n",
      "Epoch   17/20 \t hypothesis: tensor([154.0459, 185.1045, 175.7326, 198.6059, 141.2082]) \t Cost: 5.964969\n",
      "Epoch   18/20 \t hypothesis: tensor([154.0501, 185.1094, 175.7386, 198.6108, 141.2122]) \t Cost: 5.962291\n",
      "Epoch   19/20 \t hypothesis: tensor([154.0524, 185.1120, 175.7424, 198.6134, 141.2145]) \t Cost: 5.959664\n",
      "Epoch   20/20 \t hypothesis: tensor([154.0536, 185.1134, 175.7451, 198.6145, 141.2158]) \t Cost: 5.957089\n"
     ]
    }
   ],
   "source": [
    "# 모델 초기화\n",
    "W = torch.zeros((3,1), requires_grad = True)\n",
    "b = torch.zeros(1, requires_grad=True)\n",
    "\n",
    "# optimizer 설정\n",
    "optimizer = optim.SGD([W, b], lr = 1e-5)\n",
    "\n",
    "nb_epochs = 20\n",
    "for epoch in range(nb_epochs + 1) :\n",
    "    \n",
    "    # H(x) 계산\n",
    "    # 편향 b는 브로드 캐스팅되어 각 샘플에 더해진다.\n",
    "    hypothesis = x_train.matmul(W) + b\n",
    "    \n",
    "    # cost 계산\n",
    "    cost = torch.mean((hypothesis - y_train) ** 2)\n",
    "    \n",
    "    # cost로 H(x) 개선\n",
    "    optimizer.zero_grad()\n",
    "    cost.backward()\n",
    "    optimizer.step()\n",
    "    \n",
    "    print('Epoch {:4d}/{} \\t hypothesis: {} \\t Cost: {:.6f}'.format(epoch, nb_epochs, hypothesis.squeeze().detach(), cost.item()))"
   ]
  },
  {
   "attachments": {},
   "cell_type": "markdown",
   "metadata": {},
   "source": [
    "# nn.Module로 구현하는 선형 회귀"
   ]
  },
  {
   "cell_type": "code",
   "execution_count": 42,
   "metadata": {},
   "outputs": [],
   "source": [
    "import torch\n",
    "import torch.nn as nn\n",
    "import torch.nn.functional as F"
   ]
  },
  {
   "cell_type": "code",
   "execution_count": 43,
   "metadata": {},
   "outputs": [
    {
     "data": {
      "text/plain": [
       "<torch._C.Generator at 0x1c45cea4130>"
      ]
     },
     "execution_count": 43,
     "metadata": {},
     "output_type": "execute_result"
    }
   ],
   "source": [
    "torch.manual_seed(1)"
   ]
  },
  {
   "cell_type": "code",
   "execution_count": 44,
   "metadata": {},
   "outputs": [],
   "source": [
    "# 데이터\n",
    "x_train = torch.FloatTensor([[1], [2], [3]])\n",
    "y_train = torch.FloatTensor([[2], [4], [6]])"
   ]
  },
  {
   "cell_type": "code",
   "execution_count": 45,
   "metadata": {},
   "outputs": [],
   "source": [
    "# 모델을 선언 및 초기화. 단순 선형 회귀이므로 input_dim = 1, output_dim = 1\n",
    "# nn.Linear(input_dim, output_dim)\n",
    "model = nn.Linear(1,1)\n"
   ]
  },
  {
   "cell_type": "code",
   "execution_count": 46,
   "metadata": {},
   "outputs": [
    {
     "name": "stdout",
     "output_type": "stream",
     "text": [
      "[Parameter containing:\n",
      "tensor([[0.5153]], requires_grad=True), Parameter containing:\n",
      "tensor([-0.4414], requires_grad=True)]\n"
     ]
    }
   ],
   "source": [
    "print(list(model.parameters()))\n",
    "# 첫번째 값이 W 값\n",
    "# 두번째 값이 b 값\n",
    "# 두값 모두 학습의 대상이므로 requires_grad=True가 되어져 있는 것 확인"
   ]
  },
  {
   "cell_type": "code",
   "execution_count": 47,
   "metadata": {},
   "outputs": [],
   "source": [
    "# optimizer 설정. 경사 하강법 SGD를 사용하고 learning rate를 의미하는 lr은 0.01\n",
    "optimizer = torch.optim.SGD(model.parameters(), lr = 0.01)"
   ]
  },
  {
   "cell_type": "code",
   "execution_count": 48,
   "metadata": {},
   "outputs": [
    {
     "name": "stdout",
     "output_type": "stream",
     "text": [
      "Epoch    0 / 2000 \t Cost : 13.103541\n",
      "Epoch  100 / 2000 \t Cost : 0.002791\n",
      "Epoch  200 / 2000 \t Cost : 0.001724\n",
      "Epoch  300 / 2000 \t Cost : 0.001066\n",
      "Epoch  400 / 2000 \t Cost : 0.000658\n",
      "Epoch  500 / 2000 \t Cost : 0.000407\n",
      "Epoch  600 / 2000 \t Cost : 0.000251\n",
      "Epoch  700 / 2000 \t Cost : 0.000155\n",
      "Epoch  800 / 2000 \t Cost : 0.000096\n",
      "Epoch  900 / 2000 \t Cost : 0.000059\n",
      "Epoch 1000 / 2000 \t Cost : 0.000037\n",
      "Epoch 1100 / 2000 \t Cost : 0.000023\n",
      "Epoch 1200 / 2000 \t Cost : 0.000014\n",
      "Epoch 1300 / 2000 \t Cost : 0.000009\n",
      "Epoch 1400 / 2000 \t Cost : 0.000005\n",
      "Epoch 1500 / 2000 \t Cost : 0.000003\n",
      "Epoch 1600 / 2000 \t Cost : 0.000002\n",
      "Epoch 1700 / 2000 \t Cost : 0.000001\n",
      "Epoch 1800 / 2000 \t Cost : 0.000001\n",
      "Epoch 1900 / 2000 \t Cost : 0.000000\n",
      "Epoch 2000 / 2000 \t Cost : 0.000000\n"
     ]
    }
   ],
   "source": [
    "# 전체 훈련 데이터에 대해 경사 하강법을 2000회 반복\n",
    "\n",
    "nb_epochs = 2000\n",
    "for epoch in range(nb_epochs + 1) :\n",
    "    \n",
    "    # H(x) 계산\n",
    "    prediction = model(x_train)\n",
    "    \n",
    "    # cost 계산\n",
    "    cost = F.mse_loss(prediction, y_train) # <== 파이토치에서 제공하는 평균 제곱 오차 함수\n",
    "    \n",
    "    # cost로 H(x) 개선하는 부분\n",
    "    # gradient를 0으로 초기화\n",
    "    optimizer.zero_grad()\n",
    "    # 비용 함수를 미분하여 gradient 계산\n",
    "    cost.backward() # backward연산\n",
    "    # W와 b를 업데이트\n",
    "    optimizer.step()\n",
    "    \n",
    "    # 100번마다 로그 출력\n",
    "    if epoch % 100 == 0 :\n",
    "        print('Epoch {:4d} / {} \\t Cost : {:.6f}'.format(epoch, nb_epochs, cost.item()))"
   ]
  },
  {
   "cell_type": "code",
   "execution_count": 49,
   "metadata": {},
   "outputs": [
    {
     "name": "stdout",
     "output_type": "stream",
     "text": [
      "훈련 후 입력이 4일 때의 예측값 : tensor([[7.9989]], grad_fn=<AddmmBackward0>)\n"
     ]
    }
   ],
   "source": [
    "# 임의의 입력 5를 선언\n",
    "new_var = torch.FloatTensor([[4.0]])\n",
    "\n",
    "# 입력한 값 4에 대해서 예측값 y를 리턴받아서 pred_y에 저장\n",
    "pred_y = model(new_var) # forward연산\n",
    "# y = 2x 이므로 입력이 4라면 y가 8에 가까운 값이 나와야 제대로 학습이 된 것\n",
    "print('훈련 후 입력이 4일 때의 예측값 :', pred_y)"
   ]
  },
  {
   "cell_type": "code",
   "execution_count": 50,
   "metadata": {},
   "outputs": [
    {
     "name": "stdout",
     "output_type": "stream",
     "text": [
      "[Parameter containing:\n",
      "tensor([[1.9994]], requires_grad=True), Parameter containing:\n",
      "tensor([0.0014], requires_grad=True)]\n"
     ]
    }
   ],
   "source": [
    "print(list(model.parameters()))"
   ]
  },
  {
   "cell_type": "code",
   "execution_count": 51,
   "metadata": {},
   "outputs": [],
   "source": [
    "import torch \n",
    "import torch.nn as nn\n",
    "import torch.nn.functional as F"
   ]
  },
  {
   "cell_type": "code",
   "execution_count": 52,
   "metadata": {},
   "outputs": [
    {
     "data": {
      "text/plain": [
       "<torch._C.Generator at 0x1c45cea4130>"
      ]
     },
     "execution_count": 52,
     "metadata": {},
     "output_type": "execute_result"
    }
   ],
   "source": [
    "torch.manual_seed(1)"
   ]
  },
  {
   "cell_type": "code",
   "execution_count": 53,
   "metadata": {},
   "outputs": [],
   "source": [
    "# 데이터\n",
    "x_train = torch.FloatTensor([[73, 80, 75],\n",
    "                             [93, 88, 93],\n",
    "                             [89, 91, 90],\n",
    "                             [96, 98, 100],\n",
    "                             [73, 66, 70]])\n",
    "y_train = torch.FloatTensor([[152], [185], [180], [196], [142]])"
   ]
  },
  {
   "cell_type": "code",
   "execution_count": 55,
   "metadata": {},
   "outputs": [],
   "source": [
    "# 모델을 선언 및 초기화. 다중 선형 회귀이므로 input_dim = 3, output_dim = 1\n",
    "model =  nn.Linear(3, 1)"
   ]
  },
  {
   "cell_type": "code",
   "execution_count": 56,
   "metadata": {},
   "outputs": [
    {
     "name": "stdout",
     "output_type": "stream",
     "text": [
      "[Parameter containing:\n",
      "tensor([[ 0.2975, -0.2548, -0.1119]], requires_grad=True), Parameter containing:\n",
      "tensor([0.2710], requires_grad=True)]\n"
     ]
    }
   ],
   "source": [
    "print(list(model.parameters()))"
   ]
  },
  {
   "cell_type": "code",
   "execution_count": 57,
   "metadata": {},
   "outputs": [],
   "source": [
    "optimizer = torch.optim.SGD(model.parameters(), lr=1e-5)"
   ]
  },
  {
   "cell_type": "code",
   "execution_count": 58,
   "metadata": {},
   "outputs": [
    {
     "name": "stdout",
     "output_type": "stream",
     "text": [
      "Epoch    0/2000 \t Cost: 31667.599609\n",
      "Epoch  100/2000 \t Cost: 0.225993\n",
      "Epoch  200/2000 \t Cost: 0.223911\n",
      "Epoch  300/2000 \t Cost: 0.221941\n",
      "Epoch  400/2000 \t Cost: 0.220059\n",
      "Epoch  500/2000 \t Cost: 0.218271\n",
      "Epoch  600/2000 \t Cost: 0.216575\n",
      "Epoch  700/2000 \t Cost: 0.214950\n",
      "Epoch  800/2000 \t Cost: 0.213413\n",
      "Epoch  900/2000 \t Cost: 0.211952\n",
      "Epoch 1000/2000 \t Cost: 0.210559\n",
      "Epoch 1100/2000 \t Cost: 0.209230\n",
      "Epoch 1200/2000 \t Cost: 0.207967\n",
      "Epoch 1300/2000 \t Cost: 0.206762\n",
      "Epoch 1400/2000 \t Cost: 0.205618\n",
      "Epoch 1500/2000 \t Cost: 0.204529\n",
      "Epoch 1600/2000 \t Cost: 0.203481\n",
      "Epoch 1700/2000 \t Cost: 0.202486\n",
      "Epoch 1800/2000 \t Cost: 0.201539\n",
      "Epoch 1900/2000 \t Cost: 0.200634\n",
      "Epoch 2000/2000 \t Cost: 0.199770\n"
     ]
    }
   ],
   "source": [
    "nb_epochs = 2000\n",
    "for epoch in range(nb_epochs+1) :\n",
    "    \n",
    "    # H(x) 계산\n",
    "    prediction = model(x_train)\n",
    "    # model(x_train)은 model.forward(x_train)와 동일함.\n",
    "    \n",
    "    # cost 계산\n",
    "    cost = F.mse_loss(prediction, y_train) # <== 파이토치에서 제공하는 평균 제곱 오차 함수\n",
    "    \n",
    "    # cost로 H(x) 개선하는 부분\n",
    "    # gradient를 0으로 초기화\n",
    "    optimizer.zero_grad()\n",
    "    # 비용 함수를 미분하여 gradient계산\n",
    "    cost.backward()\n",
    "    # W와 b를 업데이트\n",
    "    optimizer.step()\n",
    "    \n",
    "    if epoch % 100 == 0 :\n",
    "        # 100번마다 로그 출력\n",
    "        print('Epoch {:4d}/{} \\t Cost: {:.6f}'.format(epoch, nb_epochs, cost.item()))"
   ]
  },
  {
   "cell_type": "code",
   "execution_count": 59,
   "metadata": {},
   "outputs": [
    {
     "name": "stdout",
     "output_type": "stream",
     "text": [
      "훈련 후 입력이 73, 80, 75일 때의 예측값 : tensor([[151.2306]], grad_fn=<AddmmBackward0>)\n"
     ]
    }
   ],
   "source": [
    "# 임의의 입력 [73, 80, 75]를 선언\n",
    "new_var = torch.FloatTensor([[73, 80, 75]])\n",
    "# 입력한 값[73, 80, 75]에 대해서 예측값 y를 리턴받아서 pred_y에 저장\n",
    "pred_y = model(new_var)\n",
    "print('훈련 후 입력이 73, 80, 75일 때의 예측값 :', pred_y)"
   ]
  },
  {
   "cell_type": "code",
   "execution_count": 60,
   "metadata": {},
   "outputs": [
    {
     "name": "stdout",
     "output_type": "stream",
     "text": [
      "[Parameter containing:\n",
      "tensor([[0.9778, 0.4539, 0.5768]], requires_grad=True), Parameter containing:\n",
      "tensor([0.2802], requires_grad=True)]\n"
     ]
    }
   ],
   "source": [
    "print(list(model.parameters()))"
   ]
  },
  {
   "attachments": {},
   "cell_type": "markdown",
   "metadata": {},
   "source": [
    "# 3-5 클래스로 파이토치 모델 구현하기"
   ]
  },
  {
   "cell_type": "code",
   "execution_count": 61,
   "metadata": {},
   "outputs": [],
   "source": [
    "# 모델을 선언 및 초기화. 단순 선형이므로 input_dim=1, output_dim=1\n",
    "model = nn.Linear(1, 1)"
   ]
  },
  {
   "cell_type": "code",
   "execution_count": null,
   "metadata": {},
   "outputs": [],
   "source": [
    "class LinearRegressionModel(nn.Module) :"
   ]
  }
 ],
 "metadata": {
  "kernelspec": {
   "display_name": "Python 3",
   "language": "python",
   "name": "python3"
  },
  "language_info": {
   "codemirror_mode": {
    "name": "ipython",
    "version": 3
   },
   "file_extension": ".py",
   "mimetype": "text/x-python",
   "name": "python",
   "nbconvert_exporter": "python",
   "pygments_lexer": "ipython3",
   "version": "3.9.13"
  },
  "orig_nbformat": 4
 },
 "nbformat": 4,
 "nbformat_minor": 2
}
