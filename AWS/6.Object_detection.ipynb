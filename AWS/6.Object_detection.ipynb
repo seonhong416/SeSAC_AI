{
 "cells": [
  {
   "attachments": {},
   "cell_type": "markdown",
   "metadata": {},
   "source": [
    "## 로컬에 있는 이미지 객체 인식"
   ]
  },
  {
   "cell_type": "code",
   "execution_count": 4,
   "metadata": {},
   "outputs": [
    {
     "data": {
      "text/plain": [
       "[{'Name': 'Animal',\n",
       "  'Confidence': 95.51139831542969,\n",
       "  'Instances': [],\n",
       "  'Parents': [],\n",
       "  'Aliases': [],\n",
       "  'Categories': [{'Name': 'Animals and Pets'}]},\n",
       " {'Name': 'Sea Life',\n",
       "  'Confidence': 95.51139831542969,\n",
       "  'Instances': [],\n",
       "  'Parents': [{'Name': 'Animal'}],\n",
       "  'Aliases': [],\n",
       "  'Categories': [{'Name': 'Animals and Pets'}]},\n",
       " {'Name': 'Invertebrate',\n",
       "  'Confidence': 89.27242279052734,\n",
       "  'Instances': [],\n",
       "  'Parents': [{'Name': 'Animal'}],\n",
       "  'Aliases': [],\n",
       "  'Categories': [{'Name': 'Animals and Pets'}]},\n",
       " {'Name': 'Jellyfish',\n",
       "  'Confidence': 89.27242279052734,\n",
       "  'Instances': [],\n",
       "  'Parents': [{'Name': 'Animal'},\n",
       "   {'Name': 'Invertebrate'},\n",
       "   {'Name': 'Sea Life'}],\n",
       "  'Aliases': [],\n",
       "  'Categories': [{'Name': 'Animals and Pets'}]},\n",
       " {'Name': 'Aquatic',\n",
       "  'Confidence': 87.78662872314453,\n",
       "  'Instances': [],\n",
       "  'Parents': [{'Name': 'Water'}],\n",
       "  'Aliases': [],\n",
       "  'Categories': [{'Name': 'Animals and Pets'}]},\n",
       " {'Name': 'Water',\n",
       "  'Confidence': 87.78662872314453,\n",
       "  'Instances': [],\n",
       "  'Parents': [],\n",
       "  'Aliases': [],\n",
       "  'Categories': [{'Name': 'Nature and Outdoors'}]},\n",
       " {'Name': 'Insect',\n",
       "  'Confidence': 72.4620132446289,\n",
       "  'Instances': [{'BoundingBox': {'Width': 0.46686598658561707,\n",
       "     'Height': 0.5652475953102112,\n",
       "     'Left': 0.26584523916244507,\n",
       "     'Top': 0.25424468517303467},\n",
       "    'Confidence': 72.4620132446289}],\n",
       "  'Parents': [{'Name': 'Animal'}, {'Name': 'Invertebrate'}],\n",
       "  'Aliases': [],\n",
       "  'Categories': [{'Name': 'Animals and Pets'}]},\n",
       " {'Name': 'Outdoors',\n",
       "  'Confidence': 71.27171325683594,\n",
       "  'Instances': [],\n",
       "  'Parents': [],\n",
       "  'Aliases': [],\n",
       "  'Categories': [{'Name': 'Nature and Outdoors'}]},\n",
       " {'Name': 'Nature',\n",
       "  'Confidence': 62.16446304321289,\n",
       "  'Instances': [],\n",
       "  'Parents': [{'Name': 'Outdoors'}],\n",
       "  'Aliases': [],\n",
       "  'Categories': [{'Name': 'Nature and Outdoors'}]},\n",
       " {'Name': 'Reef',\n",
       "  'Confidence': 55.77022933959961,\n",
       "  'Instances': [],\n",
       "  'Parents': [{'Name': 'Animal'},\n",
       "   {'Name': 'Nature'},\n",
       "   {'Name': 'Outdoors'},\n",
       "   {'Name': 'Sea'},\n",
       "   {'Name': 'Sea Life'},\n",
       "   {'Name': 'Water'}],\n",
       "  'Aliases': [],\n",
       "  'Categories': [{'Name': 'Animals and Pets'}]},\n",
       " {'Name': 'Sea',\n",
       "  'Confidence': 55.77022933959961,\n",
       "  'Instances': [],\n",
       "  'Parents': [{'Name': 'Nature'}, {'Name': 'Outdoors'}, {'Name': 'Water'}],\n",
       "  'Aliases': [{'Name': 'Ocean'}],\n",
       "  'Categories': [{'Name': 'Nature and Outdoors'}]}]"
      ]
     },
     "execution_count": 4,
     "metadata": {},
     "output_type": "execute_result"
    }
   ],
   "source": [
    "import boto3\n",
    "import json\n",
    "\n",
    "client = boto3.client('rekognition',region_name='ap-northeast-2')\n",
    "\n",
    "# 해파리 인식\n",
    "# 본 파일(.ipynb)와 같은 위치에 이미지 파일 놓을것!\n",
    "\n",
    "with open('jellyfish.jpg','rb') as image_file:\n",
    "    bytes_data = image_file.read() #바이트로 읽을 것\n",
    "\n",
    "response = client.detect_labels(Image={'Bytes':bytes_data}) #내부적으로 Base64로 인코딩을 하므로 바이트 데이터로 전달해야함\n",
    "# print(json.dumps(response,indent=2))\n",
    "response"
   ]
  },
  {
   "cell_type": "code",
   "execution_count": 6,
   "metadata": {},
   "outputs": [
    {
     "name": "stdout",
     "output_type": "stream",
     "text": [
      "\n",
      "==== 객체 인식 결과 =====\n",
      "Animal:95.51139831542969\n",
      "Sea Life:95.51139831542969\n",
      "Invertebrate:89.27242279052734\n",
      "Jellyfish:89.27242279052734\n",
      "Aquatic:87.78662872314453\n",
      "Water:87.78662872314453\n",
      "Insect:72.4620132446289\n",
      "Outdoors:71.27171325683594\n",
      "Nature:62.16446304321289\n",
      "Reef:55.77022933959961\n",
      "Sea:55.77022933959961\n"
     ]
    }
   ],
   "source": [
    "print(f\"\\n==== 객체 인식 결과 =====\")\n",
    "for item in response['Labels']:\n",
    "    name = item['Name']\n",
    "    confidence = item['Confidence'] #신뢰도\n",
    "    print(f'{name}:{confidence}')"
   ]
  },
  {
   "attachments": {},
   "cell_type": "markdown",
   "metadata": {},
   "source": [
    "## S3에 있는 이미지로 객체인식"
   ]
  },
  {
   "attachments": {},
   "cell_type": "markdown",
   "metadata": {},
   "source": [
    "### S3에 있는 객체 가져오기"
   ]
  },
  {
   "cell_type": "code",
   "execution_count": 29,
   "metadata": {},
   "outputs": [
    {
     "data": {
      "text/plain": [
       "[{'Name': 'aws-12012',\n",
       "  'CreationDate': datetime.datetime(2023, 4, 4, 0, 54, 45, tzinfo=tzutc())},\n",
       " {'Name': 'aws-stu11',\n",
       "  'CreationDate': datetime.datetime(2023, 4, 4, 1, 23, 43, tzinfo=tzutc())},\n",
       " {'Name': 'aws.ai.bucket17',\n",
       "  'CreationDate': datetime.datetime(2023, 4, 4, 0, 49, 57, tzinfo=tzutc())},\n",
       " {'Name': 'aws.ai.sesac.bucket',\n",
       "  'CreationDate': datetime.datetime(2023, 4, 3, 8, 33, 1, tzinfo=tzutc())},\n",
       " {'Name': 'aws.ai.sesac.expert.callsign.mvrick',\n",
       "  'CreationDate': datetime.datetime(2023, 4, 3, 8, 33, 11, tzinfo=tzutc())},\n",
       " {'Name': 'aws.ai.sesac.hayul.bucket',\n",
       "  'CreationDate': datetime.datetime(2023, 4, 3, 8, 34, 30, tzinfo=tzutc())},\n",
       " {'Name': 'aws.ai.sesac.j',\n",
       "  'CreationDate': datetime.datetime(2023, 4, 3, 8, 33, 28, tzinfo=tzutc())},\n",
       " {'Name': 'aws.ai.sesac.j2',\n",
       "  'CreationDate': datetime.datetime(2023, 4, 4, 0, 59, 37, tzinfo=tzutc())},\n",
       " {'Name': 'aws.ai.sesac.stu.bucket',\n",
       "  'CreationDate': datetime.datetime(2023, 4, 3, 8, 33, 20, tzinfo=tzutc())},\n",
       " {'Name': 'aws.ai.sesac7',\n",
       "  'CreationDate': datetime.datetime(2023, 4, 3, 8, 33, 1, tzinfo=tzutc())},\n",
       " {'Name': 'aws.ai.ssbucket',\n",
       "  'CreationDate': datetime.datetime(2023, 4, 3, 8, 32, 59, tzinfo=tzutc())},\n",
       " {'Name': 'aws.ai.ssbucket16',\n",
       "  'CreationDate': datetime.datetime(2023, 4, 3, 8, 33, tzinfo=tzutc())},\n",
       " {'Name': 'aws.ai.yb',\n",
       "  'CreationDate': datetime.datetime(2023, 4, 3, 8, 32, 57, tzinfo=tzutc())},\n",
       " {'Name': 'elasticbeanstalk-ap-northeast-2-446431821573',\n",
       "  'CreationDate': datetime.datetime(2023, 4, 3, 13, 59, 53, tzinfo=tzutc())},\n",
       " {'Name': 'nana01',\n",
       "  'CreationDate': datetime.datetime(2023, 4, 3, 8, 33, 37, tzinfo=tzutc())},\n",
       " {'Name': 'sacsac',\n",
       "  'CreationDate': datetime.datetime(2023, 4, 3, 8, 58, 22, tzinfo=tzutc())},\n",
       " {'Name': 'sesac-aws-ai',\n",
       "  'CreationDate': datetime.datetime(2023, 4, 3, 8, 34, tzinfo=tzutc())},\n",
       " {'Name': 'sesac.ai.aws.stu14',\n",
       "  'CreationDate': datetime.datetime(2023, 4, 4, 1, 38, 20, tzinfo=tzutc())},\n",
       " {'Name': 'sesac.aws.0404',\n",
       "  'CreationDate': datetime.datetime(2023, 4, 4, 1, 36, 36, tzinfo=tzutc())},\n",
       " {'Name': 'sesac05',\n",
       "  'CreationDate': datetime.datetime(2023, 4, 3, 8, 34, 2, tzinfo=tzutc())},\n",
       " {'Name': 'sesacseok',\n",
       "  'CreationDate': datetime.datetime(2023, 4, 3, 8, 33, 42, tzinfo=tzutc())},\n",
       " {'Name': 'stu13aws',\n",
       "  'CreationDate': datetime.datetime(2023, 4, 4, 0, 51, 14, tzinfo=tzutc())}]"
      ]
     },
     "execution_count": 29,
     "metadata": {},
     "output_type": "execute_result"
    }
   ],
   "source": [
    "# S3안에 있는 버킷리스트\n",
    "import boto3\n",
    "client = boto3.client('s3', region_name='ap-northeast-2')\n",
    "client.list_buckets()['Buckets']"
   ]
  },
  {
   "cell_type": "code",
   "execution_count": 9,
   "metadata": {},
   "outputs": [
    {
     "data": {
      "text/plain": [
       "{'ResponseMetadata': {'RequestId': '9E6A4ZCQR0338RME',\n",
       "  'HostId': '24NCzsCj4DWmQi1W/lsGz83AKrjfOhKVwsRbAiQYJenwQky1sRVJrSChyo1is8pXs3bfR+J30B7Qs51qncALHA==',\n",
       "  'HTTPStatusCode': 200,\n",
       "  'HTTPHeaders': {'x-amz-id-2': '24NCzsCj4DWmQi1W/lsGz83AKrjfOhKVwsRbAiQYJenwQky1sRVJrSChyo1is8pXs3bfR+J30B7Qs51qncALHA==',\n",
       "   'x-amz-request-id': '9E6A4ZCQR0338RME',\n",
       "   'date': 'Tue, 04 Apr 2023 03:20:15 GMT',\n",
       "   'x-amz-bucket-region': 'ap-northeast-2',\n",
       "   'content-type': 'application/xml',\n",
       "   'transfer-encoding': 'chunked',\n",
       "   'server': 'AmazonS3'},\n",
       "  'RetryAttempts': 0},\n",
       " 'IsTruncated': False,\n",
       " 'Contents': [{'Key': 'jellyfish.jpg',\n",
       "   'LastModified': datetime.datetime(2023, 4, 4, 3, 20, 5, tzinfo=tzutc()),\n",
       "   'ETag': '\"c3d0494f96df53f641c8312458e7d8bd\"',\n",
       "   'Size': 70860,\n",
       "   'StorageClass': 'STANDARD'},\n",
       "  {'Key': 'shark.jpg',\n",
       "   'LastModified': datetime.datetime(2023, 4, 4, 3, 20, 5, tzinfo=tzutc()),\n",
       "   'ETag': '\"6068c5962fa871c658fe89bd217891af\"',\n",
       "   'Size': 33334,\n",
       "   'StorageClass': 'STANDARD'},\n",
       "  {'Key': 'simple-document-image.jpg',\n",
       "   'LastModified': datetime.datetime(2023, 4, 3, 8, 35, 46, tzinfo=tzutc()),\n",
       "   'ETag': '\"211685acc1cdb03fe2c048726736242b\"',\n",
       "   'Size': 155658,\n",
       "   'StorageClass': 'STANDARD'}],\n",
       " 'Name': 'sesac05',\n",
       " 'Prefix': '',\n",
       " 'MaxKeys': 1000,\n",
       " 'EncodingType': 'url',\n",
       " 'KeyCount': 3}"
      ]
     },
     "execution_count": 9,
     "metadata": {},
     "output_type": "execute_result"
    }
   ],
   "source": [
    "# S3안에 있는 파일리스트\n",
    "import boto3\n",
    "buck = boto3.client('s3', region_name='ap-northeast-2')\n",
    "response = buck.list_objects_v2(Bucket='sesac05')\n",
    "response"
   ]
  },
  {
   "cell_type": "code",
   "execution_count": 10,
   "metadata": {},
   "outputs": [
    {
     "data": {
      "text/plain": [
       "[{'Key': 'jellyfish.jpg',\n",
       "  'LastModified': datetime.datetime(2023, 4, 4, 3, 20, 5, tzinfo=tzutc()),\n",
       "  'ETag': '\"c3d0494f96df53f641c8312458e7d8bd\"',\n",
       "  'Size': 70860,\n",
       "  'StorageClass': 'STANDARD'},\n",
       " {'Key': 'shark.jpg',\n",
       "  'LastModified': datetime.datetime(2023, 4, 4, 3, 20, 5, tzinfo=tzutc()),\n",
       "  'ETag': '\"6068c5962fa871c658fe89bd217891af\"',\n",
       "  'Size': 33334,\n",
       "  'StorageClass': 'STANDARD'},\n",
       " {'Key': 'simple-document-image.jpg',\n",
       "  'LastModified': datetime.datetime(2023, 4, 3, 8, 35, 46, tzinfo=tzutc()),\n",
       "  'ETag': '\"211685acc1cdb03fe2c048726736242b\"',\n",
       "  'Size': 155658,\n",
       "  'StorageClass': 'STANDARD'}]"
      ]
     },
     "execution_count": 10,
     "metadata": {},
     "output_type": "execute_result"
    }
   ],
   "source": [
    "response['Contents']"
   ]
  },
  {
   "cell_type": "code",
   "execution_count": 27,
   "metadata": {},
   "outputs": [
    {
     "name": "stdout",
     "output_type": "stream",
     "text": [
      "shark.jpg\n"
     ]
    }
   ],
   "source": [
    "import boto3\n",
    "import random\n",
    "\n",
    "# 버킷이름 지정\n",
    "BUCK_NAME = 'sesac05'\n",
    "\n",
    "# 파일리스트 가져오기\n",
    "\n",
    "buck = boto3.client('s3', region_name='ap-northeast-2')\n",
    "response = buck.list_objects_v2(Bucket=BUCK_NAME)\n",
    "\n",
    "# 랜덤으로 한개의 파일을 선택\n",
    "\n",
    "file_list = response['Contents']\n",
    "file_names = [i['Key'] for i in response['Contents']]\n",
    "# file = random.choice(file_list)\n",
    "fname = random.choice(file_names)\n",
    "\n",
    "# 선택된 파일 이름 출력\n",
    "# print(file['Key'])\n",
    "print(fname)"
   ]
  },
  {
   "cell_type": "code",
   "execution_count": null,
   "metadata": {},
   "outputs": [],
   "source": []
  }
 ],
 "metadata": {
  "kernelspec": {
   "display_name": "venv_ObjectDetection",
   "language": "python",
   "name": "python3"
  },
  "language_info": {
   "codemirror_mode": {
    "name": "ipython",
    "version": 3
   },
   "file_extension": ".py",
   "mimetype": "text/x-python",
   "name": "python",
   "nbconvert_exporter": "python",
   "pygments_lexer": "ipython3",
   "version": "3.9.13"
  },
  "orig_nbformat": 4,
  "vscode": {
   "interpreter": {
    "hash": "8edbb3a0b2d9a9392ce73ffacdab97bedce96d68807472c5209f5908c9f3dc26"
   }
  }
 },
 "nbformat": 4,
 "nbformat_minor": 2
}
